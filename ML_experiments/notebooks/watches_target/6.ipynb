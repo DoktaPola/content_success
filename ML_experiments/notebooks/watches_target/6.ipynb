{
 "cells": [
  {
   "cell_type": "code",
   "execution_count": null,
   "id": "2763b17b-417e-4445-8e10-e7d3f97d5e62",
   "metadata": {},
   "outputs": [],
   "source": [
    "import pickle\n",
    "import numpy as np"
   ]
  },
  {
   "cell_type": "code",
   "execution_count": null,
   "id": "62928b6d-f733-440c-aa5f-d67122d00d42",
   "metadata": {},
   "outputs": [
    {
     "name": "stdout",
     "output_type": "stream",
     "text": [
      "/home/jovyan/work/cold_start_models\n"
     ]
    }
   ],
   "source": [
    "!pwd"
   ]
  },
  {
   "cell_type": "code",
   "execution_count": null,
   "id": "1cca7608-19c2-4394-8690-dcb2ee591a35",
   "metadata": {},
   "outputs": [],
   "source": [
    "with open('/home/jovyan/work/cold_start_models/catalogue_kp_only_with_data.pkl', 'rb') as f:\n",
    "    df = pickle.load(f)"
   ]
  },
  {
   "cell_type": "code",
   "execution_count": null,
   "id": "3bcde588-ed5a-4263-99ae-70afe9c8cc03",
   "metadata": {},
   "outputs": [],
   "source": [
    "df.to_csv('catalogue_kp_only_with_data.csv')"
   ]
  },
  {
   "cell_type": "code",
   "execution_count": null,
   "id": "cfdcc261-4c49-4281-860d-de0f10c052fc",
   "metadata": {},
   "outputs": [
    {
     "name": "stdout",
     "output_type": "stream",
     "text": [
      "<class 'pandas.core.frame.DataFrame'>\n",
      "RangeIndex: 2483 entries, 0 to 2482\n",
      "Data columns (total 20 columns):\n",
      " #   Column                   Non-Null Count  Dtype  \n",
      "---  ------                   --------------  -----  \n",
      " 0   unified_element_uid      2483 non-null   object \n",
      " 1   actor                    2483 non-null   object \n",
      " 2   age_restriction_aliases  2483 non-null   object \n",
      " 3   age_access_type          2483 non-null   int64  \n",
      " 4   country                  2483 non-null   object \n",
      " 5   box_office_worldwide     2483 non-null   int64  \n",
      " 6   average_rating           2483 non-null   float64\n",
      " 7   box_office_russia        2483 non-null   int64  \n",
      " 8   duration                 2483 non-null   int64  \n",
      " 9   type                     2483 non-null   object \n",
      " 10  name                     2483 non-null   object \n",
      " 11  alias                    2483 non-null   object \n",
      " 12  release_type             2483 non-null   object \n",
      " 13  release_year             2483 non-null   int64  \n",
      " 14  budget                   2483 non-null   int64  \n",
      " 15  digital_uid              2483 non-null   int64  \n",
      " 16  genre                    2483 non-null   object \n",
      " 17  director                 2483 non-null   object \n",
      " 18  kinopoiskid              2483 non-null   int32  \n",
      " 19  primary_data             2483 non-null   object \n",
      "dtypes: float64(1), int32(1), int64(7), object(11)\n",
      "memory usage: 378.4+ KB\n"
     ]
    }
   ],
   "source": [
    "df.info()"
   ]
  },
  {
   "cell_type": "code",
   "execution_count": null,
   "id": "5e3a1ec2-e48f-4716-acc2-c65ffed811e0",
   "metadata": {},
   "outputs": [],
   "source": [
    "df.replace(-1, np.nan, inplace=True)"
   ]
  },
  {
   "cell_type": "code",
   "execution_count": null,
   "id": "f78919cd-2b13-4807-93d7-8c868242e697",
   "metadata": {},
   "outputs": [
    {
     "data": {
      "text/plain": [
       "unified_element_uid           0\n",
       "actor                         0\n",
       "age_restriction_aliases    1906\n",
       "age_access_type               0\n",
       "country                       0\n",
       "box_office_worldwide       2482\n",
       "average_rating              136\n",
       "box_office_russia          2483\n",
       "duration                      0\n",
       "type                          0\n",
       "name                          0\n",
       "alias                         0\n",
       "release_type                  0\n",
       "release_year                  0\n",
       "budget                     2400\n",
       "digital_uid                   0\n",
       "genre                         0\n",
       "director                      0\n",
       "kinopoiskid                   0\n",
       "primary_data                  0\n",
       "dtype: int64"
      ]
     },
     "execution_count": 10,
     "metadata": {},
     "output_type": "execute_result"
    }
   ],
   "source": [
    "df.isnull().sum()"
   ]
  },
  {
   "cell_type": "code",
   "execution_count": null,
   "id": "cd7a2864-1507-4c37-80e9-ef966bec42dc",
   "metadata": {},
   "outputs": [
    {
     "data": {
      "text/plain": [
       "\"{'kinopoisk_id': 255129, 'imdb_id': 'tt0796366', 'name_ru': 'Звездный путь', 'name_en': None, 'name_original': 'Star Trek', 'poster_url': 'https://kinopoiskapiunofficial.tech/images/posters/kp/255129.jpg', 'poster_url_preview': 'https://kinopoiskapiunofficial.tech/images/posters/kp_small/255129.jpg', 'reviews_count': 323, 'rating_good_review': 84.0, 'rating_good_review_vote_count': 244, 'rating_kinopoisk': 7.8, 'rating_kinopoisk_vote_count': 189181, 'rating_imdb': 7.9, 'rating_imdb_vote_count': 602806, 'rating_film_critics': 8.1, 'rating_film_critics_vote_count': 355, 'rating_await': None, 'rating_await_count': 3, 'rating_rf_critics': 100.0, 'rating_rf_critics_vote_count': 7, 'year': 2009, 'film_length': 127, 'is_tickets_available': False, 'production_status': None, 'type': <FilmType.FILM: 'FILM'>, 'has_imax': False, 'has_3_d': False, 'countries': [Country(country='США'), Country(country='Германия')], 'genres': [Genre(genre='фантастика'), Genre(genre='приключения'), Genre(genre='боевик')], 'start_year': None, 'end_year': None, 'cover_url': 'https://avatars.mds.yandex.net/get-ott/2385704/2a000001732e8f9109266f28c5e46e876cb2/orig', 'logo_url': 'https://avatars.mds.yandex.net/get-ott/1534341/2a000001732e8f1417e6ac4e0b1a49743e71/orig', 'web_url': 'https://www.kinopoisk.ru/film/255129/', 'slogan': 'Будущее начинается', 'description': 'Когда Нерон с планеты Ромул приходит из будущего, чтобы отомстить Федерации, конкуренты Кирк и Спок должны объединиться, чтобы не дать ему разрушить все, что им дорого. Во время этого будоражащего путешествия, наполненного эффектными боями, юмором и космическими угрозами, новоиспеченные члены команды военного корабля «Энтерпрайз» смело встретятся лицом к лицу с невообразимыми опасностями.', 'short_description': 'Капитан Кирк и ученый Спок объединяются, чтобы спасти галактику. Космический экшен, возродивший культовую сагу', 'editor_annotation': None, 'rating_mpaa': 'pg13', 'rating_age_limits': 'age16', 'last_sync': '2022-10-09T17:16:38.85952', 'serial': False, 'short_film': False, 'completed': False}\""
      ]
     },
     "execution_count": 15,
     "metadata": {},
     "output_type": "execute_result"
    }
   ],
   "source": [
    "df['primary_data'][0]"
   ]
  },
  {
   "cell_type": "code",
   "execution_count": null,
   "id": "4071b3ff-ebe1-40de-9069-5738d5c9c431",
   "metadata": {},
   "outputs": [],
   "source": []
  }
 ],
 "metadata": {
  "kernelspec": {
   "display_name": "Python 3 (ipykernel)",
   "language": "python",
   "name": "python3"
  },
  "language_info": {
   "codemirror_mode": {
    "name": "ipython",
    "version": 3
   },
   "file_extension": ".py",
   "mimetype": "text/x-python",
   "name": "python",
   "nbconvert_exporter": "python",
   "pygments_lexer": "ipython3",
   "version": "3.10.6"
  }
 },
 "nbformat": 4,
 "nbformat_minor": 5
}
