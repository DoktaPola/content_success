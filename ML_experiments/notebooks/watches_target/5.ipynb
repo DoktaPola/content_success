{
 "cells": [
  {
   "cell_type": "markdown",
   "id": "f0fea575-3ef6-4868-aa4a-aad512c29b73",
   "metadata": {
    "tags": []
   },
   "source": [
    "# Modeling"
   ]
  },
  {
   "cell_type": "code",
   "execution_count": 1,
   "id": "1decb0c1-4774-4c9c-af91-3cb685305855",
   "metadata": {},
   "outputs": [
    {
     "name": "stdout",
     "output_type": "stream",
     "text": [
      "/home/jovyan/work/cold_start_models\n"
     ]
    }
   ],
   "source": [
    "!pwd"
   ]
  },
  {
   "cell_type": "code",
   "execution_count": 34,
   "id": "f616490c-0140-417a-bac6-546ee4991824",
   "metadata": {},
   "outputs": [],
   "source": [
    "from sklearn import metrics\n",
    "import catboost as cat\n",
    "from catboost import CatBoostRegressor\n",
    "from sklearn.model_selection import RandomizedSearchCV\n",
    "from sklearn.metrics import mean_absolute_error as mae, r2_score as r2\n",
    "from scipy.stats import uniform, randint\n",
    "\n",
    "import pandas as pd\n",
    "import seaborn as sns\n",
    "import matplotlib.pyplot as plt\n",
    "import numpy as np\n",
    "import pickle\n",
    "from collections import Counter\n",
    "from sklearn.feature_extraction.text import TfidfVectorizer\n",
    "import numpy as np\n",
    "from sklearn.model_selection import train_test_split\n",
    "\n",
    "\n",
    "# warnings\n",
    "\n",
    "\n",
    "def mae(y_gt, Y_pr):\n",
    "    return metrics.mean_absolute_error(y_gt, Y_pr)\n",
    "\n",
    "def mse(y_gt, Y_pr):\n",
    "    return metrics.mean_squared_error(y_gt, Y_pr)\n",
    "\n",
    "def rmse(y_gt, Y_pr):\n",
    "    my_mse = mse(y_gt, Y_pr)\n",
    "    return np.sqrt(my_mse)\n",
    "\n",
    "def medae(y_gt, Y_pr):\n",
    "    return metrics.median_absolute_error(y_gt, Y_pr)\n",
    "\n",
    "def R2(y_gt, Y_pr):\n",
    "    return metrics.r2_score(y_gt, Y_pr)\n",
    "\n",
    "def calc_metrics(y_test, y_pred, X):\n",
    "\n",
    "    mse1 = mse(y_test, y_pred)\n",
    "\n",
    "    rmse1 = rmse(y_test, y_pred)\n",
    "\n",
    "    mae1 = mae(y_test, y_pred)\n",
    "\n",
    "    medae1 = medae(y_test, y_pred)\n",
    "\n",
    "    R21 = R2(y_test, y_pred)\n",
    "    \n",
    "    adj_r2 = 1 - (1-r2(y_test, y_pred)) * (len(y)-1)/(len(y)-X.shape[1]-1)\n",
    "\n",
    "    print('*** VAL **: ')\n",
    "    print(\"MSE:   {}\\nRMSE:  {}\\nR2:    {}\\nMAE:   {}\\nMedAE: {}\\nAdj_R2:  {}\".format(mse1, rmse1, R21, mae1, medae1, adj_r2))\n",
    "    print('-'*30)\n",
    "\n",
    "\n",
    "def get_importance(train_dataset, cat_model, title='Catboost feature importance', save_fig=False, file_name='cat_feature_importance.png'):\n",
    "    imp = cat_model.get_feature_importance(data=train_dataset)\n",
    "    fig, axes = plt.subplots(1, 1, figsize=(12, 8))\n",
    "    axes.barh(width=imp, y=cat_model.feature_names_)\n",
    "    axes.set_title(title)\n",
    "    if save_fig:\n",
    "        plt.savefig(file_name)\n",
    "    plt.show()\n",
    "    \n",
    "\n",
    "def draw_target_distr(y_test, y_pred, save_fig=False, file_name='cat_distribution'):\n",
    "    plt.figure(figsize=(12, 5))\n",
    "    sns.distplot(y_test)\n",
    "    sns.distplot(y_pred)\n",
    "    plt.legend(['test', 'pred'])\n",
    "    if save_fig:\n",
    "        plt.savefig(file_name)\n",
    "    plt.show()\n",
    "\n",
    "    \n",
    "def draw_residuals(y_test, y_pred, save_fig=False,\n",
    "                   file_name='cat_residuals.png'):\n",
    "    sns.residplot(x=y_test, y=y_pred)\n",
    "    if save_fig:\n",
    "        plt.savefig(file_name)\n",
    "    plt.show()\n",
    "    \n",
    "    \n",
    "class TargetTransformer:\n",
    "    def __init__(self, denominator=1):\n",
    "        self.scale = denominator\n",
    "        \n",
    "    def inverse_transform(self, feature):\n",
    "        return feature.apply(lambda x: np.expm1(x))\n",
    "    \n",
    "    def transform(self, feature):\n",
    "        return feature.apply(lambda x: np.log1p(x))\n",
    "    \n",
    "    \n",
    "def plotImp(model, X , num = 20):\n",
    "    feature_imp = pd.DataFrame({'Value':model.feature_importances_,'Feature':X.columns})\n",
    "    sns.barplot(x=\"Value\", y=\"Feature\", data=feature_imp.sort_values(by=\"Value\",\n",
    "                                                        ascending=False)[0:num])\n",
    "    plt.title('LightGBM Features (avg over folds)')\n",
    "    plt.show()"
   ]
  },
  {
   "cell_type": "code",
   "execution_count": 3,
   "id": "bdb3981f-3dc4-44dd-b4ec-1500a2a3d314",
   "metadata": {},
   "outputs": [],
   "source": [
    "with open('/home/jovyan/work/cold_start_models/dataset_2kp.pkl', 'rb') as f:\n",
    "    df_pr = pickle.load(f)"
   ]
  },
  {
   "cell_type": "code",
   "execution_count": 4,
   "id": "61a6d621-26db-400e-b115-2a5c9fd71421",
   "metadata": {},
   "outputs": [
    {
     "name": "stdout",
     "output_type": "stream",
     "text": [
      "<class 'pandas.core.frame.DataFrame'>\n",
      "Int64Index: 10017 entries, 0 to 10016\n",
      "Columns: 225 entries, name_x to war_movies\n",
      "dtypes: float64(221), object(4)\n",
      "memory usage: 17.3+ MB\n"
     ]
    }
   ],
   "source": [
    "df_pr.info()"
   ]
  },
  {
   "cell_type": "code",
   "execution_count": 5,
   "id": "845650fc-9c95-4e2f-941c-db0820aba851",
   "metadata": {},
   "outputs": [
    {
     "data": {
      "text/plain": [
       "Index(['name_x', 'age_access_type_x', 'duration_x', 'type_x', 'release_year_x',\n",
       "       'BUDGET', 'MARKETING', 'RUS', 'WORLD', 'target',\n",
       "       ...\n",
       "       'forkids', 'history', 'horror', 'humor', 'melodrama', 'music', 'sci-fi',\n",
       "       'sport', 'thriller', 'war_movies'],\n",
       "      dtype='object', length=225)"
      ]
     },
     "execution_count": 5,
     "metadata": {},
     "output_type": "execute_result"
    }
   ],
   "source": [
    "df_pr.columns"
   ]
  },
  {
   "cell_type": "markdown",
   "id": "c62a1ce6-9432-497d-ae9d-95b248269c71",
   "metadata": {},
   "source": [
    "# 5"
   ]
  },
  {
   "cell_type": "code",
   "execution_count": 24,
   "id": "6edb5394-65d6-4785-9fa0-9b1dc7d85cfe",
   "metadata": {},
   "outputs": [],
   "source": [
    "cat_features = ['type_x','age_access_type_x']\n",
    "num_features = [\n",
    " 'duration_x',\n",
    " 'BUDGET',\n",
    " 'MARKETING',\n",
    " 'RUS',\n",
    " 'WORLD',\n",
    " 'country_x_0',\n",
    " 'country_x_1',\n",
    " 'country_x_2',\n",
    " 'country_x_3',\n",
    " 'country_x_4',\n",
    " 'country_x_5',\n",
    " 'country_x_6',\n",
    " 'country_x_7',\n",
    " 'country_x_8',\n",
    " 'country_x_9',\n",
    " 'country_x_10',\n",
    " 'country_x_11',\n",
    " 'country_x_12',\n",
    " 'country_x_13',\n",
    " 'country_x_14',\n",
    " 'country_x_15',\n",
    " 'country_x_16',\n",
    " 'country_x_17',\n",
    " 'country_x_18',\n",
    " 'country_x_19',\n",
    " 'country_x_20',\n",
    " 'country_x_21',\n",
    " 'country_x_22',\n",
    " 'country_x_23',\n",
    " 'ACTOR_0',\n",
    " 'ACTOR_1',\n",
    " 'ACTOR_2',\n",
    " 'ACTOR_3',\n",
    " 'ACTOR_4',\n",
    " 'ACTOR_5',\n",
    " 'ACTOR_6',\n",
    " 'ACTOR_7',\n",
    " 'ACTOR_8',\n",
    " 'ACTOR_9',\n",
    " 'ACTOR_10',\n",
    " 'ACTOR_11',\n",
    " 'ACTOR_12',\n",
    " 'ACTOR_13',\n",
    " 'ACTOR_14',\n",
    " 'ACTOR_15',\n",
    " 'ACTOR_16',\n",
    " 'ACTOR_17',\n",
    " 'ACTOR_18',\n",
    " 'ACTOR_19',\n",
    " 'ACTOR_20',\n",
    " 'ACTOR_21',\n",
    " 'ACTOR_22',\n",
    " 'ACTOR_23',\n",
    " 'COMPOSER_0',\n",
    " 'COMPOSER_1',\n",
    " 'COMPOSER_2',\n",
    " 'COMPOSER_3',\n",
    " 'COMPOSER_4',\n",
    " 'COMPOSER_5',\n",
    " 'COMPOSER_6',\n",
    " 'COMPOSER_7',\n",
    " 'COMPOSER_8',\n",
    " 'COMPOSER_9',\n",
    " 'COMPOSER_10',\n",
    " 'COMPOSER_11',\n",
    " 'COMPOSER_12',\n",
    " 'COMPOSER_13',\n",
    " 'COMPOSER_14',\n",
    " 'COMPOSER_15',\n",
    " 'COMPOSER_16',\n",
    " 'COMPOSER_17',\n",
    " 'COMPOSER_18',\n",
    " 'COMPOSER_19',\n",
    " 'COMPOSER_20',\n",
    " 'COMPOSER_21',\n",
    " 'COMPOSER_22',\n",
    " 'COMPOSER_23',\n",
    " 'DIRECTOR_0',\n",
    " 'DIRECTOR_1',\n",
    " 'DIRECTOR_2',\n",
    " 'DIRECTOR_3',\n",
    " 'DIRECTOR_4',\n",
    " 'DIRECTOR_5',\n",
    " 'DIRECTOR_6',\n",
    " 'DIRECTOR_7',\n",
    " 'DIRECTOR_8',\n",
    " 'DIRECTOR_9',\n",
    " 'DIRECTOR_10',\n",
    " 'DIRECTOR_11',\n",
    " 'DIRECTOR_12',\n",
    " 'DIRECTOR_13',\n",
    " 'DIRECTOR_14',\n",
    " 'DIRECTOR_15',\n",
    " 'DIRECTOR_16',\n",
    " 'DIRECTOR_17',\n",
    " 'DIRECTOR_18',\n",
    " 'DIRECTOR_19',\n",
    " 'DIRECTOR_20',\n",
    " 'DIRECTOR_21',\n",
    " 'DIRECTOR_22',\n",
    " 'DIRECTOR_23',\n",
    " 'EDITOR_0',\n",
    " 'EDITOR_1',\n",
    " 'EDITOR_2',\n",
    " 'EDITOR_3',\n",
    " 'EDITOR_4',\n",
    " 'EDITOR_5',\n",
    " 'EDITOR_6',\n",
    " 'EDITOR_7',\n",
    " 'EDITOR_8',\n",
    " 'EDITOR_9',\n",
    " 'EDITOR_10',\n",
    " 'EDITOR_11',\n",
    " 'EDITOR_12',\n",
    " 'EDITOR_13',\n",
    " 'EDITOR_14',\n",
    " 'EDITOR_15',\n",
    " 'EDITOR_16',\n",
    " 'EDITOR_17',\n",
    " 'EDITOR_18',\n",
    " 'EDITOR_19',\n",
    " 'EDITOR_20',\n",
    " 'EDITOR_21',\n",
    " 'EDITOR_22',\n",
    " 'EDITOR_23',\n",
    " 'OPERATOR_0',\n",
    " 'OPERATOR_1',\n",
    " 'OPERATOR_2',\n",
    " 'OPERATOR_3',\n",
    " 'OPERATOR_4',\n",
    " 'OPERATOR_5',\n",
    " 'OPERATOR_6',\n",
    " 'OPERATOR_7',\n",
    " 'OPERATOR_8',\n",
    " 'OPERATOR_9',\n",
    " 'OPERATOR_10',\n",
    " 'OPERATOR_11',\n",
    " 'OPERATOR_12',\n",
    " 'OPERATOR_13',\n",
    " 'OPERATOR_14',\n",
    " 'OPERATOR_15',\n",
    " 'OPERATOR_16',\n",
    " 'OPERATOR_17',\n",
    " 'OPERATOR_18',\n",
    " 'OPERATOR_19',\n",
    " 'OPERATOR_20',\n",
    " 'OPERATOR_21',\n",
    " 'OPERATOR_22',\n",
    " 'OPERATOR_23',\n",
    " 'PRODUCER_0',\n",
    " 'PRODUCER_1',\n",
    " 'PRODUCER_2',\n",
    " 'PRODUCER_3',\n",
    " 'PRODUCER_4',\n",
    " 'PRODUCER_5',\n",
    " 'PRODUCER_6',\n",
    " 'PRODUCER_7',\n",
    " 'PRODUCER_8',\n",
    " 'PRODUCER_9',\n",
    " 'PRODUCER_10',\n",
    " 'PRODUCER_11',\n",
    " 'PRODUCER_12',\n",
    " 'PRODUCER_13',\n",
    " 'PRODUCER_14',\n",
    " 'PRODUCER_15',\n",
    " 'PRODUCER_16',\n",
    " 'PRODUCER_17',\n",
    " 'PRODUCER_18',\n",
    " 'PRODUCER_19',\n",
    " 'PRODUCER_20',\n",
    " 'PRODUCER_21',\n",
    " 'PRODUCER_22',\n",
    " 'PRODUCER_23',\n",
    " 'WRITER_0',\n",
    " 'WRITER_1',\n",
    " 'WRITER_2',\n",
    " 'WRITER_3',\n",
    " 'WRITER_4',\n",
    " 'WRITER_5',\n",
    " 'WRITER_6',\n",
    " 'WRITER_7',\n",
    " 'WRITER_8',\n",
    " 'WRITER_9',\n",
    " 'WRITER_10',\n",
    " 'WRITER_11',\n",
    " 'WRITER_12',\n",
    " 'WRITER_13',\n",
    " 'WRITER_14',\n",
    " 'WRITER_15',\n",
    " 'WRITER_16',\n",
    " 'WRITER_17',\n",
    " 'WRITER_18',\n",
    " 'WRITER_19',\n",
    " 'WRITER_20',\n",
    " 'WRITER_21',\n",
    " 'WRITER_22',\n",
    " 'WRITER_23',\n",
    " 'action',\n",
    " 'adventure',\n",
    " 'anime',\n",
    " 'biography',\n",
    " 'cartoons',\n",
    " 'comedy',\n",
    " 'crime',\n",
    " 'detective',\n",
    " 'documentary',\n",
    " 'drama',\n",
    " 'family',\n",
    " 'fantasy',\n",
    " 'forkids',\n",
    " 'history',\n",
    " 'horror',\n",
    " 'humor',\n",
    " 'melodrama',\n",
    " 'music',\n",
    " 'sci-fi',\n",
    " 'sport',\n",
    " 'thriller',\n",
    " 'war_movies']"
   ]
  },
  {
   "cell_type": "code",
   "execution_count": 11,
   "id": "73aaf8f6-4b9e-445f-afff-e8085565f0fa",
   "metadata": {},
   "outputs": [
    {
     "name": "stdout",
     "output_type": "stream",
     "text": [
      "<class 'pandas.core.frame.DataFrame'>\n",
      "Int64Index: 10017 entries, 0 to 10016\n",
      "Columns: 225 entries, name_x to war_movies\n",
      "dtypes: float64(221), object(4)\n",
      "memory usage: 17.3+ MB\n"
     ]
    }
   ],
   "source": [
    "df_pr.info()"
   ]
  },
  {
   "cell_type": "code",
   "execution_count": 25,
   "id": "80a2c627-66a9-4e03-92bf-639ec1a63ab7",
   "metadata": {},
   "outputs": [],
   "source": [
    "df_pr[num_features] = df_pr[num_features].astype(float)\n",
    "df_pr[cat_features] = df_pr[cat_features].astype('category')"
   ]
  },
  {
   "cell_type": "code",
   "execution_count": null,
   "id": "6540b712-bb69-437e-9edd-dc188b96a236",
   "metadata": {},
   "outputs": [],
   "source": []
  },
  {
   "cell_type": "code",
   "execution_count": 26,
   "id": "bd1b0b83-0d89-4c9c-922e-9ae27180f615",
   "metadata": {},
   "outputs": [
    {
     "name": "stderr",
     "output_type": "stream",
     "text": [
      "/tmp/ipykernel_220/2248617195.py:16: SettingWithCopyWarning: \n",
      "A value is trying to be set on a copy of a slice from a DataFrame\n",
      "\n",
      "See the caveats in the documentation: https://pandas.pydata.org/pandas-docs/stable/user_guide/indexing.html#returning-a-view-versus-a-copy\n",
      "  X_train.drop(orig_ids, axis=0, inplace=True)\n"
     ]
    },
    {
     "data": {
      "text/html": [
       "<div>\n",
       "<style scoped>\n",
       "    .dataframe tbody tr th:only-of-type {\n",
       "        vertical-align: middle;\n",
       "    }\n",
       "\n",
       "    .dataframe tbody tr th {\n",
       "        vertical-align: top;\n",
       "    }\n",
       "\n",
       "    .dataframe thead th {\n",
       "        text-align: right;\n",
       "    }\n",
       "</style>\n",
       "<table border=\"1\" class=\"dataframe\">\n",
       "  <thead>\n",
       "    <tr style=\"text-align: right;\">\n",
       "      <th></th>\n",
       "      <th>name_x</th>\n",
       "      <th>age_access_type_x</th>\n",
       "      <th>duration_x</th>\n",
       "      <th>type_x</th>\n",
       "      <th>release_year_x</th>\n",
       "      <th>BUDGET</th>\n",
       "      <th>MARKETING</th>\n",
       "      <th>RUS</th>\n",
       "      <th>WORLD</th>\n",
       "      <th>target</th>\n",
       "      <th>...</th>\n",
       "      <th>forkids</th>\n",
       "      <th>history</th>\n",
       "      <th>horror</th>\n",
       "      <th>humor</th>\n",
       "      <th>melodrama</th>\n",
       "      <th>music</th>\n",
       "      <th>sci-fi</th>\n",
       "      <th>sport</th>\n",
       "      <th>thriller</th>\n",
       "      <th>war_movies</th>\n",
       "    </tr>\n",
       "  </thead>\n",
       "  <tbody>\n",
       "    <tr>\n",
       "      <th>5995</th>\n",
       "      <td>Чикатило</td>\n",
       "      <td>18</td>\n",
       "      <td>49800000.0</td>\n",
       "      <td>SERIAL</td>\n",
       "      <td>2020.0</td>\n",
       "      <td>NaN</td>\n",
       "      <td>NaN</td>\n",
       "      <td>NaN</td>\n",
       "      <td>NaN</td>\n",
       "      <td>100978.0</td>\n",
       "      <td>...</td>\n",
       "      <td>0.0</td>\n",
       "      <td>0.0</td>\n",
       "      <td>0.0</td>\n",
       "      <td>0.0</td>\n",
       "      <td>0.0</td>\n",
       "      <td>0.0</td>\n",
       "      <td>0.0</td>\n",
       "      <td>0.0</td>\n",
       "      <td>0.451247</td>\n",
       "      <td>0.0</td>\n",
       "    </tr>\n",
       "    <tr>\n",
       "      <th>6290</th>\n",
       "      <td>Манюня</td>\n",
       "      <td>6</td>\n",
       "      <td>11640000.0</td>\n",
       "      <td>SERIAL</td>\n",
       "      <td>2021.0</td>\n",
       "      <td>NaN</td>\n",
       "      <td>NaN</td>\n",
       "      <td>NaN</td>\n",
       "      <td>NaN</td>\n",
       "      <td>57462.0</td>\n",
       "      <td>...</td>\n",
       "      <td>0.0</td>\n",
       "      <td>0.0</td>\n",
       "      <td>0.0</td>\n",
       "      <td>0.0</td>\n",
       "      <td>0.0</td>\n",
       "      <td>0.0</td>\n",
       "      <td>0.0</td>\n",
       "      <td>0.0</td>\n",
       "      <td>0.000000</td>\n",
       "      <td>0.0</td>\n",
       "    </tr>\n",
       "    <tr>\n",
       "      <th>6434</th>\n",
       "      <td>Оффлайн</td>\n",
       "      <td>18</td>\n",
       "      <td>30060000.0</td>\n",
       "      <td>SERIAL</td>\n",
       "      <td>2022.0</td>\n",
       "      <td>NaN</td>\n",
       "      <td>NaN</td>\n",
       "      <td>NaN</td>\n",
       "      <td>NaN</td>\n",
       "      <td>105171.0</td>\n",
       "      <td>...</td>\n",
       "      <td>0.0</td>\n",
       "      <td>0.0</td>\n",
       "      <td>0.0</td>\n",
       "      <td>0.0</td>\n",
       "      <td>0.0</td>\n",
       "      <td>0.0</td>\n",
       "      <td>0.0</td>\n",
       "      <td>0.0</td>\n",
       "      <td>0.537779</td>\n",
       "      <td>0.0</td>\n",
       "    </tr>\n",
       "  </tbody>\n",
       "</table>\n",
       "<p>3 rows × 225 columns</p>\n",
       "</div>"
      ],
      "text/plain": [
       "        name_x age_access_type_x  duration_x  type_x  release_year_x  BUDGET  \\\n",
       "5995  Чикатило                18  49800000.0  SERIAL          2020.0     NaN   \n",
       "6290    Манюня                 6  11640000.0  SERIAL          2021.0     NaN   \n",
       "6434   Оффлайн                18  30060000.0  SERIAL          2022.0     NaN   \n",
       "\n",
       "      MARKETING  RUS  WORLD    target  ... forkids  history  horror  humor  \\\n",
       "5995        NaN  NaN    NaN  100978.0  ...     0.0      0.0     0.0    0.0   \n",
       "6290        NaN  NaN    NaN   57462.0  ...     0.0      0.0     0.0    0.0   \n",
       "6434        NaN  NaN    NaN  105171.0  ...     0.0      0.0     0.0    0.0   \n",
       "\n",
       "      melodrama  music  sci-fi  sport  thriller  war_movies  \n",
       "5995        0.0    0.0     0.0    0.0  0.451247         0.0  \n",
       "6290        0.0    0.0     0.0    0.0  0.000000         0.0  \n",
       "6434        0.0    0.0     0.0    0.0  0.537779         0.0  \n",
       "\n",
       "[3 rows x 225 columns]"
      ]
     },
     "execution_count": 26,
     "metadata": {},
     "output_type": "execute_result"
    }
   ],
   "source": [
    "df_pr_short = df_pr[df_pr['target'] > 50]\n",
    "df_pr_short.index = range(len(df_pr_short))\n",
    "X, y = df_pr.drop(['target', 'release_year_x', 'name_x', 'uid'], axis=1), df_pr['target']\n",
    "\n",
    "X_train, X_test, y_train, y_test = X[df_pr['release_year_x'].astype(float) < 2022],  X[df_pr['release_year_x'].astype(float) >= 2022], y[df_pr['release_year_x'].astype(float) < 2022],  y[df_pr['release_year_x'].astype(float) >= 2022]\n",
    "# X_test, X_val, y_test, y_val = train_test_split(X_test, y_test, test_size=0.5, random_state=42, shuffle=True)\n",
    "\n",
    "\n",
    "origs = ['ee48def6-c311-4b73-a878-1a5d3d1679a3',\n",
    "'9b202b16-55bf-418a-b01d-9f0329b18790',\n",
    "'49a3d528-44c0-408e-b6fc-a1507ce7641a'\n",
    "        ]\n",
    "\n",
    "orig_ids = [7749, 8127, 8285]\n",
    "\n",
    "X_train.drop(orig_ids, axis=0, inplace=True)\n",
    "y_train.drop(orig_ids, axis=0, inplace=True)\n",
    "X_test = pd.concat([X_test, X.iloc[orig_ids, :]])\n",
    "y_test = pd.concat([y_test, y.iloc[orig_ids]])\n",
    "\n",
    "\n",
    "df_pr_short[df_pr_short['uid'].isin(origs)]"
   ]
  },
  {
   "cell_type": "code",
   "execution_count": 27,
   "id": "b5fbf885-8a13-41c8-88cb-ebd23ef34509",
   "metadata": {},
   "outputs": [
    {
     "data": {
      "text/plain": [
       "(6466, 225)"
      ]
     },
     "execution_count": 27,
     "metadata": {},
     "output_type": "execute_result"
    }
   ],
   "source": [
    "df_pr_short.shape"
   ]
  },
  {
   "cell_type": "code",
   "execution_count": 28,
   "id": "3229cbe7-526e-4476-a01d-c5d324ee9d90",
   "metadata": {},
   "outputs": [],
   "source": [
    "import lightgbm as lgb\n",
    "model_lgb = lgb.LGBMRegressor(objective='regression', metric='rmse')\n",
    "\n",
    "params = {\n",
    "   'num_leaves': randint(20, 3000) ,\n",
    "   'min_data_in_leaf': randint(3, 10),\n",
    "   'max_depth': randint(5, 15),\n",
    "   'n_estimators': randint(500, 10000),\n",
    "    'learning_rate': uniform(0.01, 0.5),\n",
    "}\n",
    "gsearch = RandomizedSearchCV(estimator=model_lgb, param_distributions=params, scoring='neg_mean_squared_error', cv=5, verbose=1, n_jobs=-1)"
   ]
  },
  {
   "cell_type": "code",
   "execution_count": 29,
   "id": "af08da94-34f3-4778-8101-cdbbb07211a3",
   "metadata": {},
   "outputs": [
    {
     "name": "stdout",
     "output_type": "stream",
     "text": [
      "Fitting 5 folds for each of 10 candidates, totalling 50 fits\n",
      "[LightGBM] [Warning] min_data_in_leaf is set=5, min_child_samples=20 will be ignored. Current value: min_data_in_leaf=5\n"
     ]
    },
    {
     "name": "stderr",
     "output_type": "stream",
     "text": [
      "/opt/conda/lib/python3.10/site-packages/joblib/externals/loky/process_executor.py:700: UserWarning: A worker stopped while some jobs were given to the executor. This can be caused by a too short worker timeout or by a memory leak.\n",
      "  warnings.warn(\n"
     ]
    },
    {
     "name": "stdout",
     "output_type": "stream",
     "text": [
      "[LightGBM] [Warning] min_data_in_leaf is set=5, min_child_samples=20 will be ignored. Current value: min_data_in_leaf=5\n",
      "[LightGBM] [Warning] min_data_in_leaf is set=5, min_child_samples=20 will be ignored. Current value: min_data_in_leaf=5\n",
      "[LightGBM] [Warning] min_data_in_leaf is set=5, min_child_samples=20 will be ignored. Current value: min_data_in_leaf=5\n",
      "[LightGBM] [Warning] min_data_in_leaf is set=5, min_child_samples=20 will be ignored. Current value: min_data_in_leaf=5\n",
      "[LightGBM] [Warning] min_data_in_leaf is set=5, min_child_samples=20 will be ignored. Current value: min_data_in_leaf=5\n",
      "[LightGBM] [Warning] min_data_in_leaf is set=5, min_child_samples=20 will be ignored. Current value: min_data_in_leaf=5\n",
      "[LightGBM] [Warning] min_data_in_leaf is set=9, min_child_samples=20 will be ignored. Current value: min_data_in_leaf=9\n",
      "[LightGBM] [Warning] min_data_in_leaf is set=5, min_child_samples=20 will be ignored. Current value: min_data_in_leaf=5\n",
      "[LightGBM] [Warning] min_data_in_leaf is set=9, min_child_samples=20 will be ignored. Current value: min_data_in_leaf=9\n",
      "[LightGBM] [Warning] min_data_in_leaf is set=5, min_child_samples=20 will be ignored. Current value: min_data_in_leaf=5\n",
      "[LightGBM] [Warning] min_data_in_leaf is set=9, min_child_samples=20 will be ignored. Current value: min_data_in_leaf=9\n",
      "[LightGBM] [Warning] min_data_in_leaf is set=9, min_child_samples=20 will be ignored. Current value: min_data_in_leaf=9\n",
      "[LightGBM] [Warning] min_data_in_leaf is set=5, min_child_samples=20 will be ignored. Current value: min_data_in_leaf=5\n",
      "[LightGBM] [Warning] min_data_in_leaf is set=5, min_child_samples=20 will be ignored. Current value: min_data_in_leaf=5\n",
      "[LightGBM] [Warning] min_data_in_leaf is set=7, min_child_samples=20 will be ignored. Current value: min_data_in_leaf=7\n",
      "[LightGBM] [Warning] min_data_in_leaf is set=5, min_child_samples=20 will be ignored. Current value: min_data_in_leaf=5\n",
      "[LightGBM] [Warning] min_data_in_leaf is set=7, min_child_samples=20 will be ignored. Current value: min_data_in_leaf=7\n",
      "[LightGBM] [Warning] min_data_in_leaf is set=7, min_child_samples=20 will be ignored. Current value: min_data_in_leaf=7\n",
      "[LightGBM] [Warning] min_data_in_leaf is set=6, min_child_samples=20 will be ignored. Current value: min_data_in_leaf=6\n",
      "[LightGBM] [Warning] min_data_in_leaf is set=6, min_child_samples=20 will be ignored. Current value: min_data_in_leaf=6\n",
      "[LightGBM] [Warning] min_data_in_leaf is set=6, min_child_samples=20 will be ignored. Current value: min_data_in_leaf=6\n",
      "[LightGBM] [Warning] min_data_in_leaf is set=6, min_child_samples=20 will be ignored. Current value: min_data_in_leaf=6\n",
      "[LightGBM] [Warning] min_data_in_leaf is set=6, min_child_samples=20 will be ignored. Current value: min_data_in_leaf=6\n",
      "[LightGBM] [Warning] min_data_in_leaf is set=6, min_child_samples=20 will be ignored. Current value: min_data_in_leaf=6\n",
      "[LightGBM] [Warning] min_data_in_leaf is set=5, min_child_samples=20 will be ignored. Current value: min_data_in_leaf=5\n",
      "[LightGBM] [Warning] min_data_in_leaf is set=6, min_child_samples=20 will be ignored. Current value: min_data_in_leaf=6\n",
      "[LightGBM] [Warning] min_data_in_leaf is set=6, min_child_samples=20 will be ignored. Current value: min_data_in_leaf=6\n",
      "[LightGBM] [Warning] min_data_in_leaf is set=9, min_child_samples=20 will be ignored. Current value: min_data_in_leaf=9\n",
      "[LightGBM] [Warning] min_data_in_leaf is set=6, min_child_samples=20 will be ignored. Current value: min_data_in_leaf=6\n",
      "[LightGBM] [Warning] min_data_in_leaf is set=6, min_child_samples=20 will be ignored. Current value: min_data_in_leaf=6\n",
      "[LightGBM] [Warning] min_data_in_leaf is set=7, min_child_samples=20 will be ignored. Current value: min_data_in_leaf=7\n",
      "[LightGBM] [Warning] min_data_in_leaf is set=7, min_child_samples=20 will be ignored. Current value: min_data_in_leaf=7\n",
      "[LightGBM] [Warning] min_data_in_leaf is set=6, min_child_samples=20 will be ignored. Current value: min_data_in_leaf=6\n",
      "[LightGBM] [Warning] min_data_in_leaf is set=7, min_child_samples=20 will be ignored. Current value: min_data_in_leaf=7\n",
      "[LightGBM] [Warning] min_data_in_leaf is set=6, min_child_samples=20 will be ignored. Current value: min_data_in_leaf=6\n",
      "[LightGBM] [Warning] min_data_in_leaf is set=5, min_child_samples=20 will be ignored. Current value: min_data_in_leaf=5\n",
      "[LightGBM] [Warning] min_data_in_leaf is set=5, min_child_samples=20 will be ignored. Current value: min_data_in_leaf=5\n",
      "[LightGBM] [Warning] min_data_in_leaf is set=6, min_child_samples=20 will be ignored. Current value: min_data_in_leaf=6\n",
      "[LightGBM] [Warning] min_data_in_leaf is set=7, min_child_samples=20 will be ignored. Current value: min_data_in_leaf=7\n",
      "[LightGBM] [Warning] min_data_in_leaf is set=5, min_child_samples=20 will be ignored. Current value: min_data_in_leaf=5\n",
      "[LightGBM] [Warning] min_data_in_leaf is set=7, min_child_samples=20 will be ignored. Current value: min_data_in_leaf=7\n",
      "[LightGBM] [Warning] min_data_in_leaf is set=7, min_child_samples=20 will be ignored. Current value: min_data_in_leaf=7\n",
      "[LightGBM] [Warning] min_data_in_leaf is set=6, min_child_samples=20 will be ignored. Current value: min_data_in_leaf=6\n",
      "[LightGBM] [Warning] min_data_in_leaf is set=7, min_child_samples=20 will be ignored. Current value: min_data_in_leaf=7\n",
      "[LightGBM] [Warning] min_data_in_leaf is set=6, min_child_samples=20 will be ignored. Current value: min_data_in_leaf=6\n",
      "[LightGBM] [Warning] min_data_in_leaf is set=6, min_child_samples=20 will be ignored. Current value: min_data_in_leaf=6\n",
      "[LightGBM] [Warning] min_data_in_leaf is set=5, min_child_samples=20 will be ignored. Current value: min_data_in_leaf=5\n"
     ]
    },
    {
     "data": {
      "text/plain": [
       "({'learning_rate': 0.17074586731990693,\n",
       "  'max_depth': 5,\n",
       "  'min_data_in_leaf': 6,\n",
       "  'n_estimators': 6433,\n",
       "  'num_leaves': 1452},\n",
       " -6228690.359849443)"
      ]
     },
     "execution_count": 29,
     "metadata": {},
     "output_type": "execute_result"
    },
    {
     "name": "stdout",
     "output_type": "stream",
     "text": [
      "[LightGBM] [Warning] min_data_in_leaf is set=5, min_child_samples=20 will be ignored. Current value: min_data_in_leaf=5\n",
      "[LightGBM] [Warning] min_data_in_leaf is set=5, min_child_samples=20 will be ignored. Current value: min_data_in_leaf=5\n",
      "[LightGBM] [Warning] min_data_in_leaf is set=5, min_child_samples=20 will be ignored. Current value: min_data_in_leaf=5\n"
     ]
    }
   ],
   "source": [
    "gsearch.fit(X_train, y_train)\n",
    "gsearch.best_params_, gsearch.best_score_"
   ]
  },
  {
   "cell_type": "code",
   "execution_count": 12,
   "id": "767125f2-86e2-4e08-a8c2-d72d020b0330",
   "metadata": {},
   "outputs": [],
   "source": [
    "# import sklearn\n",
    "# sklearn.metrics.get_scorer_names()"
   ]
  },
  {
   "cell_type": "code",
   "execution_count": 30,
   "id": "bd3de1ed-c64e-4401-a2b7-027c54701ef3",
   "metadata": {},
   "outputs": [],
   "source": [
    "model = gsearch.best_estimator_"
   ]
  },
  {
   "cell_type": "code",
   "execution_count": 31,
   "id": "5e6093f5-80a6-40f3-926e-4c41f6e08d83",
   "metadata": {},
   "outputs": [],
   "source": [
    "# with open('5', 'wb') as f:\n",
    "#     pickle.dump(model, f)\n",
    "\n",
    "# with open('5', 'rb') as f:\n",
    "#     model = pickle.load(f)"
   ]
  },
  {
   "cell_type": "code",
   "execution_count": 32,
   "id": "6df6321b-9de6-466c-b756-2825be25abab",
   "metadata": {},
   "outputs": [],
   "source": [
    "y_pred = model.predict(X_test)"
   ]
  },
  {
   "cell_type": "code",
   "execution_count": 35,
   "id": "ac8362aa-b85b-4595-b227-89a2d2cdcf5e",
   "metadata": {},
   "outputs": [
    {
     "name": "stdout",
     "output_type": "stream",
     "text": [
      "*** VAL **: \n",
      "MSE:   379188994.8411336\n",
      "RMSE:  19472.775735398733\n",
      "R2:    -0.1825681647727735\n",
      "MAE:   9443.75163408893\n",
      "MedAE: 2310.0840489007824\n",
      "Adj_R2:  -0.2092498967191525\n",
      "------------------------------\n"
     ]
    }
   ],
   "source": [
    "calc_metrics(y_test, y_pred, X)"
   ]
  },
  {
   "cell_type": "code",
   "execution_count": 36,
   "id": "7f1da001-f1f9-4001-b51b-02f125883949",
   "metadata": {},
   "outputs": [
    {
     "data": {
      "image/png": "[encoded data removed]",
      "text/plain": [
       "<Figure size 640x480 with 1 Axes>"
      ]
     },
     "metadata": {},
     "output_type": "display_data"
    }
   ],
   "source": [
    "plotImp(model, X , num = 20)"
   ]
  },
  {
   "cell_type": "code",
   "execution_count": 37,
   "id": "7391e206-ac6f-4dde-bf1a-83946e0a46df",
   "metadata": {},
   "outputs": [
    {
     "name": "stderr",
     "output_type": "stream",
     "text": [
      "/tmp/ipykernel_220/1279118071.py:69: UserWarning: \n",
      "\n",
      "`distplot` is a deprecated function and will be removed in seaborn v0.14.0.\n",
      "\n",
      "Please adapt your code to use either `displot` (a figure-level function with\n",
      "similar flexibility) or `histplot` (an axes-level function for histograms).\n",
      "\n",
      "For a guide to updating your code to use the new functions, please see\n",
      "https://gist.github.com/mwaskom/de44147ed2974457ad6372750bbe5751\n",
      "\n",
      "  sns.distplot(y_test)\n",
      "/tmp/ipykernel_220/1279118071.py:70: UserWarning: \n",
      "\n",
      "`distplot` is a deprecated function and will be removed in seaborn v0.14.0.\n",
      "\n",
      "Please adapt your code to use either `displot` (a figure-level function with\n",
      "similar flexibility) or `histplot` (an axes-level function for histograms).\n",
      "\n",
      "For a guide to updating your code to use the new functions, please see\n",
      "https://gist.github.com/mwaskom/de44147ed2974457ad6372750bbe5751\n",
      "\n",
      "  sns.distplot(y_pred)\n"
     ]
    },
    {
     "data": {
      "image/png": "[encoded data removed]",
      "text/plain": [
       "<Figure size 1200x500 with 1 Axes>"
      ]
     },
     "metadata": {},
     "output_type": "display_data"
    }
   ],
   "source": [
    "draw_target_distr(y_test, y_pred, save_fig=False, file_name='cat_distribution')"
   ]
  },
  {
   "cell_type": "code",
   "execution_count": 38,
   "id": "e5eeecf7-8475-464e-80d1-e6467bcb1a6b",
   "metadata": {},
   "outputs": [
    {
     "data": {
      "image/png": "[encoded data removed]",
      "text/plain": [
       "<Figure size 640x480 with 1 Axes>"
      ]
     },
     "metadata": {},
     "output_type": "display_data"
    }
   ],
   "source": [
    "draw_residuals(y_test, y_pred, save_fig=False)"
   ]
  },
  {
   "cell_type": "code",
   "execution_count": 39,
   "id": "24c1749a-3868-4ada-a6c0-db3e7e5b4ba6",
   "metadata": {},
   "outputs": [
    {
     "data": {
      "text/plain": [
       "10"
      ]
     },
     "execution_count": 39,
     "metadata": {},
     "output_type": "execute_result"
    }
   ],
   "source": [
    "len(y_pred[y_pred <= 0])"
   ]
  },
  {
   "cell_type": "markdown",
   "id": "20f93468-432e-4215-9f65-8978bfa8f19b",
   "metadata": {},
   "source": [
    "## 5_1 drop release year"
   ]
  },
  {
   "cell_type": "code",
   "execution_count": 51,
   "id": "93d90839-c91b-41be-8dfa-4a3694fc6df1",
   "metadata": {},
   "outputs": [],
   "source": [
    "cat_features = ['type', 'subscription_only',\n",
    "               'top10genre_Drama', 'top10genre_Comedy', 'top10genre_Thriller',\n",
    "               'top10genre_Action', 'top10genre_Melodrama', 'top10genre_Adventure',\n",
    "               'top10genre_287a1485-7a88-4c2f-bc94-ca418b6c47a1',\n",
    "               'top10genre_364fdc2e-bdfe-40be-b2c5-d30f43ec432e', 'top10genre_Family',\n",
    "               'top10genre_Sci-Fi', 'top10actor_d08bba89-e937-40f3-b2a7-7ea26de4c246',\n",
    "               'top10actor_fd401c6b-3e00-4f7f-aea7-5512df6b91e0',\n",
    "               'top10actor_5463b4bc-e332-415c-aca8-11c0f217a9eb',\n",
    "               'top10actor_5f3f6dc9-15fd-464f-91bc-b98c1e467f04',\n",
    "               'top10actor_bebdaaad-69e1-49c4-ab58-89fc9acafaad',\n",
    "               'top10actor_9703b641-2566-4e58-aebb-8d140805c0f3',\n",
    "               'top10actor_fbdae856-85b9-4d4a-96dd-cc383571a488',\n",
    "               'top10actor_dfd861c4-d2de-4bb6-bc6e-bae3f92a18a9',\n",
    "               'top10actor_488a47a6-b3e1-40b3-acca-9f605202a040',\n",
    "               'top10actor_3e94064c-14ef-4f11-9ada-50db5b806557',\n",
    "               'top3director_751aebbe-2d4d-4421-bace-d44b8e10c8eb',\n",
    "               'top3director_b5dd6805-5c41-467d-a417-84a7e463a5f6',\n",
    "               'top3director_f7ded2b9-7c98-47ab-bfc4-57fb60bf946c',\n",
    "               'top5country_751aebbe-2d4d-4421-bace-d44b8e10c8eb',\n",
    "               'top5country_b5dd6805-5c41-467d-a417-84a7e463a5f6',\n",
    "               'top5country_f7ded2b9-7c98-47ab-bfc4-57fb60bf946c', 'RENT', 'DTO',\n",
    "               'SUBSCRIPTION', 'AVOD']"
   ]
  },
  {
   "cell_type": "code",
   "execution_count": 52,
   "id": "d60d0d14-cc9c-4d55-8dc7-ab06691b39f9",
   "metadata": {},
   "outputs": [],
   "source": [
    "MULTIPLIER = 100\n",
    "\n",
    "X, y = df_pr.drop(['target', 'name', 'uid', 'release_year'], axis=1), df_pr['target'] * MULTIPLIER\n",
    "y = target_transformer.transform(y)"
   ]
  },
  {
   "cell_type": "code",
   "execution_count": 53,
   "id": "5997c39f-ba94-4735-beb6-c8572baf0b81",
   "metadata": {},
   "outputs": [
    {
     "name": "stderr",
     "output_type": "stream",
     "text": [
      "/opt/conda/lib/python3.10/site-packages/catboost/core.py:1325: FutureWarning: iteritems is deprecated and will be removed in a future version. Use .items instead.\n",
      "  self._init_pool(data, label, cat_features, text_features, embedding_features, pairs, weight,\n"
     ]
    }
   ],
   "source": [
    "X_train, X_test, y_train, y_test = train_test_split(X, y, test_size=0.1, random_state=42, shuffle=True)\n",
    "X_test, X_val, y_test, y_val = train_test_split(X_test, y_test, test_size=0.2, random_state=42, shuffle=True)\n",
    "train_dataset = cat.Pool(X_train, y_train,\n",
    "                         cat_features=cat_features,   \n",
    "                        ) \n",
    "test_dataset = cat.Pool(X_test, y_test,\n",
    "                         cat_features=cat_features,\n",
    "                       )\n",
    "val_dataset = cat.Pool(X_val, y_val,\n",
    "                       cat_features=cat_features,\n",
    "                      )"
   ]
  },
  {
   "cell_type": "code",
   "execution_count": 54,
   "id": "a0e592e8-7559-4b09-9af2-9fa9bdf74abc",
   "metadata": {},
   "outputs": [],
   "source": [
    "import lightgbm as lgb\n",
    "### We can create a sklearn model of lgb, using the one selected above (learning rate, number of evaluators)\n",
    "model_lgb = lgb.LGBMRegressor(objective='regression', metric='rmse')\n",
    "\n",
    "params = {\n",
    "   'num_leaves': randint(20, 3000) ,\n",
    "   'min_data_in_leaf': randint(3, 10),\n",
    "   'max_depth': randint(5, 15),\n",
    "   'n_estimators': randint(500, 10000),\n",
    "    'learning_rate': uniform(0.01, 0.5),\n",
    "}\n",
    "gsearch1 = RandomizedSearchCV(estimator=model_lgb, param_distributions=params, scoring='neg_mean_squared_error', cv=5, verbose=1, n_jobs=-1)"
   ]
  },
  {
   "cell_type": "code",
   "execution_count": 55,
   "id": "6e94c77e-5087-421d-9f11-391d740f9c6f",
   "metadata": {},
   "outputs": [
    {
     "name": "stdout",
     "output_type": "stream",
     "text": [
      "Fitting 5 folds for each of 10 candidates, totalling 50 fits\n",
      "[LightGBM] [Warning] min_data_in_leaf is set=9, min_child_samples=20 will be ignored. Current value: min_data_in_leaf=9\n",
      "[LightGBM] [Warning] min_data_in_leaf is set=8, min_child_samples=20 will be ignored. Current value: min_data_in_leaf=8\n",
      "[LightGBM] [Warning] min_data_in_leaf is set=5, min_child_samples=20 will be ignored. Current value: min_data_in_leaf=5\n",
      "[LightGBM] [Warning] min_data_in_leaf is set=8, min_child_samples=20 will be ignored. Current value: min_data_in_leaf=8\n",
      "[LightGBM] [Warning] min_data_in_leaf is set=9, min_child_samples=20 will be ignored. Current value: min_data_in_leaf=9\n",
      "[LightGBM] [Warning] min_data_in_leaf is set=5, min_child_samples=20 will be ignored. Current value: min_data_in_leaf=5\n",
      "[LightGBM] [Warning] min_data_in_leaf is set=9, min_child_samples=20 will be ignored. Current value: min_data_in_leaf=9\n",
      "[LightGBM] [Warning] min_data_in_leaf is set=5, min_child_samples=20 will be ignored. Current value: min_data_in_leaf=5\n",
      "[LightGBM] [Warning] min_data_in_leaf is set=9, min_child_samples=20 will be ignored. Current value: min_data_in_leaf=9\n",
      "[LightGBM] [Warning] min_data_in_leaf is set=5, min_child_samples=20 will be ignored. Current value: min_data_in_leaf=5\n",
      "[LightGBM] [Warning] min_data_in_leaf is set=9, min_child_samples=20 will be ignored. Current value: min_data_in_leaf=9\n",
      "[LightGBM] [Warning] min_data_in_leaf is set=5, min_child_samples=20 will be ignored. Current value: min_data_in_leaf=5\n",
      "[LightGBM] [Warning] min_data_in_leaf is set=9, min_child_samples=20 will be ignored. Current value: min_data_in_leaf=9\n",
      "[LightGBM] [Warning] min_data_in_leaf is set=9, min_child_samples=20 will be ignored. Current value: min_data_in_leaf=9\n",
      "[LightGBM] [Warning] min_data_in_leaf is set=5, min_child_samples=20 will be ignored. Current value: min_data_in_leaf=5\n"
     ]
    },
    {
     "data": {
      "text/plain": [
       "({'learning_rate': 0.015503380182313444,\n",
       "  'max_depth': 12,\n",
       "  'min_data_in_leaf': 9,\n",
       "  'n_estimators': 4655,\n",
       "  'num_leaves': 63},\n",
       " -0.008878653734270141)"
      ]
     },
     "execution_count": 55,
     "metadata": {},
     "output_type": "execute_result"
    }
   ],
   "source": [
    "gsearch1.fit(X_train, y_train)\n",
    "gsearch1.best_params_, gsearch1.best_score_"
   ]
  },
  {
   "cell_type": "code",
   "execution_count": 12,
   "id": "c7d7fa6b-605f-4e31-a31f-bc25bcf49c64",
   "metadata": {},
   "outputs": [],
   "source": [
    "# import sklearn\n",
    "# sklearn.metrics.get_scorer_names()"
   ]
  },
  {
   "cell_type": "code",
   "execution_count": 58,
   "id": "e2340f98-bde9-47e0-bbde-6da88d88eb0a",
   "metadata": {},
   "outputs": [],
   "source": [
    "model = gsearch1.best_estimator_"
   ]
  },
  {
   "cell_type": "code",
   "execution_count": 59,
   "id": "0dc2d8ae-e86f-4d2c-a51a-661582d12109",
   "metadata": {},
   "outputs": [],
   "source": [
    "# with open('5_1', 'wb') as f:\n",
    "#     pickle.dump(model, f)\n",
    "\n",
    "with open('5_1', 'rb') as f:\n",
    "    model = pickle.load(f)"
   ]
  },
  {
   "cell_type": "code",
   "execution_count": 60,
   "id": "3d64679d-1404-4cdc-b84d-56baedab5e3d",
   "metadata": {},
   "outputs": [],
   "source": [
    "y_pred = model.predict(X_test)"
   ]
  },
  {
   "cell_type": "code",
   "execution_count": 61,
   "id": "4fcc32e9-90bc-4803-9332-166f2859b15c",
   "metadata": {},
   "outputs": [
    {
     "name": "stdout",
     "output_type": "stream",
     "text": [
      "*** VAL **: \n",
      "MSE:   0.02029400677740856\n",
      "RMSE:  0.14245703484703226\n",
      "R2:    0.04640054581171116\n",
      "MAE:   0.054142335719422785\n",
      "MedAE: 0.020844440453097652\n",
      "Adj_R2:  0.04286682628851468\n",
      "------------------------------\n"
     ]
    }
   ],
   "source": [
    "calc_metrics(y_test, y_pred, X)"
   ]
  },
  {
   "cell_type": "code",
   "execution_count": 62,
   "id": "31711968-2020-4ce1-802d-b4fe51781194",
   "metadata": {},
   "outputs": [
    {
     "data": {
      "image/png": "[encoded data removed]",
      "text/plain": [
       "<Figure size 640x480 with 1 Axes>"
      ]
     },
     "metadata": {},
     "output_type": "display_data"
    }
   ],
   "source": [
    "plotImp(model, X , num = 20)"
   ]
  },
  {
   "cell_type": "code",
   "execution_count": 63,
   "id": "88feb386-d408-4e1c-a3a9-a7a5b0a689de",
   "metadata": {},
   "outputs": [
    {
     "name": "stderr",
     "output_type": "stream",
     "text": [
      "/tmp/ipykernel_48290/753602806.py:72: UserWarning: \n",
      "\n",
      "`distplot` is a deprecated function and will be removed in seaborn v0.14.0.\n",
      "\n",
      "Please adapt your code to use either `displot` (a figure-level function with\n",
      "similar flexibility) or `histplot` (an axes-level function for histograms).\n",
      "\n",
      "For a guide to updating your code to use the new functions, please see\n",
      "https://gist.github.com/mwaskom/de44147ed2974457ad6372750bbe5751\n",
      "\n",
      "  sns.distplot(y_test)\n",
      "/tmp/ipykernel_48290/753602806.py:73: UserWarning: \n",
      "\n",
      "`distplot` is a deprecated function and will be removed in seaborn v0.14.0.\n",
      "\n",
      "Please adapt your code to use either `displot` (a figure-level function with\n",
      "similar flexibility) or `histplot` (an axes-level function for histograms).\n",
      "\n",
      "For a guide to updating your code to use the new functions, please see\n",
      "https://gist.github.com/mwaskom/de44147ed2974457ad6372750bbe5751\n",
      "\n",
      "  sns.distplot(y_pred)\n"
     ]
    },
    {
     "data": {
      "image/png": "[encoded data removed]",
      "text/plain": [
       "<Figure size 1200x500 with 1 Axes>"
      ]
     },
     "metadata": {},
     "output_type": "display_data"
    }
   ],
   "source": [
    "draw_target_distr(y_test, y_pred, save_fig=False, file_name='cat_distribution')"
   ]
  },
  {
   "cell_type": "code",
   "execution_count": 64,
   "id": "e6fbeaf3-a0c6-42fc-84f5-d98b68543895",
   "metadata": {},
   "outputs": [
    {
     "data": {
      "image/png": "[encoded data removed]",
      "text/plain": [
       "<Figure size 640x480 with 1 Axes>"
      ]
     },
     "metadata": {},
     "output_type": "display_data"
    }
   ],
   "source": [
    "draw_residuals(y_test, y_pred, save_fig=False)"
   ]
  },
  {
   "cell_type": "code",
   "execution_count": 65,
   "id": "0bd87ce2-073b-49e5-97f6-08fd9b2e1227",
   "metadata": {},
   "outputs": [
    {
     "data": {
      "text/plain": [
       "153"
      ]
     },
     "execution_count": 65,
     "metadata": {},
     "output_type": "execute_result"
    }
   ],
   "source": [
    "len(y_pred[y_pred <= 0])"
   ]
  },
  {
   "cell_type": "markdown",
   "id": "831c5efe-2de5-4d06-8ee1-cc6bba785f79",
   "metadata": {},
   "source": [
    "# 5_2 KNN regressor"
   ]
  },
  {
   "cell_type": "code",
   "execution_count": 27,
   "id": "05de463a-bad3-412b-9f79-89bbd96fc972",
   "metadata": {},
   "outputs": [],
   "source": [
    "from sklearn.preprocessing import OneHotEncoder"
   ]
  },
  {
   "cell_type": "code",
   "execution_count": 28,
   "id": "996442d0-1fdb-4fb8-b9b0-124949b7b1fb",
   "metadata": {},
   "outputs": [],
   "source": [
    "MULTIPLIER = 100\n",
    "\n",
    "X, y = df_pr.drop(['target', 'name', 'uid'], axis=1), df_pr['target'] * MULTIPLIER\n",
    "y = target_transformer.transform(y)\n",
    "\n",
    "X['type'] = [1 if 'MOVIE' in t else 0 for t in X['type']]"
   ]
  },
  {
   "cell_type": "code",
   "execution_count": 29,
   "id": "480d4d26-79c9-4e7a-a9ec-2a7dc3d6a447",
   "metadata": {},
   "outputs": [],
   "source": [
    "enc = OneHotEncoder(handle_unknown='ignore')\n",
    "enc.fit(X[['release_year']])\n",
    "X[enc.get_feature_names_out()] = enc.transform(X[['release_year']]).toarray()"
   ]
  },
  {
   "cell_type": "code",
   "execution_count": 30,
   "id": "d268e738-d9bd-4b30-9f79-4e9c486d4b23",
   "metadata": {},
   "outputs": [],
   "source": [
    "X.drop('release_year', axis=1, inplace=True)"
   ]
  },
  {
   "cell_type": "code",
   "execution_count": 31,
   "id": "4ff0f08c-e459-4a5f-8ffc-5d9904d4863f",
   "metadata": {},
   "outputs": [
    {
     "data": {
      "text/plain": [
       "Index(['age_access_type', 'average_rating', 'duration', 'type',\n",
       "       'subscription_only', 'top10genre_Drama', 'top10genre_Comedy',\n",
       "       'top10genre_Thriller', 'top10genre_Action', 'top10genre_Melodrama',\n",
       "       'top10genre_Adventure',\n",
       "       'top10genre_287a1485-7a88-4c2f-bc94-ca418b6c47a1',\n",
       "       'top10genre_364fdc2e-bdfe-40be-b2c5-d30f43ec432e', 'top10genre_Family',\n",
       "       'top10genre_Sci-Fi', 'top10actor_d08bba89-e937-40f3-b2a7-7ea26de4c246',\n",
       "       'top10actor_fd401c6b-3e00-4f7f-aea7-5512df6b91e0',\n",
       "       'top10actor_5463b4bc-e332-415c-aca8-11c0f217a9eb',\n",
       "       'top10actor_5f3f6dc9-15fd-464f-91bc-b98c1e467f04',\n",
       "       'top10actor_bebdaaad-69e1-49c4-ab58-89fc9acafaad',\n",
       "       'top10actor_9703b641-2566-4e58-aebb-8d140805c0f3',\n",
       "       'top10actor_fbdae856-85b9-4d4a-96dd-cc383571a488',\n",
       "       'top10actor_dfd861c4-d2de-4bb6-bc6e-bae3f92a18a9',\n",
       "       'top10actor_488a47a6-b3e1-40b3-acca-9f605202a040',\n",
       "       'top10actor_3e94064c-14ef-4f11-9ada-50db5b806557',\n",
       "       'top3director_751aebbe-2d4d-4421-bace-d44b8e10c8eb',\n",
       "       'top3director_b5dd6805-5c41-467d-a417-84a7e463a5f6',\n",
       "       'top3director_f7ded2b9-7c98-47ab-bfc4-57fb60bf946c',\n",
       "       'top5country_751aebbe-2d4d-4421-bace-d44b8e10c8eb',\n",
       "       'top5country_b5dd6805-5c41-467d-a417-84a7e463a5f6',\n",
       "       'top5country_f7ded2b9-7c98-47ab-bfc4-57fb60bf946c', 'RENT', 'AVOD',\n",
       "       'DTO', 'SUBSCRIPTION', 'release_year_2000.0', 'release_year_2001.0',\n",
       "       'release_year_2002.0', 'release_year_2003.0', 'release_year_2004.0',\n",
       "       'release_year_2005.0', 'release_year_2006.0', 'release_year_2007.0',\n",
       "       'release_year_2008.0', 'release_year_2009.0', 'release_year_2010.0',\n",
       "       'release_year_2011.0', 'release_year_2012.0', 'release_year_2013.0',\n",
       "       'release_year_2014.0', 'release_year_2015.0', 'release_year_2016.0',\n",
       "       'release_year_2017.0', 'release_year_2018.0', 'release_year_2019.0',\n",
       "       'release_year_2020.0', 'release_year_2021.0', 'release_year_2022.0'],\n",
       "      dtype='object')"
      ]
     },
     "execution_count": 31,
     "metadata": {},
     "output_type": "execute_result"
    }
   ],
   "source": [
    "X.columns"
   ]
  },
  {
   "cell_type": "code",
   "execution_count": 32,
   "id": "12438128-e0b0-426e-832f-4a2245f1c95d",
   "metadata": {},
   "outputs": [],
   "source": [
    "X_train, X_test, y_train, y_test = train_test_split(X, y, test_size=0.1, random_state=42, shuffle=True)\n",
    "X_test, X_val, y_test, y_val = train_test_split(X_test, y_test, test_size=0.2, random_state=42, shuffle=True)"
   ]
  },
  {
   "cell_type": "code",
   "execution_count": 33,
   "id": "f6b3a432-9af7-4d5d-8960-664954d5ba9d",
   "metadata": {},
   "outputs": [],
   "source": [
    "from sklearn.preprocessing import MinMaxScaler\n",
    "num_features = ['age_access_type', 'average_rating', 'duration']\n",
    "scaler = MinMaxScaler()\n",
    "scaler.fit(X_train[num_features])\n",
    "\n",
    "X_train[num_features] = scaler.transform(X_train[num_features])\n",
    "X_val[num_features] = scaler.transform(X_val[num_features])\n",
    "X_test[num_features] = scaler.transform(X_test[num_features])\n"
   ]
  },
  {
   "cell_type": "code",
   "execution_count": 39,
   "id": "4d11bf93-e78f-401b-9fd6-b829dec57572",
   "metadata": {},
   "outputs": [
    {
     "data": {
      "text/html": [
       "<div>\n",
       "<style scoped>\n",
       "    .dataframe tbody tr th:only-of-type {\n",
       "        vertical-align: middle;\n",
       "    }\n",
       "\n",
       "    .dataframe tbody tr th {\n",
       "        vertical-align: top;\n",
       "    }\n",
       "\n",
       "    .dataframe thead th {\n",
       "        text-align: right;\n",
       "    }\n",
       "</style>\n",
       "<table border=\"1\" class=\"dataframe\">\n",
       "  <thead>\n",
       "    <tr style=\"text-align: right;\">\n",
       "      <th></th>\n",
       "      <th>age_access_type</th>\n",
       "      <th>average_rating</th>\n",
       "      <th>duration</th>\n",
       "      <th>type</th>\n",
       "      <th>subscription_only</th>\n",
       "      <th>top10genre_Drama</th>\n",
       "      <th>top10genre_Comedy</th>\n",
       "      <th>top10genre_Thriller</th>\n",
       "      <th>top10genre_Action</th>\n",
       "      <th>top10genre_Melodrama</th>\n",
       "      <th>...</th>\n",
       "      <th>release_year_2013.0</th>\n",
       "      <th>release_year_2014.0</th>\n",
       "      <th>release_year_2015.0</th>\n",
       "      <th>release_year_2016.0</th>\n",
       "      <th>release_year_2017.0</th>\n",
       "      <th>release_year_2018.0</th>\n",
       "      <th>release_year_2019.0</th>\n",
       "      <th>release_year_2020.0</th>\n",
       "      <th>release_year_2021.0</th>\n",
       "      <th>release_year_2022.0</th>\n",
       "    </tr>\n",
       "  </thead>\n",
       "  <tbody>\n",
       "    <tr>\n",
       "      <th>5447</th>\n",
       "      <td>0.888889</td>\n",
       "      <td>0.507115</td>\n",
       "      <td>0.189266</td>\n",
       "      <td>1</td>\n",
       "      <td>0.0</td>\n",
       "      <td>0.0</td>\n",
       "      <td>1.0</td>\n",
       "      <td>0.0</td>\n",
       "      <td>0.0</td>\n",
       "      <td>0.0</td>\n",
       "      <td>...</td>\n",
       "      <td>0.0</td>\n",
       "      <td>0.0</td>\n",
       "      <td>0.0</td>\n",
       "      <td>0.0</td>\n",
       "      <td>0.0</td>\n",
       "      <td>0.0</td>\n",
       "      <td>1.0</td>\n",
       "      <td>0.0</td>\n",
       "      <td>0.0</td>\n",
       "      <td>0.0</td>\n",
       "    </tr>\n",
       "    <tr>\n",
       "      <th>6017</th>\n",
       "      <td>0.888889</td>\n",
       "      <td>0.560155</td>\n",
       "      <td>0.186032</td>\n",
       "      <td>1</td>\n",
       "      <td>1.0</td>\n",
       "      <td>0.0</td>\n",
       "      <td>0.0</td>\n",
       "      <td>0.0</td>\n",
       "      <td>0.0</td>\n",
       "      <td>1.0</td>\n",
       "      <td>...</td>\n",
       "      <td>0.0</td>\n",
       "      <td>0.0</td>\n",
       "      <td>0.0</td>\n",
       "      <td>0.0</td>\n",
       "      <td>0.0</td>\n",
       "      <td>0.0</td>\n",
       "      <td>0.0</td>\n",
       "      <td>0.0</td>\n",
       "      <td>0.0</td>\n",
       "      <td>0.0</td>\n",
       "    </tr>\n",
       "    <tr>\n",
       "      <th>7733</th>\n",
       "      <td>0.000000</td>\n",
       "      <td>0.739974</td>\n",
       "      <td>0.463424</td>\n",
       "      <td>0</td>\n",
       "      <td>0.0</td>\n",
       "      <td>0.0</td>\n",
       "      <td>0.0</td>\n",
       "      <td>0.0</td>\n",
       "      <td>0.0</td>\n",
       "      <td>0.0</td>\n",
       "      <td>...</td>\n",
       "      <td>0.0</td>\n",
       "      <td>0.0</td>\n",
       "      <td>1.0</td>\n",
       "      <td>0.0</td>\n",
       "      <td>0.0</td>\n",
       "      <td>0.0</td>\n",
       "      <td>0.0</td>\n",
       "      <td>0.0</td>\n",
       "      <td>0.0</td>\n",
       "      <td>0.0</td>\n",
       "    </tr>\n",
       "    <tr>\n",
       "      <th>3668</th>\n",
       "      <td>0.666667</td>\n",
       "      <td>0.875809</td>\n",
       "      <td>0.259854</td>\n",
       "      <td>1</td>\n",
       "      <td>0.0</td>\n",
       "      <td>1.0</td>\n",
       "      <td>0.0</td>\n",
       "      <td>0.0</td>\n",
       "      <td>0.0</td>\n",
       "      <td>0.0</td>\n",
       "      <td>...</td>\n",
       "      <td>0.0</td>\n",
       "      <td>0.0</td>\n",
       "      <td>0.0</td>\n",
       "      <td>0.0</td>\n",
       "      <td>0.0</td>\n",
       "      <td>0.0</td>\n",
       "      <td>0.0</td>\n",
       "      <td>0.0</td>\n",
       "      <td>0.0</td>\n",
       "      <td>0.0</td>\n",
       "    </tr>\n",
       "    <tr>\n",
       "      <th>3085</th>\n",
       "      <td>1.000000</td>\n",
       "      <td>0.627426</td>\n",
       "      <td>0.136296</td>\n",
       "      <td>1</td>\n",
       "      <td>0.0</td>\n",
       "      <td>1.0</td>\n",
       "      <td>0.0</td>\n",
       "      <td>0.0</td>\n",
       "      <td>0.0</td>\n",
       "      <td>0.0</td>\n",
       "      <td>...</td>\n",
       "      <td>0.0</td>\n",
       "      <td>0.0</td>\n",
       "      <td>0.0</td>\n",
       "      <td>0.0</td>\n",
       "      <td>1.0</td>\n",
       "      <td>0.0</td>\n",
       "      <td>0.0</td>\n",
       "      <td>0.0</td>\n",
       "      <td>0.0</td>\n",
       "      <td>0.0</td>\n",
       "    </tr>\n",
       "    <tr>\n",
       "      <th>...</th>\n",
       "      <td>...</td>\n",
       "      <td>...</td>\n",
       "      <td>...</td>\n",
       "      <td>...</td>\n",
       "      <td>...</td>\n",
       "      <td>...</td>\n",
       "      <td>...</td>\n",
       "      <td>...</td>\n",
       "      <td>...</td>\n",
       "      <td>...</td>\n",
       "      <td>...</td>\n",
       "      <td>...</td>\n",
       "      <td>...</td>\n",
       "      <td>...</td>\n",
       "      <td>...</td>\n",
       "      <td>...</td>\n",
       "      <td>...</td>\n",
       "      <td>...</td>\n",
       "      <td>...</td>\n",
       "      <td>...</td>\n",
       "      <td>...</td>\n",
       "    </tr>\n",
       "    <tr>\n",
       "      <th>5734</th>\n",
       "      <td>1.000000</td>\n",
       "      <td>0.390686</td>\n",
       "      <td>0.186032</td>\n",
       "      <td>1</td>\n",
       "      <td>0.0</td>\n",
       "      <td>0.0</td>\n",
       "      <td>1.0</td>\n",
       "      <td>0.0</td>\n",
       "      <td>0.0</td>\n",
       "      <td>0.0</td>\n",
       "      <td>...</td>\n",
       "      <td>0.0</td>\n",
       "      <td>0.0</td>\n",
       "      <td>0.0</td>\n",
       "      <td>0.0</td>\n",
       "      <td>0.0</td>\n",
       "      <td>0.0</td>\n",
       "      <td>1.0</td>\n",
       "      <td>0.0</td>\n",
       "      <td>0.0</td>\n",
       "      <td>0.0</td>\n",
       "    </tr>\n",
       "    <tr>\n",
       "      <th>5191</th>\n",
       "      <td>0.888889</td>\n",
       "      <td>0.610608</td>\n",
       "      <td>0.198579</td>\n",
       "      <td>1</td>\n",
       "      <td>1.0</td>\n",
       "      <td>0.0</td>\n",
       "      <td>1.0</td>\n",
       "      <td>0.0</td>\n",
       "      <td>0.0</td>\n",
       "      <td>0.0</td>\n",
       "      <td>...</td>\n",
       "      <td>0.0</td>\n",
       "      <td>0.0</td>\n",
       "      <td>0.0</td>\n",
       "      <td>0.0</td>\n",
       "      <td>0.0</td>\n",
       "      <td>0.0</td>\n",
       "      <td>1.0</td>\n",
       "      <td>0.0</td>\n",
       "      <td>0.0</td>\n",
       "      <td>0.0</td>\n",
       "    </tr>\n",
       "    <tr>\n",
       "      <th>5390</th>\n",
       "      <td>1.000000</td>\n",
       "      <td>0.745149</td>\n",
       "      <td>0.204488</td>\n",
       "      <td>1</td>\n",
       "      <td>0.0</td>\n",
       "      <td>0.0</td>\n",
       "      <td>1.0</td>\n",
       "      <td>0.0</td>\n",
       "      <td>0.0</td>\n",
       "      <td>0.0</td>\n",
       "      <td>...</td>\n",
       "      <td>0.0</td>\n",
       "      <td>0.0</td>\n",
       "      <td>0.0</td>\n",
       "      <td>0.0</td>\n",
       "      <td>0.0</td>\n",
       "      <td>0.0</td>\n",
       "      <td>1.0</td>\n",
       "      <td>0.0</td>\n",
       "      <td>0.0</td>\n",
       "      <td>0.0</td>\n",
       "    </tr>\n",
       "    <tr>\n",
       "      <th>860</th>\n",
       "      <td>0.666667</td>\n",
       "      <td>0.868047</td>\n",
       "      <td>0.189266</td>\n",
       "      <td>1</td>\n",
       "      <td>0.0</td>\n",
       "      <td>0.0</td>\n",
       "      <td>0.0</td>\n",
       "      <td>0.0</td>\n",
       "      <td>0.0</td>\n",
       "      <td>0.0</td>\n",
       "      <td>...</td>\n",
       "      <td>0.0</td>\n",
       "      <td>0.0</td>\n",
       "      <td>0.0</td>\n",
       "      <td>0.0</td>\n",
       "      <td>0.0</td>\n",
       "      <td>0.0</td>\n",
       "      <td>0.0</td>\n",
       "      <td>0.0</td>\n",
       "      <td>0.0</td>\n",
       "      <td>0.0</td>\n",
       "    </tr>\n",
       "    <tr>\n",
       "      <th>7270</th>\n",
       "      <td>0.888889</td>\n",
       "      <td>0.743855</td>\n",
       "      <td>0.392298</td>\n",
       "      <td>0</td>\n",
       "      <td>0.0</td>\n",
       "      <td>0.0</td>\n",
       "      <td>0.0</td>\n",
       "      <td>0.0</td>\n",
       "      <td>0.0</td>\n",
       "      <td>0.0</td>\n",
       "      <td>...</td>\n",
       "      <td>0.0</td>\n",
       "      <td>0.0</td>\n",
       "      <td>0.0</td>\n",
       "      <td>0.0</td>\n",
       "      <td>0.0</td>\n",
       "      <td>0.0</td>\n",
       "      <td>0.0</td>\n",
       "      <td>0.0</td>\n",
       "      <td>0.0</td>\n",
       "      <td>0.0</td>\n",
       "    </tr>\n",
       "  </tbody>\n",
       "</table>\n",
       "<p>8532 rows × 58 columns</p>\n",
       "</div>"
      ],
      "text/plain": [
       "      age_access_type  average_rating  duration  type subscription_only  \\\n",
       "5447         0.888889        0.507115  0.189266     1               0.0   \n",
       "6017         0.888889        0.560155  0.186032     1               1.0   \n",
       "7733         0.000000        0.739974  0.463424     0               0.0   \n",
       "3668         0.666667        0.875809  0.259854     1               0.0   \n",
       "3085         1.000000        0.627426  0.136296     1               0.0   \n",
       "...               ...             ...       ...   ...               ...   \n",
       "5734         1.000000        0.390686  0.186032     1               0.0   \n",
       "5191         0.888889        0.610608  0.198579     1               1.0   \n",
       "5390         1.000000        0.745149  0.204488     1               0.0   \n",
       "860          0.666667        0.868047  0.189266     1               0.0   \n",
       "7270         0.888889        0.743855  0.392298     0               0.0   \n",
       "\n",
       "     top10genre_Drama top10genre_Comedy top10genre_Thriller top10genre_Action  \\\n",
       "5447              0.0               1.0                 0.0               0.0   \n",
       "6017              0.0               0.0                 0.0               0.0   \n",
       "7733              0.0               0.0                 0.0               0.0   \n",
       "3668              1.0               0.0                 0.0               0.0   \n",
       "3085              1.0               0.0                 0.0               0.0   \n",
       "...               ...               ...                 ...               ...   \n",
       "5734              0.0               1.0                 0.0               0.0   \n",
       "5191              0.0               1.0                 0.0               0.0   \n",
       "5390              0.0               1.0                 0.0               0.0   \n",
       "860               0.0               0.0                 0.0               0.0   \n",
       "7270              0.0               0.0                 0.0               0.0   \n",
       "\n",
       "     top10genre_Melodrama  ... release_year_2013.0 release_year_2014.0  \\\n",
       "5447                  0.0  ...                 0.0                 0.0   \n",
       "6017                  1.0  ...                 0.0                 0.0   \n",
       "7733                  0.0  ...                 0.0                 0.0   \n",
       "3668                  0.0  ...                 0.0                 0.0   \n",
       "3085                  0.0  ...                 0.0                 0.0   \n",
       "...                   ...  ...                 ...                 ...   \n",
       "5734                  0.0  ...                 0.0                 0.0   \n",
       "5191                  0.0  ...                 0.0                 0.0   \n",
       "5390                  0.0  ...                 0.0                 0.0   \n",
       "860                   0.0  ...                 0.0                 0.0   \n",
       "7270                  0.0  ...                 0.0                 0.0   \n",
       "\n",
       "     release_year_2015.0 release_year_2016.0 release_year_2017.0  \\\n",
       "5447                 0.0                 0.0                 0.0   \n",
       "6017                 0.0                 0.0                 0.0   \n",
       "7733                 1.0                 0.0                 0.0   \n",
       "3668                 0.0                 0.0                 0.0   \n",
       "3085                 0.0                 0.0                 1.0   \n",
       "...                  ...                 ...                 ...   \n",
       "5734                 0.0                 0.0                 0.0   \n",
       "5191                 0.0                 0.0                 0.0   \n",
       "5390                 0.0                 0.0                 0.0   \n",
       "860                  0.0                 0.0                 0.0   \n",
       "7270                 0.0                 0.0                 0.0   \n",
       "\n",
       "     release_year_2018.0 release_year_2019.0 release_year_2020.0  \\\n",
       "5447                 0.0                 1.0                 0.0   \n",
       "6017                 0.0                 0.0                 0.0   \n",
       "7733                 0.0                 0.0                 0.0   \n",
       "3668                 0.0                 0.0                 0.0   \n",
       "3085                 0.0                 0.0                 0.0   \n",
       "...                  ...                 ...                 ...   \n",
       "5734                 0.0                 1.0                 0.0   \n",
       "5191                 0.0                 1.0                 0.0   \n",
       "5390                 0.0                 1.0                 0.0   \n",
       "860                  0.0                 0.0                 0.0   \n",
       "7270                 0.0                 0.0                 0.0   \n",
       "\n",
       "     release_year_2021.0 release_year_2022.0  \n",
       "5447                 0.0                 0.0  \n",
       "6017                 0.0                 0.0  \n",
       "7733                 0.0                 0.0  \n",
       "3668                 0.0                 0.0  \n",
       "3085                 0.0                 0.0  \n",
       "...                  ...                 ...  \n",
       "5734                 0.0                 0.0  \n",
       "5191                 0.0                 0.0  \n",
       "5390                 0.0                 0.0  \n",
       "860                  0.0                 0.0  \n",
       "7270                 0.0                 0.0  \n",
       "\n",
       "[8532 rows x 58 columns]"
      ]
     },
     "execution_count": 39,
     "metadata": {},
     "output_type": "execute_result"
    }
   ],
   "source": [
    "X_train"
   ]
  },
  {
   "cell_type": "code",
   "execution_count": 34,
   "id": "cc907e0f-e6ee-4c97-a610-ecee9f440491",
   "metadata": {},
   "outputs": [],
   "source": [
    "from sklearn.neighbors import KNeighborsRegressor\n",
    "neigh = KNeighborsRegressor()\n",
    "\n",
    "params = {\n",
    "   'n_neighbors': randint(3, 8) ,\n",
    "   'weights': ['uniform', 'distance']\n",
    "}\n",
    "gsearch1 = RandomizedSearchCV(estimator=neigh, param_distributions=params, scoring='neg_mean_squared_error', cv=5, verbose=1, n_jobs=-1)"
   ]
  },
  {
   "cell_type": "code",
   "execution_count": 35,
   "id": "0e9a8ba8-6762-4fd7-b0e9-733a96ea5264",
   "metadata": {},
   "outputs": [
    {
     "name": "stdout",
     "output_type": "stream",
     "text": [
      "Fitting 5 folds for each of 10 candidates, totalling 50 fits\n"
     ]
    },
    {
     "data": {
      "text/plain": [
       "{'n_neighbors': 6, 'weights': 'uniform'}"
      ]
     },
     "execution_count": 35,
     "metadata": {},
     "output_type": "execute_result"
    }
   ],
   "source": [
    "gsearch1.fit(X_train, y_train)\n",
    "gsearch1.best_params_"
   ]
  },
  {
   "cell_type": "code",
   "execution_count": 40,
   "id": "6a225aa9-de66-4470-a9f9-181af03aa93e",
   "metadata": {},
   "outputs": [],
   "source": [
    "model = gsearch1.best_estimator_"
   ]
  },
  {
   "cell_type": "code",
   "execution_count": 57,
   "id": "13946d86-e156-4c35-93d7-d0e2072e1b5b",
   "metadata": {},
   "outputs": [],
   "source": [
    "# with open('5_2', 'wb') as f:\n",
    "#     pickle.dump(model, f)\n",
    "\n",
    "# with open('5_1', 'rb') as f:\n",
    "#     model = pickle.load(f)"
   ]
  },
  {
   "cell_type": "code",
   "execution_count": 44,
   "id": "12a007db-afae-43e1-bad7-483b3856556f",
   "metadata": {},
   "outputs": [],
   "source": [
    "y_pred = model.predict(X_test)"
   ]
  },
  {
   "cell_type": "code",
   "execution_count": 45,
   "id": "e21cb5d5-8e8d-4611-9f2f-d3eee83ffab8",
   "metadata": {},
   "outputs": [
    {
     "name": "stdout",
     "output_type": "stream",
     "text": [
      "*** VAL **: \n",
      "MSE:   0.016708968348082342\n",
      "RMSE:  0.12926317475631774\n",
      "R2:    0.2148586885011693\n",
      "MAE:   0.04237801566267244\n",
      "MedAE: 0.011043061882061955\n",
      "Adj_R2:  0.21002551124931912\n",
      "------------------------------\n"
     ]
    }
   ],
   "source": [
    "calc_metrics(y_test, y_pred, X)"
   ]
  },
  {
   "cell_type": "code",
   "execution_count": 46,
   "id": "81e1ef3b-3e5c-432d-89a5-7933317e2c6b",
   "metadata": {},
   "outputs": [
    {
     "name": "stderr",
     "output_type": "stream",
     "text": [
      "/tmp/ipykernel_48290/753602806.py:72: UserWarning: \n",
      "\n",
      "`distplot` is a deprecated function and will be removed in seaborn v0.14.0.\n",
      "\n",
      "Please adapt your code to use either `displot` (a figure-level function with\n",
      "similar flexibility) or `histplot` (an axes-level function for histograms).\n",
      "\n",
      "For a guide to updating your code to use the new functions, please see\n",
      "https://gist.github.com/mwaskom/de44147ed2974457ad6372750bbe5751\n",
      "\n",
      "  sns.distplot(y_test)\n",
      "/tmp/ipykernel_48290/753602806.py:73: UserWarning: \n",
      "\n",
      "`distplot` is a deprecated function and will be removed in seaborn v0.14.0.\n",
      "\n",
      "Please adapt your code to use either `displot` (a figure-level function with\n",
      "similar flexibility) or `histplot` (an axes-level function for histograms).\n",
      "\n",
      "For a guide to updating your code to use the new functions, please see\n",
      "https://gist.github.com/mwaskom/de44147ed2974457ad6372750bbe5751\n",
      "\n",
      "  sns.distplot(y_pred)\n"
     ]
    },
    {
     "data": {
      "image/png": "[encoded data removed]",
      "text/plain": [
       "<Figure size 1200x500 with 1 Axes>"
      ]
     },
     "metadata": {},
     "output_type": "display_data"
    }
   ],
   "source": [
    "draw_target_distr(y_test, y_pred, save_fig=False, file_name='cat_distribution')"
   ]
  },
  {
   "cell_type": "code",
   "execution_count": 47,
   "id": "636e1ce4-4a09-468d-85c5-11194f378c7d",
   "metadata": {},
   "outputs": [
    {
     "data": {
      "image/png": "[encoded data removed]",
      "text/plain": [
       "<Figure size 640x480 with 1 Axes>"
      ]
     },
     "metadata": {},
     "output_type": "display_data"
    }
   ],
   "source": [
    "draw_residuals(y_test, y_pred, save_fig=False)"
   ]
  },
  {
   "cell_type": "code",
   "execution_count": 48,
   "id": "3752dafd-f1f3-4634-87f7-246d62502bb8",
   "metadata": {},
   "outputs": [
    {
     "data": {
      "text/plain": [
       "0"
      ]
     },
     "execution_count": 48,
     "metadata": {},
     "output_type": "execute_result"
    }
   ],
   "source": [
    "len(y_pred[y_pred <= 0])"
   ]
  }
 ],
 "metadata": {
  "kernelspec": {
   "display_name": "Python 3 (ipykernel)",
   "language": "python",
   "name": "python3"
  },
  "language_info": {
   "codemirror_mode": {
    "name": "ipython",
    "version": 3
   },
   "file_extension": ".py",
   "mimetype": "text/x-python",
   "name": "python",
   "nbconvert_exporter": "python",
   "pygments_lexer": "ipython3",
   "version": "3.10.6"
  }
 },
 "nbformat": 4,
 "nbformat_minor": 5
}
