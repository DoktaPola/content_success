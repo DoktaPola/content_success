{
 "cells": [
  {
   "cell_type": "markdown",
   "id": "ed1115f7-0d7e-4e46-b832-9a84b19cb6e4",
   "metadata": {
    "tags": []
   },
   "source": [
    "# Modeling"
   ]
  },
  {
   "cell_type": "code",
   "execution_count": 1,
   "id": "9e7638cc-201e-4718-a2a1-cff77f1f78b8",
   "metadata": {},
   "outputs": [
    {
     "name": "stdout",
     "output_type": "stream",
     "text": [
      "/home/jovyan/work/cold_start_models\n"
     ]
    }
   ],
   "source": [
    "!pwd"
   ]
  },
  {
   "cell_type": "code",
   "execution_count": 2,
   "id": "cd245b1f-aa24-41ee-a592-5aaf69b21bd1",
   "metadata": {},
   "outputs": [],
   "source": [
    "from sklearn import metrics\n",
    "import catboost as cat\n",
    "from catboost import CatBoostRegressor\n",
    "from sklearn.model_selection import RandomizedSearchCV\n",
    "from sklearn.metrics import mean_absolute_error as mae, r2_score as r2\n",
    "from scipy.stats import uniform, randint\n",
    "\n",
    "import pandas as pd\n",
    "import seaborn as sns\n",
    "import matplotlib.pyplot as plt\n",
    "import numpy as np\n",
    "import pickle\n",
    "from collections import Counter\n",
    "from sklearn.feature_extraction.text import TfidfVectorizer\n",
    "import numpy as np\n",
    "from sklearn.model_selection import train_test_split\n",
    "import seaborn as sns\n",
    "\n",
    "\n",
    "import warnings\n",
    "warnings.filterwarnings(\"ignore\")\n",
    "\n",
    "\n",
    "def mae(y_gt, Y_pr):\n",
    "    return metrics.mean_absolute_error(y_gt, Y_pr)\n",
    "\n",
    "def mse(y_gt, Y_pr):\n",
    "    return metrics.mean_squared_error(y_gt, Y_pr)\n",
    "\n",
    "def rmse(y_gt, Y_pr):\n",
    "    my_mse = mse(y_gt, Y_pr)\n",
    "    return np.sqrt(my_mse)\n",
    "\n",
    "def medae(y_gt, Y_pr):\n",
    "    return metrics.median_absolute_error(y_gt, Y_pr)\n",
    "\n",
    "def R2(y_gt, Y_pr):\n",
    "    return metrics.r2_score(y_gt, Y_pr)\n",
    "\n",
    "def calc_metrics(y_test, y_pred, X):\n",
    "\n",
    "    mse1 = mse(y_test, y_pred)\n",
    "\n",
    "    rmse1 = rmse(y_test, y_pred)\n",
    "\n",
    "    mae1 = mae(y_test, y_pred)\n",
    "\n",
    "    medae1 = medae(y_test, y_pred)\n",
    "\n",
    "    R21 = R2(y_test, y_pred)\n",
    "    \n",
    "    adj_r2 = 1 - (1-r2(y_test, y_pred)) * (len(y)-1)/(len(y)-X.shape[1]-1)\n",
    "\n",
    "    print('*** VAL **: ')\n",
    "    print(\"MSE:   {}\\nRMSE:  {}\\nR2:    {}\\nMAE:   {}\\nMedAE: {}\\nAdj_R2:  {}\".format(mse1, rmse1, R21, mae1, medae1, adj_r2))\n",
    "    print('-'*30)\n",
    "\n",
    "\n",
    "def get_importance(train_dataset, cat_model, title='Catboost feature importance', save_fig=False, file_name='cat_feature_importance.png'):\n",
    "    imp = cat_model.get_feature_importance(data=train_dataset)\n",
    "    fig, axes = plt.subplots(1, 1, figsize=(12, 10))\n",
    "    axes.barh(width=imp, y=cat_model.feature_names_)\n",
    "    axes.set_title(title)\n",
    "    if save_fig:\n",
    "        plt.savefig(file_name)\n",
    "    plt.show()\n",
    "    \n",
    "\n",
    "def draw_target_distr(y_test, y_pred, save_fig=False, file_name='cat_distribution'):\n",
    "    plt.figure(figsize=(12, 5))\n",
    "    sns.distplot(y_test)\n",
    "    sns.distplot(y_pred)\n",
    "    plt.legend(['test', 'pred'])\n",
    "    if save_fig:\n",
    "        plt.savefig(file_name)\n",
    "    plt.show()\n",
    "\n",
    "    \n",
    "def draw_residuals(y_test, y_pred, save_fig=False,\n",
    "                   file_name='cat_residuals.png'):\n",
    "    y_test = y_test\n",
    "    y_pred = y_pred\n",
    "    sns.residplot(x=y_test, y=y_pred)\n",
    "    if save_fig:\n",
    "        plt.savefig(file_name)\n",
    "    plt.show()\n",
    "    \n",
    "    \n",
    "class TargetTransformer:\n",
    "    def __init__(self, denominator=1):\n",
    "        self.scale = denominator\n",
    "        \n",
    "    def inverse_transform(self, feature):\n",
    "        return feature.apply(lambda x: np.expm1(x))\n",
    "    \n",
    "    def transform(self, feature):\n",
    "        return feature.apply(lambda x: np.log1p(x))"
   ]
  },
  {
   "cell_type": "code",
   "execution_count": 4,
   "id": "3afabdff-bbfa-4432-aa6a-97e9a68c9940",
   "metadata": {},
   "outputs": [],
   "source": [
    "with open('/home/jovyan/work/cold_start_models/dataset_kp0.pkl', 'rb') as f:\n",
    "    df_pr = pickle.load(f)\n",
    "    \n",
    "with open('/home/jovyan/work/cold_start_models/item_coldstart_dataset-avg.pkl', 'rb') as f:\n",
    "    df_target = pickle.load(f)"
   ]
  },
  {
   "cell_type": "code",
   "execution_count": 54,
   "id": "4a369c12-7298-4478-aebb-049474122002",
   "metadata": {},
   "outputs": [
    {
     "data": {
      "text/html": [
       "<div>\n",
       "<style scoped>\n",
       "    .dataframe tbody tr th:only-of-type {\n",
       "        vertical-align: middle;\n",
       "    }\n",
       "\n",
       "    .dataframe tbody tr th {\n",
       "        vertical-align: top;\n",
       "    }\n",
       "\n",
       "    .dataframe thead th {\n",
       "        text-align: right;\n",
       "    }\n",
       "</style>\n",
       "<table border=\"1\" class=\"dataframe\">\n",
       "  <thead>\n",
       "    <tr style=\"text-align: right;\">\n",
       "      <th></th>\n",
       "      <th>actor</th>\n",
       "      <th>age_access_type</th>\n",
       "      <th>country</th>\n",
       "      <th>average_rating</th>\n",
       "      <th>duration</th>\n",
       "      <th>availability</th>\n",
       "      <th>type</th>\n",
       "      <th>name</th>\n",
       "      <th>release_year</th>\n",
       "      <th>genre</th>\n",
       "      <th>director</th>\n",
       "      <th>subscription_only</th>\n",
       "      <th>uid</th>\n",
       "      <th>target</th>\n",
       "    </tr>\n",
       "  </thead>\n",
       "  <tbody>\n",
       "    <tr>\n",
       "      <th>12167</th>\n",
       "      <td>[63609326-00d3-45f5-9d6c-d8245026d740, 2de47f4...</td>\n",
       "      <td>18</td>\n",
       "      <td>[russia]</td>\n",
       "      <td>7.7</td>\n",
       "      <td>30060000</td>\n",
       "      <td>[SUBSCRIPTION]</td>\n",
       "      <td>SERIAL</td>\n",
       "      <td>Оффлайн</td>\n",
       "      <td>2022</td>\n",
       "      <td>[Thriller, Drama, Detective]</td>\n",
       "      <td>[b4ed432a-edfc-4853-89ec-a0f4bd22c88f]</td>\n",
       "      <td>True</td>\n",
       "      <td>49a3d528-44c0-408e-b6fc-a1507ce7641a</td>\n",
       "      <td>105171.0</td>\n",
       "    </tr>\n",
       "  </tbody>\n",
       "</table>\n",
       "</div>"
      ],
      "text/plain": [
       "                                                   actor age_access_type  \\\n",
       "12167  [63609326-00d3-45f5-9d6c-d8245026d740, 2de47f4...              18   \n",
       "\n",
       "        country average_rating  duration    availability    type     name  \\\n",
       "12167  [russia]            7.7  30060000  [SUBSCRIPTION]  SERIAL  Оффлайн   \n",
       "\n",
       "      release_year                         genre  \\\n",
       "12167         2022  [Thriller, Drama, Detective]   \n",
       "\n",
       "                                     director subscription_only  \\\n",
       "12167  [b4ed432a-edfc-4853-89ec-a0f4bd22c88f]              True   \n",
       "\n",
       "                                        uid    target  \n",
       "12167  49a3d528-44c0-408e-b6fc-a1507ce7641a  105171.0  "
      ]
     },
     "execution_count": 54,
     "metadata": {},
     "output_type": "execute_result"
    }
   ],
   "source": [
    "df_target[df_target['name'] == 'Оффлайн']"
   ]
  },
  {
   "cell_type": "code",
   "execution_count": 5,
   "id": "2596c4db-9f46-4408-b63e-b18f9dd27092",
   "metadata": {},
   "outputs": [
    {
     "name": "stdout",
     "output_type": "stream",
     "text": [
      "<class 'pandas.core.frame.DataFrame'>\n",
      "RangeIndex: 8104 entries, 0 to 8103\n",
      "Data columns (total 39 columns):\n",
      " #   Column           Non-Null Count  Dtype  \n",
      "---  ------           --------------  -----  \n",
      " 0   age_access_type  8104 non-null   object \n",
      " 1   type             8104 non-null   object \n",
      " 2   actor_0          8104 non-null   object \n",
      " 3   actor_1          8104 non-null   object \n",
      " 4   actor_2          8104 non-null   object \n",
      " 5   actor_3          8104 non-null   object \n",
      " 6   actor_4          8104 non-null   object \n",
      " 7   actor_5          8104 non-null   object \n",
      " 8   actor_6          8104 non-null   object \n",
      " 9   actor_7          8104 non-null   object \n",
      " 10  actor_8          8104 non-null   object \n",
      " 11  actor_9          8104 non-null   object \n",
      " 12  country_0        8104 non-null   object \n",
      " 13  director_0       8104 non-null   object \n",
      " 14  editor_0         8104 non-null   object \n",
      " 15  operator_0       8104 non-null   object \n",
      " 16  producer_0       8104 non-null   object \n",
      " 17  producer_1       8104 non-null   object \n",
      " 18  producer_2       8104 non-null   object \n",
      " 19  producer_3       8104 non-null   object \n",
      " 20  producer_4       8104 non-null   object \n",
      " 21  writer_0         8104 non-null   object \n",
      " 22  writer_1         8104 non-null   object \n",
      " 23  design_0         8104 non-null   object \n",
      " 24  design_1         8104 non-null   object \n",
      " 25  design_2         8104 non-null   object \n",
      " 26  composer_0       8104 non-null   object \n",
      " 27  genre_0          8104 non-null   object \n",
      " 28  genre_1          8104 non-null   object \n",
      " 29  genre_2          8104 non-null   object \n",
      " 30  budget           2446 non-null   float64\n",
      " 31  marketing        225 non-null    float64\n",
      " 32  rus              3336 non-null   float64\n",
      " 33  world            4165 non-null   float64\n",
      " 34  duration         8104 non-null   float64\n",
      " 35  release_year     8104 non-null   float64\n",
      " 36  target           8104 non-null   int64  \n",
      " 37  uid              8104 non-null   object \n",
      " 38  name             8104 non-null   object \n",
      "dtypes: float64(6), int64(1), object(32)\n",
      "memory usage: 2.4+ MB\n"
     ]
    }
   ],
   "source": [
    "df_pr.info()"
   ]
  },
  {
   "cell_type": "code",
   "execution_count": 6,
   "id": "7b0190a5-a0e2-425d-91ce-fe21e4d1e7d1",
   "metadata": {},
   "outputs": [
    {
     "data": {
      "text/plain": [
       "budget       5658\n",
       "marketing    7879\n",
       "rus          4768\n",
       "world        3939\n",
       "dtype: int64"
      ]
     },
     "execution_count": 6,
     "metadata": {},
     "output_type": "execute_result"
    }
   ],
   "source": [
    "df_pr.isnull().sum()[df_pr.isnull().sum() > 0]"
   ]
  },
  {
   "cell_type": "code",
   "execution_count": 7,
   "id": "10aad829-6e6e-4a76-be80-392270252e6b",
   "metadata": {},
   "outputs": [
    {
     "data": {
      "text/plain": [
       "(8104, 39)"
      ]
     },
     "execution_count": 7,
     "metadata": {},
     "output_type": "execute_result"
    }
   ],
   "source": [
    "df_pr.shape"
   ]
  },
  {
   "cell_type": "code",
   "execution_count": 8,
   "id": "653a6edb-bbda-4dd9-9b59-81b140de227b",
   "metadata": {},
   "outputs": [
    {
     "data": {
      "text/plain": [
       "(12223, 14)"
      ]
     },
     "execution_count": 8,
     "metadata": {},
     "output_type": "execute_result"
    }
   ],
   "source": [
    "df_target.shape"
   ]
  },
  {
   "cell_type": "code",
   "execution_count": 9,
   "id": "8be13792-6535-4f02-a423-6ff116af27ab",
   "metadata": {},
   "outputs": [],
   "source": [
    "df_pr = df_pr.merge(df_target[['target', 'uid']], on='uid')"
   ]
  },
  {
   "cell_type": "code",
   "execution_count": 10,
   "id": "372b8f7c-88e1-48ad-8f09-4d3d3a89de36",
   "metadata": {},
   "outputs": [
    {
     "data": {
      "text/plain": [
       "(8104, 40)"
      ]
     },
     "execution_count": 10,
     "metadata": {},
     "output_type": "execute_result"
    }
   ],
   "source": [
    "df_pr.shape"
   ]
  },
  {
   "cell_type": "code",
   "execution_count": 11,
   "id": "42fa5334-023b-4fc9-9718-c6d9217ec2b0",
   "metadata": {},
   "outputs": [],
   "source": [
    "okko_originals = [\n",
    "                    7472, # Чикатило\n",
    "                    7896, # Манюня\n",
    "                    8067,  # Оффлайн\n",
    "    \n",
    "]"
   ]
  },
  {
   "cell_type": "code",
   "execution_count": 12,
   "id": "d3686907-6fde-4618-a9cc-20b4d23ee8dc",
   "metadata": {},
   "outputs": [
    {
     "data": {
      "text/plain": [
       "array(['ee48def6-c311-4b73-a878-1a5d3d1679a3',\n",
       "       '9b202b16-55bf-418a-b01d-9f0329b18790',\n",
       "       '49a3d528-44c0-408e-b6fc-a1507ce7641a'], dtype=object)"
      ]
     },
     "execution_count": 12,
     "metadata": {},
     "output_type": "execute_result"
    }
   ],
   "source": [
    "df_pr.loc[okko_originals, :]['uid'].values"
   ]
  },
  {
   "cell_type": "code",
   "execution_count": 13,
   "id": "6d197a7e-ad3e-4e62-a432-c5f9f671b973",
   "metadata": {},
   "outputs": [
    {
     "data": {
      "text/html": [
       "<div>\n",
       "<style scoped>\n",
       "    .dataframe tbody tr th:only-of-type {\n",
       "        vertical-align: middle;\n",
       "    }\n",
       "\n",
       "    .dataframe tbody tr th {\n",
       "        vertical-align: top;\n",
       "    }\n",
       "\n",
       "    .dataframe thead th {\n",
       "        text-align: right;\n",
       "    }\n",
       "</style>\n",
       "<table border=\"1\" class=\"dataframe\">\n",
       "  <thead>\n",
       "    <tr style=\"text-align: right;\">\n",
       "      <th></th>\n",
       "      <th>age_access_type</th>\n",
       "      <th>type</th>\n",
       "      <th>actor_0</th>\n",
       "      <th>actor_1</th>\n",
       "      <th>actor_2</th>\n",
       "      <th>actor_3</th>\n",
       "      <th>actor_4</th>\n",
       "      <th>actor_5</th>\n",
       "      <th>actor_6</th>\n",
       "      <th>actor_7</th>\n",
       "      <th>...</th>\n",
       "      <th>budget</th>\n",
       "      <th>marketing</th>\n",
       "      <th>rus</th>\n",
       "      <th>world</th>\n",
       "      <th>duration</th>\n",
       "      <th>release_year</th>\n",
       "      <th>target_x</th>\n",
       "      <th>uid</th>\n",
       "      <th>name</th>\n",
       "      <th>target_y</th>\n",
       "    </tr>\n",
       "  </thead>\n",
       "  <tbody>\n",
       "    <tr>\n",
       "      <th>7472</th>\n",
       "      <td>18</td>\n",
       "      <td>SERIAL</td>\n",
       "      <td>Дмитрий Нагиев</td>\n",
       "      <td>Константин Лавроненко</td>\n",
       "      <td>Дмитрий Власкин</td>\n",
       "      <td>Юлия Афанасьева</td>\n",
       "      <td>Георгий Мартиросян</td>\n",
       "      <td>Олег Каменщиков</td>\n",
       "      <td>Николай Козак</td>\n",
       "      <td>Евгений Шириков</td>\n",
       "      <td>...</td>\n",
       "      <td>NaN</td>\n",
       "      <td>NaN</td>\n",
       "      <td>NaN</td>\n",
       "      <td>NaN</td>\n",
       "      <td>17.723526</td>\n",
       "      <td>2020.0</td>\n",
       "      <td>92510</td>\n",
       "      <td>ee48def6-c311-4b73-a878-1a5d3d1679a3</td>\n",
       "      <td>Чикатило</td>\n",
       "      <td>100978.0</td>\n",
       "    </tr>\n",
       "    <tr>\n",
       "      <th>7896</th>\n",
       "      <td>6</td>\n",
       "      <td>SERIAL</td>\n",
       "      <td>Екатерина Темнова</td>\n",
       "      <td>Карина Каграманян</td>\n",
       "      <td>Джульетта Степанян</td>\n",
       "      <td>Арман Навасардян</td>\n",
       "      <td>Мариам Мано</td>\n",
       "      <td>Карине Мнацаканян</td>\n",
       "      <td>Армен Маргарян</td>\n",
       "      <td>Нонна Гришаева</td>\n",
       "      <td>...</td>\n",
       "      <td>NaN</td>\n",
       "      <td>NaN</td>\n",
       "      <td>NaN</td>\n",
       "      <td>NaN</td>\n",
       "      <td>16.269958</td>\n",
       "      <td>2021.0</td>\n",
       "      <td>339083</td>\n",
       "      <td>9b202b16-55bf-418a-b01d-9f0329b18790</td>\n",
       "      <td>Манюня</td>\n",
       "      <td>57462.0</td>\n",
       "    </tr>\n",
       "    <tr>\n",
       "      <th>8067</th>\n",
       "      <td>18</td>\n",
       "      <td>SERIAL</td>\n",
       "      <td>Никита Ефремов</td>\n",
       "      <td>Денис Шведов</td>\n",
       "      <td>Никита Кологривый</td>\n",
       "      <td>Полина Максимова</td>\n",
       "      <td>Альфия Закирова</td>\n",
       "      <td>Марина Ворожищева</td>\n",
       "      <td>Алёна Константинова</td>\n",
       "      <td>Тина Стойилкович</td>\n",
       "      <td>...</td>\n",
       "      <td>NaN</td>\n",
       "      <td>NaN</td>\n",
       "      <td>NaN</td>\n",
       "      <td>NaN</td>\n",
       "      <td>17.218706</td>\n",
       "      <td>2022.0</td>\n",
       "      <td>415067</td>\n",
       "      <td>49a3d528-44c0-408e-b6fc-a1507ce7641a</td>\n",
       "      <td>Оффлайн</td>\n",
       "      <td>105171.0</td>\n",
       "    </tr>\n",
       "  </tbody>\n",
       "</table>\n",
       "<p>3 rows × 40 columns</p>\n",
       "</div>"
      ],
      "text/plain": [
       "     age_access_type    type            actor_0                actor_1  \\\n",
       "7472              18  SERIAL     Дмитрий Нагиев  Константин Лавроненко   \n",
       "7896               6  SERIAL  Екатерина Темнова      Карина Каграманян   \n",
       "8067              18  SERIAL     Никита Ефремов           Денис Шведов   \n",
       "\n",
       "                 actor_2           actor_3             actor_4  \\\n",
       "7472     Дмитрий Власкин   Юлия Афанасьева  Георгий Мартиросян   \n",
       "7896  Джульетта Степанян  Арман Навасардян         Мариам Мано   \n",
       "8067   Никита Кологривый  Полина Максимова     Альфия Закирова   \n",
       "\n",
       "                actor_5              actor_6           actor_7  ... budget  \\\n",
       "7472    Олег Каменщиков        Николай Козак   Евгений Шириков  ...    NaN   \n",
       "7896  Карине Мнацаканян       Армен Маргарян    Нонна Гришаева  ...    NaN   \n",
       "8067  Марина Ворожищева  Алёна Константинова  Тина Стойилкович  ...    NaN   \n",
       "\n",
       "     marketing rus world   duration release_year target_x  \\\n",
       "7472       NaN NaN   NaN  17.723526       2020.0    92510   \n",
       "7896       NaN NaN   NaN  16.269958       2021.0   339083   \n",
       "8067       NaN NaN   NaN  17.218706       2022.0   415067   \n",
       "\n",
       "                                       uid      name  target_y  \n",
       "7472  ee48def6-c311-4b73-a878-1a5d3d1679a3  Чикатило  100978.0  \n",
       "7896  9b202b16-55bf-418a-b01d-9f0329b18790    Манюня   57462.0  \n",
       "8067  49a3d528-44c0-408e-b6fc-a1507ce7641a   Оффлайн  105171.0  \n",
       "\n",
       "[3 rows x 40 columns]"
      ]
     },
     "execution_count": 13,
     "metadata": {},
     "output_type": "execute_result"
    }
   ],
   "source": [
    "df_pr[df_pr['uid'].isin(['ee48def6-c311-4b73-a878-1a5d3d1679a3',\n",
    "       '9b202b16-55bf-418a-b01d-9f0329b18790',\n",
    "       '49a3d528-44c0-408e-b6fc-a1507ce7641a'])]"
   ]
  },
  {
   "cell_type": "markdown",
   "id": "9b82f0f8-37f5-46cc-89f1-1cbfee8fd8ee",
   "metadata": {
    "tags": []
   },
   "source": [
    "# 0"
   ]
  },
  {
   "cell_type": "code",
   "execution_count": 17,
   "id": "16f6d9c9-b9ca-41a1-a731-3870f6d3781a",
   "metadata": {},
   "outputs": [],
   "source": [
    "# cat_features = ['age_access_type', 'type', 'actor_0', 'actor_1',\n",
    "#                    'actor_2', 'actor_3', 'actor_4', 'actor_5', 'actor_6', 'actor_7',\n",
    "#                    'actor_8', 'actor_9', 'country_0', 'director_0', 'editor_0',\n",
    "#                    'operator_0', 'producer_0', 'producer_1', 'producer_2', 'producer_3',\n",
    "#                    'producer_4', 'writer_0', 'writer_1',  'action', 'adventure', 'anime', 'biography', 'cartoons',\n",
    "#                    'comedy', 'crime', 'detective', 'documentary', 'drama', 'family',\n",
    "#                    'fantasy', 'sci-fi', 'forkids', 'history', 'horror', 'melodrama', \n",
    "#                 'music', 'sport', 'thriller', 'war_movies', 'design_0', 'design_1', 'design_2', 'composer_0']\n",
    "# num_features = ['budget', 'marketing', 'rus', 'world', 'duration']\n",
    "\n",
    "cat_features = ['age_access_type', 'type', 'actor_0', 'actor_1', 'actor_2', 'actor_3',\n",
    "               'actor_4', 'actor_5', 'actor_6', 'actor_7', 'actor_8', 'actor_9',\n",
    "               'country_0', 'director_0', 'editor_0', 'operator_0', 'producer_0',\n",
    "               'producer_1', 'producer_2', 'producer_3', 'producer_4', 'writer_0',\n",
    "               'writer_1', 'design_0', 'design_1', 'design_2', 'composer_0', 'genre_0',\n",
    "               'genre_1', 'genre_2']\n",
    "num_features = ['budget', 'marketing', 'rus', 'world', 'duration']\n",
    "\n",
    "\n",
    "df_pr[cat_features] = df_pr[cat_features].astype(str)"
   ]
  },
  {
   "cell_type": "code",
   "execution_count": 27,
   "id": "c78c1bac-2328-4715-b934-59f104a209c1",
   "metadata": {},
   "outputs": [],
   "source": [
    "from sklearn.preprocessing import StandardScaler\n",
    "\n",
    "scaler = StandardScaler()\n",
    "df_pr_short = df_pr[df_pr['target_y'] > 50]\n",
    "X, y = df_pr_short[cat_features+num_features], df_pr_short['target_y']\n",
    "\n",
    "\n",
    "orig_ids = df_pr_short[df_pr_short['uid'].isin(origs)].index\n",
    "\n",
    "# X.drop(orig_ids, axis=0, inplace=True)\n",
    "# y.drop(orig_ids, axis=0, inplace=True)\n",
    "\n",
    "# [df_pr_short['release_year'].astype(float) < 2022]\n",
    "df_train, df_test = df_pr_short[df_pr_short['release_year'].astype(float) < 2022],  df_pr_short[df_pr_short['release_year'].astype(float) == 2022] # , y[df_pr['release_year'].astype(float) < 2022],  y[df_pr['release_year'].astype(float) >= 2021]\n",
    "df_test, df_val = train_test_split(df_test, test_size=0.5, random_state=42, shuffle=True)\n",
    "df_test = pd.concat([df_test, df_pr_short[df_pr_short['uid'].isin(origs)]])\n",
    "df_test.drop_duplicates(inplace=True)\n",
    "\n",
    "X_train, y_train = df_train[cat_features+num_features], df_train['target_y']\n",
    "X_val, y_val = df_val[cat_features+num_features], df_val['target_y']\n",
    "X_test, y_test = df_test[cat_features+num_features], df_test['target_y']\n",
    "\n",
    "\n",
    "scaler.fit(np.array(y_train).reshape(-1, 1))\n",
    "\n",
    "y_test_scale, y_val_scale, y_train_scale = scaler.transform(np.array(y_test).reshape(-1, 1)).flatten(), scaler.transform(np.array(y_val).reshape(-1, 1)).flatten(), scaler.transform(np.array(y_train).reshape(-1, 1)).flatten()"
   ]
  },
  {
   "cell_type": "code",
   "execution_count": 28,
   "id": "46733219-e19b-4789-a57a-aa2ac135dbe5",
   "metadata": {},
   "outputs": [
    {
     "data": {
      "text/plain": [
       "(5662, 40)"
      ]
     },
     "execution_count": 28,
     "metadata": {},
     "output_type": "execute_result"
    }
   ],
   "source": [
    "df_pr_short.shape"
   ]
  },
  {
   "cell_type": "code",
   "execution_count": 29,
   "id": "abd013f9-17fa-4003-ae7f-e0ff104a58bf",
   "metadata": {},
   "outputs": [
    {
     "data": {
      "text/plain": [
       "(37, 35)"
      ]
     },
     "execution_count": 29,
     "metadata": {},
     "output_type": "execute_result"
    }
   ],
   "source": [
    "X_val.shape"
   ]
  },
  {
   "cell_type": "code",
   "execution_count": 40,
   "id": "b05fd59f-bc4f-4bd5-a906-d8f2c7e5a8eb",
   "metadata": {},
   "outputs": [],
   "source": [
    "train_dataset = cat.Pool(X_train, y_train_scale,\n",
    "                         cat_features=cat_features,   \n",
    "                        ) \n",
    "test_dataset = cat.Pool(X_test, y_test_scale,\n",
    "                         cat_features=cat_features,\n",
    "                       )\n",
    "val_dataset = cat.Pool(X_val, y_val_scale,\n",
    "                       cat_features=cat_features,\n",
    "                      )"
   ]
  },
  {
   "cell_type": "code",
   "execution_count": 41,
   "id": "664dee67-9f50-4240-a8aa-7e111d282b14",
   "metadata": {},
   "outputs": [
    {
     "name": "stdout",
     "output_type": "stream",
     "text": [
      "Learning rate set to 0.016377\n",
      "0:\tlearn: 0.3431098\ttest: 3.0231336\tbest: 3.0231336 (0)\ttotal: 15.4ms\tremaining: 2m 33s\n",
      "100:\tlearn: 0.3106663\ttest: 2.9994545\tbest: 2.9994545 (100)\ttotal: 1.4s\tremaining: 2m 17s\n",
      "200:\tlearn: 0.3020163\ttest: 2.9733341\tbest: 2.9730554 (191)\ttotal: 2.88s\tremaining: 2m 20s\n",
      "300:\tlearn: 0.2967417\ttest: 2.9508550\tbest: 2.9506924 (298)\ttotal: 4.32s\tremaining: 2m 19s\n",
      "400:\tlearn: 0.2933230\ttest: 2.9383246\tbest: 2.9383149 (397)\ttotal: 5.76s\tremaining: 2m 18s\n",
      "500:\tlearn: 0.2904789\ttest: 2.9253166\tbest: 2.9251280 (496)\ttotal: 7.23s\tremaining: 2m 17s\n",
      "600:\tlearn: 0.2877506\ttest: 2.9208597\tbest: 2.9183005 (550)\ttotal: 8.7s\tremaining: 2m 15s\n",
      "700:\tlearn: 0.2861691\ttest: 2.9168921\tbest: 2.9164760 (673)\ttotal: 10.2s\tremaining: 2m 14s\n",
      "800:\tlearn: 0.2850008\ttest: 2.9126452\tbest: 2.9126091 (799)\ttotal: 11.7s\tremaining: 2m 13s\n",
      "900:\tlearn: 0.2837961\ttest: 2.9090676\tbest: 2.9085939 (884)\ttotal: 13.2s\tremaining: 2m 13s\n",
      "1000:\tlearn: 0.2827072\ttest: 2.9122201\tbest: 2.9085939 (884)\ttotal: 14.7s\tremaining: 2m 11s\n",
      "Stopped by overfitting detector  (150 iterations wait)\n",
      "\n",
      "bestTest = 2.908593934\n",
      "bestIteration = 884\n",
      "\n",
      "Shrink model to first 885 iterations.\n"
     ]
    },
    {
     "data": {
      "text/plain": [
       "<catboost.core.CatBoostRegressor at 0x7efb44ff4a60>"
      ]
     },
     "execution_count": 41,
     "metadata": {},
     "output_type": "execute_result"
    }
   ],
   "source": [
    "cat_params = {\n",
    "    'loss_function': 'RMSE',\n",
    "    'eval_metric': 'MAE',\n",
    "    'verbose': True,\n",
    "    'random_seed': 321,\n",
    "    'allow_writing_files': False, \n",
    "    'cat_features': cat_features,\n",
    "    'iterations': 10000, \n",
    "}\n",
    "\n",
    "cat_model = cat.CatBoostRegressor(**cat_params)\n",
    "\n",
    "cat_model.fit(\n",
    "    train_dataset,\n",
    "   eval_set=val_dataset,\n",
    "   early_stopping_rounds=150,\n",
    "    verbose=100,\n",
    "    plot=False\n",
    ")"
   ]
  },
  {
   "cell_type": "code",
   "execution_count": 42,
   "id": "02300191-b16c-47cd-8778-e0ee456a6f70",
   "metadata": {},
   "outputs": [],
   "source": [
    "cat_model.save_model('kp0_avg_scale')"
   ]
  },
  {
   "cell_type": "code",
   "execution_count": 43,
   "id": "612355f3-e3af-4c6b-b4b6-cfbff4a890d2",
   "metadata": {},
   "outputs": [],
   "source": [
    "y_pred = cat_model.predict(X_test)"
   ]
  },
  {
   "cell_type": "code",
   "execution_count": 44,
   "id": "1b0bc676-d14b-465a-b402-440492f0cc90",
   "metadata": {},
   "outputs": [
    {
     "data": {
      "text/plain": [
       "array([-9.70162973e-02,  1.91666221e-01,  2.73886791e-01, -5.31818127e-03,\n",
       "       -1.92940175e-01, -1.21964706e-01, -3.20490961e-01,  2.57816789e-01,\n",
       "        2.61496833e-02,  1.28735704e+00, -3.38536595e-02, -1.61874943e-01,\n",
       "        1.72476159e-01, -9.57870105e-03,  2.29099563e-01,  1.63499767e-02,\n",
       "        4.07618309e-02,  2.63173344e-01, -2.43739699e-01,  7.88562054e-02,\n",
       "       -2.08607666e-01, -5.67046313e-02,  7.39224153e-01,  4.50402766e-02,\n",
       "        8.55245930e-04, -4.11041909e-02,  1.16531590e+00, -1.23518723e-01,\n",
       "        3.56680790e-02,  3.49515156e-01,  1.25514118e-01, -4.75506412e-02,\n",
       "       -3.82476504e-02,  3.80023057e-01,  8.33497816e-02, -7.54652132e-02,\n",
       "        4.10004202e+00,  1.29963728e+00,  2.21734692e+00])"
      ]
     },
     "execution_count": 44,
     "metadata": {},
     "output_type": "execute_result"
    }
   ],
   "source": [
    "y_pred"
   ]
  },
  {
   "cell_type": "code",
   "execution_count": 45,
   "id": "dd4f9b32-7dd1-4c46-895e-4f172430b693",
   "metadata": {},
   "outputs": [
    {
     "name": "stdout",
     "output_type": "stream",
     "text": [
      "*** VAL **: \n",
      "MSE:   881504457.9802015\n",
      "RMSE:  29690.14075379572\n",
      "R2:    -0.2273235362174162\n",
      "MAE:   16283.179705890607\n",
      "MedAE: 3782.2217367545836\n",
      "Adj_R2:  -0.2349588586076774\n",
      "------------------------------\n"
     ]
    }
   ],
   "source": [
    "calc_metrics(y_test, pd.Series(scaler.inverse_transform(y_pred.reshape(-1, 1)).flatten()), X)"
   ]
  },
  {
   "cell_type": "code",
   "execution_count": 37,
   "id": "dfe75995-8717-4aa5-b211-17ae9a805343",
   "metadata": {},
   "outputs": [
    {
     "data": {
      "image/png": "[encoded data removed]",
      "text/plain": [
       "<Figure size 1200x1000 with 1 Axes>"
      ]
     },
     "metadata": {},
     "output_type": "display_data"
    }
   ],
   "source": [
    "get_importance(train_dataset, cat_model, title='Catboost feature importance', save_fig=False, file_name='cat_feature_importance.png')"
   ]
  },
  {
   "cell_type": "code",
   "execution_count": 46,
   "id": "ad6051d4-a594-45cc-b903-4fca36ffd987",
   "metadata": {},
   "outputs": [
    {
     "data": {
      "image/png": "[encoded data removed]",
      "text/plain": [
       "<Figure size 1200x500 with 1 Axes>"
      ]
     },
     "metadata": {},
     "output_type": "display_data"
    }
   ],
   "source": [
    "draw_target_distr(y_test, pd.Series(scaler.inverse_transform(y_pred.reshape(-1, 1)).flatten()), save_fig=False, file_name='cat_distribution')"
   ]
  },
  {
   "cell_type": "code",
   "execution_count": 47,
   "id": "8aa13b06-b6f4-4f8e-8eec-36a58d654d9d",
   "metadata": {},
   "outputs": [
    {
     "data": {
      "image/png": "[encoded data removed]",
      "text/plain": [
       "<Figure size 640x480 with 1 Axes>"
      ]
     },
     "metadata": {},
     "output_type": "display_data"
    }
   ],
   "source": [
    "draw_residuals(y_test, pd.Series(scaler.inverse_transform(y_pred.reshape(-1, 1)).flatten()), save_fig=False)"
   ]
  },
  {
   "cell_type": "code",
   "execution_count": 48,
   "id": "ce7036df-bb5d-401e-a1bb-2bd6197b79ab",
   "metadata": {},
   "outputs": [
    {
     "data": {
      "text/plain": [
       "16"
      ]
     },
     "execution_count": 48,
     "metadata": {},
     "output_type": "execute_result"
    }
   ],
   "source": [
    "len(y_pred[y_pred <= 0])"
   ]
  },
  {
   "cell_type": "code",
   "execution_count": 55,
   "id": "01c150ea-0914-4683-b9b0-4eccbddade77",
   "metadata": {},
   "outputs": [],
   "source": [
    "test_review = pd.concat([X_test.merge(df_pr)[['name', 'target_y']], pd.Series(scaler.inverse_transform(y_pred.reshape(-1, 1)).flatten()).apply(int)], axis=1)\n",
    "test_review.columns = columns=['name', 'target_y', 'y_pred']"
   ]
  },
  {
   "cell_type": "code",
   "execution_count": 56,
   "id": "861bc729-9ee0-49d3-ab59-4f02bba7056d",
   "metadata": {},
   "outputs": [
    {
     "data": {
      "text/html": [
       "<div>\n",
       "<style scoped>\n",
       "    .dataframe tbody tr th:only-of-type {\n",
       "        vertical-align: middle;\n",
       "    }\n",
       "\n",
       "    .dataframe tbody tr th {\n",
       "        vertical-align: top;\n",
       "    }\n",
       "\n",
       "    .dataframe thead th {\n",
       "        text-align: right;\n",
       "    }\n",
       "</style>\n",
       "<table border=\"1\" class=\"dataframe\">\n",
       "  <thead>\n",
       "    <tr style=\"text-align: right;\">\n",
       "      <th></th>\n",
       "      <th>name</th>\n",
       "      <th>target_y</th>\n",
       "      <th>y_pred</th>\n",
       "    </tr>\n",
       "  </thead>\n",
       "  <tbody>\n",
       "    <tr>\n",
       "      <th>0</th>\n",
       "      <td>9 жизней</td>\n",
       "      <td>5159.0</td>\n",
       "      <td>689</td>\n",
       "    </tr>\n",
       "    <tr>\n",
       "      <th>1</th>\n",
       "      <td>День слепого Валентина</td>\n",
       "      <td>21307.0</td>\n",
       "      <td>1598</td>\n",
       "    </tr>\n",
       "    <tr>\n",
       "      <th>2</th>\n",
       "      <td>Предпоследняя инстанция</td>\n",
       "      <td>84084.0</td>\n",
       "      <td>1857</td>\n",
       "    </tr>\n",
       "    <tr>\n",
       "      <th>3</th>\n",
       "      <td>Парни под прикрытием</td>\n",
       "      <td>10952.0</td>\n",
       "      <td>978</td>\n",
       "    </tr>\n",
       "    <tr>\n",
       "      <th>4</th>\n",
       "      <td>Танцы на углях</td>\n",
       "      <td>1543.0</td>\n",
       "      <td>387</td>\n",
       "    </tr>\n",
       "    <tr>\n",
       "      <th>5</th>\n",
       "      <td>Тюрьма суперзлодеев</td>\n",
       "      <td>22111.0</td>\n",
       "      <td>611</td>\n",
       "    </tr>\n",
       "    <tr>\n",
       "      <th>6</th>\n",
       "      <td>Русские грузины. Фильм второй</td>\n",
       "      <td>167.0</td>\n",
       "      <td>-13</td>\n",
       "    </tr>\n",
       "    <tr>\n",
       "      <th>7</th>\n",
       "      <td>Кабинет Путешественника</td>\n",
       "      <td>1389.0</td>\n",
       "      <td>1806</td>\n",
       "    </tr>\n",
       "    <tr>\n",
       "      <th>8</th>\n",
       "      <td>Наш флаг означает Смерть</td>\n",
       "      <td>599.0</td>\n",
       "      <td>1077</td>\n",
       "    </tr>\n",
       "    <tr>\n",
       "      <th>9</th>\n",
       "      <td>Номинация</td>\n",
       "      <td>24847.0</td>\n",
       "      <td>5046</td>\n",
       "    </tr>\n",
       "    <tr>\n",
       "      <th>10</th>\n",
       "      <td>Не оставляй меня</td>\n",
       "      <td>890.0</td>\n",
       "      <td>888</td>\n",
       "    </tr>\n",
       "    <tr>\n",
       "      <th>11</th>\n",
       "      <td>Бодибилдер</td>\n",
       "      <td>1345.0</td>\n",
       "      <td>485</td>\n",
       "    </tr>\n",
       "    <tr>\n",
       "      <th>12</th>\n",
       "      <td>Первый Оскар</td>\n",
       "      <td>31905.0</td>\n",
       "      <td>1537</td>\n",
       "    </tr>\n",
       "    <tr>\n",
       "      <th>13</th>\n",
       "      <td>Женщины Движения</td>\n",
       "      <td>285.0</td>\n",
       "      <td>964</td>\n",
       "    </tr>\n",
       "    <tr>\n",
       "      <th>14</th>\n",
       "      <td>Ника</td>\n",
       "      <td>10654.0</td>\n",
       "      <td>1716</td>\n",
       "    </tr>\n",
       "    <tr>\n",
       "      <th>15</th>\n",
       "      <td>Индекс страха</td>\n",
       "      <td>1328.0</td>\n",
       "      <td>1046</td>\n",
       "    </tr>\n",
       "    <tr>\n",
       "      <th>16</th>\n",
       "      <td>Рэпер</td>\n",
       "      <td>300.0</td>\n",
       "      <td>1123</td>\n",
       "    </tr>\n",
       "    <tr>\n",
       "      <th>17</th>\n",
       "      <td>И снова здравствуйте!</td>\n",
       "      <td>30557.0</td>\n",
       "      <td>1823</td>\n",
       "    </tr>\n",
       "    <tr>\n",
       "      <th>18</th>\n",
       "      <td>Тихие воды</td>\n",
       "      <td>2705.0</td>\n",
       "      <td>227</td>\n",
       "    </tr>\n",
       "    <tr>\n",
       "      <th>19</th>\n",
       "      <td>Флешбэк</td>\n",
       "      <td>52918.0</td>\n",
       "      <td>1243</td>\n",
       "    </tr>\n",
       "    <tr>\n",
       "      <th>20</th>\n",
       "      <td>Другой мир: ночь вампиров</td>\n",
       "      <td>292.0</td>\n",
       "      <td>338</td>\n",
       "    </tr>\n",
       "    <tr>\n",
       "      <th>21</th>\n",
       "      <td>Мой мир. Поем вместе</td>\n",
       "      <td>1143.0</td>\n",
       "      <td>816</td>\n",
       "    </tr>\n",
       "    <tr>\n",
       "      <th>22</th>\n",
       "      <td>Два холма</td>\n",
       "      <td>27486.0</td>\n",
       "      <td>3321</td>\n",
       "    </tr>\n",
       "    <tr>\n",
       "      <th>23</th>\n",
       "      <td>Миротворец</td>\n",
       "      <td>4919.0</td>\n",
       "      <td>1136</td>\n",
       "    </tr>\n",
       "    <tr>\n",
       "      <th>24</th>\n",
       "      <td>Тайна амулета</td>\n",
       "      <td>2124.0</td>\n",
       "      <td>997</td>\n",
       "    </tr>\n",
       "    <tr>\n",
       "      <th>25</th>\n",
       "      <td>Кто-то где-то</td>\n",
       "      <td>394.0</td>\n",
       "      <td>865</td>\n",
       "    </tr>\n",
       "    <tr>\n",
       "      <th>26</th>\n",
       "      <td>Смычок</td>\n",
       "      <td>4369.0</td>\n",
       "      <td>4662</td>\n",
       "    </tr>\n",
       "    <tr>\n",
       "      <th>27</th>\n",
       "      <td>Рэй Донован. Фильм</td>\n",
       "      <td>1023.0</td>\n",
       "      <td>606</td>\n",
       "    </tr>\n",
       "    <tr>\n",
       "      <th>28</th>\n",
       "      <td>На взводе: Битва за UBER</td>\n",
       "      <td>1305.0</td>\n",
       "      <td>1107</td>\n",
       "    </tr>\n",
       "    <tr>\n",
       "      <th>29</th>\n",
       "      <td>Приплыли!</td>\n",
       "      <td>22036.0</td>\n",
       "      <td>2095</td>\n",
       "    </tr>\n",
       "    <tr>\n",
       "      <th>30</th>\n",
       "      <td>Всё везде и сразу</td>\n",
       "      <td>24101.0</td>\n",
       "      <td>1390</td>\n",
       "    </tr>\n",
       "    <tr>\n",
       "      <th>31</th>\n",
       "      <td>Эластико: Двенадцатый игрок</td>\n",
       "      <td>13606.0</td>\n",
       "      <td>845</td>\n",
       "    </tr>\n",
       "    <tr>\n",
       "      <th>32</th>\n",
       "      <td>Ненастоящий папа</td>\n",
       "      <td>117.0</td>\n",
       "      <td>874</td>\n",
       "    </tr>\n",
       "    <tr>\n",
       "      <th>33</th>\n",
       "      <td>Исправление и наказание</td>\n",
       "      <td>11267.0</td>\n",
       "      <td>2191</td>\n",
       "    </tr>\n",
       "    <tr>\n",
       "      <th>34</th>\n",
       "      <td>Многоэтажка</td>\n",
       "      <td>15546.0</td>\n",
       "      <td>1257</td>\n",
       "    </tr>\n",
       "    <tr>\n",
       "      <th>35</th>\n",
       "      <td>Отель Портофино</td>\n",
       "      <td>4043.0</td>\n",
       "      <td>757</td>\n",
       "    </tr>\n",
       "    <tr>\n",
       "      <th>36</th>\n",
       "      <td>Чикатило</td>\n",
       "      <td>100978.0</td>\n",
       "      <td>13899</td>\n",
       "    </tr>\n",
       "    <tr>\n",
       "      <th>37</th>\n",
       "      <td>Манюня</td>\n",
       "      <td>57462.0</td>\n",
       "      <td>5085</td>\n",
       "    </tr>\n",
       "    <tr>\n",
       "      <th>38</th>\n",
       "      <td>Оффлайн</td>\n",
       "      <td>105171.0</td>\n",
       "      <td>7974</td>\n",
       "    </tr>\n",
       "  </tbody>\n",
       "</table>\n",
       "</div>"
      ],
      "text/plain": [
       "                             name  target_y  y_pred\n",
       "0                        9 жизней    5159.0     689\n",
       "1          День слепого Валентина   21307.0    1598\n",
       "2         Предпоследняя инстанция   84084.0    1857\n",
       "3            Парни под прикрытием   10952.0     978\n",
       "4                  Танцы на углях    1543.0     387\n",
       "5             Тюрьма суперзлодеев   22111.0     611\n",
       "6   Русские грузины. Фильм второй     167.0     -13\n",
       "7         Кабинет Путешественника    1389.0    1806\n",
       "8        Наш флаг означает Смерть     599.0    1077\n",
       "9                       Номинация   24847.0    5046\n",
       "10               Не оставляй меня     890.0     888\n",
       "11                     Бодибилдер    1345.0     485\n",
       "12                   Первый Оскар   31905.0    1537\n",
       "13               Женщины Движения     285.0     964\n",
       "14                           Ника   10654.0    1716\n",
       "15                  Индекс страха    1328.0    1046\n",
       "16                          Рэпер     300.0    1123\n",
       "17          И снова здравствуйте!   30557.0    1823\n",
       "18                     Тихие воды    2705.0     227\n",
       "19                        Флешбэк   52918.0    1243\n",
       "20      Другой мир: ночь вампиров     292.0     338\n",
       "21           Мой мир. Поем вместе    1143.0     816\n",
       "22                      Два холма   27486.0    3321\n",
       "23                     Миротворец    4919.0    1136\n",
       "24                  Тайна амулета    2124.0     997\n",
       "25                  Кто-то где-то     394.0     865\n",
       "26                         Смычок    4369.0    4662\n",
       "27             Рэй Донован. Фильм    1023.0     606\n",
       "28       На взводе: Битва за UBER    1305.0    1107\n",
       "29                      Приплыли!   22036.0    2095\n",
       "30              Всё везде и сразу   24101.0    1390\n",
       "31    Эластико: Двенадцатый игрок   13606.0     845\n",
       "32               Ненастоящий папа     117.0     874\n",
       "33        Исправление и наказание   11267.0    2191\n",
       "34                    Многоэтажка   15546.0    1257\n",
       "35                Отель Портофино    4043.0     757\n",
       "36                       Чикатило  100978.0   13899\n",
       "37                         Манюня   57462.0    5085\n",
       "38                        Оффлайн  105171.0    7974"
      ]
     },
     "execution_count": 56,
     "metadata": {},
     "output_type": "execute_result"
    }
   ],
   "source": [
    "test_review"
   ]
  },
  {
   "cell_type": "code",
   "execution_count": null,
   "id": "1026671f-7ff3-4158-bb05-d3d7ca6e6fd4",
   "metadata": {},
   "outputs": [],
   "source": []
  }
 ],
 "metadata": {
  "kernelspec": {
   "display_name": "Python 3 (ipykernel)",
   "language": "python",
   "name": "python3"
  },
  "language_info": {
   "codemirror_mode": {
    "name": "ipython",
    "version": 3
   },
   "file_extension": ".py",
   "mimetype": "text/x-python",
   "name": "python",
   "nbconvert_exporter": "python",
   "pygments_lexer": "ipython3",
   "version": "3.10.6"
  }
 },
 "nbformat": 4,
 "nbformat_minor": 5
}
