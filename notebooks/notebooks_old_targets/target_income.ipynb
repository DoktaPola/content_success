{
 "cells": [
  {
   "cell_type": "markdown",
   "id": "ccc932d0",
   "metadata": {},
   "source": [
    "# Connection"
   ]
  },
  {
   "cell_type": "code",
   "execution_count": 3,
   "id": "319f755b",
   "metadata": {},
   "outputs": [
    {
     "name": "stdout",
     "output_type": "stream",
     "text": [
      "Collecting findspark\n",
      "  Downloading findspark-2.0.1-py2.py3-none-any.whl (4.4 kB)\n",
      "Installing collected packages: findspark\n",
      "Successfully installed findspark-2.0.1\n"
     ]
    }
   ],
   "source": [
    "!pip install findspark"
   ]
  },
  {
   "cell_type": "code",
   "execution_count": 4,
   "id": "3f0d1fce",
   "metadata": {},
   "outputs": [],
   "source": [
    "import findspark\n",
    "findspark.init() "
   ]
  },
  {
   "cell_type": "code",
   "execution_count": 5,
   "id": "7ac437b7",
   "metadata": {},
   "outputs": [],
   "source": [
    "import pyspark\n",
    "from pyspark.sql import SparkSession\n",
    "import pyarrow.parquet as pq\n",
    "import s3fs"
   ]
  },
  {
   "cell_type": "code",
   "execution_count": 6,
   "id": "a769e60d",
   "metadata": {
    "scrolled": false
   },
   "outputs": [
    {
     "name": "stderr",
     "output_type": "stream",
     "text": [
      "22/10/28 14:51:04 WARN Utils: Your hostname, ecs-test288 resolves to a loopback address: 127.0.1.1; using 10.11.10.114 instead (on interface eth0)\n",
      "22/10/28 14:51:04 WARN Utils: Set SPARK_LOCAL_IP if you need to bind to another address\n",
      "WARNING: An illegal reflective access operation has occurred\n",
      "WARNING: Illegal reflective access by org.apache.spark.unsafe.Platform (file:/opt/spark-3.0.3-bin-hadoop3.2/jars/spark-unsafe_2.12-3.0.3.jar) to constructor java.nio.DirectByteBuffer(long,int)\n",
      "WARNING: Please consider reporting this to the maintainers of org.apache.spark.unsafe.Platform\n",
      "WARNING: Use --illegal-access=warn to enable warnings of further illegal reflective access operations\n",
      "WARNING: All illegal access operations will be denied in a future release\n",
      "22/10/28 14:51:04 WARN NativeCodeLoader: Unable to load native-hadoop library for your platform... using builtin-java classes where applicable\n",
      "Using Spark's default log4j profile: org/apache/spark/log4j-defaults.properties\n",
      "Setting default log level to \"WARN\".\n",
      "To adjust logging level use sc.setLogLevel(newLevel). For SparkR, use setLogLevel(newLevel).\n"
     ]
    },
    {
     "name": "stdout",
     "output_type": "stream",
     "text": [
      "session =  <pyspark.sql.session.SparkSession object at 0x7f9dc4a005b0>\n"
     ]
    }
   ],
   "source": [
    "spark = SparkSession.builder.appName(\"Dummy\").master('local').config(\"spark.driver.memory\", \"60g\").config('spark.dirver.maxResultSize', '6g').getOrCreate()\n",
    "print(\"session = \", spark.getActiveSession())\n",
    "config_spark_s3_adv = {'access_id': 'JLTHDJMKGTSENNZLD5YC',\n",
    "                        'access_key': 'gtlSwf2xuppeomzYaAN3OFpcJiWtgAGUWNU7KIvJ',\n",
    "                        'impl': 'org.apache.hadoop.fs.s3a.S3AFileSystem',\n",
    "                        'endpoint': 'https://obs.ru-moscow-1.hc.sbercloud.ru',\n",
    "                        'spark.driver.maxResultSize':0,\n",
    "                      }\n",
    "\n",
    "spark._jsc.hadoopConfiguration().set(\"fs.s3a.impl\", config_spark_s3_adv[\"impl\"])\n",
    "spark._jsc.hadoopConfiguration().set(\"fs.s3a.endpoint\", config_spark_s3_adv[\"endpoint\"])\n",
    "spark._jsc.hadoopConfiguration().set(\"fs.s3a.access.key\", config_spark_s3_adv[\"access_id\"])\n",
    "spark._jsc.hadoopConfiguration().set(\"fs.s3a.secret.key\", config_spark_s3_adv[\"access_key\"])\n",
    "spark._jsc.hadoopConfiguration().set(\"fs.s3a.aws.credentials.provider\", \"org.apache.hadoop.fs.s3a.SimpleAWSCredentialsProvider\")\n",
    "\n",
    "spark.conf.set(\"spark.sql.autoBroadcastJoinThreshold\", -1)\n",
    "spark.conf.set(\"spark.sql.adaptive.enabled\", \"false\")"
   ]
  },
  {
   "cell_type": "markdown",
   "id": "a23bc932",
   "metadata": {},
   "source": [
    "# Income target"
   ]
  },
  {
   "cell_type": "code",
   "execution_count": 17,
   "id": "82d06d83",
   "metadata": {},
   "outputs": [
    {
     "name": "stderr",
     "output_type": "stream",
     "text": [
      "\r",
      "[Stage 5:===>                                                   (72 + 1) / 1291]\r"
     ]
    }
   ],
   "source": [
    "# take 3 years\n",
    "\n",
    "txstat = \"s3a://okko-prod/okko/datasets/txstat/txstat_*_2022*.parquet\"\n",
    "txstat = spark.read.parquet(txstat)"
   ]
  },
  {
   "cell_type": "code",
   "execution_count": 18,
   "id": "a8a7e648",
   "metadata": {},
   "outputs": [],
   "source": [
    "txstat.createOrReplaceTempView(\"txstat\")"
   ]
  },
  {
   "cell_type": "code",
   "execution_count": 19,
   "id": "6bdab4c9",
   "metadata": {},
   "outputs": [],
   "source": [
    "## Платят"
   ]
  },
  {
   "cell_type": "code",
   "execution_count": 20,
   "id": "257d69c4",
   "metadata": {},
   "outputs": [
    {
     "name": "stdout",
     "output_type": "stream",
     "text": [
      "+--------------------+--------------------+-----+\n",
      "|            user_uid|         element_uid|price|\n",
      "+--------------------+--------------------+-----+\n",
      "|00000000-105C-2EB...|b5f01d35-abaf-4e0...|799.0|\n",
      "|00000000-105C-2C7...|b5f01d35-abaf-4e0...|799.0|\n",
      "|00000000-105C-2F9...|6c61cac5-63ac-4b9...|399.0|\n",
      "|00000000-0834-F54...|d2f3976f-db5c-400...|349.0|\n",
      "|00000000-1059-C6F...|b4eba600-7067-440...| 99.0|\n",
      "|00000000-0DB6-E58...|6c61cac5-63ac-4b9...|399.0|\n",
      "|00000000-102B-FBD...|6c61cac5-63ac-4b9...| 14.0|\n",
      "|00000000-105C-2A4...|811c1d12-e8b7-49e...|599.0|\n",
      "|00000000-1027-97C...|ac4d0ba1-e1c0-451...|999.0|\n",
      "|00000000-105C-23E...|811c1d12-e8b7-49e...|599.0|\n",
      "|00000000-0F74-D8E...|6c61cac5-63ac-4b9...|399.0|\n",
      "|00000000-0EEF-844...|811c1d12-e8b7-49e...|599.0|\n",
      "|00000000-0144-59C...|9f64e56a-b527-4ee...|599.0|\n",
      "|00000000-0FBF-0CB...|811c1d12-e8b7-49e...|599.0|\n",
      "|00000000-0F4C-81D...|980cb546-9583-4a9...| 99.0|\n",
      "|00000000-102E-ACB...|ac4d0ba1-e1c0-451...|999.0|\n",
      "|00000000-105C-2DC...|b5f01d35-abaf-4e0...|799.0|\n",
      "|00000000-0221-7EA...|b5f01d35-abaf-4e0...|799.0|\n",
      "|00000000-105B-D7F...|6c61cac5-63ac-4b9...|399.0|\n",
      "|00000000-0F01-A17...|35ce9aab-e761-4ed...|399.0|\n",
      "+--------------------+--------------------+-----+\n",
      "only showing top 20 rows\n",
      "\n"
     ]
    }
   ],
   "source": [
    "import datetime\n",
    "current_date = datetime.datetime.now().strftime(\"%Y-%m-%d %H:%M:%S\")\n",
    "\n",
    "q = \"\"\"\n",
    "SELECT\n",
    "    user_uid,\n",
    "    element_uid,\n",
    "    price\n",
    "FROM \n",
    "    (\n",
    "        SELECT\n",
    "            CAST(CONCAT(\n",
    "                SUBSTRING(REPLACE(format_string('%16s', conv(CAST(user_uid AS BIGINT), 10, 16)), ' ', '0'), 1, 8),\n",
    "                '-',\n",
    "                SUBSTRING(REPLACE(format_string('%16s', conv(CAST(user_uid AS BIGINT), 10, 16)), ' ', '0'), 9, 4),\n",
    "                '-',\n",
    "                SUBSTRING(REPLACE(format_string('%16s', conv(CAST(user_uid AS BIGINT), 10, 16)), ' ', '0'), 13, 4),\n",
    "                '-0000-000000000000'\n",
    "                ) AS STRING) AS user_uid,\n",
    "                element_uid,\n",
    "                price,\n",
    "                tx_type,\n",
    "                consumption_mode \n",
    "                \n",
    "        FROM txstat\n",
    "        WHERE\n",
    "            (tx_type = 'PURCHASE'\n",
    "            AND consumption_mode ='SUBSCRIPTION'\n",
    "            AND element_uid IS NOT NULL\n",
    "            AND price != 0.0)\n",
    "            or\n",
    "            (tx_type = 'VIEW'\n",
    "            AND consumption_mode ='SUBSCRIPTION'\n",
    "            AND element_uid IS NOT NULL\n",
    "            AND price != 0.0)\n",
    "            or\n",
    "            (tx_type='PURCHASE'\n",
    "             AND consumption_mode ='RENT'\n",
    "             AND element_uid IS NOT NULL\n",
    "             AND price != 0.0)\n",
    "             or\n",
    "             (tx_type='PURCHASE'\n",
    "             AND consumption_mode ='DTO'\n",
    "             AND element_uid IS NOT NULL\n",
    "             AND price != 0.0)\n",
    "    )\n",
    "\"\"\"\n",
    "\n",
    "q_1 = spark.sql(q.format(\n",
    "        date=current_date\n",
    "    ))\n",
    "q_1.show()"
   ]
  },
  {
   "cell_type": "code",
   "execution_count": 21,
   "id": "e1038b7b",
   "metadata": {},
   "outputs": [
    {
     "name": "stderr",
     "output_type": "stream",
     "text": [
      "                                                                                \r"
     ]
    }
   ],
   "source": [
    "df_2021 = q_1.toPandas()"
   ]
  },
  {
   "cell_type": "code",
   "execution_count": 22,
   "id": "b8a587ee",
   "metadata": {},
   "outputs": [
    {
     "data": {
      "text/html": [
       "<div>\n",
       "<style scoped>\n",
       "    .dataframe tbody tr th:only-of-type {\n",
       "        vertical-align: middle;\n",
       "    }\n",
       "\n",
       "    .dataframe tbody tr th {\n",
       "        vertical-align: top;\n",
       "    }\n",
       "\n",
       "    .dataframe thead th {\n",
       "        text-align: right;\n",
       "    }\n",
       "</style>\n",
       "<table border=\"1\" class=\"dataframe\">\n",
       "  <thead>\n",
       "    <tr style=\"text-align: right;\">\n",
       "      <th></th>\n",
       "      <th>user_uid</th>\n",
       "      <th>element_uid</th>\n",
       "      <th>price</th>\n",
       "    </tr>\n",
       "  </thead>\n",
       "  <tbody>\n",
       "    <tr>\n",
       "      <th>0</th>\n",
       "      <td>00000000-105C-2EBD-0000-000000000000</td>\n",
       "      <td>b5f01d35-abaf-4e0f-95b7-2acc4bdd51c5</td>\n",
       "      <td>799.0</td>\n",
       "    </tr>\n",
       "    <tr>\n",
       "      <th>1</th>\n",
       "      <td>00000000-105C-2C75-0000-000000000000</td>\n",
       "      <td>b5f01d35-abaf-4e0f-95b7-2acc4bdd51c5</td>\n",
       "      <td>799.0</td>\n",
       "    </tr>\n",
       "    <tr>\n",
       "      <th>2</th>\n",
       "      <td>00000000-105C-2F9F-0000-000000000000</td>\n",
       "      <td>6c61cac5-63ac-4b92-ba73-20239fbdb7dc</td>\n",
       "      <td>399.0</td>\n",
       "    </tr>\n",
       "    <tr>\n",
       "      <th>3</th>\n",
       "      <td>00000000-0834-F54B-0000-000000000000</td>\n",
       "      <td>d2f3976f-db5c-4009-8a05-668673f577a0</td>\n",
       "      <td>349.0</td>\n",
       "    </tr>\n",
       "    <tr>\n",
       "      <th>4</th>\n",
       "      <td>00000000-1059-C6F1-0000-000000000000</td>\n",
       "      <td>b4eba600-7067-440d-9820-d681e00ab580</td>\n",
       "      <td>99.0</td>\n",
       "    </tr>\n",
       "    <tr>\n",
       "      <th>...</th>\n",
       "      <td>...</td>\n",
       "      <td>...</td>\n",
       "      <td>...</td>\n",
       "    </tr>\n",
       "    <tr>\n",
       "      <th>37264864</th>\n",
       "      <td>00000000-019A-F73D-0000-000000000000</td>\n",
       "      <td>811c1d12-e8b7-49e1-91ab-2685ffd18493</td>\n",
       "      <td>599.0</td>\n",
       "    </tr>\n",
       "    <tr>\n",
       "      <th>37264865</th>\n",
       "      <td>00000000-0F00-F57C-0000-000000000000</td>\n",
       "      <td>496de8b2-b0e6-4f7d-95ce-76aea1b01903</td>\n",
       "      <td>299.0</td>\n",
       "    </tr>\n",
       "    <tr>\n",
       "      <th>37264866</th>\n",
       "      <td>00000000-1211-68A0-0000-000000000000</td>\n",
       "      <td>b5f01d35-abaf-4e0f-95b7-2acc4bdd51c5</td>\n",
       "      <td>799.0</td>\n",
       "    </tr>\n",
       "    <tr>\n",
       "      <th>37264867</th>\n",
       "      <td>00000000-020D-E7D8-0000-000000000000</td>\n",
       "      <td>98cf70d4-3fe6-4df5-b879-b4de0bc6f516</td>\n",
       "      <td>99.0</td>\n",
       "    </tr>\n",
       "    <tr>\n",
       "      <th>37264868</th>\n",
       "      <td>00000000-1092-D9E0-0000-000000000000</td>\n",
       "      <td>bc2abbed-b9cc-4bff-b9b0-24efa1d3d446</td>\n",
       "      <td>399.0</td>\n",
       "    </tr>\n",
       "  </tbody>\n",
       "</table>\n",
       "<p>37264869 rows × 3 columns</p>\n",
       "</div>"
      ],
      "text/plain": [
       "                                      user_uid  \\\n",
       "0         00000000-105C-2EBD-0000-000000000000   \n",
       "1         00000000-105C-2C75-0000-000000000000   \n",
       "2         00000000-105C-2F9F-0000-000000000000   \n",
       "3         00000000-0834-F54B-0000-000000000000   \n",
       "4         00000000-1059-C6F1-0000-000000000000   \n",
       "...                                        ...   \n",
       "37264864  00000000-019A-F73D-0000-000000000000   \n",
       "37264865  00000000-0F00-F57C-0000-000000000000   \n",
       "37264866  00000000-1211-68A0-0000-000000000000   \n",
       "37264867  00000000-020D-E7D8-0000-000000000000   \n",
       "37264868  00000000-1092-D9E0-0000-000000000000   \n",
       "\n",
       "                                   element_uid  price  \n",
       "0         b5f01d35-abaf-4e0f-95b7-2acc4bdd51c5  799.0  \n",
       "1         b5f01d35-abaf-4e0f-95b7-2acc4bdd51c5  799.0  \n",
       "2         6c61cac5-63ac-4b92-ba73-20239fbdb7dc  399.0  \n",
       "3         d2f3976f-db5c-4009-8a05-668673f577a0  349.0  \n",
       "4         b4eba600-7067-440d-9820-d681e00ab580   99.0  \n",
       "...                                        ...    ...  \n",
       "37264864  811c1d12-e8b7-49e1-91ab-2685ffd18493  599.0  \n",
       "37264865  496de8b2-b0e6-4f7d-95ce-76aea1b01903  299.0  \n",
       "37264866  b5f01d35-abaf-4e0f-95b7-2acc4bdd51c5  799.0  \n",
       "37264867  98cf70d4-3fe6-4df5-b879-b4de0bc6f516   99.0  \n",
       "37264868  bc2abbed-b9cc-4bff-b9b0-24efa1d3d446  399.0  \n",
       "\n",
       "[37264869 rows x 3 columns]"
      ]
     },
     "execution_count": 22,
     "metadata": {},
     "output_type": "execute_result"
    }
   ],
   "source": [
    "df_2021"
   ]
  },
  {
   "cell_type": "code",
   "execution_count": 23,
   "id": "3d57362a",
   "metadata": {},
   "outputs": [
    {
     "data": {
      "text/plain": [
       "(37264869, 3)"
      ]
     },
     "execution_count": 23,
     "metadata": {},
     "output_type": "execute_result"
    }
   ],
   "source": [
    "df_2021.shape"
   ]
  },
  {
   "cell_type": "code",
   "execution_count": 24,
   "id": "b37d555c",
   "metadata": {},
   "outputs": [
    {
     "data": {
      "text/plain": [
       "9630"
      ]
     },
     "execution_count": 24,
     "metadata": {},
     "output_type": "execute_result"
    }
   ],
   "source": [
    "len(df_2021['element_uid'].unique())"
   ]
  },
  {
   "cell_type": "code",
   "execution_count": 25,
   "id": "4e344e17",
   "metadata": {},
   "outputs": [
    {
     "data": {
      "text/plain": [
       "13924566"
      ]
     },
     "execution_count": 25,
     "metadata": {},
     "output_type": "execute_result"
    }
   ],
   "source": [
    "len(df_2021['user_uid'].unique())"
   ]
  },
  {
   "cell_type": "code",
   "execution_count": 9,
   "id": "e81f2ed5",
   "metadata": {},
   "outputs": [],
   "source": [
    "import pickle"
   ]
  },
  {
   "cell_type": "code",
   "execution_count": 26,
   "id": "eb622425",
   "metadata": {},
   "outputs": [],
   "source": [
    "\n",
    "with open('txstat_2022.pkl', 'wb') as f:\n",
    "    pickle.dump(df_2021, f)"
   ]
  },
  {
   "cell_type": "markdown",
   "id": "9e3c8db7",
   "metadata": {},
   "source": [
    "### Loading txstat 3 years"
   ]
  },
  {
   "cell_type": "code",
   "execution_count": null,
   "id": "b99f5879",
   "metadata": {},
   "outputs": [],
   "source": [
    "import pickle\n",
    "\n",
    "with open('txstat_2020.pkl', 'rb') as f:\n",
    "    txstat_2020 = pickle.load(f)\n",
    "    \n",
    "with open('txstat_2021.pkl', 'rb') as f:\n",
    "    txstat_2021 = pickle.load(f)\n",
    "    \n",
    "with open('txstat_2022.pkl', 'rb') as f:\n",
    "    txstat_2022 = pickle.load(f)\n",
    "\n",
    "# # content features from ./content_features_creation\n",
    "# with open('elements_available.pkl', 'rb') as f:\n",
    "#     elements_available = pickle.load(f)\n",
    "\n",
    "# with open('el_uid_min_ts.pkl', 'rb') as f:\n",
    "#     el_uid_min_ts = pickle.load(f)"
   ]
  },
  {
   "cell_type": "code",
   "execution_count": null,
   "id": "b11d77bd",
   "metadata": {},
   "outputs": [],
   "source": [
    "with open('RATINGS_OKKO_item_coldstart_dataset.pkl', 'rb') as f:\n",
    "    full_df = pickle.load(f)"
   ]
  },
  {
   "cell_type": "code",
   "execution_count": null,
   "id": "8669c979",
   "metadata": {},
   "outputs": [],
   "source": [
    "data_2020 = txstat_2020.groupby('element_uid').agg('sum')\n",
    "data_2021 = txstat_2021.groupby('element_uid').agg('sum')\n",
    "data_2022 = txstat_2022.groupby('element_uid').agg('sum')"
   ]
  },
  {
   "cell_type": "code",
   "execution_count": null,
   "id": "58e76db0",
   "metadata": {},
   "outputs": [],
   "source": [
    "data_2020.shape, data_2021.shape, data_2022.shape"
   ]
  },
  {
   "cell_type": "code",
   "execution_count": null,
   "id": "b7ed37bc",
   "metadata": {},
   "outputs": [],
   "source": [
    "three_years_df = data_2020.append([data_2021, data_2022])"
   ]
  },
  {
   "cell_type": "code",
   "execution_count": 13,
   "id": "c0152652",
   "metadata": {},
   "outputs": [
    {
     "data": {
      "text/html": [
       "<div>\n",
       "<style scoped>\n",
       "    .dataframe tbody tr th:only-of-type {\n",
       "        vertical-align: middle;\n",
       "    }\n",
       "\n",
       "    .dataframe tbody tr th {\n",
       "        vertical-align: top;\n",
       "    }\n",
       "\n",
       "    .dataframe thead th {\n",
       "        text-align: right;\n",
       "    }\n",
       "</style>\n",
       "<table border=\"1\" class=\"dataframe\">\n",
       "  <thead>\n",
       "    <tr style=\"text-align: right;\">\n",
       "      <th></th>\n",
       "      <th>price</th>\n",
       "    </tr>\n",
       "    <tr>\n",
       "      <th>element_uid</th>\n",
       "      <th></th>\n",
       "    </tr>\n",
       "  </thead>\n",
       "  <tbody>\n",
       "    <tr>\n",
       "      <th>002134e1-267c-418a-9e0f-4b5ee7fc111c</th>\n",
       "      <td>4509186.0</td>\n",
       "    </tr>\n",
       "    <tr>\n",
       "      <th>0023d642-4c86-4724-9d57-280a8f4e86fa</th>\n",
       "      <td>46021.0</td>\n",
       "    </tr>\n",
       "    <tr>\n",
       "      <th>00247d78-8a1e-43fd-ae3d-8d0e3f3151b9</th>\n",
       "      <td>945.0</td>\n",
       "    </tr>\n",
       "    <tr>\n",
       "      <th>00282f21-ea8e-4df3-9382-7a942822198b</th>\n",
       "      <td>82481.0</td>\n",
       "    </tr>\n",
       "    <tr>\n",
       "      <th>0029671a-ae6b-447a-b49a-3a210a779bff</th>\n",
       "      <td>662029.0</td>\n",
       "    </tr>\n",
       "    <tr>\n",
       "      <th>...</th>\n",
       "      <td>...</td>\n",
       "    </tr>\n",
       "    <tr>\n",
       "      <th>ffdb6728-7bc5-4e08-9c1c-e2c8643c3190</th>\n",
       "      <td>169421.0</td>\n",
       "    </tr>\n",
       "    <tr>\n",
       "      <th>ffe70cae-7c9f-4b21-bb28-1b820d1bb48c</th>\n",
       "      <td>1583.0</td>\n",
       "    </tr>\n",
       "    <tr>\n",
       "      <th>ffeb6d52-2062-4ec4-851d-a0255fe0fc5d</th>\n",
       "      <td>3490.0</td>\n",
       "    </tr>\n",
       "    <tr>\n",
       "      <th>ffefbe8f-7edb-4bf2-b999-42f82d74fbcb</th>\n",
       "      <td>6022.0</td>\n",
       "    </tr>\n",
       "    <tr>\n",
       "      <th>fff8228d-52c9-423c-90f2-d9d8879d0124</th>\n",
       "      <td>1592.0</td>\n",
       "    </tr>\n",
       "  </tbody>\n",
       "</table>\n",
       "<p>33781 rows × 1 columns</p>\n",
       "</div>"
      ],
      "text/plain": [
       "                                          price\n",
       "element_uid                                    \n",
       "002134e1-267c-418a-9e0f-4b5ee7fc111c  4509186.0\n",
       "0023d642-4c86-4724-9d57-280a8f4e86fa    46021.0\n",
       "00247d78-8a1e-43fd-ae3d-8d0e3f3151b9      945.0\n",
       "00282f21-ea8e-4df3-9382-7a942822198b    82481.0\n",
       "0029671a-ae6b-447a-b49a-3a210a779bff   662029.0\n",
       "...                                         ...\n",
       "ffdb6728-7bc5-4e08-9c1c-e2c8643c3190   169421.0\n",
       "ffe70cae-7c9f-4b21-bb28-1b820d1bb48c     1583.0\n",
       "ffeb6d52-2062-4ec4-851d-a0255fe0fc5d     3490.0\n",
       "ffefbe8f-7edb-4bf2-b999-42f82d74fbcb     6022.0\n",
       "fff8228d-52c9-423c-90f2-d9d8879d0124     1592.0\n",
       "\n",
       "[33781 rows x 1 columns]"
      ]
     },
     "execution_count": 13,
     "metadata": {},
     "output_type": "execute_result"
    }
   ],
   "source": [
    "three_years_df"
   ]
  },
  {
   "cell_type": "code",
   "execution_count": 14,
   "id": "ab5de565",
   "metadata": {},
   "outputs": [
    {
     "data": {
      "text/plain": [
       "(15664, 1)"
      ]
     },
     "execution_count": 14,
     "metadata": {},
     "output_type": "execute_result"
    }
   ],
   "source": [
    "three_years_df = three_years_df.groupby('element_uid').agg('sum')\n",
    "three_years_df.shape"
   ]
  },
  {
   "cell_type": "code",
   "execution_count": 15,
   "id": "82b11824",
   "metadata": {},
   "outputs": [
    {
     "data": {
      "text/html": [
       "<div>\n",
       "<style scoped>\n",
       "    .dataframe tbody tr th:only-of-type {\n",
       "        vertical-align: middle;\n",
       "    }\n",
       "\n",
       "    .dataframe tbody tr th {\n",
       "        vertical-align: top;\n",
       "    }\n",
       "\n",
       "    .dataframe thead th {\n",
       "        text-align: right;\n",
       "    }\n",
       "</style>\n",
       "<table border=\"1\" class=\"dataframe\">\n",
       "  <thead>\n",
       "    <tr style=\"text-align: right;\">\n",
       "      <th></th>\n",
       "      <th>price</th>\n",
       "    </tr>\n",
       "    <tr>\n",
       "      <th>element_uid</th>\n",
       "      <th></th>\n",
       "    </tr>\n",
       "  </thead>\n",
       "  <tbody>\n",
       "    <tr>\n",
       "      <th>0009995a-605d-4958-afac-2457b8445d2f</th>\n",
       "      <td>2788.0</td>\n",
       "    </tr>\n",
       "    <tr>\n",
       "      <th>000d6913-68a1-4135-9bad-9bcd71708b2e</th>\n",
       "      <td>436.0</td>\n",
       "    </tr>\n",
       "    <tr>\n",
       "      <th>001d1aeb-4599-46ae-bc78-e01638e1fd31</th>\n",
       "      <td>78451.0</td>\n",
       "    </tr>\n",
       "    <tr>\n",
       "      <th>001f4aeb-1b47-4ad5-8a8c-21b576acbadf</th>\n",
       "      <td>37412.0</td>\n",
       "    </tr>\n",
       "    <tr>\n",
       "      <th>001f9f8f-a238-41a1-a783-91c851a64bc3</th>\n",
       "      <td>55094.0</td>\n",
       "    </tr>\n",
       "    <tr>\n",
       "      <th>...</th>\n",
       "      <td>...</td>\n",
       "    </tr>\n",
       "    <tr>\n",
       "      <th>ffdb6728-7bc5-4e08-9c1c-e2c8643c3190</th>\n",
       "      <td>503740.0</td>\n",
       "    </tr>\n",
       "    <tr>\n",
       "      <th>ffe70cae-7c9f-4b21-bb28-1b820d1bb48c</th>\n",
       "      <td>10809.0</td>\n",
       "    </tr>\n",
       "    <tr>\n",
       "      <th>ffeb6d52-2062-4ec4-851d-a0255fe0fc5d</th>\n",
       "      <td>28655.0</td>\n",
       "    </tr>\n",
       "    <tr>\n",
       "      <th>ffefbe8f-7edb-4bf2-b999-42f82d74fbcb</th>\n",
       "      <td>950643.0</td>\n",
       "    </tr>\n",
       "    <tr>\n",
       "      <th>fff8228d-52c9-423c-90f2-d9d8879d0124</th>\n",
       "      <td>13259.0</td>\n",
       "    </tr>\n",
       "  </tbody>\n",
       "</table>\n",
       "<p>15664 rows × 1 columns</p>\n",
       "</div>"
      ],
      "text/plain": [
       "                                         price\n",
       "element_uid                                   \n",
       "0009995a-605d-4958-afac-2457b8445d2f    2788.0\n",
       "000d6913-68a1-4135-9bad-9bcd71708b2e     436.0\n",
       "001d1aeb-4599-46ae-bc78-e01638e1fd31   78451.0\n",
       "001f4aeb-1b47-4ad5-8a8c-21b576acbadf   37412.0\n",
       "001f9f8f-a238-41a1-a783-91c851a64bc3   55094.0\n",
       "...                                        ...\n",
       "ffdb6728-7bc5-4e08-9c1c-e2c8643c3190  503740.0\n",
       "ffe70cae-7c9f-4b21-bb28-1b820d1bb48c   10809.0\n",
       "ffeb6d52-2062-4ec4-851d-a0255fe0fc5d   28655.0\n",
       "ffefbe8f-7edb-4bf2-b999-42f82d74fbcb  950643.0\n",
       "fff8228d-52c9-423c-90f2-d9d8879d0124   13259.0\n",
       "\n",
       "[15664 rows x 1 columns]"
      ]
     },
     "execution_count": 15,
     "metadata": {},
     "output_type": "execute_result"
    }
   ],
   "source": [
    "three_years_df"
   ]
  },
  {
   "cell_type": "code",
   "execution_count": 16,
   "id": "1758ed6b",
   "metadata": {},
   "outputs": [],
   "source": [
    "full_df = full_df.merge(three_years_df,\n",
    "                   on='element_uid',\n",
    "                   how='inner')"
   ]
  },
  {
   "cell_type": "code",
   "execution_count": 18,
   "id": "bcc43b02",
   "metadata": {},
   "outputs": [
    {
     "data": {
      "text/plain": [
       "(4140, 20)"
      ]
     },
     "execution_count": 18,
     "metadata": {},
     "output_type": "execute_result"
    }
   ],
   "source": [
    "full_df.shape"
   ]
  },
  {
   "cell_type": "code",
   "execution_count": 19,
   "id": "77a617c6",
   "metadata": {},
   "outputs": [],
   "source": [
    "with open('income_target.pkl', 'wb') as f:\n",
    "    pickle.dump(full_df, f)"
   ]
  },
  {
   "cell_type": "code",
   "execution_count": null,
   "id": "1ec6504c",
   "metadata": {},
   "outputs": [],
   "source": []
  },
  {
   "cell_type": "code",
   "execution_count": null,
   "id": "65695081",
   "metadata": {},
   "outputs": [],
   "source": []
  },
  {
   "cell_type": "code",
   "execution_count": null,
   "id": "7736706e",
   "metadata": {},
   "outputs": [],
   "source": []
  },
  {
   "cell_type": "code",
   "execution_count": null,
   "id": "7e4646e3",
   "metadata": {},
   "outputs": [],
   "source": []
  },
  {
   "cell_type": "code",
   "execution_count": null,
   "id": "81b70552",
   "metadata": {},
   "outputs": [],
   "source": []
  },
  {
   "cell_type": "code",
   "execution_count": null,
   "id": "4988d969",
   "metadata": {},
   "outputs": [],
   "source": []
  },
  {
   "cell_type": "code",
   "execution_count": null,
   "id": "786f1294",
   "metadata": {},
   "outputs": [],
   "source": [
    "## фото "
   ]
  },
  {
   "cell_type": "code",
   "execution_count": 6,
   "id": "f343fcbe",
   "metadata": {},
   "outputs": [],
   "source": [
    "import msgpack\n",
    "import boto3\n",
    "import awswrangler as wr\n",
    "ACCESS_KEY='du3wAsX0uzEBBn4AdkFpCX4ZTXvSWFVG48GA4jbT'\n",
    "SECRET_KEY='WA0NJOX0AFAY4K1J92XZ'\n",
    "\n",
    "wr.config.s3_endpoint_url = 'https://obs.ru-moscow-1.hc.sbercloud.ru'\n",
    "\n",
    "boto3.setup_default_session(\n",
    "    region_name='ru-moscow',\n",
    "    aws_access_key_id=SECRET_KEY,\n",
    "    aws_secret_access_key=ACCESS_KEY,\n",
    ")"
   ]
  },
  {
   "cell_type": "code",
   "execution_count": 30,
   "id": "fc23e0a3",
   "metadata": {},
   "outputs": [],
   "source": [
    "path_catalogue = 's3://ml-okko-object-storage/catalogue/element_kino.csv'\n",
    "catalogue = wr.s3.read_csv(path_catalogue, encoding=\"utf-8\")"
   ]
  },
  {
   "cell_type": "code",
   "execution_count": 31,
   "id": "be92d9f2",
   "metadata": {},
   "outputs": [
    {
     "data": {
      "text/html": [
       "<div>\n",
       "<style scoped>\n",
       "    .dataframe tbody tr th:only-of-type {\n",
       "        vertical-align: middle;\n",
       "    }\n",
       "\n",
       "    .dataframe tbody tr th {\n",
       "        vertical-align: top;\n",
       "    }\n",
       "\n",
       "    .dataframe thead th {\n",
       "        text-align: right;\n",
       "    }\n",
       "</style>\n",
       "<table border=\"1\" class=\"dataframe\">\n",
       "  <thead>\n",
       "    <tr style=\"text-align: right;\">\n",
       "      <th></th>\n",
       "      <th>element_uid</th>\n",
       "      <th>kinopoiskid</th>\n",
       "    </tr>\n",
       "  </thead>\n",
       "  <tbody>\n",
       "    <tr>\n",
       "      <th>0</th>\n",
       "      <td>0002b2da-7965-4804-8046-83bc45c36323</td>\n",
       "      <td>818778</td>\n",
       "    </tr>\n",
       "    <tr>\n",
       "      <th>1</th>\n",
       "      <td>0007e3e8-0333-4926-a36a-c73c5075d64d</td>\n",
       "      <td>798660</td>\n",
       "    </tr>\n",
       "    <tr>\n",
       "      <th>2</th>\n",
       "      <td>001357f9-55a1-4d6c-834e-29c55a2f7b34</td>\n",
       "      <td>181807</td>\n",
       "    </tr>\n",
       "    <tr>\n",
       "      <th>3</th>\n",
       "      <td>001dc985-ad6c-4e0d-9ab9-950210df3b96</td>\n",
       "      <td>NaN</td>\n",
       "    </tr>\n",
       "    <tr>\n",
       "      <th>4</th>\n",
       "      <td>001e2119-d5c0-43b2-ac7c-d72eb4152644</td>\n",
       "      <td>1172552</td>\n",
       "    </tr>\n",
       "    <tr>\n",
       "      <th>...</th>\n",
       "      <td>...</td>\n",
       "      <td>...</td>\n",
       "    </tr>\n",
       "    <tr>\n",
       "      <th>272478</th>\n",
       "      <td>ffeca5c8-b78c-4d41-b56c-b469587b5998</td>\n",
       "      <td>NaN</td>\n",
       "    </tr>\n",
       "    <tr>\n",
       "      <th>272479</th>\n",
       "      <td>ffeeb9cc-0121-46b2-b994-fde5e6f52385</td>\n",
       "      <td>258382</td>\n",
       "    </tr>\n",
       "    <tr>\n",
       "      <th>272480</th>\n",
       "      <td>fff49942-4b4d-4a75-ae42-64a0531b78e8</td>\n",
       "      <td>NaN</td>\n",
       "    </tr>\n",
       "    <tr>\n",
       "      <th>272481</th>\n",
       "      <td>fff801f2-f290-3cc9-8594-1ff3572d54e7</td>\n",
       "      <td>NaN</td>\n",
       "    </tr>\n",
       "    <tr>\n",
       "      <th>272482</th>\n",
       "      <td>fffe4f0c-e0f3-4f5f-8b97-1eb1fccb4038</td>\n",
       "      <td>NaN</td>\n",
       "    </tr>\n",
       "  </tbody>\n",
       "</table>\n",
       "<p>272483 rows × 2 columns</p>\n",
       "</div>"
      ],
      "text/plain": [
       "                                 element_uid kinopoiskid\n",
       "0       0002b2da-7965-4804-8046-83bc45c36323      818778\n",
       "1       0007e3e8-0333-4926-a36a-c73c5075d64d      798660\n",
       "2       001357f9-55a1-4d6c-834e-29c55a2f7b34      181807\n",
       "3       001dc985-ad6c-4e0d-9ab9-950210df3b96         NaN\n",
       "4       001e2119-d5c0-43b2-ac7c-d72eb4152644     1172552\n",
       "...                                      ...         ...\n",
       "272478  ffeca5c8-b78c-4d41-b56c-b469587b5998         NaN\n",
       "272479  ffeeb9cc-0121-46b2-b994-fde5e6f52385      258382\n",
       "272480  fff49942-4b4d-4a75-ae42-64a0531b78e8         NaN\n",
       "272481  fff801f2-f290-3cc9-8594-1ff3572d54e7         NaN\n",
       "272482  fffe4f0c-e0f3-4f5f-8b97-1eb1fccb4038         NaN\n",
       "\n",
       "[272483 rows x 2 columns]"
      ]
     },
     "execution_count": 31,
     "metadata": {},
     "output_type": "execute_result"
    }
   ],
   "source": [
    "catalogue"
   ]
  },
  {
   "cell_type": "code",
   "execution_count": 32,
   "id": "96648821",
   "metadata": {},
   "outputs": [
    {
     "name": "stdout",
     "output_type": "stream",
     "text": [
      "<class 'pandas.core.frame.DataFrame'>\n",
      "RangeIndex: 272483 entries, 0 to 272482\n",
      "Data columns (total 2 columns):\n",
      " #   Column       Non-Null Count   Dtype \n",
      "---  ------       --------------   ----- \n",
      " 0   element_uid  272483 non-null  object\n",
      " 1   kinopoiskid  148145 non-null  object\n",
      "dtypes: object(2)\n",
      "memory usage: 4.2+ MB\n"
     ]
    }
   ],
   "source": [
    "catalogue.info()"
   ]
  },
  {
   "cell_type": "code",
   "execution_count": null,
   "id": "3f13fdd9",
   "metadata": {},
   "outputs": [],
   "source": []
  },
  {
   "cell_type": "code",
   "execution_count": null,
   "id": "cffbc7f8",
   "metadata": {},
   "outputs": [],
   "source": []
  },
  {
   "cell_type": "markdown",
   "id": "d5ba36f7",
   "metadata": {},
   "source": [
    "## не платят"
   ]
  },
  {
   "cell_type": "code",
   "execution_count": 80,
   "id": "6af74165",
   "metadata": {},
   "outputs": [
    {
     "name": "stdout",
     "output_type": "stream",
     "text": [
      "+--------------------+--------------------+-----+------------+----------------+--------+--------------------------+------------------------+\n",
      "|            user_uid|         element_uid|price|element_type|consumption_mode| tx_type|user_subscription_start_ts|user_subscription_end_ts|\n",
      "+--------------------+--------------------+-----+------------+----------------+--------+--------------------------+------------------------+\n",
      "|00000000-0054-DC1...|09ce0983-3458-49d...|  0.0|       movie|             DTO|PURCHASE|                      null|                    null|\n",
      "|00000000-017A-BBC...|26e1dad4-be17-448...|  0.0|       movie|             DTO|PURCHASE|                      null|                    null|\n",
      "|00000000-0242-A2A...|09ce0983-3458-49d...|  0.0|       movie|             DTO|PURCHASE|                      null|                    null|\n",
      "|00000000-0246-427...|525b664f-dd57-42f...|  0.0|       movie|             DTO|PURCHASE|                      null|                    null|\n",
      "|00000000-024E-5B9...|874e1d57-8e8c-4a9...|  0.0|       movie|             DTO|PURCHASE|                      null|                    null|\n",
      "|00000000-024E-5B9...|31e4fd70-9d52-4e9...|  0.0|       movie|             DTO|PURCHASE|                      null|                    null|\n",
      "|00000000-0218-ED3...|b6cf013a-aec5-498...|  0.0|       movie|             DTO|PURCHASE|                      null|                    null|\n",
      "|00000000-0153-AE7...|29ffb2f1-ec38-4f5...|  0.0|       movie|             DTO|PURCHASE|                      null|                    null|\n",
      "|00000000-014D-1D6...|2fc59859-df7e-4b4...|  0.0|       movie|             DTO|PURCHASE|                      null|                    null|\n",
      "|00000000-006F-0B7...|739b4e33-4c4d-458...|  0.0|       movie|             DTO|PURCHASE|                      null|                    null|\n",
      "|00000000-0241-1D8...|b6f8ff8b-10ed-49d...|  0.0|       movie|             DTO|PURCHASE|                      null|                    null|\n",
      "|00000000-0251-188...|73d3093f-8a55-423...|  0.0|       movie|             DTO|PURCHASE|                      null|                    null|\n",
      "|00000000-024F-458...|43202318-160c-4be...|  0.0|       movie|             DTO|PURCHASE|                      null|                    null|\n",
      "|00000000-0217-DC5...|f6d69042-bd44-4d0...|  0.0|       movie|             DTO|PURCHASE|                      null|                    null|\n",
      "|00000000-0214-0DF...|09ce0983-3458-49d...|  0.0|       movie|             DTO|PURCHASE|                      null|                    null|\n",
      "|00000000-022B-C0B...|26e1dad4-be17-448...|  0.0|       movie|             DTO|PURCHASE|                      null|                    null|\n",
      "|00000000-013E-D28...|c4c1706d-4157-44b...|  0.0|       movie|             DTO|PURCHASE|                      null|                    null|\n",
      "|00000000-0227-E41...|c5169c80-de03-44c...|  0.0|       movie|             DTO|PURCHASE|                      null|                    null|\n",
      "|00000000-00E4-D2D...|383c4acf-6323-426...|  0.0|       movie|             DTO|PURCHASE|                      null|                    null|\n",
      "|00000000-002B-247...|43202318-160c-4be...|  0.0|       movie|             DTO|PURCHASE|                      null|                    null|\n",
      "+--------------------+--------------------+-----+------------+----------------+--------+--------------------------+------------------------+\n",
      "only showing top 20 rows\n",
      "\n"
     ]
    }
   ],
   "source": [
    "import datetime\n",
    "current_date = datetime.datetime.now().strftime(\"%Y-%m-%d %H:%M:%S\")\n",
    "\n",
    "q2 = \"\"\"\n",
    "        SELECT\n",
    "            CAST(CONCAT(\n",
    "                SUBSTRING(REPLACE(format_string('%16s', conv(CAST(user_uid AS BIGINT), 10, 16)), ' ', '0'), 1, 8),\n",
    "                '-',\n",
    "                SUBSTRING(REPLACE(format_string('%16s', conv(CAST(user_uid AS BIGINT), 10, 16)), ' ', '0'), 9, 4),\n",
    "                '-',\n",
    "                SUBSTRING(REPLACE(format_string('%16s', conv(CAST(user_uid AS BIGINT), 10, 16)), ' ', '0'), 13, 4),\n",
    "                '-0000-000000000000'\n",
    "                ) AS STRING) AS user_uid,\n",
    "                element_uid,\n",
    "                price,\n",
    "                element_type,\n",
    "                consumption_mode,\n",
    "                tx_type, \n",
    "                user_subscription_start_ts, user_subscription_end_ts\n",
    "        FROM txstat\n",
    "        WHERE\n",
    "            (tx_type = 'PURCHASE'\n",
    "            AND consumption_mode ='SUBSCRIPTION'\n",
    "            AND to_timestamp('{date}') BETWEEN to_timestamp(user_subscription_start_ts) AND to_timestamp(user_subscription_end_ts)\n",
    "            AND element_uid IS NOT NULL\n",
    "            AND price = 0.0)\n",
    "            or\n",
    "            (tx_type = 'VIEW'\n",
    "            AND consumption_mode ='SUBSCRIPTION'\n",
    "            AND to_timestamp('{date}') BETWEEN to_timestamp(user_subscription_start_ts) AND to_timestamp(user_subscription_end_ts)\n",
    "            AND element_uid IS NOT NULL\n",
    "            AND price = 0.0)\n",
    "            or\n",
    "            (tx_type='PURCHASE'\n",
    "            AND consumption_mode ='RENT'\n",
    "            AND element_uid IS NOT NULL\n",
    "            AND price = 0.0)\n",
    "            or\n",
    "            (tx_type='PURCHASE'\n",
    "            AND consumption_mode ='DTO'\n",
    "            AND element_uid IS NOT NULL\n",
    "            AND price = 0.0)\n",
    "\"\"\"\n",
    "\n",
    "q_2 = spark.sql(q2.format(\n",
    "        date=current_date\n",
    "    ))\n",
    "q_2.show()"
   ]
  },
  {
   "cell_type": "code",
   "execution_count": 81,
   "id": "cfef0ff2",
   "metadata": {},
   "outputs": [
    {
     "name": "stderr",
     "output_type": "stream",
     "text": [
      "                                                                                \r"
     ]
    },
    {
     "data": {
      "text/plain": [
       "1721484"
      ]
     },
     "execution_count": 81,
     "metadata": {},
     "output_type": "execute_result"
    }
   ],
   "source": [
    "q_2.count()"
   ]
  },
  {
   "cell_type": "code",
   "execution_count": null,
   "id": "a01cc216",
   "metadata": {},
   "outputs": [
    {
     "name": "stderr",
     "output_type": "stream",
     "text": [
      "[Stage 144:===================================================> (688 + 1) / 710]\r"
     ]
    }
   ],
   "source": [
    "df2 = q_2.toPandas()"
   ]
  },
  {
   "cell_type": "code",
   "execution_count": null,
   "id": "4e818345",
   "metadata": {},
   "outputs": [],
   "source": [
    "len(df2['element_uid'].unique())"
   ]
  },
  {
   "cell_type": "code",
   "execution_count": null,
   "id": "e4d0677b",
   "metadata": {},
   "outputs": [],
   "source": [
    "len(df2['user_uid'].unique())"
   ]
  },
  {
   "cell_type": "code",
   "execution_count": null,
   "id": "b9fd6556",
   "metadata": {},
   "outputs": [],
   "source": []
  },
  {
   "cell_type": "code",
   "execution_count": null,
   "id": "0cddd58c",
   "metadata": {},
   "outputs": [],
   "source": []
  }
 ],
 "metadata": {
  "kernelspec": {
   "display_name": "Python 3 (ipykernel)",
   "language": "python",
   "name": "python3"
  },
  "language_info": {
   "codemirror_mode": {
    "name": "ipython",
    "version": 3
   },
   "file_extension": ".py",
   "mimetype": "text/x-python",
   "name": "python",
   "nbconvert_exporter": "python",
   "pygments_lexer": "ipython3",
   "version": "3.8.10"
  }
 },
 "nbformat": 4,
 "nbformat_minor": 5
}
