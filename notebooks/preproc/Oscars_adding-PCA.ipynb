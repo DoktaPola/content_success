{
 "cells": [
  {
   "cell_type": "code",
   "execution_count": 1,
   "id": "389b8d57",
   "metadata": {},
   "outputs": [
    {
     "name": "stdout",
     "output_type": "stream",
     "text": [
      "Requirement already satisfied: transliterate in /root/anaconda3/lib/python3.9/site-packages (1.10.2)\n",
      "Requirement already satisfied: six>=1.1.0 in /root/anaconda3/lib/python3.9/site-packages (from transliterate) (1.16.0)\n",
      "\u001b[33mWARNING: Running pip as the 'root' user can result in broken permissions and conflicting behaviour with the system package manager. It is recommended to use a virtual environment instead: https://pip.pypa.io/warnings/venv\u001b[0m\u001b[33m\n",
      "\u001b[0mRequirement already satisfied: spacy in /root/anaconda3/lib/python3.9/site-packages (3.5.0)\n",
      "Requirement already satisfied: jinja2 in /root/anaconda3/lib/python3.9/site-packages (from spacy) (3.1.2)\n",
      "Requirement already satisfied: preshed<3.1.0,>=3.0.2 in /root/anaconda3/lib/python3.9/site-packages (from spacy) (3.0.8)\n",
      "Requirement already satisfied: wasabi<1.2.0,>=0.9.1 in /root/anaconda3/lib/python3.9/site-packages (from spacy) (1.1.1)\n",
      "Requirement already satisfied: catalogue<2.1.0,>=2.0.6 in /root/anaconda3/lib/python3.9/site-packages (from spacy) (2.0.8)\n",
      "Requirement already satisfied: setuptools in /root/anaconda3/lib/python3.9/site-packages (from spacy) (63.4.1)\n",
      "Requirement already satisfied: cymem<2.1.0,>=2.0.2 in /root/anaconda3/lib/python3.9/site-packages (from spacy) (2.0.7)\n",
      "Requirement already satisfied: langcodes<4.0.0,>=3.2.0 in /root/anaconda3/lib/python3.9/site-packages (from spacy) (3.3.0)\n",
      "Requirement already satisfied: spacy-loggers<2.0.0,>=1.0.0 in /root/anaconda3/lib/python3.9/site-packages (from spacy) (1.0.4)\n",
      "Requirement already satisfied: smart-open<7.0.0,>=5.2.1 in /root/anaconda3/lib/python3.9/site-packages (from spacy) (5.2.1)\n",
      "Requirement already satisfied: numpy>=1.15.0 in /root/anaconda3/lib/python3.9/site-packages (from spacy) (1.21.5)\n",
      "Requirement already satisfied: spacy-legacy<3.1.0,>=3.0.11 in /root/anaconda3/lib/python3.9/site-packages (from spacy) (3.0.11)\n",
      "Requirement already satisfied: thinc<8.2.0,>=8.1.0 in /root/anaconda3/lib/python3.9/site-packages (from spacy) (8.1.7)\n",
      "Requirement already satisfied: pydantic!=1.8,!=1.8.1,<1.11.0,>=1.7.4 in /root/anaconda3/lib/python3.9/site-packages (from spacy) (1.9.0)\n",
      "Requirement already satisfied: typer<0.8.0,>=0.3.0 in /root/anaconda3/lib/python3.9/site-packages (from spacy) (0.4.0)\n",
      "Requirement already satisfied: requests<3.0.0,>=2.13.0 in /root/anaconda3/lib/python3.9/site-packages (from spacy) (2.27.1)\n",
      "Requirement already satisfied: packaging>=20.0 in /root/anaconda3/lib/python3.9/site-packages (from spacy) (21.3)\n",
      "Requirement already satisfied: tqdm<5.0.0,>=4.38.0 in /root/anaconda3/lib/python3.9/site-packages (from spacy) (4.64.1)\n",
      "Requirement already satisfied: srsly<3.0.0,>=2.4.3 in /root/anaconda3/lib/python3.9/site-packages (from spacy) (2.4.5)\n",
      "Requirement already satisfied: pathy>=0.10.0 in /root/anaconda3/lib/python3.9/site-packages (from spacy) (0.10.1)\n",
      "Requirement already satisfied: murmurhash<1.1.0,>=0.28.0 in /root/anaconda3/lib/python3.9/site-packages (from spacy) (1.0.9)\n",
      "Requirement already satisfied: pyparsing!=3.0.5,>=2.0.2 in /root/anaconda3/lib/python3.9/site-packages (from packaging>=20.0->spacy) (3.0.7)\n",
      "Requirement already satisfied: typing-extensions>=3.7.4.3 in /root/anaconda3/lib/python3.9/site-packages (from pydantic!=1.8,!=1.8.1,<1.11.0,>=1.7.4->spacy) (4.4.0)\n",
      "Requirement already satisfied: idna<4,>=2.5 in /root/anaconda3/lib/python3.9/site-packages (from requests<3.0.0,>=2.13.0->spacy) (3.3)\n",
      "Requirement already satisfied: urllib3<1.27,>=1.21.1 in /root/anaconda3/lib/python3.9/site-packages (from requests<3.0.0,>=2.13.0->spacy) (1.26.8)\n",
      "Requirement already satisfied: certifi>=2017.4.17 in /root/anaconda3/lib/python3.9/site-packages (from requests<3.0.0,>=2.13.0->spacy) (2021.10.8)\n",
      "Requirement already satisfied: charset-normalizer~=2.0.0 in /root/anaconda3/lib/python3.9/site-packages (from requests<3.0.0,>=2.13.0->spacy) (2.0.11)\n",
      "Requirement already satisfied: blis<0.8.0,>=0.7.8 in /root/anaconda3/lib/python3.9/site-packages (from thinc<8.2.0,>=8.1.0->spacy) (0.7.9)\n",
      "Requirement already satisfied: confection<1.0.0,>=0.0.1 in /root/anaconda3/lib/python3.9/site-packages (from thinc<8.2.0,>=8.1.0->spacy) (0.0.4)\n",
      "Requirement already satisfied: click<9.0.0,>=7.1.1 in /root/anaconda3/lib/python3.9/site-packages (from typer<0.8.0,>=0.3.0->spacy) (8.0.3)\n",
      "Requirement already satisfied: MarkupSafe>=2.0 in /root/anaconda3/lib/python3.9/site-packages (from jinja2->spacy) (2.0.1)\n",
      "\u001b[33mWARNING: Running pip as the 'root' user can result in broken permissions and conflicting behaviour with the system package manager. It is recommended to use a virtual environment instead: https://pip.pypa.io/warnings/venv\u001b[0m\u001b[33m\n",
      "\u001b[0m"
     ]
    }
   ],
   "source": [
    "!pip install transliterate\n",
    "!pip install spacy"
   ]
  },
  {
   "cell_type": "code",
   "execution_count": 2,
   "id": "ef3e11c1",
   "metadata": {},
   "outputs": [],
   "source": [
    "import pandas as pd\n",
    "import seaborn as sns\n",
    "import matplotlib.pyplot as plt\n",
    "import numpy as np\n",
    "import pickle\n",
    "from collections import Counter\n",
    "\n",
    "import statsmodels.stats.api as sms\n",
    "from matplotlib import style\n",
    "style.use('seaborn')\n",
    "%matplotlib inline\n",
    "#graphs in svg look clearer\n",
    "%config InlineBackend.figure_format = 'svg' "
   ]
  },
  {
   "cell_type": "code",
   "execution_count": 3,
   "id": "813291b0",
   "metadata": {},
   "outputs": [],
   "source": [
    "import warnings\n",
    "warnings.filterwarnings(\"ignore\")"
   ]
  },
  {
   "cell_type": "markdown",
   "id": "ea555ad8",
   "metadata": {},
   "source": [
    "# Load award datasets"
   ]
  },
  {
   "cell_type": "markdown",
   "id": "ffafef94",
   "metadata": {},
   "source": [
    "### dataset 1"
   ]
  },
  {
   "cell_type": "code",
   "execution_count": 4,
   "id": "e1b2c9b3",
   "metadata": {},
   "outputs": [],
   "source": [
    "oscar_awards_1027_2019 = pd.read_csv('the_oscar_award.csv')"
   ]
  },
  {
   "cell_type": "code",
   "execution_count": 5,
   "id": "65f1a9d4",
   "metadata": {},
   "outputs": [
    {
     "data": {
      "text/plain": [
       "(10395, 7)"
      ]
     },
     "execution_count": 5,
     "metadata": {},
     "output_type": "execute_result"
    }
   ],
   "source": [
    "oscar_awards_1027_2019.shape"
   ]
  },
  {
   "cell_type": "code",
   "execution_count": 6,
   "id": "65955904",
   "metadata": {},
   "outputs": [
    {
     "data": {
      "text/html": [
       "<div>\n",
       "<style scoped>\n",
       "    .dataframe tbody tr th:only-of-type {\n",
       "        vertical-align: middle;\n",
       "    }\n",
       "\n",
       "    .dataframe tbody tr th {\n",
       "        vertical-align: top;\n",
       "    }\n",
       "\n",
       "    .dataframe thead th {\n",
       "        text-align: right;\n",
       "    }\n",
       "</style>\n",
       "<table border=\"1\" class=\"dataframe\">\n",
       "  <thead>\n",
       "    <tr style=\"text-align: right;\">\n",
       "      <th></th>\n",
       "      <th>year_film</th>\n",
       "      <th>year_ceremony</th>\n",
       "      <th>ceremony</th>\n",
       "      <th>category</th>\n",
       "      <th>name</th>\n",
       "      <th>film</th>\n",
       "      <th>winner</th>\n",
       "    </tr>\n",
       "  </thead>\n",
       "  <tbody>\n",
       "    <tr>\n",
       "      <th>0</th>\n",
       "      <td>1927</td>\n",
       "      <td>1928</td>\n",
       "      <td>1</td>\n",
       "      <td>ACTOR</td>\n",
       "      <td>Richard Barthelmess</td>\n",
       "      <td>The Noose</td>\n",
       "      <td>False</td>\n",
       "    </tr>\n",
       "    <tr>\n",
       "      <th>1</th>\n",
       "      <td>1927</td>\n",
       "      <td>1928</td>\n",
       "      <td>1</td>\n",
       "      <td>ACTOR</td>\n",
       "      <td>Emil Jannings</td>\n",
       "      <td>The Last Command</td>\n",
       "      <td>True</td>\n",
       "    </tr>\n",
       "    <tr>\n",
       "      <th>2</th>\n",
       "      <td>1927</td>\n",
       "      <td>1928</td>\n",
       "      <td>1</td>\n",
       "      <td>ACTRESS</td>\n",
       "      <td>Louise Dresser</td>\n",
       "      <td>A Ship Comes In</td>\n",
       "      <td>False</td>\n",
       "    </tr>\n",
       "    <tr>\n",
       "      <th>3</th>\n",
       "      <td>1927</td>\n",
       "      <td>1928</td>\n",
       "      <td>1</td>\n",
       "      <td>ACTRESS</td>\n",
       "      <td>Janet Gaynor</td>\n",
       "      <td>7th Heaven</td>\n",
       "      <td>True</td>\n",
       "    </tr>\n",
       "    <tr>\n",
       "      <th>4</th>\n",
       "      <td>1927</td>\n",
       "      <td>1928</td>\n",
       "      <td>1</td>\n",
       "      <td>ACTRESS</td>\n",
       "      <td>Gloria Swanson</td>\n",
       "      <td>Sadie Thompson</td>\n",
       "      <td>False</td>\n",
       "    </tr>\n",
       "  </tbody>\n",
       "</table>\n",
       "</div>"
      ],
      "text/plain": [
       "   year_film  year_ceremony  ceremony category                 name  \\\n",
       "0       1927           1928         1    ACTOR  Richard Barthelmess   \n",
       "1       1927           1928         1    ACTOR        Emil Jannings   \n",
       "2       1927           1928         1  ACTRESS       Louise Dresser   \n",
       "3       1927           1928         1  ACTRESS         Janet Gaynor   \n",
       "4       1927           1928         1  ACTRESS       Gloria Swanson   \n",
       "\n",
       "               film  winner  \n",
       "0         The Noose   False  \n",
       "1  The Last Command    True  \n",
       "2   A Ship Comes In   False  \n",
       "3        7th Heaven    True  \n",
       "4    Sadie Thompson   False  "
      ]
     },
     "execution_count": 6,
     "metadata": {},
     "output_type": "execute_result"
    }
   ],
   "source": [
    "oscar_awards_1027_2019.head()"
   ]
  },
  {
   "cell_type": "code",
   "execution_count": 7,
   "id": "61f98416",
   "metadata": {},
   "outputs": [
    {
     "data": {
      "text/plain": [
       "False    8038\n",
       "True     2357\n",
       "Name: winner, dtype: int64"
      ]
     },
     "execution_count": 7,
     "metadata": {},
     "output_type": "execute_result"
    }
   ],
   "source": [
    "oscar_awards_1027_2019['winner'].value_counts()"
   ]
  },
  {
   "cell_type": "code",
   "execution_count": 8,
   "id": "4d6739bd",
   "metadata": {},
   "outputs": [
    {
     "data": {
      "text/plain": [
       "array(['ACTOR', 'ACTRESS', 'ART DIRECTION', 'CINEMATOGRAPHY',\n",
       "       'DIRECTING (Comedy Picture)', 'DIRECTING (Dramatic Picture)',\n",
       "       'ENGINEERING EFFECTS', 'OUTSTANDING PICTURE',\n",
       "       'UNIQUE AND ARTISTIC PICTURE', 'WRITING (Adaptation)',\n",
       "       'WRITING (Original Story)', 'WRITING (Title Writing)',\n",
       "       'SPECIAL AWARD', 'DIRECTING', 'WRITING', 'OUTSTANDING PRODUCTION',\n",
       "       'SOUND RECORDING', 'SHORT SUBJECT (Cartoon)',\n",
       "       'SHORT SUBJECT (Comedy)', 'SHORT SUBJECT (Novelty)',\n",
       "       'ASSISTANT DIRECTOR', 'FILM EDITING', 'MUSIC (Scoring)',\n",
       "       'MUSIC (Song)', 'DANCE DIRECTION', 'WRITING (Screenplay)',\n",
       "       'ACTOR IN A SUPPORTING ROLE', 'ACTRESS IN A SUPPORTING ROLE',\n",
       "       'SHORT SUBJECT (Color)', 'SHORT SUBJECT (One-reel)',\n",
       "       'SHORT SUBJECT (Two-reel)', 'IRVING G. THALBERG MEMORIAL AWARD',\n",
       "       'MUSIC (Original Score)', 'CINEMATOGRAPHY (Black-and-White)',\n",
       "       'CINEMATOGRAPHY (Color)', 'SPECIAL EFFECTS',\n",
       "       'ART DIRECTION (Black-and-White)', 'ART DIRECTION (Color)',\n",
       "       'WRITING (Original Screenplay)', 'DOCUMENTARY (Short Subject)',\n",
       "       'MUSIC (Music Score of a Dramatic Picture)',\n",
       "       'MUSIC (Scoring of a Musical Picture)',\n",
       "       'OUTSTANDING MOTION PICTURE', 'DOCUMENTARY',\n",
       "       'MUSIC (Music Score of a Dramatic or Comedy Picture)',\n",
       "       'WRITING (Original Motion Picture Story)', 'DOCUMENTARY (Feature)',\n",
       "       'BEST MOTION PICTURE', 'WRITING (Motion Picture Story)',\n",
       "       'COSTUME DESIGN (Black-and-White)', 'COSTUME DESIGN (Color)',\n",
       "       'SPECIAL FOREIGN LANGUAGE FILM AWARD',\n",
       "       'WRITING (Story and Screenplay)',\n",
       "       'HONORARY FOREIGN LANGUAGE FILM AWARD', 'HONORARY AWARD',\n",
       "       'FOREIGN LANGUAGE FILM', 'WRITING (Screenplay--Adapted)',\n",
       "       'WRITING (Screenplay--Original)',\n",
       "       'JEAN HERSHOLT HUMANITARIAN AWARD', 'COSTUME DESIGN',\n",
       "       'SHORT SUBJECT (Live Action)',\n",
       "       'WRITING (Screenplay--based on material from another medium)',\n",
       "       'WRITING (Story and Screenplay--written directly for the screen)',\n",
       "       'SOUND', 'MUSIC (Music Score--substantially original)',\n",
       "       'MUSIC (Scoring of Music--adaptation or treatment)',\n",
       "       'BEST PICTURE', 'SOUND EFFECTS', 'SPECIAL VISUAL EFFECTS',\n",
       "       'MUSIC (Original Music Score)',\n",
       "       'MUSIC (Original Score--for a motion picture [not a musical])',\n",
       "       'MUSIC (Score of a Musical Picture--original or adaptation)',\n",
       "       'MUSIC (Song--Original for the Picture)',\n",
       "       'WRITING (Story and Screenplay--based on material not previously published or produced)',\n",
       "       'MUSIC (Original Song Score)',\n",
       "       'WRITING (Story and Screenplay--based on factual material or material not previously published or produced)',\n",
       "       'MUSIC (Original Dramatic Score)',\n",
       "       'MUSIC (Scoring: Adaptation and Original Song Score)',\n",
       "       'SHORT SUBJECT (Animated)',\n",
       "       'SPECIAL ACHIEVEMENT AWARD (Visual Effects)',\n",
       "       'MUSIC (Scoring: Original Song Score and Adaptation -or- Scoring: Adaptation)',\n",
       "       'SHORT FILM (Animated)', 'SHORT FILM (Live Action)',\n",
       "       'WRITING (Screenplay Adapted from Other Material)',\n",
       "       'MUSIC (Original Song)',\n",
       "       'SPECIAL ACHIEVEMENT AWARD (Sound Effects)',\n",
       "       'ACTOR IN A LEADING ROLE', 'ACTRESS IN A LEADING ROLE',\n",
       "       'MUSIC (Original Song Score and Its Adaptation or Adaptation Score)',\n",
       "       'WRITING (Screenplay Written Directly for the Screen--based on factual material or on story material not previously published or produced)',\n",
       "       'VISUAL EFFECTS', 'SPECIAL ACHIEVEMENT AWARD',\n",
       "       'SPECIAL ACHIEVEMENT AWARD (Sound Effects Editing)',\n",
       "       'MUSIC (Adaptation Score)',\n",
       "       'WRITING (Screenplay Based on Material from Another Medium)',\n",
       "       'WRITING (Screenplay Written Directly for the Screen)',\n",
       "       'MUSIC (Original Song Score and Its Adaptation -or- Adaptation Score)',\n",
       "       'SPECIAL ACHIEVEMENT AWARD (Sound Editing)',\n",
       "       'SHORT FILM (Dramatic Live Action)', 'MAKEUP',\n",
       "       'SOUND EFFECTS EDITING',\n",
       "       'MUSIC (Original Song Score or Adaptation Score)',\n",
       "       'WRITING (Screenplay Based on Material Previously Produced or Published)',\n",
       "       'MUSIC (Original Musical or Comedy Score)', 'SOUND EDITING',\n",
       "       'ANIMATED FEATURE FILM', 'WRITING (Adapted Screenplay)',\n",
       "       'SOUND MIXING', 'MAKEUP AND HAIRSTYLING', 'PRODUCTION DESIGN',\n",
       "       'INTERNATIONAL FEATURE FILM'], dtype=object)"
      ]
     },
     "execution_count": 8,
     "metadata": {},
     "output_type": "execute_result"
    }
   ],
   "source": [
    "oscar_awards_1027_2019['category'].unique()"
   ]
  },
  {
   "cell_type": "markdown",
   "id": "cb8df8d5",
   "metadata": {},
   "source": [
    "## Translate english names into russian"
   ]
  },
  {
   "cell_type": "code",
   "execution_count": 24,
   "id": "1af325f6",
   "metadata": {},
   "outputs": [],
   "source": [
    "from transliterate import translit"
   ]
  },
  {
   "cell_type": "code",
   "execution_count": 25,
   "id": "c2fbcfb6",
   "metadata": {},
   "outputs": [
    {
     "data": {
      "text/plain": [
       "'Richard Barthelmess'"
      ]
     },
     "execution_count": 25,
     "metadata": {},
     "output_type": "execute_result"
    }
   ],
   "source": [
    "test = oscar_awards_1027_2019['name'][0]\n",
    "test"
   ]
  },
  {
   "cell_type": "code",
   "execution_count": 26,
   "id": "555d4019",
   "metadata": {},
   "outputs": [
    {
     "name": "stdout",
     "output_type": "stream",
     "text": [
      "Ричард Бартхелмесс\n"
     ]
    }
   ],
   "source": [
    "print(translit(test, \"ru\"))"
   ]
  },
  {
   "cell_type": "code",
   "execution_count": null,
   "id": "4bb59eec",
   "metadata": {},
   "outputs": [],
   "source": []
  },
  {
   "cell_type": "code",
   "execution_count": 27,
   "id": "6e1da0d0",
   "metadata": {},
   "outputs": [],
   "source": [
    "def eng2rus_translater(data):\n",
    "    return translit(data, \"ru\")"
   ]
  },
  {
   "cell_type": "code",
   "execution_count": 28,
   "id": "26769bb1",
   "metadata": {},
   "outputs": [],
   "source": [
    "oscar_awards_1027_2019['rus_name'] = oscar_awards_1027_2019['name'].apply(eng2rus_translater)"
   ]
  },
  {
   "cell_type": "code",
   "execution_count": 29,
   "id": "632264df",
   "metadata": {},
   "outputs": [
    {
     "data": {
      "text/html": [
       "<div>\n",
       "<style scoped>\n",
       "    .dataframe tbody tr th:only-of-type {\n",
       "        vertical-align: middle;\n",
       "    }\n",
       "\n",
       "    .dataframe tbody tr th {\n",
       "        vertical-align: top;\n",
       "    }\n",
       "\n",
       "    .dataframe thead th {\n",
       "        text-align: right;\n",
       "    }\n",
       "</style>\n",
       "<table border=\"1\" class=\"dataframe\">\n",
       "  <thead>\n",
       "    <tr style=\"text-align: right;\">\n",
       "      <th></th>\n",
       "      <th>year_film</th>\n",
       "      <th>year_ceremony</th>\n",
       "      <th>ceremony</th>\n",
       "      <th>category</th>\n",
       "      <th>name</th>\n",
       "      <th>film</th>\n",
       "      <th>winner</th>\n",
       "      <th>rus_name</th>\n",
       "    </tr>\n",
       "  </thead>\n",
       "  <tbody>\n",
       "    <tr>\n",
       "      <th>0</th>\n",
       "      <td>1927</td>\n",
       "      <td>1928</td>\n",
       "      <td>1</td>\n",
       "      <td>ACTOR</td>\n",
       "      <td>Richard Barthelmess</td>\n",
       "      <td>The Noose</td>\n",
       "      <td>False</td>\n",
       "      <td>Ричард Бартхелмесс</td>\n",
       "    </tr>\n",
       "    <tr>\n",
       "      <th>1</th>\n",
       "      <td>1927</td>\n",
       "      <td>1928</td>\n",
       "      <td>1</td>\n",
       "      <td>ACTOR</td>\n",
       "      <td>Emil Jannings</td>\n",
       "      <td>The Last Command</td>\n",
       "      <td>True</td>\n",
       "      <td>Емил Яннингс</td>\n",
       "    </tr>\n",
       "    <tr>\n",
       "      <th>2</th>\n",
       "      <td>1927</td>\n",
       "      <td>1928</td>\n",
       "      <td>1</td>\n",
       "      <td>ACTRESS</td>\n",
       "      <td>Louise Dresser</td>\n",
       "      <td>A Ship Comes In</td>\n",
       "      <td>False</td>\n",
       "      <td>Лоуисе Дрессер</td>\n",
       "    </tr>\n",
       "    <tr>\n",
       "      <th>3</th>\n",
       "      <td>1927</td>\n",
       "      <td>1928</td>\n",
       "      <td>1</td>\n",
       "      <td>ACTRESS</td>\n",
       "      <td>Janet Gaynor</td>\n",
       "      <td>7th Heaven</td>\n",
       "      <td>True</td>\n",
       "      <td>Янет Гаынор</td>\n",
       "    </tr>\n",
       "    <tr>\n",
       "      <th>4</th>\n",
       "      <td>1927</td>\n",
       "      <td>1928</td>\n",
       "      <td>1</td>\n",
       "      <td>ACTRESS</td>\n",
       "      <td>Gloria Swanson</td>\n",
       "      <td>Sadie Thompson</td>\n",
       "      <td>False</td>\n",
       "      <td>Глориа Сwансон</td>\n",
       "    </tr>\n",
       "  </tbody>\n",
       "</table>\n",
       "</div>"
      ],
      "text/plain": [
       "   year_film  year_ceremony  ceremony category                 name  \\\n",
       "0       1927           1928         1    ACTOR  Richard Barthelmess   \n",
       "1       1927           1928         1    ACTOR        Emil Jannings   \n",
       "2       1927           1928         1  ACTRESS       Louise Dresser   \n",
       "3       1927           1928         1  ACTRESS         Janet Gaynor   \n",
       "4       1927           1928         1  ACTRESS       Gloria Swanson   \n",
       "\n",
       "               film  winner            rus_name  \n",
       "0         The Noose   False  Ричард Бартхелмесс  \n",
       "1  The Last Command    True        Емил Яннингс  \n",
       "2   A Ship Comes In   False      Лоуисе Дрессер  \n",
       "3        7th Heaven    True         Янет Гаынор  \n",
       "4    Sadie Thompson   False      Глориа Сwансон  "
      ]
     },
     "execution_count": 29,
     "metadata": {},
     "output_type": "execute_result"
    }
   ],
   "source": [
    "oscar_awards_1027_2019.head()"
   ]
  },
  {
   "cell_type": "code",
   "execution_count": 30,
   "id": "6c81d8ec",
   "metadata": {},
   "outputs": [],
   "source": [
    "oscar_has_1027_2019 = oscar_awards_1027_2019[oscar_awards_1027_2019['winner'] == True]"
   ]
  },
  {
   "cell_type": "code",
   "execution_count": 31,
   "id": "ce35a399",
   "metadata": {},
   "outputs": [
    {
     "data": {
      "text/plain": [
       "(2357, 8)"
      ]
     },
     "execution_count": 31,
     "metadata": {},
     "output_type": "execute_result"
    }
   ],
   "source": [
    "oscar_has_1027_2019.shape"
   ]
  },
  {
   "cell_type": "markdown",
   "id": "52d5de21",
   "metadata": {},
   "source": [
    "### Preprocess names"
   ]
  },
  {
   "cell_type": "code",
   "execution_count": 32,
   "id": "e953d5b7",
   "metadata": {},
   "outputs": [],
   "source": [
    "import re\n",
    "from pymystem3 import Mystem\n",
    "import spacy\n",
    "\n",
    "\n",
    "class NamesPreprocesser:\n",
    "    def __init__(self):\n",
    "        self.remove_pnkt_pattern = re.compile(r'[^A-zА-яё0-9 ]')\n",
    "        self.remove_spaces_pattern = re.compile(r' ')\n",
    "        self.lemmatizer = Mystem()\n",
    "        \n",
    "    def __remove_punctuation(self, text):\n",
    "        return re.sub(self.remove_pnkt_pattern, '', text)\n",
    "    \n",
    "    def __remove_spaces(self, text):\n",
    "        return re.sub(self.remove_spaces_pattern, '', text)\n",
    "    \n",
    "    def __lemmatize(self, text):\n",
    "        return self.lemmatizer.lemmatize(text)\n",
    "    \n",
    "    def __join_text(self, text):\n",
    "        return ''.join(text)[:-1]\n",
    "    \n",
    "    def transform(self, texts: pd.Series):\n",
    "        # lower\n",
    "        texts_pr = texts.apply(str.lower)\n",
    "        # remove punctuation\n",
    "        texts_pr = texts_pr.apply(self.__remove_punctuation)\n",
    "        # lemmatize\n",
    "        texts_pr = texts_pr.apply(self.__lemmatize)\n",
    "        # join\n",
    "        texts_pr = texts_pr.apply(self.__join_text)\n",
    "        # remove spaces\n",
    "        texts_pr = texts_pr.apply(self.__remove_spaces)\n",
    "            \n",
    "        return texts_pr\n"
   ]
  },
  {
   "cell_type": "code",
   "execution_count": 33,
   "id": "a28f5746",
   "metadata": {},
   "outputs": [],
   "source": [
    "names_preprocessor = NamesPreprocesser()\n",
    "prepr_names_oscars = names_preprocessor.transform(oscar_has_1027_2019['rus_name'])"
   ]
  },
  {
   "cell_type": "code",
   "execution_count": 34,
   "id": "a1b6c060",
   "metadata": {},
   "outputs": [
    {
     "data": {
      "text/plain": [
       "1                                             емиляннингс\n",
       "3                                             янетагаынор\n",
       "6                                   wиллиамцамеронмензиес\n",
       "9                                             чарлесрошер\n",
       "10                                             карлструсс\n",
       "                               ...                       \n",
       "10390    сцреенплаыбыбонгйоонхоханйинwонсторабыбонгйоонхо\n",
       "10391                                         гееныйдавис\n",
       "10392                                           давидлынч\n",
       "10393                                          wесстудить\n",
       "10394                                       линаwертмллер\n",
       "Name: rus_name, Length: 2357, dtype: object"
      ]
     },
     "execution_count": 34,
     "metadata": {},
     "output_type": "execute_result"
    }
   ],
   "source": [
    "prepr_names_oscars"
   ]
  },
  {
   "cell_type": "code",
   "execution_count": 35,
   "id": "3ff23fe4",
   "metadata": {},
   "outputs": [],
   "source": [
    "oscar_owners = list(prepr_names_oscars.values)"
   ]
  },
  {
   "cell_type": "markdown",
   "id": "15341dec",
   "metadata": {},
   "source": [
    "## Load foriegn content"
   ]
  },
  {
   "cell_type": "code",
   "execution_count": 36,
   "id": "29a269c1",
   "metadata": {},
   "outputs": [],
   "source": [
    "with open('./Okko_ratings_FOREIGN_FULL_kws.pkl', 'rb') as f:\n",
    "    df = pickle.load(f, encoding='utf-8')"
   ]
  },
  {
   "cell_type": "markdown",
   "id": "a5c80b62",
   "metadata": {},
   "source": [
    "# **Take 1st 5 actors....\n",
    "\n",
    "если есть актер с оскаром среди первых 5 , то добавляем флаг actor_oscar +1,2\n",
    "если есть режиссер с оскаром среди первых 3 , то добавляем флаг director_oscar +1,2"
   ]
  },
  {
   "cell_type": "code",
   "execution_count": 37,
   "id": "6b2d7664",
   "metadata": {},
   "outputs": [],
   "source": [
    "def preproc_names(names, top_n):\n",
    "    if isinstance(names, float):\n",
    "        return np.nan\n",
    "    elif len(names) < top_n:\n",
    "        top_n = len(names)\n",
    "        \n",
    "    top_n_names = []\n",
    "    for name in names[:top_n]:\n",
    "        name = pd.Series(name)\n",
    "        prepr = names_preprocessor.transform(name)\n",
    "        top_n_names.append(prepr.values[0])\n",
    "        \n",
    "    return top_n_names"
   ]
  },
  {
   "cell_type": "code",
   "execution_count": 38,
   "id": "1f100194",
   "metadata": {},
   "outputs": [],
   "source": [
    "df['preproc_actor_names'] = df['ACTOR'].apply(preproc_names, top_n = 10)\n",
    "df['preproc_composer_names'] = df['COMPOSER'].apply(preproc_names, top_n = 1)\n",
    "df['preproc_design_names'] = df['DESIGN'].apply(preproc_names, top_n = 3)\n",
    "df['preproc_director_names'] = df['DIRECTOR'].apply(preproc_names, top_n = 1)\n",
    "df['preproc_editor_names'] = df['EDITOR'].apply(preproc_names, top_n = 1)\n",
    "df['preproc_operator_names'] = df['OPERATOR'].apply(preproc_names, top_n = 1)\n",
    "df['preproc_producer_names'] = df['PRODUCER'].apply(preproc_names, top_n = 5)\n",
    "df['preproc_writer_names'] = df['WRITER'].apply(preproc_names, top_n = 2)"
   ]
  },
  {
   "cell_type": "markdown",
   "id": "415ca2a6",
   "metadata": {},
   "source": [
    "## Match dataset with oscars"
   ]
  },
  {
   "cell_type": "code",
   "execution_count": 39,
   "id": "414a530c",
   "metadata": {},
   "outputs": [],
   "source": [
    "def find_oscar_owner(names, oscar_owns: list):\n",
    "    counter = 0\n",
    "    \n",
    "    if isinstance(names, float):\n",
    "        return counter\n",
    "    \n",
    "    for name in names:\n",
    "        if name in oscar_owns:\n",
    "            counter += 1\n",
    "    return counter"
   ]
  },
  {
   "cell_type": "code",
   "execution_count": 40,
   "id": "812e5566",
   "metadata": {},
   "outputs": [],
   "source": [
    "cols_people_oscar = ['actor', 'composer', 'design', \n",
    "                     'director', 'editor', 'operator',\n",
    "                     'producer', 'writer']"
   ]
  },
  {
   "cell_type": "code",
   "execution_count": 41,
   "id": "055e49db",
   "metadata": {},
   "outputs": [
    {
     "name": "stdout",
     "output_type": "stream",
     "text": [
      "AMOUNT actor:\n",
      " 0    8588\n",
      "1     193\n",
      "2       3\n",
      "Name: has_oscar_actor, dtype: int64\n",
      "\n",
      "AMOUNT composer:\n",
      " 0    8732\n",
      "1      52\n",
      "Name: has_oscar_composer, dtype: int64\n",
      "\n",
      "AMOUNT design:\n",
      " 0    8776\n",
      "1       8\n",
      "Name: has_oscar_design, dtype: int64\n",
      "\n",
      "AMOUNT director:\n",
      " 0    8744\n",
      "1      40\n",
      "Name: has_oscar_director, dtype: int64\n",
      "\n",
      "AMOUNT editor:\n",
      " 0    8784\n",
      "Name: has_oscar_editor, dtype: int64\n",
      "\n",
      "AMOUNT operator:\n",
      " 0    8739\n",
      "1      45\n",
      "Name: has_oscar_operator, dtype: int64\n",
      "\n",
      "AMOUNT producer:\n",
      " 0    8757\n",
      "1      26\n",
      "3       1\n",
      "Name: has_oscar_producer, dtype: int64\n",
      "\n",
      "AMOUNT writer:\n",
      " 0    8750\n",
      "1      34\n",
      "Name: has_oscar_writer, dtype: int64\n",
      "\n"
     ]
    }
   ],
   "source": [
    "for col in cols_people_oscar:  \n",
    "    df[f'has_oscar_{col}'] = df[f'preproc_{col}_names'].apply(find_oscar_owner, oscar_owns = oscar_owners)\n",
    "    \n",
    "    print(f\"AMOUNT {col}:\\n {df[f'has_oscar_{col}'].value_counts()}\\n\")\n",
    "    df.drop(f'preproc_{col}_names', axis=1, inplace=True)"
   ]
  },
  {
   "cell_type": "code",
   "execution_count": 42,
   "id": "0190f8d5",
   "metadata": {},
   "outputs": [],
   "source": [
    "import pickle\n",
    "\n",
    "with open('dataset_FOREIGN_kws_oscr_PCA.pkl', 'wb') as f:\n",
    "    pickle.dump(df, f)"
   ]
  },
  {
   "cell_type": "code",
   "execution_count": null,
   "id": "52ab8e2a",
   "metadata": {},
   "outputs": [],
   "source": []
  }
 ],
 "metadata": {
  "kernelspec": {
   "display_name": "Python 3 (ipykernel)",
   "language": "python",
   "name": "python3"
  },
  "language_info": {
   "codemirror_mode": {
    "name": "ipython",
    "version": 3
   },
   "file_extension": ".py",
   "mimetype": "text/x-python",
   "name": "python",
   "nbconvert_exporter": "python",
   "pygments_lexer": "ipython3",
   "version": "3.9.13"
  }
 },
 "nbformat": 4,
 "nbformat_minor": 5
}
