{
  "cells": [
    {
      "cell_type": "markdown",
      "metadata": {
        "id": "5shWeS4ZN6CU"
      },
      "source": [
        "# Imports"
      ]
    },
    {
      "cell_type": "code",
      "execution_count": 1,
      "metadata": {
        "colab": {
          "base_uri": "https://localhost:8080/"
        },
        "id": "vRPdBhr7N6CX",
        "outputId": "8e9567bb-1e77-44a7-c637-e9e676e96349"
      },
      "outputs": [
        {
          "output_type": "stream",
          "name": "stderr",
          "text": [
            "<ipython-input-1-48741e596def>:17: MatplotlibDeprecationWarning: The seaborn styles shipped by Matplotlib are deprecated since 3.6, as they no longer correspond to the styles shipped by seaborn. However, they will remain available as 'seaborn-v0_8-<style>'. Alternatively, directly use the seaborn API instead.\n",
            "  style.use('seaborn')\n"
          ]
        }
      ],
      "source": [
        "import pandas as pd\n",
        "import numpy as np\n",
        "import seaborn as sns\n",
        "\n",
        "from collections import Counter\n",
        "import pickle \n",
        "import glob\n",
        "import shutil\n",
        "import os\n",
        "import requests\n",
        "import shutil\n",
        "import urllib\n",
        "\n",
        "import matplotlib.pyplot as plt\n",
        "from matplotlib import style\n",
        "from matplotlib.pyplot import imread, imshow, subplots, show\n",
        "style.use('seaborn')\n",
        "%matplotlib inline\n",
        "#graphs in svg look clearer\n",
        "%config InlineBackend.figure_format = 'svg' \n",
        "import warnings\n",
        "warnings.simplefilter('ignore')\n",
        "\n",
        "import pylab as pl\n",
        "\n",
        "import torch\n",
        "import torch.nn as nn\n",
        "from torch.utils.data import TensorDataset, DataLoader, ConcatDataset\n",
        "import torch.nn.functional as F\n",
        "from torch.utils.data import DataLoader, TensorDataset, random_split\n",
        "from torch.utils.data import DataLoader,Dataset\n",
        "import torch.optim as optim\n",
        "\n",
        "from os import listdir\n",
        "from os.path import isfile, join\n",
        "\n",
        "from tqdm.auto import tqdm\n",
        "import os\n",
        "from PIL import Image\n",
        "import cv2\n",
        "\n",
        "pd.set_option('display.max_columns', None)\n",
        "pd.set_option('display.max_colwidth', None)\n",
        "\n",
        "import warnings\n",
        "warnings.filterwarnings(\"ignore\", category=UserWarning, module=\"torch.nn.functional\")"
      ]
    },
    {
      "cell_type": "code",
      "source": [
        "from google.colab import drive\n",
        "drive.mount(\"/content/drive\")"
      ],
      "metadata": {
        "colab": {
          "base_uri": "https://localhost:8080/"
        },
        "id": "25CccAj8OO9k",
        "outputId": "d80ecb39-49f5-48ad-92f7-01b9c441bc00"
      },
      "execution_count": 2,
      "outputs": [
        {
          "output_type": "stream",
          "name": "stdout",
          "text": [
            "Mounted at /content/drive\n"
          ]
        }
      ]
    },
    {
      "cell_type": "markdown",
      "metadata": {
        "id": "mThWb1LQN6CY"
      },
      "source": [
        "# Preprocessing"
      ]
    },
    {
      "cell_type": "code",
      "execution_count": 3,
      "metadata": {
        "id": "1R3MR_K7N6CZ"
      },
      "outputs": [],
      "source": [
        "with open('/content/drive/My Drive/Diploma/CODE/data/new_eng_data.pkl', 'rb') as f:\n",
        "    df = pickle.load(f)"
      ]
    },
    {
      "cell_type": "code",
      "execution_count": 4,
      "metadata": {
        "colab": {
          "base_uri": "https://localhost:8080/"
        },
        "id": "Ls3GTm6hN6Ca",
        "outputId": "e9032d45-ae7f-4626-cc69-23b5f676df5c"
      },
      "outputs": [
        {
          "output_type": "execute_result",
          "data": {
            "text/plain": [
              "Index(['age_access_type', 'name', 'director', 'genre', 'average_rating',\n",
              "       'type', 'country', 'release_type', 'release_year', 'duration', 'actor',\n",
              "       'element_uid', 'ACTOR', 'COMPOSER', 'DESIGN', 'DIRECTOR', 'EDITOR',\n",
              "       'OPERATOR', 'PRODUCER', 'WRITER', 'BUDGET', 'MARKETING', 'RUS', 'USA',\n",
              "       'WORLD', 'element_id', 'rating', 'has_oscar_actor',\n",
              "       'has_oscar_composer', 'has_oscar_design', 'has_oscar_director',\n",
              "       'has_oscar_editor', 'has_oscar_operator', 'has_oscar_producer',\n",
              "       'has_oscar_writer', 'poster_url', 'poster_url_preview', 'has_imax',\n",
              "       'has_3_d', 'has_sequel'],\n",
              "      dtype='object')"
            ]
          },
          "metadata": {},
          "execution_count": 4
        }
      ],
      "source": [
        "df.columns"
      ]
    },
    {
      "cell_type": "code",
      "execution_count": 5,
      "metadata": {
        "colab": {
          "base_uri": "https://localhost:8080/",
          "height": 270
        },
        "id": "QXhoPKpfN6Cb",
        "outputId": "b8241739-4a7b-4ec1-e052-4aad5240d7fd"
      },
      "outputs": [
        {
          "output_type": "execute_result",
          "data": {
            "text/plain": [
              "                                                                                       0  \\\n",
              "poster_url_preview  https://kinopoiskapiunofficial.tech/images/posters/kp_small/6580.jpg   \n",
              "has_imax                                                                           False   \n",
              "has_3_d                                                                            False   \n",
              "has_sequel                                                                             1   \n",
              "img_name                                                                        6580.jpg   \n",
              "\n",
              "                                                                                       1  \\\n",
              "poster_url_preview  https://kinopoiskapiunofficial.tech/images/posters/kp_small/6460.jpg   \n",
              "has_imax                                                                           False   \n",
              "has_3_d                                                                            False   \n",
              "has_sequel                                                                             1   \n",
              "img_name                                                                        6460.jpg   \n",
              "\n",
              "                                                                                          2  \\\n",
              "poster_url_preview  https://kinopoiskapiunofficial.tech/images/posters/kp_small/1228112.jpg   \n",
              "has_imax                                                                              False   \n",
              "has_3_d                                                                               False   \n",
              "has_sequel                                                                                0   \n",
              "img_name                                                                        1228112.jpg   \n",
              "\n",
              "                                                                                         3  \\\n",
              "poster_url_preview  https://kinopoiskapiunofficial.tech/images/posters/kp_small/623934.jpg   \n",
              "has_imax                                                                             False   \n",
              "has_3_d                                                                              False   \n",
              "has_sequel                                                                               0   \n",
              "img_name                                                                        623934.jpg   \n",
              "\n",
              "                                                                                          4  \n",
              "poster_url_preview  https://kinopoiskapiunofficial.tech/images/posters/kp_small/1172958.jpg  \n",
              "has_imax                                                                              False  \n",
              "has_3_d                                                                               False  \n",
              "has_sequel                                                                                0  \n",
              "img_name                                                                        1172958.jpg  "
            ],
            "text/html": [
              "\n",
              "  <div id=\"df-51816921-ca42-457a-b39e-396f2bb83cd6\">\n",
              "    <div class=\"colab-df-container\">\n",
              "      <div>\n",
              "<style scoped>\n",
              "    .dataframe tbody tr th:only-of-type {\n",
              "        vertical-align: middle;\n",
              "    }\n",
              "\n",
              "    .dataframe tbody tr th {\n",
              "        vertical-align: top;\n",
              "    }\n",
              "\n",
              "    .dataframe thead th {\n",
              "        text-align: right;\n",
              "    }\n",
              "</style>\n",
              "<table border=\"1\" class=\"dataframe\">\n",
              "  <thead>\n",
              "    <tr style=\"text-align: right;\">\n",
              "      <th></th>\n",
              "      <th>0</th>\n",
              "      <th>1</th>\n",
              "      <th>2</th>\n",
              "      <th>3</th>\n",
              "      <th>4</th>\n",
              "    </tr>\n",
              "  </thead>\n",
              "  <tbody>\n",
              "    <tr>\n",
              "      <th>poster_url_preview</th>\n",
              "      <td>https://kinopoiskapiunofficial.tech/images/posters/kp_small/6580.jpg</td>\n",
              "      <td>https://kinopoiskapiunofficial.tech/images/posters/kp_small/6460.jpg</td>\n",
              "      <td>https://kinopoiskapiunofficial.tech/images/posters/kp_small/1228112.jpg</td>\n",
              "      <td>https://kinopoiskapiunofficial.tech/images/posters/kp_small/623934.jpg</td>\n",
              "      <td>https://kinopoiskapiunofficial.tech/images/posters/kp_small/1172958.jpg</td>\n",
              "    </tr>\n",
              "    <tr>\n",
              "      <th>has_imax</th>\n",
              "      <td>False</td>\n",
              "      <td>False</td>\n",
              "      <td>False</td>\n",
              "      <td>False</td>\n",
              "      <td>False</td>\n",
              "    </tr>\n",
              "    <tr>\n",
              "      <th>has_3_d</th>\n",
              "      <td>False</td>\n",
              "      <td>False</td>\n",
              "      <td>False</td>\n",
              "      <td>False</td>\n",
              "      <td>False</td>\n",
              "    </tr>\n",
              "    <tr>\n",
              "      <th>has_sequel</th>\n",
              "      <td>1</td>\n",
              "      <td>1</td>\n",
              "      <td>0</td>\n",
              "      <td>0</td>\n",
              "      <td>0</td>\n",
              "    </tr>\n",
              "    <tr>\n",
              "      <th>img_name</th>\n",
              "      <td>6580.jpg</td>\n",
              "      <td>6460.jpg</td>\n",
              "      <td>1228112.jpg</td>\n",
              "      <td>623934.jpg</td>\n",
              "      <td>1172958.jpg</td>\n",
              "    </tr>\n",
              "  </tbody>\n",
              "</table>\n",
              "</div>\n",
              "      <button class=\"colab-df-convert\" onclick=\"convertToInteractive('df-51816921-ca42-457a-b39e-396f2bb83cd6')\"\n",
              "              title=\"Convert this dataframe to an interactive table.\"\n",
              "              style=\"display:none;\">\n",
              "        \n",
              "  <svg xmlns=\"http://www.w3.org/2000/svg\" height=\"24px\"viewBox=\"0 0 24 24\"\n",
              "       width=\"24px\">\n",
              "    <path d=\"M0 0h24v24H0V0z\" fill=\"none\"/>\n",
              "    <path d=\"M18.56 5.44l.94 2.06.94-2.06 2.06-.94-2.06-.94-.94-2.06-.94 2.06-2.06.94zm-11 1L8.5 8.5l.94-2.06 2.06-.94-2.06-.94L8.5 2.5l-.94 2.06-2.06.94zm10 10l.94 2.06.94-2.06 2.06-.94-2.06-.94-.94-2.06-.94 2.06-2.06.94z\"/><path d=\"M17.41 7.96l-1.37-1.37c-.4-.4-.92-.59-1.43-.59-.52 0-1.04.2-1.43.59L10.3 9.45l-7.72 7.72c-.78.78-.78 2.05 0 2.83L4 21.41c.39.39.9.59 1.41.59.51 0 1.02-.2 1.41-.59l7.78-7.78 2.81-2.81c.8-.78.8-2.07 0-2.86zM5.41 20L4 18.59l7.72-7.72 1.47 1.35L5.41 20z\"/>\n",
              "  </svg>\n",
              "      </button>\n",
              "      \n",
              "  <style>\n",
              "    .colab-df-container {\n",
              "      display:flex;\n",
              "      flex-wrap:wrap;\n",
              "      gap: 12px;\n",
              "    }\n",
              "\n",
              "    .colab-df-convert {\n",
              "      background-color: #E8F0FE;\n",
              "      border: none;\n",
              "      border-radius: 50%;\n",
              "      cursor: pointer;\n",
              "      display: none;\n",
              "      fill: #1967D2;\n",
              "      height: 32px;\n",
              "      padding: 0 0 0 0;\n",
              "      width: 32px;\n",
              "    }\n",
              "\n",
              "    .colab-df-convert:hover {\n",
              "      background-color: #E2EBFA;\n",
              "      box-shadow: 0px 1px 2px rgba(60, 64, 67, 0.3), 0px 1px 3px 1px rgba(60, 64, 67, 0.15);\n",
              "      fill: #174EA6;\n",
              "    }\n",
              "\n",
              "    [theme=dark] .colab-df-convert {\n",
              "      background-color: #3B4455;\n",
              "      fill: #D2E3FC;\n",
              "    }\n",
              "\n",
              "    [theme=dark] .colab-df-convert:hover {\n",
              "      background-color: #434B5C;\n",
              "      box-shadow: 0px 1px 3px 1px rgba(0, 0, 0, 0.15);\n",
              "      filter: drop-shadow(0px 1px 2px rgba(0, 0, 0, 0.3));\n",
              "      fill: #FFFFFF;\n",
              "    }\n",
              "  </style>\n",
              "\n",
              "      <script>\n",
              "        const buttonEl =\n",
              "          document.querySelector('#df-51816921-ca42-457a-b39e-396f2bb83cd6 button.colab-df-convert');\n",
              "        buttonEl.style.display =\n",
              "          google.colab.kernel.accessAllowed ? 'block' : 'none';\n",
              "\n",
              "        async function convertToInteractive(key) {\n",
              "          const element = document.querySelector('#df-51816921-ca42-457a-b39e-396f2bb83cd6');\n",
              "          const dataTable =\n",
              "            await google.colab.kernel.invokeFunction('convertToInteractive',\n",
              "                                                     [key], {});\n",
              "          if (!dataTable) return;\n",
              "\n",
              "          const docLinkHtml = 'Like what you see? Visit the ' +\n",
              "            '<a target=\"_blank\" href=https://colab.research.google.com/notebooks/data_table.ipynb>data table notebook</a>'\n",
              "            + ' to learn more about interactive tables.';\n",
              "          element.innerHTML = '';\n",
              "          dataTable['output_type'] = 'display_data';\n",
              "          await google.colab.output.renderOutput(dataTable, element);\n",
              "          const docLink = document.createElement('div');\n",
              "          docLink.innerHTML = docLinkHtml;\n",
              "          element.appendChild(docLink);\n",
              "        }\n",
              "      </script>\n",
              "    </div>\n",
              "  </div>\n",
              "  "
            ]
          },
          "metadata": {},
          "execution_count": 5
        }
      ],
      "source": [
        "# add names of imgs\n",
        "\n",
        "def add_img_name(data):\n",
        "    return data.split('/')[-1]\n",
        "\n",
        "df['img_name'] = df['poster_url_preview'].apply(add_img_name)\n",
        "\n",
        "df.head().T[-5:]"
      ]
    },
    {
      "cell_type": "code",
      "execution_count": 6,
      "metadata": {
        "id": "gmgy6GmEN6Cb"
      },
      "outputs": [],
      "source": [
        "import ast\n",
        "\n",
        "columns = ['ACTOR', 'COMPOSER', 'DESIGN', 'DIRECTOR', 'EDITOR',\n",
        "                      'OPERATOR', 'PRODUCER', 'WRITER', 'country', 'genre']\n",
        "for col in columns:\n",
        "    df[col] = df[col].apply(lambda x: ast.literal_eval(x) if not isinstance(x, float) else np.nan)"
      ]
    },
    {
      "cell_type": "code",
      "execution_count": 7,
      "metadata": {
        "id": "W_5xPAxTN6Cc"
      },
      "outputs": [],
      "source": [
        "cols_na = ['ACTOR', 'COMPOSER',\n",
        "                 'DESIGN', 'DIRECTOR', \n",
        "                 'EDITOR', 'OPERATOR', \n",
        "                 'PRODUCER', 'WRITER']\n",
        "\n",
        "df.dropna(subset=cols_na, inplace=True)"
      ]
    },
    {
      "cell_type": "code",
      "execution_count": 8,
      "metadata": {
        "id": "ZwL0OrdiN6Cc"
      },
      "outputs": [],
      "source": [
        "def add_topN_feature(df, col, n: int):\n",
        "    items = []\n",
        "    \n",
        "    for i in df[col]:\n",
        "        items.extend(i)\n",
        "\n",
        "    topN = [x[0] for x in Counter(items).most_common()][:n]\n",
        "    df[f'top{n}{col}'] = df[col].apply(lambda x: [int(item in x) for item in topN])\n",
        "    df.drop(col, axis=1, inplace=True)\n",
        "    return topN, f'top{n}{col}'\n",
        "\n",
        "def ohe_topN_features(df, topN, cat):\n",
        "    for i in range(len(topN)):\n",
        "        df[f'{topN[i]}'] = [item[i] for item in df[cat]]\n",
        "    df.drop(cat, axis=1, inplace=True)\n",
        "    return df"
      ]
    },
    {
      "cell_type": "code",
      "execution_count": 9,
      "metadata": {
        "colab": {
          "base_uri": "https://localhost:8080/",
          "height": 554
        },
        "id": "SA8JdDiEN6Cc",
        "outputId": "8a53a461-7e00-407c-bcec-5743a16b0a7a"
      },
      "outputs": [
        {
          "output_type": "execute_result",
          "data": {
            "text/plain": [
              "                                                        0  \\\n",
              "age_access_type                                        12   \n",
              "name                     Звёздный путь 5: Последний рубеж   \n",
              "director         ['cff3362f-ad91-498d-80b3-ea3ab8ec65cf']   \n",
              "average_rating                                       6.21   \n",
              "type                                                MOVIE   \n",
              "...                                                   ...   \n",
              "Харви Вайнштейн                                         0   \n",
              "Боб Вайнштейн                                           0   \n",
              "Арнон Милчен                                            0   \n",
              "Люк Бессон                                              0   \n",
              "Стэн Ли                                                 0   \n",
              "\n",
              "                                                        1  \\\n",
              "age_access_type                                        16   \n",
              "name                   Звёздный путь 6: Неоткрытая страна   \n",
              "director         ['bab6b7f4-4506-458f-9091-d567505674f2']   \n",
              "average_rating                                        7.2   \n",
              "type                                                MOVIE   \n",
              "...                                                   ...   \n",
              "Харви Вайнштейн                                         0   \n",
              "Боб Вайнштейн                                           0   \n",
              "Арнон Милчен                                            0   \n",
              "Люк Бессон                                              0   \n",
              "Стэн Ли                                                 0   \n",
              "\n",
              "                                                                                                4  \\\n",
              "age_access_type                                                                                 6   \n",
              "name                                                                             Пламенное сердце   \n",
              "director         ['40f78e6d-3c9f-434f-a505-c6ffdd045763', '332105c2-2697-49fd-97b2-b5022577758c']   \n",
              "average_rating                                                                                6.4   \n",
              "type                                                                                        MOVIE   \n",
              "...                                                                                           ...   \n",
              "Харви Вайнштейн                                                                                 0   \n",
              "Боб Вайнштейн                                                                                   0   \n",
              "Арнон Милчен                                                                                    0   \n",
              "Люк Бессон                                                                                      0   \n",
              "Стэн Ли                                                                                         0   \n",
              "\n",
              "                                                        5  \\\n",
              "age_access_type                                        16   \n",
              "name                                     Роман с кукушкой   \n",
              "director         ['f5fba6fe-94b3-4e69-acfc-da6867320386']   \n",
              "average_rating                                        NaN   \n",
              "type                                                MOVIE   \n",
              "...                                                   ...   \n",
              "Харви Вайнштейн                                         0   \n",
              "Боб Вайнштейн                                           0   \n",
              "Арнон Милчен                                            0   \n",
              "Люк Бессон                                              0   \n",
              "Стэн Ли                                                 0   \n",
              "\n",
              "                                                        6  \n",
              "age_access_type                                        12  \n",
              "name                           Звёздный путь 2: Гнев Хана  \n",
              "director         ['bab6b7f4-4506-458f-9091-d567505674f2']  \n",
              "average_rating                                       7.45  \n",
              "type                                                MOVIE  \n",
              "...                                                   ...  \n",
              "Харви Вайнштейн                                         0  \n",
              "Боб Вайнштейн                                           0  \n",
              "Арнон Милчен                                            0  \n",
              "Люк Бессон                                              0  \n",
              "Стэн Ли                                                 0  \n",
              "\n",
              "[72 rows x 5 columns]"
            ],
            "text/html": [
              "\n",
              "  <div id=\"df-72889219-16fc-44b1-9ce7-ffe038db3d63\">\n",
              "    <div class=\"colab-df-container\">\n",
              "      <div>\n",
              "<style scoped>\n",
              "    .dataframe tbody tr th:only-of-type {\n",
              "        vertical-align: middle;\n",
              "    }\n",
              "\n",
              "    .dataframe tbody tr th {\n",
              "        vertical-align: top;\n",
              "    }\n",
              "\n",
              "    .dataframe thead th {\n",
              "        text-align: right;\n",
              "    }\n",
              "</style>\n",
              "<table border=\"1\" class=\"dataframe\">\n",
              "  <thead>\n",
              "    <tr style=\"text-align: right;\">\n",
              "      <th></th>\n",
              "      <th>0</th>\n",
              "      <th>1</th>\n",
              "      <th>4</th>\n",
              "      <th>5</th>\n",
              "      <th>6</th>\n",
              "    </tr>\n",
              "  </thead>\n",
              "  <tbody>\n",
              "    <tr>\n",
              "      <th>age_access_type</th>\n",
              "      <td>12</td>\n",
              "      <td>16</td>\n",
              "      <td>6</td>\n",
              "      <td>16</td>\n",
              "      <td>12</td>\n",
              "    </tr>\n",
              "    <tr>\n",
              "      <th>name</th>\n",
              "      <td>Звёздный путь 5: Последний рубеж</td>\n",
              "      <td>Звёздный путь 6: Неоткрытая страна</td>\n",
              "      <td>Пламенное сердце</td>\n",
              "      <td>Роман с кукушкой</td>\n",
              "      <td>Звёздный путь 2: Гнев Хана</td>\n",
              "    </tr>\n",
              "    <tr>\n",
              "      <th>director</th>\n",
              "      <td>['cff3362f-ad91-498d-80b3-ea3ab8ec65cf']</td>\n",
              "      <td>['bab6b7f4-4506-458f-9091-d567505674f2']</td>\n",
              "      <td>['40f78e6d-3c9f-434f-a505-c6ffdd045763', '332105c2-2697-49fd-97b2-b5022577758c']</td>\n",
              "      <td>['f5fba6fe-94b3-4e69-acfc-da6867320386']</td>\n",
              "      <td>['bab6b7f4-4506-458f-9091-d567505674f2']</td>\n",
              "    </tr>\n",
              "    <tr>\n",
              "      <th>average_rating</th>\n",
              "      <td>6.21</td>\n",
              "      <td>7.2</td>\n",
              "      <td>6.4</td>\n",
              "      <td>NaN</td>\n",
              "      <td>7.45</td>\n",
              "    </tr>\n",
              "    <tr>\n",
              "      <th>type</th>\n",
              "      <td>MOVIE</td>\n",
              "      <td>MOVIE</td>\n",
              "      <td>MOVIE</td>\n",
              "      <td>MOVIE</td>\n",
              "      <td>MOVIE</td>\n",
              "    </tr>\n",
              "    <tr>\n",
              "      <th>...</th>\n",
              "      <td>...</td>\n",
              "      <td>...</td>\n",
              "      <td>...</td>\n",
              "      <td>...</td>\n",
              "      <td>...</td>\n",
              "    </tr>\n",
              "    <tr>\n",
              "      <th>Харви Вайнштейн</th>\n",
              "      <td>0</td>\n",
              "      <td>0</td>\n",
              "      <td>0</td>\n",
              "      <td>0</td>\n",
              "      <td>0</td>\n",
              "    </tr>\n",
              "    <tr>\n",
              "      <th>Боб Вайнштейн</th>\n",
              "      <td>0</td>\n",
              "      <td>0</td>\n",
              "      <td>0</td>\n",
              "      <td>0</td>\n",
              "      <td>0</td>\n",
              "    </tr>\n",
              "    <tr>\n",
              "      <th>Арнон Милчен</th>\n",
              "      <td>0</td>\n",
              "      <td>0</td>\n",
              "      <td>0</td>\n",
              "      <td>0</td>\n",
              "      <td>0</td>\n",
              "    </tr>\n",
              "    <tr>\n",
              "      <th>Люк Бессон</th>\n",
              "      <td>0</td>\n",
              "      <td>0</td>\n",
              "      <td>0</td>\n",
              "      <td>0</td>\n",
              "      <td>0</td>\n",
              "    </tr>\n",
              "    <tr>\n",
              "      <th>Стэн Ли</th>\n",
              "      <td>0</td>\n",
              "      <td>0</td>\n",
              "      <td>0</td>\n",
              "      <td>0</td>\n",
              "      <td>0</td>\n",
              "    </tr>\n",
              "  </tbody>\n",
              "</table>\n",
              "<p>72 rows × 5 columns</p>\n",
              "</div>\n",
              "      <button class=\"colab-df-convert\" onclick=\"convertToInteractive('df-72889219-16fc-44b1-9ce7-ffe038db3d63')\"\n",
              "              title=\"Convert this dataframe to an interactive table.\"\n",
              "              style=\"display:none;\">\n",
              "        \n",
              "  <svg xmlns=\"http://www.w3.org/2000/svg\" height=\"24px\"viewBox=\"0 0 24 24\"\n",
              "       width=\"24px\">\n",
              "    <path d=\"M0 0h24v24H0V0z\" fill=\"none\"/>\n",
              "    <path d=\"M18.56 5.44l.94 2.06.94-2.06 2.06-.94-2.06-.94-.94-2.06-.94 2.06-2.06.94zm-11 1L8.5 8.5l.94-2.06 2.06-.94-2.06-.94L8.5 2.5l-.94 2.06-2.06.94zm10 10l.94 2.06.94-2.06 2.06-.94-2.06-.94-.94-2.06-.94 2.06-2.06.94z\"/><path d=\"M17.41 7.96l-1.37-1.37c-.4-.4-.92-.59-1.43-.59-.52 0-1.04.2-1.43.59L10.3 9.45l-7.72 7.72c-.78.78-.78 2.05 0 2.83L4 21.41c.39.39.9.59 1.41.59.51 0 1.02-.2 1.41-.59l7.78-7.78 2.81-2.81c.8-.78.8-2.07 0-2.86zM5.41 20L4 18.59l7.72-7.72 1.47 1.35L5.41 20z\"/>\n",
              "  </svg>\n",
              "      </button>\n",
              "      \n",
              "  <style>\n",
              "    .colab-df-container {\n",
              "      display:flex;\n",
              "      flex-wrap:wrap;\n",
              "      gap: 12px;\n",
              "    }\n",
              "\n",
              "    .colab-df-convert {\n",
              "      background-color: #E8F0FE;\n",
              "      border: none;\n",
              "      border-radius: 50%;\n",
              "      cursor: pointer;\n",
              "      display: none;\n",
              "      fill: #1967D2;\n",
              "      height: 32px;\n",
              "      padding: 0 0 0 0;\n",
              "      width: 32px;\n",
              "    }\n",
              "\n",
              "    .colab-df-convert:hover {\n",
              "      background-color: #E2EBFA;\n",
              "      box-shadow: 0px 1px 2px rgba(60, 64, 67, 0.3), 0px 1px 3px 1px rgba(60, 64, 67, 0.15);\n",
              "      fill: #174EA6;\n",
              "    }\n",
              "\n",
              "    [theme=dark] .colab-df-convert {\n",
              "      background-color: #3B4455;\n",
              "      fill: #D2E3FC;\n",
              "    }\n",
              "\n",
              "    [theme=dark] .colab-df-convert:hover {\n",
              "      background-color: #434B5C;\n",
              "      box-shadow: 0px 1px 3px 1px rgba(0, 0, 0, 0.15);\n",
              "      filter: drop-shadow(0px 1px 2px rgba(0, 0, 0, 0.3));\n",
              "      fill: #FFFFFF;\n",
              "    }\n",
              "  </style>\n",
              "\n",
              "      <script>\n",
              "        const buttonEl =\n",
              "          document.querySelector('#df-72889219-16fc-44b1-9ce7-ffe038db3d63 button.colab-df-convert');\n",
              "        buttonEl.style.display =\n",
              "          google.colab.kernel.accessAllowed ? 'block' : 'none';\n",
              "\n",
              "        async function convertToInteractive(key) {\n",
              "          const element = document.querySelector('#df-72889219-16fc-44b1-9ce7-ffe038db3d63');\n",
              "          const dataTable =\n",
              "            await google.colab.kernel.invokeFunction('convertToInteractive',\n",
              "                                                     [key], {});\n",
              "          if (!dataTable) return;\n",
              "\n",
              "          const docLinkHtml = 'Like what you see? Visit the ' +\n",
              "            '<a target=\"_blank\" href=https://colab.research.google.com/notebooks/data_table.ipynb>data table notebook</a>'\n",
              "            + ' to learn more about interactive tables.';\n",
              "          element.innerHTML = '';\n",
              "          dataTable['output_type'] = 'display_data';\n",
              "          await google.colab.output.renderOutput(dataTable, element);\n",
              "          const docLink = document.createElement('div');\n",
              "          docLink.innerHTML = docLinkHtml;\n",
              "          element.appendChild(docLink);\n",
              "        }\n",
              "      </script>\n",
              "    </div>\n",
              "  </div>\n",
              "  "
            ]
          },
          "metadata": {},
          "execution_count": 9
        }
      ],
      "source": [
        "top10genres, name = add_topN_feature(df, 'genre', 10)\n",
        "df = ohe_topN_features(df, top10genres, name)\n",
        "\n",
        "top10actors, name = add_topN_feature(df, 'ACTOR', 10)\n",
        "df = ohe_topN_features(df, top10actors, name)\n",
        "\n",
        "top3directors, name = add_topN_feature(df, 'COMPOSER', 3)\n",
        "df = ohe_topN_features(df, top3directors, name)\n",
        "\n",
        "top5countries, name = add_topN_feature(df, 'country', 5)\n",
        "df = ohe_topN_features(df, top5countries, name)\n",
        "\n",
        "top2DESIGN, name = add_topN_feature(df, 'DESIGN', 2)\n",
        "df = ohe_topN_features(df, top2DESIGN, name)\n",
        "\n",
        "top2DIRECTOR, name = add_topN_feature(df, 'DIRECTOR', 2)\n",
        "df = ohe_topN_features(df, top2DIRECTOR, name)\n",
        "\n",
        "top2EDITOR, name = add_topN_feature(df, 'EDITOR', 2)\n",
        "df = ohe_topN_features(df, top2EDITOR, name)\n",
        "\n",
        "top2OPERATOR, name = add_topN_feature(df, 'OPERATOR', 2)\n",
        "df = ohe_topN_features(df, top2OPERATOR, name)\n",
        "\n",
        "top3PRODUCER, name = add_topN_feature(df, 'PRODUCER', 3)\n",
        "df = ohe_topN_features(df, top3PRODUCER, name)\n",
        "\n",
        "top2WRITER, name = add_topN_feature(df, 'WRITER', 2)\n",
        "df = ohe_topN_features(df, top2WRITER, name)\n",
        "\n",
        "df.head().T"
      ]
    },
    {
      "cell_type": "code",
      "execution_count": 10,
      "metadata": {
        "id": "gfHqrsvgN6Cd"
      },
      "outputs": [],
      "source": [
        "prep_df = df.copy(deep=True)"
      ]
    },
    {
      "cell_type": "code",
      "execution_count": 11,
      "metadata": {
        "id": "hmh37dqiN6Cd"
      },
      "outputs": [],
      "source": [
        "skewed_num_features = ['duration', 'BUDGET', 'MARKETING',\n",
        "                       'RUS', 'USA', 'WORLD']"
      ]
    },
    {
      "cell_type": "code",
      "execution_count": 12,
      "metadata": {
        "id": "MTjRcC65N6Cd"
      },
      "outputs": [],
      "source": [
        "from collections import Counter\n",
        "from sklearn.feature_extraction.text import TfidfVectorizer\n",
        "import numpy as np\n",
        "from sklearn.model_selection import train_test_split\n",
        "import pandas as pd\n",
        "\n",
        "class Preprocesser:\n",
        "    def __init__(self, \n",
        "                skewed_num_features: list):\n",
        "        self.skewed_num_features = skewed_num_features\n",
        "        \n",
        "    def __get_top_n_mltpl_cat_features(self, df_pr, col):\n",
        "        all_cats = []\n",
        "        for element_values in df_pr[col]:\n",
        "            all_cats.extend(element_values)\n",
        "        return Counter(all_cats).most_common(self.mltpl_cat_n_top[col])\n",
        "            \n",
        "    def __preprocess_mulpiple_cat_features(self, df_pr):\n",
        "        for col in self.mulpiple_cat_features:\n",
        "            feature_number = self.mltpl_cat_n_top[col]\n",
        "            df_pr[[f'{col}_{i}' for i in range(feature_number)]] = pd.DataFrame(np.full((len(df), feature_number), np.nan))\n",
        "            for i in df_pr.index:\n",
        "                names = df_pr.loc[i, col]\n",
        "                for k, name in enumerate(names[:int(feature_number)]):\n",
        "                    df_pr.loc[i, f'{col}_{k}'] = name\n",
        "            df_pr.drop(col, axis=1, inplace=True)\n",
        "\n",
        "        return df_pr\n",
        "    \n",
        "    def __preprocess_skewed_num_features(self, df_pr):\n",
        "        for col in self.skewed_num_features:\n",
        "            df_pr[col] = df_pr[col].apply(lambda x: np.log1p(x))\n",
        "        return df_pr\n",
        "    \n",
        "    def __preprocess_text_features(self, df_pr):\n",
        "        for col in self.text_features:\n",
        "            df_pr[col] = df_pr[col].apply(lambda x: self.tokenizer(x))\n",
        "        return df_pr\n",
        "            \n",
        "    def preprocess(self,\n",
        "                   df: pd.DataFrame):\n",
        "        df_pr = df.copy()\n",
        "        df_pr = self.__preprocess_skewed_num_features(df_pr)\n",
        "        \n",
        "        return df_pr\n",
        "        "
      ]
    },
    {
      "cell_type": "code",
      "execution_count": 13,
      "metadata": {
        "id": "GG3KkyGTN6Ce"
      },
      "outputs": [],
      "source": [
        "preprocesser = Preprocesser(skewed_num_features )"
      ]
    },
    {
      "cell_type": "code",
      "execution_count": 14,
      "metadata": {
        "id": "pf_Jtn48N6Ce"
      },
      "outputs": [],
      "source": [
        "df_pr = preprocesser.preprocess(prep_df)"
      ]
    },
    {
      "cell_type": "code",
      "execution_count": 15,
      "metadata": {
        "colab": {
          "base_uri": "https://localhost:8080/",
          "height": 569
        },
        "id": "lX_4B4tFN6Cf",
        "outputId": "51c87cba-e815-4def-b651-abf68192d688"
      },
      "outputs": [
        {
          "output_type": "display_data",
          "data": {
            "text/plain": [
              "<Figure size 1000x300 with 1 Axes>"
            ],
            "image/svg+xml": "<?xml version=\"1.0\" encoding=\"utf-8\" standalone=\"no\"?>\n<!DOCTYPE svg PUBLIC \"-//W3C//DTD SVG 1.1//EN\"\n  \"http://www.w3.org/Graphics/SVG/1.1/DTD/svg11.dtd\">\n<svg xmlns:xlink=\"http://www.w3.org/1999/xlink\" width=\"607.554062pt\" height=\"211.295938pt\" viewBox=\"0 0 607.554062 211.295938\" xmlns=\"http://www.w3.org/2000/svg\" version=\"1.1\">\n <metadata>\n  <rdf:RDF xmlns:dc=\"http://purl.org/dc/elements/1.1/\" xmlns:cc=\"http://creativecommons.org/ns#\" xmlns:rdf=\"http://www.w3.org/1999/02/22-rdf-syntax-ns#\">\n   <cc:Work>\n    <dc:type rdf:resource=\"http://purl.org/dc/dcmitype/StillImage\"/>\n    <dc:date>2023-05-23T06:47:12.547655</dc:date>\n    <dc:format>image/svg+xml</dc:format>\n    <dc:creator>\n     <cc:Agent>\n      <dc:title>Matplotlib v3.7.1, https://matplotlib.org/</dc:title>\n     </cc:Agent>\n    </dc:creator>\n   </cc:Work>\n  </rdf:RDF>\n </metadata>\n <defs>\n  <style type=\"text/css\">*{stroke-linejoin: round; stroke-linecap: butt}</style>\n </defs>\n <g id=\"figure_1\">\n  <g id=\"patch_1\">\n   <path d=\"M 0 211.295938 \nL 607.554062 211.295938 \nL 607.554062 0 \nL 0 0 \nz\n\" style=\"fill: #ffffff\"/>\n  </g>\n  <g id=\"axes_1\">\n   <g id=\"patch_2\">\n    <path d=\"M 42.354063 173.52 \nL 600.354063 173.52 \nL 600.354063 7.2 \nL 42.354063 7.2 \nz\n\" style=\"fill: #eaeaf2\"/>\n   </g>\n   <g id=\"matplotlib.axis_1\">\n    <g id=\"xtick_1\">\n     <g id=\"line2d_1\">\n      <path d=\"M 97.304881 173.52 \nL 97.304881 7.2 \n\" clip-path=\"url(#p9a37976656)\" style=\"fill: none; stroke: #ffffff; stroke-linecap: round\"/>\n     </g>\n     <g id=\"line2d_2\"/>\n     <g id=\"text_1\">\n      <!-- 0 -->\n      <g style=\"fill: #262626\" transform=\"translate(94.524412 187.766875) scale(0.1 -0.1)\">\n       <defs>\n        <path id=\"LiberationSans-30\" d=\"M 3309 2203 \nQ 3309 1569 3189 1136 \nQ 3069 703 2861 436 \nQ 2653 169 2372 53 \nQ 2091 -63 1772 -63 \nQ 1450 -63 1172 53 \nQ 894 169 689 434 \nQ 484 700 367 1133 \nQ 250 1566 250 2203 \nQ 250 2869 367 3305 \nQ 484 3741 690 4000 \nQ 897 4259 1178 4364 \nQ 1459 4469 1791 4469 \nQ 2106 4469 2382 4364 \nQ 2659 4259 2865 4000 \nQ 3072 3741 3190 3305 \nQ 3309 2869 3309 2203 \nz\nM 2738 2203 \nQ 2738 2728 2675 3076 \nQ 2613 3425 2491 3633 \nQ 2369 3841 2192 3927 \nQ 2016 4013 1791 4013 \nQ 1553 4013 1372 3925 \nQ 1191 3838 1067 3630 \nQ 944 3422 881 3073 \nQ 819 2725 819 2203 \nQ 819 1697 883 1350 \nQ 947 1003 1070 792 \nQ 1194 581 1372 489 \nQ 1550 397 1778 397 \nQ 2000 397 2178 489 \nQ 2356 581 2479 792 \nQ 2603 1003 2670 1350 \nQ 2738 1697 2738 2203 \nz\n\" transform=\"scale(0.015625)\"/>\n       </defs>\n       <use xlink:href=\"#LiberationSans-30\"/>\n      </g>\n     </g>\n    </g>\n    <g id=\"xtick_2\">\n     <g id=\"line2d_3\">\n      <path d=\"M 186.924553 173.52 \nL 186.924553 7.2 \n\" clip-path=\"url(#p9a37976656)\" style=\"fill: none; stroke: #ffffff; stroke-linecap: round\"/>\n     </g>\n     <g id=\"line2d_4\"/>\n     <g id=\"text_2\">\n      <!-- 2 -->\n      <g style=\"fill: #262626\" transform=\"translate(184.144085 187.766875) scale(0.1 -0.1)\">\n       <defs>\n        <path id=\"LiberationSans-32\" d=\"M 322 0 \nL 322 397 \nQ 481 763 711 1042 \nQ 941 1322 1194 1548 \nQ 1447 1775 1695 1969 \nQ 1944 2163 2144 2356 \nQ 2344 2550 2467 2762 \nQ 2591 2975 2591 3244 \nQ 2591 3431 2534 3573 \nQ 2478 3716 2372 3812 \nQ 2266 3909 2117 3957 \nQ 1969 4006 1788 4006 \nQ 1619 4006 1470 3959 \nQ 1322 3913 1206 3819 \nQ 1091 3725 1017 3586 \nQ 944 3447 922 3263 \nL 347 3316 \nQ 375 3553 478 3762 \nQ 581 3972 762 4130 \nQ 944 4288 1198 4378 \nQ 1453 4469 1788 4469 \nQ 2116 4469 2372 4391 \nQ 2628 4313 2804 4159 \nQ 2981 4006 3075 3781 \nQ 3169 3556 3169 3263 \nQ 3169 3041 3089 2841 \nQ 3009 2641 2876 2459 \nQ 2744 2278 2569 2109 \nQ 2394 1941 2203 1780 \nQ 2013 1619 1819 1461 \nQ 1625 1303 1454 1143 \nQ 1284 984 1150 820 \nQ 1016 656 941 478 \nL 3238 478 \nL 3238 0 \nL 322 0 \nz\n\" transform=\"scale(0.015625)\"/>\n       </defs>\n       <use xlink:href=\"#LiberationSans-32\"/>\n      </g>\n     </g>\n    </g>\n    <g id=\"xtick_3\">\n     <g id=\"line2d_5\">\n      <path d=\"M 276.544226 173.52 \nL 276.544226 7.2 \n\" clip-path=\"url(#p9a37976656)\" style=\"fill: none; stroke: #ffffff; stroke-linecap: round\"/>\n     </g>\n     <g id=\"line2d_6\"/>\n     <g id=\"text_3\">\n      <!-- 4 -->\n      <g style=\"fill: #262626\" transform=\"translate(273.763757 187.766875) scale(0.1 -0.1)\">\n       <defs>\n        <path id=\"LiberationSans-34\" d=\"M 2753 997 \nL 2753 0 \nL 2222 0 \nL 2222 997 \nL 147 997 \nL 147 1434 \nL 2163 4403 \nL 2753 4403 \nL 2753 1441 \nL 3372 1441 \nL 3372 997 \nL 2753 997 \nz\nM 2222 3769 \nQ 2216 3753 2191 3708 \nQ 2166 3663 2134 3606 \nQ 2103 3550 2070 3492 \nQ 2038 3434 2013 3397 \nL 884 1734 \nQ 869 1709 839 1668 \nQ 809 1628 778 1586 \nQ 747 1544 715 1503 \nQ 684 1463 666 1441 \nL 2222 1441 \nL 2222 3769 \nz\n\" transform=\"scale(0.015625)\"/>\n       </defs>\n       <use xlink:href=\"#LiberationSans-34\"/>\n      </g>\n     </g>\n    </g>\n    <g id=\"xtick_4\">\n     <g id=\"line2d_7\">\n      <path d=\"M 366.163899 173.52 \nL 366.163899 7.2 \n\" clip-path=\"url(#p9a37976656)\" style=\"fill: none; stroke: #ffffff; stroke-linecap: round\"/>\n     </g>\n     <g id=\"line2d_8\"/>\n     <g id=\"text_4\">\n      <!-- 6 -->\n      <g style=\"fill: #262626\" transform=\"translate(363.38343 187.766875) scale(0.1 -0.1)\">\n       <defs>\n        <path id=\"LiberationSans-36\" d=\"M 3278 1441 \nQ 3278 1109 3186 832 \nQ 3094 556 2914 357 \nQ 2734 159 2468 48 \nQ 2203 -63 1856 -63 \nQ 1472 -63 1184 84 \nQ 897 231 706 507 \nQ 516 784 420 1186 \nQ 325 1588 325 2100 \nQ 325 2688 433 3131 \nQ 541 3575 744 3872 \nQ 947 4169 1239 4319 \nQ 1531 4469 1900 4469 \nQ 2125 4469 2322 4422 \nQ 2519 4375 2680 4270 \nQ 2841 4166 2962 3994 \nQ 3084 3822 3156 3572 \nL 2619 3475 \nQ 2531 3759 2339 3886 \nQ 2147 4013 1894 4013 \nQ 1663 4013 1475 3903 \nQ 1288 3794 1156 3576 \nQ 1025 3359 954 3031 \nQ 884 2703 884 2266 \nQ 1038 2550 1316 2698 \nQ 1594 2847 1953 2847 \nQ 2253 2847 2497 2750 \nQ 2741 2653 2914 2470 \nQ 3088 2288 3183 2027 \nQ 3278 1766 3278 1441 \nz\nM 2706 1416 \nQ 2706 1644 2650 1828 \nQ 2594 2013 2481 2142 \nQ 2369 2272 2203 2342 \nQ 2038 2413 1819 2413 \nQ 1666 2413 1509 2367 \nQ 1353 2322 1226 2220 \nQ 1100 2119 1020 1953 \nQ 941 1788 941 1550 \nQ 941 1306 1003 1095 \nQ 1066 884 1183 728 \nQ 1300 572 1465 481 \nQ 1631 391 1838 391 \nQ 2041 391 2202 461 \nQ 2363 531 2475 664 \nQ 2588 797 2647 987 \nQ 2706 1178 2706 1416 \nz\n\" transform=\"scale(0.015625)\"/>\n       </defs>\n       <use xlink:href=\"#LiberationSans-36\"/>\n      </g>\n     </g>\n    </g>\n    <g id=\"xtick_5\">\n     <g id=\"line2d_9\">\n      <path d=\"M 455.783572 173.52 \nL 455.783572 7.2 \n\" clip-path=\"url(#p9a37976656)\" style=\"fill: none; stroke: #ffffff; stroke-linecap: round\"/>\n     </g>\n     <g id=\"line2d_10\"/>\n     <g id=\"text_5\">\n      <!-- 8 -->\n      <g style=\"fill: #262626\" transform=\"translate(453.003103 187.766875) scale(0.1 -0.1)\">\n       <defs>\n        <path id=\"LiberationSans-38\" d=\"M 3281 1228 \nQ 3281 947 3192 711 \nQ 3103 475 2920 303 \nQ 2738 131 2453 34 \nQ 2169 -63 1781 -63 \nQ 1394 -63 1111 34 \nQ 828 131 642 301 \nQ 456 472 367 708 \nQ 278 944 278 1222 \nQ 278 1463 351 1650 \nQ 425 1838 548 1973 \nQ 672 2109 830 2192 \nQ 988 2275 1156 2303 \nL 1156 2316 \nQ 972 2359 826 2456 \nQ 681 2553 582 2689 \nQ 484 2825 432 2990 \nQ 381 3156 381 3341 \nQ 381 3572 470 3776 \nQ 559 3981 734 4136 \nQ 909 4291 1168 4380 \nQ 1428 4469 1769 4469 \nQ 2128 4469 2392 4378 \nQ 2656 4288 2829 4133 \nQ 3003 3978 3087 3772 \nQ 3172 3566 3172 3334 \nQ 3172 3153 3120 2987 \nQ 3069 2822 2970 2686 \nQ 2872 2550 2726 2454 \nQ 2581 2359 2391 2322 \nL 2391 2309 \nQ 2581 2278 2743 2195 \nQ 2906 2113 3025 1977 \nQ 3144 1841 3212 1653 \nQ 3281 1466 3281 1228 \nz\nM 2588 3303 \nQ 2588 3469 2545 3606 \nQ 2503 3744 2406 3842 \nQ 2309 3941 2153 3995 \nQ 1997 4050 1769 4050 \nQ 1547 4050 1394 3995 \nQ 1241 3941 1142 3842 \nQ 1044 3744 1000 3606 \nQ 956 3469 956 3303 \nQ 956 3172 990 3034 \nQ 1025 2897 1115 2784 \nQ 1206 2672 1365 2600 \nQ 1525 2528 1775 2528 \nQ 2041 2528 2202 2600 \nQ 2363 2672 2448 2784 \nQ 2534 2897 2561 3034 \nQ 2588 3172 2588 3303 \nz\nM 2697 1281 \nQ 2697 1441 2653 1589 \nQ 2609 1738 2503 1852 \nQ 2397 1966 2217 2036 \nQ 2038 2106 1769 2106 \nQ 1522 2106 1348 2036 \nQ 1175 1966 1067 1850 \nQ 959 1734 909 1582 \nQ 859 1431 859 1269 \nQ 859 1066 909 898 \nQ 959 731 1068 611 \nQ 1178 491 1356 425 \nQ 1534 359 1788 359 \nQ 2044 359 2219 425 \nQ 2394 491 2500 611 \nQ 2606 731 2651 901 \nQ 2697 1072 2697 1281 \nz\n\" transform=\"scale(0.015625)\"/>\n       </defs>\n       <use xlink:href=\"#LiberationSans-38\"/>\n      </g>\n     </g>\n    </g>\n    <g id=\"xtick_6\">\n     <g id=\"line2d_11\">\n      <path d=\"M 545.403244 173.52 \nL 545.403244 7.2 \n\" clip-path=\"url(#p9a37976656)\" style=\"fill: none; stroke: #ffffff; stroke-linecap: round\"/>\n     </g>\n     <g id=\"line2d_12\"/>\n     <g id=\"text_6\">\n      <!-- 10 -->\n      <g style=\"fill: #262626\" transform=\"translate(539.842307 187.766875) scale(0.1 -0.1)\">\n       <defs>\n        <path id=\"LiberationSans-31\" d=\"M 488 0 \nL 488 478 \nL 1609 478 \nL 1609 3866 \nL 616 3156 \nL 616 3688 \nL 1656 4403 \nL 2175 4403 \nL 2175 478 \nL 3247 478 \nL 3247 0 \nL 488 0 \nz\n\" transform=\"scale(0.015625)\"/>\n       </defs>\n       <use xlink:href=\"#LiberationSans-31\"/>\n       <use xlink:href=\"#LiberationSans-30\" x=\"55.615234\"/>\n      </g>\n     </g>\n    </g>\n    <g id=\"text_7\">\n     <!-- rating -->\n     <g style=\"fill: #262626\" transform=\"translate(307.597188 201.813438) scale(0.11 -0.11)\">\n      <defs>\n       <path id=\"LiberationSans-72\" d=\"M 444 0 \nL 444 2594 \nQ 444 2700 442 2811 \nQ 441 2922 437 3025 \nQ 434 3128 431 3218 \nQ 428 3309 425 3381 \nL 956 3381 \nQ 959 3309 964 3217 \nQ 969 3125 973 3028 \nQ 978 2931 979 2842 \nQ 981 2753 981 2691 \nL 994 2691 \nQ 1053 2884 1120 3026 \nQ 1188 3169 1278 3261 \nQ 1369 3353 1494 3398 \nQ 1619 3444 1797 3444 \nQ 1866 3444 1928 3433 \nQ 1991 3422 2025 3413 \nL 2025 2897 \nQ 1969 2913 1894 2920 \nQ 1819 2928 1725 2928 \nQ 1531 2928 1395 2840 \nQ 1259 2753 1173 2598 \nQ 1088 2444 1047 2230 \nQ 1006 2016 1006 1763 \nL 1006 0 \nL 444 0 \nz\n\" transform=\"scale(0.015625)\"/>\n       <path id=\"LiberationSans-61\" d=\"M 1294 -63 \nQ 784 -63 528 206 \nQ 272 475 272 944 \nQ 272 1278 398 1492 \nQ 525 1706 729 1828 \nQ 934 1950 1196 1997 \nQ 1459 2044 1731 2050 \nL 2491 2063 \nL 2491 2247 \nQ 2491 2456 2447 2603 \nQ 2403 2750 2312 2840 \nQ 2222 2931 2086 2973 \nQ 1950 3016 1766 3016 \nQ 1603 3016 1472 2992 \nQ 1341 2969 1244 2908 \nQ 1147 2847 1087 2742 \nQ 1028 2638 1009 2478 \nL 422 2531 \nQ 453 2731 540 2898 \nQ 628 3066 789 3187 \nQ 950 3309 1192 3376 \nQ 1434 3444 1778 3444 \nQ 2416 3444 2737 3151 \nQ 3059 2859 3059 2306 \nL 3059 850 \nQ 3059 600 3125 473 \nQ 3191 347 3375 347 \nQ 3422 347 3469 353 \nQ 3516 359 3559 369 \nL 3559 19 \nQ 3453 -6 3348 -18 \nQ 3244 -31 3125 -31 \nQ 2966 -31 2852 11 \nQ 2738 53 2666 139 \nQ 2594 225 2556 351 \nQ 2519 478 2509 647 \nL 2491 647 \nQ 2400 484 2292 353 \nQ 2184 222 2040 130 \nQ 1897 38 1714 -12 \nQ 1531 -63 1294 -63 \nz\nM 1422 359 \nQ 1691 359 1892 457 \nQ 2094 556 2226 709 \nQ 2359 863 2425 1044 \nQ 2491 1225 2491 1391 \nL 2491 1669 \nL 1875 1656 \nQ 1669 1653 1483 1626 \nQ 1297 1600 1156 1522 \nQ 1016 1444 933 1303 \nQ 850 1163 850 934 \nQ 850 659 998 509 \nQ 1147 359 1422 359 \nz\n\" transform=\"scale(0.015625)\"/>\n       <path id=\"LiberationSans-74\" d=\"M 1731 25 \nQ 1603 -9 1470 -29 \nQ 1338 -50 1163 -50 \nQ 488 -50 488 716 \nL 488 2972 \nL 97 2972 \nL 97 3381 \nL 509 3381 \nL 675 4138 \nL 1050 4138 \nL 1050 3381 \nL 1675 3381 \nL 1675 2972 \nL 1050 2972 \nL 1050 838 \nQ 1050 594 1129 495 \nQ 1209 397 1406 397 \nQ 1488 397 1564 409 \nQ 1641 422 1731 441 \nL 1731 25 \nz\n\" transform=\"scale(0.015625)\"/>\n       <path id=\"LiberationSans-69\" d=\"M 428 4100 \nL 428 4638 \nL 991 4638 \nL 991 4100 \nL 428 4100 \nz\nM 428 0 \nL 428 3381 \nL 991 3381 \nL 991 0 \nL 428 0 \nz\n\" transform=\"scale(0.015625)\"/>\n       <path id=\"LiberationSans-6e\" d=\"M 2578 0 \nL 2578 2144 \nQ 2578 2391 2542 2556 \nQ 2506 2722 2425 2823 \nQ 2344 2925 2211 2967 \nQ 2078 3009 1881 3009 \nQ 1681 3009 1520 2939 \nQ 1359 2869 1245 2736 \nQ 1131 2603 1068 2408 \nQ 1006 2213 1006 1959 \nL 1006 0 \nL 444 0 \nL 444 2659 \nQ 444 2766 442 2883 \nQ 441 3000 437 3104 \nQ 434 3209 431 3284 \nQ 428 3359 425 3381 \nL 956 3381 \nQ 959 3366 962 3297 \nQ 966 3228 970 3139 \nQ 975 3050 978 2958 \nQ 981 2866 981 2803 \nL 991 2803 \nQ 1072 2950 1169 3069 \nQ 1266 3188 1394 3270 \nQ 1522 3353 1687 3398 \nQ 1853 3444 2072 3444 \nQ 2353 3444 2556 3375 \nQ 2759 3306 2890 3162 \nQ 3022 3019 3083 2792 \nQ 3144 2566 3144 2253 \nL 3144 0 \nL 2578 0 \nz\n\" transform=\"scale(0.015625)\"/>\n       <path id=\"LiberationSans-67\" d=\"M 1713 -1328 \nQ 1422 -1328 1197 -1268 \nQ 972 -1209 812 -1098 \nQ 653 -988 553 -834 \nQ 453 -681 409 -494 \nL 975 -413 \nQ 1031 -647 1223 -773 \nQ 1416 -900 1728 -900 \nQ 1919 -900 2075 -847 \nQ 2231 -794 2340 -676 \nQ 2450 -559 2509 -371 \nQ 2569 -184 2569 84 \nL 2569 628 \nL 2563 628 \nQ 2500 500 2408 383 \nQ 2316 266 2183 175 \nQ 2050 84 1875 29 \nQ 1700 -25 1475 -25 \nQ 1153 -25 923 83 \nQ 694 191 548 406 \nQ 403 622 336 942 \nQ 269 1263 269 1684 \nQ 269 2091 336 2416 \nQ 403 2741 554 2967 \nQ 706 3194 948 3314 \nQ 1191 3434 1538 3434 \nQ 1897 3434 2161 3270 \nQ 2425 3106 2569 2803 \nL 2575 2803 \nQ 2575 2881 2579 2978 \nQ 2584 3075 2589 3161 \nQ 2594 3247 2600 3309 \nQ 2606 3372 2613 3381 \nL 3147 3381 \nQ 3144 3353 3141 3286 \nQ 3138 3219 3134 3125 \nQ 3131 3031 3129 2917 \nQ 3128 2803 3128 2681 \nL 3128 97 \nQ 3128 -613 2779 -970 \nQ 2431 -1328 1713 -1328 \nz\nM 2569 1691 \nQ 2569 2044 2492 2295 \nQ 2416 2547 2291 2706 \nQ 2166 2866 2005 2941 \nQ 1844 3016 1675 3016 \nQ 1459 3016 1304 2941 \nQ 1150 2866 1048 2705 \nQ 947 2544 898 2292 \nQ 850 2041 850 1691 \nQ 850 1325 898 1076 \nQ 947 828 1047 675 \nQ 1147 522 1300 456 \nQ 1453 391 1666 391 \nQ 1834 391 1995 462 \nQ 2156 534 2284 690 \nQ 2413 847 2491 1094 \nQ 2569 1341 2569 1691 \nz\n\" transform=\"scale(0.015625)\"/>\n      </defs>\n      <use xlink:href=\"#LiberationSans-72\"/>\n      <use xlink:href=\"#LiberationSans-61\" x=\"33.300781\"/>\n      <use xlink:href=\"#LiberationSans-74\" x=\"88.916016\"/>\n      <use xlink:href=\"#LiberationSans-69\" x=\"116.699219\"/>\n      <use xlink:href=\"#LiberationSans-6e\" x=\"138.916016\"/>\n      <use xlink:href=\"#LiberationSans-67\" x=\"194.53125\"/>\n     </g>\n    </g>\n   </g>\n   <g id=\"matplotlib.axis_2\">\n    <g id=\"ytick_1\">\n     <g id=\"line2d_13\">\n      <path d=\"M 42.354063 173.52 \nL 600.354063 173.52 \n\" clip-path=\"url(#p9a37976656)\" style=\"fill: none; stroke: #ffffff; stroke-linecap: round\"/>\n     </g>\n     <g id=\"line2d_14\"/>\n     <g id=\"text_8\">\n      <!-- 0.0 -->\n      <g style=\"fill: #262626\" transform=\"translate(21.454063 177.143438) scale(0.1 -0.1)\">\n       <defs>\n        <path id=\"LiberationSans-2e\" d=\"M 584 0 \nL 584 684 \nL 1194 684 \nL 1194 0 \nL 584 0 \nz\n\" transform=\"scale(0.015625)\"/>\n       </defs>\n       <use xlink:href=\"#LiberationSans-30\"/>\n       <use xlink:href=\"#LiberationSans-2e\" x=\"55.615234\"/>\n       <use xlink:href=\"#LiberationSans-30\" x=\"83.398438\"/>\n      </g>\n     </g>\n    </g>\n    <g id=\"ytick_2\">\n     <g id=\"line2d_15\">\n      <path d=\"M 42.354063 142.718831 \nL 600.354063 142.718831 \n\" clip-path=\"url(#p9a37976656)\" style=\"fill: none; stroke: #ffffff; stroke-linecap: round\"/>\n     </g>\n     <g id=\"line2d_16\"/>\n     <g id=\"text_9\">\n      <!-- 0.1 -->\n      <g style=\"fill: #262626\" transform=\"translate(21.454063 146.342268) scale(0.1 -0.1)\">\n       <use xlink:href=\"#LiberationSans-30\"/>\n       <use xlink:href=\"#LiberationSans-2e\" x=\"55.615234\"/>\n       <use xlink:href=\"#LiberationSans-31\" x=\"83.398438\"/>\n      </g>\n     </g>\n    </g>\n    <g id=\"ytick_3\">\n     <g id=\"line2d_17\">\n      <path d=\"M 42.354063 111.917661 \nL 600.354063 111.917661 \n\" clip-path=\"url(#p9a37976656)\" style=\"fill: none; stroke: #ffffff; stroke-linecap: round\"/>\n     </g>\n     <g id=\"line2d_18\"/>\n     <g id=\"text_10\">\n      <!-- 0.2 -->\n      <g style=\"fill: #262626\" transform=\"translate(21.454063 115.541099) scale(0.1 -0.1)\">\n       <use xlink:href=\"#LiberationSans-30\"/>\n       <use xlink:href=\"#LiberationSans-2e\" x=\"55.615234\"/>\n       <use xlink:href=\"#LiberationSans-32\" x=\"83.398438\"/>\n      </g>\n     </g>\n    </g>\n    <g id=\"ytick_4\">\n     <g id=\"line2d_19\">\n      <path d=\"M 42.354063 81.116492 \nL 600.354063 81.116492 \n\" clip-path=\"url(#p9a37976656)\" style=\"fill: none; stroke: #ffffff; stroke-linecap: round\"/>\n     </g>\n     <g id=\"line2d_20\"/>\n     <g id=\"text_11\">\n      <!-- 0.3 -->\n      <g style=\"fill: #262626\" transform=\"translate(21.454063 84.739929) scale(0.1 -0.1)\">\n       <defs>\n        <path id=\"LiberationSans-33\" d=\"M 3278 1216 \nQ 3278 913 3179 675 \nQ 3081 438 2892 273 \nQ 2703 109 2423 23 \nQ 2144 -63 1784 -63 \nQ 1375 -63 1095 39 \nQ 816 141 634 308 \nQ 453 475 362 689 \nQ 272 903 244 1131 \nL 825 1184 \nQ 850 1009 917 865 \nQ 984 722 1100 619 \nQ 1216 516 1384 459 \nQ 1553 403 1784 403 \nQ 2209 403 2451 612 \nQ 2694 822 2694 1234 \nQ 2694 1478 2586 1626 \nQ 2478 1775 2317 1858 \nQ 2156 1941 1967 1969 \nQ 1778 1997 1619 1997 \nL 1300 1997 \nL 1300 2484 \nL 1606 2484 \nQ 1766 2484 1937 2517 \nQ 2109 2550 2251 2636 \nQ 2394 2722 2486 2869 \nQ 2578 3016 2578 3244 \nQ 2578 3597 2370 3801 \nQ 2163 4006 1753 4006 \nQ 1381 4006 1151 3815 \nQ 922 3625 884 3278 \nL 319 3322 \nQ 353 3613 478 3828 \nQ 603 4044 795 4186 \nQ 988 4328 1234 4398 \nQ 1481 4469 1759 4469 \nQ 2128 4469 2393 4376 \nQ 2659 4284 2828 4126 \nQ 2997 3969 3076 3756 \nQ 3156 3544 3156 3303 \nQ 3156 3109 3103 2940 \nQ 3050 2772 2937 2637 \nQ 2825 2503 2651 2406 \nQ 2478 2309 2234 2259 \nL 2234 2247 \nQ 2500 2219 2697 2126 \nQ 2894 2034 3022 1896 \nQ 3150 1759 3214 1584 \nQ 3278 1409 3278 1216 \nz\n\" transform=\"scale(0.015625)\"/>\n       </defs>\n       <use xlink:href=\"#LiberationSans-30\"/>\n       <use xlink:href=\"#LiberationSans-2e\" x=\"55.615234\"/>\n       <use xlink:href=\"#LiberationSans-33\" x=\"83.398438\"/>\n      </g>\n     </g>\n    </g>\n    <g id=\"ytick_5\">\n     <g id=\"line2d_21\">\n      <path d=\"M 42.354063 50.315322 \nL 600.354063 50.315322 \n\" clip-path=\"url(#p9a37976656)\" style=\"fill: none; stroke: #ffffff; stroke-linecap: round\"/>\n     </g>\n     <g id=\"line2d_22\"/>\n     <g id=\"text_12\">\n      <!-- 0.4 -->\n      <g style=\"fill: #262626\" transform=\"translate(21.454063 53.93876) scale(0.1 -0.1)\">\n       <use xlink:href=\"#LiberationSans-30\"/>\n       <use xlink:href=\"#LiberationSans-2e\" x=\"55.615234\"/>\n       <use xlink:href=\"#LiberationSans-34\" x=\"83.398438\"/>\n      </g>\n     </g>\n    </g>\n    <g id=\"ytick_6\">\n     <g id=\"line2d_23\">\n      <path d=\"M 42.354063 19.514153 \nL 600.354063 19.514153 \n\" clip-path=\"url(#p9a37976656)\" style=\"fill: none; stroke: #ffffff; stroke-linecap: round\"/>\n     </g>\n     <g id=\"line2d_24\"/>\n     <g id=\"text_13\">\n      <!-- 0.5 -->\n      <g style=\"fill: #262626\" transform=\"translate(21.454063 23.13759) scale(0.1 -0.1)\">\n       <defs>\n        <path id=\"LiberationSans-35\" d=\"M 3291 1434 \nQ 3291 1103 3191 828 \nQ 3091 553 2894 354 \nQ 2697 156 2405 46 \nQ 2113 -63 1728 -63 \nQ 1381 -63 1123 18 \nQ 866 100 687 242 \nQ 509 384 404 575 \nQ 300 766 256 984 \nL 825 1050 \nQ 859 925 921 808 \nQ 984 691 1092 598 \nQ 1200 506 1358 451 \nQ 1516 397 1741 397 \nQ 1959 397 2137 464 \nQ 2316 531 2442 662 \nQ 2569 794 2637 984 \nQ 2706 1175 2706 1422 \nQ 2706 1625 2640 1795 \nQ 2575 1966 2453 2089 \nQ 2331 2213 2154 2281 \nQ 1978 2350 1753 2350 \nQ 1613 2350 1494 2325 \nQ 1375 2300 1273 2256 \nQ 1172 2213 1089 2155 \nQ 1006 2097 934 2034 \nL 384 2034 \nL 531 4403 \nL 3034 4403 \nL 3034 3925 \nL 1044 3925 \nL 959 2528 \nQ 1109 2644 1334 2726 \nQ 1559 2809 1869 2809 \nQ 2197 2809 2459 2709 \nQ 2722 2609 2906 2426 \nQ 3091 2244 3191 1991 \nQ 3291 1738 3291 1434 \nz\n\" transform=\"scale(0.015625)\"/>\n       </defs>\n       <use xlink:href=\"#LiberationSans-30\"/>\n       <use xlink:href=\"#LiberationSans-2e\" x=\"55.615234\"/>\n       <use xlink:href=\"#LiberationSans-35\" x=\"83.398438\"/>\n      </g>\n     </g>\n    </g>\n    <g id=\"text_14\">\n     <!-- Density -->\n     <g style=\"fill: #262626\" transform=\"translate(15.171563 108.699062) rotate(-90) scale(0.11 -0.11)\">\n      <defs>\n       <path id=\"LiberationSans-44\" d=\"M 4316 2247 \nQ 4316 1697 4150 1276 \nQ 3984 856 3696 573 \nQ 3409 291 3017 145 \nQ 2625 0 2172 0 \nL 525 0 \nL 525 4403 \nL 1981 4403 \nQ 2491 4403 2920 4276 \nQ 3350 4150 3659 3886 \nQ 3969 3622 4142 3215 \nQ 4316 2809 4316 2247 \nz\nM 3716 2247 \nQ 3716 2694 3587 3011 \nQ 3459 3328 3228 3531 \nQ 2997 3734 2675 3829 \nQ 2353 3925 1969 3925 \nL 1122 3925 \nL 1122 478 \nL 2103 478 \nQ 2450 478 2745 590 \nQ 3041 703 3256 925 \nQ 3472 1147 3594 1478 \nQ 3716 1809 3716 2247 \nz\n\" transform=\"scale(0.015625)\"/>\n       <path id=\"LiberationSans-65\" d=\"M 863 1572 \nQ 863 1306 917 1082 \nQ 972 859 1086 698 \nQ 1200 538 1378 448 \nQ 1556 359 1806 359 \nQ 2172 359 2392 506 \nQ 2613 653 2691 878 \nL 3184 738 \nQ 3131 597 3036 455 \nQ 2941 313 2781 198 \nQ 2622 84 2383 10 \nQ 2144 -63 1806 -63 \nQ 1056 -63 664 384 \nQ 272 831 272 1713 \nQ 272 2188 390 2517 \nQ 509 2847 715 3053 \nQ 922 3259 1197 3351 \nQ 1472 3444 1784 3444 \nQ 2209 3444 2495 3306 \nQ 2781 3169 2954 2926 \nQ 3128 2684 3201 2356 \nQ 3275 2028 3275 1647 \nL 3275 1572 \nL 863 1572 \nz\nM 2694 2003 \nQ 2647 2538 2422 2783 \nQ 2197 3028 1775 3028 \nQ 1634 3028 1479 2983 \nQ 1325 2938 1194 2822 \nQ 1063 2706 972 2507 \nQ 881 2309 869 2003 \nL 2694 2003 \nz\n\" transform=\"scale(0.015625)\"/>\n       <path id=\"LiberationSans-73\" d=\"M 2969 934 \nQ 2969 697 2876 511 \nQ 2784 325 2609 198 \nQ 2434 72 2179 4 \nQ 1925 -63 1597 -63 \nQ 1303 -63 1067 -17 \nQ 831 28 653 128 \nQ 475 228 354 392 \nQ 234 556 178 794 \nL 675 891 \nQ 747 619 972 492 \nQ 1197 366 1597 366 \nQ 1778 366 1929 391 \nQ 2081 416 2190 477 \nQ 2300 538 2361 639 \nQ 2422 741 2422 891 \nQ 2422 1044 2350 1142 \nQ 2278 1241 2150 1306 \nQ 2022 1372 1839 1420 \nQ 1656 1469 1438 1528 \nQ 1234 1581 1034 1647 \nQ 834 1713 673 1820 \nQ 513 1928 413 2087 \nQ 313 2247 313 2488 \nQ 313 2950 642 3192 \nQ 972 3434 1603 3434 \nQ 2163 3434 2492 3237 \nQ 2822 3041 2909 2606 \nL 2403 2544 \nQ 2375 2675 2300 2764 \nQ 2225 2853 2119 2908 \nQ 2013 2963 1880 2986 \nQ 1747 3009 1603 3009 \nQ 1222 3009 1040 2893 \nQ 859 2778 859 2544 \nQ 859 2406 926 2317 \nQ 994 2228 1114 2167 \nQ 1234 2106 1403 2061 \nQ 1572 2016 1775 1966 \nQ 1909 1931 2050 1892 \nQ 2191 1853 2323 1798 \nQ 2456 1744 2573 1670 \nQ 2691 1597 2778 1494 \nQ 2866 1391 2917 1253 \nQ 2969 1116 2969 934 \nz\n\" transform=\"scale(0.015625)\"/>\n       <path id=\"LiberationSans-79\" d=\"M 1888 0 \nQ 1769 -306 1645 -551 \nQ 1522 -797 1369 -970 \nQ 1216 -1144 1028 -1236 \nQ 841 -1328 597 -1328 \nQ 491 -1328 400 -1322 \nQ 309 -1316 209 -1294 \nL 209 -872 \nQ 269 -881 344 -886 \nQ 419 -891 472 -891 \nQ 719 -891 931 -706 \nQ 1144 -522 1303 -119 \nL 1356 16 \nL 16 3381 \nL 616 3381 \nL 1328 1513 \nQ 1359 1428 1407 1287 \nQ 1456 1147 1504 1006 \nQ 1553 866 1590 753 \nQ 1628 641 1634 613 \nQ 1644 647 1680 748 \nQ 1716 850 1761 975 \nQ 1806 1100 1853 1228 \nQ 1900 1356 1931 1450 \nL 2594 3381 \nL 3188 3381 \nL 1888 0 \nz\n\" transform=\"scale(0.015625)\"/>\n      </defs>\n      <use xlink:href=\"#LiberationSans-44\"/>\n      <use xlink:href=\"#LiberationSans-65\" x=\"72.216797\"/>\n      <use xlink:href=\"#LiberationSans-6e\" x=\"127.832031\"/>\n      <use xlink:href=\"#LiberationSans-73\" x=\"183.447266\"/>\n      <use xlink:href=\"#LiberationSans-69\" x=\"233.447266\"/>\n      <use xlink:href=\"#LiberationSans-74\" x=\"255.664062\"/>\n      <use xlink:href=\"#LiberationSans-79\" x=\"283.447266\"/>\n     </g>\n    </g>\n   </g>\n   <g id=\"patch_3\">\n    <path d=\"M 97.304881 173.52 \nL 106.266848 173.52 \nL 106.266848 171.941262 \nL 97.304881 171.941262 \nz\n\" clip-path=\"url(#p9a37976656)\" style=\"fill: #4c72b0; opacity: 0.4\"/>\n   </g>\n   <g id=\"patch_4\">\n    <path d=\"M 106.266848 173.52 \nL 115.228815 173.52 \nL 115.228815 173.256877 \nL 106.266848 173.256877 \nz\n\" clip-path=\"url(#p9a37976656)\" style=\"fill: #4c72b0; opacity: 0.4\"/>\n   </g>\n   <g id=\"patch_5\">\n    <path d=\"M 115.228815 173.52 \nL 124.190783 173.52 \nL 124.190783 173.52 \nL 115.228815 173.52 \nz\n\" clip-path=\"url(#p9a37976656)\" style=\"fill: #4c72b0; opacity: 0.4\"/>\n   </g>\n   <g id=\"patch_6\">\n    <path d=\"M 124.190783 173.52 \nL 133.15275 173.52 \nL 133.15275 173.52 \nL 124.190783 173.52 \nz\n\" clip-path=\"url(#p9a37976656)\" style=\"fill: #4c72b0; opacity: 0.4\"/>\n   </g>\n   <g id=\"patch_7\">\n    <path d=\"M 133.15275 173.52 \nL 142.114717 173.52 \nL 142.114717 173.52 \nL 133.15275 173.52 \nz\n\" clip-path=\"url(#p9a37976656)\" style=\"fill: #4c72b0; opacity: 0.4\"/>\n   </g>\n   <g id=\"patch_8\">\n    <path d=\"M 142.114717 173.52 \nL 151.076684 173.52 \nL 151.076684 173.256877 \nL 142.114717 173.256877 \nz\n\" clip-path=\"url(#p9a37976656)\" style=\"fill: #4c72b0; opacity: 0.4\"/>\n   </g>\n   <g id=\"patch_9\">\n    <path d=\"M 151.076684 173.52 \nL 160.038652 173.52 \nL 160.038652 173.52 \nL 151.076684 173.52 \nz\n\" clip-path=\"url(#p9a37976656)\" style=\"fill: #4c72b0; opacity: 0.4\"/>\n   </g>\n   <g id=\"patch_10\">\n    <path d=\"M 160.038652 173.52 \nL 169.000619 173.52 \nL 169.000619 173.52 \nL 160.038652 173.52 \nz\n\" clip-path=\"url(#p9a37976656)\" style=\"fill: #4c72b0; opacity: 0.4\"/>\n   </g>\n   <g id=\"patch_11\">\n    <path d=\"M 169.000619 173.52 \nL 177.962586 173.52 \nL 177.962586 173.52 \nL 169.000619 173.52 \nz\n\" clip-path=\"url(#p9a37976656)\" style=\"fill: #4c72b0; opacity: 0.4\"/>\n   </g>\n   <g id=\"patch_12\">\n    <path d=\"M 177.962586 173.52 \nL 186.924553 173.52 \nL 186.924553 173.52 \nL 177.962586 173.52 \nz\n\" clip-path=\"url(#p9a37976656)\" style=\"fill: #4c72b0; opacity: 0.4\"/>\n   </g>\n   <g id=\"patch_13\">\n    <path d=\"M 186.924553 173.52 \nL 195.886521 173.52 \nL 195.886521 172.993754 \nL 186.924553 172.993754 \nz\n\" clip-path=\"url(#p9a37976656)\" style=\"fill: #4c72b0; opacity: 0.4\"/>\n   </g>\n   <g id=\"patch_14\">\n    <path d=\"M 195.886521 173.52 \nL 204.848488 173.52 \nL 204.848488 173.256877 \nL 195.886521 173.256877 \nz\n\" clip-path=\"url(#p9a37976656)\" style=\"fill: #4c72b0; opacity: 0.4\"/>\n   </g>\n   <g id=\"patch_15\">\n    <path d=\"M 204.848488 173.52 \nL 213.810455 173.52 \nL 213.810455 173.52 \nL 204.848488 173.52 \nz\n\" clip-path=\"url(#p9a37976656)\" style=\"fill: #4c72b0; opacity: 0.4\"/>\n   </g>\n   <g id=\"patch_16\">\n    <path d=\"M 213.810455 173.52 \nL 222.772423 173.52 \nL 222.772423 172.467508 \nL 213.810455 172.467508 \nz\n\" clip-path=\"url(#p9a37976656)\" style=\"fill: #4c72b0; opacity: 0.4\"/>\n   </g>\n   <g id=\"patch_17\">\n    <path d=\"M 222.772423 173.52 \nL 231.73439 173.52 \nL 231.73439 172.993754 \nL 222.772423 172.993754 \nz\n\" clip-path=\"url(#p9a37976656)\" style=\"fill: #4c72b0; opacity: 0.4\"/>\n   </g>\n   <g id=\"patch_18\">\n    <path d=\"M 231.73439 173.52 \nL 240.696357 173.52 \nL 240.696357 172.204385 \nL 231.73439 172.204385 \nz\n\" clip-path=\"url(#p9a37976656)\" style=\"fill: #4c72b0; opacity: 0.4\"/>\n   </g>\n   <g id=\"patch_19\">\n    <path d=\"M 240.696357 173.52 \nL 249.658324 173.52 \nL 249.658324 172.204385 \nL 240.696357 172.204385 \nz\n\" clip-path=\"url(#p9a37976656)\" style=\"fill: #4c72b0; opacity: 0.4\"/>\n   </g>\n   <g id=\"patch_20\">\n    <path d=\"M 249.658324 173.52 \nL 258.620292 173.52 \nL 258.620292 171.941262 \nL 249.658324 171.941262 \nz\n\" clip-path=\"url(#p9a37976656)\" style=\"fill: #4c72b0; opacity: 0.4\"/>\n   </g>\n   <g id=\"patch_21\">\n    <path d=\"M 258.620292 173.52 \nL 267.582259 173.52 \nL 267.582259 172.204385 \nL 258.620292 172.204385 \nz\n\" clip-path=\"url(#p9a37976656)\" style=\"fill: #4c72b0; opacity: 0.4\"/>\n   </g>\n   <g id=\"patch_22\">\n    <path d=\"M 267.582259 173.52 \nL 276.544226 173.52 \nL 276.544226 170.099402 \nL 267.582259 170.099402 \nz\n\" clip-path=\"url(#p9a37976656)\" style=\"fill: #4c72b0; opacity: 0.4\"/>\n   </g>\n   <g id=\"patch_23\">\n    <path d=\"M 276.544226 173.52 \nL 285.506193 173.52 \nL 285.506193 169.04691 \nL 276.544226 169.04691 \nz\n\" clip-path=\"url(#p9a37976656)\" style=\"fill: #4c72b0; opacity: 0.4\"/>\n   </g>\n   <g id=\"patch_24\">\n    <path d=\"M 285.506193 173.52 \nL 294.468161 173.52 \nL 294.468161 169.573156 \nL 285.506193 169.573156 \nz\n\" clip-path=\"url(#p9a37976656)\" style=\"fill: #4c72b0; opacity: 0.4\"/>\n   </g>\n   <g id=\"patch_25\">\n    <path d=\"M 294.468161 173.52 \nL 303.430128 173.52 \nL 303.430128 168.520664 \nL 294.468161 168.520664 \nz\n\" clip-path=\"url(#p9a37976656)\" style=\"fill: #4c72b0; opacity: 0.4\"/>\n   </g>\n   <g id=\"patch_26\">\n    <path d=\"M 303.430128 173.52 \nL 312.392095 173.52 \nL 312.392095 166.415681 \nL 303.430128 166.415681 \nz\n\" clip-path=\"url(#p9a37976656)\" style=\"fill: #4c72b0; opacity: 0.4\"/>\n   </g>\n   <g id=\"patch_27\">\n    <path d=\"M 312.392095 173.52 \nL 321.354062 173.52 \nL 321.354062 166.678804 \nL 312.392095 166.678804 \nz\n\" clip-path=\"url(#p9a37976656)\" style=\"fill: #4c72b0; opacity: 0.4\"/>\n   </g>\n   <g id=\"patch_28\">\n    <path d=\"M 321.354062 173.52 \nL 330.31603 173.52 \nL 330.31603 162.995083 \nL 321.354062 162.995083 \nz\n\" clip-path=\"url(#p9a37976656)\" style=\"fill: #4c72b0; opacity: 0.4\"/>\n   </g>\n   <g id=\"patch_29\">\n    <path d=\"M 330.31603 173.52 \nL 339.277997 173.52 \nL 339.277997 163.258206 \nL 330.31603 163.258206 \nz\n\" clip-path=\"url(#p9a37976656)\" style=\"fill: #4c72b0; opacity: 0.4\"/>\n   </g>\n   <g id=\"patch_30\">\n    <path d=\"M 339.277997 173.52 \nL 348.239964 173.52 \nL 348.239964 155.890764 \nL 339.277997 155.890764 \nz\n\" clip-path=\"url(#p9a37976656)\" style=\"fill: #4c72b0; opacity: 0.4\"/>\n   </g>\n   <g id=\"patch_31\">\n    <path d=\"M 348.239964 173.52 \nL 357.201932 173.52 \nL 357.201932 157.732625 \nL 348.239964 157.732625 \nz\n\" clip-path=\"url(#p9a37976656)\" style=\"fill: #4c72b0; opacity: 0.4\"/>\n   </g>\n   <g id=\"patch_32\">\n    <path d=\"M 357.201932 173.52 \nL 366.163899 173.52 \nL 366.163899 159.048239 \nL 357.201932 159.048239 \nz\n\" clip-path=\"url(#p9a37976656)\" style=\"fill: #4c72b0; opacity: 0.4\"/>\n   </g>\n   <g id=\"patch_33\">\n    <path d=\"M 366.163899 173.52 \nL 375.125866 173.52 \nL 375.125866 150.891429 \nL 366.163899 150.891429 \nz\n\" clip-path=\"url(#p9a37976656)\" style=\"fill: #4c72b0; opacity: 0.4\"/>\n   </g>\n   <g id=\"patch_34\">\n    <path d=\"M 375.125866 173.52 \nL 384.087833 173.52 \nL 384.087833 151.680797 \nL 375.125866 151.680797 \nz\n\" clip-path=\"url(#p9a37976656)\" style=\"fill: #4c72b0; opacity: 0.4\"/>\n   </g>\n   <g id=\"patch_35\">\n    <path d=\"M 384.087833 173.52 \nL 393.049801 173.52 \nL 393.049801 146.944585 \nL 384.087833 146.944585 \nz\n\" clip-path=\"url(#p9a37976656)\" style=\"fill: #4c72b0; opacity: 0.4\"/>\n   </g>\n   <g id=\"patch_36\">\n    <path d=\"M 393.049801 173.52 \nL 402.011768 173.52 \nL 402.011768 139.050897 \nL 393.049801 139.050897 \nz\n\" clip-path=\"url(#p9a37976656)\" style=\"fill: #4c72b0; opacity: 0.4\"/>\n   </g>\n   <g id=\"patch_37\">\n    <path d=\"M 402.011768 173.52 \nL 410.973735 173.52 \nL 410.973735 138.261528 \nL 402.011768 138.261528 \nz\n\" clip-path=\"url(#p9a37976656)\" style=\"fill: #4c72b0; opacity: 0.4\"/>\n   </g>\n   <g id=\"patch_38\">\n    <path d=\"M 410.973735 173.52 \nL 419.935702 173.52 \nL 419.935702 128.789103 \nL 410.973735 128.789103 \nz\n\" clip-path=\"url(#p9a37976656)\" style=\"fill: #4c72b0; opacity: 0.4\"/>\n   </g>\n   <g id=\"patch_39\">\n    <path d=\"M 419.935702 173.52 \nL 428.89767 173.52 \nL 428.89767 127.210365 \nL 419.935702 127.210365 \nz\n\" clip-path=\"url(#p9a37976656)\" style=\"fill: #4c72b0; opacity: 0.4\"/>\n   </g>\n   <g id=\"patch_40\">\n    <path d=\"M 428.89767 173.52 \nL 437.859637 173.52 \nL 437.859637 115.106711 \nL 428.89767 115.106711 \nz\n\" clip-path=\"url(#p9a37976656)\" style=\"fill: #4c72b0; opacity: 0.4\"/>\n   </g>\n   <g id=\"patch_41\">\n    <path d=\"M 437.859637 173.52 \nL 446.821604 173.52 \nL 446.821604 111.159867 \nL 437.859637 111.159867 \nz\n\" clip-path=\"url(#p9a37976656)\" style=\"fill: #4c72b0; opacity: 0.4\"/>\n   </g>\n   <g id=\"patch_42\">\n    <path d=\"M 446.821604 173.52 \nL 455.783572 173.52 \nL 455.783572 101.424319 \nL 446.821604 101.424319 \nz\n\" clip-path=\"url(#p9a37976656)\" style=\"fill: #4c72b0; opacity: 0.4\"/>\n   </g>\n   <g id=\"patch_43\">\n    <path d=\"M 455.783572 173.52 \nL 464.745539 173.52 \nL 464.745539 75.37515 \nL 455.783572 75.37515 \nz\n\" clip-path=\"url(#p9a37976656)\" style=\"fill: #4c72b0; opacity: 0.4\"/>\n   </g>\n   <g id=\"patch_44\">\n    <path d=\"M 464.745539 173.52 \nL 473.707506 173.52 \nL 473.707506 59.850897 \nL 464.745539 59.850897 \nz\n\" clip-path=\"url(#p9a37976656)\" style=\"fill: #4c72b0; opacity: 0.4\"/>\n   </g>\n   <g id=\"patch_45\">\n    <path d=\"M 473.707506 173.52 \nL 482.669473 173.52 \nL 482.669473 40.379801 \nL 473.707506 40.379801 \nz\n\" clip-path=\"url(#p9a37976656)\" style=\"fill: #4c72b0; opacity: 0.4\"/>\n   </g>\n   <g id=\"patch_46\">\n    <path d=\"M 482.669473 173.52 \nL 491.631441 173.52 \nL 491.631441 25.381794 \nL 482.669473 25.381794 \nz\n\" clip-path=\"url(#p9a37976656)\" style=\"fill: #4c72b0; opacity: 0.4\"/>\n   </g>\n   <g id=\"patch_47\">\n    <path d=\"M 491.631441 173.52 \nL 500.593408 173.52 \nL 500.593408 15.12 \nL 491.631441 15.12 \nz\n\" clip-path=\"url(#p9a37976656)\" style=\"fill: #4c72b0; opacity: 0.4\"/>\n   </g>\n   <g id=\"patch_48\">\n    <path d=\"M 500.593408 173.52 \nL 509.555375 173.52 \nL 509.555375 34.327973 \nL 500.593408 34.327973 \nz\n\" clip-path=\"url(#p9a37976656)\" style=\"fill: #4c72b0; opacity: 0.4\"/>\n   </g>\n   <g id=\"patch_49\">\n    <path d=\"M 509.555375 173.52 \nL 518.517342 173.52 \nL 518.517342 58.009037 \nL 509.555375 58.009037 \nz\n\" clip-path=\"url(#p9a37976656)\" style=\"fill: #4c72b0; opacity: 0.4\"/>\n   </g>\n   <g id=\"patch_50\">\n    <path d=\"M 518.517342 173.52 \nL 527.47931 173.52 \nL 527.47931 124.579136 \nL 518.517342 124.579136 \nz\n\" clip-path=\"url(#p9a37976656)\" style=\"fill: #4c72b0; opacity: 0.4\"/>\n   </g>\n   <g id=\"patch_51\">\n    <path d=\"M 527.47931 173.52 \nL 536.441277 173.52 \nL 536.441277 164.047575 \nL 527.47931 164.047575 \nz\n\" clip-path=\"url(#p9a37976656)\" style=\"fill: #4c72b0; opacity: 0.4\"/>\n   </g>\n   <g id=\"patch_52\">\n    <path d=\"M 536.441277 173.52 \nL 545.403244 173.52 \nL 545.403244 132.209701 \nL 536.441277 132.209701 \nz\n\" clip-path=\"url(#p9a37976656)\" style=\"fill: #4c72b0; opacity: 0.4\"/>\n   </g>\n   <g id=\"line2d_25\">\n    <path d=\"M 67.717699 173.513638 \nL 80.463245 173.386296 \nL 100.856118 172.934599 \nL 131.445428 173.45111 \nL 154.387411 173.475572 \nL 172.231175 173.478957 \nL 207.918704 173.103382 \nL 233.409796 172.54054 \nL 243.606232 172.355287 \nL 253.802669 171.961563 \nL 258.900888 171.623037 \nL 266.548215 170.809385 \nL 274.195543 169.990193 \nL 279.293761 169.691083 \nL 289.490198 169.242233 \nL 294.588416 168.784417 \nL 302.235744 167.775696 \nL 312.43218 166.074067 \nL 325.177726 163.793773 \nL 330.275945 162.65159 \nL 335.374163 161.263435 \nL 343.021491 159.092955 \nL 348.119709 157.905839 \nL 355.767036 156.527368 \nL 363.414364 155.133599 \nL 368.512582 153.9868 \nL 373.610801 152.592509 \nL 378.709019 150.866847 \nL 383.807237 148.716076 \nL 388.905456 146.134428 \nL 394.003674 143.252653 \nL 404.200111 137.163307 \nL 411.847438 132.377084 \nL 422.043875 125.737081 \nL 427.142094 122.193418 \nL 429.691203 120.272034 \nL 432.240312 118.202109 \nL 434.789421 115.942988 \nL 437.33853 113.449168 \nL 439.887639 110.671675 \nL 442.436749 107.564605 \nL 444.985858 104.096092 \nL 447.534967 100.259881 \nL 450.084076 96.082265 \nL 455.182295 86.951227 \nL 462.829622 72.402911 \nL 478.124277 43.052661 \nL 480.673386 38.675201 \nL 483.222496 34.789558 \nL 485.771605 31.55913 \nL 488.320714 29.137302 \nL 490.869823 27.664174 \nL 493.418932 27.266903 \nL 495.968041 28.059887 \nL 498.517151 30.143285 \nL 501.06626 33.600406 \nL 503.615369 38.493832 \nL 506.164478 44.857397 \nL 508.713587 52.679697 \nL 511.262697 61.877618 \nL 513.811806 72.265133 \nL 518.910024 95.229938 \nL 521.459133 106.827119 \nL 524.008242 117.74667 \nL 526.557352 127.463545 \nL 529.106461 135.590648 \nL 531.65557 141.949573 \nL 534.204679 146.603738 \nL 536.753788 149.841041 \nL 539.302898 152.105152 \nL 546.950225 157.582755 \nL 549.499334 159.848518 \nL 557.146662 167.170596 \nL 559.695771 169.145749 \nL 562.24488 170.688318 \nL 564.793989 171.799476 \nL 567.343099 172.539568 \nL 569.892208 172.996301 \nL 572.441317 173.257889 \nL 574.990426 173.397113 \nL 574.990426 173.397113 \n\" clip-path=\"url(#p9a37976656)\" style=\"fill: none; stroke: #4c72b0; stroke-width: 1.75; stroke-linecap: round\"/>\n   </g>\n   <g id=\"patch_53\">\n    <path d=\"M 42.354063 173.52 \nL 42.354063 7.2 \n\" style=\"fill: none\"/>\n   </g>\n   <g id=\"patch_54\">\n    <path d=\"M 600.354063 173.52 \nL 600.354063 7.2 \n\" style=\"fill: none\"/>\n   </g>\n   <g id=\"patch_55\">\n    <path d=\"M 42.354063 173.52 \nL 600.354062 173.52 \n\" style=\"fill: none\"/>\n   </g>\n   <g id=\"patch_56\">\n    <path d=\"M 42.354063 7.2 \nL 600.354062 7.2 \n\" style=\"fill: none\"/>\n   </g>\n  </g>\n </g>\n <defs>\n  <clipPath id=\"p9a37976656\">\n   <rect x=\"42.354063\" y=\"7.2\" width=\"558\" height=\"166.32\"/>\n  </clipPath>\n </defs>\n</svg>\n"
          },
          "metadata": {}
        },
        {
          "output_type": "display_data",
          "data": {
            "text/plain": [
              "<Figure size 1000x300 with 1 Axes>"
            ],
            "image/svg+xml": "<?xml version=\"1.0\" encoding=\"utf-8\" standalone=\"no\"?>\n<!DOCTYPE svg PUBLIC \"-//W3C//DTD SVG 1.1//EN\"\n  \"http://www.w3.org/Graphics/SVG/1.1/DTD/svg11.dtd\">\n<svg xmlns:xlink=\"http://www.w3.org/1999/xlink\" width=\"584.960937pt\" height=\"197.041875pt\" viewBox=\"0 0 584.960937 197.041875\" xmlns=\"http://www.w3.org/2000/svg\" version=\"1.1\">\n <metadata>\n  <rdf:RDF xmlns:dc=\"http://purl.org/dc/elements/1.1/\" xmlns:cc=\"http://creativecommons.org/ns#\" xmlns:rdf=\"http://www.w3.org/1999/02/22-rdf-syntax-ns#\">\n   <cc:Work>\n    <dc:type rdf:resource=\"http://purl.org/dc/dcmitype/StillImage\"/>\n    <dc:date>2023-05-23T06:47:12.708196</dc:date>\n    <dc:format>image/svg+xml</dc:format>\n    <dc:creator>\n     <cc:Agent>\n      <dc:title>Matplotlib v3.7.1, https://matplotlib.org/</dc:title>\n     </cc:Agent>\n    </dc:creator>\n   </cc:Work>\n  </rdf:RDF>\n </metadata>\n <defs>\n  <style type=\"text/css\">*{stroke-linejoin: round; stroke-linecap: butt}</style>\n </defs>\n <g id=\"figure_1\">\n  <g id=\"patch_1\">\n   <path d=\"M 0 197.041875 \nL 584.960937 197.041875 \nL 584.960937 0 \nL 0 0 \nz\n\" style=\"fill: #ffffff\"/>\n  </g>\n  <g id=\"axes_1\">\n   <g id=\"patch_2\">\n    <path d=\"M 19.760937 173.52 \nL 577.760937 173.52 \nL 577.760937 7.2 \nL 19.760937 7.2 \nz\n\" style=\"fill: #eaeaf2\"/>\n   </g>\n   <g id=\"matplotlib.axis_1\">\n    <g id=\"xtick_1\">\n     <g id=\"line2d_1\">\n      <path d=\"M 45.124574 173.52 \nL 45.124574 7.2 \n\" clip-path=\"url(#pa6b7693d60)\" style=\"fill: none; stroke: #ffffff; stroke-linecap: round\"/>\n     </g>\n     <g id=\"line2d_2\"/>\n     <g id=\"text_1\">\n      <!-- 0 -->\n      <g style=\"fill: #262626\" transform=\"translate(42.344105 187.766875) scale(0.1 -0.1)\">\n       <defs>\n        <path id=\"LiberationSans-30\" d=\"M 3309 2203 \nQ 3309 1569 3189 1136 \nQ 3069 703 2861 436 \nQ 2653 169 2372 53 \nQ 2091 -63 1772 -63 \nQ 1450 -63 1172 53 \nQ 894 169 689 434 \nQ 484 700 367 1133 \nQ 250 1566 250 2203 \nQ 250 2869 367 3305 \nQ 484 3741 690 4000 \nQ 897 4259 1178 4364 \nQ 1459 4469 1791 4469 \nQ 2106 4469 2382 4364 \nQ 2659 4259 2865 4000 \nQ 3072 3741 3190 3305 \nQ 3309 2869 3309 2203 \nz\nM 2738 2203 \nQ 2738 2728 2675 3076 \nQ 2613 3425 2491 3633 \nQ 2369 3841 2192 3927 \nQ 2016 4013 1791 4013 \nQ 1553 4013 1372 3925 \nQ 1191 3838 1067 3630 \nQ 944 3422 881 3073 \nQ 819 2725 819 2203 \nQ 819 1697 883 1350 \nQ 947 1003 1070 792 \nQ 1194 581 1372 489 \nQ 1550 397 1778 397 \nQ 2000 397 2178 489 \nQ 2356 581 2479 792 \nQ 2603 1003 2670 1350 \nQ 2738 1697 2738 2203 \nz\n\" transform=\"scale(0.015625)\"/>\n       </defs>\n       <use xlink:href=\"#LiberationSans-30\"/>\n      </g>\n     </g>\n    </g>\n    <g id=\"xtick_2\">\n     <g id=\"line2d_3\">\n      <path d=\"M 146.579119 173.52 \nL 146.579119 7.2 \n\" clip-path=\"url(#pa6b7693d60)\" style=\"fill: none; stroke: #ffffff; stroke-linecap: round\"/>\n     </g>\n     <g id=\"line2d_4\"/>\n     <g id=\"text_2\">\n      <!-- 2 -->\n      <g style=\"fill: #262626\" transform=\"translate(143.798651 187.766875) scale(0.1 -0.1)\">\n       <defs>\n        <path id=\"LiberationSans-32\" d=\"M 322 0 \nL 322 397 \nQ 481 763 711 1042 \nQ 941 1322 1194 1548 \nQ 1447 1775 1695 1969 \nQ 1944 2163 2144 2356 \nQ 2344 2550 2467 2762 \nQ 2591 2975 2591 3244 \nQ 2591 3431 2534 3573 \nQ 2478 3716 2372 3812 \nQ 2266 3909 2117 3957 \nQ 1969 4006 1788 4006 \nQ 1619 4006 1470 3959 \nQ 1322 3913 1206 3819 \nQ 1091 3725 1017 3586 \nQ 944 3447 922 3263 \nL 347 3316 \nQ 375 3553 478 3762 \nQ 581 3972 762 4130 \nQ 944 4288 1198 4378 \nQ 1453 4469 1788 4469 \nQ 2116 4469 2372 4391 \nQ 2628 4313 2804 4159 \nQ 2981 4006 3075 3781 \nQ 3169 3556 3169 3263 \nQ 3169 3041 3089 2841 \nQ 3009 2641 2876 2459 \nQ 2744 2278 2569 2109 \nQ 2394 1941 2203 1780 \nQ 2013 1619 1819 1461 \nQ 1625 1303 1454 1143 \nQ 1284 984 1150 820 \nQ 1016 656 941 478 \nL 3238 478 \nL 3238 0 \nL 322 0 \nz\n\" transform=\"scale(0.015625)\"/>\n       </defs>\n       <use xlink:href=\"#LiberationSans-32\"/>\n      </g>\n     </g>\n    </g>\n    <g id=\"xtick_3\">\n     <g id=\"line2d_5\">\n      <path d=\"M 248.033665 173.52 \nL 248.033665 7.2 \n\" clip-path=\"url(#pa6b7693d60)\" style=\"fill: none; stroke: #ffffff; stroke-linecap: round\"/>\n     </g>\n     <g id=\"line2d_6\"/>\n     <g id=\"text_3\">\n      <!-- 4 -->\n      <g style=\"fill: #262626\" transform=\"translate(245.253196 187.766875) scale(0.1 -0.1)\">\n       <defs>\n        <path id=\"LiberationSans-34\" d=\"M 2753 997 \nL 2753 0 \nL 2222 0 \nL 2222 997 \nL 147 997 \nL 147 1434 \nL 2163 4403 \nL 2753 4403 \nL 2753 1441 \nL 3372 1441 \nL 3372 997 \nL 2753 997 \nz\nM 2222 3769 \nQ 2216 3753 2191 3708 \nQ 2166 3663 2134 3606 \nQ 2103 3550 2070 3492 \nQ 2038 3434 2013 3397 \nL 884 1734 \nQ 869 1709 839 1668 \nQ 809 1628 778 1586 \nQ 747 1544 715 1503 \nQ 684 1463 666 1441 \nL 2222 1441 \nL 2222 3769 \nz\n\" transform=\"scale(0.015625)\"/>\n       </defs>\n       <use xlink:href=\"#LiberationSans-34\"/>\n      </g>\n     </g>\n    </g>\n    <g id=\"xtick_4\">\n     <g id=\"line2d_7\">\n      <path d=\"M 349.48821 173.52 \nL 349.48821 7.2 \n\" clip-path=\"url(#pa6b7693d60)\" style=\"fill: none; stroke: #ffffff; stroke-linecap: round\"/>\n     </g>\n     <g id=\"line2d_8\"/>\n     <g id=\"text_4\">\n      <!-- 6 -->\n      <g style=\"fill: #262626\" transform=\"translate(346.707741 187.766875) scale(0.1 -0.1)\">\n       <defs>\n        <path id=\"LiberationSans-36\" d=\"M 3278 1441 \nQ 3278 1109 3186 832 \nQ 3094 556 2914 357 \nQ 2734 159 2468 48 \nQ 2203 -63 1856 -63 \nQ 1472 -63 1184 84 \nQ 897 231 706 507 \nQ 516 784 420 1186 \nQ 325 1588 325 2100 \nQ 325 2688 433 3131 \nQ 541 3575 744 3872 \nQ 947 4169 1239 4319 \nQ 1531 4469 1900 4469 \nQ 2125 4469 2322 4422 \nQ 2519 4375 2680 4270 \nQ 2841 4166 2962 3994 \nQ 3084 3822 3156 3572 \nL 2619 3475 \nQ 2531 3759 2339 3886 \nQ 2147 4013 1894 4013 \nQ 1663 4013 1475 3903 \nQ 1288 3794 1156 3576 \nQ 1025 3359 954 3031 \nQ 884 2703 884 2266 \nQ 1038 2550 1316 2698 \nQ 1594 2847 1953 2847 \nQ 2253 2847 2497 2750 \nQ 2741 2653 2914 2470 \nQ 3088 2288 3183 2027 \nQ 3278 1766 3278 1441 \nz\nM 2706 1416 \nQ 2706 1644 2650 1828 \nQ 2594 2013 2481 2142 \nQ 2369 2272 2203 2342 \nQ 2038 2413 1819 2413 \nQ 1666 2413 1509 2367 \nQ 1353 2322 1226 2220 \nQ 1100 2119 1020 1953 \nQ 941 1788 941 1550 \nQ 941 1306 1003 1095 \nQ 1066 884 1183 728 \nQ 1300 572 1465 481 \nQ 1631 391 1838 391 \nQ 2041 391 2202 461 \nQ 2363 531 2475 664 \nQ 2588 797 2647 987 \nQ 2706 1178 2706 1416 \nz\n\" transform=\"scale(0.015625)\"/>\n       </defs>\n       <use xlink:href=\"#LiberationSans-36\"/>\n      </g>\n     </g>\n    </g>\n    <g id=\"xtick_5\">\n     <g id=\"line2d_9\">\n      <path d=\"M 450.942756 173.52 \nL 450.942756 7.2 \n\" clip-path=\"url(#pa6b7693d60)\" style=\"fill: none; stroke: #ffffff; stroke-linecap: round\"/>\n     </g>\n     <g id=\"line2d_10\"/>\n     <g id=\"text_5\">\n      <!-- 8 -->\n      <g style=\"fill: #262626\" transform=\"translate(448.162287 187.766875) scale(0.1 -0.1)\">\n       <defs>\n        <path id=\"LiberationSans-38\" d=\"M 3281 1228 \nQ 3281 947 3192 711 \nQ 3103 475 2920 303 \nQ 2738 131 2453 34 \nQ 2169 -63 1781 -63 \nQ 1394 -63 1111 34 \nQ 828 131 642 301 \nQ 456 472 367 708 \nQ 278 944 278 1222 \nQ 278 1463 351 1650 \nQ 425 1838 548 1973 \nQ 672 2109 830 2192 \nQ 988 2275 1156 2303 \nL 1156 2316 \nQ 972 2359 826 2456 \nQ 681 2553 582 2689 \nQ 484 2825 432 2990 \nQ 381 3156 381 3341 \nQ 381 3572 470 3776 \nQ 559 3981 734 4136 \nQ 909 4291 1168 4380 \nQ 1428 4469 1769 4469 \nQ 2128 4469 2392 4378 \nQ 2656 4288 2829 4133 \nQ 3003 3978 3087 3772 \nQ 3172 3566 3172 3334 \nQ 3172 3153 3120 2987 \nQ 3069 2822 2970 2686 \nQ 2872 2550 2726 2454 \nQ 2581 2359 2391 2322 \nL 2391 2309 \nQ 2581 2278 2743 2195 \nQ 2906 2113 3025 1977 \nQ 3144 1841 3212 1653 \nQ 3281 1466 3281 1228 \nz\nM 2588 3303 \nQ 2588 3469 2545 3606 \nQ 2503 3744 2406 3842 \nQ 2309 3941 2153 3995 \nQ 1997 4050 1769 4050 \nQ 1547 4050 1394 3995 \nQ 1241 3941 1142 3842 \nQ 1044 3744 1000 3606 \nQ 956 3469 956 3303 \nQ 956 3172 990 3034 \nQ 1025 2897 1115 2784 \nQ 1206 2672 1365 2600 \nQ 1525 2528 1775 2528 \nQ 2041 2528 2202 2600 \nQ 2363 2672 2448 2784 \nQ 2534 2897 2561 3034 \nQ 2588 3172 2588 3303 \nz\nM 2697 1281 \nQ 2697 1441 2653 1589 \nQ 2609 1738 2503 1852 \nQ 2397 1966 2217 2036 \nQ 2038 2106 1769 2106 \nQ 1522 2106 1348 2036 \nQ 1175 1966 1067 1850 \nQ 959 1734 909 1582 \nQ 859 1431 859 1269 \nQ 859 1066 909 898 \nQ 959 731 1068 611 \nQ 1178 491 1356 425 \nQ 1534 359 1788 359 \nQ 2044 359 2219 425 \nQ 2394 491 2500 611 \nQ 2606 731 2651 901 \nQ 2697 1072 2697 1281 \nz\n\" transform=\"scale(0.015625)\"/>\n       </defs>\n       <use xlink:href=\"#LiberationSans-38\"/>\n      </g>\n     </g>\n    </g>\n    <g id=\"xtick_6\">\n     <g id=\"line2d_11\">\n      <path d=\"M 552.397301 173.52 \nL 552.397301 7.2 \n\" clip-path=\"url(#pa6b7693d60)\" style=\"fill: none; stroke: #ffffff; stroke-linecap: round\"/>\n     </g>\n     <g id=\"line2d_12\"/>\n     <g id=\"text_6\">\n      <!-- 10 -->\n      <g style=\"fill: #262626\" transform=\"translate(546.836364 187.766875) scale(0.1 -0.1)\">\n       <defs>\n        <path id=\"LiberationSans-31\" d=\"M 488 0 \nL 488 478 \nL 1609 478 \nL 1609 3866 \nL 616 3156 \nL 616 3688 \nL 1656 4403 \nL 2175 4403 \nL 2175 478 \nL 3247 478 \nL 3247 0 \nL 488 0 \nz\n\" transform=\"scale(0.015625)\"/>\n       </defs>\n       <use xlink:href=\"#LiberationSans-31\"/>\n       <use xlink:href=\"#LiberationSans-30\" x=\"55.615234\"/>\n      </g>\n     </g>\n    </g>\n   </g>\n   <g id=\"matplotlib.axis_2\">\n    <g id=\"ytick_1\">\n     <g id=\"line2d_13\"/>\n     <g id=\"text_7\">\n      <!-- 0 -->\n      <g style=\"fill: #262626\" transform=\"translate(7.2 93.983438) scale(0.1 -0.1)\">\n       <use xlink:href=\"#LiberationSans-30\"/>\n      </g>\n     </g>\n    </g>\n   </g>\n   <g id=\"patch_3\">\n    <path d=\"M 428.191632 23.832 \nL 428.191632 156.888 \nL 499.614628 156.888 \nL 499.614628 23.832 \nL 428.191632 23.832 \nz\n\" clip-path=\"url(#pa6b7693d60)\" style=\"fill: #5875a4; stroke: #4c4c4c; stroke-width: 1.75; stroke-linejoin: miter\"/>\n   </g>\n   <g id=\"line2d_14\">\n    <path d=\"M 428.191632 90.36 \nL 321.454717 90.36 \n\" clip-path=\"url(#pa6b7693d60)\" style=\"fill: none; stroke: #4c4c4c; stroke-width: 1.75; stroke-linecap: round\"/>\n   </g>\n   <g id=\"line2d_15\">\n    <path d=\"M 499.614628 90.36 \nL 552.397301 90.36 \n\" clip-path=\"url(#pa6b7693d60)\" style=\"fill: none; stroke: #4c4c4c; stroke-width: 1.75; stroke-linecap: round\"/>\n   </g>\n   <g id=\"line2d_16\">\n    <path d=\"M 321.454717 57.096 \nL 321.454717 123.624 \n\" clip-path=\"url(#pa6b7693d60)\" style=\"fill: none; stroke: #4c4c4c; stroke-width: 1.75; stroke-linecap: round\"/>\n   </g>\n   <g id=\"line2d_17\">\n    <path d=\"M 552.397301 57.096 \nL 552.397301 123.624 \n\" clip-path=\"url(#pa6b7693d60)\" style=\"fill: none; stroke: #4c4c4c; stroke-width: 1.75; stroke-linecap: round\"/>\n   </g>\n   <g id=\"line2d_18\">\n    <defs>\n     <path id=\"m9b223dcd7c\" d=\"M -0 3.535534 \nL 2.12132 0 \nL -0 -3.535534 \nL -2.12132 -0 \nz\n\" style=\"stroke: #4c4c4c; stroke-linejoin: miter\"/>\n    </defs>\n    <g clip-path=\"url(#pa6b7693d60)\">\n     <use xlink:href=\"#m9b223dcd7c\" x=\"308.154877\" y=\"90.36\" style=\"fill: #4c4c4c; stroke: #4c4c4c; stroke-linejoin: miter\"/>\n     <use xlink:href=\"#m9b223dcd7c\" x=\"296.981033\" y=\"90.36\" style=\"fill: #4c4c4c; stroke: #4c4c4c; stroke-linejoin: miter\"/>\n     <use xlink:href=\"#m9b223dcd7c\" x=\"319.051847\" y=\"90.36\" style=\"fill: #4c4c4c; stroke: #4c4c4c; stroke-linejoin: miter\"/>\n     <use xlink:href=\"#m9b223dcd7c\" x=\"241.198075\" y=\"90.36\" style=\"fill: #4c4c4c; stroke: #4c4c4c; stroke-linejoin: miter\"/>\n     <use xlink:href=\"#m9b223dcd7c\" x=\"286.746583\" y=\"90.36\" style=\"fill: #4c4c4c; stroke: #4c4c4c; stroke-linejoin: miter\"/>\n     <use xlink:href=\"#m9b223dcd7c\" x=\"177.579119\" y=\"90.36\" style=\"fill: #4c4c4c; stroke: #4c4c4c; stroke-linejoin: miter\"/>\n     <use xlink:href=\"#m9b223dcd7c\" x=\"298.935558\" y=\"90.36\" style=\"fill: #4c4c4c; stroke: #4c4c4c; stroke-linejoin: miter\"/>\n     <use xlink:href=\"#m9b223dcd7c\" x=\"214.215483\" y=\"90.36\" style=\"fill: #4c4c4c; stroke: #4c4c4c; stroke-linejoin: miter\"/>\n     <use xlink:href=\"#m9b223dcd7c\" x=\"278.832366\" y=\"90.36\" style=\"fill: #4c4c4c; stroke: #4c4c4c; stroke-linejoin: miter\"/>\n     <use xlink:href=\"#m9b223dcd7c\" x=\"276.215483\" y=\"90.36\" style=\"fill: #4c4c4c; stroke: #4c4c4c; stroke-linejoin: miter\"/>\n     <use xlink:href=\"#m9b223dcd7c\" x=\"268.163535\" y=\"90.36\" style=\"fill: #4c4c4c; stroke: #4c4c4c; stroke-linejoin: miter\"/>\n     <use xlink:href=\"#m9b223dcd7c\" x=\"274.136048\" y=\"90.36\" style=\"fill: #4c4c4c; stroke: #4c4c4c; stroke-linejoin: miter\"/>\n     <use xlink:href=\"#m9b223dcd7c\" x=\"282.266794\" y=\"90.36\" style=\"fill: #4c4c4c; stroke: #4c4c4c; stroke-linejoin: miter\"/>\n     <use xlink:href=\"#m9b223dcd7c\" x=\"315.670028\" y=\"90.36\" style=\"fill: #4c4c4c; stroke: #4c4c4c; stroke-linejoin: miter\"/>\n     <use xlink:href=\"#m9b223dcd7c\" x=\"313.133665\" y=\"90.36\" style=\"fill: #4c4c4c; stroke: #4c4c4c; stroke-linejoin: miter\"/>\n     <use xlink:href=\"#m9b223dcd7c\" x=\"283.042628\" y=\"90.36\" style=\"fill: #4c4c4c; stroke: #4c4c4c; stroke-linejoin: miter\"/>\n     <use xlink:href=\"#m9b223dcd7c\" x=\"184.624574\" y=\"90.36\" style=\"fill: #4c4c4c; stroke: #4c4c4c; stroke-linejoin: miter\"/>\n     <use xlink:href=\"#m9b223dcd7c\" x=\"313.146283\" y=\"90.36\" style=\"fill: #4c4c4c; stroke: #4c4c4c; stroke-linejoin: miter\"/>\n     <use xlink:href=\"#m9b223dcd7c\" x=\"197.306392\" y=\"90.36\" style=\"fill: #4c4c4c; stroke: #4c4c4c; stroke-linejoin: miter\"/>\n     <use xlink:href=\"#m9b223dcd7c\" x=\"296.696055\" y=\"90.36\" style=\"fill: #4c4c4c; stroke: #4c4c4c; stroke-linejoin: miter\"/>\n     <use xlink:href=\"#m9b223dcd7c\" x=\"298.760937\" y=\"90.36\" style=\"fill: #4c4c4c; stroke: #4c4c4c; stroke-linejoin: miter\"/>\n     <use xlink:href=\"#m9b223dcd7c\" x=\"320.410895\" y=\"90.36\" style=\"fill: #4c4c4c; stroke: #4c4c4c; stroke-linejoin: miter\"/>\n     <use xlink:href=\"#m9b223dcd7c\" x=\"281.851847\" y=\"90.36\" style=\"fill: #4c4c4c; stroke: #4c4c4c; stroke-linejoin: miter\"/>\n     <use xlink:href=\"#m9b223dcd7c\" x=\"286.079119\" y=\"90.36\" style=\"fill: #4c4c4c; stroke: #4c4c4c; stroke-linejoin: miter\"/>\n     <use xlink:href=\"#m9b223dcd7c\" x=\"315.463162\" y=\"90.36\" style=\"fill: #4c4c4c; stroke: #4c4c4c; stroke-linejoin: miter\"/>\n     <use xlink:href=\"#m9b223dcd7c\" x=\"247.17388\" y=\"90.36\" style=\"fill: #4c4c4c; stroke: #4c4c4c; stroke-linejoin: miter\"/>\n     <use xlink:href=\"#m9b223dcd7c\" x=\"308.105435\" y=\"90.36\" style=\"fill: #4c4c4c; stroke: #4c4c4c; stroke-linejoin: miter\"/>\n     <use xlink:href=\"#m9b223dcd7c\" x=\"218.017527\" y=\"90.36\" style=\"fill: #4c4c4c; stroke: #4c4c4c; stroke-linejoin: miter\"/>\n     <use xlink:href=\"#m9b223dcd7c\" x=\"319.051847\" y=\"90.36\" style=\"fill: #4c4c4c; stroke: #4c4c4c; stroke-linejoin: miter\"/>\n     <use xlink:href=\"#m9b223dcd7c\" x=\"280.912453\" y=\"90.36\" style=\"fill: #4c4c4c; stroke: #4c4c4c; stroke-linejoin: miter\"/>\n     <use xlink:href=\"#m9b223dcd7c\" x=\"318.61074\" y=\"90.36\" style=\"fill: #4c4c4c; stroke: #4c4c4c; stroke-linejoin: miter\"/>\n     <use xlink:href=\"#m9b223dcd7c\" x=\"248.033665\" y=\"90.36\" style=\"fill: #4c4c4c; stroke: #4c4c4c; stroke-linejoin: miter\"/>\n     <use xlink:href=\"#m9b223dcd7c\" x=\"299.979278\" y=\"90.36\" style=\"fill: #4c4c4c; stroke: #4c4c4c; stroke-linejoin: miter\"/>\n     <use xlink:href=\"#m9b223dcd7c\" x=\"248.033665\" y=\"90.36\" style=\"fill: #4c4c4c; stroke: #4c4c4c; stroke-linejoin: miter\"/>\n     <use xlink:href=\"#m9b223dcd7c\" x=\"313.979119\" y=\"90.36\" style=\"fill: #4c4c4c; stroke: #4c4c4c; stroke-linejoin: miter\"/>\n     <use xlink:href=\"#m9b223dcd7c\" x=\"276.471681\" y=\"90.36\" style=\"fill: #4c4c4c; stroke: #4c4c4c; stroke-linejoin: miter\"/>\n     <use xlink:href=\"#m9b223dcd7c\" x=\"275.333457\" y=\"90.36\" style=\"fill: #4c4c4c; stroke: #4c4c4c; stroke-linejoin: miter\"/>\n     <use xlink:href=\"#m9b223dcd7c\" x=\"268.747301\" y=\"90.36\" style=\"fill: #4c4c4c; stroke: #4c4c4c; stroke-linejoin: miter\"/>\n     <use xlink:href=\"#m9b223dcd7c\" x=\"259.950823\" y=\"90.36\" style=\"fill: #4c4c4c; stroke: #4c4c4c; stroke-linejoin: miter\"/>\n     <use xlink:href=\"#m9b223dcd7c\" x=\"266.941103\" y=\"90.36\" style=\"fill: #4c4c4c; stroke: #4c4c4c; stroke-linejoin: miter\"/>\n     <use xlink:href=\"#m9b223dcd7c\" x=\"312.892106\" y=\"90.36\" style=\"fill: #4c4c4c; stroke: #4c4c4c; stroke-linejoin: miter\"/>\n     <use xlink:href=\"#m9b223dcd7c\" x=\"302.04329\" y=\"90.36\" style=\"fill: #4c4c4c; stroke: #4c4c4c; stroke-linejoin: miter\"/>\n     <use xlink:href=\"#m9b223dcd7c\" x=\"302.622068\" y=\"90.36\" style=\"fill: #4c4c4c; stroke: #4c4c4c; stroke-linejoin: miter\"/>\n     <use xlink:href=\"#m9b223dcd7c\" x=\"302.686262\" y=\"90.36\" style=\"fill: #4c4c4c; stroke: #4c4c4c; stroke-linejoin: miter\"/>\n     <use xlink:href=\"#m9b223dcd7c\" x=\"291.514184\" y=\"90.36\" style=\"fill: #4c4c4c; stroke: #4c4c4c; stroke-linejoin: miter\"/>\n     <use xlink:href=\"#m9b223dcd7c\" x=\"163.48821\" y=\"90.36\" style=\"fill: #4c4c4c; stroke: #4c4c4c; stroke-linejoin: miter\"/>\n     <use xlink:href=\"#m9b223dcd7c\" x=\"298.760937\" y=\"90.36\" style=\"fill: #4c4c4c; stroke: #4c4c4c; stroke-linejoin: miter\"/>\n     <use xlink:href=\"#m9b223dcd7c\" x=\"311.442756\" y=\"90.36\" style=\"fill: #4c4c4c; stroke: #4c4c4c; stroke-linejoin: miter\"/>\n     <use xlink:href=\"#m9b223dcd7c\" x=\"273.397301\" y=\"90.36\" style=\"fill: #4c4c4c; stroke: #4c4c4c; stroke-linejoin: miter\"/>\n     <use xlink:href=\"#m9b223dcd7c\" x=\"184.624574\" y=\"90.36\" style=\"fill: #4c4c4c; stroke: #4c4c4c; stroke-linejoin: miter\"/>\n     <use xlink:href=\"#m9b223dcd7c\" x=\"290.69069\" y=\"90.36\" style=\"fill: #4c4c4c; stroke: #4c4c4c; stroke-linejoin: miter\"/>\n     <use xlink:href=\"#m9b223dcd7c\" x=\"236.120442\" y=\"90.36\" style=\"fill: #4c4c4c; stroke: #4c4c4c; stroke-linejoin: miter\"/>\n     <use xlink:href=\"#m9b223dcd7c\" x=\"291.00645\" y=\"90.36\" style=\"fill: #4c4c4c; stroke: #4c4c4c; stroke-linejoin: miter\"/>\n     <use xlink:href=\"#m9b223dcd7c\" x=\"249.042277\" y=\"90.36\" style=\"fill: #4c4c4c; stroke: #4c4c4c; stroke-linejoin: miter\"/>\n     <use xlink:href=\"#m9b223dcd7c\" x=\"45.124574\" y=\"90.36\" style=\"fill: #4c4c4c; stroke: #4c4c4c; stroke-linejoin: miter\"/>\n     <use xlink:href=\"#m9b223dcd7c\" x=\"319.942561\" y=\"90.36\" style=\"fill: #4c4c4c; stroke: #4c4c4c; stroke-linejoin: miter\"/>\n     <use xlink:href=\"#m9b223dcd7c\" x=\"291.571245\" y=\"90.36\" style=\"fill: #4c4c4c; stroke: #4c4c4c; stroke-linejoin: miter\"/>\n     <use xlink:href=\"#m9b223dcd7c\" x=\"312.449249\" y=\"90.36\" style=\"fill: #4c4c4c; stroke: #4c4c4c; stroke-linejoin: miter\"/>\n     <use xlink:href=\"#m9b223dcd7c\" x=\"248.033665\" y=\"90.36\" style=\"fill: #4c4c4c; stroke: #4c4c4c; stroke-linejoin: miter\"/>\n     <use xlink:href=\"#m9b223dcd7c\" x=\"62.033665\" y=\"90.36\" style=\"fill: #4c4c4c; stroke: #4c4c4c; stroke-linejoin: miter\"/>\n     <use xlink:href=\"#m9b223dcd7c\" x=\"315.942756\" y=\"90.36\" style=\"fill: #4c4c4c; stroke: #4c4c4c; stroke-linejoin: miter\"/>\n     <use xlink:href=\"#m9b223dcd7c\" x=\"272.643926\" y=\"90.36\" style=\"fill: #4c4c4c; stroke: #4c4c4c; stroke-linejoin: miter\"/>\n     <use xlink:href=\"#m9b223dcd7c\" x=\"304.397301\" y=\"90.36\" style=\"fill: #4c4c4c; stroke: #4c4c4c; stroke-linejoin: miter\"/>\n     <use xlink:href=\"#m9b223dcd7c\" x=\"293.355572\" y=\"90.36\" style=\"fill: #4c4c4c; stroke: #4c4c4c; stroke-linejoin: miter\"/>\n     <use xlink:href=\"#m9b223dcd7c\" x=\"298.760937\" y=\"90.36\" style=\"fill: #4c4c4c; stroke: #4c4c4c; stroke-linejoin: miter\"/>\n     <use xlink:href=\"#m9b223dcd7c\" x=\"298.760937\" y=\"90.36\" style=\"fill: #4c4c4c; stroke: #4c4c4c; stroke-linejoin: miter\"/>\n     <use xlink:href=\"#m9b223dcd7c\" x=\"319.470696\" y=\"90.36\" style=\"fill: #4c4c4c; stroke: #4c4c4c; stroke-linejoin: miter\"/>\n     <use xlink:href=\"#m9b223dcd7c\" x=\"268.324574\" y=\"90.36\" style=\"fill: #4c4c4c; stroke: #4c4c4c; stroke-linejoin: miter\"/>\n     <use xlink:href=\"#m9b223dcd7c\" x=\"270.031037\" y=\"90.36\" style=\"fill: #4c4c4c; stroke: #4c4c4c; stroke-linejoin: miter\"/>\n     <use xlink:href=\"#m9b223dcd7c\" x=\"306.220831\" y=\"90.36\" style=\"fill: #4c4c4c; stroke: #4c4c4c; stroke-linejoin: miter\"/>\n     <use xlink:href=\"#m9b223dcd7c\" x=\"308.906392\" y=\"90.36\" style=\"fill: #4c4c4c; stroke: #4c4c4c; stroke-linejoin: miter\"/>\n     <use xlink:href=\"#m9b223dcd7c\" x=\"248.657899\" y=\"90.36\" style=\"fill: #4c4c4c; stroke: #4c4c4c; stroke-linejoin: miter\"/>\n     <use xlink:href=\"#m9b223dcd7c\" x=\"45.124574\" y=\"90.36\" style=\"fill: #4c4c4c; stroke: #4c4c4c; stroke-linejoin: miter\"/>\n     <use xlink:href=\"#m9b223dcd7c\" x=\"275.377163\" y=\"90.36\" style=\"fill: #4c4c4c; stroke: #4c4c4c; stroke-linejoin: miter\"/>\n     <use xlink:href=\"#m9b223dcd7c\" x=\"247.05814\" y=\"90.36\" style=\"fill: #4c4c4c; stroke: #4c4c4c; stroke-linejoin: miter\"/>\n     <use xlink:href=\"#m9b223dcd7c\" x=\"235.351847\" y=\"90.36\" style=\"fill: #4c4c4c; stroke: #4c4c4c; stroke-linejoin: miter\"/>\n     <use xlink:href=\"#m9b223dcd7c\" x=\"268.581421\" y=\"90.36\" style=\"fill: #4c4c4c; stroke: #4c4c4c; stroke-linejoin: miter\"/>\n     <use xlink:href=\"#m9b223dcd7c\" x=\"278.964929\" y=\"90.36\" style=\"fill: #4c4c4c; stroke: #4c4c4c; stroke-linejoin: miter\"/>\n     <use xlink:href=\"#m9b223dcd7c\" x=\"254.203198\" y=\"90.36\" style=\"fill: #4c4c4c; stroke: #4c4c4c; stroke-linejoin: miter\"/>\n     <use xlink:href=\"#m9b223dcd7c\" x=\"307.313792\" y=\"90.36\" style=\"fill: #4c4c4c; stroke: #4c4c4c; stroke-linejoin: miter\"/>\n     <use xlink:href=\"#m9b223dcd7c\" x=\"273.22933\" y=\"90.36\" style=\"fill: #4c4c4c; stroke: #4c4c4c; stroke-linejoin: miter\"/>\n     <use xlink:href=\"#m9b223dcd7c\" x=\"285.215604\" y=\"90.36\" style=\"fill: #4c4c4c; stroke: #4c4c4c; stroke-linejoin: miter\"/>\n     <use xlink:href=\"#m9b223dcd7c\" x=\"285.392378\" y=\"90.36\" style=\"fill: #4c4c4c; stroke: #4c4c4c; stroke-linejoin: miter\"/>\n     <use xlink:href=\"#m9b223dcd7c\" x=\"260.985309\" y=\"90.36\" style=\"fill: #4c4c4c; stroke: #4c4c4c; stroke-linejoin: miter\"/>\n     <use xlink:href=\"#m9b223dcd7c\" x=\"283.465876\" y=\"90.36\" style=\"fill: #4c4c4c; stroke: #4c4c4c; stroke-linejoin: miter\"/>\n     <use xlink:href=\"#m9b223dcd7c\" x=\"311.442756\" y=\"90.36\" style=\"fill: #4c4c4c; stroke: #4c4c4c; stroke-linejoin: miter\"/>\n     <use xlink:href=\"#m9b223dcd7c\" x=\"225.48821\" y=\"90.36\" style=\"fill: #4c4c4c; stroke: #4c4c4c; stroke-linejoin: miter\"/>\n     <use xlink:href=\"#m9b223dcd7c\" x=\"264.942756\" y=\"90.36\" style=\"fill: #4c4c4c; stroke: #4c4c4c; stroke-linejoin: miter\"/>\n     <use xlink:href=\"#m9b223dcd7c\" x=\"45.124574\" y=\"90.36\" style=\"fill: #4c4c4c; stroke: #4c4c4c; stroke-linejoin: miter\"/>\n     <use xlink:href=\"#m9b223dcd7c\" x=\"286.832708\" y=\"90.36\" style=\"fill: #4c4c4c; stroke: #4c4c4c; stroke-linejoin: miter\"/>\n     <use xlink:href=\"#m9b223dcd7c\" x=\"262.626442\" y=\"90.36\" style=\"fill: #4c4c4c; stroke: #4c4c4c; stroke-linejoin: miter\"/>\n     <use xlink:href=\"#m9b223dcd7c\" x=\"189.626467\" y=\"90.36\" style=\"fill: #4c4c4c; stroke: #4c4c4c; stroke-linejoin: miter\"/>\n     <use xlink:href=\"#m9b223dcd7c\" x=\"239.94395\" y=\"90.36\" style=\"fill: #4c4c4c; stroke: #4c4c4c; stroke-linejoin: miter\"/>\n     <use xlink:href=\"#m9b223dcd7c\" x=\"189.461968\" y=\"90.36\" style=\"fill: #4c4c4c; stroke: #4c4c4c; stroke-linejoin: miter\"/>\n     <use xlink:href=\"#m9b223dcd7c\" x=\"306.740508\" y=\"90.36\" style=\"fill: #4c4c4c; stroke: #4c4c4c; stroke-linejoin: miter\"/>\n     <use xlink:href=\"#m9b223dcd7c\" x=\"216.918971\" y=\"90.36\" style=\"fill: #4c4c4c; stroke: #4c4c4c; stroke-linejoin: miter\"/>\n     <use xlink:href=\"#m9b223dcd7c\" x=\"265.280937\" y=\"90.36\" style=\"fill: #4c4c4c; stroke: #4c4c4c; stroke-linejoin: miter\"/>\n     <use xlink:href=\"#m9b223dcd7c\" x=\"248.033665\" y=\"90.36\" style=\"fill: #4c4c4c; stroke: #4c4c4c; stroke-linejoin: miter\"/>\n     <use xlink:href=\"#m9b223dcd7c\" x=\"314.49453\" y=\"90.36\" style=\"fill: #4c4c4c; stroke: #4c4c4c; stroke-linejoin: miter\"/>\n     <use xlink:href=\"#m9b223dcd7c\" x=\"320.501197\" y=\"90.36\" style=\"fill: #4c4c4c; stroke: #4c4c4c; stroke-linejoin: miter\"/>\n     <use xlink:href=\"#m9b223dcd7c\" x=\"315.019679\" y=\"90.36\" style=\"fill: #4c4c4c; stroke: #4c4c4c; stroke-linejoin: miter\"/>\n     <use xlink:href=\"#m9b223dcd7c\" x=\"217.572126\" y=\"90.36\" style=\"fill: #4c4c4c; stroke: #4c4c4c; stroke-linejoin: miter\"/>\n     <use xlink:href=\"#m9b223dcd7c\" x=\"95.851847\" y=\"90.36\" style=\"fill: #4c4c4c; stroke: #4c4c4c; stroke-linejoin: miter\"/>\n     <use xlink:href=\"#m9b223dcd7c\" x=\"302.337861\" y=\"90.36\" style=\"fill: #4c4c4c; stroke: #4c4c4c; stroke-linejoin: miter\"/>\n     <use xlink:href=\"#m9b223dcd7c\" x=\"243.248073\" y=\"90.36\" style=\"fill: #4c4c4c; stroke: #4c4c4c; stroke-linejoin: miter\"/>\n     <use xlink:href=\"#m9b223dcd7c\" x=\"289.047204\" y=\"90.36\" style=\"fill: #4c4c4c; stroke: #4c4c4c; stroke-linejoin: miter\"/>\n     <use xlink:href=\"#m9b223dcd7c\" x=\"313.213959\" y=\"90.36\" style=\"fill: #4c4c4c; stroke: #4c4c4c; stroke-linejoin: miter\"/>\n     <use xlink:href=\"#m9b223dcd7c\" x=\"308.218565\" y=\"90.36\" style=\"fill: #4c4c4c; stroke: #4c4c4c; stroke-linejoin: miter\"/>\n     <use xlink:href=\"#m9b223dcd7c\" x=\"266.225514\" y=\"90.36\" style=\"fill: #4c4c4c; stroke: #4c4c4c; stroke-linejoin: miter\"/>\n     <use xlink:href=\"#m9b223dcd7c\" x=\"209.98821\" y=\"90.36\" style=\"fill: #4c4c4c; stroke: #4c4c4c; stroke-linejoin: miter\"/>\n     <use xlink:href=\"#m9b223dcd7c\" x=\"245.828131\" y=\"90.36\" style=\"fill: #4c4c4c; stroke: #4c4c4c; stroke-linejoin: miter\"/>\n     <use xlink:href=\"#m9b223dcd7c\" x=\"249.283105\" y=\"90.36\" style=\"fill: #4c4c4c; stroke: #4c4c4c; stroke-linejoin: miter\"/>\n     <use xlink:href=\"#m9b223dcd7c\" x=\"219.922301\" y=\"90.36\" style=\"fill: #4c4c4c; stroke: #4c4c4c; stroke-linejoin: miter\"/>\n     <use xlink:href=\"#m9b223dcd7c\" x=\"312.710938\" y=\"90.36\" style=\"fill: #4c4c4c; stroke: #4c4c4c; stroke-linejoin: miter\"/>\n     <use xlink:href=\"#m9b223dcd7c\" x=\"298.760937\" y=\"90.36\" style=\"fill: #4c4c4c; stroke: #4c4c4c; stroke-linejoin: miter\"/>\n     <use xlink:href=\"#m9b223dcd7c\" x=\"286.079119\" y=\"90.36\" style=\"fill: #4c4c4c; stroke: #4c4c4c; stroke-linejoin: miter\"/>\n     <use xlink:href=\"#m9b223dcd7c\" x=\"308.906392\" y=\"90.36\" style=\"fill: #4c4c4c; stroke: #4c4c4c; stroke-linejoin: miter\"/>\n     <use xlink:href=\"#m9b223dcd7c\" x=\"242.637146\" y=\"90.36\" style=\"fill: #4c4c4c; stroke: #4c4c4c; stroke-linejoin: miter\"/>\n     <use xlink:href=\"#m9b223dcd7c\" x=\"314.761568\" y=\"90.36\" style=\"fill: #4c4c4c; stroke: #4c4c4c; stroke-linejoin: miter\"/>\n     <use xlink:href=\"#m9b223dcd7c\" x=\"311.269032\" y=\"90.36\" style=\"fill: #4c4c4c; stroke: #4c4c4c; stroke-linejoin: miter\"/>\n     <use xlink:href=\"#m9b223dcd7c\" x=\"310.289863\" y=\"90.36\" style=\"fill: #4c4c4c; stroke: #4c4c4c; stroke-linejoin: miter\"/>\n     <use xlink:href=\"#m9b223dcd7c\" x=\"319.713507\" y=\"90.36\" style=\"fill: #4c4c4c; stroke: #4c4c4c; stroke-linejoin: miter\"/>\n     <use xlink:href=\"#m9b223dcd7c\" x=\"204.553145\" y=\"90.36\" style=\"fill: #4c4c4c; stroke: #4c4c4c; stroke-linejoin: miter\"/>\n     <use xlink:href=\"#m9b223dcd7c\" x=\"254.733493\" y=\"90.36\" style=\"fill: #4c4c4c; stroke: #4c4c4c; stroke-linejoin: miter\"/>\n     <use xlink:href=\"#m9b223dcd7c\" x=\"281.851847\" y=\"90.36\" style=\"fill: #4c4c4c; stroke: #4c4c4c; stroke-linejoin: miter\"/>\n     <use xlink:href=\"#m9b223dcd7c\" x=\"279.982718\" y=\"90.36\" style=\"fill: #4c4c4c; stroke: #4c4c4c; stroke-linejoin: miter\"/>\n     <use xlink:href=\"#m9b223dcd7c\" x=\"297.588053\" y=\"90.36\" style=\"fill: #4c4c4c; stroke: #4c4c4c; stroke-linejoin: miter\"/>\n     <use xlink:href=\"#m9b223dcd7c\" x=\"262.978214\" y=\"90.36\" style=\"fill: #4c4c4c; stroke: #4c4c4c; stroke-linejoin: miter\"/>\n     <use xlink:href=\"#m9b223dcd7c\" x=\"146.579119\" y=\"90.36\" style=\"fill: #4c4c4c; stroke: #4c4c4c; stroke-linejoin: miter\"/>\n     <use xlink:href=\"#m9b223dcd7c\" x=\"155.033665\" y=\"90.36\" style=\"fill: #4c4c4c; stroke: #4c4c4c; stroke-linejoin: miter\"/>\n     <use xlink:href=\"#m9b223dcd7c\" x=\"313.540851\" y=\"90.36\" style=\"fill: #4c4c4c; stroke: #4c4c4c; stroke-linejoin: miter\"/>\n     <use xlink:href=\"#m9b223dcd7c\" x=\"45.124574\" y=\"90.36\" style=\"fill: #4c4c4c; stroke: #4c4c4c; stroke-linejoin: miter\"/>\n     <use xlink:href=\"#m9b223dcd7c\" x=\"315.670028\" y=\"90.36\" style=\"fill: #4c4c4c; stroke: #4c4c4c; stroke-linejoin: miter\"/>\n     <use xlink:href=\"#m9b223dcd7c\" x=\"225.878681\" y=\"90.36\" style=\"fill: #4c4c4c; stroke: #4c4c4c; stroke-linejoin: miter\"/>\n     <use xlink:href=\"#m9b223dcd7c\" x=\"303.868892\" y=\"90.36\" style=\"fill: #4c4c4c; stroke: #4c4c4c; stroke-linejoin: miter\"/>\n     <use xlink:href=\"#m9b223dcd7c\" x=\"263.251847\" y=\"90.36\" style=\"fill: #4c4c4c; stroke: #4c4c4c; stroke-linejoin: miter\"/>\n     <use xlink:href=\"#m9b223dcd7c\" x=\"283.738698\" y=\"90.36\" style=\"fill: #4c4c4c; stroke: #4c4c4c; stroke-linejoin: miter\"/>\n     <use xlink:href=\"#m9b223dcd7c\" x=\"317.783665\" y=\"90.36\" style=\"fill: #4c4c4c; stroke: #4c4c4c; stroke-linejoin: miter\"/>\n     <use xlink:href=\"#m9b223dcd7c\" x=\"197.306392\" y=\"90.36\" style=\"fill: #4c4c4c; stroke: #4c4c4c; stroke-linejoin: miter\"/>\n     <use xlink:href=\"#m9b223dcd7c\" x=\"290.705534\" y=\"90.36\" style=\"fill: #4c4c4c; stroke: #4c4c4c; stroke-linejoin: miter\"/>\n     <use xlink:href=\"#m9b223dcd7c\" x=\"256.342442\" y=\"90.36\" style=\"fill: #4c4c4c; stroke: #4c4c4c; stroke-linejoin: miter\"/>\n     <use xlink:href=\"#m9b223dcd7c\" x=\"303.800071\" y=\"90.36\" style=\"fill: #4c4c4c; stroke: #4c4c4c; stroke-linejoin: miter\"/>\n     <use xlink:href=\"#m9b223dcd7c\" x=\"273.775863\" y=\"90.36\" style=\"fill: #4c4c4c; stroke: #4c4c4c; stroke-linejoin: miter\"/>\n     <use xlink:href=\"#m9b223dcd7c\" x=\"283.152546\" y=\"90.36\" style=\"fill: #4c4c4c; stroke: #4c4c4c; stroke-linejoin: miter\"/>\n     <use xlink:href=\"#m9b223dcd7c\" x=\"248.033665\" y=\"90.36\" style=\"fill: #4c4c4c; stroke: #4c4c4c; stroke-linejoin: miter\"/>\n     <use xlink:href=\"#m9b223dcd7c\" x=\"284.200331\" y=\"90.36\" style=\"fill: #4c4c4c; stroke: #4c4c4c; stroke-linejoin: miter\"/>\n     <use xlink:href=\"#m9b223dcd7c\" x=\"242.445067\" y=\"90.36\" style=\"fill: #4c4c4c; stroke: #4c4c4c; stroke-linejoin: miter\"/>\n     <use xlink:href=\"#m9b223dcd7c\" x=\"305.409658\" y=\"90.36\" style=\"fill: #4c4c4c; stroke: #4c4c4c; stroke-linejoin: miter\"/>\n     <use xlink:href=\"#m9b223dcd7c\" x=\"308.357989\" y=\"90.36\" style=\"fill: #4c4c4c; stroke: #4c4c4c; stroke-linejoin: miter\"/>\n     <use xlink:href=\"#m9b223dcd7c\" x=\"307.967794\" y=\"90.36\" style=\"fill: #4c4c4c; stroke: #4c4c4c; stroke-linejoin: miter\"/>\n     <use xlink:href=\"#m9b223dcd7c\" x=\"293.68821\" y=\"90.36\" style=\"fill: #4c4c4c; stroke: #4c4c4c; stroke-linejoin: miter\"/>\n     <use xlink:href=\"#m9b223dcd7c\" x=\"294.587315\" y=\"90.36\" style=\"fill: #4c4c4c; stroke: #4c4c4c; stroke-linejoin: miter\"/>\n     <use xlink:href=\"#m9b223dcd7c\" x=\"214.215483\" y=\"90.36\" style=\"fill: #4c4c4c; stroke: #4c4c4c; stroke-linejoin: miter\"/>\n     <use xlink:href=\"#m9b223dcd7c\" x=\"298.760937\" y=\"90.36\" style=\"fill: #4c4c4c; stroke: #4c4c4c; stroke-linejoin: miter\"/>\n     <use xlink:href=\"#m9b223dcd7c\" x=\"45.124574\" y=\"90.36\" style=\"fill: #4c4c4c; stroke: #4c4c4c; stroke-linejoin: miter\"/>\n     <use xlink:href=\"#m9b223dcd7c\" x=\"248.033665\" y=\"90.36\" style=\"fill: #4c4c4c; stroke: #4c4c4c; stroke-linejoin: miter\"/>\n     <use xlink:href=\"#m9b223dcd7c\" x=\"298.58232\" y=\"90.36\" style=\"fill: #4c4c4c; stroke: #4c4c4c; stroke-linejoin: miter\"/>\n     <use xlink:href=\"#m9b223dcd7c\" x=\"300.966471\" y=\"90.36\" style=\"fill: #4c4c4c; stroke: #4c4c4c; stroke-linejoin: miter\"/>\n     <use xlink:href=\"#m9b223dcd7c\" x=\"303.482891\" y=\"90.36\" style=\"fill: #4c4c4c; stroke: #4c4c4c; stroke-linejoin: miter\"/>\n     <use xlink:href=\"#m9b223dcd7c\" x=\"277.443035\" y=\"90.36\" style=\"fill: #4c4c4c; stroke: #4c4c4c; stroke-linejoin: miter\"/>\n     <use xlink:href=\"#m9b223dcd7c\" x=\"271.61392\" y=\"90.36\" style=\"fill: #4c4c4c; stroke: #4c4c4c; stroke-linejoin: miter\"/>\n     <use xlink:href=\"#m9b223dcd7c\" x=\"272.899975\" y=\"90.36\" style=\"fill: #4c4c4c; stroke: #4c4c4c; stroke-linejoin: miter\"/>\n     <use xlink:href=\"#m9b223dcd7c\" x=\"320.302656\" y=\"90.36\" style=\"fill: #4c4c4c; stroke: #4c4c4c; stroke-linejoin: miter\"/>\n     <use xlink:href=\"#m9b223dcd7c\" x=\"317.569926\" y=\"90.36\" style=\"fill: #4c4c4c; stroke: #4c4c4c; stroke-linejoin: miter\"/>\n     <use xlink:href=\"#m9b223dcd7c\" x=\"315.213026\" y=\"90.36\" style=\"fill: #4c4c4c; stroke: #4c4c4c; stroke-linejoin: miter\"/>\n     <use xlink:href=\"#m9b223dcd7c\" x=\"308.673163\" y=\"90.36\" style=\"fill: #4c4c4c; stroke: #4c4c4c; stroke-linejoin: miter\"/>\n     <use xlink:href=\"#m9b223dcd7c\" x=\"269.878382\" y=\"90.36\" style=\"fill: #4c4c4c; stroke: #4c4c4c; stroke-linejoin: miter\"/>\n     <use xlink:href=\"#m9b223dcd7c\" x=\"242.483352\" y=\"90.36\" style=\"fill: #4c4c4c; stroke: #4c4c4c; stroke-linejoin: miter\"/>\n     <use xlink:href=\"#m9b223dcd7c\" x=\"231.322805\" y=\"90.36\" style=\"fill: #4c4c4c; stroke: #4c4c4c; stroke-linejoin: miter\"/>\n     <use xlink:href=\"#m9b223dcd7c\" x=\"320.697055\" y=\"90.36\" style=\"fill: #4c4c4c; stroke: #4c4c4c; stroke-linejoin: miter\"/>\n     <use xlink:href=\"#m9b223dcd7c\" x=\"270.809175\" y=\"90.36\" style=\"fill: #4c4c4c; stroke: #4c4c4c; stroke-linejoin: miter\"/>\n     <use xlink:href=\"#m9b223dcd7c\" x=\"320.226583\" y=\"90.36\" style=\"fill: #4c4c4c; stroke: #4c4c4c; stroke-linejoin: miter\"/>\n     <use xlink:href=\"#m9b223dcd7c\" x=\"242.533117\" y=\"90.36\" style=\"fill: #4c4c4c; stroke: #4c4c4c; stroke-linejoin: miter\"/>\n     <use xlink:href=\"#m9b223dcd7c\" x=\"257.900526\" y=\"90.36\" style=\"fill: #4c4c4c; stroke: #4c4c4c; stroke-linejoin: miter\"/>\n     <use xlink:href=\"#m9b223dcd7c\" x=\"320.742756\" y=\"90.36\" style=\"fill: #4c4c4c; stroke: #4c4c4c; stroke-linejoin: miter\"/>\n     <use xlink:href=\"#m9b223dcd7c\" x=\"315.670028\" y=\"90.36\" style=\"fill: #4c4c4c; stroke: #4c4c4c; stroke-linejoin: miter\"/>\n     <use xlink:href=\"#m9b223dcd7c\" x=\"298.080035\" y=\"90.36\" style=\"fill: #4c4c4c; stroke: #4c4c4c; stroke-linejoin: miter\"/>\n     <use xlink:href=\"#m9b223dcd7c\" x=\"248.033665\" y=\"90.36\" style=\"fill: #4c4c4c; stroke: #4c4c4c; stroke-linejoin: miter\"/>\n     <use xlink:href=\"#m9b223dcd7c\" x=\"314.283163\" y=\"90.36\" style=\"fill: #4c4c4c; stroke: #4c4c4c; stroke-linejoin: miter\"/>\n     <use xlink:href=\"#m9b223dcd7c\" x=\"318.327171\" y=\"90.36\" style=\"fill: #4c4c4c; stroke: #4c4c4c; stroke-linejoin: miter\"/>\n     <use xlink:href=\"#m9b223dcd7c\" x=\"313.115083\" y=\"90.36\" style=\"fill: #4c4c4c; stroke: #4c4c4c; stroke-linejoin: miter\"/>\n     <use xlink:href=\"#m9b223dcd7c\" x=\"280.160938\" y=\"90.36\" style=\"fill: #4c4c4c; stroke: #4c4c4c; stroke-linejoin: miter\"/>\n     <use xlink:href=\"#m9b223dcd7c\" x=\"278.810272\" y=\"90.36\" style=\"fill: #4c4c4c; stroke: #4c4c4c; stroke-linejoin: miter\"/>\n     <use xlink:href=\"#m9b223dcd7c\" x=\"302.663035\" y=\"90.36\" style=\"fill: #4c4c4c; stroke: #4c4c4c; stroke-linejoin: miter\"/>\n     <use xlink:href=\"#m9b223dcd7c\" x=\"287.19156\" y=\"90.36\" style=\"fill: #4c4c4c; stroke: #4c4c4c; stroke-linejoin: miter\"/>\n     <use xlink:href=\"#m9b223dcd7c\" x=\"311.478081\" y=\"90.36\" style=\"fill: #4c4c4c; stroke: #4c4c4c; stroke-linejoin: miter\"/>\n     <use xlink:href=\"#m9b223dcd7c\" x=\"290.306392\" y=\"90.36\" style=\"fill: #4c4c4c; stroke: #4c4c4c; stroke-linejoin: miter\"/>\n     <use xlink:href=\"#m9b223dcd7c\" x=\"260.320547\" y=\"90.36\" style=\"fill: #4c4c4c; stroke: #4c4c4c; stroke-linejoin: miter\"/>\n     <use xlink:href=\"#m9b223dcd7c\" x=\"300.013463\" y=\"90.36\" style=\"fill: #4c4c4c; stroke: #4c4c4c; stroke-linejoin: miter\"/>\n     <use xlink:href=\"#m9b223dcd7c\" x=\"316.138542\" y=\"90.36\" style=\"fill: #4c4c4c; stroke: #4c4c4c; stroke-linejoin: miter\"/>\n     <use xlink:href=\"#m9b223dcd7c\" x=\"318.002317\" y=\"90.36\" style=\"fill: #4c4c4c; stroke: #4c4c4c; stroke-linejoin: miter\"/>\n     <use xlink:href=\"#m9b223dcd7c\" x=\"316.153145\" y=\"90.36\" style=\"fill: #4c4c4c; stroke: #4c4c4c; stroke-linejoin: miter\"/>\n     <use xlink:href=\"#m9b223dcd7c\" x=\"197.306392\" y=\"90.36\" style=\"fill: #4c4c4c; stroke: #4c4c4c; stroke-linejoin: miter\"/>\n     <use xlink:href=\"#m9b223dcd7c\" x=\"280.644054\" y=\"90.36\" style=\"fill: #4c4c4c; stroke: #4c4c4c; stroke-linejoin: miter\"/>\n     <use xlink:href=\"#m9b223dcd7c\" x=\"319.75603\" y=\"90.36\" style=\"fill: #4c4c4c; stroke: #4c4c4c; stroke-linejoin: miter\"/>\n     <use xlink:href=\"#m9b223dcd7c\" x=\"299.202044\" y=\"90.36\" style=\"fill: #4c4c4c; stroke: #4c4c4c; stroke-linejoin: miter\"/>\n     <use xlink:href=\"#m9b223dcd7c\" x=\"295.732444\" y=\"90.36\" style=\"fill: #4c4c4c; stroke: #4c4c4c; stroke-linejoin: miter\"/>\n     <use xlink:href=\"#m9b223dcd7c\" x=\"310.557978\" y=\"90.36\" style=\"fill: #4c4c4c; stroke: #4c4c4c; stroke-linejoin: miter\"/>\n     <use xlink:href=\"#m9b223dcd7c\" x=\"292.380148\" y=\"90.36\" style=\"fill: #4c4c4c; stroke: #4c4c4c; stroke-linejoin: miter\"/>\n     <use xlink:href=\"#m9b223dcd7c\" x=\"306.519226\" y=\"90.36\" style=\"fill: #4c4c4c; stroke: #4c4c4c; stroke-linejoin: miter\"/>\n     <use xlink:href=\"#m9b223dcd7c\" x=\"295.77698\" y=\"90.36\" style=\"fill: #4c4c4c; stroke: #4c4c4c; stroke-linejoin: miter\"/>\n     <use xlink:href=\"#m9b223dcd7c\" x=\"226.151312\" y=\"90.36\" style=\"fill: #4c4c4c; stroke: #4c4c4c; stroke-linejoin: miter\"/>\n     <use xlink:href=\"#m9b223dcd7c\" x=\"197.306392\" y=\"90.36\" style=\"fill: #4c4c4c; stroke: #4c4c4c; stroke-linejoin: miter\"/>\n     <use xlink:href=\"#m9b223dcd7c\" x=\"295.137561\" y=\"90.36\" style=\"fill: #4c4c4c; stroke: #4c4c4c; stroke-linejoin: miter\"/>\n     <use xlink:href=\"#m9b223dcd7c\" x=\"295.428489\" y=\"90.36\" style=\"fill: #4c4c4c; stroke: #4c4c4c; stroke-linejoin: miter\"/>\n     <use xlink:href=\"#m9b223dcd7c\" x=\"244.990028\" y=\"90.36\" style=\"fill: #4c4c4c; stroke: #4c4c4c; stroke-linejoin: miter\"/>\n     <use xlink:href=\"#m9b223dcd7c\" x=\"298.760937\" y=\"90.36\" style=\"fill: #4c4c4c; stroke: #4c4c4c; stroke-linejoin: miter\"/>\n     <use xlink:href=\"#m9b223dcd7c\" x=\"220.364243\" y=\"90.36\" style=\"fill: #4c4c4c; stroke: #4c4c4c; stroke-linejoin: miter\"/>\n     <use xlink:href=\"#m9b223dcd7c\" x=\"45.124574\" y=\"90.36\" style=\"fill: #4c4c4c; stroke: #4c4c4c; stroke-linejoin: miter\"/>\n     <use xlink:href=\"#m9b223dcd7c\" x=\"229.059341\" y=\"90.36\" style=\"fill: #4c4c4c; stroke: #4c4c4c; stroke-linejoin: miter\"/>\n     <use xlink:href=\"#m9b223dcd7c\" x=\"263.642056\" y=\"90.36\" style=\"fill: #4c4c4c; stroke: #4c4c4c; stroke-linejoin: miter\"/>\n     <use xlink:href=\"#m9b223dcd7c\" x=\"296.043405\" y=\"90.36\" style=\"fill: #4c4c4c; stroke: #4c4c4c; stroke-linejoin: miter\"/>\n     <use xlink:href=\"#m9b223dcd7c\" x=\"300.790028\" y=\"90.36\" style=\"fill: #4c4c4c; stroke: #4c4c4c; stroke-linejoin: miter\"/>\n     <use xlink:href=\"#m9b223dcd7c\" x=\"267.576139\" y=\"90.36\" style=\"fill: #4c4c4c; stroke: #4c4c4c; stroke-linejoin: miter\"/>\n     <use xlink:href=\"#m9b223dcd7c\" x=\"305.306392\" y=\"90.36\" style=\"fill: #4c4c4c; stroke: #4c4c4c; stroke-linejoin: miter\"/>\n     <use xlink:href=\"#m9b223dcd7c\" x=\"298.760937\" y=\"90.36\" style=\"fill: #4c4c4c; stroke: #4c4c4c; stroke-linejoin: miter\"/>\n     <use xlink:href=\"#m9b223dcd7c\" x=\"314.132838\" y=\"90.36\" style=\"fill: #4c4c4c; stroke: #4c4c4c; stroke-linejoin: miter\"/>\n     <use xlink:href=\"#m9b223dcd7c\" x=\"300.546337\" y=\"90.36\" style=\"fill: #4c4c4c; stroke: #4c4c4c; stroke-linejoin: miter\"/>\n     <use xlink:href=\"#m9b223dcd7c\" x=\"248.033665\" y=\"90.36\" style=\"fill: #4c4c4c; stroke: #4c4c4c; stroke-linejoin: miter\"/>\n     <use xlink:href=\"#m9b223dcd7c\" x=\"291.707319\" y=\"90.36\" style=\"fill: #4c4c4c; stroke: #4c4c4c; stroke-linejoin: miter\"/>\n     <use xlink:href=\"#m9b223dcd7c\" x=\"287.808458\" y=\"90.36\" style=\"fill: #4c4c4c; stroke: #4c4c4c; stroke-linejoin: miter\"/>\n     <use xlink:href=\"#m9b223dcd7c\" x=\"260.000098\" y=\"90.36\" style=\"fill: #4c4c4c; stroke: #4c4c4c; stroke-linejoin: miter\"/>\n     <use xlink:href=\"#m9b223dcd7c\" x=\"300.282371\" y=\"90.36\" style=\"fill: #4c4c4c; stroke: #4c4c4c; stroke-linejoin: miter\"/>\n     <use xlink:href=\"#m9b223dcd7c\" x=\"288.615483\" y=\"90.36\" style=\"fill: #4c4c4c; stroke: #4c4c4c; stroke-linejoin: miter\"/>\n     <use xlink:href=\"#m9b223dcd7c\" x=\"180.397301\" y=\"90.36\" style=\"fill: #4c4c4c; stroke: #4c4c4c; stroke-linejoin: miter\"/>\n     <use xlink:href=\"#m9b223dcd7c\" x=\"236.804294\" y=\"90.36\" style=\"fill: #4c4c4c; stroke: #4c4c4c; stroke-linejoin: miter\"/>\n     <use xlink:href=\"#m9b223dcd7c\" x=\"243.676721\" y=\"90.36\" style=\"fill: #4c4c4c; stroke: #4c4c4c; stroke-linejoin: miter\"/>\n     <use xlink:href=\"#m9b223dcd7c\" x=\"288.000607\" y=\"90.36\" style=\"fill: #4c4c4c; stroke: #4c4c4c; stroke-linejoin: miter\"/>\n     <use xlink:href=\"#m9b223dcd7c\" x=\"291.616251\" y=\"90.36\" style=\"fill: #4c4c4c; stroke: #4c4c4c; stroke-linejoin: miter\"/>\n     <use xlink:href=\"#m9b223dcd7c\" x=\"259.443446\" y=\"90.36\" style=\"fill: #4c4c4c; stroke: #4c4c4c; stroke-linejoin: miter\"/>\n     <use xlink:href=\"#m9b223dcd7c\" x=\"287.166132\" y=\"90.36\" style=\"fill: #4c4c4c; stroke: #4c4c4c; stroke-linejoin: miter\"/>\n     <use xlink:href=\"#m9b223dcd7c\" x=\"288.456228\" y=\"90.36\" style=\"fill: #4c4c4c; stroke: #4c4c4c; stroke-linejoin: miter\"/>\n     <use xlink:href=\"#m9b223dcd7c\" x=\"298.572009\" y=\"90.36\" style=\"fill: #4c4c4c; stroke: #4c4c4c; stroke-linejoin: miter\"/>\n     <use xlink:href=\"#m9b223dcd7c\" x=\"292.849112\" y=\"90.36\" style=\"fill: #4c4c4c; stroke: #4c4c4c; stroke-linejoin: miter\"/>\n     <use xlink:href=\"#m9b223dcd7c\" x=\"319.183606\" y=\"90.36\" style=\"fill: #4c4c4c; stroke: #4c4c4c; stroke-linejoin: miter\"/>\n     <use xlink:href=\"#m9b223dcd7c\" x=\"306.919869\" y=\"90.36\" style=\"fill: #4c4c4c; stroke: #4c4c4c; stroke-linejoin: miter\"/>\n     <use xlink:href=\"#m9b223dcd7c\" x=\"288.814413\" y=\"90.36\" style=\"fill: #4c4c4c; stroke: #4c4c4c; stroke-linejoin: miter\"/>\n     <use xlink:href=\"#m9b223dcd7c\" x=\"243.761894\" y=\"90.36\" style=\"fill: #4c4c4c; stroke: #4c4c4c; stroke-linejoin: miter\"/>\n     <use xlink:href=\"#m9b223dcd7c\" x=\"250.393073\" y=\"90.36\" style=\"fill: #4c4c4c; stroke: #4c4c4c; stroke-linejoin: miter\"/>\n     <use xlink:href=\"#m9b223dcd7c\" x=\"308.970752\" y=\"90.36\" style=\"fill: #4c4c4c; stroke: #4c4c4c; stroke-linejoin: miter\"/>\n     <use xlink:href=\"#m9b223dcd7c\" x=\"313.254444\" y=\"90.36\" style=\"fill: #4c4c4c; stroke: #4c4c4c; stroke-linejoin: miter\"/>\n     <use xlink:href=\"#m9b223dcd7c\" x=\"316.664681\" y=\"90.36\" style=\"fill: #4c4c4c; stroke: #4c4c4c; stroke-linejoin: miter\"/>\n     <use xlink:href=\"#m9b223dcd7c\" x=\"298.760937\" y=\"90.36\" style=\"fill: #4c4c4c; stroke: #4c4c4c; stroke-linejoin: miter\"/>\n     <use xlink:href=\"#m9b223dcd7c\" x=\"319.751533\" y=\"90.36\" style=\"fill: #4c4c4c; stroke: #4c4c4c; stroke-linejoin: miter\"/>\n     <use xlink:href=\"#m9b223dcd7c\" x=\"248.033665\" y=\"90.36\" style=\"fill: #4c4c4c; stroke: #4c4c4c; stroke-linejoin: miter\"/>\n     <use xlink:href=\"#m9b223dcd7c\" x=\"278.470028\" y=\"90.36\" style=\"fill: #4c4c4c; stroke: #4c4c4c; stroke-linejoin: miter\"/>\n     <use xlink:href=\"#m9b223dcd7c\" x=\"309.631067\" y=\"90.36\" style=\"fill: #4c4c4c; stroke: #4c4c4c; stroke-linejoin: miter\"/>\n     <use xlink:href=\"#m9b223dcd7c\" x=\"298.760937\" y=\"90.36\" style=\"fill: #4c4c4c; stroke: #4c4c4c; stroke-linejoin: miter\"/>\n    </g>\n   </g>\n   <g id=\"line2d_19\">\n    <path d=\"M 473.271991 23.832 \nL 473.271991 156.888 \n\" clip-path=\"url(#pa6b7693d60)\" style=\"fill: none; stroke: #4c4c4c; stroke-width: 1.75; stroke-linecap: round\"/>\n   </g>\n   <g id=\"patch_4\">\n    <path d=\"M 19.760937 173.52 \nL 19.760937 7.2 \n\" style=\"fill: none\"/>\n   </g>\n   <g id=\"patch_5\">\n    <path d=\"M 577.760937 173.52 \nL 577.760937 7.2 \n\" style=\"fill: none\"/>\n   </g>\n   <g id=\"patch_6\">\n    <path d=\"M 19.760937 173.52 \nL 577.760937 173.52 \n\" style=\"fill: none\"/>\n   </g>\n   <g id=\"patch_7\">\n    <path d=\"M 19.760937 7.2 \nL 577.760937 7.2 \n\" style=\"fill: none\"/>\n   </g>\n  </g>\n </g>\n <defs>\n  <clipPath id=\"pa6b7693d60\">\n   <rect x=\"19.760937\" y=\"7.2\" width=\"558\" height=\"166.32\"/>\n  </clipPath>\n </defs>\n</svg>\n"
          },
          "metadata": {}
        }
      ],
      "source": [
        "plt.figure(figsize=(10, 3))\n",
        "sns.distplot(df_pr['rating'])\n",
        "plt.show()\n",
        "\n",
        "plt.figure(figsize=(10, 3))\n",
        "sns.boxplot(df_pr['rating'], orient='h')\n",
        "plt.show()"
      ]
    },
    {
      "cell_type": "markdown",
      "metadata": {
        "id": "-plQHhfnN6Cf"
      },
      "source": [
        "### Test/Train split"
      ]
    },
    {
      "cell_type": "code",
      "execution_count": 16,
      "metadata": {
        "id": "N2-RzWklN6Cf"
      },
      "outputs": [],
      "source": [
        "train_df = df[df['release_year'] != 2021]"
      ]
    },
    {
      "cell_type": "code",
      "source": [
        "train_df.dropna(subset=['rating'], inplace=True)\n"
      ],
      "metadata": {
        "id": "PMvYvDyEvMlH"
      },
      "execution_count": 17,
      "outputs": []
    },
    {
      "cell_type": "code",
      "execution_count": 18,
      "metadata": {
        "id": "kXrdc1KfN6Cg"
      },
      "outputs": [],
      "source": [
        "test_df = df[df['release_year'] > 2020]\n"
      ]
    },
    {
      "cell_type": "code",
      "execution_count": 19,
      "metadata": {
        "id": "FetOF7soN6Cg"
      },
      "outputs": [],
      "source": [
        "test_df.dropna(subset=['rating'], inplace=True)"
      ]
    },
    {
      "cell_type": "markdown",
      "metadata": {
        "id": "vlTWNRFHN6Cg"
      },
      "source": [
        "### Preproc"
      ]
    },
    {
      "cell_type": "code",
      "execution_count": 20,
      "metadata": {
        "id": "wMeowwKAN6Cg"
      },
      "outputs": [],
      "source": [
        "train = train_df.copy(deep=True)\n",
        "test = test_df.copy(deep=True)"
      ]
    },
    {
      "cell_type": "code",
      "execution_count": 21,
      "metadata": {
        "id": "1NrDi5SIN6Cg"
      },
      "outputs": [],
      "source": [
        "train = train[train['release_year'] >= 2000]"
      ]
    },
    {
      "cell_type": "code",
      "execution_count": 22,
      "metadata": {
        "colab": {
          "base_uri": "https://localhost:8080/"
        },
        "id": "5u5ErytMN6Ch",
        "outputId": "0f100945-d79a-4388-924e-386a16044a42"
      },
      "outputs": [
        {
          "output_type": "execute_result",
          "data": {
            "text/plain": [
              "Index(['age_access_type', 'name', 'director', 'average_rating', 'type',\n",
              "       'release_type', 'release_year', 'duration', 'actor', 'element_uid',\n",
              "       'BUDGET', 'MARKETING', 'RUS', 'USA', 'WORLD', 'element_id', 'rating',\n",
              "       'has_oscar_actor', 'has_oscar_composer', 'has_oscar_design',\n",
              "       'has_oscar_director', 'has_oscar_editor', 'has_oscar_operator',\n",
              "       'has_oscar_producer', 'has_oscar_writer', 'poster_url',\n",
              "       'poster_url_preview', 'has_imax', 'has_3_d', 'has_sequel'],\n",
              "      dtype='object')"
            ]
          },
          "metadata": {},
          "execution_count": 22
        }
      ],
      "source": [
        "train.columns[:30]"
      ]
    },
    {
      "cell_type": "code",
      "execution_count": 23,
      "metadata": {
        "colab": {
          "base_uri": "https://localhost:8080/"
        },
        "id": "Q31OuU7YN6Ch",
        "outputId": "4b99bd88-2946-4fd0-806e-1a140d6356cf"
      },
      "outputs": [
        {
          "output_type": "execute_result",
          "data": {
            "text/plain": [
              "Index(['img_name', 'Drama', 'Comedy', 'Thriller', 'Action',\n",
              "       '364fdc2e-bdfe-40be-b2c5-d30f43ec432e', 'Adventure', 'Sci-Fi',\n",
              "       'Melodrama', 'Horror', '9fa28b61-a257-4a3e-945b-a9ef76a146d6',\n",
              "       'Бернард Коллако', 'Марк Фальво', 'Джимми Стар', 'Брюс Уиллис',\n",
              "       'Роджер Бреннер', 'Крис Уилсон', 'Розмари Ховард', 'Ласко Аткинс',\n",
              "       'Кадролша Она Кароле', 'Дэнни Трехо', 'Джон Дебни',\n",
              "       'Джеймс Ньютон Ховард', 'Марко Белтрами', 'usa', 'great-britain',\n",
              "       'france', 'germany', 'canada', 'Эллен Мирожник', 'Энн Рот',\n",
              "       'Стивен Спилберг', 'Такер Гейтс', 'Майкл Кан', 'Крис Гилл',\n",
              "       'Роджер Дикинс', 'Джим Дено', 'Харви Вайнштейн', 'Боб Вайнштейн',\n",
              "       'Арнон Милчен', 'Люк Бессон', 'Стэн Ли'],\n",
              "      dtype='object')"
            ]
          },
          "metadata": {},
          "execution_count": 23
        }
      ],
      "source": [
        "train.columns[30:73]"
      ]
    },
    {
      "cell_type": "code",
      "execution_count": 24,
      "metadata": {
        "id": "SCGYMUpJN6Ch"
      },
      "outputs": [],
      "source": [
        "\n",
        "drop_cols = ['name', 'director', 'average_rating', 'release_type', 'release_year', 'actor',\n",
        "             'element_uid', 'element_id', 'poster_url', 'poster_url_preview']"
      ]
    },
    {
      "cell_type": "code",
      "execution_count": 25,
      "metadata": {
        "id": "qZGYfHtQN6Ch"
      },
      "outputs": [],
      "source": [
        "train.drop(drop_cols, axis=1, inplace=True)\n",
        "\n",
        "test.drop(drop_cols, axis=1, inplace=True)"
      ]
    },
    {
      "cell_type": "code",
      "source": [
        "!pip install -U scikit-learn"
      ],
      "metadata": {
        "colab": {
          "base_uri": "https://localhost:8080/"
        },
        "id": "2F_FhqPdO0L1",
        "outputId": "59c9bb45-9bdc-4cc1-ec19-ac0d65bf1958"
      },
      "execution_count": 26,
      "outputs": [
        {
          "output_type": "stream",
          "name": "stdout",
          "text": [
            "Looking in indexes: https://pypi.org/simple, https://us-python.pkg.dev/colab-wheels/public/simple/\n",
            "Requirement already satisfied: scikit-learn in /usr/local/lib/python3.10/dist-packages (1.2.2)\n",
            "Requirement already satisfied: numpy>=1.17.3 in /usr/local/lib/python3.10/dist-packages (from scikit-learn) (1.22.4)\n",
            "Requirement already satisfied: scipy>=1.3.2 in /usr/local/lib/python3.10/dist-packages (from scikit-learn) (1.10.1)\n",
            "Requirement already satisfied: joblib>=1.1.1 in /usr/local/lib/python3.10/dist-packages (from scikit-learn) (1.2.0)\n",
            "Requirement already satisfied: threadpoolctl>=2.0.0 in /usr/local/lib/python3.10/dist-packages (from scikit-learn) (3.1.0)\n"
          ]
        }
      ]
    },
    {
      "cell_type": "markdown",
      "source": [
        "### ohe"
      ],
      "metadata": {
        "id": "1OLvQXrDvrtn"
      }
    },
    {
      "cell_type": "code",
      "execution_count": 27,
      "metadata": {
        "id": "r3kcQ_G1N6Ci"
      },
      "outputs": [],
      "source": [
        "from sklearn.preprocessing import OneHotEncoder\n",
        "\n",
        "ohe_cols = ['age_access_type', 'type']\n",
        "\n",
        "oenc = OneHotEncoder(handle_unknown='ignore', sparse=False)\n",
        "enc_train = oenc.fit_transform(train[ohe_cols])\n",
        "\n",
        "enc_train = pd.DataFrame(enc_train,columns=oenc.get_feature_names_out())\n",
        "\n",
        "train = pd.concat([train, enc_train],axis=1)\n",
        "\n",
        "train.drop(ohe_cols, axis=1, inplace=True)\n",
        "# \n",
        "enc_test = oenc.transform(test[ohe_cols])\n",
        "\n",
        "enc_test = pd.DataFrame(enc_test,columns=oenc.get_feature_names_out())\n",
        "\n",
        "test = pd.concat([test, enc_test],axis=1) \n",
        "\n",
        "test.drop(ohe_cols, axis=1, inplace=True)"
      ]
    },
    {
      "cell_type": "code",
      "execution_count": 28,
      "metadata": {
        "colab": {
          "base_uri": "https://localhost:8080/",
          "height": 1000
        },
        "id": "PiCdTNW8N6Ci",
        "outputId": "6f3a19d1-287f-4247-aa3f-9ad18baf10d0"
      },
      "outputs": [
        {
          "output_type": "execute_result",
          "data": {
            "text/plain": [
              "                                               4           11          13  \\\n",
              "img_name                              1172958.jpg  255129.jpg  888154.jpg   \n",
              "Drama                                         0.0         0.0         0.0   \n",
              "Comedy                                        1.0         0.0         1.0   \n",
              "Thriller                                      0.0         1.0         0.0   \n",
              "Action                                        0.0         1.0         1.0   \n",
              "364fdc2e-bdfe-40be-b2c5-d30f43ec432e          0.0         0.0         0.0   \n",
              "Adventure                                     1.0         1.0         0.0   \n",
              "Sci-Fi                                        0.0         1.0         0.0   \n",
              "Melodrama                                     0.0         0.0         0.0   \n",
              "Horror                                        0.0         0.0         0.0   \n",
              "9fa28b61-a257-4a3e-945b-a9ef76a146d6          0.0         0.0         0.0   \n",
              "Бернард Коллако                               0.0         0.0         0.0   \n",
              "Марк Фальво                                   0.0         0.0         0.0   \n",
              "Джимми Стар                                   0.0         0.0         0.0   \n",
              "Брюс Уиллис                                   0.0         0.0         0.0   \n",
              "Роджер Бреннер                                0.0         0.0         0.0   \n",
              "Крис Уилсон                                   0.0         0.0         0.0   \n",
              "Розмари Ховард                                0.0         0.0         0.0   \n",
              "Ласко Аткинс                                  0.0         0.0         0.0   \n",
              "Кадролша Она Кароле                           0.0         0.0         0.0   \n",
              "Дэнни Трехо                                   0.0         0.0         0.0   \n",
              "Джон Дебни                                    0.0         0.0         0.0   \n",
              "Джеймс Ньютон Ховард                          0.0         0.0         0.0   \n",
              "Марко Белтрами                                0.0         0.0         0.0   \n",
              "usa                                           0.0         1.0         1.0   \n",
              "great-britain                                 0.0         0.0         1.0   \n",
              "france                                        1.0         0.0         0.0   \n",
              "germany                                       0.0         1.0         0.0   \n",
              "canada                                        1.0         0.0         1.0   \n",
              "Эллен Мирожник                                0.0         0.0         0.0   \n",
              "Энн Рот                                       0.0         0.0         0.0   \n",
              "Стивен Спилберг                               0.0         0.0         0.0   \n",
              "Такер Гейтс                                   0.0         0.0         0.0   \n",
              "Майкл Кан                                     0.0         0.0         0.0   \n",
              "Крис Гилл                                     0.0         0.0         0.0   \n",
              "Роджер Дикинс                                 0.0         0.0         0.0   \n",
              "Джим Дено                                     0.0         0.0         0.0   \n",
              "Харви Вайнштейн                               0.0         0.0         0.0   \n",
              "Боб Вайнштейн                                 0.0         0.0         0.0   \n",
              "Арнон Милчен                                  0.0         0.0         0.0   \n",
              "Люк Бессон                                    0.0         0.0         0.0   \n",
              "Стэн Ли                                       0.0         0.0         0.0   \n",
              "age_access_type_0                             0.0         0.0         0.0   \n",
              "age_access_type_6                             0.0         0.0         0.0   \n",
              "age_access_type_12                            1.0         0.0         0.0   \n",
              "age_access_type_16                            0.0         1.0         1.0   \n",
              "age_access_type_18                            0.0         0.0         0.0   \n",
              "type_MOVIE                                    1.0         1.0         1.0   \n",
              "type_MP_MOVIE                                 0.0         0.0         0.0   \n",
              "type_SERIAL                                   0.0         0.0         0.0   \n",
              "\n",
              "                                              16       19  \n",
              "img_name                              734349.jpg  321.jpg  \n",
              "Drama                                        0.0      0.0  \n",
              "Comedy                                       0.0      0.0  \n",
              "Thriller                                     1.0      1.0  \n",
              "Action                                       1.0      1.0  \n",
              "364fdc2e-bdfe-40be-b2c5-d30f43ec432e         0.0      0.0  \n",
              "Adventure                                    0.0      1.0  \n",
              "Sci-Fi                                       1.0      1.0  \n",
              "Melodrama                                    0.0      0.0  \n",
              "Horror                                       0.0      0.0  \n",
              "9fa28b61-a257-4a3e-945b-a9ef76a146d6         0.0      0.0  \n",
              "Бернард Коллако                              0.0      0.0  \n",
              "Марк Фальво                                  0.0      0.0  \n",
              "Джимми Стар                                  0.0      0.0  \n",
              "Брюс Уиллис                                  0.0      0.0  \n",
              "Роджер Бреннер                               0.0      0.0  \n",
              "Крис Уилсон                                  0.0      0.0  \n",
              "Розмари Ховард                               0.0      0.0  \n",
              "Ласко Аткинс                                 0.0      0.0  \n",
              "Кадролша Она Кароле                          0.0      0.0  \n",
              "Дэнни Трехо                                  0.0      0.0  \n",
              "Джон Дебни                                   0.0      0.0  \n",
              "Джеймс Ньютон Ховард                         0.0      0.0  \n",
              "Марко Белтрами                               0.0      0.0  \n",
              "usa                                          1.0      1.0  \n",
              "great-britain                                0.0      0.0  \n",
              "france                                       0.0      0.0  \n",
              "germany                                      0.0      0.0  \n",
              "canada                                       0.0      0.0  \n",
              "Эллен Мирожник                               0.0      0.0  \n",
              "Энн Рот                                      0.0      0.0  \n",
              "Стивен Спилберг                              0.0      0.0  \n",
              "Такер Гейтс                                  0.0      0.0  \n",
              "Майкл Кан                                    0.0      0.0  \n",
              "Крис Гилл                                    0.0      0.0  \n",
              "Роджер Дикинс                                0.0      0.0  \n",
              "Джим Дено                                    0.0      0.0  \n",
              "Харви Вайнштейн                              0.0      0.0  \n",
              "Боб Вайнштейн                                0.0      0.0  \n",
              "Арнон Милчен                                 0.0      0.0  \n",
              "Люк Бессон                                   0.0      0.0  \n",
              "Стэн Ли                                      0.0      0.0  \n",
              "age_access_type_0                            0.0      0.0  \n",
              "age_access_type_6                            0.0      0.0  \n",
              "age_access_type_12                           0.0      0.0  \n",
              "age_access_type_16                           0.0      1.0  \n",
              "age_access_type_18                           1.0      0.0  \n",
              "type_MOVIE                                   1.0      1.0  \n",
              "type_MP_MOVIE                                0.0      0.0  \n",
              "type_SERIAL                                  0.0      0.0  "
            ],
            "text/html": [
              "\n",
              "  <div id=\"df-4e7b7b75-9002-46e7-8e3c-c504766071a8\">\n",
              "    <div class=\"colab-df-container\">\n",
              "      <div>\n",
              "<style scoped>\n",
              "    .dataframe tbody tr th:only-of-type {\n",
              "        vertical-align: middle;\n",
              "    }\n",
              "\n",
              "    .dataframe tbody tr th {\n",
              "        vertical-align: top;\n",
              "    }\n",
              "\n",
              "    .dataframe thead th {\n",
              "        text-align: right;\n",
              "    }\n",
              "</style>\n",
              "<table border=\"1\" class=\"dataframe\">\n",
              "  <thead>\n",
              "    <tr style=\"text-align: right;\">\n",
              "      <th></th>\n",
              "      <th>4</th>\n",
              "      <th>11</th>\n",
              "      <th>13</th>\n",
              "      <th>16</th>\n",
              "      <th>19</th>\n",
              "    </tr>\n",
              "  </thead>\n",
              "  <tbody>\n",
              "    <tr>\n",
              "      <th>img_name</th>\n",
              "      <td>1172958.jpg</td>\n",
              "      <td>255129.jpg</td>\n",
              "      <td>888154.jpg</td>\n",
              "      <td>734349.jpg</td>\n",
              "      <td>321.jpg</td>\n",
              "    </tr>\n",
              "    <tr>\n",
              "      <th>Drama</th>\n",
              "      <td>0.0</td>\n",
              "      <td>0.0</td>\n",
              "      <td>0.0</td>\n",
              "      <td>0.0</td>\n",
              "      <td>0.0</td>\n",
              "    </tr>\n",
              "    <tr>\n",
              "      <th>Comedy</th>\n",
              "      <td>1.0</td>\n",
              "      <td>0.0</td>\n",
              "      <td>1.0</td>\n",
              "      <td>0.0</td>\n",
              "      <td>0.0</td>\n",
              "    </tr>\n",
              "    <tr>\n",
              "      <th>Thriller</th>\n",
              "      <td>0.0</td>\n",
              "      <td>1.0</td>\n",
              "      <td>0.0</td>\n",
              "      <td>1.0</td>\n",
              "      <td>1.0</td>\n",
              "    </tr>\n",
              "    <tr>\n",
              "      <th>Action</th>\n",
              "      <td>0.0</td>\n",
              "      <td>1.0</td>\n",
              "      <td>1.0</td>\n",
              "      <td>1.0</td>\n",
              "      <td>1.0</td>\n",
              "    </tr>\n",
              "    <tr>\n",
              "      <th>364fdc2e-bdfe-40be-b2c5-d30f43ec432e</th>\n",
              "      <td>0.0</td>\n",
              "      <td>0.0</td>\n",
              "      <td>0.0</td>\n",
              "      <td>0.0</td>\n",
              "      <td>0.0</td>\n",
              "    </tr>\n",
              "    <tr>\n",
              "      <th>Adventure</th>\n",
              "      <td>1.0</td>\n",
              "      <td>1.0</td>\n",
              "      <td>0.0</td>\n",
              "      <td>0.0</td>\n",
              "      <td>1.0</td>\n",
              "    </tr>\n",
              "    <tr>\n",
              "      <th>Sci-Fi</th>\n",
              "      <td>0.0</td>\n",
              "      <td>1.0</td>\n",
              "      <td>0.0</td>\n",
              "      <td>1.0</td>\n",
              "      <td>1.0</td>\n",
              "    </tr>\n",
              "    <tr>\n",
              "      <th>Melodrama</th>\n",
              "      <td>0.0</td>\n",
              "      <td>0.0</td>\n",
              "      <td>0.0</td>\n",
              "      <td>0.0</td>\n",
              "      <td>0.0</td>\n",
              "    </tr>\n",
              "    <tr>\n",
              "      <th>Horror</th>\n",
              "      <td>0.0</td>\n",
              "      <td>0.0</td>\n",
              "      <td>0.0</td>\n",
              "      <td>0.0</td>\n",
              "      <td>0.0</td>\n",
              "    </tr>\n",
              "    <tr>\n",
              "      <th>9fa28b61-a257-4a3e-945b-a9ef76a146d6</th>\n",
              "      <td>0.0</td>\n",
              "      <td>0.0</td>\n",
              "      <td>0.0</td>\n",
              "      <td>0.0</td>\n",
              "      <td>0.0</td>\n",
              "    </tr>\n",
              "    <tr>\n",
              "      <th>Бернард Коллако</th>\n",
              "      <td>0.0</td>\n",
              "      <td>0.0</td>\n",
              "      <td>0.0</td>\n",
              "      <td>0.0</td>\n",
              "      <td>0.0</td>\n",
              "    </tr>\n",
              "    <tr>\n",
              "      <th>Марк Фальво</th>\n",
              "      <td>0.0</td>\n",
              "      <td>0.0</td>\n",
              "      <td>0.0</td>\n",
              "      <td>0.0</td>\n",
              "      <td>0.0</td>\n",
              "    </tr>\n",
              "    <tr>\n",
              "      <th>Джимми Стар</th>\n",
              "      <td>0.0</td>\n",
              "      <td>0.0</td>\n",
              "      <td>0.0</td>\n",
              "      <td>0.0</td>\n",
              "      <td>0.0</td>\n",
              "    </tr>\n",
              "    <tr>\n",
              "      <th>Брюс Уиллис</th>\n",
              "      <td>0.0</td>\n",
              "      <td>0.0</td>\n",
              "      <td>0.0</td>\n",
              "      <td>0.0</td>\n",
              "      <td>0.0</td>\n",
              "    </tr>\n",
              "    <tr>\n",
              "      <th>Роджер Бреннер</th>\n",
              "      <td>0.0</td>\n",
              "      <td>0.0</td>\n",
              "      <td>0.0</td>\n",
              "      <td>0.0</td>\n",
              "      <td>0.0</td>\n",
              "    </tr>\n",
              "    <tr>\n",
              "      <th>Крис Уилсон</th>\n",
              "      <td>0.0</td>\n",
              "      <td>0.0</td>\n",
              "      <td>0.0</td>\n",
              "      <td>0.0</td>\n",
              "      <td>0.0</td>\n",
              "    </tr>\n",
              "    <tr>\n",
              "      <th>Розмари Ховард</th>\n",
              "      <td>0.0</td>\n",
              "      <td>0.0</td>\n",
              "      <td>0.0</td>\n",
              "      <td>0.0</td>\n",
              "      <td>0.0</td>\n",
              "    </tr>\n",
              "    <tr>\n",
              "      <th>Ласко Аткинс</th>\n",
              "      <td>0.0</td>\n",
              "      <td>0.0</td>\n",
              "      <td>0.0</td>\n",
              "      <td>0.0</td>\n",
              "      <td>0.0</td>\n",
              "    </tr>\n",
              "    <tr>\n",
              "      <th>Кадролша Она Кароле</th>\n",
              "      <td>0.0</td>\n",
              "      <td>0.0</td>\n",
              "      <td>0.0</td>\n",
              "      <td>0.0</td>\n",
              "      <td>0.0</td>\n",
              "    </tr>\n",
              "    <tr>\n",
              "      <th>Дэнни Трехо</th>\n",
              "      <td>0.0</td>\n",
              "      <td>0.0</td>\n",
              "      <td>0.0</td>\n",
              "      <td>0.0</td>\n",
              "      <td>0.0</td>\n",
              "    </tr>\n",
              "    <tr>\n",
              "      <th>Джон Дебни</th>\n",
              "      <td>0.0</td>\n",
              "      <td>0.0</td>\n",
              "      <td>0.0</td>\n",
              "      <td>0.0</td>\n",
              "      <td>0.0</td>\n",
              "    </tr>\n",
              "    <tr>\n",
              "      <th>Джеймс Ньютон Ховард</th>\n",
              "      <td>0.0</td>\n",
              "      <td>0.0</td>\n",
              "      <td>0.0</td>\n",
              "      <td>0.0</td>\n",
              "      <td>0.0</td>\n",
              "    </tr>\n",
              "    <tr>\n",
              "      <th>Марко Белтрами</th>\n",
              "      <td>0.0</td>\n",
              "      <td>0.0</td>\n",
              "      <td>0.0</td>\n",
              "      <td>0.0</td>\n",
              "      <td>0.0</td>\n",
              "    </tr>\n",
              "    <tr>\n",
              "      <th>usa</th>\n",
              "      <td>0.0</td>\n",
              "      <td>1.0</td>\n",
              "      <td>1.0</td>\n",
              "      <td>1.0</td>\n",
              "      <td>1.0</td>\n",
              "    </tr>\n",
              "    <tr>\n",
              "      <th>great-britain</th>\n",
              "      <td>0.0</td>\n",
              "      <td>0.0</td>\n",
              "      <td>1.0</td>\n",
              "      <td>0.0</td>\n",
              "      <td>0.0</td>\n",
              "    </tr>\n",
              "    <tr>\n",
              "      <th>france</th>\n",
              "      <td>1.0</td>\n",
              "      <td>0.0</td>\n",
              "      <td>0.0</td>\n",
              "      <td>0.0</td>\n",
              "      <td>0.0</td>\n",
              "    </tr>\n",
              "    <tr>\n",
              "      <th>germany</th>\n",
              "      <td>0.0</td>\n",
              "      <td>1.0</td>\n",
              "      <td>0.0</td>\n",
              "      <td>0.0</td>\n",
              "      <td>0.0</td>\n",
              "    </tr>\n",
              "    <tr>\n",
              "      <th>canada</th>\n",
              "      <td>1.0</td>\n",
              "      <td>0.0</td>\n",
              "      <td>1.0</td>\n",
              "      <td>0.0</td>\n",
              "      <td>0.0</td>\n",
              "    </tr>\n",
              "    <tr>\n",
              "      <th>Эллен Мирожник</th>\n",
              "      <td>0.0</td>\n",
              "      <td>0.0</td>\n",
              "      <td>0.0</td>\n",
              "      <td>0.0</td>\n",
              "      <td>0.0</td>\n",
              "    </tr>\n",
              "    <tr>\n",
              "      <th>Энн Рот</th>\n",
              "      <td>0.0</td>\n",
              "      <td>0.0</td>\n",
              "      <td>0.0</td>\n",
              "      <td>0.0</td>\n",
              "      <td>0.0</td>\n",
              "    </tr>\n",
              "    <tr>\n",
              "      <th>Стивен Спилберг</th>\n",
              "      <td>0.0</td>\n",
              "      <td>0.0</td>\n",
              "      <td>0.0</td>\n",
              "      <td>0.0</td>\n",
              "      <td>0.0</td>\n",
              "    </tr>\n",
              "    <tr>\n",
              "      <th>Такер Гейтс</th>\n",
              "      <td>0.0</td>\n",
              "      <td>0.0</td>\n",
              "      <td>0.0</td>\n",
              "      <td>0.0</td>\n",
              "      <td>0.0</td>\n",
              "    </tr>\n",
              "    <tr>\n",
              "      <th>Майкл Кан</th>\n",
              "      <td>0.0</td>\n",
              "      <td>0.0</td>\n",
              "      <td>0.0</td>\n",
              "      <td>0.0</td>\n",
              "      <td>0.0</td>\n",
              "    </tr>\n",
              "    <tr>\n",
              "      <th>Крис Гилл</th>\n",
              "      <td>0.0</td>\n",
              "      <td>0.0</td>\n",
              "      <td>0.0</td>\n",
              "      <td>0.0</td>\n",
              "      <td>0.0</td>\n",
              "    </tr>\n",
              "    <tr>\n",
              "      <th>Роджер Дикинс</th>\n",
              "      <td>0.0</td>\n",
              "      <td>0.0</td>\n",
              "      <td>0.0</td>\n",
              "      <td>0.0</td>\n",
              "      <td>0.0</td>\n",
              "    </tr>\n",
              "    <tr>\n",
              "      <th>Джим Дено</th>\n",
              "      <td>0.0</td>\n",
              "      <td>0.0</td>\n",
              "      <td>0.0</td>\n",
              "      <td>0.0</td>\n",
              "      <td>0.0</td>\n",
              "    </tr>\n",
              "    <tr>\n",
              "      <th>Харви Вайнштейн</th>\n",
              "      <td>0.0</td>\n",
              "      <td>0.0</td>\n",
              "      <td>0.0</td>\n",
              "      <td>0.0</td>\n",
              "      <td>0.0</td>\n",
              "    </tr>\n",
              "    <tr>\n",
              "      <th>Боб Вайнштейн</th>\n",
              "      <td>0.0</td>\n",
              "      <td>0.0</td>\n",
              "      <td>0.0</td>\n",
              "      <td>0.0</td>\n",
              "      <td>0.0</td>\n",
              "    </tr>\n",
              "    <tr>\n",
              "      <th>Арнон Милчен</th>\n",
              "      <td>0.0</td>\n",
              "      <td>0.0</td>\n",
              "      <td>0.0</td>\n",
              "      <td>0.0</td>\n",
              "      <td>0.0</td>\n",
              "    </tr>\n",
              "    <tr>\n",
              "      <th>Люк Бессон</th>\n",
              "      <td>0.0</td>\n",
              "      <td>0.0</td>\n",
              "      <td>0.0</td>\n",
              "      <td>0.0</td>\n",
              "      <td>0.0</td>\n",
              "    </tr>\n",
              "    <tr>\n",
              "      <th>Стэн Ли</th>\n",
              "      <td>0.0</td>\n",
              "      <td>0.0</td>\n",
              "      <td>0.0</td>\n",
              "      <td>0.0</td>\n",
              "      <td>0.0</td>\n",
              "    </tr>\n",
              "    <tr>\n",
              "      <th>age_access_type_0</th>\n",
              "      <td>0.0</td>\n",
              "      <td>0.0</td>\n",
              "      <td>0.0</td>\n",
              "      <td>0.0</td>\n",
              "      <td>0.0</td>\n",
              "    </tr>\n",
              "    <tr>\n",
              "      <th>age_access_type_6</th>\n",
              "      <td>0.0</td>\n",
              "      <td>0.0</td>\n",
              "      <td>0.0</td>\n",
              "      <td>0.0</td>\n",
              "      <td>0.0</td>\n",
              "    </tr>\n",
              "    <tr>\n",
              "      <th>age_access_type_12</th>\n",
              "      <td>1.0</td>\n",
              "      <td>0.0</td>\n",
              "      <td>0.0</td>\n",
              "      <td>0.0</td>\n",
              "      <td>0.0</td>\n",
              "    </tr>\n",
              "    <tr>\n",
              "      <th>age_access_type_16</th>\n",
              "      <td>0.0</td>\n",
              "      <td>1.0</td>\n",
              "      <td>1.0</td>\n",
              "      <td>0.0</td>\n",
              "      <td>1.0</td>\n",
              "    </tr>\n",
              "    <tr>\n",
              "      <th>age_access_type_18</th>\n",
              "      <td>0.0</td>\n",
              "      <td>0.0</td>\n",
              "      <td>0.0</td>\n",
              "      <td>1.0</td>\n",
              "      <td>0.0</td>\n",
              "    </tr>\n",
              "    <tr>\n",
              "      <th>type_MOVIE</th>\n",
              "      <td>1.0</td>\n",
              "      <td>1.0</td>\n",
              "      <td>1.0</td>\n",
              "      <td>1.0</td>\n",
              "      <td>1.0</td>\n",
              "    </tr>\n",
              "    <tr>\n",
              "      <th>type_MP_MOVIE</th>\n",
              "      <td>0.0</td>\n",
              "      <td>0.0</td>\n",
              "      <td>0.0</td>\n",
              "      <td>0.0</td>\n",
              "      <td>0.0</td>\n",
              "    </tr>\n",
              "    <tr>\n",
              "      <th>type_SERIAL</th>\n",
              "      <td>0.0</td>\n",
              "      <td>0.0</td>\n",
              "      <td>0.0</td>\n",
              "      <td>0.0</td>\n",
              "      <td>0.0</td>\n",
              "    </tr>\n",
              "  </tbody>\n",
              "</table>\n",
              "</div>\n",
              "      <button class=\"colab-df-convert\" onclick=\"convertToInteractive('df-4e7b7b75-9002-46e7-8e3c-c504766071a8')\"\n",
              "              title=\"Convert this dataframe to an interactive table.\"\n",
              "              style=\"display:none;\">\n",
              "        \n",
              "  <svg xmlns=\"http://www.w3.org/2000/svg\" height=\"24px\"viewBox=\"0 0 24 24\"\n",
              "       width=\"24px\">\n",
              "    <path d=\"M0 0h24v24H0V0z\" fill=\"none\"/>\n",
              "    <path d=\"M18.56 5.44l.94 2.06.94-2.06 2.06-.94-2.06-.94-.94-2.06-.94 2.06-2.06.94zm-11 1L8.5 8.5l.94-2.06 2.06-.94-2.06-.94L8.5 2.5l-.94 2.06-2.06.94zm10 10l.94 2.06.94-2.06 2.06-.94-2.06-.94-.94-2.06-.94 2.06-2.06.94z\"/><path d=\"M17.41 7.96l-1.37-1.37c-.4-.4-.92-.59-1.43-.59-.52 0-1.04.2-1.43.59L10.3 9.45l-7.72 7.72c-.78.78-.78 2.05 0 2.83L4 21.41c.39.39.9.59 1.41.59.51 0 1.02-.2 1.41-.59l7.78-7.78 2.81-2.81c.8-.78.8-2.07 0-2.86zM5.41 20L4 18.59l7.72-7.72 1.47 1.35L5.41 20z\"/>\n",
              "  </svg>\n",
              "      </button>\n",
              "      \n",
              "  <style>\n",
              "    .colab-df-container {\n",
              "      display:flex;\n",
              "      flex-wrap:wrap;\n",
              "      gap: 12px;\n",
              "    }\n",
              "\n",
              "    .colab-df-convert {\n",
              "      background-color: #E8F0FE;\n",
              "      border: none;\n",
              "      border-radius: 50%;\n",
              "      cursor: pointer;\n",
              "      display: none;\n",
              "      fill: #1967D2;\n",
              "      height: 32px;\n",
              "      padding: 0 0 0 0;\n",
              "      width: 32px;\n",
              "    }\n",
              "\n",
              "    .colab-df-convert:hover {\n",
              "      background-color: #E2EBFA;\n",
              "      box-shadow: 0px 1px 2px rgba(60, 64, 67, 0.3), 0px 1px 3px 1px rgba(60, 64, 67, 0.15);\n",
              "      fill: #174EA6;\n",
              "    }\n",
              "\n",
              "    [theme=dark] .colab-df-convert {\n",
              "      background-color: #3B4455;\n",
              "      fill: #D2E3FC;\n",
              "    }\n",
              "\n",
              "    [theme=dark] .colab-df-convert:hover {\n",
              "      background-color: #434B5C;\n",
              "      box-shadow: 0px 1px 3px 1px rgba(0, 0, 0, 0.15);\n",
              "      filter: drop-shadow(0px 1px 2px rgba(0, 0, 0, 0.3));\n",
              "      fill: #FFFFFF;\n",
              "    }\n",
              "  </style>\n",
              "\n",
              "      <script>\n",
              "        const buttonEl =\n",
              "          document.querySelector('#df-4e7b7b75-9002-46e7-8e3c-c504766071a8 button.colab-df-convert');\n",
              "        buttonEl.style.display =\n",
              "          google.colab.kernel.accessAllowed ? 'block' : 'none';\n",
              "\n",
              "        async function convertToInteractive(key) {\n",
              "          const element = document.querySelector('#df-4e7b7b75-9002-46e7-8e3c-c504766071a8');\n",
              "          const dataTable =\n",
              "            await google.colab.kernel.invokeFunction('convertToInteractive',\n",
              "                                                     [key], {});\n",
              "          if (!dataTable) return;\n",
              "\n",
              "          const docLinkHtml = 'Like what you see? Visit the ' +\n",
              "            '<a target=\"_blank\" href=https://colab.research.google.com/notebooks/data_table.ipynb>data table notebook</a>'\n",
              "            + ' to learn more about interactive tables.';\n",
              "          element.innerHTML = '';\n",
              "          dataTable['output_type'] = 'display_data';\n",
              "          await google.colab.output.renderOutput(dataTable, element);\n",
              "          const docLink = document.createElement('div');\n",
              "          docLink.innerHTML = docLinkHtml;\n",
              "          element.appendChild(docLink);\n",
              "        }\n",
              "      </script>\n",
              "    </div>\n",
              "  </div>\n",
              "  "
            ]
          },
          "metadata": {},
          "execution_count": 28
        }
      ],
      "source": [
        "train.head().T[-50:]"
      ]
    },
    {
      "cell_type": "markdown",
      "metadata": {
        "id": "Uh5SjPFmN6Ci"
      },
      "source": [
        "### Standartization"
      ]
    },
    {
      "cell_type": "code",
      "execution_count": 29,
      "metadata": {
        "id": "CbRA9NIsN6Ci"
      },
      "outputs": [],
      "source": [
        "# sc\n",
        "\n",
        "from sklearn.preprocessing import StandardScaler\n",
        "\n",
        "sc_cols = ['duration', 'BUDGET', 'MARKETING', 'RUS', 'USA', 'WORLD']\n",
        "\n",
        "sc=StandardScaler()\n",
        "sc_train = sc.fit_transform(train[sc_cols])\n",
        "\n",
        "sc_train = pd.DataFrame(sc_train,columns=sc_cols)\n",
        "train.drop(sc_cols, axis=1, inplace=True)\n",
        "train = pd.concat([train, sc_train],axis=1)\n",
        "\n",
        "# \n",
        "sc_test = sc.transform(test[sc_cols])\n",
        "\n",
        "sc_test = pd.DataFrame(sc_test,columns=sc_cols)\n",
        "test.drop(sc_cols, axis=1, inplace=True)\n",
        "\n",
        "test = pd.concat([test, sc_test],axis=1) \n",
        "\n"
      ]
    },
    {
      "cell_type": "code",
      "execution_count": 30,
      "metadata": {
        "colab": {
          "base_uri": "https://localhost:8080/",
          "height": 1000
        },
        "id": "uNZVolIlN6Cj",
        "outputId": "2e4b4acc-18c5-4881-e263-2776c2c81955"
      },
      "outputs": [
        {
          "output_type": "execute_result",
          "data": {
            "text/plain": [
              "                                            4         11        13        16  \\\n",
              "Adventure                                  1.0       1.0       0.0       0.0   \n",
              "Sci-Fi                                     0.0       1.0       0.0       1.0   \n",
              "Melodrama                                  0.0       0.0       0.0       0.0   \n",
              "Horror                                     0.0       0.0       0.0       0.0   \n",
              "9fa28b61-a257-4a3e-945b-a9ef76a146d6       0.0       0.0       0.0       0.0   \n",
              "Бернард Коллако                            0.0       0.0       0.0       0.0   \n",
              "Марк Фальво                                0.0       0.0       0.0       0.0   \n",
              "Джимми Стар                                0.0       0.0       0.0       0.0   \n",
              "Брюс Уиллис                                0.0       0.0       0.0       0.0   \n",
              "Роджер Бреннер                             0.0       0.0       0.0       0.0   \n",
              "Крис Уилсон                                0.0       0.0       0.0       0.0   \n",
              "Розмари Ховард                             0.0       0.0       0.0       0.0   \n",
              "Ласко Аткинс                               0.0       0.0       0.0       0.0   \n",
              "Кадролша Она Кароле                        0.0       0.0       0.0       0.0   \n",
              "Дэнни Трехо                                0.0       0.0       0.0       0.0   \n",
              "Джон Дебни                                 0.0       0.0       0.0       0.0   \n",
              "Джеймс Ньютон Ховард                       0.0       0.0       0.0       0.0   \n",
              "Марко Белтрами                             0.0       0.0       0.0       0.0   \n",
              "usa                                        0.0       1.0       1.0       1.0   \n",
              "great-britain                              0.0       0.0       1.0       0.0   \n",
              "france                                     1.0       0.0       0.0       0.0   \n",
              "germany                                    0.0       1.0       0.0       0.0   \n",
              "canada                                     1.0       0.0       1.0       0.0   \n",
              "Эллен Мирожник                             0.0       0.0       0.0       0.0   \n",
              "Энн Рот                                    0.0       0.0       0.0       0.0   \n",
              "Стивен Спилберг                            0.0       0.0       0.0       0.0   \n",
              "Такер Гейтс                                0.0       0.0       0.0       0.0   \n",
              "Майкл Кан                                  0.0       0.0       0.0       0.0   \n",
              "Крис Гилл                                  0.0       0.0       0.0       0.0   \n",
              "Роджер Дикинс                              0.0       0.0       0.0       0.0   \n",
              "Джим Дено                                  0.0       0.0       0.0       0.0   \n",
              "Харви Вайнштейн                            0.0       0.0       0.0       0.0   \n",
              "Боб Вайнштейн                              0.0       0.0       0.0       0.0   \n",
              "Арнон Милчен                               0.0       0.0       0.0       0.0   \n",
              "Люк Бессон                                 0.0       0.0       0.0       0.0   \n",
              "Стэн Ли                                    0.0       0.0       0.0       0.0   \n",
              "age_access_type_0                          0.0       0.0       0.0       0.0   \n",
              "age_access_type_6                          0.0       0.0       0.0       0.0   \n",
              "age_access_type_12                         1.0       0.0       0.0       0.0   \n",
              "age_access_type_16                         0.0       1.0       1.0       0.0   \n",
              "age_access_type_18                         0.0       0.0       0.0       1.0   \n",
              "type_MOVIE                                 1.0       1.0       1.0       1.0   \n",
              "type_MP_MOVIE                              0.0       0.0       0.0       0.0   \n",
              "type_SERIAL                                0.0       0.0       0.0       0.0   \n",
              "duration                             -0.190027 -0.207472 -0.222009 -0.200203   \n",
              "BUDGET                                0.310621 -0.048946 -0.648226 -0.248706   \n",
              "MARKETING                             0.617429 -0.584535       NaN       NaN   \n",
              "RUS                                        NaN       NaN -0.388761 -0.389114   \n",
              "USA                                  -0.072504 -0.324711  -0.41422 -0.218252   \n",
              "WORLD                                -0.116333 -0.304257 -0.353613 -0.147927   \n",
              "\n",
              "                                            19  \n",
              "Adventure                                  1.0  \n",
              "Sci-Fi                                     1.0  \n",
              "Melodrama                                  0.0  \n",
              "Horror                                     0.0  \n",
              "9fa28b61-a257-4a3e-945b-a9ef76a146d6       0.0  \n",
              "Бернард Коллако                            0.0  \n",
              "Марк Фальво                                0.0  \n",
              "Джимми Стар                                0.0  \n",
              "Брюс Уиллис                                0.0  \n",
              "Роджер Бреннер                             0.0  \n",
              "Крис Уилсон                                0.0  \n",
              "Розмари Ховард                             0.0  \n",
              "Ласко Аткинс                               0.0  \n",
              "Кадролша Она Кароле                        0.0  \n",
              "Дэнни Трехо                                0.0  \n",
              "Джон Дебни                                 0.0  \n",
              "Джеймс Ньютон Ховард                       0.0  \n",
              "Марко Белтрами                             0.0  \n",
              "usa                                        1.0  \n",
              "great-britain                              0.0  \n",
              "france                                     0.0  \n",
              "germany                                    0.0  \n",
              "canada                                     0.0  \n",
              "Эллен Мирожник                             0.0  \n",
              "Энн Рот                                    0.0  \n",
              "Стивен Спилберг                            0.0  \n",
              "Такер Гейтс                                0.0  \n",
              "Майкл Кан                                  0.0  \n",
              "Крис Гилл                                  0.0  \n",
              "Роджер Дикинс                              0.0  \n",
              "Джим Дено                                  0.0  \n",
              "Харви Вайнштейн                            0.0  \n",
              "Боб Вайнштейн                              0.0  \n",
              "Арнон Милчен                               0.0  \n",
              "Люк Бессон                                 0.0  \n",
              "Стэн Ли                                    0.0  \n",
              "age_access_type_0                          0.0  \n",
              "age_access_type_6                          0.0  \n",
              "age_access_type_12                         0.0  \n",
              "age_access_type_16                         1.0  \n",
              "age_access_type_18                         0.0  \n",
              "type_MOVIE                                 1.0  \n",
              "type_MP_MOVIE                              0.0  \n",
              "type_SERIAL                                0.0  \n",
              "duration                              -0.20311  \n",
              "BUDGET                               -0.488418  \n",
              "MARKETING                                  NaN  \n",
              "RUS                                  -0.474933  \n",
              "USA                                  -0.618554  \n",
              "WORLD                                -0.452443  "
            ],
            "text/html": [
              "\n",
              "  <div id=\"df-146d881e-b2d9-4712-b625-1bf8af6a3fe7\">\n",
              "    <div class=\"colab-df-container\">\n",
              "      <div>\n",
              "<style scoped>\n",
              "    .dataframe tbody tr th:only-of-type {\n",
              "        vertical-align: middle;\n",
              "    }\n",
              "\n",
              "    .dataframe tbody tr th {\n",
              "        vertical-align: top;\n",
              "    }\n",
              "\n",
              "    .dataframe thead th {\n",
              "        text-align: right;\n",
              "    }\n",
              "</style>\n",
              "<table border=\"1\" class=\"dataframe\">\n",
              "  <thead>\n",
              "    <tr style=\"text-align: right;\">\n",
              "      <th></th>\n",
              "      <th>4</th>\n",
              "      <th>11</th>\n",
              "      <th>13</th>\n",
              "      <th>16</th>\n",
              "      <th>19</th>\n",
              "    </tr>\n",
              "  </thead>\n",
              "  <tbody>\n",
              "    <tr>\n",
              "      <th>Adventure</th>\n",
              "      <td>1.0</td>\n",
              "      <td>1.0</td>\n",
              "      <td>0.0</td>\n",
              "      <td>0.0</td>\n",
              "      <td>1.0</td>\n",
              "    </tr>\n",
              "    <tr>\n",
              "      <th>Sci-Fi</th>\n",
              "      <td>0.0</td>\n",
              "      <td>1.0</td>\n",
              "      <td>0.0</td>\n",
              "      <td>1.0</td>\n",
              "      <td>1.0</td>\n",
              "    </tr>\n",
              "    <tr>\n",
              "      <th>Melodrama</th>\n",
              "      <td>0.0</td>\n",
              "      <td>0.0</td>\n",
              "      <td>0.0</td>\n",
              "      <td>0.0</td>\n",
              "      <td>0.0</td>\n",
              "    </tr>\n",
              "    <tr>\n",
              "      <th>Horror</th>\n",
              "      <td>0.0</td>\n",
              "      <td>0.0</td>\n",
              "      <td>0.0</td>\n",
              "      <td>0.0</td>\n",
              "      <td>0.0</td>\n",
              "    </tr>\n",
              "    <tr>\n",
              "      <th>9fa28b61-a257-4a3e-945b-a9ef76a146d6</th>\n",
              "      <td>0.0</td>\n",
              "      <td>0.0</td>\n",
              "      <td>0.0</td>\n",
              "      <td>0.0</td>\n",
              "      <td>0.0</td>\n",
              "    </tr>\n",
              "    <tr>\n",
              "      <th>Бернард Коллако</th>\n",
              "      <td>0.0</td>\n",
              "      <td>0.0</td>\n",
              "      <td>0.0</td>\n",
              "      <td>0.0</td>\n",
              "      <td>0.0</td>\n",
              "    </tr>\n",
              "    <tr>\n",
              "      <th>Марк Фальво</th>\n",
              "      <td>0.0</td>\n",
              "      <td>0.0</td>\n",
              "      <td>0.0</td>\n",
              "      <td>0.0</td>\n",
              "      <td>0.0</td>\n",
              "    </tr>\n",
              "    <tr>\n",
              "      <th>Джимми Стар</th>\n",
              "      <td>0.0</td>\n",
              "      <td>0.0</td>\n",
              "      <td>0.0</td>\n",
              "      <td>0.0</td>\n",
              "      <td>0.0</td>\n",
              "    </tr>\n",
              "    <tr>\n",
              "      <th>Брюс Уиллис</th>\n",
              "      <td>0.0</td>\n",
              "      <td>0.0</td>\n",
              "      <td>0.0</td>\n",
              "      <td>0.0</td>\n",
              "      <td>0.0</td>\n",
              "    </tr>\n",
              "    <tr>\n",
              "      <th>Роджер Бреннер</th>\n",
              "      <td>0.0</td>\n",
              "      <td>0.0</td>\n",
              "      <td>0.0</td>\n",
              "      <td>0.0</td>\n",
              "      <td>0.0</td>\n",
              "    </tr>\n",
              "    <tr>\n",
              "      <th>Крис Уилсон</th>\n",
              "      <td>0.0</td>\n",
              "      <td>0.0</td>\n",
              "      <td>0.0</td>\n",
              "      <td>0.0</td>\n",
              "      <td>0.0</td>\n",
              "    </tr>\n",
              "    <tr>\n",
              "      <th>Розмари Ховард</th>\n",
              "      <td>0.0</td>\n",
              "      <td>0.0</td>\n",
              "      <td>0.0</td>\n",
              "      <td>0.0</td>\n",
              "      <td>0.0</td>\n",
              "    </tr>\n",
              "    <tr>\n",
              "      <th>Ласко Аткинс</th>\n",
              "      <td>0.0</td>\n",
              "      <td>0.0</td>\n",
              "      <td>0.0</td>\n",
              "      <td>0.0</td>\n",
              "      <td>0.0</td>\n",
              "    </tr>\n",
              "    <tr>\n",
              "      <th>Кадролша Она Кароле</th>\n",
              "      <td>0.0</td>\n",
              "      <td>0.0</td>\n",
              "      <td>0.0</td>\n",
              "      <td>0.0</td>\n",
              "      <td>0.0</td>\n",
              "    </tr>\n",
              "    <tr>\n",
              "      <th>Дэнни Трехо</th>\n",
              "      <td>0.0</td>\n",
              "      <td>0.0</td>\n",
              "      <td>0.0</td>\n",
              "      <td>0.0</td>\n",
              "      <td>0.0</td>\n",
              "    </tr>\n",
              "    <tr>\n",
              "      <th>Джон Дебни</th>\n",
              "      <td>0.0</td>\n",
              "      <td>0.0</td>\n",
              "      <td>0.0</td>\n",
              "      <td>0.0</td>\n",
              "      <td>0.0</td>\n",
              "    </tr>\n",
              "    <tr>\n",
              "      <th>Джеймс Ньютон Ховард</th>\n",
              "      <td>0.0</td>\n",
              "      <td>0.0</td>\n",
              "      <td>0.0</td>\n",
              "      <td>0.0</td>\n",
              "      <td>0.0</td>\n",
              "    </tr>\n",
              "    <tr>\n",
              "      <th>Марко Белтрами</th>\n",
              "      <td>0.0</td>\n",
              "      <td>0.0</td>\n",
              "      <td>0.0</td>\n",
              "      <td>0.0</td>\n",
              "      <td>0.0</td>\n",
              "    </tr>\n",
              "    <tr>\n",
              "      <th>usa</th>\n",
              "      <td>0.0</td>\n",
              "      <td>1.0</td>\n",
              "      <td>1.0</td>\n",
              "      <td>1.0</td>\n",
              "      <td>1.0</td>\n",
              "    </tr>\n",
              "    <tr>\n",
              "      <th>great-britain</th>\n",
              "      <td>0.0</td>\n",
              "      <td>0.0</td>\n",
              "      <td>1.0</td>\n",
              "      <td>0.0</td>\n",
              "      <td>0.0</td>\n",
              "    </tr>\n",
              "    <tr>\n",
              "      <th>france</th>\n",
              "      <td>1.0</td>\n",
              "      <td>0.0</td>\n",
              "      <td>0.0</td>\n",
              "      <td>0.0</td>\n",
              "      <td>0.0</td>\n",
              "    </tr>\n",
              "    <tr>\n",
              "      <th>germany</th>\n",
              "      <td>0.0</td>\n",
              "      <td>1.0</td>\n",
              "      <td>0.0</td>\n",
              "      <td>0.0</td>\n",
              "      <td>0.0</td>\n",
              "    </tr>\n",
              "    <tr>\n",
              "      <th>canada</th>\n",
              "      <td>1.0</td>\n",
              "      <td>0.0</td>\n",
              "      <td>1.0</td>\n",
              "      <td>0.0</td>\n",
              "      <td>0.0</td>\n",
              "    </tr>\n",
              "    <tr>\n",
              "      <th>Эллен Мирожник</th>\n",
              "      <td>0.0</td>\n",
              "      <td>0.0</td>\n",
              "      <td>0.0</td>\n",
              "      <td>0.0</td>\n",
              "      <td>0.0</td>\n",
              "    </tr>\n",
              "    <tr>\n",
              "      <th>Энн Рот</th>\n",
              "      <td>0.0</td>\n",
              "      <td>0.0</td>\n",
              "      <td>0.0</td>\n",
              "      <td>0.0</td>\n",
              "      <td>0.0</td>\n",
              "    </tr>\n",
              "    <tr>\n",
              "      <th>Стивен Спилберг</th>\n",
              "      <td>0.0</td>\n",
              "      <td>0.0</td>\n",
              "      <td>0.0</td>\n",
              "      <td>0.0</td>\n",
              "      <td>0.0</td>\n",
              "    </tr>\n",
              "    <tr>\n",
              "      <th>Такер Гейтс</th>\n",
              "      <td>0.0</td>\n",
              "      <td>0.0</td>\n",
              "      <td>0.0</td>\n",
              "      <td>0.0</td>\n",
              "      <td>0.0</td>\n",
              "    </tr>\n",
              "    <tr>\n",
              "      <th>Майкл Кан</th>\n",
              "      <td>0.0</td>\n",
              "      <td>0.0</td>\n",
              "      <td>0.0</td>\n",
              "      <td>0.0</td>\n",
              "      <td>0.0</td>\n",
              "    </tr>\n",
              "    <tr>\n",
              "      <th>Крис Гилл</th>\n",
              "      <td>0.0</td>\n",
              "      <td>0.0</td>\n",
              "      <td>0.0</td>\n",
              "      <td>0.0</td>\n",
              "      <td>0.0</td>\n",
              "    </tr>\n",
              "    <tr>\n",
              "      <th>Роджер Дикинс</th>\n",
              "      <td>0.0</td>\n",
              "      <td>0.0</td>\n",
              "      <td>0.0</td>\n",
              "      <td>0.0</td>\n",
              "      <td>0.0</td>\n",
              "    </tr>\n",
              "    <tr>\n",
              "      <th>Джим Дено</th>\n",
              "      <td>0.0</td>\n",
              "      <td>0.0</td>\n",
              "      <td>0.0</td>\n",
              "      <td>0.0</td>\n",
              "      <td>0.0</td>\n",
              "    </tr>\n",
              "    <tr>\n",
              "      <th>Харви Вайнштейн</th>\n",
              "      <td>0.0</td>\n",
              "      <td>0.0</td>\n",
              "      <td>0.0</td>\n",
              "      <td>0.0</td>\n",
              "      <td>0.0</td>\n",
              "    </tr>\n",
              "    <tr>\n",
              "      <th>Боб Вайнштейн</th>\n",
              "      <td>0.0</td>\n",
              "      <td>0.0</td>\n",
              "      <td>0.0</td>\n",
              "      <td>0.0</td>\n",
              "      <td>0.0</td>\n",
              "    </tr>\n",
              "    <tr>\n",
              "      <th>Арнон Милчен</th>\n",
              "      <td>0.0</td>\n",
              "      <td>0.0</td>\n",
              "      <td>0.0</td>\n",
              "      <td>0.0</td>\n",
              "      <td>0.0</td>\n",
              "    </tr>\n",
              "    <tr>\n",
              "      <th>Люк Бессон</th>\n",
              "      <td>0.0</td>\n",
              "      <td>0.0</td>\n",
              "      <td>0.0</td>\n",
              "      <td>0.0</td>\n",
              "      <td>0.0</td>\n",
              "    </tr>\n",
              "    <tr>\n",
              "      <th>Стэн Ли</th>\n",
              "      <td>0.0</td>\n",
              "      <td>0.0</td>\n",
              "      <td>0.0</td>\n",
              "      <td>0.0</td>\n",
              "      <td>0.0</td>\n",
              "    </tr>\n",
              "    <tr>\n",
              "      <th>age_access_type_0</th>\n",
              "      <td>0.0</td>\n",
              "      <td>0.0</td>\n",
              "      <td>0.0</td>\n",
              "      <td>0.0</td>\n",
              "      <td>0.0</td>\n",
              "    </tr>\n",
              "    <tr>\n",
              "      <th>age_access_type_6</th>\n",
              "      <td>0.0</td>\n",
              "      <td>0.0</td>\n",
              "      <td>0.0</td>\n",
              "      <td>0.0</td>\n",
              "      <td>0.0</td>\n",
              "    </tr>\n",
              "    <tr>\n",
              "      <th>age_access_type_12</th>\n",
              "      <td>1.0</td>\n",
              "      <td>0.0</td>\n",
              "      <td>0.0</td>\n",
              "      <td>0.0</td>\n",
              "      <td>0.0</td>\n",
              "    </tr>\n",
              "    <tr>\n",
              "      <th>age_access_type_16</th>\n",
              "      <td>0.0</td>\n",
              "      <td>1.0</td>\n",
              "      <td>1.0</td>\n",
              "      <td>0.0</td>\n",
              "      <td>1.0</td>\n",
              "    </tr>\n",
              "    <tr>\n",
              "      <th>age_access_type_18</th>\n",
              "      <td>0.0</td>\n",
              "      <td>0.0</td>\n",
              "      <td>0.0</td>\n",
              "      <td>1.0</td>\n",
              "      <td>0.0</td>\n",
              "    </tr>\n",
              "    <tr>\n",
              "      <th>type_MOVIE</th>\n",
              "      <td>1.0</td>\n",
              "      <td>1.0</td>\n",
              "      <td>1.0</td>\n",
              "      <td>1.0</td>\n",
              "      <td>1.0</td>\n",
              "    </tr>\n",
              "    <tr>\n",
              "      <th>type_MP_MOVIE</th>\n",
              "      <td>0.0</td>\n",
              "      <td>0.0</td>\n",
              "      <td>0.0</td>\n",
              "      <td>0.0</td>\n",
              "      <td>0.0</td>\n",
              "    </tr>\n",
              "    <tr>\n",
              "      <th>type_SERIAL</th>\n",
              "      <td>0.0</td>\n",
              "      <td>0.0</td>\n",
              "      <td>0.0</td>\n",
              "      <td>0.0</td>\n",
              "      <td>0.0</td>\n",
              "    </tr>\n",
              "    <tr>\n",
              "      <th>duration</th>\n",
              "      <td>-0.190027</td>\n",
              "      <td>-0.207472</td>\n",
              "      <td>-0.222009</td>\n",
              "      <td>-0.200203</td>\n",
              "      <td>-0.20311</td>\n",
              "    </tr>\n",
              "    <tr>\n",
              "      <th>BUDGET</th>\n",
              "      <td>0.310621</td>\n",
              "      <td>-0.048946</td>\n",
              "      <td>-0.648226</td>\n",
              "      <td>-0.248706</td>\n",
              "      <td>-0.488418</td>\n",
              "    </tr>\n",
              "    <tr>\n",
              "      <th>MARKETING</th>\n",
              "      <td>0.617429</td>\n",
              "      <td>-0.584535</td>\n",
              "      <td>NaN</td>\n",
              "      <td>NaN</td>\n",
              "      <td>NaN</td>\n",
              "    </tr>\n",
              "    <tr>\n",
              "      <th>RUS</th>\n",
              "      <td>NaN</td>\n",
              "      <td>NaN</td>\n",
              "      <td>-0.388761</td>\n",
              "      <td>-0.389114</td>\n",
              "      <td>-0.474933</td>\n",
              "    </tr>\n",
              "    <tr>\n",
              "      <th>USA</th>\n",
              "      <td>-0.072504</td>\n",
              "      <td>-0.324711</td>\n",
              "      <td>-0.41422</td>\n",
              "      <td>-0.218252</td>\n",
              "      <td>-0.618554</td>\n",
              "    </tr>\n",
              "    <tr>\n",
              "      <th>WORLD</th>\n",
              "      <td>-0.116333</td>\n",
              "      <td>-0.304257</td>\n",
              "      <td>-0.353613</td>\n",
              "      <td>-0.147927</td>\n",
              "      <td>-0.452443</td>\n",
              "    </tr>\n",
              "  </tbody>\n",
              "</table>\n",
              "</div>\n",
              "      <button class=\"colab-df-convert\" onclick=\"convertToInteractive('df-146d881e-b2d9-4712-b625-1bf8af6a3fe7')\"\n",
              "              title=\"Convert this dataframe to an interactive table.\"\n",
              "              style=\"display:none;\">\n",
              "        \n",
              "  <svg xmlns=\"http://www.w3.org/2000/svg\" height=\"24px\"viewBox=\"0 0 24 24\"\n",
              "       width=\"24px\">\n",
              "    <path d=\"M0 0h24v24H0V0z\" fill=\"none\"/>\n",
              "    <path d=\"M18.56 5.44l.94 2.06.94-2.06 2.06-.94-2.06-.94-.94-2.06-.94 2.06-2.06.94zm-11 1L8.5 8.5l.94-2.06 2.06-.94-2.06-.94L8.5 2.5l-.94 2.06-2.06.94zm10 10l.94 2.06.94-2.06 2.06-.94-2.06-.94-.94-2.06-.94 2.06-2.06.94z\"/><path d=\"M17.41 7.96l-1.37-1.37c-.4-.4-.92-.59-1.43-.59-.52 0-1.04.2-1.43.59L10.3 9.45l-7.72 7.72c-.78.78-.78 2.05 0 2.83L4 21.41c.39.39.9.59 1.41.59.51 0 1.02-.2 1.41-.59l7.78-7.78 2.81-2.81c.8-.78.8-2.07 0-2.86zM5.41 20L4 18.59l7.72-7.72 1.47 1.35L5.41 20z\"/>\n",
              "  </svg>\n",
              "      </button>\n",
              "      \n",
              "  <style>\n",
              "    .colab-df-container {\n",
              "      display:flex;\n",
              "      flex-wrap:wrap;\n",
              "      gap: 12px;\n",
              "    }\n",
              "\n",
              "    .colab-df-convert {\n",
              "      background-color: #E8F0FE;\n",
              "      border: none;\n",
              "      border-radius: 50%;\n",
              "      cursor: pointer;\n",
              "      display: none;\n",
              "      fill: #1967D2;\n",
              "      height: 32px;\n",
              "      padding: 0 0 0 0;\n",
              "      width: 32px;\n",
              "    }\n",
              "\n",
              "    .colab-df-convert:hover {\n",
              "      background-color: #E2EBFA;\n",
              "      box-shadow: 0px 1px 2px rgba(60, 64, 67, 0.3), 0px 1px 3px 1px rgba(60, 64, 67, 0.15);\n",
              "      fill: #174EA6;\n",
              "    }\n",
              "\n",
              "    [theme=dark] .colab-df-convert {\n",
              "      background-color: #3B4455;\n",
              "      fill: #D2E3FC;\n",
              "    }\n",
              "\n",
              "    [theme=dark] .colab-df-convert:hover {\n",
              "      background-color: #434B5C;\n",
              "      box-shadow: 0px 1px 3px 1px rgba(0, 0, 0, 0.15);\n",
              "      filter: drop-shadow(0px 1px 2px rgba(0, 0, 0, 0.3));\n",
              "      fill: #FFFFFF;\n",
              "    }\n",
              "  </style>\n",
              "\n",
              "      <script>\n",
              "        const buttonEl =\n",
              "          document.querySelector('#df-146d881e-b2d9-4712-b625-1bf8af6a3fe7 button.colab-df-convert');\n",
              "        buttonEl.style.display =\n",
              "          google.colab.kernel.accessAllowed ? 'block' : 'none';\n",
              "\n",
              "        async function convertToInteractive(key) {\n",
              "          const element = document.querySelector('#df-146d881e-b2d9-4712-b625-1bf8af6a3fe7');\n",
              "          const dataTable =\n",
              "            await google.colab.kernel.invokeFunction('convertToInteractive',\n",
              "                                                     [key], {});\n",
              "          if (!dataTable) return;\n",
              "\n",
              "          const docLinkHtml = 'Like what you see? Visit the ' +\n",
              "            '<a target=\"_blank\" href=https://colab.research.google.com/notebooks/data_table.ipynb>data table notebook</a>'\n",
              "            + ' to learn more about interactive tables.';\n",
              "          element.innerHTML = '';\n",
              "          dataTable['output_type'] = 'display_data';\n",
              "          await google.colab.output.renderOutput(dataTable, element);\n",
              "          const docLink = document.createElement('div');\n",
              "          docLink.innerHTML = docLinkHtml;\n",
              "          element.appendChild(docLink);\n",
              "        }\n",
              "      </script>\n",
              "    </div>\n",
              "  </div>\n",
              "  "
            ]
          },
          "metadata": {},
          "execution_count": 30
        }
      ],
      "source": [
        "train.head().T[-50:]"
      ]
    },
    {
      "cell_type": "code",
      "execution_count": 31,
      "metadata": {
        "id": "saIfy91LN6Cj"
      },
      "outputs": [],
      "source": [
        "fls = None \n",
        "for root_dir, cur_dir, files in os.walk(r'/content/drive/My Drive/Diploma/CODE/covers/'):\n",
        "    fls = files\n",
        "    "
      ]
    },
    {
      "cell_type": "code",
      "source": [
        "train_pr = train[train['img_name'].isin(fls)]"
      ],
      "metadata": {
        "id": "0BkIvTdtARwQ"
      },
      "execution_count": 32,
      "outputs": []
    },
    {
      "cell_type": "code",
      "source": [
        "tst_fls = None \n",
        "for root_dir, cur_dir, files in os.walk(r'/content/drive/My Drive/Diploma/CODE/covers/'):\n",
        "    tst_fls = files"
      ],
      "metadata": {
        "id": "VTb6HrMjAWCP"
      },
      "execution_count": 33,
      "outputs": []
    },
    {
      "cell_type": "code",
      "source": [
        "test_pr = test[test['img_name'].isin(tst_fls)]"
      ],
      "metadata": {
        "id": "YI0ztkRoAbkE"
      },
      "execution_count": 34,
      "outputs": []
    },
    {
      "cell_type": "code",
      "execution_count": 35,
      "metadata": {
        "id": "cCDwqbtsN6Cj"
      },
      "outputs": [],
      "source": [
        "# fls = None \n",
        "# for root_dir, cur_dir, files in os.walk(r'/content/drive/My Drive/Diploma/CODE/train_cvrs/'):\n",
        "#     fls = files\n",
        "    \n",
        "# len(fls)"
      ]
    },
    {
      "cell_type": "code",
      "execution_count": 36,
      "metadata": {
        "id": "wtSvfGz9N6Cj"
      },
      "outputs": [],
      "source": [
        "# print(train.shape)\n",
        "# train_pr = train[train['img_name'].isin(fls)]\n",
        "# train_pr.shape"
      ]
    },
    {
      "cell_type": "code",
      "execution_count": 37,
      "metadata": {
        "id": "Lob9qoHON6Cj"
      },
      "outputs": [],
      "source": [
        "# tst_fls = None \n",
        "# for root_dir, cur_dir, files in os.walk(r'/content/drive/My Drive/Diploma/CODE/test_covers/'):\n",
        "#     tst_fls = files"
      ]
    },
    {
      "cell_type": "code",
      "execution_count": 38,
      "metadata": {
        "id": "9e1nWVb3N6Cj"
      },
      "outputs": [],
      "source": [
        "# len(tst_fls)"
      ]
    },
    {
      "cell_type": "code",
      "execution_count": 39,
      "metadata": {
        "id": "RFR1K4DpN6Cj"
      },
      "outputs": [],
      "source": [
        "# print(test.shape)\n",
        "# test_pr = test[test['img_name'].isin(tst_fls)]\n",
        "# test_pr.shape"
      ]
    },
    {
      "cell_type": "markdown",
      "metadata": {
        "id": "iPJt0dU7N6Ck"
      },
      "source": [
        "**Save preproc dfs**"
      ]
    },
    {
      "cell_type": "code",
      "execution_count": 40,
      "metadata": {
        "id": "ZAcuyfGBN6Ck"
      },
      "outputs": [],
      "source": [
        "\n",
        "\n",
        "# with open('/root/User/_DIPLOMA/data/preproc_dfs/train_pr_oscr_ohe_new.pkl', 'wb') as f:\n",
        "#     pickle.dump(train_pr, f)\n",
        "\n",
        "# with open('/root/User/_DIPLOMA/data/preproc_dfs/test_pr_oscr_ohe_new.pkl', 'wb') as f:\n",
        "#     pickle.dump(test_pr, f)"
      ]
    },
    {
      "cell_type": "markdown",
      "metadata": {
        "id": "AbUaMw9eN6Ck"
      },
      "source": [
        "**Load datasets**"
      ]
    },
    {
      "cell_type": "code",
      "execution_count": 41,
      "metadata": {
        "id": "bJHvyRqCN6Ck"
      },
      "outputs": [],
      "source": [
        "# with open('/root/User/_DIPLOMA/data/preproc_dfs/train_pr_oscr_ohe_new.pkl', 'rb') as f:\n",
        "#     train_pr = pickle.load(f, encoding='utf-8')"
      ]
    },
    {
      "cell_type": "code",
      "execution_count": 42,
      "metadata": {
        "id": "6WTj5p18N6Ck"
      },
      "outputs": [],
      "source": [
        "# with open('/root/User/_DIPLOMA/data/preproc_dfs/test_pr_oscr_ohe_new.pkl', 'rb') as f:\n",
        "#     test_pr = pickle.load(f, encoding='utf-8')"
      ]
    },
    {
      "cell_type": "code",
      "execution_count": 42,
      "metadata": {
        "id": "tzuGbAtHN6Ck"
      },
      "outputs": [],
      "source": []
    },
    {
      "cell_type": "code",
      "execution_count": 36,
      "metadata": {
        "colab": {
          "base_uri": "https://localhost:8080/",
          "height": 424
        },
        "id": "5X9k9O64N6Ck",
        "outputId": "7cc99287-614e-4abb-b521-9bfa88c512cf"
      },
      "outputs": [
        {
          "output_type": "execute_result",
          "data": {
            "text/plain": [
              "                          4         5         13        26        46\n",
              "rating              9.282869  7.720848    8.9459  8.124109  8.626496\n",
              "has_oscar_actor          0.0       0.0       0.0       0.0       0.0\n",
              "has_oscar_composer       0.0       0.0       0.0       0.0       0.0\n",
              "has_oscar_design         0.0       0.0       0.0       0.0       0.0\n",
              "has_oscar_director       0.0       0.0       0.0       0.0       0.0\n",
              "...                      ...       ...       ...       ...       ...\n",
              "BUDGET              -0.72813       NaN       NaN       NaN       NaN\n",
              "MARKETING                NaN       NaN       NaN       NaN       NaN\n",
              "RUS                      NaN       NaN -0.369808       NaN       NaN\n",
              "USA                      NaN  -0.62073 -0.605231       NaN       NaN\n",
              "WORLD                    NaN -0.476061 -0.450447 -0.476218       NaN\n",
              "\n",
              "[68 rows x 5 columns]"
            ],
            "text/html": [
              "\n",
              "  <div id=\"df-d5ea7862-0fb6-4e36-bc8a-bf857d96d3ed\">\n",
              "    <div class=\"colab-df-container\">\n",
              "      <div>\n",
              "<style scoped>\n",
              "    .dataframe tbody tr th:only-of-type {\n",
              "        vertical-align: middle;\n",
              "    }\n",
              "\n",
              "    .dataframe tbody tr th {\n",
              "        vertical-align: top;\n",
              "    }\n",
              "\n",
              "    .dataframe thead th {\n",
              "        text-align: right;\n",
              "    }\n",
              "</style>\n",
              "<table border=\"1\" class=\"dataframe\">\n",
              "  <thead>\n",
              "    <tr style=\"text-align: right;\">\n",
              "      <th></th>\n",
              "      <th>4</th>\n",
              "      <th>5</th>\n",
              "      <th>13</th>\n",
              "      <th>26</th>\n",
              "      <th>46</th>\n",
              "    </tr>\n",
              "  </thead>\n",
              "  <tbody>\n",
              "    <tr>\n",
              "      <th>rating</th>\n",
              "      <td>9.282869</td>\n",
              "      <td>7.720848</td>\n",
              "      <td>8.9459</td>\n",
              "      <td>8.124109</td>\n",
              "      <td>8.626496</td>\n",
              "    </tr>\n",
              "    <tr>\n",
              "      <th>has_oscar_actor</th>\n",
              "      <td>0.0</td>\n",
              "      <td>0.0</td>\n",
              "      <td>0.0</td>\n",
              "      <td>0.0</td>\n",
              "      <td>0.0</td>\n",
              "    </tr>\n",
              "    <tr>\n",
              "      <th>has_oscar_composer</th>\n",
              "      <td>0.0</td>\n",
              "      <td>0.0</td>\n",
              "      <td>0.0</td>\n",
              "      <td>0.0</td>\n",
              "      <td>0.0</td>\n",
              "    </tr>\n",
              "    <tr>\n",
              "      <th>has_oscar_design</th>\n",
              "      <td>0.0</td>\n",
              "      <td>0.0</td>\n",
              "      <td>0.0</td>\n",
              "      <td>0.0</td>\n",
              "      <td>0.0</td>\n",
              "    </tr>\n",
              "    <tr>\n",
              "      <th>has_oscar_director</th>\n",
              "      <td>0.0</td>\n",
              "      <td>0.0</td>\n",
              "      <td>0.0</td>\n",
              "      <td>0.0</td>\n",
              "      <td>0.0</td>\n",
              "    </tr>\n",
              "    <tr>\n",
              "      <th>...</th>\n",
              "      <td>...</td>\n",
              "      <td>...</td>\n",
              "      <td>...</td>\n",
              "      <td>...</td>\n",
              "      <td>...</td>\n",
              "    </tr>\n",
              "    <tr>\n",
              "      <th>BUDGET</th>\n",
              "      <td>-0.72813</td>\n",
              "      <td>NaN</td>\n",
              "      <td>NaN</td>\n",
              "      <td>NaN</td>\n",
              "      <td>NaN</td>\n",
              "    </tr>\n",
              "    <tr>\n",
              "      <th>MARKETING</th>\n",
              "      <td>NaN</td>\n",
              "      <td>NaN</td>\n",
              "      <td>NaN</td>\n",
              "      <td>NaN</td>\n",
              "      <td>NaN</td>\n",
              "    </tr>\n",
              "    <tr>\n",
              "      <th>RUS</th>\n",
              "      <td>NaN</td>\n",
              "      <td>NaN</td>\n",
              "      <td>-0.369808</td>\n",
              "      <td>NaN</td>\n",
              "      <td>NaN</td>\n",
              "    </tr>\n",
              "    <tr>\n",
              "      <th>USA</th>\n",
              "      <td>NaN</td>\n",
              "      <td>-0.62073</td>\n",
              "      <td>-0.605231</td>\n",
              "      <td>NaN</td>\n",
              "      <td>NaN</td>\n",
              "    </tr>\n",
              "    <tr>\n",
              "      <th>WORLD</th>\n",
              "      <td>NaN</td>\n",
              "      <td>-0.476061</td>\n",
              "      <td>-0.450447</td>\n",
              "      <td>-0.476218</td>\n",
              "      <td>NaN</td>\n",
              "    </tr>\n",
              "  </tbody>\n",
              "</table>\n",
              "<p>68 rows × 5 columns</p>\n",
              "</div>\n",
              "      <button class=\"colab-df-convert\" onclick=\"convertToInteractive('df-d5ea7862-0fb6-4e36-bc8a-bf857d96d3ed')\"\n",
              "              title=\"Convert this dataframe to an interactive table.\"\n",
              "              style=\"display:none;\">\n",
              "        \n",
              "  <svg xmlns=\"http://www.w3.org/2000/svg\" height=\"24px\"viewBox=\"0 0 24 24\"\n",
              "       width=\"24px\">\n",
              "    <path d=\"M0 0h24v24H0V0z\" fill=\"none\"/>\n",
              "    <path d=\"M18.56 5.44l.94 2.06.94-2.06 2.06-.94-2.06-.94-.94-2.06-.94 2.06-2.06.94zm-11 1L8.5 8.5l.94-2.06 2.06-.94-2.06-.94L8.5 2.5l-.94 2.06-2.06.94zm10 10l.94 2.06.94-2.06 2.06-.94-2.06-.94-.94-2.06-.94 2.06-2.06.94z\"/><path d=\"M17.41 7.96l-1.37-1.37c-.4-.4-.92-.59-1.43-.59-.52 0-1.04.2-1.43.59L10.3 9.45l-7.72 7.72c-.78.78-.78 2.05 0 2.83L4 21.41c.39.39.9.59 1.41.59.51 0 1.02-.2 1.41-.59l7.78-7.78 2.81-2.81c.8-.78.8-2.07 0-2.86zM5.41 20L4 18.59l7.72-7.72 1.47 1.35L5.41 20z\"/>\n",
              "  </svg>\n",
              "      </button>\n",
              "      \n",
              "  <style>\n",
              "    .colab-df-container {\n",
              "      display:flex;\n",
              "      flex-wrap:wrap;\n",
              "      gap: 12px;\n",
              "    }\n",
              "\n",
              "    .colab-df-convert {\n",
              "      background-color: #E8F0FE;\n",
              "      border: none;\n",
              "      border-radius: 50%;\n",
              "      cursor: pointer;\n",
              "      display: none;\n",
              "      fill: #1967D2;\n",
              "      height: 32px;\n",
              "      padding: 0 0 0 0;\n",
              "      width: 32px;\n",
              "    }\n",
              "\n",
              "    .colab-df-convert:hover {\n",
              "      background-color: #E2EBFA;\n",
              "      box-shadow: 0px 1px 2px rgba(60, 64, 67, 0.3), 0px 1px 3px 1px rgba(60, 64, 67, 0.15);\n",
              "      fill: #174EA6;\n",
              "    }\n",
              "\n",
              "    [theme=dark] .colab-df-convert {\n",
              "      background-color: #3B4455;\n",
              "      fill: #D2E3FC;\n",
              "    }\n",
              "\n",
              "    [theme=dark] .colab-df-convert:hover {\n",
              "      background-color: #434B5C;\n",
              "      box-shadow: 0px 1px 3px 1px rgba(0, 0, 0, 0.15);\n",
              "      filter: drop-shadow(0px 1px 2px rgba(0, 0, 0, 0.3));\n",
              "      fill: #FFFFFF;\n",
              "    }\n",
              "  </style>\n",
              "\n",
              "      <script>\n",
              "        const buttonEl =\n",
              "          document.querySelector('#df-d5ea7862-0fb6-4e36-bc8a-bf857d96d3ed button.colab-df-convert');\n",
              "        buttonEl.style.display =\n",
              "          google.colab.kernel.accessAllowed ? 'block' : 'none';\n",
              "\n",
              "        async function convertToInteractive(key) {\n",
              "          const element = document.querySelector('#df-d5ea7862-0fb6-4e36-bc8a-bf857d96d3ed');\n",
              "          const dataTable =\n",
              "            await google.colab.kernel.invokeFunction('convertToInteractive',\n",
              "                                                     [key], {});\n",
              "          if (!dataTable) return;\n",
              "\n",
              "          const docLinkHtml = 'Like what you see? Visit the ' +\n",
              "            '<a target=\"_blank\" href=https://colab.research.google.com/notebooks/data_table.ipynb>data table notebook</a>'\n",
              "            + ' to learn more about interactive tables.';\n",
              "          element.innerHTML = '';\n",
              "          dataTable['output_type'] = 'display_data';\n",
              "          await google.colab.output.renderOutput(dataTable, element);\n",
              "          const docLink = document.createElement('div');\n",
              "          docLink.innerHTML = docLinkHtml;\n",
              "          element.appendChild(docLink);\n",
              "        }\n",
              "      </script>\n",
              "    </div>\n",
              "  </div>\n",
              "  "
            ]
          },
          "metadata": {},
          "execution_count": 36
        }
      ],
      "source": [
        "test_pr.head().T"
      ]
    },
    {
      "cell_type": "code",
      "execution_count": 37,
      "metadata": {
        "colab": {
          "base_uri": "https://localhost:8080/"
        },
        "id": "Mc4gayPfN6Cl",
        "outputId": "abcde0ee-6fd8-4420-87ec-f96f05b90a04"
      },
      "outputs": [
        {
          "output_type": "execute_result",
          "data": {
            "text/plain": [
              "Index(['rating', 'has_oscar_actor', 'has_oscar_composer', 'has_oscar_design',\n",
              "       'has_oscar_director', 'has_oscar_editor', 'has_oscar_operator',\n",
              "       'has_oscar_producer', 'has_oscar_writer', 'has_imax', 'has_3_d',\n",
              "       'has_sequel', 'img_name', 'Drama', 'Comedy', 'Thriller', 'Action',\n",
              "       '364fdc2e-bdfe-40be-b2c5-d30f43ec432e', 'Adventure', 'Sci-Fi',\n",
              "       'Melodrama', 'Horror', '9fa28b61-a257-4a3e-945b-a9ef76a146d6',\n",
              "       'Бернард Коллако', 'Марк Фальво', 'Джимми Стар', 'Брюс Уиллис',\n",
              "       'Роджер Бреннер', 'Крис Уилсон', 'Розмари Ховард', 'Ласко Аткинс',\n",
              "       'Кадролша Она Кароле', 'Дэнни Трехо', 'Джон Дебни',\n",
              "       'Джеймс Ньютон Ховард', 'Марко Белтрами', 'usa', 'great-britain',\n",
              "       'france', 'germany', 'canada', 'Эллен Мирожник', 'Энн Рот',\n",
              "       'Стивен Спилберг', 'Такер Гейтс', 'Майкл Кан', 'Крис Гилл',\n",
              "       'Роджер Дикинс', 'Джим Дено', 'Харви Вайнштейн', 'Боб Вайнштейн',\n",
              "       'Арнон Милчен', 'Люк Бессон', 'Стэн Ли', 'age_access_type_0',\n",
              "       'age_access_type_6', 'age_access_type_12', 'age_access_type_16',\n",
              "       'age_access_type_18', 'type_MOVIE', 'type_MP_MOVIE', 'type_SERIAL',\n",
              "       'duration', 'BUDGET', 'MARKETING', 'RUS', 'USA', 'WORLD'],\n",
              "      dtype='object')"
            ]
          },
          "metadata": {},
          "execution_count": 37
        }
      ],
      "source": [
        "test_pr.columns"
      ]
    },
    {
      "cell_type": "code",
      "execution_count": 38,
      "metadata": {
        "colab": {
          "base_uri": "https://localhost:8080/"
        },
        "id": "ZFUiFd4XN6Cl",
        "outputId": "dae5a58d-451a-4f0d-feb7-b363aa56043a"
      },
      "outputs": [
        {
          "output_type": "execute_result",
          "data": {
            "text/plain": [
              "Боб Вайнштейн            0\n",
              "Арнон Милчен             0\n",
              "Люк Бессон               0\n",
              "Стэн Ли                  0\n",
              "age_access_type_0     1716\n",
              "age_access_type_6     1716\n",
              "age_access_type_12    1716\n",
              "age_access_type_16    1716\n",
              "age_access_type_18    1716\n",
              "type_MOVIE            1716\n",
              "type_MP_MOVIE         1716\n",
              "type_SERIAL           1716\n",
              "duration              1716\n",
              "BUDGET                3189\n",
              "MARKETING             4433\n",
              "RUS                   3087\n",
              "USA                   3004\n",
              "WORLD                 2482\n",
              "dtype: int64"
            ]
          },
          "metadata": {},
          "execution_count": 38
        }
      ],
      "source": [
        "train_pr.isna().sum()[50:100]"
      ]
    },
    {
      "cell_type": "code",
      "source": [
        "test_pr.isna().sum()[50:100]"
      ],
      "metadata": {
        "colab": {
          "base_uri": "https://localhost:8080/"
        },
        "id": "j-_ZezNWgp7A",
        "outputId": "52dcf7dc-7420-46ce-c612-add8ca5cb347"
      },
      "execution_count": 39,
      "outputs": [
        {
          "output_type": "execute_result",
          "data": {
            "text/plain": [
              "Боб Вайнштейн           0\n",
              "Арнон Милчен            0\n",
              "Люк Бессон              0\n",
              "Стэн Ли                 0\n",
              "age_access_type_0     316\n",
              "age_access_type_6     316\n",
              "age_access_type_12    316\n",
              "age_access_type_16    316\n",
              "age_access_type_18    316\n",
              "type_MOVIE            316\n",
              "type_MP_MOVIE         316\n",
              "type_SERIAL           316\n",
              "duration              316\n",
              "BUDGET                323\n",
              "MARKETING             326\n",
              "RUS                   322\n",
              "USA                   321\n",
              "WORLD                 320\n",
              "dtype: int64"
            ]
          },
          "metadata": {},
          "execution_count": 39
        }
      ]
    },
    {
      "cell_type": "code",
      "source": [
        "cols_dropna = ['age_access_type_0', \n",
        "              'age_access_type_6',     \n",
        "              'age_access_type_12',    \n",
        "              'age_access_type_16' ,   \n",
        "              'age_access_type_18' ,   \n",
        "              'type_MOVIE'  ,        \n",
        "              'type_MP_MOVIE' ,        \n",
        "              'type_SERIAL' ,'duration', \n",
        "               'USA', 'WORLD']  \n",
        "\n",
        "train_pr.dropna(subset=cols_dropna,  inplace=True)\n",
        "test_pr.dropna(subset=cols_dropna,  inplace=True)"
      ],
      "metadata": {
        "id": "1UNHCWXSgoki"
      },
      "execution_count": 40,
      "outputs": []
    },
    {
      "cell_type": "code",
      "execution_count": 41,
      "metadata": {
        "id": "iq8OpvGhN6Cl"
      },
      "outputs": [],
      "source": [
        "train_new = train_pr.drop([\n",
        "'BUDGET',\n",
        "'MARKETING',\n",
        "'RUS',\n",
        "'img_name',\n",
        "'rating'], axis=1)\n",
        "\n",
        "test_new = test_pr.drop([\n",
        "'BUDGET',\n",
        "'MARKETING',\n",
        "'RUS',\n",
        "'img_name',\n",
        "'rating'], axis=1)"
      ]
    },
    {
      "cell_type": "code",
      "execution_count": 42,
      "metadata": {
        "id": "bZxU-1rVN6Cl"
      },
      "outputs": [],
      "source": [
        "train_img = train_pr[['img_name']]\n",
        "\n",
        "test_img = test_pr[['img_name']]\n",
        "\n",
        "y_train = train_pr[['rating']]\n",
        "y_test = test_pr[['rating']]"
      ]
    },
    {
      "cell_type": "code",
      "execution_count": 43,
      "metadata": {
        "colab": {
          "base_uri": "https://localhost:8080/"
        },
        "id": "h5CEKvr9N6Cl",
        "outputId": "8a4192d2-d46c-42ec-d9ee-f2e8eb379508"
      },
      "outputs": [
        {
          "output_type": "execute_result",
          "data": {
            "text/plain": [
              "Index(['has_oscar_actor', 'has_oscar_composer', 'has_oscar_design',\n",
              "       'has_oscar_director', 'has_oscar_editor', 'has_oscar_operator',\n",
              "       'has_oscar_producer', 'has_oscar_writer', 'has_imax', 'has_3_d',\n",
              "       'has_sequel', 'Drama', 'Comedy', 'Thriller', 'Action',\n",
              "       '364fdc2e-bdfe-40be-b2c5-d30f43ec432e', 'Adventure', 'Sci-Fi',\n",
              "       'Melodrama', 'Horror', '9fa28b61-a257-4a3e-945b-a9ef76a146d6',\n",
              "       'Бернард Коллако', 'Марк Фальво', 'Джимми Стар', 'Брюс Уиллис',\n",
              "       'Роджер Бреннер', 'Крис Уилсон', 'Розмари Ховард', 'Ласко Аткинс',\n",
              "       'Кадролша Она Кароле', 'Дэнни Трехо', 'Джон Дебни',\n",
              "       'Джеймс Ньютон Ховард', 'Марко Белтрами', 'usa', 'great-britain',\n",
              "       'france', 'germany', 'canada', 'Эллен Мирожник', 'Энн Рот',\n",
              "       'Стивен Спилберг', 'Такер Гейтс', 'Майкл Кан', 'Крис Гилл',\n",
              "       'Роджер Дикинс', 'Джим Дено', 'Харви Вайнштейн', 'Боб Вайнштейн',\n",
              "       'Арнон Милчен', 'Люк Бессон', 'Стэн Ли', 'age_access_type_0',\n",
              "       'age_access_type_6', 'age_access_type_12', 'age_access_type_16',\n",
              "       'age_access_type_18', 'type_MOVIE', 'type_MP_MOVIE', 'type_SERIAL',\n",
              "       'duration', 'USA', 'WORLD'],\n",
              "      dtype='object')"
            ]
          },
          "metadata": {},
          "execution_count": 43
        }
      ],
      "source": [
        "train_new.columns"
      ]
    },
    {
      "cell_type": "markdown",
      "metadata": {
        "id": "a8WQziLQN6Cl"
      },
      "source": [
        "# Remove outliers"
      ]
    },
    {
      "cell_type": "code",
      "execution_count": 44,
      "metadata": {
        "id": "q-USv9YrN6Cl"
      },
      "outputs": [],
      "source": [
        "from sklearn.model_selection import GridSearchCV\n",
        "from sklearn.model_selection import cross_val_score\n",
        "from sklearn.metrics import mean_squared_error\n",
        "from sklearn.ensemble import IsolationForest\n",
        "from sklearn import model_selection\n",
        "import warnings\n",
        "warnings.filterwarnings(\"ignore\")"
      ]
    },
    {
      "cell_type": "code",
      "execution_count": null,
      "metadata": {
        "id": "akrSmgKiN6Cm",
        "outputId": "2dde2f2d-89a6-43a3-9f45-57fe0016da49",
        "colab": {
          "base_uri": "https://localhost:8080/"
        }
      },
      "outputs": [
        {
          "output_type": "stream",
          "name": "stdout",
          "text": [
            "Optimum parameters {'bootstrap': True, 'contamination': 0.0001, 'max_features': 10, 'max_samples': 10, 'n_estimators': 1000, 'n_jobs': -1}\n"
          ]
        }
      ],
      "source": [
        "model = IsolationForest(random_state=47)\n",
        "\n",
        "param_grid = {'n_estimators': [1000, 1500], \n",
        "              'max_samples': [10], \n",
        "              'contamination': ['auto', 0.0001, 0.0002], \n",
        "              'max_features': [10, 15], \n",
        "              'bootstrap': [True], \n",
        "              'n_jobs': [-1]}\n",
        "\n",
        "grid_search = model_selection.GridSearchCV(model, \n",
        "                                           param_grid,\n",
        "                                           scoring=\"neg_mean_squared_error\", \n",
        "                                           refit=True,\n",
        "                                           cv=10, \n",
        "                                           return_train_score=True)\n",
        "grid_search.fit(train_new, y_train)\n",
        "\n",
        "best_model = grid_search.fit(train_new, y_train)\n",
        "print('Optimum parameters', best_model.best_params_)"
      ]
    },
    {
      "cell_type": "code",
      "execution_count": 45,
      "metadata": {
        "id": "YduC9jRRN6Cm"
      },
      "outputs": [],
      "source": [
        "iforest = IsolationForest(bootstrap=True,\n",
        "                          contamination=0.0001, \n",
        "                          max_features=10, \n",
        "                          max_samples=10, \n",
        "                          n_estimators=1000, \n",
        "                          n_jobs=-1,\n",
        "                         random_state=1)\n",
        "y_pred = iforest.fit_predict(train_new)"
      ]
    },
    {
      "cell_type": "markdown",
      "metadata": {
        "id": "0BHeHonFN6Cm"
      },
      "source": [
        "**Remove the outliers**"
      ]
    },
    {
      "cell_type": "code",
      "execution_count": 46,
      "metadata": {
        "id": "SVHSjh-XN6Cm"
      },
      "outputs": [],
      "source": [
        "train_new['TARGET'] = y_train.values\n",
        "train_new['PREDS'] = y_pred.tolist()"
      ]
    },
    {
      "cell_type": "code",
      "execution_count": 47,
      "metadata": {
        "id": "WCFfm1XbN6Cm"
      },
      "outputs": [],
      "source": [
        "train_new['img_name'] = train_img.values\n",
        "test_new['img_name'] = test_img.values\n",
        "\n",
        "train_new['rating'] = y_train\n",
        "test_new['rating'] = y_test"
      ]
    },
    {
      "cell_type": "code",
      "execution_count": 48,
      "metadata": {
        "id": "xvGxvtltN6Cn"
      },
      "outputs": [],
      "source": [
        "train_new = train_new[train_new['PREDS'] == 1]"
      ]
    },
    {
      "cell_type": "code",
      "execution_count": 49,
      "metadata": {
        "id": "y9c_-kY0N6Cn"
      },
      "outputs": [],
      "source": [
        "train_new.drop(['TARGET', 'PREDS'], axis=1, inplace=True)"
      ]
    },
    {
      "cell_type": "code",
      "execution_count": 50,
      "metadata": {
        "colab": {
          "base_uri": "https://localhost:8080/"
        },
        "id": "94mvVh6sN6Cn",
        "outputId": "466dedc1-5f67-4ece-9e2b-9cfeeef7f3a4"
      },
      "outputs": [
        {
          "output_type": "execute_result",
          "data": {
            "text/plain": [
              "Index(['has_oscar_actor', 'has_oscar_composer', 'has_oscar_design',\n",
              "       'has_oscar_director', 'has_oscar_editor', 'has_oscar_operator',\n",
              "       'has_oscar_producer', 'has_oscar_writer', 'has_imax', 'has_3_d',\n",
              "       'has_sequel', 'Drama', 'Comedy', 'Thriller', 'Action',\n",
              "       '364fdc2e-bdfe-40be-b2c5-d30f43ec432e', 'Adventure', 'Sci-Fi',\n",
              "       'Melodrama', 'Horror', '9fa28b61-a257-4a3e-945b-a9ef76a146d6',\n",
              "       'Бернард Коллако', 'Марк Фальво', 'Джимми Стар', 'Брюс Уиллис',\n",
              "       'Роджер Бреннер', 'Крис Уилсон', 'Розмари Ховард', 'Ласко Аткинс',\n",
              "       'Кадролша Она Кароле', 'Дэнни Трехо', 'Джон Дебни',\n",
              "       'Джеймс Ньютон Ховард', 'Марко Белтрами', 'usa', 'great-britain',\n",
              "       'france', 'germany', 'canada', 'Эллен Мирожник', 'Энн Рот',\n",
              "       'Стивен Спилберг', 'Такер Гейтс', 'Майкл Кан', 'Крис Гилл',\n",
              "       'Роджер Дикинс', 'Джим Дено', 'Харви Вайнштейн', 'Боб Вайнштейн',\n",
              "       'Арнон Милчен', 'Люк Бессон', 'Стэн Ли', 'age_access_type_0',\n",
              "       'age_access_type_6', 'age_access_type_12', 'age_access_type_16',\n",
              "       'age_access_type_18', 'type_MOVIE', 'type_MP_MOVIE', 'type_SERIAL',\n",
              "       'duration', 'USA', 'WORLD', 'img_name', 'rating'],\n",
              "      dtype='object')"
            ]
          },
          "metadata": {},
          "execution_count": 50
        }
      ],
      "source": [
        "train_new.columns"
      ]
    },
    {
      "cell_type": "markdown",
      "metadata": {
        "id": "56xCgs5JN6Cn"
      },
      "source": [
        "# PyTorch"
      ]
    },
    {
      "cell_type": "code",
      "execution_count": 58,
      "metadata": {
        "id": "tLmGbvenN6Cn"
      },
      "outputs": [],
      "source": [
        "import pandas as pd\n",
        "import numpy as np\n",
        "from PIL import Image\n",
        "\n",
        "import torch\n",
        "import torch.nn as nn\n",
        "from torch.utils.data import Dataset, DataLoader, random_split\n",
        "from torchvision import transforms\n",
        "\n",
        "data_path = \"./data/\""
      ]
    },
    {
      "cell_type": "code",
      "execution_count": 59,
      "metadata": {
        "id": "1aWIyCbDN6Cn"
      },
      "outputs": [],
      "source": [
        "class ImageDataset(Dataset):\n",
        "    \"\"\"Tabular and Image dataset.\"\"\"\n",
        "\n",
        "    def __init__(self, df, image_dir):\n",
        "        self.image_dir = image_dir\n",
        "        self.tabular = df \n",
        "        self.RESCALE_SIZE = 128\n",
        "\n",
        "    def __len__(self):\n",
        "        return self.tabular.shape[0]\n",
        "    def _prepare_sample(self, image):\n",
        "\n",
        "        image = image.resize((self.RESCALE_SIZE, self.RESCALE_SIZE))\n",
        "        return np.array(image)\n",
        "\n",
        "    def __getitem__(self, idx):\n",
        "        tabular = self.tabular.iloc[idx, 0:]\n",
        "\n",
        "        y = tabular[\"rating\"]\n",
        "\n",
        "        image = Image.open(f\"{self.image_dir}/{tabular['img_name']}\").convert('RGB')\n",
        "        image.load()\n",
        "        image = self._prepare_sample(image)\n",
        "        transform = transforms.Compose([\n",
        "            transforms.ToTensor(),\n",
        "            transforms.Normalize([0.485, 0.456, 0.406], [0.229, 0.224, 0.225]) \n",
        "        ])\n",
        "        image = np.array(image / 255, dtype='float32')\n",
        "        image = transform(image)\n",
        "\n",
        "        tabular = tabular[['duration', 'USA', 'WORLD', 'has_oscar_actor', 'has_oscar_composer',\n",
        "       'has_oscar_design', 'has_oscar_director', 'has_oscar_editor',\n",
        "       'has_oscar_operator', 'has_oscar_producer', 'has_oscar_writer',\n",
        "       'has_imax', 'has_3_d', 'has_sequel', 'Drama', 'Comedy', 'Thriller',\n",
        "       'Action', '364fdc2e-bdfe-40be-b2c5-d30f43ec432e', 'Adventure', 'Sci-Fi',\n",
        "       'Melodrama', 'Horror', '9fa28b61-a257-4a3e-945b-a9ef76a146d6',\n",
        "       'Бернард Коллако', 'Марк Фальво', 'Джимми Стар', 'Брюс Уиллис',\n",
        "       'Роджер Бреннер', 'Крис Уилсон', 'Розмари Ховард', 'Ласко Аткинс',\n",
        "       'Кадролша Она Кароле', 'Дэнни Трехо', 'Джон Дебни',\n",
        "       'Джеймс Ньютон Ховард', 'Марко Белтрами', 'usa', 'great-britain',\n",
        "       'france', 'germany', 'canada', 'Эллен Мирожник', 'Энн Рот',\n",
        "       'Стивен Спилберг', 'Такер Гейтс', 'Майкл Кан', 'Крис Гилл',\n",
        "       'Роджер Дикинс', 'Джим Дено', 'Харви Вайнштейн', 'Боб Вайнштейн',\n",
        "       'Арнон Милчен', 'Люк Бессон', 'Стэн Ли', 'age_access_type_0', \n",
        "              'age_access_type_6',     \n",
        "              'age_access_type_12',    \n",
        "              'age_access_type_16' ,   \n",
        "              'age_access_type_18' ,   \n",
        "              'type_MOVIE'  ,        \n",
        "              'type_MP_MOVIE' ,        \n",
        "              'type_SERIAL' ]]\n",
        "        tabular = tabular.tolist()\n",
        "        tabular = torch.FloatTensor(tabular)\n",
        "\n",
        "        return image, tabular, y"
      ]
    },
    {
      "cell_type": "code",
      "execution_count": 60,
      "metadata": {
        "colab": {
          "base_uri": "https://localhost:8080/"
        },
        "id": "VhCv-gpAN6Co",
        "outputId": "674179b3-dddd-4059-82ee-79b8d6d4c8b6"
      },
      "outputs": [
        {
          "output_type": "execute_result",
          "data": {
            "text/plain": [
              "63"
            ]
          },
          "metadata": {},
          "execution_count": 60
        }
      ],
      "source": [
        "a = ['duration', 'USA', 'WORLD', 'has_oscar_actor', 'has_oscar_composer',\n",
        "       'has_oscar_design', 'has_oscar_director', 'has_oscar_editor',\n",
        "       'has_oscar_operator', 'has_oscar_producer', 'has_oscar_writer',\n",
        "       'has_imax', 'has_3_d', 'has_sequel', 'Drama', 'Comedy', 'Thriller',\n",
        "       'Action', '364fdc2e-bdfe-40be-b2c5-d30f43ec432e', 'Adventure', 'Sci-Fi',\n",
        "       'Melodrama', 'Horror', '9fa28b61-a257-4a3e-945b-a9ef76a146d6',\n",
        "       'Бернард Коллако', 'Марк Фальво', 'Джимми Стар', 'Брюс Уиллис',\n",
        "       'Роджер Бреннер', 'Крис Уилсон', 'Розмари Ховард', 'Ласко Аткинс',\n",
        "       'Кадролша Она Кароле', 'Дэнни Трехо', 'Джон Дебни',\n",
        "       'Джеймс Ньютон Ховард', 'Марко Белтрами', 'usa', 'great-britain',\n",
        "       'france', 'germany', 'canada', 'Эллен Мирожник', 'Энн Рот',\n",
        "       'Стивен Спилберг', 'Такер Гейтс', 'Майкл Кан', 'Крис Гилл',\n",
        "       'Роджер Дикинс', 'Джим Дено', 'Харви Вайнштейн', 'Боб Вайнштейн',\n",
        "       'Арнон Милчен', 'Люк Бессон', 'Стэн Ли', 'x0_0', 'x0_6', 'x0_12',\n",
        "       'x0_16', 'x0_18', 'x1_MOVIE', 'x1_MP_MOVIE', 'x1_SERIAL']\n",
        "\n",
        "len(a)"
      ]
    },
    {
      "cell_type": "markdown",
      "metadata": {
        "id": "913wbRF8N6Co"
      },
      "source": [
        "## Model"
      ]
    },
    {
      "cell_type": "code",
      "execution_count": 61,
      "metadata": {
        "colab": {
          "base_uri": "https://localhost:8080/"
        },
        "id": "FBCtQLa4N6Co",
        "outputId": "82c53a5c-db73-4aa2-ede9-e2c690f7ad47"
      },
      "outputs": [
        {
          "output_type": "stream",
          "name": "stdout",
          "text": [
            "Device available now: cuda\n"
          ]
        }
      ],
      "source": [
        "device = torch.device('cuda' if torch.cuda.is_available() else 'cpu')\n",
        "print('Device available now:', device)"
      ]
    },
    {
      "cell_type": "code",
      "execution_count": 61,
      "metadata": {
        "id": "6f8Pqd1TN6Cp"
      },
      "outputs": [],
      "source": []
    },
    {
      "cell_type": "code",
      "execution_count": 64,
      "metadata": {
        "id": "CPmt9rYZN6Cp"
      },
      "outputs": [],
      "source": [
        "image_data_train = ImageDataset(df=train_new, image_dir='/content/drive/My Drive/Diploma/CODE/covers/')\n",
        "\n",
        "test_set = ImageDataset(df=test_new, image_dir='/content/drive/My Drive/Diploma/CODE/covers')\n",
        "\n",
        "train_set, test_dddd, val_set = random_split(image_data_train, [1300, 0, 257])"
      ]
    },
    {
      "cell_type": "code",
      "execution_count": 65,
      "metadata": {
        "id": "wWeTehCQN6Cp"
      },
      "outputs": [],
      "source": [
        "BATCH_SIZE = 10"
      ]
    },
    {
      "cell_type": "code",
      "execution_count": 66,
      "metadata": {
        "id": "_c8e9nPSN6Cp"
      },
      "outputs": [],
      "source": [
        "train_loader = DataLoader(\n",
        "    train_set, \n",
        "    batch_size=BATCH_SIZE,\n",
        "    shuffle=True\n",
        ")\n",
        "\n",
        "val_loader = DataLoader(\n",
        "    val_set, \n",
        "    batch_size=BATCH_SIZE,\n",
        "    shuffle=True\n",
        ")\n",
        "\n",
        "test_loader = DataLoader(\n",
        "    test_set, \n",
        "    batch_size=BATCH_SIZE,\n",
        "    shuffle=True\n",
        ")\n"
      ]
    },
    {
      "cell_type": "code",
      "source": [
        "def imshow(inp, title=None, default=False):\n",
        "    \"\"\"Imshow для тензоров\"\"\"\n",
        "    fig, a = plt.subplots(1,1)\n",
        "    fig.set_size_inches(5,5)\n",
        "    \n",
        "    inp = inp[0].numpy().transpose((1, 2, 0))\n",
        "    mean = np.array([0.485, 0.456, 0.406])\n",
        "    std = np.array([0.229, 0.224, 0.225])\n",
        "    inp = std * inp + mean\n",
        "    inp = np.clip(inp, 0, 1)\n",
        "    a.imshow(inp)\n",
        "    if title is not None:\n",
        "        a.set_title(title)\n",
        "    a.grid(False)\n",
        "\n",
        "\n",
        "for im_val, tab, label in test_loader:\n",
        "  imshow(im_val.data.cpu(), \\\n",
        "        title=label)\n",
        "  break\n"
      ],
      "metadata": {
        "colab": {
          "base_uri": "https://localhost:8080/",
          "height": 451
        },
        "id": "5mo4012zDf7h",
        "outputId": "63c4ca93-8449-494b-afa8-894dc63e2412"
      },
      "execution_count": 67,
      "outputs": [
        {
          "output_type": "display_data",
          "data": {
            "text/plain": [
              "<Figure size 500x500 with 1 Axes>"
            ],
            "image/svg+xml": "<?xml version=\"1.0\" encoding=\"utf-8\" standalone=\"no\"?>\n<!DOCTYPE svg PUBLIC \"-//W3C//DTD SVG 1.1//EN\"\n  \"http://www.w3.org/Graphics/SVG/1.1/DTD/svg11.dtd\">\n<svg xmlns:xlink=\"http://www.w3.org/1999/xlink\" width=\"381.639375pt\" height=\"322.618125pt\" viewBox=\"0 0 381.639375 322.618125\" xmlns=\"http://www.w3.org/2000/svg\" version=\"1.1\">\n <metadata>\n  <rdf:RDF xmlns:dc=\"http://purl.org/dc/elements/1.1/\" xmlns:cc=\"http://creativecommons.org/ns#\" xmlns:rdf=\"http://www.w3.org/1999/02/22-rdf-syntax-ns#\">\n   <cc:Work>\n    <dc:type rdf:resource=\"http://purl.org/dc/dcmitype/StillImage\"/>\n    <dc:date>2023-05-23T06:51:44.753822</dc:date>\n    <dc:format>image/svg+xml</dc:format>\n    <dc:creator>\n     <cc:Agent>\n      <dc:title>Matplotlib v3.7.1, https://matplotlib.org/</dc:title>\n     </cc:Agent>\n    </dc:creator>\n   </cc:Work>\n  </rdf:RDF>\n </metadata>\n <defs>\n  <style type=\"text/css\">*{stroke-linejoin: round; stroke-linecap: butt}</style>\n </defs>\n <g id=\"figure_1\">\n  <g id=\"patch_1\">\n   <path d=\"M -0 322.618125 \nL 381.639375 322.618125 \nL 381.639375 0 \nL -0 0 \nz\n\" style=\"fill: #ffffff\"/>\n  </g>\n  <g id=\"axes_1\">\n   <g id=\"patch_2\">\n    <path d=\"M 52.219687 299.09625 \nL 329.419687 299.09625 \nL 329.419687 21.89625 \nL 52.219687 21.89625 \nz\n\" style=\"fill: #eaeaf2\"/>\n   </g>\n   <g clip-path=\"url(#p9cbda3385b)\">\n    <image xlink:href=\"data:image/png;base64,\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\" id=\"image23878927d4\" transform=\"scale(1 -1) translate(0 -277.2)\" x=\"52.219687\" y=\"-21.89625\" width=\"277.2\" height=\"277.2\"/>\n   </g>\n   <g id=\"matplotlib.axis_1\">\n    <g id=\"xtick_1\">\n     <g id=\"line2d_1\"/>\n     <g id=\"text_1\">\n      <!-- 0 -->\n      <g style=\"fill: #262626\" transform=\"translate(50.522031 313.343125) scale(0.1 -0.1)\">\n       <defs>\n        <path id=\"LiberationSans-30\" d=\"M 3309 2203 \nQ 3309 1569 3189 1136 \nQ 3069 703 2861 436 \nQ 2653 169 2372 53 \nQ 2091 -63 1772 -63 \nQ 1450 -63 1172 53 \nQ 894 169 689 434 \nQ 484 700 367 1133 \nQ 250 1566 250 2203 \nQ 250 2869 367 3305 \nQ 484 3741 690 4000 \nQ 897 4259 1178 4364 \nQ 1459 4469 1791 4469 \nQ 2106 4469 2382 4364 \nQ 2659 4259 2865 4000 \nQ 3072 3741 3190 3305 \nQ 3309 2869 3309 2203 \nz\nM 2738 2203 \nQ 2738 2728 2675 3076 \nQ 2613 3425 2491 3633 \nQ 2369 3841 2192 3927 \nQ 2016 4013 1791 4013 \nQ 1553 4013 1372 3925 \nQ 1191 3838 1067 3630 \nQ 944 3422 881 3073 \nQ 819 2725 819 2203 \nQ 819 1697 883 1350 \nQ 947 1003 1070 792 \nQ 1194 581 1372 489 \nQ 1550 397 1778 397 \nQ 2000 397 2178 489 \nQ 2356 581 2479 792 \nQ 2603 1003 2670 1350 \nQ 2738 1697 2738 2203 \nz\n\" transform=\"scale(0.015625)\"/>\n       </defs>\n       <use xlink:href=\"#LiberationSans-30\"/>\n      </g>\n     </g>\n    </g>\n    <g id=\"xtick_2\">\n     <g id=\"line2d_2\"/>\n     <g id=\"text_2\">\n      <!-- 20 -->\n      <g style=\"fill: #262626\" transform=\"translate(91.054062 313.343125) scale(0.1 -0.1)\">\n       <defs>\n        <path id=\"LiberationSans-32\" d=\"M 322 0 \nL 322 397 \nQ 481 763 711 1042 \nQ 941 1322 1194 1548 \nQ 1447 1775 1695 1969 \nQ 1944 2163 2144 2356 \nQ 2344 2550 2467 2762 \nQ 2591 2975 2591 3244 \nQ 2591 3431 2534 3573 \nQ 2478 3716 2372 3812 \nQ 2266 3909 2117 3957 \nQ 1969 4006 1788 4006 \nQ 1619 4006 1470 3959 \nQ 1322 3913 1206 3819 \nQ 1091 3725 1017 3586 \nQ 944 3447 922 3263 \nL 347 3316 \nQ 375 3553 478 3762 \nQ 581 3972 762 4130 \nQ 944 4288 1198 4378 \nQ 1453 4469 1788 4469 \nQ 2116 4469 2372 4391 \nQ 2628 4313 2804 4159 \nQ 2981 4006 3075 3781 \nQ 3169 3556 3169 3263 \nQ 3169 3041 3089 2841 \nQ 3009 2641 2876 2459 \nQ 2744 2278 2569 2109 \nQ 2394 1941 2203 1780 \nQ 2013 1619 1819 1461 \nQ 1625 1303 1454 1143 \nQ 1284 984 1150 820 \nQ 1016 656 941 478 \nL 3238 478 \nL 3238 0 \nL 322 0 \nz\n\" transform=\"scale(0.015625)\"/>\n       </defs>\n       <use xlink:href=\"#LiberationSans-32\"/>\n       <use xlink:href=\"#LiberationSans-30\" x=\"55.615234\"/>\n      </g>\n     </g>\n    </g>\n    <g id=\"xtick_3\">\n     <g id=\"line2d_3\"/>\n     <g id=\"text_3\">\n      <!-- 40 -->\n      <g style=\"fill: #262626\" transform=\"translate(134.366562 313.343125) scale(0.1 -0.1)\">\n       <defs>\n        <path id=\"LiberationSans-34\" d=\"M 2753 997 \nL 2753 0 \nL 2222 0 \nL 2222 997 \nL 147 997 \nL 147 1434 \nL 2163 4403 \nL 2753 4403 \nL 2753 1441 \nL 3372 1441 \nL 3372 997 \nL 2753 997 \nz\nM 2222 3769 \nQ 2216 3753 2191 3708 \nQ 2166 3663 2134 3606 \nQ 2103 3550 2070 3492 \nQ 2038 3434 2013 3397 \nL 884 1734 \nQ 869 1709 839 1668 \nQ 809 1628 778 1586 \nQ 747 1544 715 1503 \nQ 684 1463 666 1441 \nL 2222 1441 \nL 2222 3769 \nz\n\" transform=\"scale(0.015625)\"/>\n       </defs>\n       <use xlink:href=\"#LiberationSans-34\"/>\n       <use xlink:href=\"#LiberationSans-30\" x=\"55.615234\"/>\n      </g>\n     </g>\n    </g>\n    <g id=\"xtick_4\">\n     <g id=\"line2d_4\"/>\n     <g id=\"text_4\">\n      <!-- 60 -->\n      <g style=\"fill: #262626\" transform=\"translate(177.679062 313.343125) scale(0.1 -0.1)\">\n       <defs>\n        <path id=\"LiberationSans-36\" d=\"M 3278 1441 \nQ 3278 1109 3186 832 \nQ 3094 556 2914 357 \nQ 2734 159 2468 48 \nQ 2203 -63 1856 -63 \nQ 1472 -63 1184 84 \nQ 897 231 706 507 \nQ 516 784 420 1186 \nQ 325 1588 325 2100 \nQ 325 2688 433 3131 \nQ 541 3575 744 3872 \nQ 947 4169 1239 4319 \nQ 1531 4469 1900 4469 \nQ 2125 4469 2322 4422 \nQ 2519 4375 2680 4270 \nQ 2841 4166 2962 3994 \nQ 3084 3822 3156 3572 \nL 2619 3475 \nQ 2531 3759 2339 3886 \nQ 2147 4013 1894 4013 \nQ 1663 4013 1475 3903 \nQ 1288 3794 1156 3576 \nQ 1025 3359 954 3031 \nQ 884 2703 884 2266 \nQ 1038 2550 1316 2698 \nQ 1594 2847 1953 2847 \nQ 2253 2847 2497 2750 \nQ 2741 2653 2914 2470 \nQ 3088 2288 3183 2027 \nQ 3278 1766 3278 1441 \nz\nM 2706 1416 \nQ 2706 1644 2650 1828 \nQ 2594 2013 2481 2142 \nQ 2369 2272 2203 2342 \nQ 2038 2413 1819 2413 \nQ 1666 2413 1509 2367 \nQ 1353 2322 1226 2220 \nQ 1100 2119 1020 1953 \nQ 941 1788 941 1550 \nQ 941 1306 1003 1095 \nQ 1066 884 1183 728 \nQ 1300 572 1465 481 \nQ 1631 391 1838 391 \nQ 2041 391 2202 461 \nQ 2363 531 2475 664 \nQ 2588 797 2647 987 \nQ 2706 1178 2706 1416 \nz\n\" transform=\"scale(0.015625)\"/>\n       </defs>\n       <use xlink:href=\"#LiberationSans-36\"/>\n       <use xlink:href=\"#LiberationSans-30\" x=\"55.615234\"/>\n      </g>\n     </g>\n    </g>\n    <g id=\"xtick_5\">\n     <g id=\"line2d_5\"/>\n     <g id=\"text_5\">\n      <!-- 80 -->\n      <g style=\"fill: #262626\" transform=\"translate(220.991562 313.343125) scale(0.1 -0.1)\">\n       <defs>\n        <path id=\"LiberationSans-38\" d=\"M 3281 1228 \nQ 3281 947 3192 711 \nQ 3103 475 2920 303 \nQ 2738 131 2453 34 \nQ 2169 -63 1781 -63 \nQ 1394 -63 1111 34 \nQ 828 131 642 301 \nQ 456 472 367 708 \nQ 278 944 278 1222 \nQ 278 1463 351 1650 \nQ 425 1838 548 1973 \nQ 672 2109 830 2192 \nQ 988 2275 1156 2303 \nL 1156 2316 \nQ 972 2359 826 2456 \nQ 681 2553 582 2689 \nQ 484 2825 432 2990 \nQ 381 3156 381 3341 \nQ 381 3572 470 3776 \nQ 559 3981 734 4136 \nQ 909 4291 1168 4380 \nQ 1428 4469 1769 4469 \nQ 2128 4469 2392 4378 \nQ 2656 4288 2829 4133 \nQ 3003 3978 3087 3772 \nQ 3172 3566 3172 3334 \nQ 3172 3153 3120 2987 \nQ 3069 2822 2970 2686 \nQ 2872 2550 2726 2454 \nQ 2581 2359 2391 2322 \nL 2391 2309 \nQ 2581 2278 2743 2195 \nQ 2906 2113 3025 1977 \nQ 3144 1841 3212 1653 \nQ 3281 1466 3281 1228 \nz\nM 2588 3303 \nQ 2588 3469 2545 3606 \nQ 2503 3744 2406 3842 \nQ 2309 3941 2153 3995 \nQ 1997 4050 1769 4050 \nQ 1547 4050 1394 3995 \nQ 1241 3941 1142 3842 \nQ 1044 3744 1000 3606 \nQ 956 3469 956 3303 \nQ 956 3172 990 3034 \nQ 1025 2897 1115 2784 \nQ 1206 2672 1365 2600 \nQ 1525 2528 1775 2528 \nQ 2041 2528 2202 2600 \nQ 2363 2672 2448 2784 \nQ 2534 2897 2561 3034 \nQ 2588 3172 2588 3303 \nz\nM 2697 1281 \nQ 2697 1441 2653 1589 \nQ 2609 1738 2503 1852 \nQ 2397 1966 2217 2036 \nQ 2038 2106 1769 2106 \nQ 1522 2106 1348 2036 \nQ 1175 1966 1067 1850 \nQ 959 1734 909 1582 \nQ 859 1431 859 1269 \nQ 859 1066 909 898 \nQ 959 731 1068 611 \nQ 1178 491 1356 425 \nQ 1534 359 1788 359 \nQ 2044 359 2219 425 \nQ 2394 491 2500 611 \nQ 2606 731 2651 901 \nQ 2697 1072 2697 1281 \nz\n\" transform=\"scale(0.015625)\"/>\n       </defs>\n       <use xlink:href=\"#LiberationSans-38\"/>\n       <use xlink:href=\"#LiberationSans-30\" x=\"55.615234\"/>\n      </g>\n     </g>\n    </g>\n    <g id=\"xtick_6\">\n     <g id=\"line2d_6\"/>\n     <g id=\"text_6\">\n      <!-- 100 -->\n      <g style=\"fill: #262626\" transform=\"translate(261.523594 313.343125) scale(0.1 -0.1)\">\n       <defs>\n        <path id=\"LiberationSans-31\" d=\"M 488 0 \nL 488 478 \nL 1609 478 \nL 1609 3866 \nL 616 3156 \nL 616 3688 \nL 1656 4403 \nL 2175 4403 \nL 2175 478 \nL 3247 478 \nL 3247 0 \nL 488 0 \nz\n\" transform=\"scale(0.015625)\"/>\n       </defs>\n       <use xlink:href=\"#LiberationSans-31\"/>\n       <use xlink:href=\"#LiberationSans-30\" x=\"55.615234\"/>\n       <use xlink:href=\"#LiberationSans-30\" x=\"111.230469\"/>\n      </g>\n     </g>\n    </g>\n    <g id=\"xtick_7\">\n     <g id=\"line2d_7\"/>\n     <g id=\"text_7\">\n      <!-- 120 -->\n      <g style=\"fill: #262626\" transform=\"translate(304.836094 313.343125) scale(0.1 -0.1)\">\n       <use xlink:href=\"#LiberationSans-31\"/>\n       <use xlink:href=\"#LiberationSans-32\" x=\"55.615234\"/>\n       <use xlink:href=\"#LiberationSans-30\" x=\"111.230469\"/>\n      </g>\n     </g>\n    </g>\n   </g>\n   <g id=\"matplotlib.axis_2\">\n    <g id=\"ytick_1\">\n     <g id=\"line2d_8\"/>\n     <g id=\"text_8\">\n      <!-- 0 -->\n      <g style=\"fill: #262626\" transform=\"translate(39.65875 26.6025) scale(0.1 -0.1)\">\n       <use xlink:href=\"#LiberationSans-30\"/>\n      </g>\n     </g>\n    </g>\n    <g id=\"ytick_2\">\n     <g id=\"line2d_9\"/>\n     <g id=\"text_9\">\n      <!-- 20 -->\n      <g style=\"fill: #262626\" transform=\"translate(34.097812 69.915) scale(0.1 -0.1)\">\n       <use xlink:href=\"#LiberationSans-32\"/>\n       <use xlink:href=\"#LiberationSans-30\" x=\"55.615234\"/>\n      </g>\n     </g>\n    </g>\n    <g id=\"ytick_3\">\n     <g id=\"line2d_10\"/>\n     <g id=\"text_10\">\n      <!-- 40 -->\n      <g style=\"fill: #262626\" transform=\"translate(34.097812 113.2275) scale(0.1 -0.1)\">\n       <use xlink:href=\"#LiberationSans-34\"/>\n       <use xlink:href=\"#LiberationSans-30\" x=\"55.615234\"/>\n      </g>\n     </g>\n    </g>\n    <g id=\"ytick_4\">\n     <g id=\"line2d_11\"/>\n     <g id=\"text_11\">\n      <!-- 60 -->\n      <g style=\"fill: #262626\" transform=\"translate(34.097812 156.54) scale(0.1 -0.1)\">\n       <use xlink:href=\"#LiberationSans-36\"/>\n       <use xlink:href=\"#LiberationSans-30\" x=\"55.615234\"/>\n      </g>\n     </g>\n    </g>\n    <g id=\"ytick_5\">\n     <g id=\"line2d_12\"/>\n     <g id=\"text_12\">\n      <!-- 80 -->\n      <g style=\"fill: #262626\" transform=\"translate(34.097812 199.8525) scale(0.1 -0.1)\">\n       <use xlink:href=\"#LiberationSans-38\"/>\n       <use xlink:href=\"#LiberationSans-30\" x=\"55.615234\"/>\n      </g>\n     </g>\n    </g>\n    <g id=\"ytick_6\">\n     <g id=\"line2d_13\"/>\n     <g id=\"text_13\">\n      <!-- 100 -->\n      <g style=\"fill: #262626\" transform=\"translate(28.536875 243.165) scale(0.1 -0.1)\">\n       <use xlink:href=\"#LiberationSans-31\"/>\n       <use xlink:href=\"#LiberationSans-30\" x=\"55.615234\"/>\n       <use xlink:href=\"#LiberationSans-30\" x=\"111.230469\"/>\n      </g>\n     </g>\n    </g>\n    <g id=\"ytick_7\">\n     <g id=\"line2d_14\"/>\n     <g id=\"text_14\">\n      <!-- 120 -->\n      <g style=\"fill: #262626\" transform=\"translate(28.536875 286.4775) scale(0.1 -0.1)\">\n       <use xlink:href=\"#LiberationSans-31\"/>\n       <use xlink:href=\"#LiberationSans-32\" x=\"55.615234\"/>\n       <use xlink:href=\"#LiberationSans-30\" x=\"111.230469\"/>\n      </g>\n     </g>\n    </g>\n   </g>\n   <g id=\"patch_3\">\n    <path d=\"M 52.219687 299.09625 \nL 52.219687 21.89625 \n\" style=\"fill: none\"/>\n   </g>\n   <g id=\"patch_4\">\n    <path d=\"M 329.419687 299.09625 \nL 329.419687 21.89625 \n\" style=\"fill: none\"/>\n   </g>\n   <g id=\"patch_5\">\n    <path d=\"M 52.219687 299.09625 \nL 329.419687 299.09625 \n\" style=\"fill: none\"/>\n   </g>\n   <g id=\"patch_6\">\n    <path d=\"M 52.219687 21.89625 \nL 329.419687 21.89625 \n\" style=\"fill: none\"/>\n   </g>\n   <g id=\"text_15\">\n    <!-- tensor([7.7208, 5.6484, 8.8115, 8.9459, 9.8203], dtype=torch.float64) -->\n    <g style=\"fill: #262626\" transform=\"translate(7.2 15.89625) scale(0.12 -0.12)\">\n     <defs>\n      <path id=\"LiberationSans-74\" d=\"M 1731 25 \nQ 1603 -9 1470 -29 \nQ 1338 -50 1163 -50 \nQ 488 -50 488 716 \nL 488 2972 \nL 97 2972 \nL 97 3381 \nL 509 3381 \nL 675 4138 \nL 1050 4138 \nL 1050 3381 \nL 1675 3381 \nL 1675 2972 \nL 1050 2972 \nL 1050 838 \nQ 1050 594 1129 495 \nQ 1209 397 1406 397 \nQ 1488 397 1564 409 \nQ 1641 422 1731 441 \nL 1731 25 \nz\n\" transform=\"scale(0.015625)\"/>\n      <path id=\"LiberationSans-65\" d=\"M 863 1572 \nQ 863 1306 917 1082 \nQ 972 859 1086 698 \nQ 1200 538 1378 448 \nQ 1556 359 1806 359 \nQ 2172 359 2392 506 \nQ 2613 653 2691 878 \nL 3184 738 \nQ 3131 597 3036 455 \nQ 2941 313 2781 198 \nQ 2622 84 2383 10 \nQ 2144 -63 1806 -63 \nQ 1056 -63 664 384 \nQ 272 831 272 1713 \nQ 272 2188 390 2517 \nQ 509 2847 715 3053 \nQ 922 3259 1197 3351 \nQ 1472 3444 1784 3444 \nQ 2209 3444 2495 3306 \nQ 2781 3169 2954 2926 \nQ 3128 2684 3201 2356 \nQ 3275 2028 3275 1647 \nL 3275 1572 \nL 863 1572 \nz\nM 2694 2003 \nQ 2647 2538 2422 2783 \nQ 2197 3028 1775 3028 \nQ 1634 3028 1479 2983 \nQ 1325 2938 1194 2822 \nQ 1063 2706 972 2507 \nQ 881 2309 869 2003 \nL 2694 2003 \nz\n\" transform=\"scale(0.015625)\"/>\n      <path id=\"LiberationSans-6e\" d=\"M 2578 0 \nL 2578 2144 \nQ 2578 2391 2542 2556 \nQ 2506 2722 2425 2823 \nQ 2344 2925 2211 2967 \nQ 2078 3009 1881 3009 \nQ 1681 3009 1520 2939 \nQ 1359 2869 1245 2736 \nQ 1131 2603 1068 2408 \nQ 1006 2213 1006 1959 \nL 1006 0 \nL 444 0 \nL 444 2659 \nQ 444 2766 442 2883 \nQ 441 3000 437 3104 \nQ 434 3209 431 3284 \nQ 428 3359 425 3381 \nL 956 3381 \nQ 959 3366 962 3297 \nQ 966 3228 970 3139 \nQ 975 3050 978 2958 \nQ 981 2866 981 2803 \nL 991 2803 \nQ 1072 2950 1169 3069 \nQ 1266 3188 1394 3270 \nQ 1522 3353 1687 3398 \nQ 1853 3444 2072 3444 \nQ 2353 3444 2556 3375 \nQ 2759 3306 2890 3162 \nQ 3022 3019 3083 2792 \nQ 3144 2566 3144 2253 \nL 3144 0 \nL 2578 0 \nz\n\" transform=\"scale(0.015625)\"/>\n      <path id=\"LiberationSans-73\" d=\"M 2969 934 \nQ 2969 697 2876 511 \nQ 2784 325 2609 198 \nQ 2434 72 2179 4 \nQ 1925 -63 1597 -63 \nQ 1303 -63 1067 -17 \nQ 831 28 653 128 \nQ 475 228 354 392 \nQ 234 556 178 794 \nL 675 891 \nQ 747 619 972 492 \nQ 1197 366 1597 366 \nQ 1778 366 1929 391 \nQ 2081 416 2190 477 \nQ 2300 538 2361 639 \nQ 2422 741 2422 891 \nQ 2422 1044 2350 1142 \nQ 2278 1241 2150 1306 \nQ 2022 1372 1839 1420 \nQ 1656 1469 1438 1528 \nQ 1234 1581 1034 1647 \nQ 834 1713 673 1820 \nQ 513 1928 413 2087 \nQ 313 2247 313 2488 \nQ 313 2950 642 3192 \nQ 972 3434 1603 3434 \nQ 2163 3434 2492 3237 \nQ 2822 3041 2909 2606 \nL 2403 2544 \nQ 2375 2675 2300 2764 \nQ 2225 2853 2119 2908 \nQ 2013 2963 1880 2986 \nQ 1747 3009 1603 3009 \nQ 1222 3009 1040 2893 \nQ 859 2778 859 2544 \nQ 859 2406 926 2317 \nQ 994 2228 1114 2167 \nQ 1234 2106 1403 2061 \nQ 1572 2016 1775 1966 \nQ 1909 1931 2050 1892 \nQ 2191 1853 2323 1798 \nQ 2456 1744 2573 1670 \nQ 2691 1597 2778 1494 \nQ 2866 1391 2917 1253 \nQ 2969 1116 2969 934 \nz\n\" transform=\"scale(0.015625)\"/>\n      <path id=\"LiberationSans-6f\" d=\"M 3291 1694 \nQ 3291 806 2900 371 \nQ 2509 -63 1766 -63 \nQ 1413 -63 1134 43 \nQ 856 150 664 369 \nQ 472 588 370 917 \nQ 269 1247 269 1694 \nQ 269 3444 1784 3444 \nQ 2178 3444 2464 3334 \nQ 2750 3225 2933 3006 \nQ 3116 2788 3203 2459 \nQ 3291 2131 3291 1694 \nz\nM 2700 1694 \nQ 2700 2088 2639 2344 \nQ 2578 2600 2461 2753 \nQ 2344 2906 2175 2967 \nQ 2006 3028 1794 3028 \nQ 1578 3028 1404 2964 \nQ 1231 2900 1109 2745 \nQ 988 2591 923 2334 \nQ 859 2078 859 1694 \nQ 859 1300 928 1042 \nQ 997 784 1117 631 \nQ 1238 478 1402 415 \nQ 1566 353 1759 353 \nQ 1975 353 2150 414 \nQ 2325 475 2447 628 \nQ 2569 781 2634 1040 \nQ 2700 1300 2700 1694 \nz\n\" transform=\"scale(0.015625)\"/>\n      <path id=\"LiberationSans-72\" d=\"M 444 0 \nL 444 2594 \nQ 444 2700 442 2811 \nQ 441 2922 437 3025 \nQ 434 3128 431 3218 \nQ 428 3309 425 3381 \nL 956 3381 \nQ 959 3309 964 3217 \nQ 969 3125 973 3028 \nQ 978 2931 979 2842 \nQ 981 2753 981 2691 \nL 994 2691 \nQ 1053 2884 1120 3026 \nQ 1188 3169 1278 3261 \nQ 1369 3353 1494 3398 \nQ 1619 3444 1797 3444 \nQ 1866 3444 1928 3433 \nQ 1991 3422 2025 3413 \nL 2025 2897 \nQ 1969 2913 1894 2920 \nQ 1819 2928 1725 2928 \nQ 1531 2928 1395 2840 \nQ 1259 2753 1173 2598 \nQ 1088 2444 1047 2230 \nQ 1006 2016 1006 1763 \nL 1006 0 \nL 444 0 \nz\n\" transform=\"scale(0.015625)\"/>\n      <path id=\"LiberationSans-28\" d=\"M 397 1663 \nQ 397 2097 462 2494 \nQ 528 2891 668 3256 \nQ 809 3622 1028 3965 \nQ 1247 4309 1550 4638 \nL 2094 4638 \nQ 1800 4309 1586 3964 \nQ 1372 3619 1234 3251 \nQ 1097 2884 1030 2487 \nQ 963 2091 963 1656 \nQ 963 1222 1030 825 \nQ 1097 428 1234 59 \nQ 1372 -309 1586 -653 \nQ 1800 -997 2094 -1325 \nL 1550 -1325 \nQ 1247 -997 1028 -653 \nQ 809 -309 668 56 \nQ 528 422 462 817 \nQ 397 1213 397 1650 \nL 397 1663 \nz\n\" transform=\"scale(0.015625)\"/>\n      <path id=\"LiberationSans-5b\" d=\"M 456 -1328 \nL 456 4638 \nL 1728 4638 \nL 1728 4234 \nL 1000 4234 \nL 1000 -925 \nL 1728 -925 \nL 1728 -1328 \nL 456 -1328 \nz\n\" transform=\"scale(0.015625)\"/>\n      <path id=\"LiberationSans-37\" d=\"M 3238 3947 \nQ 2906 3441 2628 2973 \nQ 2350 2506 2150 2032 \nQ 1950 1559 1839 1061 \nQ 1728 563 1728 0 \nL 1141 0 \nQ 1141 528 1266 1036 \nQ 1391 1544 1603 2033 \nQ 1816 2522 2097 2994 \nQ 2378 3466 2694 3925 \nL 328 3925 \nL 328 4403 \nL 3238 4403 \nL 3238 3947 \nz\n\" transform=\"scale(0.015625)\"/>\n      <path id=\"LiberationSans-2e\" d=\"M 584 0 \nL 584 684 \nL 1194 684 \nL 1194 0 \nL 584 0 \nz\n\" transform=\"scale(0.015625)\"/>\n      <path id=\"LiberationSans-2c\" d=\"M 1203 684 \nL 1203 159 \nQ 1203 -6 1189 -142 \nQ 1175 -278 1144 -395 \nQ 1113 -513 1067 -616 \nQ 1022 -719 959 -819 \nL 575 -819 \nQ 716 -616 792 -409 \nQ 869 -203 869 0 \nL 594 0 \nL 594 684 \nL 1203 684 \nz\n\" transform=\"scale(0.015625)\"/>\n      <path id=\"LiberationSans-20\" transform=\"scale(0.015625)\"/>\n      <path id=\"LiberationSans-35\" d=\"M 3291 1434 \nQ 3291 1103 3191 828 \nQ 3091 553 2894 354 \nQ 2697 156 2405 46 \nQ 2113 -63 1728 -63 \nQ 1381 -63 1123 18 \nQ 866 100 687 242 \nQ 509 384 404 575 \nQ 300 766 256 984 \nL 825 1050 \nQ 859 925 921 808 \nQ 984 691 1092 598 \nQ 1200 506 1358 451 \nQ 1516 397 1741 397 \nQ 1959 397 2137 464 \nQ 2316 531 2442 662 \nQ 2569 794 2637 984 \nQ 2706 1175 2706 1422 \nQ 2706 1625 2640 1795 \nQ 2575 1966 2453 2089 \nQ 2331 2213 2154 2281 \nQ 1978 2350 1753 2350 \nQ 1613 2350 1494 2325 \nQ 1375 2300 1273 2256 \nQ 1172 2213 1089 2155 \nQ 1006 2097 934 2034 \nL 384 2034 \nL 531 4403 \nL 3034 4403 \nL 3034 3925 \nL 1044 3925 \nL 959 2528 \nQ 1109 2644 1334 2726 \nQ 1559 2809 1869 2809 \nQ 2197 2809 2459 2709 \nQ 2722 2609 2906 2426 \nQ 3091 2244 3191 1991 \nQ 3291 1738 3291 1434 \nz\n\" transform=\"scale(0.015625)\"/>\n      <path id=\"LiberationSans-39\" d=\"M 3256 2291 \nQ 3256 1703 3145 1261 \nQ 3034 819 2828 525 \nQ 2622 231 2326 84 \nQ 2031 -63 1663 -63 \nQ 1409 -63 1206 -11 \nQ 1003 41 843 150 \nQ 684 259 571 434 \nQ 459 609 391 856 \nL 928 941 \nQ 1016 656 1202 523 \nQ 1388 391 1672 391 \nQ 1900 391 2089 498 \nQ 2278 606 2411 822 \nQ 2544 1038 2619 1363 \nQ 2694 1688 2700 2125 \nQ 2634 1978 2520 1862 \nQ 2406 1747 2261 1667 \nQ 2116 1588 1947 1545 \nQ 1778 1503 1606 1503 \nQ 1306 1503 1064 1611 \nQ 822 1719 653 1912 \nQ 484 2106 392 2379 \nQ 300 2653 300 2988 \nQ 300 3328 398 3603 \nQ 497 3878 684 4070 \nQ 872 4263 1145 4366 \nQ 1419 4469 1766 4469 \nQ 2500 4469 2878 3925 \nQ 3256 3381 3256 2291 \nz\nM 2644 2834 \nQ 2644 3078 2586 3293 \nQ 2528 3509 2414 3668 \nQ 2300 3828 2133 3920 \nQ 1966 4013 1747 4013 \nQ 1544 4013 1381 3941 \nQ 1219 3869 1106 3736 \nQ 994 3603 933 3412 \nQ 872 3222 872 2988 \nQ 872 2766 926 2575 \nQ 981 2384 1090 2245 \nQ 1200 2106 1362 2026 \nQ 1525 1947 1741 1947 \nQ 1897 1947 2058 2000 \nQ 2219 2053 2348 2162 \nQ 2478 2272 2561 2439 \nQ 2644 2606 2644 2834 \nz\n\" transform=\"scale(0.015625)\"/>\n      <path id=\"LiberationSans-33\" d=\"M 3278 1216 \nQ 3278 913 3179 675 \nQ 3081 438 2892 273 \nQ 2703 109 2423 23 \nQ 2144 -63 1784 -63 \nQ 1375 -63 1095 39 \nQ 816 141 634 308 \nQ 453 475 362 689 \nQ 272 903 244 1131 \nL 825 1184 \nQ 850 1009 917 865 \nQ 984 722 1100 619 \nQ 1216 516 1384 459 \nQ 1553 403 1784 403 \nQ 2209 403 2451 612 \nQ 2694 822 2694 1234 \nQ 2694 1478 2586 1626 \nQ 2478 1775 2317 1858 \nQ 2156 1941 1967 1969 \nQ 1778 1997 1619 1997 \nL 1300 1997 \nL 1300 2484 \nL 1606 2484 \nQ 1766 2484 1937 2517 \nQ 2109 2550 2251 2636 \nQ 2394 2722 2486 2869 \nQ 2578 3016 2578 3244 \nQ 2578 3597 2370 3801 \nQ 2163 4006 1753 4006 \nQ 1381 4006 1151 3815 \nQ 922 3625 884 3278 \nL 319 3322 \nQ 353 3613 478 3828 \nQ 603 4044 795 4186 \nQ 988 4328 1234 4398 \nQ 1481 4469 1759 4469 \nQ 2128 4469 2393 4376 \nQ 2659 4284 2828 4126 \nQ 2997 3969 3076 3756 \nQ 3156 3544 3156 3303 \nQ 3156 3109 3103 2940 \nQ 3050 2772 2937 2637 \nQ 2825 2503 2651 2406 \nQ 2478 2309 2234 2259 \nL 2234 2247 \nQ 2500 2219 2697 2126 \nQ 2894 2034 3022 1896 \nQ 3150 1759 3214 1584 \nQ 3278 1409 3278 1216 \nz\n\" transform=\"scale(0.015625)\"/>\n      <path id=\"LiberationSans-5d\" d=\"M 50 -1328 \nL 50 -925 \nL 778 -925 \nL 778 4234 \nL 50 4234 \nL 50 4638 \nL 1322 4638 \nL 1322 -1328 \nL 50 -1328 \nz\n\" transform=\"scale(0.015625)\"/>\n      <path id=\"LiberationSans-64\" d=\"M 2566 544 \nQ 2409 219 2151 78 \nQ 1894 -63 1513 -63 \nQ 872 -63 570 368 \nQ 269 800 269 1675 \nQ 269 3444 1513 3444 \nQ 1897 3444 2153 3303 \nQ 2409 3163 2566 2856 \nL 2572 2856 \nQ 2572 2888 2570 2955 \nQ 2569 3022 2567 3095 \nQ 2566 3169 2566 3234 \nQ 2566 3300 2566 3328 \nL 2566 4638 \nL 3128 4638 \nL 3128 697 \nQ 3128 575 3129 462 \nQ 3131 350 3134 256 \nQ 3138 163 3141 95 \nQ 3144 28 3147 0 \nL 2609 0 \nQ 2603 31 2598 89 \nQ 2594 147 2589 222 \nQ 2584 297 2581 380 \nQ 2578 463 2578 544 \nL 2566 544 \nz\nM 859 1694 \nQ 859 1344 903 1094 \nQ 947 844 1044 683 \nQ 1141 522 1291 447 \nQ 1441 372 1656 372 \nQ 1878 372 2048 444 \nQ 2219 516 2333 677 \nQ 2447 838 2506 1097 \nQ 2566 1356 2566 1731 \nQ 2566 2091 2506 2339 \nQ 2447 2588 2331 2741 \nQ 2216 2894 2048 2961 \nQ 1881 3028 1663 3028 \nQ 1456 3028 1306 2956 \nQ 1156 2884 1056 2725 \nQ 956 2566 907 2311 \nQ 859 2056 859 1694 \nz\n\" transform=\"scale(0.015625)\"/>\n      <path id=\"LiberationSans-79\" d=\"M 1888 0 \nQ 1769 -306 1645 -551 \nQ 1522 -797 1369 -970 \nQ 1216 -1144 1028 -1236 \nQ 841 -1328 597 -1328 \nQ 491 -1328 400 -1322 \nQ 309 -1316 209 -1294 \nL 209 -872 \nQ 269 -881 344 -886 \nQ 419 -891 472 -891 \nQ 719 -891 931 -706 \nQ 1144 -522 1303 -119 \nL 1356 16 \nL 16 3381 \nL 616 3381 \nL 1328 1513 \nQ 1359 1428 1407 1287 \nQ 1456 1147 1504 1006 \nQ 1553 866 1590 753 \nQ 1628 641 1634 613 \nQ 1644 647 1680 748 \nQ 1716 850 1761 975 \nQ 1806 1100 1853 1228 \nQ 1900 1356 1931 1450 \nL 2594 3381 \nL 3188 3381 \nL 1888 0 \nz\n\" transform=\"scale(0.015625)\"/>\n      <path id=\"LiberationSans-70\" d=\"M 3291 1706 \nQ 3291 1322 3228 997 \nQ 3166 672 3020 437 \nQ 2875 203 2636 70 \nQ 2397 -63 2047 -63 \nQ 1684 -63 1412 75 \nQ 1141 213 997 525 \nL 981 525 \nQ 984 519 986 469 \nQ 988 419 989 344 \nQ 991 269 992 176 \nQ 994 84 994 -6 \nL 994 -1328 \nL 431 -1328 \nL 431 2691 \nQ 431 2813 429 2925 \nQ 428 3038 425 3130 \nQ 422 3222 419 3287 \nQ 416 3353 413 3381 \nL 956 3381 \nQ 959 3372 964 3315 \nQ 969 3259 973 3179 \nQ 978 3100 983 3009 \nQ 988 2919 988 2838 \nL 1000 2838 \nQ 1078 3000 1178 3114 \nQ 1278 3228 1406 3301 \nQ 1534 3375 1692 3408 \nQ 1850 3441 2047 3441 \nQ 2397 3441 2636 3316 \nQ 2875 3191 3020 2964 \nQ 3166 2738 3228 2417 \nQ 3291 2097 3291 1706 \nz\nM 2700 1694 \nQ 2700 2006 2662 2250 \nQ 2625 2494 2533 2662 \nQ 2441 2831 2287 2918 \nQ 2134 3006 1903 3006 \nQ 1716 3006 1550 2953 \nQ 1384 2900 1261 2750 \nQ 1138 2600 1066 2336 \nQ 994 2072 994 1650 \nQ 994 1291 1053 1042 \nQ 1113 794 1227 641 \nQ 1341 488 1509 420 \nQ 1678 353 1897 353 \nQ 2131 353 2286 443 \nQ 2441 534 2533 706 \nQ 2625 878 2662 1126 \nQ 2700 1375 2700 1694 \nz\n\" transform=\"scale(0.015625)\"/>\n      <path id=\"LiberationSans-3d\" d=\"M 313 2675 \nL 313 3138 \nL 3422 3138 \nL 3422 2675 \nL 313 2675 \nz\nM 313 1075 \nL 313 1538 \nL 3422 1538 \nL 3422 1075 \nL 313 1075 \nz\n\" transform=\"scale(0.015625)\"/>\n      <path id=\"LiberationSans-63\" d=\"M 859 1706 \nQ 859 1416 901 1172 \nQ 944 928 1044 751 \nQ 1144 575 1308 478 \nQ 1472 381 1713 381 \nQ 2013 381 2214 543 \nQ 2416 706 2463 1044 \nL 3031 1006 \nQ 3003 797 2909 603 \nQ 2816 409 2655 262 \nQ 2494 116 2262 26 \nQ 2031 -63 1728 -63 \nQ 1331 -63 1053 71 \nQ 775 206 601 442 \nQ 428 678 350 998 \nQ 272 1319 272 1694 \nQ 272 2034 328 2295 \nQ 384 2556 486 2751 \nQ 588 2947 725 3080 \nQ 863 3213 1023 3292 \nQ 1184 3372 1362 3408 \nQ 1541 3444 1722 3444 \nQ 2006 3444 2228 3366 \nQ 2450 3288 2611 3152 \nQ 2772 3016 2872 2831 \nQ 2972 2647 3013 2434 \nL 2434 2391 \nQ 2391 2672 2212 2837 \nQ 2034 3003 1706 3003 \nQ 1466 3003 1305 2923 \nQ 1144 2844 1044 2683 \nQ 944 2522 901 2278 \nQ 859 2034 859 1706 \nz\n\" transform=\"scale(0.015625)\"/>\n      <path id=\"LiberationSans-68\" d=\"M 991 2803 \nQ 1084 2975 1193 3095 \nQ 1303 3216 1434 3294 \nQ 1566 3372 1722 3408 \nQ 1878 3444 2072 3444 \nQ 2397 3444 2605 3356 \nQ 2813 3269 2933 3111 \nQ 3053 2953 3098 2734 \nQ 3144 2516 3144 2253 \nL 3144 0 \nL 2578 0 \nL 2578 2144 \nQ 2578 2359 2551 2521 \nQ 2525 2684 2450 2792 \nQ 2375 2900 2237 2954 \nQ 2100 3009 1881 3009 \nQ 1681 3009 1520 2937 \nQ 1359 2866 1245 2734 \nQ 1131 2603 1068 2415 \nQ 1006 2228 1006 1994 \nL 1006 0 \nL 444 0 \nL 444 4638 \nL 1006 4638 \nL 1006 3431 \nQ 1006 3328 1003 3225 \nQ 1000 3122 995 3034 \nQ 991 2947 987 2886 \nQ 984 2825 981 2803 \nL 991 2803 \nz\n\" transform=\"scale(0.015625)\"/>\n      <path id=\"LiberationSans-66\" d=\"M 1128 2972 \nL 1128 0 \nL 566 0 \nL 566 2972 \nL 91 2972 \nL 91 3381 \nL 566 3381 \nL 566 3763 \nQ 566 3947 600 4105 \nQ 634 4263 726 4380 \nQ 819 4497 978 4564 \nQ 1138 4631 1391 4631 \nQ 1491 4631 1598 4622 \nQ 1706 4613 1788 4594 \nL 1788 4166 \nQ 1734 4175 1664 4183 \nQ 1594 4191 1538 4191 \nQ 1413 4191 1333 4156 \nQ 1253 4122 1208 4058 \nQ 1163 3994 1145 3900 \nQ 1128 3806 1128 3684 \nL 1128 3381 \nL 1788 3381 \nL 1788 2972 \nL 1128 2972 \nz\n\" transform=\"scale(0.015625)\"/>\n      <path id=\"LiberationSans-6c\" d=\"M 431 0 \nL 431 4638 \nL 994 4638 \nL 994 0 \nL 431 0 \nz\n\" transform=\"scale(0.015625)\"/>\n      <path id=\"LiberationSans-61\" d=\"M 1294 -63 \nQ 784 -63 528 206 \nQ 272 475 272 944 \nQ 272 1278 398 1492 \nQ 525 1706 729 1828 \nQ 934 1950 1196 1997 \nQ 1459 2044 1731 2050 \nL 2491 2063 \nL 2491 2247 \nQ 2491 2456 2447 2603 \nQ 2403 2750 2312 2840 \nQ 2222 2931 2086 2973 \nQ 1950 3016 1766 3016 \nQ 1603 3016 1472 2992 \nQ 1341 2969 1244 2908 \nQ 1147 2847 1087 2742 \nQ 1028 2638 1009 2478 \nL 422 2531 \nQ 453 2731 540 2898 \nQ 628 3066 789 3187 \nQ 950 3309 1192 3376 \nQ 1434 3444 1778 3444 \nQ 2416 3444 2737 3151 \nQ 3059 2859 3059 2306 \nL 3059 850 \nQ 3059 600 3125 473 \nQ 3191 347 3375 347 \nQ 3422 347 3469 353 \nQ 3516 359 3559 369 \nL 3559 19 \nQ 3453 -6 3348 -18 \nQ 3244 -31 3125 -31 \nQ 2966 -31 2852 11 \nQ 2738 53 2666 139 \nQ 2594 225 2556 351 \nQ 2519 478 2509 647 \nL 2491 647 \nQ 2400 484 2292 353 \nQ 2184 222 2040 130 \nQ 1897 38 1714 -12 \nQ 1531 -63 1294 -63 \nz\nM 1422 359 \nQ 1691 359 1892 457 \nQ 2094 556 2226 709 \nQ 2359 863 2425 1044 \nQ 2491 1225 2491 1391 \nL 2491 1669 \nL 1875 1656 \nQ 1669 1653 1483 1626 \nQ 1297 1600 1156 1522 \nQ 1016 1444 933 1303 \nQ 850 1163 850 934 \nQ 850 659 998 509 \nQ 1147 359 1422 359 \nz\n\" transform=\"scale(0.015625)\"/>\n      <path id=\"LiberationSans-29\" d=\"M 1734 1650 \nQ 1734 1213 1668 817 \nQ 1603 422 1462 56 \nQ 1322 -309 1103 -653 \nQ 884 -997 581 -1325 \nL 38 -1325 \nQ 331 -997 545 -653 \nQ 759 -309 896 59 \nQ 1034 428 1101 825 \nQ 1169 1222 1169 1656 \nQ 1169 2091 1101 2487 \nQ 1034 2884 896 3251 \nQ 759 3619 545 3964 \nQ 331 4309 38 4638 \nL 581 4638 \nQ 884 4309 1103 3965 \nQ 1322 3622 1462 3256 \nQ 1603 2891 1668 2494 \nQ 1734 2097 1734 1663 \nL 1734 1650 \nz\n\" transform=\"scale(0.015625)\"/>\n     </defs>\n     <use xlink:href=\"#LiberationSans-74\"/>\n     <use xlink:href=\"#LiberationSans-65\" x=\"27.783203\"/>\n     <use xlink:href=\"#LiberationSans-6e\" x=\"83.398438\"/>\n     <use xlink:href=\"#LiberationSans-73\" x=\"139.013672\"/>\n     <use xlink:href=\"#LiberationSans-6f\" x=\"189.013672\"/>\n     <use xlink:href=\"#LiberationSans-72\" x=\"244.628906\"/>\n     <use xlink:href=\"#LiberationSans-28\" x=\"277.929688\"/>\n     <use xlink:href=\"#LiberationSans-5b\" x=\"311.230469\"/>\n     <use xlink:href=\"#LiberationSans-37\" x=\"339.013672\"/>\n     <use xlink:href=\"#LiberationSans-2e\" x=\"394.628906\"/>\n     <use xlink:href=\"#LiberationSans-37\" x=\"422.412109\"/>\n     <use xlink:href=\"#LiberationSans-32\" x=\"478.027344\"/>\n     <use xlink:href=\"#LiberationSans-30\" x=\"533.642578\"/>\n     <use xlink:href=\"#LiberationSans-38\" x=\"589.257812\"/>\n     <use xlink:href=\"#LiberationSans-2c\" x=\"644.873047\"/>\n     <use xlink:href=\"#LiberationSans-20\" x=\"672.65625\"/>\n     <use xlink:href=\"#LiberationSans-35\" x=\"700.439453\"/>\n     <use xlink:href=\"#LiberationSans-2e\" x=\"756.054688\"/>\n     <use xlink:href=\"#LiberationSans-36\" x=\"783.837891\"/>\n     <use xlink:href=\"#LiberationSans-34\" x=\"839.453125\"/>\n     <use xlink:href=\"#LiberationSans-38\" x=\"895.068359\"/>\n     <use xlink:href=\"#LiberationSans-34\" x=\"950.683594\"/>\n     <use xlink:href=\"#LiberationSans-2c\" x=\"1006.298828\"/>\n     <use xlink:href=\"#LiberationSans-20\" x=\"1034.082031\"/>\n     <use xlink:href=\"#LiberationSans-38\" x=\"1061.865234\"/>\n     <use xlink:href=\"#LiberationSans-2e\" x=\"1117.480469\"/>\n     <use xlink:href=\"#LiberationSans-38\" x=\"1145.263672\"/>\n     <use xlink:href=\"#LiberationSans-31\" x=\"1200.878906\"/>\n     <use xlink:href=\"#LiberationSans-31\" x=\"1256.494141\"/>\n     <use xlink:href=\"#LiberationSans-35\" x=\"1312.109375\"/>\n     <use xlink:href=\"#LiberationSans-2c\" x=\"1367.724609\"/>\n     <use xlink:href=\"#LiberationSans-20\" x=\"1395.507812\"/>\n     <use xlink:href=\"#LiberationSans-38\" x=\"1423.291016\"/>\n     <use xlink:href=\"#LiberationSans-2e\" x=\"1478.90625\"/>\n     <use xlink:href=\"#LiberationSans-39\" x=\"1506.689453\"/>\n     <use xlink:href=\"#LiberationSans-34\" x=\"1562.304688\"/>\n     <use xlink:href=\"#LiberationSans-35\" x=\"1617.919922\"/>\n     <use xlink:href=\"#LiberationSans-39\" x=\"1673.535156\"/>\n     <use xlink:href=\"#LiberationSans-2c\" x=\"1729.150391\"/>\n     <use xlink:href=\"#LiberationSans-20\" x=\"1756.933594\"/>\n     <use xlink:href=\"#LiberationSans-39\" x=\"1784.716797\"/>\n     <use xlink:href=\"#LiberationSans-2e\" x=\"1840.332031\"/>\n     <use xlink:href=\"#LiberationSans-38\" x=\"1868.115234\"/>\n     <use xlink:href=\"#LiberationSans-32\" x=\"1923.730469\"/>\n     <use xlink:href=\"#LiberationSans-30\" x=\"1979.345703\"/>\n     <use xlink:href=\"#LiberationSans-33\" x=\"2034.960938\"/>\n     <use xlink:href=\"#LiberationSans-5d\" x=\"2090.576172\"/>\n     <use xlink:href=\"#LiberationSans-2c\" x=\"2118.359375\"/>\n     <use xlink:href=\"#LiberationSans-20\" x=\"2146.142578\"/>\n     <use xlink:href=\"#LiberationSans-64\" x=\"2173.925781\"/>\n     <use xlink:href=\"#LiberationSans-74\" x=\"2229.541016\"/>\n     <use xlink:href=\"#LiberationSans-79\" x=\"2257.324219\"/>\n     <use xlink:href=\"#LiberationSans-70\" x=\"2307.324219\"/>\n     <use xlink:href=\"#LiberationSans-65\" x=\"2362.939453\"/>\n     <use xlink:href=\"#LiberationSans-3d\" x=\"2418.554688\"/>\n     <use xlink:href=\"#LiberationSans-74\" x=\"2476.953125\"/>\n     <use xlink:href=\"#LiberationSans-6f\" x=\"2504.736328\"/>\n     <use xlink:href=\"#LiberationSans-72\" x=\"2560.351562\"/>\n     <use xlink:href=\"#LiberationSans-63\" x=\"2593.652344\"/>\n     <use xlink:href=\"#LiberationSans-68\" x=\"2643.652344\"/>\n     <use xlink:href=\"#LiberationSans-2e\" x=\"2699.267578\"/>\n     <use xlink:href=\"#LiberationSans-66\" x=\"2727.050781\"/>\n     <use xlink:href=\"#LiberationSans-6c\" x=\"2754.833984\"/>\n     <use xlink:href=\"#LiberationSans-6f\" x=\"2777.050781\"/>\n     <use xlink:href=\"#LiberationSans-61\" x=\"2832.666016\"/>\n     <use xlink:href=\"#LiberationSans-74\" x=\"2888.28125\"/>\n     <use xlink:href=\"#LiberationSans-36\" x=\"2916.064453\"/>\n     <use xlink:href=\"#LiberationSans-34\" x=\"2971.679688\"/>\n     <use xlink:href=\"#LiberationSans-29\" x=\"3027.294922\"/>\n    </g>\n   </g>\n  </g>\n </g>\n <defs>\n  <clipPath id=\"p9cbda3385b\">\n   <rect x=\"52.219687\" y=\"21.89625\" width=\"277.2\" height=\"277.2\"/>\n  </clipPath>\n </defs>\n</svg>\n"
          },
          "metadata": {}
        }
      ]
    },
    {
      "cell_type": "markdown",
      "metadata": {
        "id": "r56EPFf9N6Cp"
      },
      "source": [
        "## RESNET50"
      ]
    },
    {
      "cell_type": "code",
      "source": [
        "import torchvision.models as models\n",
        "from torchsummary import summary"
      ],
      "metadata": {
        "id": "aAEJtpfOQltO"
      },
      "execution_count": 52,
      "outputs": []
    },
    {
      "cell_type": "code",
      "execution_count": 101,
      "metadata": {
        "id": "14iBC_ykN6Cq",
        "colab": {
          "base_uri": "https://localhost:8080/"
        },
        "outputId": "f3d9c62b-b3cc-4b73-dbc2-4f1941d80d91"
      },
      "outputs": [
        {
          "output_type": "stream",
          "name": "stderr",
          "text": [
            "Downloading: \"https://download.pytorch.org/models/resnet18-f37072fd.pth\" to /root/.cache/torch/hub/checkpoints/resnet18-f37072fd.pth\n",
            "100%|██████████| 44.7M/44.7M [00:00<00:00, 187MB/s]\n"
          ]
        }
      ],
      "source": [
        "resnet50 = models.resnet18(pretrained=True).to(device)"
      ]
    },
    {
      "cell_type": "markdown",
      "metadata": {
        "id": "fUHZ6iKNN6Cq"
      },
      "source": [
        "**Freezed layers**"
      ]
    },
    {
      "cell_type": "markdown",
      "metadata": {
        "id": "vanu60goN6Cq"
      },
      "source": [
        "Change output layer"
      ]
    },
    {
      "cell_type": "code",
      "source": [
        "class RatingPredictor(nn.Module):\n",
        "    def __init__(self):\n",
        "        super().__init__()\n",
        "\n",
        "        \n",
        "        resnet50.fc = nn.Linear(in_features=512, out_features=32)\n",
        "        resnet50.fc.requires_grad_(True)\n",
        "        self.resnet = resnet50\n",
        "        # mobilenet_ft.fc = nn.Linear(in_features=128, out_features=32)\n",
        "        # mobilenet_ft.fc.requires_grad_(True)\n",
        "        # self.resnet = mobilenet_ft\n",
        "\n",
        "        self.ln4 = nn.Linear(63, 16)\n",
        "        self.relu1 = nn.ReLU()\n",
        "        self.ln5 = nn.Linear(16, 3)\n",
        "        self.relu2 = nn.ReLU()\n",
        "        # self.ln6 = nn.Linear(16, 5)\n",
        "        # self.relu3 = nn.ReLU()\n",
        "        self.ln7 = nn.Linear(35, 1)\n",
        "        self.relu4 = nn.ReLU()\n",
        "\n",
        "    def forward(self, img, tab):\n",
        "        img = self.resnet(img)\n",
        "        # print(f'img: {img.shape}')\n",
        "        img = img.reshape(img.shape[0], -1)\n",
        "        # print(f'img: {img.shape}')\n",
        "\n",
        "        tab = self.ln4(tab)\n",
        "        tab = self.relu1(tab)\n",
        "        tab = self.ln5(tab)\n",
        "        tab = self.relu2(tab)\n",
        "        # tab = self.ln6(tab)\n",
        "        # tab = self.relu3(tab)\n",
        "        # print(f'tab: {tab.shape}')\n",
        "        x = torch.cat((img, tab), dim=1)\n",
        "        # print(f'X SHAPE: {x.shape}')\n",
        "        x = self.relu4(x)\n",
        "\n",
        "        return self.ln7(x)\n",
        "    \n",
        "    def training_step(self, batch):\n",
        "        inputs, tabular, targets = batch \n",
        "        inputs = inputs.cuda() \n",
        "        tabular = tabular.cuda() \n",
        "        targets = targets.cuda() \n",
        "\n",
        "        # Generate predictions\n",
        "        out = self(inputs, tabular)       \n",
        "        # Calcuate loss\n",
        "        loss = F.l1_loss(out, targets)                \n",
        "        return loss\n",
        "\n",
        "    def validation_step(self, batch):\n",
        "        inputs, tabular, targets = batch\n",
        "        inputs = inputs.cuda() \n",
        "        tabular = tabular.cuda() \n",
        "        targets = targets.cuda() \n",
        "\n",
        "        # Generate predictions\n",
        "        out = self(inputs, tabular)\n",
        "        # Calculate loss\n",
        "        loss = F.l1_loss(out, targets) \n",
        "        acc = accuracy(out,targets)                   \n",
        "        return {'val_loss': loss.detach(), 'val_acc':acc}\n",
        "\n",
        "    def validation_epoch_end(self, outputs):\n",
        "        batch_losses = [x['val_loss'] for x in outputs]\n",
        "        epoch_loss = torch.stack(batch_losses).mean()   # Combine losses\n",
        "        batch_accuracy = [x['val_acc'] for x in outputs]\n",
        "        epoch_accuracy = torch.stack(batch_accuracy).mean()\n",
        "        return {'val_loss': epoch_loss.item(), 'val_acc':epoch_accuracy.item()}\n",
        "\n",
        "  \n",
        "    def epoch_end(self, epoch, result, num_epochs):\n",
        "      if (epoch+1) % 10 == 0 or epoch == num_epochs-1:\n",
        "        print(\"Epoch [{}], val_loss: {:.4f}\".format(epoch+1, result['val_loss'], result['val_acc']))"
      ],
      "metadata": {
        "id": "OcPfcdYrSGx-"
      },
      "execution_count": 108,
      "outputs": []
    },
    {
      "cell_type": "markdown",
      "metadata": {
        "id": "_poU1gBLN6Cq"
      },
      "source": [
        "**Train**"
      ]
    },
    {
      "cell_type": "code",
      "execution_count": 126,
      "metadata": {
        "id": "AXiExG3hN6Cq"
      },
      "outputs": [],
      "source": [
        "criterion = nn.L1Loss()\n",
        "\n",
        "# Hyper parameters\n",
        "learning_rate = 0.0001 \n",
        "\n",
        "# Adam Optimizer\n",
        "optimizer = torch.optim.AdamW(resnet50.parameters(), lr=learning_rate)\n",
        "# ls_scheduler = torch.optim.lr_scheduler.ExponentialLR(optimizer, gamma=0.7)\n",
        "\n",
        "model_res = RatingPredictor().to(device)"
      ]
    },
    {
      "cell_type": "code",
      "source": [
        "def accuracy(output,labels):\n",
        "    _,preds =torch.max(output,dim=1)\n",
        "    return torch.tensor(torch.sum(preds==labels).item()/len(preds))"
      ],
      "metadata": {
        "id": "SWuZKEC5dmQ8"
      },
      "execution_count": 72,
      "outputs": []
    },
    {
      "cell_type": "code",
      "source": [
        "def evaluate(model, val_loader):\n",
        "    model.eval() #\n",
        "    with torch.no_grad(): #\n",
        "        outputs = [model.validation_step(batch) for batch in val_loader]\n",
        "        return model.validation_epoch_end(outputs)\n",
        "\n",
        "def train(epochs, lr, model, train_loader, val_loader, optimizer, ls_scheduler=None):  # train\n",
        "    history = []\n",
        "    # optimizer = opt_func(model.parameters(), lr)\n",
        "    for epoch in range(epochs):\n",
        "        # Training Phase \n",
        "        model.train() #\n",
        "        for batch in train_loader:\n",
        "            loss = model.training_step(batch)\n",
        "            loss.backward()\n",
        "            # ls_scheduler.step()\n",
        "            optimizer.step()\n",
        "            optimizer.zero_grad()\n",
        "        # Validation phase\n",
        "        result = evaluate(model, val_loader)\n",
        "        model.epoch_end(epoch, result, epochs)\n",
        "        history.append(result)\n",
        "\n",
        "    return history"
      ],
      "metadata": {
        "id": "5-DWrLJIcRHt"
      },
      "execution_count": 73,
      "outputs": []
    },
    {
      "cell_type": "code",
      "source": [
        "history = [evaluate(model_res, val_loader)]\n",
        "print(history)"
      ],
      "metadata": {
        "colab": {
          "base_uri": "https://localhost:8080/"
        },
        "id": "Sa_sxo3rckSM",
        "outputId": "c5f65a71-a1d6-4214-e686-e19b35ed374c"
      },
      "execution_count": 129,
      "outputs": [
        {
          "output_type": "stream",
          "name": "stdout",
          "text": [
            "[{'val_loss': 8.534121801785334, 'val_acc': 0.0}]\n"
          ]
        }
      ]
    },
    {
      "cell_type": "code",
      "source": [
        "epochs = 500\n",
        "\n",
        "history += train(epochs, learning_rate, model_res, \n",
        "                 train_loader, val_loader, optimizer)"
      ],
      "metadata": {
        "colab": {
          "base_uri": "https://localhost:8080/"
        },
        "id": "iTrDdh6mduWs",
        "outputId": "53f0f44a-455d-455b-f5d9-f9ee87c3f926"
      },
      "execution_count": 130,
      "outputs": [
        {
          "output_type": "stream",
          "name": "stdout",
          "text": [
            "Epoch [10], val_loss: 4.3431\n",
            "Epoch [20], val_loss: 3.4956\n",
            "Epoch [30], val_loss: 2.5916\n",
            "Epoch [40], val_loss: 2.2916\n",
            "Epoch [50], val_loss: 1.3217\n",
            "Epoch [60], val_loss: 0.9993\n",
            "Epoch [70], val_loss: 1.3264\n",
            "Epoch [80], val_loss: 1.1467\n",
            "Epoch [90], val_loss: 1.4972\n",
            "Epoch [100], val_loss: 1.0443\n",
            "Epoch [110], val_loss: 1.8028\n",
            "Epoch [120], val_loss: 1.1494\n",
            "Epoch [130], val_loss: 1.2653\n",
            "Epoch [140], val_loss: 1.4137\n",
            "Epoch [150], val_loss: 1.1690\n",
            "Epoch [160], val_loss: 1.5339\n",
            "Epoch [170], val_loss: 1.8510\n",
            "Epoch [180], val_loss: 1.3015\n",
            "Epoch [190], val_loss: 1.4508\n",
            "Epoch [200], val_loss: 1.6631\n",
            "Epoch [210], val_loss: 1.3459\n",
            "Epoch [220], val_loss: 1.2889\n",
            "Epoch [230], val_loss: 1.2345\n",
            "Epoch [240], val_loss: 1.0275\n",
            "Epoch [250], val_loss: 1.0679\n",
            "Epoch [260], val_loss: 1.0549\n",
            "Epoch [270], val_loss: 1.2045\n",
            "Epoch [280], val_loss: 1.0737\n",
            "Epoch [290], val_loss: 0.9477\n",
            "Epoch [300], val_loss: 1.2085\n",
            "Epoch [310], val_loss: 1.1255\n",
            "Epoch [320], val_loss: 0.9536\n",
            "Epoch [330], val_loss: 1.0493\n",
            "Epoch [340], val_loss: 1.2691\n",
            "Epoch [350], val_loss: 1.3882\n",
            "Epoch [360], val_loss: 1.4681\n",
            "Epoch [370], val_loss: 1.0209\n",
            "Epoch [380], val_loss: 1.2066\n",
            "Epoch [390], val_loss: 1.0051\n",
            "Epoch [400], val_loss: 1.5093\n",
            "Epoch [410], val_loss: 1.3065\n",
            "Epoch [420], val_loss: 1.8514\n",
            "Epoch [430], val_loss: 0.9094\n",
            "Epoch [440], val_loss: 1.0046\n",
            "Epoch [450], val_loss: 1.2234\n",
            "Epoch [460], val_loss: 0.9403\n",
            "Epoch [470], val_loss: 0.9673\n",
            "Epoch [480], val_loss: 1.3037\n",
            "Epoch [490], val_loss: 0.9674\n",
            "Epoch [500], val_loss: 1.0402\n"
          ]
        }
      ]
    },
    {
      "cell_type": "code",
      "source": [
        "losses = [x['val_loss'] for x in history]\n",
        "plt.plot(losses, '-x')\n",
        "plt.xlabel('epoch')\n",
        "plt.ylabel('loss')\n",
        "plt.title('Loss vs. No. of epochs');"
      ],
      "metadata": {
        "colab": {
          "base_uri": "https://localhost:8080/",
          "height": 507
        },
        "id": "HOH2ffUZd2jf",
        "outputId": "a6be96cf-1943-4576-b7ad-8729e645a51c"
      },
      "execution_count": 131,
      "outputs": [
        {
          "output_type": "display_data",
          "data": {
            "text/plain": [
              "<Figure size 800x550 with 1 Axes>"
            ],
            "image/svg+xml": "<?xml version=\"1.0\" encoding=\"utf-8\" standalone=\"no\"?>\n<!DOCTYPE svg PUBLIC \"-//W3C//DTD SVG 1.1//EN\"\n  \"http://www.w3.org/Graphics/SVG/1.1/DTD/svg11.dtd\">\n<svg xmlns:xlink=\"http://www.w3.org/1999/xlink\" width=\"487.615pt\" height=\"364.592187pt\" viewBox=\"0 0 487.615 364.592187\" xmlns=\"http://www.w3.org/2000/svg\" version=\"1.1\">\n <metadata>\n  <rdf:RDF xmlns:dc=\"http://purl.org/dc/elements/1.1/\" xmlns:cc=\"http://creativecommons.org/ns#\" xmlns:rdf=\"http://www.w3.org/1999/02/22-rdf-syntax-ns#\">\n   <cc:Work>\n    <dc:type rdf:resource=\"http://purl.org/dc/dcmitype/StillImage\"/>\n    <dc:date>2023-05-21T21:47:35.921982</dc:date>\n    <dc:format>image/svg+xml</dc:format>\n    <dc:creator>\n     <cc:Agent>\n      <dc:title>Matplotlib v3.7.1, https://matplotlib.org/</dc:title>\n     </cc:Agent>\n    </dc:creator>\n   </cc:Work>\n  </rdf:RDF>\n </metadata>\n <defs>\n  <style type=\"text/css\">*{stroke-linejoin: round; stroke-linecap: butt}</style>\n </defs>\n <g id=\"figure_1\">\n  <g id=\"patch_1\">\n   <path d=\"M 0 364.592187 \nL 487.615 364.592187 \nL 487.615 0 \nL 0 0 \nz\n\" style=\"fill: #ffffff\"/>\n  </g>\n  <g id=\"axes_1\">\n   <g id=\"patch_2\">\n    <path d=\"M 34.015 326.81625 \nL 480.415 326.81625 \nL 480.415 21.89625 \nL 34.015 21.89625 \nz\n\" style=\"fill: #eaeaf2\"/>\n   </g>\n   <g id=\"matplotlib.axis_1\">\n    <g id=\"xtick_1\">\n     <g id=\"line2d_1\">\n      <path d=\"M 54.305909 326.81625 \nL 54.305909 21.89625 \n\" clip-path=\"url(#p5069ec84af)\" style=\"fill: none; stroke: #ffffff; stroke-linecap: round\"/>\n     </g>\n     <g id=\"line2d_2\"/>\n     <g id=\"text_1\">\n      <!-- 0 -->\n      <g style=\"fill: #262626\" transform=\"translate(51.52544 341.063125) scale(0.1 -0.1)\">\n       <defs>\n        <path id=\"LiberationSans-30\" d=\"M 3309 2203 \nQ 3309 1569 3189 1136 \nQ 3069 703 2861 436 \nQ 2653 169 2372 53 \nQ 2091 -63 1772 -63 \nQ 1450 -63 1172 53 \nQ 894 169 689 434 \nQ 484 700 367 1133 \nQ 250 1566 250 2203 \nQ 250 2869 367 3305 \nQ 484 3741 690 4000 \nQ 897 4259 1178 4364 \nQ 1459 4469 1791 4469 \nQ 2106 4469 2382 4364 \nQ 2659 4259 2865 4000 \nQ 3072 3741 3190 3305 \nQ 3309 2869 3309 2203 \nz\nM 2738 2203 \nQ 2738 2728 2675 3076 \nQ 2613 3425 2491 3633 \nQ 2369 3841 2192 3927 \nQ 2016 4013 1791 4013 \nQ 1553 4013 1372 3925 \nQ 1191 3838 1067 3630 \nQ 944 3422 881 3073 \nQ 819 2725 819 2203 \nQ 819 1697 883 1350 \nQ 947 1003 1070 792 \nQ 1194 581 1372 489 \nQ 1550 397 1778 397 \nQ 2000 397 2178 489 \nQ 2356 581 2479 792 \nQ 2603 1003 2670 1350 \nQ 2738 1697 2738 2203 \nz\n\" transform=\"scale(0.015625)\"/>\n       </defs>\n       <use xlink:href=\"#LiberationSans-30\"/>\n      </g>\n     </g>\n    </g>\n    <g id=\"xtick_2\">\n     <g id=\"line2d_3\">\n      <path d=\"M 135.469545 326.81625 \nL 135.469545 21.89625 \n\" clip-path=\"url(#p5069ec84af)\" style=\"fill: none; stroke: #ffffff; stroke-linecap: round\"/>\n     </g>\n     <g id=\"line2d_4\"/>\n     <g id=\"text_2\">\n      <!-- 100 -->\n      <g style=\"fill: #262626\" transform=\"translate(127.128139 341.063125) scale(0.1 -0.1)\">\n       <defs>\n        <path id=\"LiberationSans-31\" d=\"M 488 0 \nL 488 478 \nL 1609 478 \nL 1609 3866 \nL 616 3156 \nL 616 3688 \nL 1656 4403 \nL 2175 4403 \nL 2175 478 \nL 3247 478 \nL 3247 0 \nL 488 0 \nz\n\" transform=\"scale(0.015625)\"/>\n       </defs>\n       <use xlink:href=\"#LiberationSans-31\"/>\n       <use xlink:href=\"#LiberationSans-30\" x=\"55.615234\"/>\n       <use xlink:href=\"#LiberationSans-30\" x=\"111.230469\"/>\n      </g>\n     </g>\n    </g>\n    <g id=\"xtick_3\">\n     <g id=\"line2d_5\">\n      <path d=\"M 216.633182 326.81625 \nL 216.633182 21.89625 \n\" clip-path=\"url(#p5069ec84af)\" style=\"fill: none; stroke: #ffffff; stroke-linecap: round\"/>\n     </g>\n     <g id=\"line2d_6\"/>\n     <g id=\"text_3\">\n      <!-- 200 -->\n      <g style=\"fill: #262626\" transform=\"translate(208.291776 341.063125) scale(0.1 -0.1)\">\n       <defs>\n        <path id=\"LiberationSans-32\" d=\"M 322 0 \nL 322 397 \nQ 481 763 711 1042 \nQ 941 1322 1194 1548 \nQ 1447 1775 1695 1969 \nQ 1944 2163 2144 2356 \nQ 2344 2550 2467 2762 \nQ 2591 2975 2591 3244 \nQ 2591 3431 2534 3573 \nQ 2478 3716 2372 3812 \nQ 2266 3909 2117 3957 \nQ 1969 4006 1788 4006 \nQ 1619 4006 1470 3959 \nQ 1322 3913 1206 3819 \nQ 1091 3725 1017 3586 \nQ 944 3447 922 3263 \nL 347 3316 \nQ 375 3553 478 3762 \nQ 581 3972 762 4130 \nQ 944 4288 1198 4378 \nQ 1453 4469 1788 4469 \nQ 2116 4469 2372 4391 \nQ 2628 4313 2804 4159 \nQ 2981 4006 3075 3781 \nQ 3169 3556 3169 3263 \nQ 3169 3041 3089 2841 \nQ 3009 2641 2876 2459 \nQ 2744 2278 2569 2109 \nQ 2394 1941 2203 1780 \nQ 2013 1619 1819 1461 \nQ 1625 1303 1454 1143 \nQ 1284 984 1150 820 \nQ 1016 656 941 478 \nL 3238 478 \nL 3238 0 \nL 322 0 \nz\n\" transform=\"scale(0.015625)\"/>\n       </defs>\n       <use xlink:href=\"#LiberationSans-32\"/>\n       <use xlink:href=\"#LiberationSans-30\" x=\"55.615234\"/>\n       <use xlink:href=\"#LiberationSans-30\" x=\"111.230469\"/>\n      </g>\n     </g>\n    </g>\n    <g id=\"xtick_4\">\n     <g id=\"line2d_7\">\n      <path d=\"M 297.796818 326.81625 \nL 297.796818 21.89625 \n\" clip-path=\"url(#p5069ec84af)\" style=\"fill: none; stroke: #ffffff; stroke-linecap: round\"/>\n     </g>\n     <g id=\"line2d_8\"/>\n     <g id=\"text_4\">\n      <!-- 300 -->\n      <g style=\"fill: #262626\" transform=\"translate(289.455412 341.063125) scale(0.1 -0.1)\">\n       <defs>\n        <path id=\"LiberationSans-33\" d=\"M 3278 1216 \nQ 3278 913 3179 675 \nQ 3081 438 2892 273 \nQ 2703 109 2423 23 \nQ 2144 -63 1784 -63 \nQ 1375 -63 1095 39 \nQ 816 141 634 308 \nQ 453 475 362 689 \nQ 272 903 244 1131 \nL 825 1184 \nQ 850 1009 917 865 \nQ 984 722 1100 619 \nQ 1216 516 1384 459 \nQ 1553 403 1784 403 \nQ 2209 403 2451 612 \nQ 2694 822 2694 1234 \nQ 2694 1478 2586 1626 \nQ 2478 1775 2317 1858 \nQ 2156 1941 1967 1969 \nQ 1778 1997 1619 1997 \nL 1300 1997 \nL 1300 2484 \nL 1606 2484 \nQ 1766 2484 1937 2517 \nQ 2109 2550 2251 2636 \nQ 2394 2722 2486 2869 \nQ 2578 3016 2578 3244 \nQ 2578 3597 2370 3801 \nQ 2163 4006 1753 4006 \nQ 1381 4006 1151 3815 \nQ 922 3625 884 3278 \nL 319 3322 \nQ 353 3613 478 3828 \nQ 603 4044 795 4186 \nQ 988 4328 1234 4398 \nQ 1481 4469 1759 4469 \nQ 2128 4469 2393 4376 \nQ 2659 4284 2828 4126 \nQ 2997 3969 3076 3756 \nQ 3156 3544 3156 3303 \nQ 3156 3109 3103 2940 \nQ 3050 2772 2937 2637 \nQ 2825 2503 2651 2406 \nQ 2478 2309 2234 2259 \nL 2234 2247 \nQ 2500 2219 2697 2126 \nQ 2894 2034 3022 1896 \nQ 3150 1759 3214 1584 \nQ 3278 1409 3278 1216 \nz\n\" transform=\"scale(0.015625)\"/>\n       </defs>\n       <use xlink:href=\"#LiberationSans-33\"/>\n       <use xlink:href=\"#LiberationSans-30\" x=\"55.615234\"/>\n       <use xlink:href=\"#LiberationSans-30\" x=\"111.230469\"/>\n      </g>\n     </g>\n    </g>\n    <g id=\"xtick_5\">\n     <g id=\"line2d_9\">\n      <path d=\"M 378.960455 326.81625 \nL 378.960455 21.89625 \n\" clip-path=\"url(#p5069ec84af)\" style=\"fill: none; stroke: #ffffff; stroke-linecap: round\"/>\n     </g>\n     <g id=\"line2d_10\"/>\n     <g id=\"text_5\">\n      <!-- 400 -->\n      <g style=\"fill: #262626\" transform=\"translate(370.619048 341.063125) scale(0.1 -0.1)\">\n       <defs>\n        <path id=\"LiberationSans-34\" d=\"M 2753 997 \nL 2753 0 \nL 2222 0 \nL 2222 997 \nL 147 997 \nL 147 1434 \nL 2163 4403 \nL 2753 4403 \nL 2753 1441 \nL 3372 1441 \nL 3372 997 \nL 2753 997 \nz\nM 2222 3769 \nQ 2216 3753 2191 3708 \nQ 2166 3663 2134 3606 \nQ 2103 3550 2070 3492 \nQ 2038 3434 2013 3397 \nL 884 1734 \nQ 869 1709 839 1668 \nQ 809 1628 778 1586 \nQ 747 1544 715 1503 \nQ 684 1463 666 1441 \nL 2222 1441 \nL 2222 3769 \nz\n\" transform=\"scale(0.015625)\"/>\n       </defs>\n       <use xlink:href=\"#LiberationSans-34\"/>\n       <use xlink:href=\"#LiberationSans-30\" x=\"55.615234\"/>\n       <use xlink:href=\"#LiberationSans-30\" x=\"111.230469\"/>\n      </g>\n     </g>\n    </g>\n    <g id=\"xtick_6\">\n     <g id=\"line2d_11\">\n      <path d=\"M 460.124091 326.81625 \nL 460.124091 21.89625 \n\" clip-path=\"url(#p5069ec84af)\" style=\"fill: none; stroke: #ffffff; stroke-linecap: round\"/>\n     </g>\n     <g id=\"line2d_12\"/>\n     <g id=\"text_6\">\n      <!-- 500 -->\n      <g style=\"fill: #262626\" transform=\"translate(451.782685 341.063125) scale(0.1 -0.1)\">\n       <defs>\n        <path id=\"LiberationSans-35\" d=\"M 3291 1434 \nQ 3291 1103 3191 828 \nQ 3091 553 2894 354 \nQ 2697 156 2405 46 \nQ 2113 -63 1728 -63 \nQ 1381 -63 1123 18 \nQ 866 100 687 242 \nQ 509 384 404 575 \nQ 300 766 256 984 \nL 825 1050 \nQ 859 925 921 808 \nQ 984 691 1092 598 \nQ 1200 506 1358 451 \nQ 1516 397 1741 397 \nQ 1959 397 2137 464 \nQ 2316 531 2442 662 \nQ 2569 794 2637 984 \nQ 2706 1175 2706 1422 \nQ 2706 1625 2640 1795 \nQ 2575 1966 2453 2089 \nQ 2331 2213 2154 2281 \nQ 1978 2350 1753 2350 \nQ 1613 2350 1494 2325 \nQ 1375 2300 1273 2256 \nQ 1172 2213 1089 2155 \nQ 1006 2097 934 2034 \nL 384 2034 \nL 531 4403 \nL 3034 4403 \nL 3034 3925 \nL 1044 3925 \nL 959 2528 \nQ 1109 2644 1334 2726 \nQ 1559 2809 1869 2809 \nQ 2197 2809 2459 2709 \nQ 2722 2609 2906 2426 \nQ 3091 2244 3191 1991 \nQ 3291 1738 3291 1434 \nz\n\" transform=\"scale(0.015625)\"/>\n       </defs>\n       <use xlink:href=\"#LiberationSans-35\"/>\n       <use xlink:href=\"#LiberationSans-30\" x=\"55.615234\"/>\n       <use xlink:href=\"#LiberationSans-30\" x=\"111.230469\"/>\n      </g>\n     </g>\n    </g>\n    <g id=\"text_7\">\n     <!-- epoch -->\n     <g style=\"fill: #262626\" transform=\"translate(242.230937 355.109687) scale(0.11 -0.11)\">\n      <defs>\n       <path id=\"LiberationSans-65\" d=\"M 863 1572 \nQ 863 1306 917 1082 \nQ 972 859 1086 698 \nQ 1200 538 1378 448 \nQ 1556 359 1806 359 \nQ 2172 359 2392 506 \nQ 2613 653 2691 878 \nL 3184 738 \nQ 3131 597 3036 455 \nQ 2941 313 2781 198 \nQ 2622 84 2383 10 \nQ 2144 -63 1806 -63 \nQ 1056 -63 664 384 \nQ 272 831 272 1713 \nQ 272 2188 390 2517 \nQ 509 2847 715 3053 \nQ 922 3259 1197 3351 \nQ 1472 3444 1784 3444 \nQ 2209 3444 2495 3306 \nQ 2781 3169 2954 2926 \nQ 3128 2684 3201 2356 \nQ 3275 2028 3275 1647 \nL 3275 1572 \nL 863 1572 \nz\nM 2694 2003 \nQ 2647 2538 2422 2783 \nQ 2197 3028 1775 3028 \nQ 1634 3028 1479 2983 \nQ 1325 2938 1194 2822 \nQ 1063 2706 972 2507 \nQ 881 2309 869 2003 \nL 2694 2003 \nz\n\" transform=\"scale(0.015625)\"/>\n       <path id=\"LiberationSans-70\" d=\"M 3291 1706 \nQ 3291 1322 3228 997 \nQ 3166 672 3020 437 \nQ 2875 203 2636 70 \nQ 2397 -63 2047 -63 \nQ 1684 -63 1412 75 \nQ 1141 213 997 525 \nL 981 525 \nQ 984 519 986 469 \nQ 988 419 989 344 \nQ 991 269 992 176 \nQ 994 84 994 -6 \nL 994 -1328 \nL 431 -1328 \nL 431 2691 \nQ 431 2813 429 2925 \nQ 428 3038 425 3130 \nQ 422 3222 419 3287 \nQ 416 3353 413 3381 \nL 956 3381 \nQ 959 3372 964 3315 \nQ 969 3259 973 3179 \nQ 978 3100 983 3009 \nQ 988 2919 988 2838 \nL 1000 2838 \nQ 1078 3000 1178 3114 \nQ 1278 3228 1406 3301 \nQ 1534 3375 1692 3408 \nQ 1850 3441 2047 3441 \nQ 2397 3441 2636 3316 \nQ 2875 3191 3020 2964 \nQ 3166 2738 3228 2417 \nQ 3291 2097 3291 1706 \nz\nM 2700 1694 \nQ 2700 2006 2662 2250 \nQ 2625 2494 2533 2662 \nQ 2441 2831 2287 2918 \nQ 2134 3006 1903 3006 \nQ 1716 3006 1550 2953 \nQ 1384 2900 1261 2750 \nQ 1138 2600 1066 2336 \nQ 994 2072 994 1650 \nQ 994 1291 1053 1042 \nQ 1113 794 1227 641 \nQ 1341 488 1509 420 \nQ 1678 353 1897 353 \nQ 2131 353 2286 443 \nQ 2441 534 2533 706 \nQ 2625 878 2662 1126 \nQ 2700 1375 2700 1694 \nz\n\" transform=\"scale(0.015625)\"/>\n       <path id=\"LiberationSans-6f\" d=\"M 3291 1694 \nQ 3291 806 2900 371 \nQ 2509 -63 1766 -63 \nQ 1413 -63 1134 43 \nQ 856 150 664 369 \nQ 472 588 370 917 \nQ 269 1247 269 1694 \nQ 269 3444 1784 3444 \nQ 2178 3444 2464 3334 \nQ 2750 3225 2933 3006 \nQ 3116 2788 3203 2459 \nQ 3291 2131 3291 1694 \nz\nM 2700 1694 \nQ 2700 2088 2639 2344 \nQ 2578 2600 2461 2753 \nQ 2344 2906 2175 2967 \nQ 2006 3028 1794 3028 \nQ 1578 3028 1404 2964 \nQ 1231 2900 1109 2745 \nQ 988 2591 923 2334 \nQ 859 2078 859 1694 \nQ 859 1300 928 1042 \nQ 997 784 1117 631 \nQ 1238 478 1402 415 \nQ 1566 353 1759 353 \nQ 1975 353 2150 414 \nQ 2325 475 2447 628 \nQ 2569 781 2634 1040 \nQ 2700 1300 2700 1694 \nz\n\" transform=\"scale(0.015625)\"/>\n       <path id=\"LiberationSans-63\" d=\"M 859 1706 \nQ 859 1416 901 1172 \nQ 944 928 1044 751 \nQ 1144 575 1308 478 \nQ 1472 381 1713 381 \nQ 2013 381 2214 543 \nQ 2416 706 2463 1044 \nL 3031 1006 \nQ 3003 797 2909 603 \nQ 2816 409 2655 262 \nQ 2494 116 2262 26 \nQ 2031 -63 1728 -63 \nQ 1331 -63 1053 71 \nQ 775 206 601 442 \nQ 428 678 350 998 \nQ 272 1319 272 1694 \nQ 272 2034 328 2295 \nQ 384 2556 486 2751 \nQ 588 2947 725 3080 \nQ 863 3213 1023 3292 \nQ 1184 3372 1362 3408 \nQ 1541 3444 1722 3444 \nQ 2006 3444 2228 3366 \nQ 2450 3288 2611 3152 \nQ 2772 3016 2872 2831 \nQ 2972 2647 3013 2434 \nL 2434 2391 \nQ 2391 2672 2212 2837 \nQ 2034 3003 1706 3003 \nQ 1466 3003 1305 2923 \nQ 1144 2844 1044 2683 \nQ 944 2522 901 2278 \nQ 859 2034 859 1706 \nz\n\" transform=\"scale(0.015625)\"/>\n       <path id=\"LiberationSans-68\" d=\"M 991 2803 \nQ 1084 2975 1193 3095 \nQ 1303 3216 1434 3294 \nQ 1566 3372 1722 3408 \nQ 1878 3444 2072 3444 \nQ 2397 3444 2605 3356 \nQ 2813 3269 2933 3111 \nQ 3053 2953 3098 2734 \nQ 3144 2516 3144 2253 \nL 3144 0 \nL 2578 0 \nL 2578 2144 \nQ 2578 2359 2551 2521 \nQ 2525 2684 2450 2792 \nQ 2375 2900 2237 2954 \nQ 2100 3009 1881 3009 \nQ 1681 3009 1520 2937 \nQ 1359 2866 1245 2734 \nQ 1131 2603 1068 2415 \nQ 1006 2228 1006 1994 \nL 1006 0 \nL 444 0 \nL 444 4638 \nL 1006 4638 \nL 1006 3431 \nQ 1006 3328 1003 3225 \nQ 1000 3122 995 3034 \nQ 991 2947 987 2886 \nQ 984 2825 981 2803 \nL 991 2803 \nz\n\" transform=\"scale(0.015625)\"/>\n      </defs>\n      <use xlink:href=\"#LiberationSans-65\"/>\n      <use xlink:href=\"#LiberationSans-70\" x=\"55.615234\"/>\n      <use xlink:href=\"#LiberationSans-6f\" x=\"111.230469\"/>\n      <use xlink:href=\"#LiberationSans-63\" x=\"166.845703\"/>\n      <use xlink:href=\"#LiberationSans-68\" x=\"216.845703\"/>\n     </g>\n    </g>\n   </g>\n   <g id=\"matplotlib.axis_2\">\n    <g id=\"ytick_1\">\n     <g id=\"line2d_13\">\n      <path d=\"M 34.015 306.766938 \nL 480.415 306.766938 \n\" clip-path=\"url(#p5069ec84af)\" style=\"fill: none; stroke: #ffffff; stroke-linecap: round\"/>\n     </g>\n     <g id=\"line2d_14\"/>\n     <g id=\"text_8\">\n      <!-- 1 -->\n      <g style=\"fill: #262626\" transform=\"translate(21.454062 310.390376) scale(0.1 -0.1)\">\n       <use xlink:href=\"#LiberationSans-31\"/>\n      </g>\n     </g>\n    </g>\n    <g id=\"ytick_2\">\n     <g id=\"line2d_15\">\n      <path d=\"M 34.015 270.795833 \nL 480.415 270.795833 \n\" clip-path=\"url(#p5069ec84af)\" style=\"fill: none; stroke: #ffffff; stroke-linecap: round\"/>\n     </g>\n     <g id=\"line2d_16\"/>\n     <g id=\"text_9\">\n      <!-- 2 -->\n      <g style=\"fill: #262626\" transform=\"translate(21.454062 274.41927) scale(0.1 -0.1)\">\n       <use xlink:href=\"#LiberationSans-32\"/>\n      </g>\n     </g>\n    </g>\n    <g id=\"ytick_3\">\n     <g id=\"line2d_17\">\n      <path d=\"M 34.015 234.824728 \nL 480.415 234.824728 \n\" clip-path=\"url(#p5069ec84af)\" style=\"fill: none; stroke: #ffffff; stroke-linecap: round\"/>\n     </g>\n     <g id=\"line2d_18\"/>\n     <g id=\"text_10\">\n      <!-- 3 -->\n      <g style=\"fill: #262626\" transform=\"translate(21.454062 238.448165) scale(0.1 -0.1)\">\n       <use xlink:href=\"#LiberationSans-33\"/>\n      </g>\n     </g>\n    </g>\n    <g id=\"ytick_4\">\n     <g id=\"line2d_19\">\n      <path d=\"M 34.015 198.853622 \nL 480.415 198.853622 \n\" clip-path=\"url(#p5069ec84af)\" style=\"fill: none; stroke: #ffffff; stroke-linecap: round\"/>\n     </g>\n     <g id=\"line2d_20\"/>\n     <g id=\"text_11\">\n      <!-- 4 -->\n      <g style=\"fill: #262626\" transform=\"translate(21.454062 202.47706) scale(0.1 -0.1)\">\n       <use xlink:href=\"#LiberationSans-34\"/>\n      </g>\n     </g>\n    </g>\n    <g id=\"ytick_5\">\n     <g id=\"line2d_21\">\n      <path d=\"M 34.015 162.882517 \nL 480.415 162.882517 \n\" clip-path=\"url(#p5069ec84af)\" style=\"fill: none; stroke: #ffffff; stroke-linecap: round\"/>\n     </g>\n     <g id=\"line2d_22\"/>\n     <g id=\"text_12\">\n      <!-- 5 -->\n      <g style=\"fill: #262626\" transform=\"translate(21.454062 166.505955) scale(0.1 -0.1)\">\n       <use xlink:href=\"#LiberationSans-35\"/>\n      </g>\n     </g>\n    </g>\n    <g id=\"ytick_6\">\n     <g id=\"line2d_23\">\n      <path d=\"M 34.015 126.911412 \nL 480.415 126.911412 \n\" clip-path=\"url(#p5069ec84af)\" style=\"fill: none; stroke: #ffffff; stroke-linecap: round\"/>\n     </g>\n     <g id=\"line2d_24\"/>\n     <g id=\"text_13\">\n      <!-- 6 -->\n      <g style=\"fill: #262626\" transform=\"translate(21.454062 130.534849) scale(0.1 -0.1)\">\n       <defs>\n        <path id=\"LiberationSans-36\" d=\"M 3278 1441 \nQ 3278 1109 3186 832 \nQ 3094 556 2914 357 \nQ 2734 159 2468 48 \nQ 2203 -63 1856 -63 \nQ 1472 -63 1184 84 \nQ 897 231 706 507 \nQ 516 784 420 1186 \nQ 325 1588 325 2100 \nQ 325 2688 433 3131 \nQ 541 3575 744 3872 \nQ 947 4169 1239 4319 \nQ 1531 4469 1900 4469 \nQ 2125 4469 2322 4422 \nQ 2519 4375 2680 4270 \nQ 2841 4166 2962 3994 \nQ 3084 3822 3156 3572 \nL 2619 3475 \nQ 2531 3759 2339 3886 \nQ 2147 4013 1894 4013 \nQ 1663 4013 1475 3903 \nQ 1288 3794 1156 3576 \nQ 1025 3359 954 3031 \nQ 884 2703 884 2266 \nQ 1038 2550 1316 2698 \nQ 1594 2847 1953 2847 \nQ 2253 2847 2497 2750 \nQ 2741 2653 2914 2470 \nQ 3088 2288 3183 2027 \nQ 3278 1766 3278 1441 \nz\nM 2706 1416 \nQ 2706 1644 2650 1828 \nQ 2594 2013 2481 2142 \nQ 2369 2272 2203 2342 \nQ 2038 2413 1819 2413 \nQ 1666 2413 1509 2367 \nQ 1353 2322 1226 2220 \nQ 1100 2119 1020 1953 \nQ 941 1788 941 1550 \nQ 941 1306 1003 1095 \nQ 1066 884 1183 728 \nQ 1300 572 1465 481 \nQ 1631 391 1838 391 \nQ 2041 391 2202 461 \nQ 2363 531 2475 664 \nQ 2588 797 2647 987 \nQ 2706 1178 2706 1416 \nz\n\" transform=\"scale(0.015625)\"/>\n       </defs>\n       <use xlink:href=\"#LiberationSans-36\"/>\n      </g>\n     </g>\n    </g>\n    <g id=\"ytick_7\">\n     <g id=\"line2d_25\">\n      <path d=\"M 34.015 90.940307 \nL 480.415 90.940307 \n\" clip-path=\"url(#p5069ec84af)\" style=\"fill: none; stroke: #ffffff; stroke-linecap: round\"/>\n     </g>\n     <g id=\"line2d_26\"/>\n     <g id=\"text_14\">\n      <!-- 7 -->\n      <g style=\"fill: #262626\" transform=\"translate(21.454062 94.563744) scale(0.1 -0.1)\">\n       <defs>\n        <path id=\"LiberationSans-37\" d=\"M 3238 3947 \nQ 2906 3441 2628 2973 \nQ 2350 2506 2150 2032 \nQ 1950 1559 1839 1061 \nQ 1728 563 1728 0 \nL 1141 0 \nQ 1141 528 1266 1036 \nQ 1391 1544 1603 2033 \nQ 1816 2522 2097 2994 \nQ 2378 3466 2694 3925 \nL 328 3925 \nL 328 4403 \nL 3238 4403 \nL 3238 3947 \nz\n\" transform=\"scale(0.015625)\"/>\n       </defs>\n       <use xlink:href=\"#LiberationSans-37\"/>\n      </g>\n     </g>\n    </g>\n    <g id=\"ytick_8\">\n     <g id=\"line2d_27\">\n      <path d=\"M 34.015 54.969202 \nL 480.415 54.969202 \n\" clip-path=\"url(#p5069ec84af)\" style=\"fill: none; stroke: #ffffff; stroke-linecap: round\"/>\n     </g>\n     <g id=\"line2d_28\"/>\n     <g id=\"text_15\">\n      <!-- 8 -->\n      <g style=\"fill: #262626\" transform=\"translate(21.454062 58.592639) scale(0.1 -0.1)\">\n       <defs>\n        <path id=\"LiberationSans-38\" d=\"M 3281 1228 \nQ 3281 947 3192 711 \nQ 3103 475 2920 303 \nQ 2738 131 2453 34 \nQ 2169 -63 1781 -63 \nQ 1394 -63 1111 34 \nQ 828 131 642 301 \nQ 456 472 367 708 \nQ 278 944 278 1222 \nQ 278 1463 351 1650 \nQ 425 1838 548 1973 \nQ 672 2109 830 2192 \nQ 988 2275 1156 2303 \nL 1156 2316 \nQ 972 2359 826 2456 \nQ 681 2553 582 2689 \nQ 484 2825 432 2990 \nQ 381 3156 381 3341 \nQ 381 3572 470 3776 \nQ 559 3981 734 4136 \nQ 909 4291 1168 4380 \nQ 1428 4469 1769 4469 \nQ 2128 4469 2392 4378 \nQ 2656 4288 2829 4133 \nQ 3003 3978 3087 3772 \nQ 3172 3566 3172 3334 \nQ 3172 3153 3120 2987 \nQ 3069 2822 2970 2686 \nQ 2872 2550 2726 2454 \nQ 2581 2359 2391 2322 \nL 2391 2309 \nQ 2581 2278 2743 2195 \nQ 2906 2113 3025 1977 \nQ 3144 1841 3212 1653 \nQ 3281 1466 3281 1228 \nz\nM 2588 3303 \nQ 2588 3469 2545 3606 \nQ 2503 3744 2406 3842 \nQ 2309 3941 2153 3995 \nQ 1997 4050 1769 4050 \nQ 1547 4050 1394 3995 \nQ 1241 3941 1142 3842 \nQ 1044 3744 1000 3606 \nQ 956 3469 956 3303 \nQ 956 3172 990 3034 \nQ 1025 2897 1115 2784 \nQ 1206 2672 1365 2600 \nQ 1525 2528 1775 2528 \nQ 2041 2528 2202 2600 \nQ 2363 2672 2448 2784 \nQ 2534 2897 2561 3034 \nQ 2588 3172 2588 3303 \nz\nM 2697 1281 \nQ 2697 1441 2653 1589 \nQ 2609 1738 2503 1852 \nQ 2397 1966 2217 2036 \nQ 2038 2106 1769 2106 \nQ 1522 2106 1348 2036 \nQ 1175 1966 1067 1850 \nQ 959 1734 909 1582 \nQ 859 1431 859 1269 \nQ 859 1066 909 898 \nQ 959 731 1068 611 \nQ 1178 491 1356 425 \nQ 1534 359 1788 359 \nQ 2044 359 2219 425 \nQ 2394 491 2500 611 \nQ 2606 731 2651 901 \nQ 2697 1072 2697 1281 \nz\n\" transform=\"scale(0.015625)\"/>\n       </defs>\n       <use xlink:href=\"#LiberationSans-38\"/>\n      </g>\n     </g>\n    </g>\n    <g id=\"text_16\">\n     <!-- loss -->\n     <g style=\"fill: #262626\" transform=\"translate(15.171562 184.136797) rotate(-90) scale(0.11 -0.11)\">\n      <defs>\n       <path id=\"LiberationSans-6c\" d=\"M 431 0 \nL 431 4638 \nL 994 4638 \nL 994 0 \nL 431 0 \nz\n\" transform=\"scale(0.015625)\"/>\n       <path id=\"LiberationSans-73\" d=\"M 2969 934 \nQ 2969 697 2876 511 \nQ 2784 325 2609 198 \nQ 2434 72 2179 4 \nQ 1925 -63 1597 -63 \nQ 1303 -63 1067 -17 \nQ 831 28 653 128 \nQ 475 228 354 392 \nQ 234 556 178 794 \nL 675 891 \nQ 747 619 972 492 \nQ 1197 366 1597 366 \nQ 1778 366 1929 391 \nQ 2081 416 2190 477 \nQ 2300 538 2361 639 \nQ 2422 741 2422 891 \nQ 2422 1044 2350 1142 \nQ 2278 1241 2150 1306 \nQ 2022 1372 1839 1420 \nQ 1656 1469 1438 1528 \nQ 1234 1581 1034 1647 \nQ 834 1713 673 1820 \nQ 513 1928 413 2087 \nQ 313 2247 313 2488 \nQ 313 2950 642 3192 \nQ 972 3434 1603 3434 \nQ 2163 3434 2492 3237 \nQ 2822 3041 2909 2606 \nL 2403 2544 \nQ 2375 2675 2300 2764 \nQ 2225 2853 2119 2908 \nQ 2013 2963 1880 2986 \nQ 1747 3009 1603 3009 \nQ 1222 3009 1040 2893 \nQ 859 2778 859 2544 \nQ 859 2406 926 2317 \nQ 994 2228 1114 2167 \nQ 1234 2106 1403 2061 \nQ 1572 2016 1775 1966 \nQ 1909 1931 2050 1892 \nQ 2191 1853 2323 1798 \nQ 2456 1744 2573 1670 \nQ 2691 1597 2778 1494 \nQ 2866 1391 2917 1253 \nQ 2969 1116 2969 934 \nz\n\" transform=\"scale(0.015625)\"/>\n      </defs>\n      <use xlink:href=\"#LiberationSans-6c\"/>\n      <use xlink:href=\"#LiberationSans-6f\" x=\"22.216797\"/>\n      <use xlink:href=\"#LiberationSans-73\" x=\"77.832031\"/>\n      <use xlink:href=\"#LiberationSans-73\" x=\"127.832031\"/>\n     </g>\n    </g>\n   </g>\n   <g id=\"line2d_29\">\n    <path d=\"M 54.305909 35.75625 \nL 55.117545 119.599526 \nL 55.929182 142.097247 \nL 57.552455 163.890948 \nL 58.364091 168.473837 \nL 59.987364 174.360033 \nL 60.799 175.858103 \nL 61.610636 180.634164 \nL 62.422273 186.510362 \nL 63.233909 189.78481 \nL 64.045545 191.972776 \nL 64.857182 197.372601 \nL 65.668818 194.431281 \nL 67.292091 207.910241 \nL 68.103727 212.038427 \nL 68.915364 208.960038 \nL 69.727 208.58085 \nL 70.538636 216.997495 \nL 71.350273 220.792617 \nL 72.161909 226.095376 \nL 72.973545 228.14308 \nL 73.785182 230.620445 \nL 74.596818 236.858738 \nL 75.408455 233.809082 \nL 76.220091 232.62772 \nL 77.031727 242.597609 \nL 77.843364 248.269412 \nL 78.655 249.516955 \nL 79.466636 250.007484 \nL 80.278273 257.922334 \nL 81.089909 253.763478 \nL 82.713182 265.009689 \nL 83.524818 266.109282 \nL 84.336455 271.262867 \nL 85.148091 272.724212 \nL 85.959727 272.732643 \nL 86.771364 260.306175 \nL 87.583 273.810613 \nL 88.394636 281.64394 \nL 89.206273 273.530006 \nL 90.017909 281.422127 \nL 90.829545 286.215628 \nL 91.641182 287.438536 \nL 92.452818 287.702763 \nL 93.264455 276.958618 \nL 94.076091 282.629258 \nL 94.887727 295.195816 \nL 95.699364 284.803747 \nL 96.511 296.665154 \nL 97.322636 287.827439 \nL 98.134273 283.554697 \nL 98.945909 300.180703 \nL 99.757545 304.060641 \nL 100.569182 295.302034 \nL 101.380818 303.217944 \nL 102.192455 298.8053 \nL 103.004091 306.790893 \nL 103.815727 302.929131 \nL 104.627364 307.756479 \nL 105.439 297.316771 \nL 106.250636 304.458519 \nL 107.062273 303.69294 \nL 107.873909 295.568586 \nL 108.685545 279.051374 \nL 109.497182 296.587435 \nL 110.308818 309.178446 \nL 111.120455 295.02444 \nL 111.932091 296.087717 \nL 112.743727 287.345414 \nL 113.555364 287.841048 \nL 114.367 297.721651 \nL 115.178636 303.122407 \nL 115.990273 304.627421 \nL 116.801909 310.885757 \nL 118.425182 303.804 \nL 119.236818 301.490332 \nL 120.048455 274.885882 \nL 120.860091 296.820829 \nL 121.671727 303.780729 \nL 122.483364 308.949673 \nL 123.295 287.588856 \nL 124.106636 282.273111 \nL 124.918273 301.139955 \nL 125.729909 302.544494 \nL 126.541545 293.488653 \nL 127.353182 288.880931 \nL 128.164818 303.814544 \nL 128.976455 285.606142 \nL 129.788091 271.078708 \nL 130.599727 302.568968 \nL 131.411364 288.834153 \nL 132.223 310.63751 \nL 133.034636 265.49815 \nL 133.846273 298.157025 \nL 134.657909 304.242649 \nL 135.469545 305.171851 \nL 136.281182 291.42028 \nL 137.092818 304.530915 \nL 137.904455 270.831736 \nL 138.716091 303.722185 \nL 139.527727 309.155483 \nL 140.339364 281.992955 \nL 141.151 300.40101 \nL 141.962636 270.514258 \nL 142.774273 280.512567 \nL 143.585909 277.889143 \nL 144.397545 299.837407 \nL 145.209182 290.070911 \nL 146.020818 305.554528 \nL 146.832455 308.001157 \nL 147.644091 272.51267 \nL 148.455727 304.463005 \nL 149.267364 309.105963 \nL 150.079 262.022541 \nL 150.890636 285.120242 \nL 151.702273 301.392548 \nL 152.513909 306.015782 \nL 153.325545 305.471348 \nL 154.137182 305.633937 \nL 154.948818 285.942589 \nL 155.760455 300.513826 \nL 156.572091 303.718115 \nL 157.383727 303.563542 \nL 158.195364 292.27098 \nL 159.007 301.827365 \nL 159.818636 297.22285 \nL 160.630273 305.731977 \nL 161.441909 296.869151 \nL 162.253545 310.065536 \nL 163.876818 309.961501 \nL 164.688455 303.78094 \nL 165.500091 301.55475 \nL 166.311727 301.97718 \nL 167.123364 300.703588 \nL 167.935 291.884496 \nL 168.746636 305.236771 \nL 169.558273 305.545316 \nL 170.369909 226.801512 \nL 171.181545 252.270441 \nL 171.993182 268.329503 \nL 172.804818 297.87959 \nL 173.616455 302.763967 \nL 174.428091 301.641303 \nL 175.239727 290.72247 \nL 176.051364 300.686872 \nL 176.863 307.505135 \nL 177.674636 310.959444 \nL 178.486273 274.899608 \nL 179.297909 310.440331 \nL 180.109545 298.161318 \nL 180.921182 307.245166 \nL 181.732818 300.05639 \nL 182.544455 303.213643 \nL 183.356091 299.465162 \nL 184.167727 287.561217 \nL 184.979364 306.052012 \nL 185.791 310.875015 \nL 186.602636 302.711919 \nL 187.414273 283.78514 \nL 188.225909 301.602838 \nL 189.037545 283.607168 \nL 189.849182 281.97122 \nL 190.660818 297.282583 \nL 191.472455 290.331233 \nL 192.284091 276.155876 \nL 193.095727 292.270827 \nL 193.907364 278.821512 \nL 194.719 262.734389 \nL 195.530636 275.709842 \nL 196.342273 296.104904 \nL 197.153909 276.145302 \nL 197.965545 297.666522 \nL 198.777182 258.627364 \nL 200.400455 295.920443 \nL 202.023727 279.139307 \nL 202.835364 285.513477 \nL 203.647 300.519571 \nL 205.270273 293.288123 \nL 206.081909 279.780656 \nL 206.893545 304.264445 \nL 207.705182 302.905058 \nL 208.516818 290.551293 \nL 209.328455 289.866667 \nL 210.140091 298.015835 \nL 210.951727 301.114675 \nL 211.763364 307.652302 \nL 212.575 311.660661 \nL 213.386636 306.616593 \nL 214.198273 306.760049 \nL 215.009909 304.26818 \nL 215.821545 298.103015 \nL 216.633182 282.913642 \nL 217.444818 305.83417 \nL 218.256455 308.636983 \nL 219.068091 291.824018 \nL 219.879727 301.945289 \nL 220.691364 307.53573 \nL 221.503 308.56298 \nL 222.314636 310.808242 \nL 223.126273 304.494728 \nL 223.937909 308.122318 \nL 224.749545 294.324464 \nL 225.561182 294.80903 \nL 226.372818 287.276568 \nL 227.184455 306.807337 \nL 227.996091 268.011958 \nL 228.807727 306.101426 \nL 229.619364 281.541546 \nL 230.431 282.15453 \nL 231.242636 283.114066 \nL 232.054273 294.498697 \nL 232.865909 296.374104 \nL 233.677545 308.30376 \nL 234.489182 284.469458 \nL 235.300818 301.614421 \nL 236.112455 306.760217 \nL 236.924091 299.176042 \nL 237.735727 306.337673 \nL 238.547364 289.19888 \nL 239.359 303.747709 \nL 240.170636 303.424832 \nL 240.982273 298.331024 \nL 241.793909 310.923611 \nL 242.605545 305.722014 \nL 243.417182 291.808474 \nL 244.228818 299.395482 \nL 245.040455 292.419893 \nL 245.852091 293.400588 \nL 246.663727 297.337732 \nL 247.475364 295.159066 \nL 248.287 301.247307 \nL 249.098636 305.778094 \nL 249.910273 293.982587 \nL 250.721909 299.712909 \nL 251.533545 284.32475 \nL 252.345182 278.035248 \nL 253.156818 296.084017 \nL 253.968455 307.469189 \nL 254.780091 289.492353 \nL 255.591727 298.248067 \nL 256.403364 282.157202 \nL 257.215 304.323214 \nL 258.026636 289.53512 \nL 258.838273 301.949704 \nL 259.649909 305.938654 \nL 260.461545 306.198182 \nL 261.273182 303.478463 \nL 262.084818 302.355246 \nL 262.896455 309.403964 \nL 263.708091 305.95059 \nL 264.519727 300.358799 \nL 265.331364 304.793148 \nL 266.143 302.762507 \nL 266.954636 308.435947 \nL 267.766273 305.570298 \nL 268.577909 303.337956 \nL 269.389545 311.294551 \nL 270.201182 302.768988 \nL 271.012818 308.295851 \nL 271.824455 304.549431 \nL 272.636091 305.011067 \nL 273.447727 299.411679 \nL 274.259364 273.330835 \nL 275.071 304.327971 \nL 275.882636 310.951035 \nL 276.694273 303.225123 \nL 277.505909 303.240461 \nL 279.129182 299.328663 \nL 279.940818 303.038421 \nL 280.752455 306.034736 \nL 281.564091 304.11729 \nL 282.375727 306.907422 \nL 283.187364 307.122831 \nL 283.999 295.2445 \nL 284.810636 294.222665 \nL 285.622273 292.646391 \nL 286.433909 305.744237 \nL 287.245545 306.069903 \nL 288.057182 297.91999 \nL 288.868818 298.973355 \nL 289.680455 308.649319 \nL 290.492091 305.452186 \nL 291.303727 300.042249 \nL 292.115364 303.429757 \nL 292.927 305.458498 \nL 293.738636 301.573604 \nL 294.550273 293.516535 \nL 295.361909 290.935902 \nL 296.173545 298.913019 \nL 296.985182 301.892572 \nL 297.796818 299.267229 \nL 298.608455 297.098207 \nL 299.420091 299.730142 \nL 300.231727 281.330068 \nL 301.043364 294.581067 \nL 301.855 300.593202 \nL 302.666636 295.482705 \nL 303.478273 306.093104 \nL 305.101545 294.023464 \nL 305.913182 302.252161 \nL 306.724818 301.959414 \nL 307.536455 306.05468 \nL 308.348091 307.335123 \nL 309.159727 307.730696 \nL 309.971364 296.008719 \nL 310.783 307.427196 \nL 311.594636 310.911698 \nL 312.406273 308.003796 \nL 313.217909 307.345999 \nL 314.029545 308.435026 \nL 314.841182 308.210175 \nL 315.652818 306.252449 \nL 316.464455 308.304831 \nL 317.276091 302.959162 \nL 318.087727 306.975686 \nL 318.899364 309.363664 \nL 319.711 306.209686 \nL 320.522636 299.734514 \nL 321.334273 309.711467 \nL 322.145909 304.99393 \nL 322.957545 297.526349 \nL 323.769182 305.132499 \nL 324.580818 309.390758 \nL 325.392455 306.161915 \nL 326.204091 304.145119 \nL 327.015727 301.033786 \nL 327.827364 305.992508 \nL 328.639 302.821048 \nL 329.450636 294.931147 \nL 330.262273 297.087924 \nL 331.073909 283.092157 \nL 331.885545 295.769118 \nL 332.697182 286.297889 \nL 333.508818 289.935801 \nL 334.320455 287.942139 \nL 335.132091 300.249733 \nL 335.943727 299.05426 \nL 336.755364 279.635068 \nL 337.567 282.020126 \nL 338.378636 292.802792 \nL 339.190273 297.636055 \nL 340.001909 286.051665 \nL 341.625182 291.324453 \nL 342.436818 273.97908 \nL 343.248455 268.855008 \nL 344.060091 284.684356 \nL 344.871727 279.728501 \nL 345.683364 271.260153 \nL 346.495 289.928949 \nL 348.118273 298.402391 \nL 348.929909 270.518908 \nL 349.741545 267.977575 \nL 350.553182 278.403922 \nL 351.364818 293.000795 \nL 352.176455 285.019789 \nL 352.988091 298.539067 \nL 353.799727 300.984454 \nL 354.611364 306.014948 \nL 355.423 305.66484 \nL 356.234636 291.39941 \nL 357.046273 294.08547 \nL 357.857909 300.60502 \nL 358.669545 293.842305 \nL 359.481182 285.685514 \nL 360.292818 256.327721 \nL 361.916091 298.941107 \nL 362.727727 299.336643 \nL 363.539364 299.521072 \nL 364.351 262.760129 \nL 365.162636 290.08827 \nL 365.974273 306.196456 \nL 366.785909 307.91318 \nL 367.597545 312.95625 \nL 368.409182 248.518329 \nL 369.220818 260.640812 \nL 370.032455 297.221246 \nL 370.844091 306.583241 \nL 371.655727 307.687739 \nL 372.467364 304.013692 \nL 373.279 302.103047 \nL 374.090636 304.346122 \nL 375.713909 283.26131 \nL 376.525545 299.873392 \nL 377.337182 296.688714 \nL 378.148818 295.160495 \nL 378.960455 288.445566 \nL 379.772091 288.255011 \nL 381.395364 275.775463 \nL 382.207 283.31314 \nL 383.018636 260.463444 \nL 383.830273 287.047716 \nL 384.641909 280.868131 \nL 385.453545 269.987213 \nL 386.265182 289.743189 \nL 387.076818 295.741139 \nL 387.888455 291.429637 \nL 388.700091 306.435017 \nL 389.511727 309.241669 \nL 390.323364 299.244037 \nL 391.135 301.37734 \nL 392.758273 285.757185 \nL 393.569909 310.141703 \nL 394.381545 310.382996 \nL 395.193182 276.140967 \nL 396.004818 287.853726 \nL 396.816455 278.255736 \nL 397.628091 282.872269 \nL 398.439727 297.380938 \nL 399.251364 308.51534 \nL 400.063 306.985065 \nL 400.874636 307.905706 \nL 401.686273 292.063963 \nL 402.497909 302.401623 \nL 403.309545 310.02762 \nL 404.121182 283.154907 \nL 404.932818 287.023617 \nL 405.744455 310.472108 \nL 406.556091 306.803924 \nL 407.367727 306.149288 \nL 408.179364 304.153951 \nL 408.991 306.802345 \nL 410.614273 299.350029 \nL 411.425909 306.601961 \nL 412.237545 293.797435 \nL 413.049182 287.132664 \nL 413.860818 288.492307 \nL 414.672455 291.448251 \nL 415.484091 310.588516 \nL 416.295727 306.637038 \nL 417.107364 311.057474 \nL 417.919 301.967555 \nL 418.730636 310.610451 \nL 419.542273 298.729707 \nL 420.353909 299.772831 \nL 421.165545 310.237429 \nL 421.977182 304.344084 \nL 422.788818 311.279198 \nL 423.600455 309.683379 \nL 424.412091 312.55355 \nL 425.223727 304.558439 \nL 426.035364 307.824903 \nL 426.847 310.414231 \nL 427.658636 308.912855 \nL 428.470273 295.817849 \nL 429.281909 310.052858 \nL 430.093545 309.982506 \nL 430.905182 308.846891 \nL 431.716818 311.44685 \nL 432.528455 306.378561 \nL 433.340091 306.49324 \nL 434.151727 305.579195 \nL 434.963364 306.548144 \nL 435.775 307.941779 \nL 436.586636 311.396958 \nL 437.398273 308.24814 \nL 438.209909 303.344652 \nL 439.021545 305.417898 \nL 439.833182 303.340537 \nL 440.644818 284.316009 \nL 441.456455 304.429757 \nL 442.268091 304.146881 \nL 443.079727 306.310619 \nL 443.891364 295.842597 \nL 444.703 308.16107 \nL 445.514636 308.622269 \nL 446.326273 310.237141 \nL 447.137909 307.948803 \nL 448.761182 309.136195 \nL 449.572818 310.5588 \nL 450.384455 300.73745 \nL 451.196091 305.392178 \nL 452.007727 307.938002 \nL 452.819364 309.248372 \nL 454.442636 306.214093 \nL 455.254273 310.003519 \nL 456.065909 295.872394 \nL 456.877545 302.327286 \nL 457.689182 299.159635 \nL 458.500818 300.331586 \nL 459.312455 293.041746 \nL 460.124091 305.320985 \nL 460.124091 305.320985 \n\" clip-path=\"url(#p5069ec84af)\" style=\"fill: none; stroke: #4c72b0; stroke-width: 1.75; stroke-linecap: round\"/>\n    <defs>\n     <path id=\"mc26eacde6f\" d=\"M -3.5 3.5 \nL 3.5 -3.5 \nM -3.5 -3.5 \nL 3.5 3.5 \n\"/>\n    </defs>\n    <g clip-path=\"url(#p5069ec84af)\">\n     <use xlink:href=\"#mc26eacde6f\" x=\"54.305909\" y=\"35.75625\" style=\"fill: #4c72b0\"/>\n     <use xlink:href=\"#mc26eacde6f\" x=\"55.117545\" y=\"119.599526\" style=\"fill: #4c72b0\"/>\n     <use xlink:href=\"#mc26eacde6f\" x=\"55.929182\" y=\"142.097247\" style=\"fill: #4c72b0\"/>\n     <use xlink:href=\"#mc26eacde6f\" x=\"56.740818\" y=\"152.974574\" style=\"fill: #4c72b0\"/>\n     <use xlink:href=\"#mc26eacde6f\" x=\"57.552455\" y=\"163.890948\" style=\"fill: #4c72b0\"/>\n     <use xlink:href=\"#mc26eacde6f\" x=\"58.364091\" y=\"168.473837\" style=\"fill: #4c72b0\"/>\n     <use xlink:href=\"#mc26eacde6f\" x=\"59.175727\" y=\"171.253557\" style=\"fill: #4c72b0\"/>\n     <use xlink:href=\"#mc26eacde6f\" x=\"59.987364\" y=\"174.360033\" style=\"fill: #4c72b0\"/>\n     <use xlink:href=\"#mc26eacde6f\" x=\"60.799\" y=\"175.858103\" style=\"fill: #4c72b0\"/>\n     <use xlink:href=\"#mc26eacde6f\" x=\"61.610636\" y=\"180.634164\" style=\"fill: #4c72b0\"/>\n     <use xlink:href=\"#mc26eacde6f\" x=\"62.422273\" y=\"186.510362\" style=\"fill: #4c72b0\"/>\n     <use xlink:href=\"#mc26eacde6f\" x=\"63.233909\" y=\"189.78481\" style=\"fill: #4c72b0\"/>\n     <use xlink:href=\"#mc26eacde6f\" x=\"64.045545\" y=\"191.972776\" style=\"fill: #4c72b0\"/>\n     <use xlink:href=\"#mc26eacde6f\" x=\"64.857182\" y=\"197.372601\" style=\"fill: #4c72b0\"/>\n     <use xlink:href=\"#mc26eacde6f\" x=\"65.668818\" y=\"194.431281\" style=\"fill: #4c72b0\"/>\n     <use xlink:href=\"#mc26eacde6f\" x=\"66.480455\" y=\"201.585333\" style=\"fill: #4c72b0\"/>\n     <use xlink:href=\"#mc26eacde6f\" x=\"67.292091\" y=\"207.910241\" style=\"fill: #4c72b0\"/>\n     <use xlink:href=\"#mc26eacde6f\" x=\"68.103727\" y=\"212.038427\" style=\"fill: #4c72b0\"/>\n     <use xlink:href=\"#mc26eacde6f\" x=\"68.915364\" y=\"208.960038\" style=\"fill: #4c72b0\"/>\n     <use xlink:href=\"#mc26eacde6f\" x=\"69.727\" y=\"208.58085\" style=\"fill: #4c72b0\"/>\n     <use xlink:href=\"#mc26eacde6f\" x=\"70.538636\" y=\"216.997495\" style=\"fill: #4c72b0\"/>\n     <use xlink:href=\"#mc26eacde6f\" x=\"71.350273\" y=\"220.792617\" style=\"fill: #4c72b0\"/>\n     <use xlink:href=\"#mc26eacde6f\" x=\"72.161909\" y=\"226.095376\" style=\"fill: #4c72b0\"/>\n     <use xlink:href=\"#mc26eacde6f\" x=\"72.973545\" y=\"228.14308\" style=\"fill: #4c72b0\"/>\n     <use xlink:href=\"#mc26eacde6f\" x=\"73.785182\" y=\"230.620445\" style=\"fill: #4c72b0\"/>\n     <use xlink:href=\"#mc26eacde6f\" x=\"74.596818\" y=\"236.858738\" style=\"fill: #4c72b0\"/>\n     <use xlink:href=\"#mc26eacde6f\" x=\"75.408455\" y=\"233.809082\" style=\"fill: #4c72b0\"/>\n     <use xlink:href=\"#mc26eacde6f\" x=\"76.220091\" y=\"232.62772\" style=\"fill: #4c72b0\"/>\n     <use xlink:href=\"#mc26eacde6f\" x=\"77.031727\" y=\"242.597609\" style=\"fill: #4c72b0\"/>\n     <use xlink:href=\"#mc26eacde6f\" x=\"77.843364\" y=\"248.269412\" style=\"fill: #4c72b0\"/>\n     <use xlink:href=\"#mc26eacde6f\" x=\"78.655\" y=\"249.516955\" style=\"fill: #4c72b0\"/>\n     <use xlink:href=\"#mc26eacde6f\" x=\"79.466636\" y=\"250.007484\" style=\"fill: #4c72b0\"/>\n     <use xlink:href=\"#mc26eacde6f\" x=\"80.278273\" y=\"257.922334\" style=\"fill: #4c72b0\"/>\n     <use xlink:href=\"#mc26eacde6f\" x=\"81.089909\" y=\"253.763478\" style=\"fill: #4c72b0\"/>\n     <use xlink:href=\"#mc26eacde6f\" x=\"81.901545\" y=\"259.116635\" style=\"fill: #4c72b0\"/>\n     <use xlink:href=\"#mc26eacde6f\" x=\"82.713182\" y=\"265.009689\" style=\"fill: #4c72b0\"/>\n     <use xlink:href=\"#mc26eacde6f\" x=\"83.524818\" y=\"266.109282\" style=\"fill: #4c72b0\"/>\n     <use xlink:href=\"#mc26eacde6f\" x=\"84.336455\" y=\"271.262867\" style=\"fill: #4c72b0\"/>\n     <use xlink:href=\"#mc26eacde6f\" x=\"85.148091\" y=\"272.724212\" style=\"fill: #4c72b0\"/>\n     <use xlink:href=\"#mc26eacde6f\" x=\"85.959727\" y=\"272.732643\" style=\"fill: #4c72b0\"/>\n     <use xlink:href=\"#mc26eacde6f\" x=\"86.771364\" y=\"260.306175\" style=\"fill: #4c72b0\"/>\n     <use xlink:href=\"#mc26eacde6f\" x=\"87.583\" y=\"273.810613\" style=\"fill: #4c72b0\"/>\n     <use xlink:href=\"#mc26eacde6f\" x=\"88.394636\" y=\"281.64394\" style=\"fill: #4c72b0\"/>\n     <use xlink:href=\"#mc26eacde6f\" x=\"89.206273\" y=\"273.530006\" style=\"fill: #4c72b0\"/>\n     <use xlink:href=\"#mc26eacde6f\" x=\"90.017909\" y=\"281.422127\" style=\"fill: #4c72b0\"/>\n     <use xlink:href=\"#mc26eacde6f\" x=\"90.829545\" y=\"286.215628\" style=\"fill: #4c72b0\"/>\n     <use xlink:href=\"#mc26eacde6f\" x=\"91.641182\" y=\"287.438536\" style=\"fill: #4c72b0\"/>\n     <use xlink:href=\"#mc26eacde6f\" x=\"92.452818\" y=\"287.702763\" style=\"fill: #4c72b0\"/>\n     <use xlink:href=\"#mc26eacde6f\" x=\"93.264455\" y=\"276.958618\" style=\"fill: #4c72b0\"/>\n     <use xlink:href=\"#mc26eacde6f\" x=\"94.076091\" y=\"282.629258\" style=\"fill: #4c72b0\"/>\n     <use xlink:href=\"#mc26eacde6f\" x=\"94.887727\" y=\"295.195816\" style=\"fill: #4c72b0\"/>\n     <use xlink:href=\"#mc26eacde6f\" x=\"95.699364\" y=\"284.803747\" style=\"fill: #4c72b0\"/>\n     <use xlink:href=\"#mc26eacde6f\" x=\"96.511\" y=\"296.665154\" style=\"fill: #4c72b0\"/>\n     <use xlink:href=\"#mc26eacde6f\" x=\"97.322636\" y=\"287.827439\" style=\"fill: #4c72b0\"/>\n     <use xlink:href=\"#mc26eacde6f\" x=\"98.134273\" y=\"283.554697\" style=\"fill: #4c72b0\"/>\n     <use xlink:href=\"#mc26eacde6f\" x=\"98.945909\" y=\"300.180703\" style=\"fill: #4c72b0\"/>\n     <use xlink:href=\"#mc26eacde6f\" x=\"99.757545\" y=\"304.060641\" style=\"fill: #4c72b0\"/>\n     <use xlink:href=\"#mc26eacde6f\" x=\"100.569182\" y=\"295.302034\" style=\"fill: #4c72b0\"/>\n     <use xlink:href=\"#mc26eacde6f\" x=\"101.380818\" y=\"303.217944\" style=\"fill: #4c72b0\"/>\n     <use xlink:href=\"#mc26eacde6f\" x=\"102.192455\" y=\"298.8053\" style=\"fill: #4c72b0\"/>\n     <use xlink:href=\"#mc26eacde6f\" x=\"103.004091\" y=\"306.790893\" style=\"fill: #4c72b0\"/>\n     <use xlink:href=\"#mc26eacde6f\" x=\"103.815727\" y=\"302.929131\" style=\"fill: #4c72b0\"/>\n     <use xlink:href=\"#mc26eacde6f\" x=\"104.627364\" y=\"307.756479\" style=\"fill: #4c72b0\"/>\n     <use xlink:href=\"#mc26eacde6f\" x=\"105.439\" y=\"297.316771\" style=\"fill: #4c72b0\"/>\n     <use xlink:href=\"#mc26eacde6f\" x=\"106.250636\" y=\"304.458519\" style=\"fill: #4c72b0\"/>\n     <use xlink:href=\"#mc26eacde6f\" x=\"107.062273\" y=\"303.69294\" style=\"fill: #4c72b0\"/>\n     <use xlink:href=\"#mc26eacde6f\" x=\"107.873909\" y=\"295.568586\" style=\"fill: #4c72b0\"/>\n     <use xlink:href=\"#mc26eacde6f\" x=\"108.685545\" y=\"279.051374\" style=\"fill: #4c72b0\"/>\n     <use xlink:href=\"#mc26eacde6f\" x=\"109.497182\" y=\"296.587435\" style=\"fill: #4c72b0\"/>\n     <use xlink:href=\"#mc26eacde6f\" x=\"110.308818\" y=\"309.178446\" style=\"fill: #4c72b0\"/>\n     <use xlink:href=\"#mc26eacde6f\" x=\"111.120455\" y=\"295.02444\" style=\"fill: #4c72b0\"/>\n     <use xlink:href=\"#mc26eacde6f\" x=\"111.932091\" y=\"296.087717\" style=\"fill: #4c72b0\"/>\n     <use xlink:href=\"#mc26eacde6f\" x=\"112.743727\" y=\"287.345414\" style=\"fill: #4c72b0\"/>\n     <use xlink:href=\"#mc26eacde6f\" x=\"113.555364\" y=\"287.841048\" style=\"fill: #4c72b0\"/>\n     <use xlink:href=\"#mc26eacde6f\" x=\"114.367\" y=\"297.721651\" style=\"fill: #4c72b0\"/>\n     <use xlink:href=\"#mc26eacde6f\" x=\"115.178636\" y=\"303.122407\" style=\"fill: #4c72b0\"/>\n     <use xlink:href=\"#mc26eacde6f\" x=\"115.990273\" y=\"304.627421\" style=\"fill: #4c72b0\"/>\n     <use xlink:href=\"#mc26eacde6f\" x=\"116.801909\" y=\"310.885757\" style=\"fill: #4c72b0\"/>\n     <use xlink:href=\"#mc26eacde6f\" x=\"117.613545\" y=\"307.426039\" style=\"fill: #4c72b0\"/>\n     <use xlink:href=\"#mc26eacde6f\" x=\"118.425182\" y=\"303.804\" style=\"fill: #4c72b0\"/>\n     <use xlink:href=\"#mc26eacde6f\" x=\"119.236818\" y=\"301.490332\" style=\"fill: #4c72b0\"/>\n     <use xlink:href=\"#mc26eacde6f\" x=\"120.048455\" y=\"274.885882\" style=\"fill: #4c72b0\"/>\n     <use xlink:href=\"#mc26eacde6f\" x=\"120.860091\" y=\"296.820829\" style=\"fill: #4c72b0\"/>\n     <use xlink:href=\"#mc26eacde6f\" x=\"121.671727\" y=\"303.780729\" style=\"fill: #4c72b0\"/>\n     <use xlink:href=\"#mc26eacde6f\" x=\"122.483364\" y=\"308.949673\" style=\"fill: #4c72b0\"/>\n     <use xlink:href=\"#mc26eacde6f\" x=\"123.295\" y=\"287.588856\" style=\"fill: #4c72b0\"/>\n     <use xlink:href=\"#mc26eacde6f\" x=\"124.106636\" y=\"282.273111\" style=\"fill: #4c72b0\"/>\n     <use xlink:href=\"#mc26eacde6f\" x=\"124.918273\" y=\"301.139955\" style=\"fill: #4c72b0\"/>\n     <use xlink:href=\"#mc26eacde6f\" x=\"125.729909\" y=\"302.544494\" style=\"fill: #4c72b0\"/>\n     <use xlink:href=\"#mc26eacde6f\" x=\"126.541545\" y=\"293.488653\" style=\"fill: #4c72b0\"/>\n     <use xlink:href=\"#mc26eacde6f\" x=\"127.353182\" y=\"288.880931\" style=\"fill: #4c72b0\"/>\n     <use xlink:href=\"#mc26eacde6f\" x=\"128.164818\" y=\"303.814544\" style=\"fill: #4c72b0\"/>\n     <use xlink:href=\"#mc26eacde6f\" x=\"128.976455\" y=\"285.606142\" style=\"fill: #4c72b0\"/>\n     <use xlink:href=\"#mc26eacde6f\" x=\"129.788091\" y=\"271.078708\" style=\"fill: #4c72b0\"/>\n     <use xlink:href=\"#mc26eacde6f\" x=\"130.599727\" y=\"302.568968\" style=\"fill: #4c72b0\"/>\n     <use xlink:href=\"#mc26eacde6f\" x=\"131.411364\" y=\"288.834153\" style=\"fill: #4c72b0\"/>\n     <use xlink:href=\"#mc26eacde6f\" x=\"132.223\" y=\"310.63751\" style=\"fill: #4c72b0\"/>\n     <use xlink:href=\"#mc26eacde6f\" x=\"133.034636\" y=\"265.49815\" style=\"fill: #4c72b0\"/>\n     <use xlink:href=\"#mc26eacde6f\" x=\"133.846273\" y=\"298.157025\" style=\"fill: #4c72b0\"/>\n     <use xlink:href=\"#mc26eacde6f\" x=\"134.657909\" y=\"304.242649\" style=\"fill: #4c72b0\"/>\n     <use xlink:href=\"#mc26eacde6f\" x=\"135.469545\" y=\"305.171851\" style=\"fill: #4c72b0\"/>\n     <use xlink:href=\"#mc26eacde6f\" x=\"136.281182\" y=\"291.42028\" style=\"fill: #4c72b0\"/>\n     <use xlink:href=\"#mc26eacde6f\" x=\"137.092818\" y=\"304.530915\" style=\"fill: #4c72b0\"/>\n     <use xlink:href=\"#mc26eacde6f\" x=\"137.904455\" y=\"270.831736\" style=\"fill: #4c72b0\"/>\n     <use xlink:href=\"#mc26eacde6f\" x=\"138.716091\" y=\"303.722185\" style=\"fill: #4c72b0\"/>\n     <use xlink:href=\"#mc26eacde6f\" x=\"139.527727\" y=\"309.155483\" style=\"fill: #4c72b0\"/>\n     <use xlink:href=\"#mc26eacde6f\" x=\"140.339364\" y=\"281.992955\" style=\"fill: #4c72b0\"/>\n     <use xlink:href=\"#mc26eacde6f\" x=\"141.151\" y=\"300.40101\" style=\"fill: #4c72b0\"/>\n     <use xlink:href=\"#mc26eacde6f\" x=\"141.962636\" y=\"270.514258\" style=\"fill: #4c72b0\"/>\n     <use xlink:href=\"#mc26eacde6f\" x=\"142.774273\" y=\"280.512567\" style=\"fill: #4c72b0\"/>\n     <use xlink:href=\"#mc26eacde6f\" x=\"143.585909\" y=\"277.889143\" style=\"fill: #4c72b0\"/>\n     <use xlink:href=\"#mc26eacde6f\" x=\"144.397545\" y=\"299.837407\" style=\"fill: #4c72b0\"/>\n     <use xlink:href=\"#mc26eacde6f\" x=\"145.209182\" y=\"290.070911\" style=\"fill: #4c72b0\"/>\n     <use xlink:href=\"#mc26eacde6f\" x=\"146.020818\" y=\"305.554528\" style=\"fill: #4c72b0\"/>\n     <use xlink:href=\"#mc26eacde6f\" x=\"146.832455\" y=\"308.001157\" style=\"fill: #4c72b0\"/>\n     <use xlink:href=\"#mc26eacde6f\" x=\"147.644091\" y=\"272.51267\" style=\"fill: #4c72b0\"/>\n     <use xlink:href=\"#mc26eacde6f\" x=\"148.455727\" y=\"304.463005\" style=\"fill: #4c72b0\"/>\n     <use xlink:href=\"#mc26eacde6f\" x=\"149.267364\" y=\"309.105963\" style=\"fill: #4c72b0\"/>\n     <use xlink:href=\"#mc26eacde6f\" x=\"150.079\" y=\"262.022541\" style=\"fill: #4c72b0\"/>\n     <use xlink:href=\"#mc26eacde6f\" x=\"150.890636\" y=\"285.120242\" style=\"fill: #4c72b0\"/>\n     <use xlink:href=\"#mc26eacde6f\" x=\"151.702273\" y=\"301.392548\" style=\"fill: #4c72b0\"/>\n     <use xlink:href=\"#mc26eacde6f\" x=\"152.513909\" y=\"306.015782\" style=\"fill: #4c72b0\"/>\n     <use xlink:href=\"#mc26eacde6f\" x=\"153.325545\" y=\"305.471348\" style=\"fill: #4c72b0\"/>\n     <use xlink:href=\"#mc26eacde6f\" x=\"154.137182\" y=\"305.633937\" style=\"fill: #4c72b0\"/>\n     <use xlink:href=\"#mc26eacde6f\" x=\"154.948818\" y=\"285.942589\" style=\"fill: #4c72b0\"/>\n     <use xlink:href=\"#mc26eacde6f\" x=\"155.760455\" y=\"300.513826\" style=\"fill: #4c72b0\"/>\n     <use xlink:href=\"#mc26eacde6f\" x=\"156.572091\" y=\"303.718115\" style=\"fill: #4c72b0\"/>\n     <use xlink:href=\"#mc26eacde6f\" x=\"157.383727\" y=\"303.563542\" style=\"fill: #4c72b0\"/>\n     <use xlink:href=\"#mc26eacde6f\" x=\"158.195364\" y=\"292.27098\" style=\"fill: #4c72b0\"/>\n     <use xlink:href=\"#mc26eacde6f\" x=\"159.007\" y=\"301.827365\" style=\"fill: #4c72b0\"/>\n     <use xlink:href=\"#mc26eacde6f\" x=\"159.818636\" y=\"297.22285\" style=\"fill: #4c72b0\"/>\n     <use xlink:href=\"#mc26eacde6f\" x=\"160.630273\" y=\"305.731977\" style=\"fill: #4c72b0\"/>\n     <use xlink:href=\"#mc26eacde6f\" x=\"161.441909\" y=\"296.869151\" style=\"fill: #4c72b0\"/>\n     <use xlink:href=\"#mc26eacde6f\" x=\"162.253545\" y=\"310.065536\" style=\"fill: #4c72b0\"/>\n     <use xlink:href=\"#mc26eacde6f\" x=\"163.065182\" y=\"309.984424\" style=\"fill: #4c72b0\"/>\n     <use xlink:href=\"#mc26eacde6f\" x=\"163.876818\" y=\"309.961501\" style=\"fill: #4c72b0\"/>\n     <use xlink:href=\"#mc26eacde6f\" x=\"164.688455\" y=\"303.78094\" style=\"fill: #4c72b0\"/>\n     <use xlink:href=\"#mc26eacde6f\" x=\"165.500091\" y=\"301.55475\" style=\"fill: #4c72b0\"/>\n     <use xlink:href=\"#mc26eacde6f\" x=\"166.311727\" y=\"301.97718\" style=\"fill: #4c72b0\"/>\n     <use xlink:href=\"#mc26eacde6f\" x=\"167.123364\" y=\"300.703588\" style=\"fill: #4c72b0\"/>\n     <use xlink:href=\"#mc26eacde6f\" x=\"167.935\" y=\"291.884496\" style=\"fill: #4c72b0\"/>\n     <use xlink:href=\"#mc26eacde6f\" x=\"168.746636\" y=\"305.236771\" style=\"fill: #4c72b0\"/>\n     <use xlink:href=\"#mc26eacde6f\" x=\"169.558273\" y=\"305.545316\" style=\"fill: #4c72b0\"/>\n     <use xlink:href=\"#mc26eacde6f\" x=\"170.369909\" y=\"226.801512\" style=\"fill: #4c72b0\"/>\n     <use xlink:href=\"#mc26eacde6f\" x=\"171.181545\" y=\"252.270441\" style=\"fill: #4c72b0\"/>\n     <use xlink:href=\"#mc26eacde6f\" x=\"171.993182\" y=\"268.329503\" style=\"fill: #4c72b0\"/>\n     <use xlink:href=\"#mc26eacde6f\" x=\"172.804818\" y=\"297.87959\" style=\"fill: #4c72b0\"/>\n     <use xlink:href=\"#mc26eacde6f\" x=\"173.616455\" y=\"302.763967\" style=\"fill: #4c72b0\"/>\n     <use xlink:href=\"#mc26eacde6f\" x=\"174.428091\" y=\"301.641303\" style=\"fill: #4c72b0\"/>\n     <use xlink:href=\"#mc26eacde6f\" x=\"175.239727\" y=\"290.72247\" style=\"fill: #4c72b0\"/>\n     <use xlink:href=\"#mc26eacde6f\" x=\"176.051364\" y=\"300.686872\" style=\"fill: #4c72b0\"/>\n     <use xlink:href=\"#mc26eacde6f\" x=\"176.863\" y=\"307.505135\" style=\"fill: #4c72b0\"/>\n     <use xlink:href=\"#mc26eacde6f\" x=\"177.674636\" y=\"310.959444\" style=\"fill: #4c72b0\"/>\n     <use xlink:href=\"#mc26eacde6f\" x=\"178.486273\" y=\"274.899608\" style=\"fill: #4c72b0\"/>\n     <use xlink:href=\"#mc26eacde6f\" x=\"179.297909\" y=\"310.440331\" style=\"fill: #4c72b0\"/>\n     <use xlink:href=\"#mc26eacde6f\" x=\"180.109545\" y=\"298.161318\" style=\"fill: #4c72b0\"/>\n     <use xlink:href=\"#mc26eacde6f\" x=\"180.921182\" y=\"307.245166\" style=\"fill: #4c72b0\"/>\n     <use xlink:href=\"#mc26eacde6f\" x=\"181.732818\" y=\"300.05639\" style=\"fill: #4c72b0\"/>\n     <use xlink:href=\"#mc26eacde6f\" x=\"182.544455\" y=\"303.213643\" style=\"fill: #4c72b0\"/>\n     <use xlink:href=\"#mc26eacde6f\" x=\"183.356091\" y=\"299.465162\" style=\"fill: #4c72b0\"/>\n     <use xlink:href=\"#mc26eacde6f\" x=\"184.167727\" y=\"287.561217\" style=\"fill: #4c72b0\"/>\n     <use xlink:href=\"#mc26eacde6f\" x=\"184.979364\" y=\"306.052012\" style=\"fill: #4c72b0\"/>\n     <use xlink:href=\"#mc26eacde6f\" x=\"185.791\" y=\"310.875015\" style=\"fill: #4c72b0\"/>\n     <use xlink:href=\"#mc26eacde6f\" x=\"186.602636\" y=\"302.711919\" style=\"fill: #4c72b0\"/>\n     <use xlink:href=\"#mc26eacde6f\" x=\"187.414273\" y=\"283.78514\" style=\"fill: #4c72b0\"/>\n     <use xlink:href=\"#mc26eacde6f\" x=\"188.225909\" y=\"301.602838\" style=\"fill: #4c72b0\"/>\n     <use xlink:href=\"#mc26eacde6f\" x=\"189.037545\" y=\"283.607168\" style=\"fill: #4c72b0\"/>\n     <use xlink:href=\"#mc26eacde6f\" x=\"189.849182\" y=\"281.97122\" style=\"fill: #4c72b0\"/>\n     <use xlink:href=\"#mc26eacde6f\" x=\"190.660818\" y=\"297.282583\" style=\"fill: #4c72b0\"/>\n     <use xlink:href=\"#mc26eacde6f\" x=\"191.472455\" y=\"290.331233\" style=\"fill: #4c72b0\"/>\n     <use xlink:href=\"#mc26eacde6f\" x=\"192.284091\" y=\"276.155876\" style=\"fill: #4c72b0\"/>\n     <use xlink:href=\"#mc26eacde6f\" x=\"193.095727\" y=\"292.270827\" style=\"fill: #4c72b0\"/>\n     <use xlink:href=\"#mc26eacde6f\" x=\"193.907364\" y=\"278.821512\" style=\"fill: #4c72b0\"/>\n     <use xlink:href=\"#mc26eacde6f\" x=\"194.719\" y=\"262.734389\" style=\"fill: #4c72b0\"/>\n     <use xlink:href=\"#mc26eacde6f\" x=\"195.530636\" y=\"275.709842\" style=\"fill: #4c72b0\"/>\n     <use xlink:href=\"#mc26eacde6f\" x=\"196.342273\" y=\"296.104904\" style=\"fill: #4c72b0\"/>\n     <use xlink:href=\"#mc26eacde6f\" x=\"197.153909\" y=\"276.145302\" style=\"fill: #4c72b0\"/>\n     <use xlink:href=\"#mc26eacde6f\" x=\"197.965545\" y=\"297.666522\" style=\"fill: #4c72b0\"/>\n     <use xlink:href=\"#mc26eacde6f\" x=\"198.777182\" y=\"258.627364\" style=\"fill: #4c72b0\"/>\n     <use xlink:href=\"#mc26eacde6f\" x=\"199.588818\" y=\"278.388453\" style=\"fill: #4c72b0\"/>\n     <use xlink:href=\"#mc26eacde6f\" x=\"200.400455\" y=\"295.920443\" style=\"fill: #4c72b0\"/>\n     <use xlink:href=\"#mc26eacde6f\" x=\"201.212091\" y=\"286.931564\" style=\"fill: #4c72b0\"/>\n     <use xlink:href=\"#mc26eacde6f\" x=\"202.023727\" y=\"279.139307\" style=\"fill: #4c72b0\"/>\n     <use xlink:href=\"#mc26eacde6f\" x=\"202.835364\" y=\"285.513477\" style=\"fill: #4c72b0\"/>\n     <use xlink:href=\"#mc26eacde6f\" x=\"203.647\" y=\"300.519571\" style=\"fill: #4c72b0\"/>\n     <use xlink:href=\"#mc26eacde6f\" x=\"204.458636\" y=\"296.690904\" style=\"fill: #4c72b0\"/>\n     <use xlink:href=\"#mc26eacde6f\" x=\"205.270273\" y=\"293.288123\" style=\"fill: #4c72b0\"/>\n     <use xlink:href=\"#mc26eacde6f\" x=\"206.081909\" y=\"279.780656\" style=\"fill: #4c72b0\"/>\n     <use xlink:href=\"#mc26eacde6f\" x=\"206.893545\" y=\"304.264445\" style=\"fill: #4c72b0\"/>\n     <use xlink:href=\"#mc26eacde6f\" x=\"207.705182\" y=\"302.905058\" style=\"fill: #4c72b0\"/>\n     <use xlink:href=\"#mc26eacde6f\" x=\"208.516818\" y=\"290.551293\" style=\"fill: #4c72b0\"/>\n     <use xlink:href=\"#mc26eacde6f\" x=\"209.328455\" y=\"289.866667\" style=\"fill: #4c72b0\"/>\n     <use xlink:href=\"#mc26eacde6f\" x=\"210.140091\" y=\"298.015835\" style=\"fill: #4c72b0\"/>\n     <use xlink:href=\"#mc26eacde6f\" x=\"210.951727\" y=\"301.114675\" style=\"fill: #4c72b0\"/>\n     <use xlink:href=\"#mc26eacde6f\" x=\"211.763364\" y=\"307.652302\" style=\"fill: #4c72b0\"/>\n     <use xlink:href=\"#mc26eacde6f\" x=\"212.575\" y=\"311.660661\" style=\"fill: #4c72b0\"/>\n     <use xlink:href=\"#mc26eacde6f\" x=\"213.386636\" y=\"306.616593\" style=\"fill: #4c72b0\"/>\n     <use xlink:href=\"#mc26eacde6f\" x=\"214.198273\" y=\"306.760049\" style=\"fill: #4c72b0\"/>\n     <use xlink:href=\"#mc26eacde6f\" x=\"215.009909\" y=\"304.26818\" style=\"fill: #4c72b0\"/>\n     <use xlink:href=\"#mc26eacde6f\" x=\"215.821545\" y=\"298.103015\" style=\"fill: #4c72b0\"/>\n     <use xlink:href=\"#mc26eacde6f\" x=\"216.633182\" y=\"282.913642\" style=\"fill: #4c72b0\"/>\n     <use xlink:href=\"#mc26eacde6f\" x=\"217.444818\" y=\"305.83417\" style=\"fill: #4c72b0\"/>\n     <use xlink:href=\"#mc26eacde6f\" x=\"218.256455\" y=\"308.636983\" style=\"fill: #4c72b0\"/>\n     <use xlink:href=\"#mc26eacde6f\" x=\"219.068091\" y=\"291.824018\" style=\"fill: #4c72b0\"/>\n     <use xlink:href=\"#mc26eacde6f\" x=\"219.879727\" y=\"301.945289\" style=\"fill: #4c72b0\"/>\n     <use xlink:href=\"#mc26eacde6f\" x=\"220.691364\" y=\"307.53573\" style=\"fill: #4c72b0\"/>\n     <use xlink:href=\"#mc26eacde6f\" x=\"221.503\" y=\"308.56298\" style=\"fill: #4c72b0\"/>\n     <use xlink:href=\"#mc26eacde6f\" x=\"222.314636\" y=\"310.808242\" style=\"fill: #4c72b0\"/>\n     <use xlink:href=\"#mc26eacde6f\" x=\"223.126273\" y=\"304.494728\" style=\"fill: #4c72b0\"/>\n     <use xlink:href=\"#mc26eacde6f\" x=\"223.937909\" y=\"308.122318\" style=\"fill: #4c72b0\"/>\n     <use xlink:href=\"#mc26eacde6f\" x=\"224.749545\" y=\"294.324464\" style=\"fill: #4c72b0\"/>\n     <use xlink:href=\"#mc26eacde6f\" x=\"225.561182\" y=\"294.80903\" style=\"fill: #4c72b0\"/>\n     <use xlink:href=\"#mc26eacde6f\" x=\"226.372818\" y=\"287.276568\" style=\"fill: #4c72b0\"/>\n     <use xlink:href=\"#mc26eacde6f\" x=\"227.184455\" y=\"306.807337\" style=\"fill: #4c72b0\"/>\n     <use xlink:href=\"#mc26eacde6f\" x=\"227.996091\" y=\"268.011958\" style=\"fill: #4c72b0\"/>\n     <use xlink:href=\"#mc26eacde6f\" x=\"228.807727\" y=\"306.101426\" style=\"fill: #4c72b0\"/>\n     <use xlink:href=\"#mc26eacde6f\" x=\"229.619364\" y=\"281.541546\" style=\"fill: #4c72b0\"/>\n     <use xlink:href=\"#mc26eacde6f\" x=\"230.431\" y=\"282.15453\" style=\"fill: #4c72b0\"/>\n     <use xlink:href=\"#mc26eacde6f\" x=\"231.242636\" y=\"283.114066\" style=\"fill: #4c72b0\"/>\n     <use xlink:href=\"#mc26eacde6f\" x=\"232.054273\" y=\"294.498697\" style=\"fill: #4c72b0\"/>\n     <use xlink:href=\"#mc26eacde6f\" x=\"232.865909\" y=\"296.374104\" style=\"fill: #4c72b0\"/>\n     <use xlink:href=\"#mc26eacde6f\" x=\"233.677545\" y=\"308.30376\" style=\"fill: #4c72b0\"/>\n     <use xlink:href=\"#mc26eacde6f\" x=\"234.489182\" y=\"284.469458\" style=\"fill: #4c72b0\"/>\n     <use xlink:href=\"#mc26eacde6f\" x=\"235.300818\" y=\"301.614421\" style=\"fill: #4c72b0\"/>\n     <use xlink:href=\"#mc26eacde6f\" x=\"236.112455\" y=\"306.760217\" style=\"fill: #4c72b0\"/>\n     <use xlink:href=\"#mc26eacde6f\" x=\"236.924091\" y=\"299.176042\" style=\"fill: #4c72b0\"/>\n     <use xlink:href=\"#mc26eacde6f\" x=\"237.735727\" y=\"306.337673\" style=\"fill: #4c72b0\"/>\n     <use xlink:href=\"#mc26eacde6f\" x=\"238.547364\" y=\"289.19888\" style=\"fill: #4c72b0\"/>\n     <use xlink:href=\"#mc26eacde6f\" x=\"239.359\" y=\"303.747709\" style=\"fill: #4c72b0\"/>\n     <use xlink:href=\"#mc26eacde6f\" x=\"240.170636\" y=\"303.424832\" style=\"fill: #4c72b0\"/>\n     <use xlink:href=\"#mc26eacde6f\" x=\"240.982273\" y=\"298.331024\" style=\"fill: #4c72b0\"/>\n     <use xlink:href=\"#mc26eacde6f\" x=\"241.793909\" y=\"310.923611\" style=\"fill: #4c72b0\"/>\n     <use xlink:href=\"#mc26eacde6f\" x=\"242.605545\" y=\"305.722014\" style=\"fill: #4c72b0\"/>\n     <use xlink:href=\"#mc26eacde6f\" x=\"243.417182\" y=\"291.808474\" style=\"fill: #4c72b0\"/>\n     <use xlink:href=\"#mc26eacde6f\" x=\"244.228818\" y=\"299.395482\" style=\"fill: #4c72b0\"/>\n     <use xlink:href=\"#mc26eacde6f\" x=\"245.040455\" y=\"292.419893\" style=\"fill: #4c72b0\"/>\n     <use xlink:href=\"#mc26eacde6f\" x=\"245.852091\" y=\"293.400588\" style=\"fill: #4c72b0\"/>\n     <use xlink:href=\"#mc26eacde6f\" x=\"246.663727\" y=\"297.337732\" style=\"fill: #4c72b0\"/>\n     <use xlink:href=\"#mc26eacde6f\" x=\"247.475364\" y=\"295.159066\" style=\"fill: #4c72b0\"/>\n     <use xlink:href=\"#mc26eacde6f\" x=\"248.287\" y=\"301.247307\" style=\"fill: #4c72b0\"/>\n     <use xlink:href=\"#mc26eacde6f\" x=\"249.098636\" y=\"305.778094\" style=\"fill: #4c72b0\"/>\n     <use xlink:href=\"#mc26eacde6f\" x=\"249.910273\" y=\"293.982587\" style=\"fill: #4c72b0\"/>\n     <use xlink:href=\"#mc26eacde6f\" x=\"250.721909\" y=\"299.712909\" style=\"fill: #4c72b0\"/>\n     <use xlink:href=\"#mc26eacde6f\" x=\"251.533545\" y=\"284.32475\" style=\"fill: #4c72b0\"/>\n     <use xlink:href=\"#mc26eacde6f\" x=\"252.345182\" y=\"278.035248\" style=\"fill: #4c72b0\"/>\n     <use xlink:href=\"#mc26eacde6f\" x=\"253.156818\" y=\"296.084017\" style=\"fill: #4c72b0\"/>\n     <use xlink:href=\"#mc26eacde6f\" x=\"253.968455\" y=\"307.469189\" style=\"fill: #4c72b0\"/>\n     <use xlink:href=\"#mc26eacde6f\" x=\"254.780091\" y=\"289.492353\" style=\"fill: #4c72b0\"/>\n     <use xlink:href=\"#mc26eacde6f\" x=\"255.591727\" y=\"298.248067\" style=\"fill: #4c72b0\"/>\n     <use xlink:href=\"#mc26eacde6f\" x=\"256.403364\" y=\"282.157202\" style=\"fill: #4c72b0\"/>\n     <use xlink:href=\"#mc26eacde6f\" x=\"257.215\" y=\"304.323214\" style=\"fill: #4c72b0\"/>\n     <use xlink:href=\"#mc26eacde6f\" x=\"258.026636\" y=\"289.53512\" style=\"fill: #4c72b0\"/>\n     <use xlink:href=\"#mc26eacde6f\" x=\"258.838273\" y=\"301.949704\" style=\"fill: #4c72b0\"/>\n     <use xlink:href=\"#mc26eacde6f\" x=\"259.649909\" y=\"305.938654\" style=\"fill: #4c72b0\"/>\n     <use xlink:href=\"#mc26eacde6f\" x=\"260.461545\" y=\"306.198182\" style=\"fill: #4c72b0\"/>\n     <use xlink:href=\"#mc26eacde6f\" x=\"261.273182\" y=\"303.478463\" style=\"fill: #4c72b0\"/>\n     <use xlink:href=\"#mc26eacde6f\" x=\"262.084818\" y=\"302.355246\" style=\"fill: #4c72b0\"/>\n     <use xlink:href=\"#mc26eacde6f\" x=\"262.896455\" y=\"309.403964\" style=\"fill: #4c72b0\"/>\n     <use xlink:href=\"#mc26eacde6f\" x=\"263.708091\" y=\"305.95059\" style=\"fill: #4c72b0\"/>\n     <use xlink:href=\"#mc26eacde6f\" x=\"264.519727\" y=\"300.358799\" style=\"fill: #4c72b0\"/>\n     <use xlink:href=\"#mc26eacde6f\" x=\"265.331364\" y=\"304.793148\" style=\"fill: #4c72b0\"/>\n     <use xlink:href=\"#mc26eacde6f\" x=\"266.143\" y=\"302.762507\" style=\"fill: #4c72b0\"/>\n     <use xlink:href=\"#mc26eacde6f\" x=\"266.954636\" y=\"308.435947\" style=\"fill: #4c72b0\"/>\n     <use xlink:href=\"#mc26eacde6f\" x=\"267.766273\" y=\"305.570298\" style=\"fill: #4c72b0\"/>\n     <use xlink:href=\"#mc26eacde6f\" x=\"268.577909\" y=\"303.337956\" style=\"fill: #4c72b0\"/>\n     <use xlink:href=\"#mc26eacde6f\" x=\"269.389545\" y=\"311.294551\" style=\"fill: #4c72b0\"/>\n     <use xlink:href=\"#mc26eacde6f\" x=\"270.201182\" y=\"302.768988\" style=\"fill: #4c72b0\"/>\n     <use xlink:href=\"#mc26eacde6f\" x=\"271.012818\" y=\"308.295851\" style=\"fill: #4c72b0\"/>\n     <use xlink:href=\"#mc26eacde6f\" x=\"271.824455\" y=\"304.549431\" style=\"fill: #4c72b0\"/>\n     <use xlink:href=\"#mc26eacde6f\" x=\"272.636091\" y=\"305.011067\" style=\"fill: #4c72b0\"/>\n     <use xlink:href=\"#mc26eacde6f\" x=\"273.447727\" y=\"299.411679\" style=\"fill: #4c72b0\"/>\n     <use xlink:href=\"#mc26eacde6f\" x=\"274.259364\" y=\"273.330835\" style=\"fill: #4c72b0\"/>\n     <use xlink:href=\"#mc26eacde6f\" x=\"275.071\" y=\"304.327971\" style=\"fill: #4c72b0\"/>\n     <use xlink:href=\"#mc26eacde6f\" x=\"275.882636\" y=\"310.951035\" style=\"fill: #4c72b0\"/>\n     <use xlink:href=\"#mc26eacde6f\" x=\"276.694273\" y=\"303.225123\" style=\"fill: #4c72b0\"/>\n     <use xlink:href=\"#mc26eacde6f\" x=\"277.505909\" y=\"303.240461\" style=\"fill: #4c72b0\"/>\n     <use xlink:href=\"#mc26eacde6f\" x=\"278.317545\" y=\"301.237431\" style=\"fill: #4c72b0\"/>\n     <use xlink:href=\"#mc26eacde6f\" x=\"279.129182\" y=\"299.328663\" style=\"fill: #4c72b0\"/>\n     <use xlink:href=\"#mc26eacde6f\" x=\"279.940818\" y=\"303.038421\" style=\"fill: #4c72b0\"/>\n     <use xlink:href=\"#mc26eacde6f\" x=\"280.752455\" y=\"306.034736\" style=\"fill: #4c72b0\"/>\n     <use xlink:href=\"#mc26eacde6f\" x=\"281.564091\" y=\"304.11729\" style=\"fill: #4c72b0\"/>\n     <use xlink:href=\"#mc26eacde6f\" x=\"282.375727\" y=\"306.907422\" style=\"fill: #4c72b0\"/>\n     <use xlink:href=\"#mc26eacde6f\" x=\"283.187364\" y=\"307.122831\" style=\"fill: #4c72b0\"/>\n     <use xlink:href=\"#mc26eacde6f\" x=\"283.999\" y=\"295.2445\" style=\"fill: #4c72b0\"/>\n     <use xlink:href=\"#mc26eacde6f\" x=\"284.810636\" y=\"294.222665\" style=\"fill: #4c72b0\"/>\n     <use xlink:href=\"#mc26eacde6f\" x=\"285.622273\" y=\"292.646391\" style=\"fill: #4c72b0\"/>\n     <use xlink:href=\"#mc26eacde6f\" x=\"286.433909\" y=\"305.744237\" style=\"fill: #4c72b0\"/>\n     <use xlink:href=\"#mc26eacde6f\" x=\"287.245545\" y=\"306.069903\" style=\"fill: #4c72b0\"/>\n     <use xlink:href=\"#mc26eacde6f\" x=\"288.057182\" y=\"297.91999\" style=\"fill: #4c72b0\"/>\n     <use xlink:href=\"#mc26eacde6f\" x=\"288.868818\" y=\"298.973355\" style=\"fill: #4c72b0\"/>\n     <use xlink:href=\"#mc26eacde6f\" x=\"289.680455\" y=\"308.649319\" style=\"fill: #4c72b0\"/>\n     <use xlink:href=\"#mc26eacde6f\" x=\"290.492091\" y=\"305.452186\" style=\"fill: #4c72b0\"/>\n     <use xlink:href=\"#mc26eacde6f\" x=\"291.303727\" y=\"300.042249\" style=\"fill: #4c72b0\"/>\n     <use xlink:href=\"#mc26eacde6f\" x=\"292.115364\" y=\"303.429757\" style=\"fill: #4c72b0\"/>\n     <use xlink:href=\"#mc26eacde6f\" x=\"292.927\" y=\"305.458498\" style=\"fill: #4c72b0\"/>\n     <use xlink:href=\"#mc26eacde6f\" x=\"293.738636\" y=\"301.573604\" style=\"fill: #4c72b0\"/>\n     <use xlink:href=\"#mc26eacde6f\" x=\"294.550273\" y=\"293.516535\" style=\"fill: #4c72b0\"/>\n     <use xlink:href=\"#mc26eacde6f\" x=\"295.361909\" y=\"290.935902\" style=\"fill: #4c72b0\"/>\n     <use xlink:href=\"#mc26eacde6f\" x=\"296.173545\" y=\"298.913019\" style=\"fill: #4c72b0\"/>\n     <use xlink:href=\"#mc26eacde6f\" x=\"296.985182\" y=\"301.892572\" style=\"fill: #4c72b0\"/>\n     <use xlink:href=\"#mc26eacde6f\" x=\"297.796818\" y=\"299.267229\" style=\"fill: #4c72b0\"/>\n     <use xlink:href=\"#mc26eacde6f\" x=\"298.608455\" y=\"297.098207\" style=\"fill: #4c72b0\"/>\n     <use xlink:href=\"#mc26eacde6f\" x=\"299.420091\" y=\"299.730142\" style=\"fill: #4c72b0\"/>\n     <use xlink:href=\"#mc26eacde6f\" x=\"300.231727\" y=\"281.330068\" style=\"fill: #4c72b0\"/>\n     <use xlink:href=\"#mc26eacde6f\" x=\"301.043364\" y=\"294.581067\" style=\"fill: #4c72b0\"/>\n     <use xlink:href=\"#mc26eacde6f\" x=\"301.855\" y=\"300.593202\" style=\"fill: #4c72b0\"/>\n     <use xlink:href=\"#mc26eacde6f\" x=\"302.666636\" y=\"295.482705\" style=\"fill: #4c72b0\"/>\n     <use xlink:href=\"#mc26eacde6f\" x=\"303.478273\" y=\"306.093104\" style=\"fill: #4c72b0\"/>\n     <use xlink:href=\"#mc26eacde6f\" x=\"304.289909\" y=\"299.649977\" style=\"fill: #4c72b0\"/>\n     <use xlink:href=\"#mc26eacde6f\" x=\"305.101545\" y=\"294.023464\" style=\"fill: #4c72b0\"/>\n     <use xlink:href=\"#mc26eacde6f\" x=\"305.913182\" y=\"302.252161\" style=\"fill: #4c72b0\"/>\n     <use xlink:href=\"#mc26eacde6f\" x=\"306.724818\" y=\"301.959414\" style=\"fill: #4c72b0\"/>\n     <use xlink:href=\"#mc26eacde6f\" x=\"307.536455\" y=\"306.05468\" style=\"fill: #4c72b0\"/>\n     <use xlink:href=\"#mc26eacde6f\" x=\"308.348091\" y=\"307.335123\" style=\"fill: #4c72b0\"/>\n     <use xlink:href=\"#mc26eacde6f\" x=\"309.159727\" y=\"307.730696\" style=\"fill: #4c72b0\"/>\n     <use xlink:href=\"#mc26eacde6f\" x=\"309.971364\" y=\"296.008719\" style=\"fill: #4c72b0\"/>\n     <use xlink:href=\"#mc26eacde6f\" x=\"310.783\" y=\"307.427196\" style=\"fill: #4c72b0\"/>\n     <use xlink:href=\"#mc26eacde6f\" x=\"311.594636\" y=\"310.911698\" style=\"fill: #4c72b0\"/>\n     <use xlink:href=\"#mc26eacde6f\" x=\"312.406273\" y=\"308.003796\" style=\"fill: #4c72b0\"/>\n     <use xlink:href=\"#mc26eacde6f\" x=\"313.217909\" y=\"307.345999\" style=\"fill: #4c72b0\"/>\n     <use xlink:href=\"#mc26eacde6f\" x=\"314.029545\" y=\"308.435026\" style=\"fill: #4c72b0\"/>\n     <use xlink:href=\"#mc26eacde6f\" x=\"314.841182\" y=\"308.210175\" style=\"fill: #4c72b0\"/>\n     <use xlink:href=\"#mc26eacde6f\" x=\"315.652818\" y=\"306.252449\" style=\"fill: #4c72b0\"/>\n     <use xlink:href=\"#mc26eacde6f\" x=\"316.464455\" y=\"308.304831\" style=\"fill: #4c72b0\"/>\n     <use xlink:href=\"#mc26eacde6f\" x=\"317.276091\" y=\"302.959162\" style=\"fill: #4c72b0\"/>\n     <use xlink:href=\"#mc26eacde6f\" x=\"318.087727\" y=\"306.975686\" style=\"fill: #4c72b0\"/>\n     <use xlink:href=\"#mc26eacde6f\" x=\"318.899364\" y=\"309.363664\" style=\"fill: #4c72b0\"/>\n     <use xlink:href=\"#mc26eacde6f\" x=\"319.711\" y=\"306.209686\" style=\"fill: #4c72b0\"/>\n     <use xlink:href=\"#mc26eacde6f\" x=\"320.522636\" y=\"299.734514\" style=\"fill: #4c72b0\"/>\n     <use xlink:href=\"#mc26eacde6f\" x=\"321.334273\" y=\"309.711467\" style=\"fill: #4c72b0\"/>\n     <use xlink:href=\"#mc26eacde6f\" x=\"322.145909\" y=\"304.99393\" style=\"fill: #4c72b0\"/>\n     <use xlink:href=\"#mc26eacde6f\" x=\"322.957545\" y=\"297.526349\" style=\"fill: #4c72b0\"/>\n     <use xlink:href=\"#mc26eacde6f\" x=\"323.769182\" y=\"305.132499\" style=\"fill: #4c72b0\"/>\n     <use xlink:href=\"#mc26eacde6f\" x=\"324.580818\" y=\"309.390758\" style=\"fill: #4c72b0\"/>\n     <use xlink:href=\"#mc26eacde6f\" x=\"325.392455\" y=\"306.161915\" style=\"fill: #4c72b0\"/>\n     <use xlink:href=\"#mc26eacde6f\" x=\"326.204091\" y=\"304.145119\" style=\"fill: #4c72b0\"/>\n     <use xlink:href=\"#mc26eacde6f\" x=\"327.015727\" y=\"301.033786\" style=\"fill: #4c72b0\"/>\n     <use xlink:href=\"#mc26eacde6f\" x=\"327.827364\" y=\"305.992508\" style=\"fill: #4c72b0\"/>\n     <use xlink:href=\"#mc26eacde6f\" x=\"328.639\" y=\"302.821048\" style=\"fill: #4c72b0\"/>\n     <use xlink:href=\"#mc26eacde6f\" x=\"329.450636\" y=\"294.931147\" style=\"fill: #4c72b0\"/>\n     <use xlink:href=\"#mc26eacde6f\" x=\"330.262273\" y=\"297.087924\" style=\"fill: #4c72b0\"/>\n     <use xlink:href=\"#mc26eacde6f\" x=\"331.073909\" y=\"283.092157\" style=\"fill: #4c72b0\"/>\n     <use xlink:href=\"#mc26eacde6f\" x=\"331.885545\" y=\"295.769118\" style=\"fill: #4c72b0\"/>\n     <use xlink:href=\"#mc26eacde6f\" x=\"332.697182\" y=\"286.297889\" style=\"fill: #4c72b0\"/>\n     <use xlink:href=\"#mc26eacde6f\" x=\"333.508818\" y=\"289.935801\" style=\"fill: #4c72b0\"/>\n     <use xlink:href=\"#mc26eacde6f\" x=\"334.320455\" y=\"287.942139\" style=\"fill: #4c72b0\"/>\n     <use xlink:href=\"#mc26eacde6f\" x=\"335.132091\" y=\"300.249733\" style=\"fill: #4c72b0\"/>\n     <use xlink:href=\"#mc26eacde6f\" x=\"335.943727\" y=\"299.05426\" style=\"fill: #4c72b0\"/>\n     <use xlink:href=\"#mc26eacde6f\" x=\"336.755364\" y=\"279.635068\" style=\"fill: #4c72b0\"/>\n     <use xlink:href=\"#mc26eacde6f\" x=\"337.567\" y=\"282.020126\" style=\"fill: #4c72b0\"/>\n     <use xlink:href=\"#mc26eacde6f\" x=\"338.378636\" y=\"292.802792\" style=\"fill: #4c72b0\"/>\n     <use xlink:href=\"#mc26eacde6f\" x=\"339.190273\" y=\"297.636055\" style=\"fill: #4c72b0\"/>\n     <use xlink:href=\"#mc26eacde6f\" x=\"340.001909\" y=\"286.051665\" style=\"fill: #4c72b0\"/>\n     <use xlink:href=\"#mc26eacde6f\" x=\"340.813545\" y=\"288.649615\" style=\"fill: #4c72b0\"/>\n     <use xlink:href=\"#mc26eacde6f\" x=\"341.625182\" y=\"291.324453\" style=\"fill: #4c72b0\"/>\n     <use xlink:href=\"#mc26eacde6f\" x=\"342.436818\" y=\"273.97908\" style=\"fill: #4c72b0\"/>\n     <use xlink:href=\"#mc26eacde6f\" x=\"343.248455\" y=\"268.855008\" style=\"fill: #4c72b0\"/>\n     <use xlink:href=\"#mc26eacde6f\" x=\"344.060091\" y=\"284.684356\" style=\"fill: #4c72b0\"/>\n     <use xlink:href=\"#mc26eacde6f\" x=\"344.871727\" y=\"279.728501\" style=\"fill: #4c72b0\"/>\n     <use xlink:href=\"#mc26eacde6f\" x=\"345.683364\" y=\"271.260153\" style=\"fill: #4c72b0\"/>\n     <use xlink:href=\"#mc26eacde6f\" x=\"346.495\" y=\"289.928949\" style=\"fill: #4c72b0\"/>\n     <use xlink:href=\"#mc26eacde6f\" x=\"347.306636\" y=\"294.197042\" style=\"fill: #4c72b0\"/>\n     <use xlink:href=\"#mc26eacde6f\" x=\"348.118273\" y=\"298.402391\" style=\"fill: #4c72b0\"/>\n     <use xlink:href=\"#mc26eacde6f\" x=\"348.929909\" y=\"270.518908\" style=\"fill: #4c72b0\"/>\n     <use xlink:href=\"#mc26eacde6f\" x=\"349.741545\" y=\"267.977575\" style=\"fill: #4c72b0\"/>\n     <use xlink:href=\"#mc26eacde6f\" x=\"350.553182\" y=\"278.403922\" style=\"fill: #4c72b0\"/>\n     <use xlink:href=\"#mc26eacde6f\" x=\"351.364818\" y=\"293.000795\" style=\"fill: #4c72b0\"/>\n     <use xlink:href=\"#mc26eacde6f\" x=\"352.176455\" y=\"285.019789\" style=\"fill: #4c72b0\"/>\n     <use xlink:href=\"#mc26eacde6f\" x=\"352.988091\" y=\"298.539067\" style=\"fill: #4c72b0\"/>\n     <use xlink:href=\"#mc26eacde6f\" x=\"353.799727\" y=\"300.984454\" style=\"fill: #4c72b0\"/>\n     <use xlink:href=\"#mc26eacde6f\" x=\"354.611364\" y=\"306.014948\" style=\"fill: #4c72b0\"/>\n     <use xlink:href=\"#mc26eacde6f\" x=\"355.423\" y=\"305.66484\" style=\"fill: #4c72b0\"/>\n     <use xlink:href=\"#mc26eacde6f\" x=\"356.234636\" y=\"291.39941\" style=\"fill: #4c72b0\"/>\n     <use xlink:href=\"#mc26eacde6f\" x=\"357.046273\" y=\"294.08547\" style=\"fill: #4c72b0\"/>\n     <use xlink:href=\"#mc26eacde6f\" x=\"357.857909\" y=\"300.60502\" style=\"fill: #4c72b0\"/>\n     <use xlink:href=\"#mc26eacde6f\" x=\"358.669545\" y=\"293.842305\" style=\"fill: #4c72b0\"/>\n     <use xlink:href=\"#mc26eacde6f\" x=\"359.481182\" y=\"285.685514\" style=\"fill: #4c72b0\"/>\n     <use xlink:href=\"#mc26eacde6f\" x=\"360.292818\" y=\"256.327721\" style=\"fill: #4c72b0\"/>\n     <use xlink:href=\"#mc26eacde6f\" x=\"361.104455\" y=\"279.002894\" style=\"fill: #4c72b0\"/>\n     <use xlink:href=\"#mc26eacde6f\" x=\"361.916091\" y=\"298.941107\" style=\"fill: #4c72b0\"/>\n     <use xlink:href=\"#mc26eacde6f\" x=\"362.727727\" y=\"299.336643\" style=\"fill: #4c72b0\"/>\n     <use xlink:href=\"#mc26eacde6f\" x=\"363.539364\" y=\"299.521072\" style=\"fill: #4c72b0\"/>\n     <use xlink:href=\"#mc26eacde6f\" x=\"364.351\" y=\"262.760129\" style=\"fill: #4c72b0\"/>\n     <use xlink:href=\"#mc26eacde6f\" x=\"365.162636\" y=\"290.08827\" style=\"fill: #4c72b0\"/>\n     <use xlink:href=\"#mc26eacde6f\" x=\"365.974273\" y=\"306.196456\" style=\"fill: #4c72b0\"/>\n     <use xlink:href=\"#mc26eacde6f\" x=\"366.785909\" y=\"307.91318\" style=\"fill: #4c72b0\"/>\n     <use xlink:href=\"#mc26eacde6f\" x=\"367.597545\" y=\"312.95625\" style=\"fill: #4c72b0\"/>\n     <use xlink:href=\"#mc26eacde6f\" x=\"368.409182\" y=\"248.518329\" style=\"fill: #4c72b0\"/>\n     <use xlink:href=\"#mc26eacde6f\" x=\"369.220818\" y=\"260.640812\" style=\"fill: #4c72b0\"/>\n     <use xlink:href=\"#mc26eacde6f\" x=\"370.032455\" y=\"297.221246\" style=\"fill: #4c72b0\"/>\n     <use xlink:href=\"#mc26eacde6f\" x=\"370.844091\" y=\"306.583241\" style=\"fill: #4c72b0\"/>\n     <use xlink:href=\"#mc26eacde6f\" x=\"371.655727\" y=\"307.687739\" style=\"fill: #4c72b0\"/>\n     <use xlink:href=\"#mc26eacde6f\" x=\"372.467364\" y=\"304.013692\" style=\"fill: #4c72b0\"/>\n     <use xlink:href=\"#mc26eacde6f\" x=\"373.279\" y=\"302.103047\" style=\"fill: #4c72b0\"/>\n     <use xlink:href=\"#mc26eacde6f\" x=\"374.090636\" y=\"304.346122\" style=\"fill: #4c72b0\"/>\n     <use xlink:href=\"#mc26eacde6f\" x=\"374.902273\" y=\"294.431136\" style=\"fill: #4c72b0\"/>\n     <use xlink:href=\"#mc26eacde6f\" x=\"375.713909\" y=\"283.26131\" style=\"fill: #4c72b0\"/>\n     <use xlink:href=\"#mc26eacde6f\" x=\"376.525545\" y=\"299.873392\" style=\"fill: #4c72b0\"/>\n     <use xlink:href=\"#mc26eacde6f\" x=\"377.337182\" y=\"296.688714\" style=\"fill: #4c72b0\"/>\n     <use xlink:href=\"#mc26eacde6f\" x=\"378.148818\" y=\"295.160495\" style=\"fill: #4c72b0\"/>\n     <use xlink:href=\"#mc26eacde6f\" x=\"378.960455\" y=\"288.445566\" style=\"fill: #4c72b0\"/>\n     <use xlink:href=\"#mc26eacde6f\" x=\"379.772091\" y=\"288.255011\" style=\"fill: #4c72b0\"/>\n     <use xlink:href=\"#mc26eacde6f\" x=\"380.583727\" y=\"281.91708\" style=\"fill: #4c72b0\"/>\n     <use xlink:href=\"#mc26eacde6f\" x=\"381.395364\" y=\"275.775463\" style=\"fill: #4c72b0\"/>\n     <use xlink:href=\"#mc26eacde6f\" x=\"382.207\" y=\"283.31314\" style=\"fill: #4c72b0\"/>\n     <use xlink:href=\"#mc26eacde6f\" x=\"383.018636\" y=\"260.463444\" style=\"fill: #4c72b0\"/>\n     <use xlink:href=\"#mc26eacde6f\" x=\"383.830273\" y=\"287.047716\" style=\"fill: #4c72b0\"/>\n     <use xlink:href=\"#mc26eacde6f\" x=\"384.641909\" y=\"280.868131\" style=\"fill: #4c72b0\"/>\n     <use xlink:href=\"#mc26eacde6f\" x=\"385.453545\" y=\"269.987213\" style=\"fill: #4c72b0\"/>\n     <use xlink:href=\"#mc26eacde6f\" x=\"386.265182\" y=\"289.743189\" style=\"fill: #4c72b0\"/>\n     <use xlink:href=\"#mc26eacde6f\" x=\"387.076818\" y=\"295.741139\" style=\"fill: #4c72b0\"/>\n     <use xlink:href=\"#mc26eacde6f\" x=\"387.888455\" y=\"291.429637\" style=\"fill: #4c72b0\"/>\n     <use xlink:href=\"#mc26eacde6f\" x=\"388.700091\" y=\"306.435017\" style=\"fill: #4c72b0\"/>\n     <use xlink:href=\"#mc26eacde6f\" x=\"389.511727\" y=\"309.241669\" style=\"fill: #4c72b0\"/>\n     <use xlink:href=\"#mc26eacde6f\" x=\"390.323364\" y=\"299.244037\" style=\"fill: #4c72b0\"/>\n     <use xlink:href=\"#mc26eacde6f\" x=\"391.135\" y=\"301.37734\" style=\"fill: #4c72b0\"/>\n     <use xlink:href=\"#mc26eacde6f\" x=\"391.946636\" y=\"293.994583\" style=\"fill: #4c72b0\"/>\n     <use xlink:href=\"#mc26eacde6f\" x=\"392.758273\" y=\"285.757185\" style=\"fill: #4c72b0\"/>\n     <use xlink:href=\"#mc26eacde6f\" x=\"393.569909\" y=\"310.141703\" style=\"fill: #4c72b0\"/>\n     <use xlink:href=\"#mc26eacde6f\" x=\"394.381545\" y=\"310.382996\" style=\"fill: #4c72b0\"/>\n     <use xlink:href=\"#mc26eacde6f\" x=\"395.193182\" y=\"276.140967\" style=\"fill: #4c72b0\"/>\n     <use xlink:href=\"#mc26eacde6f\" x=\"396.004818\" y=\"287.853726\" style=\"fill: #4c72b0\"/>\n     <use xlink:href=\"#mc26eacde6f\" x=\"396.816455\" y=\"278.255736\" style=\"fill: #4c72b0\"/>\n     <use xlink:href=\"#mc26eacde6f\" x=\"397.628091\" y=\"282.872269\" style=\"fill: #4c72b0\"/>\n     <use xlink:href=\"#mc26eacde6f\" x=\"398.439727\" y=\"297.380938\" style=\"fill: #4c72b0\"/>\n     <use xlink:href=\"#mc26eacde6f\" x=\"399.251364\" y=\"308.51534\" style=\"fill: #4c72b0\"/>\n     <use xlink:href=\"#mc26eacde6f\" x=\"400.063\" y=\"306.985065\" style=\"fill: #4c72b0\"/>\n     <use xlink:href=\"#mc26eacde6f\" x=\"400.874636\" y=\"307.905706\" style=\"fill: #4c72b0\"/>\n     <use xlink:href=\"#mc26eacde6f\" x=\"401.686273\" y=\"292.063963\" style=\"fill: #4c72b0\"/>\n     <use xlink:href=\"#mc26eacde6f\" x=\"402.497909\" y=\"302.401623\" style=\"fill: #4c72b0\"/>\n     <use xlink:href=\"#mc26eacde6f\" x=\"403.309545\" y=\"310.02762\" style=\"fill: #4c72b0\"/>\n     <use xlink:href=\"#mc26eacde6f\" x=\"404.121182\" y=\"283.154907\" style=\"fill: #4c72b0\"/>\n     <use xlink:href=\"#mc26eacde6f\" x=\"404.932818\" y=\"287.023617\" style=\"fill: #4c72b0\"/>\n     <use xlink:href=\"#mc26eacde6f\" x=\"405.744455\" y=\"310.472108\" style=\"fill: #4c72b0\"/>\n     <use xlink:href=\"#mc26eacde6f\" x=\"406.556091\" y=\"306.803924\" style=\"fill: #4c72b0\"/>\n     <use xlink:href=\"#mc26eacde6f\" x=\"407.367727\" y=\"306.149288\" style=\"fill: #4c72b0\"/>\n     <use xlink:href=\"#mc26eacde6f\" x=\"408.179364\" y=\"304.153951\" style=\"fill: #4c72b0\"/>\n     <use xlink:href=\"#mc26eacde6f\" x=\"408.991\" y=\"306.802345\" style=\"fill: #4c72b0\"/>\n     <use xlink:href=\"#mc26eacde6f\" x=\"409.802636\" y=\"302.817574\" style=\"fill: #4c72b0\"/>\n     <use xlink:href=\"#mc26eacde6f\" x=\"410.614273\" y=\"299.350029\" style=\"fill: #4c72b0\"/>\n     <use xlink:href=\"#mc26eacde6f\" x=\"411.425909\" y=\"306.601961\" style=\"fill: #4c72b0\"/>\n     <use xlink:href=\"#mc26eacde6f\" x=\"412.237545\" y=\"293.797435\" style=\"fill: #4c72b0\"/>\n     <use xlink:href=\"#mc26eacde6f\" x=\"413.049182\" y=\"287.132664\" style=\"fill: #4c72b0\"/>\n     <use xlink:href=\"#mc26eacde6f\" x=\"413.860818\" y=\"288.492307\" style=\"fill: #4c72b0\"/>\n     <use xlink:href=\"#mc26eacde6f\" x=\"414.672455\" y=\"291.448251\" style=\"fill: #4c72b0\"/>\n     <use xlink:href=\"#mc26eacde6f\" x=\"415.484091\" y=\"310.588516\" style=\"fill: #4c72b0\"/>\n     <use xlink:href=\"#mc26eacde6f\" x=\"416.295727\" y=\"306.637038\" style=\"fill: #4c72b0\"/>\n     <use xlink:href=\"#mc26eacde6f\" x=\"417.107364\" y=\"311.057474\" style=\"fill: #4c72b0\"/>\n     <use xlink:href=\"#mc26eacde6f\" x=\"417.919\" y=\"301.967555\" style=\"fill: #4c72b0\"/>\n     <use xlink:href=\"#mc26eacde6f\" x=\"418.730636\" y=\"310.610451\" style=\"fill: #4c72b0\"/>\n     <use xlink:href=\"#mc26eacde6f\" x=\"419.542273\" y=\"298.729707\" style=\"fill: #4c72b0\"/>\n     <use xlink:href=\"#mc26eacde6f\" x=\"420.353909\" y=\"299.772831\" style=\"fill: #4c72b0\"/>\n     <use xlink:href=\"#mc26eacde6f\" x=\"421.165545\" y=\"310.237429\" style=\"fill: #4c72b0\"/>\n     <use xlink:href=\"#mc26eacde6f\" x=\"421.977182\" y=\"304.344084\" style=\"fill: #4c72b0\"/>\n     <use xlink:href=\"#mc26eacde6f\" x=\"422.788818\" y=\"311.279198\" style=\"fill: #4c72b0\"/>\n     <use xlink:href=\"#mc26eacde6f\" x=\"423.600455\" y=\"309.683379\" style=\"fill: #4c72b0\"/>\n     <use xlink:href=\"#mc26eacde6f\" x=\"424.412091\" y=\"312.55355\" style=\"fill: #4c72b0\"/>\n     <use xlink:href=\"#mc26eacde6f\" x=\"425.223727\" y=\"304.558439\" style=\"fill: #4c72b0\"/>\n     <use xlink:href=\"#mc26eacde6f\" x=\"426.035364\" y=\"307.824903\" style=\"fill: #4c72b0\"/>\n     <use xlink:href=\"#mc26eacde6f\" x=\"426.847\" y=\"310.414231\" style=\"fill: #4c72b0\"/>\n     <use xlink:href=\"#mc26eacde6f\" x=\"427.658636\" y=\"308.912855\" style=\"fill: #4c72b0\"/>\n     <use xlink:href=\"#mc26eacde6f\" x=\"428.470273\" y=\"295.817849\" style=\"fill: #4c72b0\"/>\n     <use xlink:href=\"#mc26eacde6f\" x=\"429.281909\" y=\"310.052858\" style=\"fill: #4c72b0\"/>\n     <use xlink:href=\"#mc26eacde6f\" x=\"430.093545\" y=\"309.982506\" style=\"fill: #4c72b0\"/>\n     <use xlink:href=\"#mc26eacde6f\" x=\"430.905182\" y=\"308.846891\" style=\"fill: #4c72b0\"/>\n     <use xlink:href=\"#mc26eacde6f\" x=\"431.716818\" y=\"311.44685\" style=\"fill: #4c72b0\"/>\n     <use xlink:href=\"#mc26eacde6f\" x=\"432.528455\" y=\"306.378561\" style=\"fill: #4c72b0\"/>\n     <use xlink:href=\"#mc26eacde6f\" x=\"433.340091\" y=\"306.49324\" style=\"fill: #4c72b0\"/>\n     <use xlink:href=\"#mc26eacde6f\" x=\"434.151727\" y=\"305.579195\" style=\"fill: #4c72b0\"/>\n     <use xlink:href=\"#mc26eacde6f\" x=\"434.963364\" y=\"306.548144\" style=\"fill: #4c72b0\"/>\n     <use xlink:href=\"#mc26eacde6f\" x=\"435.775\" y=\"307.941779\" style=\"fill: #4c72b0\"/>\n     <use xlink:href=\"#mc26eacde6f\" x=\"436.586636\" y=\"311.396958\" style=\"fill: #4c72b0\"/>\n     <use xlink:href=\"#mc26eacde6f\" x=\"437.398273\" y=\"308.24814\" style=\"fill: #4c72b0\"/>\n     <use xlink:href=\"#mc26eacde6f\" x=\"438.209909\" y=\"303.344652\" style=\"fill: #4c72b0\"/>\n     <use xlink:href=\"#mc26eacde6f\" x=\"439.021545\" y=\"305.417898\" style=\"fill: #4c72b0\"/>\n     <use xlink:href=\"#mc26eacde6f\" x=\"439.833182\" y=\"303.340537\" style=\"fill: #4c72b0\"/>\n     <use xlink:href=\"#mc26eacde6f\" x=\"440.644818\" y=\"284.316009\" style=\"fill: #4c72b0\"/>\n     <use xlink:href=\"#mc26eacde6f\" x=\"441.456455\" y=\"304.429757\" style=\"fill: #4c72b0\"/>\n     <use xlink:href=\"#mc26eacde6f\" x=\"442.268091\" y=\"304.146881\" style=\"fill: #4c72b0\"/>\n     <use xlink:href=\"#mc26eacde6f\" x=\"443.079727\" y=\"306.310619\" style=\"fill: #4c72b0\"/>\n     <use xlink:href=\"#mc26eacde6f\" x=\"443.891364\" y=\"295.842597\" style=\"fill: #4c72b0\"/>\n     <use xlink:href=\"#mc26eacde6f\" x=\"444.703\" y=\"308.16107\" style=\"fill: #4c72b0\"/>\n     <use xlink:href=\"#mc26eacde6f\" x=\"445.514636\" y=\"308.622269\" style=\"fill: #4c72b0\"/>\n     <use xlink:href=\"#mc26eacde6f\" x=\"446.326273\" y=\"310.237141\" style=\"fill: #4c72b0\"/>\n     <use xlink:href=\"#mc26eacde6f\" x=\"447.137909\" y=\"307.948803\" style=\"fill: #4c72b0\"/>\n     <use xlink:href=\"#mc26eacde6f\" x=\"447.949545\" y=\"308.47643\" style=\"fill: #4c72b0\"/>\n     <use xlink:href=\"#mc26eacde6f\" x=\"448.761182\" y=\"309.136195\" style=\"fill: #4c72b0\"/>\n     <use xlink:href=\"#mc26eacde6f\" x=\"449.572818\" y=\"310.5588\" style=\"fill: #4c72b0\"/>\n     <use xlink:href=\"#mc26eacde6f\" x=\"450.384455\" y=\"300.73745\" style=\"fill: #4c72b0\"/>\n     <use xlink:href=\"#mc26eacde6f\" x=\"451.196091\" y=\"305.392178\" style=\"fill: #4c72b0\"/>\n     <use xlink:href=\"#mc26eacde6f\" x=\"452.007727\" y=\"307.938002\" style=\"fill: #4c72b0\"/>\n     <use xlink:href=\"#mc26eacde6f\" x=\"452.819364\" y=\"309.248372\" style=\"fill: #4c72b0\"/>\n     <use xlink:href=\"#mc26eacde6f\" x=\"453.631\" y=\"307.701217\" style=\"fill: #4c72b0\"/>\n     <use xlink:href=\"#mc26eacde6f\" x=\"454.442636\" y=\"306.214093\" style=\"fill: #4c72b0\"/>\n     <use xlink:href=\"#mc26eacde6f\" x=\"455.254273\" y=\"310.003519\" style=\"fill: #4c72b0\"/>\n     <use xlink:href=\"#mc26eacde6f\" x=\"456.065909\" y=\"295.872394\" style=\"fill: #4c72b0\"/>\n     <use xlink:href=\"#mc26eacde6f\" x=\"456.877545\" y=\"302.327286\" style=\"fill: #4c72b0\"/>\n     <use xlink:href=\"#mc26eacde6f\" x=\"457.689182\" y=\"299.159635\" style=\"fill: #4c72b0\"/>\n     <use xlink:href=\"#mc26eacde6f\" x=\"458.500818\" y=\"300.331586\" style=\"fill: #4c72b0\"/>\n     <use xlink:href=\"#mc26eacde6f\" x=\"459.312455\" y=\"293.041746\" style=\"fill: #4c72b0\"/>\n     <use xlink:href=\"#mc26eacde6f\" x=\"460.124091\" y=\"305.320985\" style=\"fill: #4c72b0\"/>\n    </g>\n   </g>\n   <g id=\"patch_3\">\n    <path d=\"M 34.015 326.81625 \nL 34.015 21.89625 \n\" style=\"fill: none\"/>\n   </g>\n   <g id=\"patch_4\">\n    <path d=\"M 480.415 326.81625 \nL 480.415 21.89625 \n\" style=\"fill: none\"/>\n   </g>\n   <g id=\"patch_5\">\n    <path d=\"M 34.015 326.81625 \nL 480.415 326.81625 \n\" style=\"fill: none\"/>\n   </g>\n   <g id=\"patch_6\">\n    <path d=\"M 34.015 21.89625 \nL 480.415 21.89625 \n\" style=\"fill: none\"/>\n   </g>\n   <g id=\"text_17\">\n    <!-- Loss vs. No. of epochs -->\n    <g style=\"fill: #262626\" transform=\"translate(196.52125 15.89625) scale(0.12 -0.12)\">\n     <defs>\n      <path id=\"LiberationSans-4c\" d=\"M 525 0 \nL 525 4403 \nL 1122 4403 \nL 1122 488 \nL 3347 488 \nL 3347 0 \nL 525 0 \nz\n\" transform=\"scale(0.015625)\"/>\n      <path id=\"LiberationSans-20\" transform=\"scale(0.015625)\"/>\n      <path id=\"LiberationSans-76\" d=\"M 1916 0 \nL 1250 0 \nL 22 3381 \nL 622 3381 \nL 1366 1181 \nQ 1388 1113 1417 1014 \nQ 1447 916 1478 809 \nQ 1509 703 1536 604 \nQ 1563 506 1581 441 \nQ 1600 506 1629 604 \nQ 1659 703 1690 806 \nQ 1722 909 1755 1007 \nQ 1788 1106 1813 1175 \nL 2581 3381 \nL 3178 3381 \nL 1916 0 \nz\n\" transform=\"scale(0.015625)\"/>\n      <path id=\"LiberationSans-2e\" d=\"M 584 0 \nL 584 684 \nL 1194 684 \nL 1194 0 \nL 584 0 \nz\n\" transform=\"scale(0.015625)\"/>\n      <path id=\"LiberationSans-4e\" d=\"M 3381 0 \nL 1025 3750 \nQ 1031 3597 1041 3447 \nQ 1047 3319 1051 3176 \nQ 1056 3034 1056 2925 \nL 1056 0 \nL 525 0 \nL 525 4403 \nL 1219 4403 \nL 3600 628 \nQ 3591 781 3581 934 \nQ 3575 1066 3569 1220 \nQ 3563 1375 3563 1516 \nL 3563 4403 \nL 4100 4403 \nL 4100 0 \nL 3381 0 \nz\n\" transform=\"scale(0.015625)\"/>\n      <path id=\"LiberationSans-66\" d=\"M 1128 2972 \nL 1128 0 \nL 566 0 \nL 566 2972 \nL 91 2972 \nL 91 3381 \nL 566 3381 \nL 566 3763 \nQ 566 3947 600 4105 \nQ 634 4263 726 4380 \nQ 819 4497 978 4564 \nQ 1138 4631 1391 4631 \nQ 1491 4631 1598 4622 \nQ 1706 4613 1788 4594 \nL 1788 4166 \nQ 1734 4175 1664 4183 \nQ 1594 4191 1538 4191 \nQ 1413 4191 1333 4156 \nQ 1253 4122 1208 4058 \nQ 1163 3994 1145 3900 \nQ 1128 3806 1128 3684 \nL 1128 3381 \nL 1788 3381 \nL 1788 2972 \nL 1128 2972 \nz\n\" transform=\"scale(0.015625)\"/>\n     </defs>\n     <use xlink:href=\"#LiberationSans-4c\"/>\n     <use xlink:href=\"#LiberationSans-6f\" x=\"55.615234\"/>\n     <use xlink:href=\"#LiberationSans-73\" x=\"111.230469\"/>\n     <use xlink:href=\"#LiberationSans-73\" x=\"161.230469\"/>\n     <use xlink:href=\"#LiberationSans-20\" x=\"211.230469\"/>\n     <use xlink:href=\"#LiberationSans-76\" x=\"239.013672\"/>\n     <use xlink:href=\"#LiberationSans-73\" x=\"289.013672\"/>\n     <use xlink:href=\"#LiberationSans-2e\" x=\"339.013672\"/>\n     <use xlink:href=\"#LiberationSans-20\" x=\"366.796875\"/>\n     <use xlink:href=\"#LiberationSans-4e\" x=\"394.580078\"/>\n     <use xlink:href=\"#LiberationSans-6f\" x=\"466.796875\"/>\n     <use xlink:href=\"#LiberationSans-2e\" x=\"522.412109\"/>\n     <use xlink:href=\"#LiberationSans-20\" x=\"550.195312\"/>\n     <use xlink:href=\"#LiberationSans-6f\" x=\"577.978516\"/>\n     <use xlink:href=\"#LiberationSans-66\" x=\"633.59375\"/>\n     <use xlink:href=\"#LiberationSans-20\" x=\"661.376953\"/>\n     <use xlink:href=\"#LiberationSans-65\" x=\"689.160156\"/>\n     <use xlink:href=\"#LiberationSans-70\" x=\"744.775391\"/>\n     <use xlink:href=\"#LiberationSans-6f\" x=\"800.390625\"/>\n     <use xlink:href=\"#LiberationSans-63\" x=\"856.005859\"/>\n     <use xlink:href=\"#LiberationSans-68\" x=\"906.005859\"/>\n     <use xlink:href=\"#LiberationSans-73\" x=\"961.621094\"/>\n    </g>\n   </g>\n  </g>\n </g>\n <defs>\n  <clipPath id=\"p5069ec84af\">\n   <rect x=\"34.015\" y=\"21.89625\" width=\"446.4\" height=\"304.92\"/>\n  </clipPath>\n </defs>\n</svg>\n"
          },
          "metadata": {}
        }
      ]
    },
    {
      "cell_type": "code",
      "source": [
        "test_imgs, test_tabular, test_lbls = next(iter(test_loader))\n",
        "test_imgs = test_imgs.cuda()\n",
        "test_tabular = test_tabular.cuda()\n",
        "test_lbls = test_lbls.cuda()\n",
        "\n",
        "with torch.no_grad(): \n",
        "    preds = model_res(test_imgs, test_tabular)"
      ],
      "metadata": {
        "id": "Xop_KW2Ed2ox"
      },
      "execution_count": 132,
      "outputs": []
    },
    {
      "cell_type": "code",
      "source": [
        "yhat=preds.flatten().to('cpu')\n",
        "yhat"
      ],
      "metadata": {
        "colab": {
          "base_uri": "https://localhost:8080/"
        },
        "id": "Oc3MD8BAd7BI",
        "outputId": "3af836a6-a595-42a2-b1ad-3390cbda40d1"
      },
      "execution_count": 133,
      "outputs": [
        {
          "output_type": "execute_result",
          "data": {
            "text/plain": [
              "tensor([9.5508, 8.2605, 8.6392, 8.2382, 8.2772])"
            ]
          },
          "metadata": {},
          "execution_count": 133
        }
      ]
    },
    {
      "cell_type": "code",
      "source": [
        "from sklearn.metrics import mean_squared_error, r2_score, mean_absolute_error\n",
        "\n",
        "def calculate_errors_and_r2(y_true, y_pred):\n",
        "    mean_squared_err = (mean_squared_error(y_true, y_pred))\n",
        "    root_mean_squared_err = np.sqrt(mean_squared_err)\n",
        "    mae = (mean_absolute_error(y_true, y_pred))\n",
        "    r2 = round(r2_score(y_true, y_pred)*100,0)\n",
        "    return mean_squared_err, root_mean_squared_err, mae, r2"
      ],
      "metadata": {
        "id": "Of5Yt92Td7Ek"
      },
      "execution_count": 53,
      "outputs": []
    },
    {
      "cell_type": "code",
      "source": [
        "test_mean_squared_error, test_root_mean_squared_error,test_mae, test_r2_score_percentage = calculate_errors_and_r2(test_lbls.to('cpu'), yhat)\n",
        "\n",
        "print('Test Data MSE = ', test_mean_squared_error)\n",
        "print('Test Data RMSE = ', test_root_mean_squared_error)\n",
        "print('Test Data MAE = ', test_mae)\n",
        "print('Test Data R2 = ', test_r2_score_percentage)"
      ],
      "metadata": {
        "colab": {
          "base_uri": "https://localhost:8080/"
        },
        "id": "4xFckWeZd2rn",
        "outputId": "3829a7d5-1178-4e63-cd1c-fbf720855f31"
      },
      "execution_count": 135,
      "outputs": [
        {
          "output_type": "stream",
          "name": "stdout",
          "text": [
            "Test Data MSE =  2.4526946349819414\n",
            "Test Data RMSE =  1.5661081172709441\n",
            "Test Data MAE =  1.241456857866599\n",
            "Test Data R2 =  -19.0\n"
          ]
        }
      ]
    },
    {
      "cell_type": "code",
      "source": [
        "torch.save(model_res.state_dict(), '/content/drive/My Drive/Diploma/CODE/data/models/model_resnet18_v1.pth')"
      ],
      "metadata": {
        "id": "yuBtzav4eARf"
      },
      "execution_count": 136,
      "outputs": []
    },
    {
      "cell_type": "code",
      "source": [],
      "metadata": {
        "id": "5X4L39HVeAVB"
      },
      "execution_count": 136,
      "outputs": []
    },
    {
      "cell_type": "markdown",
      "source": [
        "## mobilenet"
      ],
      "metadata": {
        "id": "zdfKrDOaYQJo"
      }
    },
    {
      "cell_type": "code",
      "execution_count": 68,
      "metadata": {
        "id": "nsMvBL15N6Cx"
      },
      "outputs": [],
      "source": [
        "mobilenet_ft = models.mobilenet_v3_large(pretrained=True).to(device)"
      ]
    },
    {
      "cell_type": "code",
      "source": [
        "class RatingPredictor(nn.Module):\n",
        "    def __init__(self):\n",
        "        super().__init__()\n",
        "\n",
        "        mobilenet_ft.fc = nn.Linear(in_features=128, out_features=32)\n",
        "        mobilenet_ft.fc.requires_grad_(True)\n",
        "        self.mobilenet = mobilenet_ft\n",
        "\n",
        "        self.ln4 = nn.Linear(63, 10)\n",
        "        self.relu1 = nn.ReLU()\n",
        "        self.ln5 = nn.Linear(10, 5)\n",
        "        self.relu2 = nn.ReLU()\n",
        "        self.ln7 = nn.Linear(1005, 1)\n",
        "        self.relu4 = nn.ReLU()\n",
        "\n",
        "    def forward(self, img, tab):\n",
        "        img = self.mobilenet(img)\n",
        "        img = img.reshape(img.shape[0], -1)\n",
        "        # print(f'img: {img.shape}')\n",
        "\n",
        "        tab = self.ln4(tab)\n",
        "        tab = self.relu1(tab)\n",
        "        tab = self.ln5(tab)\n",
        "        tab = self.relu2(tab)\n",
        "        # print(f'tab: {tab.shape}')\n",
        "        x = torch.cat((img, tab), dim=1)\n",
        "        x = self.relu4(x)\n",
        "\n",
        "        return self.ln7(x)\n",
        "    \n",
        "    def training_step(self, batch):\n",
        "        inputs, tabular, targets = batch \n",
        "        inputs = inputs.cuda() \n",
        "        tabular = tabular.cuda() \n",
        "        targets = targets.cuda() \n",
        "\n",
        "        # Generate predictions\n",
        "        out = self(inputs, tabular)       \n",
        "        # Calcuate loss\n",
        "        loss = F.l1_loss(out, targets)                \n",
        "        return loss\n",
        "\n",
        "    def validation_step(self, batch):\n",
        "        inputs, tabular, targets = batch\n",
        "        inputs = inputs.cuda() \n",
        "        tabular = tabular.cuda() \n",
        "        targets = targets.cuda() \n",
        "\n",
        "        # Generate predictions\n",
        "        out = self(inputs, tabular)\n",
        "        # Calculate loss\n",
        "        loss = F.l1_loss(out, targets) \n",
        "        acc = accuracy(out,targets)                   \n",
        "        return {'val_loss': loss.detach(), 'val_acc':acc}\n",
        "\n",
        "    def validation_epoch_end(self, outputs):\n",
        "        batch_losses = [x['val_loss'] for x in outputs]\n",
        "        epoch_loss = torch.stack(batch_losses).mean()   # Combine losses\n",
        "        batch_accuracy = [x['val_acc'] for x in outputs]\n",
        "        epoch_accuracy = torch.stack(batch_accuracy).mean()\n",
        "        return {'val_loss': epoch_loss.item(), 'val_acc':epoch_accuracy.item()}\n",
        "\n",
        "  \n",
        "    def epoch_end(self, epoch, result, num_epochs):\n",
        "      if (epoch+1) % 10 == 0 or epoch == num_epochs-1:\n",
        "        print(\"Epoch [{}], val_loss: {:.4f}\".format(epoch+1, result['val_loss'], result['val_acc']))"
      ],
      "metadata": {
        "id": "J_Z-MjbxYU6v"
      },
      "execution_count": 94,
      "outputs": []
    },
    {
      "cell_type": "code",
      "source": [
        "criterion = nn.L1Loss()\n",
        "\n",
        "# Hyper parameters\n",
        "learning_rate = 0.001 \n",
        "\n",
        "# Adam Optimizer\n",
        "optimizer = torch.optim.AdamW(mobilenet_ft.parameters(), lr=learning_rate)\n",
        "# ls_scheduler = torch.optim.lr_scheduler.ExponentialLR(optimizer, gamma=0.7)\n",
        "\n",
        "model_mobilenet = RatingPredictor().to(device)"
      ],
      "metadata": {
        "id": "lTVOIsOHYYxv"
      },
      "execution_count": 109,
      "outputs": []
    },
    {
      "cell_type": "code",
      "source": [
        "history = [evaluate(model_mobilenet, val_loader)]\n",
        "print(history)"
      ],
      "metadata": {
        "colab": {
          "base_uri": "https://localhost:8080/"
        },
        "id": "dtIK91wVYsYv",
        "outputId": "cb469a8d-4a8f-4c8a-f6db-c4d660ed7752"
      },
      "execution_count": 110,
      "outputs": [
        {
          "output_type": "stream",
          "name": "stdout",
          "text": [
            "[{'val_loss': 8.231530015379242, 'val_acc': 0.007692307699471712}]\n"
          ]
        }
      ]
    },
    {
      "cell_type": "code",
      "source": [
        "epochs = 100\n",
        "\n",
        "history += train(epochs, learning_rate, model_mobilenet, \n",
        "                 train_loader, val_loader, optimizer)"
      ],
      "metadata": {
        "colab": {
          "base_uri": "https://localhost:8080/"
        },
        "id": "guXDN_p-Y5uw",
        "outputId": "56593c76-a1f1-44fd-ee01-c1ca372a0ed8"
      },
      "execution_count": 111,
      "outputs": [
        {
          "output_type": "stream",
          "name": "stdout",
          "text": [
            "Epoch [10], val_loss: 1.6482\n",
            "Epoch [20], val_loss: 1.6139\n",
            "Epoch [30], val_loss: 1.5686\n",
            "Epoch [40], val_loss: 1.5553\n",
            "Epoch [50], val_loss: 1.6101\n",
            "Epoch [60], val_loss: 1.5172\n",
            "Epoch [70], val_loss: 1.6209\n",
            "Epoch [80], val_loss: 1.7291\n",
            "Epoch [90], val_loss: 1.5858\n",
            "Epoch [100], val_loss: 1.7427\n"
          ]
        }
      ]
    },
    {
      "cell_type": "code",
      "source": [
        "losses = [x['val_loss'] for x in history]\n",
        "plt.plot(losses, '-x')\n",
        "plt.xlabel('epoch')\n",
        "plt.ylabel('loss')\n",
        "plt.title('Loss vs. No. of epochs');"
      ],
      "metadata": {
        "colab": {
          "base_uri": "https://localhost:8080/",
          "height": 507
        },
        "id": "5ByZE1BQY5_p",
        "outputId": "f6a008c0-64c3-4474-a091-60254d905f5e"
      },
      "execution_count": 112,
      "outputs": [
        {
          "output_type": "display_data",
          "data": {
            "text/plain": [
              "<Figure size 800x550 with 1 Axes>"
            ],
            "image/svg+xml": "<?xml version=\"1.0\" encoding=\"utf-8\" standalone=\"no\"?>\n<!DOCTYPE svg PUBLIC \"-//W3C//DTD SVG 1.1//EN\"\n  \"http://www.w3.org/Graphics/SVG/1.1/DTD/svg11.dtd\">\n<svg xmlns:xlink=\"http://www.w3.org/1999/xlink\" width=\"487.615pt\" height=\"364.592187pt\" viewBox=\"0 0 487.615 364.592187\" xmlns=\"http://www.w3.org/2000/svg\" version=\"1.1\">\n <metadata>\n  <rdf:RDF xmlns:dc=\"http://purl.org/dc/elements/1.1/\" xmlns:cc=\"http://creativecommons.org/ns#\" xmlns:rdf=\"http://www.w3.org/1999/02/22-rdf-syntax-ns#\">\n   <cc:Work>\n    <dc:type rdf:resource=\"http://purl.org/dc/dcmitype/StillImage\"/>\n    <dc:date>2023-05-23T10:17:46.203509</dc:date>\n    <dc:format>image/svg+xml</dc:format>\n    <dc:creator>\n     <cc:Agent>\n      <dc:title>Matplotlib v3.7.1, https://matplotlib.org/</dc:title>\n     </cc:Agent>\n    </dc:creator>\n   </cc:Work>\n  </rdf:RDF>\n </metadata>\n <defs>\n  <style type=\"text/css\">*{stroke-linejoin: round; stroke-linecap: butt}</style>\n </defs>\n <g id=\"figure_1\">\n  <g id=\"patch_1\">\n   <path d=\"M 0 364.592187 \nL 487.615 364.592187 \nL 487.615 0 \nL 0 0 \nz\n\" style=\"fill: #ffffff\"/>\n  </g>\n  <g id=\"axes_1\">\n   <g id=\"patch_2\">\n    <path d=\"M 34.015 326.81625 \nL 480.415 326.81625 \nL 480.415 21.89625 \nL 34.015 21.89625 \nz\n\" style=\"fill: #eaeaf2\"/>\n   </g>\n   <g id=\"matplotlib.axis_1\">\n    <g id=\"xtick_1\">\n     <g id=\"line2d_1\">\n      <path d=\"M 54.305909 326.81625 \nL 54.305909 21.89625 \n\" clip-path=\"url(#pd0d6d6faf7)\" style=\"fill: none; stroke: #ffffff; stroke-linecap: round\"/>\n     </g>\n     <g id=\"line2d_2\"/>\n     <g id=\"text_1\">\n      <!-- 0 -->\n      <g style=\"fill: #262626\" transform=\"translate(51.52544 341.063125) scale(0.1 -0.1)\">\n       <defs>\n        <path id=\"LiberationSans-30\" d=\"M 3309 2203 \nQ 3309 1569 3189 1136 \nQ 3069 703 2861 436 \nQ 2653 169 2372 53 \nQ 2091 -63 1772 -63 \nQ 1450 -63 1172 53 \nQ 894 169 689 434 \nQ 484 700 367 1133 \nQ 250 1566 250 2203 \nQ 250 2869 367 3305 \nQ 484 3741 690 4000 \nQ 897 4259 1178 4364 \nQ 1459 4469 1791 4469 \nQ 2106 4469 2382 4364 \nQ 2659 4259 2865 4000 \nQ 3072 3741 3190 3305 \nQ 3309 2869 3309 2203 \nz\nM 2738 2203 \nQ 2738 2728 2675 3076 \nQ 2613 3425 2491 3633 \nQ 2369 3841 2192 3927 \nQ 2016 4013 1791 4013 \nQ 1553 4013 1372 3925 \nQ 1191 3838 1067 3630 \nQ 944 3422 881 3073 \nQ 819 2725 819 2203 \nQ 819 1697 883 1350 \nQ 947 1003 1070 792 \nQ 1194 581 1372 489 \nQ 1550 397 1778 397 \nQ 2000 397 2178 489 \nQ 2356 581 2479 792 \nQ 2603 1003 2670 1350 \nQ 2738 1697 2738 2203 \nz\n\" transform=\"scale(0.015625)\"/>\n       </defs>\n       <use xlink:href=\"#LiberationSans-30\"/>\n      </g>\n     </g>\n    </g>\n    <g id=\"xtick_2\">\n     <g id=\"line2d_3\">\n      <path d=\"M 135.469545 326.81625 \nL 135.469545 21.89625 \n\" clip-path=\"url(#pd0d6d6faf7)\" style=\"fill: none; stroke: #ffffff; stroke-linecap: round\"/>\n     </g>\n     <g id=\"line2d_4\"/>\n     <g id=\"text_2\">\n      <!-- 20 -->\n      <g style=\"fill: #262626\" transform=\"translate(129.908608 341.063125) scale(0.1 -0.1)\">\n       <defs>\n        <path id=\"LiberationSans-32\" d=\"M 322 0 \nL 322 397 \nQ 481 763 711 1042 \nQ 941 1322 1194 1548 \nQ 1447 1775 1695 1969 \nQ 1944 2163 2144 2356 \nQ 2344 2550 2467 2762 \nQ 2591 2975 2591 3244 \nQ 2591 3431 2534 3573 \nQ 2478 3716 2372 3812 \nQ 2266 3909 2117 3957 \nQ 1969 4006 1788 4006 \nQ 1619 4006 1470 3959 \nQ 1322 3913 1206 3819 \nQ 1091 3725 1017 3586 \nQ 944 3447 922 3263 \nL 347 3316 \nQ 375 3553 478 3762 \nQ 581 3972 762 4130 \nQ 944 4288 1198 4378 \nQ 1453 4469 1788 4469 \nQ 2116 4469 2372 4391 \nQ 2628 4313 2804 4159 \nQ 2981 4006 3075 3781 \nQ 3169 3556 3169 3263 \nQ 3169 3041 3089 2841 \nQ 3009 2641 2876 2459 \nQ 2744 2278 2569 2109 \nQ 2394 1941 2203 1780 \nQ 2013 1619 1819 1461 \nQ 1625 1303 1454 1143 \nQ 1284 984 1150 820 \nQ 1016 656 941 478 \nL 3238 478 \nL 3238 0 \nL 322 0 \nz\n\" transform=\"scale(0.015625)\"/>\n       </defs>\n       <use xlink:href=\"#LiberationSans-32\"/>\n       <use xlink:href=\"#LiberationSans-30\" x=\"55.615234\"/>\n      </g>\n     </g>\n    </g>\n    <g id=\"xtick_3\">\n     <g id=\"line2d_5\">\n      <path d=\"M 216.633182 326.81625 \nL 216.633182 21.89625 \n\" clip-path=\"url(#pd0d6d6faf7)\" style=\"fill: none; stroke: #ffffff; stroke-linecap: round\"/>\n     </g>\n     <g id=\"line2d_6\"/>\n     <g id=\"text_3\">\n      <!-- 40 -->\n      <g style=\"fill: #262626\" transform=\"translate(211.072244 341.063125) scale(0.1 -0.1)\">\n       <defs>\n        <path id=\"LiberationSans-34\" d=\"M 2753 997 \nL 2753 0 \nL 2222 0 \nL 2222 997 \nL 147 997 \nL 147 1434 \nL 2163 4403 \nL 2753 4403 \nL 2753 1441 \nL 3372 1441 \nL 3372 997 \nL 2753 997 \nz\nM 2222 3769 \nQ 2216 3753 2191 3708 \nQ 2166 3663 2134 3606 \nQ 2103 3550 2070 3492 \nQ 2038 3434 2013 3397 \nL 884 1734 \nQ 869 1709 839 1668 \nQ 809 1628 778 1586 \nQ 747 1544 715 1503 \nQ 684 1463 666 1441 \nL 2222 1441 \nL 2222 3769 \nz\n\" transform=\"scale(0.015625)\"/>\n       </defs>\n       <use xlink:href=\"#LiberationSans-34\"/>\n       <use xlink:href=\"#LiberationSans-30\" x=\"55.615234\"/>\n      </g>\n     </g>\n    </g>\n    <g id=\"xtick_4\">\n     <g id=\"line2d_7\">\n      <path d=\"M 297.796818 326.81625 \nL 297.796818 21.89625 \n\" clip-path=\"url(#pd0d6d6faf7)\" style=\"fill: none; stroke: #ffffff; stroke-linecap: round\"/>\n     </g>\n     <g id=\"line2d_8\"/>\n     <g id=\"text_4\">\n      <!-- 60 -->\n      <g style=\"fill: #262626\" transform=\"translate(292.235881 341.063125) scale(0.1 -0.1)\">\n       <defs>\n        <path id=\"LiberationSans-36\" d=\"M 3278 1441 \nQ 3278 1109 3186 832 \nQ 3094 556 2914 357 \nQ 2734 159 2468 48 \nQ 2203 -63 1856 -63 \nQ 1472 -63 1184 84 \nQ 897 231 706 507 \nQ 516 784 420 1186 \nQ 325 1588 325 2100 \nQ 325 2688 433 3131 \nQ 541 3575 744 3872 \nQ 947 4169 1239 4319 \nQ 1531 4469 1900 4469 \nQ 2125 4469 2322 4422 \nQ 2519 4375 2680 4270 \nQ 2841 4166 2962 3994 \nQ 3084 3822 3156 3572 \nL 2619 3475 \nQ 2531 3759 2339 3886 \nQ 2147 4013 1894 4013 \nQ 1663 4013 1475 3903 \nQ 1288 3794 1156 3576 \nQ 1025 3359 954 3031 \nQ 884 2703 884 2266 \nQ 1038 2550 1316 2698 \nQ 1594 2847 1953 2847 \nQ 2253 2847 2497 2750 \nQ 2741 2653 2914 2470 \nQ 3088 2288 3183 2027 \nQ 3278 1766 3278 1441 \nz\nM 2706 1416 \nQ 2706 1644 2650 1828 \nQ 2594 2013 2481 2142 \nQ 2369 2272 2203 2342 \nQ 2038 2413 1819 2413 \nQ 1666 2413 1509 2367 \nQ 1353 2322 1226 2220 \nQ 1100 2119 1020 1953 \nQ 941 1788 941 1550 \nQ 941 1306 1003 1095 \nQ 1066 884 1183 728 \nQ 1300 572 1465 481 \nQ 1631 391 1838 391 \nQ 2041 391 2202 461 \nQ 2363 531 2475 664 \nQ 2588 797 2647 987 \nQ 2706 1178 2706 1416 \nz\n\" transform=\"scale(0.015625)\"/>\n       </defs>\n       <use xlink:href=\"#LiberationSans-36\"/>\n       <use xlink:href=\"#LiberationSans-30\" x=\"55.615234\"/>\n      </g>\n     </g>\n    </g>\n    <g id=\"xtick_5\">\n     <g id=\"line2d_9\">\n      <path d=\"M 378.960455 326.81625 \nL 378.960455 21.89625 \n\" clip-path=\"url(#pd0d6d6faf7)\" style=\"fill: none; stroke: #ffffff; stroke-linecap: round\"/>\n     </g>\n     <g id=\"line2d_10\"/>\n     <g id=\"text_5\">\n      <!-- 80 -->\n      <g style=\"fill: #262626\" transform=\"translate(373.399517 341.063125) scale(0.1 -0.1)\">\n       <defs>\n        <path id=\"LiberationSans-38\" d=\"M 3281 1228 \nQ 3281 947 3192 711 \nQ 3103 475 2920 303 \nQ 2738 131 2453 34 \nQ 2169 -63 1781 -63 \nQ 1394 -63 1111 34 \nQ 828 131 642 301 \nQ 456 472 367 708 \nQ 278 944 278 1222 \nQ 278 1463 351 1650 \nQ 425 1838 548 1973 \nQ 672 2109 830 2192 \nQ 988 2275 1156 2303 \nL 1156 2316 \nQ 972 2359 826 2456 \nQ 681 2553 582 2689 \nQ 484 2825 432 2990 \nQ 381 3156 381 3341 \nQ 381 3572 470 3776 \nQ 559 3981 734 4136 \nQ 909 4291 1168 4380 \nQ 1428 4469 1769 4469 \nQ 2128 4469 2392 4378 \nQ 2656 4288 2829 4133 \nQ 3003 3978 3087 3772 \nQ 3172 3566 3172 3334 \nQ 3172 3153 3120 2987 \nQ 3069 2822 2970 2686 \nQ 2872 2550 2726 2454 \nQ 2581 2359 2391 2322 \nL 2391 2309 \nQ 2581 2278 2743 2195 \nQ 2906 2113 3025 1977 \nQ 3144 1841 3212 1653 \nQ 3281 1466 3281 1228 \nz\nM 2588 3303 \nQ 2588 3469 2545 3606 \nQ 2503 3744 2406 3842 \nQ 2309 3941 2153 3995 \nQ 1997 4050 1769 4050 \nQ 1547 4050 1394 3995 \nQ 1241 3941 1142 3842 \nQ 1044 3744 1000 3606 \nQ 956 3469 956 3303 \nQ 956 3172 990 3034 \nQ 1025 2897 1115 2784 \nQ 1206 2672 1365 2600 \nQ 1525 2528 1775 2528 \nQ 2041 2528 2202 2600 \nQ 2363 2672 2448 2784 \nQ 2534 2897 2561 3034 \nQ 2588 3172 2588 3303 \nz\nM 2697 1281 \nQ 2697 1441 2653 1589 \nQ 2609 1738 2503 1852 \nQ 2397 1966 2217 2036 \nQ 2038 2106 1769 2106 \nQ 1522 2106 1348 2036 \nQ 1175 1966 1067 1850 \nQ 959 1734 909 1582 \nQ 859 1431 859 1269 \nQ 859 1066 909 898 \nQ 959 731 1068 611 \nQ 1178 491 1356 425 \nQ 1534 359 1788 359 \nQ 2044 359 2219 425 \nQ 2394 491 2500 611 \nQ 2606 731 2651 901 \nQ 2697 1072 2697 1281 \nz\n\" transform=\"scale(0.015625)\"/>\n       </defs>\n       <use xlink:href=\"#LiberationSans-38\"/>\n       <use xlink:href=\"#LiberationSans-30\" x=\"55.615234\"/>\n      </g>\n     </g>\n    </g>\n    <g id=\"xtick_6\">\n     <g id=\"line2d_11\">\n      <path d=\"M 460.124091 326.81625 \nL 460.124091 21.89625 \n\" clip-path=\"url(#pd0d6d6faf7)\" style=\"fill: none; stroke: #ffffff; stroke-linecap: round\"/>\n     </g>\n     <g id=\"line2d_12\"/>\n     <g id=\"text_6\">\n      <!-- 100 -->\n      <g style=\"fill: #262626\" transform=\"translate(451.782685 341.063125) scale(0.1 -0.1)\">\n       <defs>\n        <path id=\"LiberationSans-31\" d=\"M 488 0 \nL 488 478 \nL 1609 478 \nL 1609 3866 \nL 616 3156 \nL 616 3688 \nL 1656 4403 \nL 2175 4403 \nL 2175 478 \nL 3247 478 \nL 3247 0 \nL 488 0 \nz\n\" transform=\"scale(0.015625)\"/>\n       </defs>\n       <use xlink:href=\"#LiberationSans-31\"/>\n       <use xlink:href=\"#LiberationSans-30\" x=\"55.615234\"/>\n       <use xlink:href=\"#LiberationSans-30\" x=\"111.230469\"/>\n      </g>\n     </g>\n    </g>\n    <g id=\"text_7\">\n     <!-- epoch -->\n     <g style=\"fill: #262626\" transform=\"translate(242.230937 355.109687) scale(0.11 -0.11)\">\n      <defs>\n       <path id=\"LiberationSans-65\" d=\"M 863 1572 \nQ 863 1306 917 1082 \nQ 972 859 1086 698 \nQ 1200 538 1378 448 \nQ 1556 359 1806 359 \nQ 2172 359 2392 506 \nQ 2613 653 2691 878 \nL 3184 738 \nQ 3131 597 3036 455 \nQ 2941 313 2781 198 \nQ 2622 84 2383 10 \nQ 2144 -63 1806 -63 \nQ 1056 -63 664 384 \nQ 272 831 272 1713 \nQ 272 2188 390 2517 \nQ 509 2847 715 3053 \nQ 922 3259 1197 3351 \nQ 1472 3444 1784 3444 \nQ 2209 3444 2495 3306 \nQ 2781 3169 2954 2926 \nQ 3128 2684 3201 2356 \nQ 3275 2028 3275 1647 \nL 3275 1572 \nL 863 1572 \nz\nM 2694 2003 \nQ 2647 2538 2422 2783 \nQ 2197 3028 1775 3028 \nQ 1634 3028 1479 2983 \nQ 1325 2938 1194 2822 \nQ 1063 2706 972 2507 \nQ 881 2309 869 2003 \nL 2694 2003 \nz\n\" transform=\"scale(0.015625)\"/>\n       <path id=\"LiberationSans-70\" d=\"M 3291 1706 \nQ 3291 1322 3228 997 \nQ 3166 672 3020 437 \nQ 2875 203 2636 70 \nQ 2397 -63 2047 -63 \nQ 1684 -63 1412 75 \nQ 1141 213 997 525 \nL 981 525 \nQ 984 519 986 469 \nQ 988 419 989 344 \nQ 991 269 992 176 \nQ 994 84 994 -6 \nL 994 -1328 \nL 431 -1328 \nL 431 2691 \nQ 431 2813 429 2925 \nQ 428 3038 425 3130 \nQ 422 3222 419 3287 \nQ 416 3353 413 3381 \nL 956 3381 \nQ 959 3372 964 3315 \nQ 969 3259 973 3179 \nQ 978 3100 983 3009 \nQ 988 2919 988 2838 \nL 1000 2838 \nQ 1078 3000 1178 3114 \nQ 1278 3228 1406 3301 \nQ 1534 3375 1692 3408 \nQ 1850 3441 2047 3441 \nQ 2397 3441 2636 3316 \nQ 2875 3191 3020 2964 \nQ 3166 2738 3228 2417 \nQ 3291 2097 3291 1706 \nz\nM 2700 1694 \nQ 2700 2006 2662 2250 \nQ 2625 2494 2533 2662 \nQ 2441 2831 2287 2918 \nQ 2134 3006 1903 3006 \nQ 1716 3006 1550 2953 \nQ 1384 2900 1261 2750 \nQ 1138 2600 1066 2336 \nQ 994 2072 994 1650 \nQ 994 1291 1053 1042 \nQ 1113 794 1227 641 \nQ 1341 488 1509 420 \nQ 1678 353 1897 353 \nQ 2131 353 2286 443 \nQ 2441 534 2533 706 \nQ 2625 878 2662 1126 \nQ 2700 1375 2700 1694 \nz\n\" transform=\"scale(0.015625)\"/>\n       <path id=\"LiberationSans-6f\" d=\"M 3291 1694 \nQ 3291 806 2900 371 \nQ 2509 -63 1766 -63 \nQ 1413 -63 1134 43 \nQ 856 150 664 369 \nQ 472 588 370 917 \nQ 269 1247 269 1694 \nQ 269 3444 1784 3444 \nQ 2178 3444 2464 3334 \nQ 2750 3225 2933 3006 \nQ 3116 2788 3203 2459 \nQ 3291 2131 3291 1694 \nz\nM 2700 1694 \nQ 2700 2088 2639 2344 \nQ 2578 2600 2461 2753 \nQ 2344 2906 2175 2967 \nQ 2006 3028 1794 3028 \nQ 1578 3028 1404 2964 \nQ 1231 2900 1109 2745 \nQ 988 2591 923 2334 \nQ 859 2078 859 1694 \nQ 859 1300 928 1042 \nQ 997 784 1117 631 \nQ 1238 478 1402 415 \nQ 1566 353 1759 353 \nQ 1975 353 2150 414 \nQ 2325 475 2447 628 \nQ 2569 781 2634 1040 \nQ 2700 1300 2700 1694 \nz\n\" transform=\"scale(0.015625)\"/>\n       <path id=\"LiberationSans-63\" d=\"M 859 1706 \nQ 859 1416 901 1172 \nQ 944 928 1044 751 \nQ 1144 575 1308 478 \nQ 1472 381 1713 381 \nQ 2013 381 2214 543 \nQ 2416 706 2463 1044 \nL 3031 1006 \nQ 3003 797 2909 603 \nQ 2816 409 2655 262 \nQ 2494 116 2262 26 \nQ 2031 -63 1728 -63 \nQ 1331 -63 1053 71 \nQ 775 206 601 442 \nQ 428 678 350 998 \nQ 272 1319 272 1694 \nQ 272 2034 328 2295 \nQ 384 2556 486 2751 \nQ 588 2947 725 3080 \nQ 863 3213 1023 3292 \nQ 1184 3372 1362 3408 \nQ 1541 3444 1722 3444 \nQ 2006 3444 2228 3366 \nQ 2450 3288 2611 3152 \nQ 2772 3016 2872 2831 \nQ 2972 2647 3013 2434 \nL 2434 2391 \nQ 2391 2672 2212 2837 \nQ 2034 3003 1706 3003 \nQ 1466 3003 1305 2923 \nQ 1144 2844 1044 2683 \nQ 944 2522 901 2278 \nQ 859 2034 859 1706 \nz\n\" transform=\"scale(0.015625)\"/>\n       <path id=\"LiberationSans-68\" d=\"M 991 2803 \nQ 1084 2975 1193 3095 \nQ 1303 3216 1434 3294 \nQ 1566 3372 1722 3408 \nQ 1878 3444 2072 3444 \nQ 2397 3444 2605 3356 \nQ 2813 3269 2933 3111 \nQ 3053 2953 3098 2734 \nQ 3144 2516 3144 2253 \nL 3144 0 \nL 2578 0 \nL 2578 2144 \nQ 2578 2359 2551 2521 \nQ 2525 2684 2450 2792 \nQ 2375 2900 2237 2954 \nQ 2100 3009 1881 3009 \nQ 1681 3009 1520 2937 \nQ 1359 2866 1245 2734 \nQ 1131 2603 1068 2415 \nQ 1006 2228 1006 1994 \nL 1006 0 \nL 444 0 \nL 444 4638 \nL 1006 4638 \nL 1006 3431 \nQ 1006 3328 1003 3225 \nQ 1000 3122 995 3034 \nQ 991 2947 987 2886 \nQ 984 2825 981 2803 \nL 991 2803 \nz\n\" transform=\"scale(0.015625)\"/>\n      </defs>\n      <use xlink:href=\"#LiberationSans-65\"/>\n      <use xlink:href=\"#LiberationSans-70\" x=\"55.615234\"/>\n      <use xlink:href=\"#LiberationSans-6f\" x=\"111.230469\"/>\n      <use xlink:href=\"#LiberationSans-63\" x=\"166.845703\"/>\n      <use xlink:href=\"#LiberationSans-68\" x=\"216.845703\"/>\n     </g>\n    </g>\n   </g>\n   <g id=\"matplotlib.axis_2\">\n    <g id=\"ytick_1\">\n     <g id=\"line2d_13\">\n      <path d=\"M 34.015 291.200197 \nL 480.415 291.200197 \n\" clip-path=\"url(#pd0d6d6faf7)\" style=\"fill: none; stroke: #ffffff; stroke-linecap: round\"/>\n     </g>\n     <g id=\"line2d_14\"/>\n     <g id=\"text_8\">\n      <!-- 2 -->\n      <g style=\"fill: #262626\" transform=\"translate(21.454062 294.823635) scale(0.1 -0.1)\">\n       <use xlink:href=\"#LiberationSans-32\"/>\n      </g>\n     </g>\n    </g>\n    <g id=\"ytick_2\">\n     <g id=\"line2d_15\">\n      <path d=\"M 34.015 250.208026 \nL 480.415 250.208026 \n\" clip-path=\"url(#pd0d6d6faf7)\" style=\"fill: none; stroke: #ffffff; stroke-linecap: round\"/>\n     </g>\n     <g id=\"line2d_16\"/>\n     <g id=\"text_9\">\n      <!-- 3 -->\n      <g style=\"fill: #262626\" transform=\"translate(21.454062 253.831463) scale(0.1 -0.1)\">\n       <defs>\n        <path id=\"LiberationSans-33\" d=\"M 3278 1216 \nQ 3278 913 3179 675 \nQ 3081 438 2892 273 \nQ 2703 109 2423 23 \nQ 2144 -63 1784 -63 \nQ 1375 -63 1095 39 \nQ 816 141 634 308 \nQ 453 475 362 689 \nQ 272 903 244 1131 \nL 825 1184 \nQ 850 1009 917 865 \nQ 984 722 1100 619 \nQ 1216 516 1384 459 \nQ 1553 403 1784 403 \nQ 2209 403 2451 612 \nQ 2694 822 2694 1234 \nQ 2694 1478 2586 1626 \nQ 2478 1775 2317 1858 \nQ 2156 1941 1967 1969 \nQ 1778 1997 1619 1997 \nL 1300 1997 \nL 1300 2484 \nL 1606 2484 \nQ 1766 2484 1937 2517 \nQ 2109 2550 2251 2636 \nQ 2394 2722 2486 2869 \nQ 2578 3016 2578 3244 \nQ 2578 3597 2370 3801 \nQ 2163 4006 1753 4006 \nQ 1381 4006 1151 3815 \nQ 922 3625 884 3278 \nL 319 3322 \nQ 353 3613 478 3828 \nQ 603 4044 795 4186 \nQ 988 4328 1234 4398 \nQ 1481 4469 1759 4469 \nQ 2128 4469 2393 4376 \nQ 2659 4284 2828 4126 \nQ 2997 3969 3076 3756 \nQ 3156 3544 3156 3303 \nQ 3156 3109 3103 2940 \nQ 3050 2772 2937 2637 \nQ 2825 2503 2651 2406 \nQ 2478 2309 2234 2259 \nL 2234 2247 \nQ 2500 2219 2697 2126 \nQ 2894 2034 3022 1896 \nQ 3150 1759 3214 1584 \nQ 3278 1409 3278 1216 \nz\n\" transform=\"scale(0.015625)\"/>\n       </defs>\n       <use xlink:href=\"#LiberationSans-33\"/>\n      </g>\n     </g>\n    </g>\n    <g id=\"ytick_3\">\n     <g id=\"line2d_17\">\n      <path d=\"M 34.015 209.215854 \nL 480.415 209.215854 \n\" clip-path=\"url(#pd0d6d6faf7)\" style=\"fill: none; stroke: #ffffff; stroke-linecap: round\"/>\n     </g>\n     <g id=\"line2d_18\"/>\n     <g id=\"text_10\">\n      <!-- 4 -->\n      <g style=\"fill: #262626\" transform=\"translate(21.454062 212.839292) scale(0.1 -0.1)\">\n       <use xlink:href=\"#LiberationSans-34\"/>\n      </g>\n     </g>\n    </g>\n    <g id=\"ytick_4\">\n     <g id=\"line2d_19\">\n      <path d=\"M 34.015 168.223683 \nL 480.415 168.223683 \n\" clip-path=\"url(#pd0d6d6faf7)\" style=\"fill: none; stroke: #ffffff; stroke-linecap: round\"/>\n     </g>\n     <g id=\"line2d_20\"/>\n     <g id=\"text_11\">\n      <!-- 5 -->\n      <g style=\"fill: #262626\" transform=\"translate(21.454062 171.84712) scale(0.1 -0.1)\">\n       <defs>\n        <path id=\"LiberationSans-35\" d=\"M 3291 1434 \nQ 3291 1103 3191 828 \nQ 3091 553 2894 354 \nQ 2697 156 2405 46 \nQ 2113 -63 1728 -63 \nQ 1381 -63 1123 18 \nQ 866 100 687 242 \nQ 509 384 404 575 \nQ 300 766 256 984 \nL 825 1050 \nQ 859 925 921 808 \nQ 984 691 1092 598 \nQ 1200 506 1358 451 \nQ 1516 397 1741 397 \nQ 1959 397 2137 464 \nQ 2316 531 2442 662 \nQ 2569 794 2637 984 \nQ 2706 1175 2706 1422 \nQ 2706 1625 2640 1795 \nQ 2575 1966 2453 2089 \nQ 2331 2213 2154 2281 \nQ 1978 2350 1753 2350 \nQ 1613 2350 1494 2325 \nQ 1375 2300 1273 2256 \nQ 1172 2213 1089 2155 \nQ 1006 2097 934 2034 \nL 384 2034 \nL 531 4403 \nL 3034 4403 \nL 3034 3925 \nL 1044 3925 \nL 959 2528 \nQ 1109 2644 1334 2726 \nQ 1559 2809 1869 2809 \nQ 2197 2809 2459 2709 \nQ 2722 2609 2906 2426 \nQ 3091 2244 3191 1991 \nQ 3291 1738 3291 1434 \nz\n\" transform=\"scale(0.015625)\"/>\n       </defs>\n       <use xlink:href=\"#LiberationSans-35\"/>\n      </g>\n     </g>\n    </g>\n    <g id=\"ytick_5\">\n     <g id=\"line2d_21\">\n      <path d=\"M 34.015 127.231511 \nL 480.415 127.231511 \n\" clip-path=\"url(#pd0d6d6faf7)\" style=\"fill: none; stroke: #ffffff; stroke-linecap: round\"/>\n     </g>\n     <g id=\"line2d_22\"/>\n     <g id=\"text_12\">\n      <!-- 6 -->\n      <g style=\"fill: #262626\" transform=\"translate(21.454062 130.854949) scale(0.1 -0.1)\">\n       <use xlink:href=\"#LiberationSans-36\"/>\n      </g>\n     </g>\n    </g>\n    <g id=\"ytick_6\">\n     <g id=\"line2d_23\">\n      <path d=\"M 34.015 86.23934 \nL 480.415 86.23934 \n\" clip-path=\"url(#pd0d6d6faf7)\" style=\"fill: none; stroke: #ffffff; stroke-linecap: round\"/>\n     </g>\n     <g id=\"line2d_24\"/>\n     <g id=\"text_13\">\n      <!-- 7 -->\n      <g style=\"fill: #262626\" transform=\"translate(21.454062 89.862777) scale(0.1 -0.1)\">\n       <defs>\n        <path id=\"LiberationSans-37\" d=\"M 3238 3947 \nQ 2906 3441 2628 2973 \nQ 2350 2506 2150 2032 \nQ 1950 1559 1839 1061 \nQ 1728 563 1728 0 \nL 1141 0 \nQ 1141 528 1266 1036 \nQ 1391 1544 1603 2033 \nQ 1816 2522 2097 2994 \nQ 2378 3466 2694 3925 \nL 328 3925 \nL 328 4403 \nL 3238 4403 \nL 3238 3947 \nz\n\" transform=\"scale(0.015625)\"/>\n       </defs>\n       <use xlink:href=\"#LiberationSans-37\"/>\n      </g>\n     </g>\n    </g>\n    <g id=\"ytick_7\">\n     <g id=\"line2d_25\">\n      <path d=\"M 34.015 45.247168 \nL 480.415 45.247168 \n\" clip-path=\"url(#pd0d6d6faf7)\" style=\"fill: none; stroke: #ffffff; stroke-linecap: round\"/>\n     </g>\n     <g id=\"line2d_26\"/>\n     <g id=\"text_14\">\n      <!-- 8 -->\n      <g style=\"fill: #262626\" transform=\"translate(21.454062 48.870606) scale(0.1 -0.1)\">\n       <use xlink:href=\"#LiberationSans-38\"/>\n      </g>\n     </g>\n    </g>\n    <g id=\"text_15\">\n     <!-- loss -->\n     <g style=\"fill: #262626\" transform=\"translate(15.171562 184.136797) rotate(-90) scale(0.11 -0.11)\">\n      <defs>\n       <path id=\"LiberationSans-6c\" d=\"M 431 0 \nL 431 4638 \nL 994 4638 \nL 994 0 \nL 431 0 \nz\n\" transform=\"scale(0.015625)\"/>\n       <path id=\"LiberationSans-73\" d=\"M 2969 934 \nQ 2969 697 2876 511 \nQ 2784 325 2609 198 \nQ 2434 72 2179 4 \nQ 1925 -63 1597 -63 \nQ 1303 -63 1067 -17 \nQ 831 28 653 128 \nQ 475 228 354 392 \nQ 234 556 178 794 \nL 675 891 \nQ 747 619 972 492 \nQ 1197 366 1597 366 \nQ 1778 366 1929 391 \nQ 2081 416 2190 477 \nQ 2300 538 2361 639 \nQ 2422 741 2422 891 \nQ 2422 1044 2350 1142 \nQ 2278 1241 2150 1306 \nQ 2022 1372 1839 1420 \nQ 1656 1469 1438 1528 \nQ 1234 1581 1034 1647 \nQ 834 1713 673 1820 \nQ 513 1928 413 2087 \nQ 313 2247 313 2488 \nQ 313 2950 642 3192 \nQ 972 3434 1603 3434 \nQ 2163 3434 2492 3237 \nQ 2822 3041 2909 2606 \nL 2403 2544 \nQ 2375 2675 2300 2764 \nQ 2225 2853 2119 2908 \nQ 2013 2963 1880 2986 \nQ 1747 3009 1603 3009 \nQ 1222 3009 1040 2893 \nQ 859 2778 859 2544 \nQ 859 2406 926 2317 \nQ 994 2228 1114 2167 \nQ 1234 2106 1403 2061 \nQ 1572 2016 1775 1966 \nQ 1909 1931 2050 1892 \nQ 2191 1853 2323 1798 \nQ 2456 1744 2573 1670 \nQ 2691 1597 2778 1494 \nQ 2866 1391 2917 1253 \nQ 2969 1116 2969 934 \nz\n\" transform=\"scale(0.015625)\"/>\n      </defs>\n      <use xlink:href=\"#LiberationSans-6c\"/>\n      <use xlink:href=\"#LiberationSans-6f\" x=\"22.216797\"/>\n      <use xlink:href=\"#LiberationSans-73\" x=\"77.832031\"/>\n      <use xlink:href=\"#LiberationSans-73\" x=\"127.832031\"/>\n     </g>\n    </g>\n   </g>\n   <g id=\"line2d_27\">\n    <path d=\"M 54.305909 35.75625 \nL 58.364091 308.966776 \nL 62.422273 308.264251 \nL 66.480455 309.285713 \nL 70.538636 305.655437 \nL 74.596818 300.207202 \nL 78.655 309.152298 \nL 82.713182 307.807449 \nL 86.771364 304.69034 \nL 90.829545 312.232169 \nL 94.887727 305.622328 \nL 98.945909 304.234822 \nL 103.004091 307.571518 \nL 107.062273 302.246395 \nL 111.120455 302.997019 \nL 115.178636 303.293655 \nL 119.236818 304.623431 \nL 123.295 305.385611 \nL 127.353182 309.34545 \nL 131.411364 305.090756 \nL 135.469545 307.028852 \nL 139.527727 310.207653 \nL 143.585909 309.28872 \nL 147.644091 302.305385 \nL 151.702273 312.95625 \nL 155.760455 301.181271 \nL 159.818636 305.148785 \nL 163.876818 304.265313 \nL 167.935 299.933758 \nL 171.993182 305.939075 \nL 176.051364 308.88589 \nL 180.109545 303.310879 \nL 184.167727 306.935456 \nL 188.225909 304.14891 \nL 192.284091 297.253476 \nL 196.342273 306.127711 \nL 200.400455 305.776549 \nL 204.458636 310.779041 \nL 208.516818 296.557872 \nL 212.575 302.889328 \nL 216.633182 309.429467 \nL 220.691364 303.3997 \nL 224.749545 303.045098 \nL 228.807727 302.111011 \nL 232.865909 304.608159 \nL 236.924091 303.758226 \nL 240.982273 300.718568 \nL 245.040455 309.523673 \nL 249.098636 306.206478 \nL 253.156818 307.258773 \nL 257.215 307.182736 \nL 261.273182 307.347873 \nL 265.331364 294.176634 \nL 269.389545 305.544837 \nL 273.447727 304.546623 \nL 277.505909 308.327359 \nL 281.564091 300.320153 \nL 285.622273 309.644671 \nL 289.680455 304.253525 \nL 293.738636 301.583398 \nL 297.796818 310.992102 \nL 301.855 309.736493 \nL 305.913182 306.878701 \nL 309.971364 302.327545 \nL 314.029545 306.10398 \nL 318.087727 308.951077 \nL 322.145909 310.53181 \nL 326.204091 305.266886 \nL 330.262273 312.033146 \nL 334.320455 308.459084 \nL 338.378636 306.739599 \nL 342.436818 309.103527 \nL 346.495 308.093951 \nL 350.553182 304.264939 \nL 354.611364 306.951676 \nL 358.669545 310.362224 \nL 362.727727 307.580314 \nL 366.785909 305.493932 \nL 370.844091 302.759052 \nL 374.902273 303.200204 \nL 378.960455 302.305397 \nL 383.018636 297.666421 \nL 387.076818 305.427372 \nL 391.135 309.75806 \nL 395.193182 306.042363 \nL 399.251364 302.74959 \nL 403.309545 302.230795 \nL 407.367727 305.888437 \nL 411.425909 305.362513 \nL 415.484091 303.851926 \nL 419.542273 308.178757 \nL 423.600455 306.387674 \nL 427.658636 308.619744 \nL 431.716818 309.58617 \nL 435.775 296.835843 \nL 439.833182 304.351654 \nL 443.891364 307.157675 \nL 447.949545 303.925779 \nL 452.007727 302.437549 \nL 456.065909 296.693914 \nL 460.124091 301.748126 \n\" clip-path=\"url(#pd0d6d6faf7)\" style=\"fill: none; stroke: #4c72b0; stroke-width: 1.75; stroke-linecap: round\"/>\n    <defs>\n     <path id=\"mdab6709944\" d=\"M -3.5 3.5 \nL 3.5 -3.5 \nM -3.5 -3.5 \nL 3.5 3.5 \n\"/>\n    </defs>\n    <g clip-path=\"url(#pd0d6d6faf7)\">\n     <use xlink:href=\"#mdab6709944\" x=\"54.305909\" y=\"35.75625\" style=\"fill: #4c72b0\"/>\n     <use xlink:href=\"#mdab6709944\" x=\"58.364091\" y=\"308.966776\" style=\"fill: #4c72b0\"/>\n     <use xlink:href=\"#mdab6709944\" x=\"62.422273\" y=\"308.264251\" style=\"fill: #4c72b0\"/>\n     <use xlink:href=\"#mdab6709944\" x=\"66.480455\" y=\"309.285713\" style=\"fill: #4c72b0\"/>\n     <use xlink:href=\"#mdab6709944\" x=\"70.538636\" y=\"305.655437\" style=\"fill: #4c72b0\"/>\n     <use xlink:href=\"#mdab6709944\" x=\"74.596818\" y=\"300.207202\" style=\"fill: #4c72b0\"/>\n     <use xlink:href=\"#mdab6709944\" x=\"78.655\" y=\"309.152298\" style=\"fill: #4c72b0\"/>\n     <use xlink:href=\"#mdab6709944\" x=\"82.713182\" y=\"307.807449\" style=\"fill: #4c72b0\"/>\n     <use xlink:href=\"#mdab6709944\" x=\"86.771364\" y=\"304.69034\" style=\"fill: #4c72b0\"/>\n     <use xlink:href=\"#mdab6709944\" x=\"90.829545\" y=\"312.232169\" style=\"fill: #4c72b0\"/>\n     <use xlink:href=\"#mdab6709944\" x=\"94.887727\" y=\"305.622328\" style=\"fill: #4c72b0\"/>\n     <use xlink:href=\"#mdab6709944\" x=\"98.945909\" y=\"304.234822\" style=\"fill: #4c72b0\"/>\n     <use xlink:href=\"#mdab6709944\" x=\"103.004091\" y=\"307.571518\" style=\"fill: #4c72b0\"/>\n     <use xlink:href=\"#mdab6709944\" x=\"107.062273\" y=\"302.246395\" style=\"fill: #4c72b0\"/>\n     <use xlink:href=\"#mdab6709944\" x=\"111.120455\" y=\"302.997019\" style=\"fill: #4c72b0\"/>\n     <use xlink:href=\"#mdab6709944\" x=\"115.178636\" y=\"303.293655\" style=\"fill: #4c72b0\"/>\n     <use xlink:href=\"#mdab6709944\" x=\"119.236818\" y=\"304.623431\" style=\"fill: #4c72b0\"/>\n     <use xlink:href=\"#mdab6709944\" x=\"123.295\" y=\"305.385611\" style=\"fill: #4c72b0\"/>\n     <use xlink:href=\"#mdab6709944\" x=\"127.353182\" y=\"309.34545\" style=\"fill: #4c72b0\"/>\n     <use xlink:href=\"#mdab6709944\" x=\"131.411364\" y=\"305.090756\" style=\"fill: #4c72b0\"/>\n     <use xlink:href=\"#mdab6709944\" x=\"135.469545\" y=\"307.028852\" style=\"fill: #4c72b0\"/>\n     <use xlink:href=\"#mdab6709944\" x=\"139.527727\" y=\"310.207653\" style=\"fill: #4c72b0\"/>\n     <use xlink:href=\"#mdab6709944\" x=\"143.585909\" y=\"309.28872\" style=\"fill: #4c72b0\"/>\n     <use xlink:href=\"#mdab6709944\" x=\"147.644091\" y=\"302.305385\" style=\"fill: #4c72b0\"/>\n     <use xlink:href=\"#mdab6709944\" x=\"151.702273\" y=\"312.95625\" style=\"fill: #4c72b0\"/>\n     <use xlink:href=\"#mdab6709944\" x=\"155.760455\" y=\"301.181271\" style=\"fill: #4c72b0\"/>\n     <use xlink:href=\"#mdab6709944\" x=\"159.818636\" y=\"305.148785\" style=\"fill: #4c72b0\"/>\n     <use xlink:href=\"#mdab6709944\" x=\"163.876818\" y=\"304.265313\" style=\"fill: #4c72b0\"/>\n     <use xlink:href=\"#mdab6709944\" x=\"167.935\" y=\"299.933758\" style=\"fill: #4c72b0\"/>\n     <use xlink:href=\"#mdab6709944\" x=\"171.993182\" y=\"305.939075\" style=\"fill: #4c72b0\"/>\n     <use xlink:href=\"#mdab6709944\" x=\"176.051364\" y=\"308.88589\" style=\"fill: #4c72b0\"/>\n     <use xlink:href=\"#mdab6709944\" x=\"180.109545\" y=\"303.310879\" style=\"fill: #4c72b0\"/>\n     <use xlink:href=\"#mdab6709944\" x=\"184.167727\" y=\"306.935456\" style=\"fill: #4c72b0\"/>\n     <use xlink:href=\"#mdab6709944\" x=\"188.225909\" y=\"304.14891\" style=\"fill: #4c72b0\"/>\n     <use xlink:href=\"#mdab6709944\" x=\"192.284091\" y=\"297.253476\" style=\"fill: #4c72b0\"/>\n     <use xlink:href=\"#mdab6709944\" x=\"196.342273\" y=\"306.127711\" style=\"fill: #4c72b0\"/>\n     <use xlink:href=\"#mdab6709944\" x=\"200.400455\" y=\"305.776549\" style=\"fill: #4c72b0\"/>\n     <use xlink:href=\"#mdab6709944\" x=\"204.458636\" y=\"310.779041\" style=\"fill: #4c72b0\"/>\n     <use xlink:href=\"#mdab6709944\" x=\"208.516818\" y=\"296.557872\" style=\"fill: #4c72b0\"/>\n     <use xlink:href=\"#mdab6709944\" x=\"212.575\" y=\"302.889328\" style=\"fill: #4c72b0\"/>\n     <use xlink:href=\"#mdab6709944\" x=\"216.633182\" y=\"309.429467\" style=\"fill: #4c72b0\"/>\n     <use xlink:href=\"#mdab6709944\" x=\"220.691364\" y=\"303.3997\" style=\"fill: #4c72b0\"/>\n     <use xlink:href=\"#mdab6709944\" x=\"224.749545\" y=\"303.045098\" style=\"fill: #4c72b0\"/>\n     <use xlink:href=\"#mdab6709944\" x=\"228.807727\" y=\"302.111011\" style=\"fill: #4c72b0\"/>\n     <use xlink:href=\"#mdab6709944\" x=\"232.865909\" y=\"304.608159\" style=\"fill: #4c72b0\"/>\n     <use xlink:href=\"#mdab6709944\" x=\"236.924091\" y=\"303.758226\" style=\"fill: #4c72b0\"/>\n     <use xlink:href=\"#mdab6709944\" x=\"240.982273\" y=\"300.718568\" style=\"fill: #4c72b0\"/>\n     <use xlink:href=\"#mdab6709944\" x=\"245.040455\" y=\"309.523673\" style=\"fill: #4c72b0\"/>\n     <use xlink:href=\"#mdab6709944\" x=\"249.098636\" y=\"306.206478\" style=\"fill: #4c72b0\"/>\n     <use xlink:href=\"#mdab6709944\" x=\"253.156818\" y=\"307.258773\" style=\"fill: #4c72b0\"/>\n     <use xlink:href=\"#mdab6709944\" x=\"257.215\" y=\"307.182736\" style=\"fill: #4c72b0\"/>\n     <use xlink:href=\"#mdab6709944\" x=\"261.273182\" y=\"307.347873\" style=\"fill: #4c72b0\"/>\n     <use xlink:href=\"#mdab6709944\" x=\"265.331364\" y=\"294.176634\" style=\"fill: #4c72b0\"/>\n     <use xlink:href=\"#mdab6709944\" x=\"269.389545\" y=\"305.544837\" style=\"fill: #4c72b0\"/>\n     <use xlink:href=\"#mdab6709944\" x=\"273.447727\" y=\"304.546623\" style=\"fill: #4c72b0\"/>\n     <use xlink:href=\"#mdab6709944\" x=\"277.505909\" y=\"308.327359\" style=\"fill: #4c72b0\"/>\n     <use xlink:href=\"#mdab6709944\" x=\"281.564091\" y=\"300.320153\" style=\"fill: #4c72b0\"/>\n     <use xlink:href=\"#mdab6709944\" x=\"285.622273\" y=\"309.644671\" style=\"fill: #4c72b0\"/>\n     <use xlink:href=\"#mdab6709944\" x=\"289.680455\" y=\"304.253525\" style=\"fill: #4c72b0\"/>\n     <use xlink:href=\"#mdab6709944\" x=\"293.738636\" y=\"301.583398\" style=\"fill: #4c72b0\"/>\n     <use xlink:href=\"#mdab6709944\" x=\"297.796818\" y=\"310.992102\" style=\"fill: #4c72b0\"/>\n     <use xlink:href=\"#mdab6709944\" x=\"301.855\" y=\"309.736493\" style=\"fill: #4c72b0\"/>\n     <use xlink:href=\"#mdab6709944\" x=\"305.913182\" y=\"306.878701\" style=\"fill: #4c72b0\"/>\n     <use xlink:href=\"#mdab6709944\" x=\"309.971364\" y=\"302.327545\" style=\"fill: #4c72b0\"/>\n     <use xlink:href=\"#mdab6709944\" x=\"314.029545\" y=\"306.10398\" style=\"fill: #4c72b0\"/>\n     <use xlink:href=\"#mdab6709944\" x=\"318.087727\" y=\"308.951077\" style=\"fill: #4c72b0\"/>\n     <use xlink:href=\"#mdab6709944\" x=\"322.145909\" y=\"310.53181\" style=\"fill: #4c72b0\"/>\n     <use xlink:href=\"#mdab6709944\" x=\"326.204091\" y=\"305.266886\" style=\"fill: #4c72b0\"/>\n     <use xlink:href=\"#mdab6709944\" x=\"330.262273\" y=\"312.033146\" style=\"fill: #4c72b0\"/>\n     <use xlink:href=\"#mdab6709944\" x=\"334.320455\" y=\"308.459084\" style=\"fill: #4c72b0\"/>\n     <use xlink:href=\"#mdab6709944\" x=\"338.378636\" y=\"306.739599\" style=\"fill: #4c72b0\"/>\n     <use xlink:href=\"#mdab6709944\" x=\"342.436818\" y=\"309.103527\" style=\"fill: #4c72b0\"/>\n     <use xlink:href=\"#mdab6709944\" x=\"346.495\" y=\"308.093951\" style=\"fill: #4c72b0\"/>\n     <use xlink:href=\"#mdab6709944\" x=\"350.553182\" y=\"304.264939\" style=\"fill: #4c72b0\"/>\n     <use xlink:href=\"#mdab6709944\" x=\"354.611364\" y=\"306.951676\" style=\"fill: #4c72b0\"/>\n     <use xlink:href=\"#mdab6709944\" x=\"358.669545\" y=\"310.362224\" style=\"fill: #4c72b0\"/>\n     <use xlink:href=\"#mdab6709944\" x=\"362.727727\" y=\"307.580314\" style=\"fill: #4c72b0\"/>\n     <use xlink:href=\"#mdab6709944\" x=\"366.785909\" y=\"305.493932\" style=\"fill: #4c72b0\"/>\n     <use xlink:href=\"#mdab6709944\" x=\"370.844091\" y=\"302.759052\" style=\"fill: #4c72b0\"/>\n     <use xlink:href=\"#mdab6709944\" x=\"374.902273\" y=\"303.200204\" style=\"fill: #4c72b0\"/>\n     <use xlink:href=\"#mdab6709944\" x=\"378.960455\" y=\"302.305397\" style=\"fill: #4c72b0\"/>\n     <use xlink:href=\"#mdab6709944\" x=\"383.018636\" y=\"297.666421\" style=\"fill: #4c72b0\"/>\n     <use xlink:href=\"#mdab6709944\" x=\"387.076818\" y=\"305.427372\" style=\"fill: #4c72b0\"/>\n     <use xlink:href=\"#mdab6709944\" x=\"391.135\" y=\"309.75806\" style=\"fill: #4c72b0\"/>\n     <use xlink:href=\"#mdab6709944\" x=\"395.193182\" y=\"306.042363\" style=\"fill: #4c72b0\"/>\n     <use xlink:href=\"#mdab6709944\" x=\"399.251364\" y=\"302.74959\" style=\"fill: #4c72b0\"/>\n     <use xlink:href=\"#mdab6709944\" x=\"403.309545\" y=\"302.230795\" style=\"fill: #4c72b0\"/>\n     <use xlink:href=\"#mdab6709944\" x=\"407.367727\" y=\"305.888437\" style=\"fill: #4c72b0\"/>\n     <use xlink:href=\"#mdab6709944\" x=\"411.425909\" y=\"305.362513\" style=\"fill: #4c72b0\"/>\n     <use xlink:href=\"#mdab6709944\" x=\"415.484091\" y=\"303.851926\" style=\"fill: #4c72b0\"/>\n     <use xlink:href=\"#mdab6709944\" x=\"419.542273\" y=\"308.178757\" style=\"fill: #4c72b0\"/>\n     <use xlink:href=\"#mdab6709944\" x=\"423.600455\" y=\"306.387674\" style=\"fill: #4c72b0\"/>\n     <use xlink:href=\"#mdab6709944\" x=\"427.658636\" y=\"308.619744\" style=\"fill: #4c72b0\"/>\n     <use xlink:href=\"#mdab6709944\" x=\"431.716818\" y=\"309.58617\" style=\"fill: #4c72b0\"/>\n     <use xlink:href=\"#mdab6709944\" x=\"435.775\" y=\"296.835843\" style=\"fill: #4c72b0\"/>\n     <use xlink:href=\"#mdab6709944\" x=\"439.833182\" y=\"304.351654\" style=\"fill: #4c72b0\"/>\n     <use xlink:href=\"#mdab6709944\" x=\"443.891364\" y=\"307.157675\" style=\"fill: #4c72b0\"/>\n     <use xlink:href=\"#mdab6709944\" x=\"447.949545\" y=\"303.925779\" style=\"fill: #4c72b0\"/>\n     <use xlink:href=\"#mdab6709944\" x=\"452.007727\" y=\"302.437549\" style=\"fill: #4c72b0\"/>\n     <use xlink:href=\"#mdab6709944\" x=\"456.065909\" y=\"296.693914\" style=\"fill: #4c72b0\"/>\n     <use xlink:href=\"#mdab6709944\" x=\"460.124091\" y=\"301.748126\" style=\"fill: #4c72b0\"/>\n    </g>\n   </g>\n   <g id=\"patch_3\">\n    <path d=\"M 34.015 326.81625 \nL 34.015 21.89625 \n\" style=\"fill: none\"/>\n   </g>\n   <g id=\"patch_4\">\n    <path d=\"M 480.415 326.81625 \nL 480.415 21.89625 \n\" style=\"fill: none\"/>\n   </g>\n   <g id=\"patch_5\">\n    <path d=\"M 34.015 326.81625 \nL 480.415 326.81625 \n\" style=\"fill: none\"/>\n   </g>\n   <g id=\"patch_6\">\n    <path d=\"M 34.015 21.89625 \nL 480.415 21.89625 \n\" style=\"fill: none\"/>\n   </g>\n   <g id=\"text_16\">\n    <!-- Loss vs. No. of epochs -->\n    <g style=\"fill: #262626\" transform=\"translate(196.52125 15.89625) scale(0.12 -0.12)\">\n     <defs>\n      <path id=\"LiberationSans-4c\" d=\"M 525 0 \nL 525 4403 \nL 1122 4403 \nL 1122 488 \nL 3347 488 \nL 3347 0 \nL 525 0 \nz\n\" transform=\"scale(0.015625)\"/>\n      <path id=\"LiberationSans-20\" transform=\"scale(0.015625)\"/>\n      <path id=\"LiberationSans-76\" d=\"M 1916 0 \nL 1250 0 \nL 22 3381 \nL 622 3381 \nL 1366 1181 \nQ 1388 1113 1417 1014 \nQ 1447 916 1478 809 \nQ 1509 703 1536 604 \nQ 1563 506 1581 441 \nQ 1600 506 1629 604 \nQ 1659 703 1690 806 \nQ 1722 909 1755 1007 \nQ 1788 1106 1813 1175 \nL 2581 3381 \nL 3178 3381 \nL 1916 0 \nz\n\" transform=\"scale(0.015625)\"/>\n      <path id=\"LiberationSans-2e\" d=\"M 584 0 \nL 584 684 \nL 1194 684 \nL 1194 0 \nL 584 0 \nz\n\" transform=\"scale(0.015625)\"/>\n      <path id=\"LiberationSans-4e\" d=\"M 3381 0 \nL 1025 3750 \nQ 1031 3597 1041 3447 \nQ 1047 3319 1051 3176 \nQ 1056 3034 1056 2925 \nL 1056 0 \nL 525 0 \nL 525 4403 \nL 1219 4403 \nL 3600 628 \nQ 3591 781 3581 934 \nQ 3575 1066 3569 1220 \nQ 3563 1375 3563 1516 \nL 3563 4403 \nL 4100 4403 \nL 4100 0 \nL 3381 0 \nz\n\" transform=\"scale(0.015625)\"/>\n      <path id=\"LiberationSans-66\" d=\"M 1128 2972 \nL 1128 0 \nL 566 0 \nL 566 2972 \nL 91 2972 \nL 91 3381 \nL 566 3381 \nL 566 3763 \nQ 566 3947 600 4105 \nQ 634 4263 726 4380 \nQ 819 4497 978 4564 \nQ 1138 4631 1391 4631 \nQ 1491 4631 1598 4622 \nQ 1706 4613 1788 4594 \nL 1788 4166 \nQ 1734 4175 1664 4183 \nQ 1594 4191 1538 4191 \nQ 1413 4191 1333 4156 \nQ 1253 4122 1208 4058 \nQ 1163 3994 1145 3900 \nQ 1128 3806 1128 3684 \nL 1128 3381 \nL 1788 3381 \nL 1788 2972 \nL 1128 2972 \nz\n\" transform=\"scale(0.015625)\"/>\n     </defs>\n     <use xlink:href=\"#LiberationSans-4c\"/>\n     <use xlink:href=\"#LiberationSans-6f\" x=\"55.615234\"/>\n     <use xlink:href=\"#LiberationSans-73\" x=\"111.230469\"/>\n     <use xlink:href=\"#LiberationSans-73\" x=\"161.230469\"/>\n     <use xlink:href=\"#LiberationSans-20\" x=\"211.230469\"/>\n     <use xlink:href=\"#LiberationSans-76\" x=\"239.013672\"/>\n     <use xlink:href=\"#LiberationSans-73\" x=\"289.013672\"/>\n     <use xlink:href=\"#LiberationSans-2e\" x=\"339.013672\"/>\n     <use xlink:href=\"#LiberationSans-20\" x=\"366.796875\"/>\n     <use xlink:href=\"#LiberationSans-4e\" x=\"394.580078\"/>\n     <use xlink:href=\"#LiberationSans-6f\" x=\"466.796875\"/>\n     <use xlink:href=\"#LiberationSans-2e\" x=\"522.412109\"/>\n     <use xlink:href=\"#LiberationSans-20\" x=\"550.195312\"/>\n     <use xlink:href=\"#LiberationSans-6f\" x=\"577.978516\"/>\n     <use xlink:href=\"#LiberationSans-66\" x=\"633.59375\"/>\n     <use xlink:href=\"#LiberationSans-20\" x=\"661.376953\"/>\n     <use xlink:href=\"#LiberationSans-65\" x=\"689.160156\"/>\n     <use xlink:href=\"#LiberationSans-70\" x=\"744.775391\"/>\n     <use xlink:href=\"#LiberationSans-6f\" x=\"800.390625\"/>\n     <use xlink:href=\"#LiberationSans-63\" x=\"856.005859\"/>\n     <use xlink:href=\"#LiberationSans-68\" x=\"906.005859\"/>\n     <use xlink:href=\"#LiberationSans-73\" x=\"961.621094\"/>\n    </g>\n   </g>\n  </g>\n </g>\n <defs>\n  <clipPath id=\"pd0d6d6faf7\">\n   <rect x=\"34.015\" y=\"21.89625\" width=\"446.4\" height=\"304.92\"/>\n  </clipPath>\n </defs>\n</svg>\n"
          },
          "metadata": {}
        }
      ]
    },
    {
      "cell_type": "code",
      "source": [
        "test_imgs, test_tabular, test_lbls = next(iter(test_loader))\n",
        "test_imgs = test_imgs.cuda()\n",
        "test_tabular = test_tabular.cuda()\n",
        "test_lbls = test_lbls.cuda()\n",
        "\n",
        "with torch.no_grad(): \n",
        "    preds = model_mobilenet(test_imgs, test_tabular)"
      ],
      "metadata": {
        "id": "Bceum38SY_o-"
      },
      "execution_count": 113,
      "outputs": []
    },
    {
      "cell_type": "code",
      "source": [
        "yhat=preds.flatten().to('cpu')"
      ],
      "metadata": {
        "id": "xaE7bjlUY_4w"
      },
      "execution_count": 114,
      "outputs": []
    },
    {
      "cell_type": "code",
      "source": [
        "test_mean_squared_error, test_root_mean_squared_error,test_mae, test_r2_score_percentage = calculate_errors_and_r2(test_lbls.to('cpu'), yhat)\n",
        "\n",
        "print('Test Data MSE = ', test_mean_squared_error)\n",
        "print('Test Data RMSE = ', test_root_mean_squared_error)\n",
        "print('Test Data MAE = ', test_mae)\n",
        "print('Test Data R2 = ', test_r2_score_percentage)"
      ],
      "metadata": {
        "colab": {
          "base_uri": "https://localhost:8080/"
        },
        "id": "ftF0aCX92hdJ",
        "outputId": "950f014d-a83c-4e09-ae1e-8499661ac71e"
      },
      "execution_count": 89,
      "outputs": [
        {
          "output_type": "stream",
          "name": "stdout",
          "text": [
            "Test Data MSE =  2.424138253068988\n",
            "Test Data RMSE =  1.5569644353898993\n",
            "Test Data MAE =  1.082971827777035\n",
            "Test Data R2 =  -18.0\n"
          ]
        }
      ]
    },
    {
      "cell_type": "code",
      "source": [
        "torch.save(model_res.state_dict(), '/content/drive/My Drive/Diploma/CODE/data/models/model_mobilenet_v1.pth')"
      ],
      "metadata": {
        "id": "0ZAp79tNYs2y"
      },
      "execution_count": null,
      "outputs": []
    },
    {
      "cell_type": "code",
      "source": [],
      "metadata": {
        "id": "nzpm0McIYs5a"
      },
      "execution_count": null,
      "outputs": []
    },
    {
      "cell_type": "code",
      "source": [],
      "metadata": {
        "id": "egYK4I3UYs8A"
      },
      "execution_count": null,
      "outputs": []
    },
    {
      "cell_type": "code",
      "source": [],
      "metadata": {
        "id": "TSwKjUXVYs-o"
      },
      "execution_count": null,
      "outputs": []
    },
    {
      "cell_type": "code",
      "source": [],
      "metadata": {
        "id": "xb2ZEhFxYtBe"
      },
      "execution_count": null,
      "outputs": []
    }
  ],
  "metadata": {
    "kernelspec": {
      "display_name": "Python 3 (ipykernel)",
      "language": "python",
      "name": "python3"
    },
    "language_info": {
      "codemirror_mode": {
        "name": "ipython",
        "version": 3
      },
      "file_extension": ".py",
      "mimetype": "text/x-python",
      "name": "python",
      "nbconvert_exporter": "python",
      "pygments_lexer": "ipython3",
      "version": "3.9.13"
    },
    "vscode": {
      "interpreter": {
        "hash": "3dd32d9f94238ec8b0e4f79eabc9bcad10ffae3232487ad50a9b3a08094f8c66"
      }
    },
    "colab": {
      "provenance": []
    },
    "accelerator": "GPU",
    "gpuClass": "standard"
  },
  "nbformat": 4,
  "nbformat_minor": 0
}