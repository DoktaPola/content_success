{
 "cells": [
  {
   "attachments": {},
   "cell_type": "markdown",
   "metadata": {},
   "source": [
    "# Imports"
   ]
  },
  {
   "cell_type": "code",
   "execution_count": 2,
   "metadata": {},
   "outputs": [],
   "source": [
    "import pandas as pd\n",
    "import numpy as np\n",
    "import seaborn as sns\n",
    "\n",
    "import glob\n",
    "import shutil\n",
    "import os\n",
    "import requests\n",
    "import shutil\n",
    "import urllib\n",
    "\n",
    "import matplotlib.pyplot as plt\n",
    "from matplotlib import style\n",
    "from matplotlib.pyplot import imread, imshow, subplots, show\n",
    "style.use('seaborn')\n",
    "%matplotlib inline\n",
    "#graphs in svg look clearer\n",
    "%config InlineBackend.figure_format = 'svg' \n",
    "import warnings\n",
    "warnings.simplefilter('ignore')\n",
    "\n",
    "import pylab as pl\n",
    "\n",
    "import torch\n",
    "import torch.nn as nn\n",
    "from torch.utils.data import TensorDataset, DataLoader, ConcatDataset\n",
    "import torch.nn.functional as F\n",
    "from torch.utils.data import DataLoader, TensorDataset, random_split\n",
    "from torch.utils.data import DataLoader,Dataset\n",
    "import torch.optim as optim\n",
    "\n",
    "from os import listdir\n",
    "from os.path import isfile, join\n",
    "\n",
    "from tqdm.auto import tqdm\n",
    "import os\n",
    "from PIL import Image\n",
    "import cv2\n",
    "\n",
    "pd.set_option('display.max_columns', None)\n",
    "pd.set_option('display.max_colwidth', None)\n",
    "\n",
    "import warnings\n",
    "warnings.filterwarnings(\"ignore\", category=UserWarning, module=\"torch.nn.functional\")"
   ]
  },
  {
   "attachments": {},
   "cell_type": "markdown",
   "metadata": {},
   "source": [
    "# Preprocessing"
   ]
  },
  {
   "cell_type": "code",
   "execution_count": 18,
   "metadata": {},
   "outputs": [],
   "source": [
    "data_path = '/root/User/_DIPLOMA/data/data_tbl_cvr_oscr_kws_small.csv'\n",
    "\n",
    "df = pd.read_csv(data_path, index_col=0)"
   ]
  },
  {
   "cell_type": "code",
   "execution_count": 20,
   "metadata": {},
   "outputs": [
    {
     "data": {
      "text/plain": [
       "(8784, 1037)"
      ]
     },
     "execution_count": 20,
     "metadata": {},
     "output_type": "execute_result"
    }
   ],
   "source": [
    "df.shape"
   ]
  },
  {
   "cell_type": "code",
   "execution_count": 21,
   "metadata": {},
   "outputs": [
    {
     "data": {
      "text/plain": [
       "Index(['age_access_type', 'name', 'director', 'genre', 'average_rating',\n",
       "       'type', 'country', 'release_type', 'release_year', 'duration', 'actor',\n",
       "       'element_uid', 'ACTOR', 'COMPOSER', 'DESIGN', 'DIRECTOR', 'EDITOR',\n",
       "       'OPERATOR', 'PRODUCER', 'WRITER', 'BUDGET', 'MARKETING', 'RUS', 'USA',\n",
       "       'WORLD', 'element_id', 'rating', 'джек', 'расследовать', 'подруга'],\n",
       "      dtype='object')"
      ]
     },
     "execution_count": 21,
     "metadata": {},
     "output_type": "execute_result"
    }
   ],
   "source": [
    "df.columns[:30]"
   ]
  },
  {
   "cell_type": "code",
   "execution_count": 22,
   "metadata": {},
   "outputs": [
    {
     "data": {
      "text/plain": [
       "Index(['чета', 'зебра', 'сидень', 'беатрис', 'рыбка', 'has_oscar_actor',\n",
       "       'has_oscar_composer', 'has_oscar_design', 'has_oscar_director',\n",
       "       'has_oscar_editor', 'has_oscar_operator', 'has_oscar_producer',\n",
       "       'has_oscar_writer', 'poster_url', 'poster_url_preview'],\n",
       "      dtype='object')"
      ]
     },
     "execution_count": 22,
     "metadata": {},
     "output_type": "execute_result"
    }
   ],
   "source": [
    "df.columns[-15:]"
   ]
  },
  {
   "attachments": {},
   "cell_type": "markdown",
   "metadata": {},
   "source": [
    "Get rid of keywords"
   ]
  },
  {
   "cell_type": "code",
   "execution_count": 23,
   "metadata": {},
   "outputs": [],
   "source": [
    "df_cols = ['age_access_type', 'name', 'director', 'genre', 'average_rating',\n",
    "       'type', 'country', 'release_type', 'release_year', 'duration', 'actor',\n",
    "       'element_uid', 'ACTOR', 'COMPOSER', 'DESIGN', 'DIRECTOR', 'EDITOR',\n",
    "       'OPERATOR', 'PRODUCER', 'WRITER', 'BUDGET', 'MARKETING', 'RUS', 'USA',\n",
    "       'WORLD', 'element_id', 'rating', 'has_oscar_actor',\n",
    "       'has_oscar_composer', 'has_oscar_design', 'has_oscar_director',\n",
    "       'has_oscar_editor', 'has_oscar_operator', 'has_oscar_producer',\n",
    "       'has_oscar_writer', 'poster_url', 'poster_url_preview']"
   ]
  },
  {
   "cell_type": "code",
   "execution_count": 24,
   "metadata": {},
   "outputs": [],
   "source": [
    "df = df[df_cols]"
   ]
  },
  {
   "cell_type": "code",
   "execution_count": 25,
   "metadata": {},
   "outputs": [
    {
     "data": {
      "text/plain": [
       "8699"
      ]
     },
     "execution_count": 25,
     "metadata": {},
     "output_type": "execute_result"
    }
   ],
   "source": [
    "len(df['poster_url_preview'].unique())"
   ]
  },
  {
   "cell_type": "code",
   "execution_count": 26,
   "metadata": {},
   "outputs": [
    {
     "data": {
      "text/html": [
       "<div>\n",
       "<style scoped>\n",
       "    .dataframe tbody tr th:only-of-type {\n",
       "        vertical-align: middle;\n",
       "    }\n",
       "\n",
       "    .dataframe tbody tr th {\n",
       "        vertical-align: top;\n",
       "    }\n",
       "\n",
       "    .dataframe thead th {\n",
       "        text-align: right;\n",
       "    }\n",
       "</style>\n",
       "<table border=\"1\" class=\"dataframe\">\n",
       "  <thead>\n",
       "    <tr style=\"text-align: right;\">\n",
       "      <th></th>\n",
       "      <th>0</th>\n",
       "      <th>1</th>\n",
       "      <th>2</th>\n",
       "      <th>3</th>\n",
       "      <th>4</th>\n",
       "    </tr>\n",
       "  </thead>\n",
       "  <tbody>\n",
       "    <tr>\n",
       "      <th>has_oscar_producer</th>\n",
       "      <td>0</td>\n",
       "      <td>0</td>\n",
       "      <td>0</td>\n",
       "      <td>0</td>\n",
       "      <td>0</td>\n",
       "    </tr>\n",
       "    <tr>\n",
       "      <th>has_oscar_writer</th>\n",
       "      <td>0</td>\n",
       "      <td>0</td>\n",
       "      <td>0</td>\n",
       "      <td>0</td>\n",
       "      <td>0</td>\n",
       "    </tr>\n",
       "    <tr>\n",
       "      <th>poster_url</th>\n",
       "      <td>https://kinopoiskapiunofficial.tech/images/posters/kp/6580.jpg</td>\n",
       "      <td>https://kinopoiskapiunofficial.tech/images/posters/kp/6460.jpg</td>\n",
       "      <td>https://kinopoiskapiunofficial.tech/images/posters/kp/1228112.jpg</td>\n",
       "      <td>https://kinopoiskapiunofficial.tech/images/posters/kp/623934.jpg</td>\n",
       "      <td>https://kinopoiskapiunofficial.tech/images/posters/kp/1172958.jpg</td>\n",
       "    </tr>\n",
       "    <tr>\n",
       "      <th>poster_url_preview</th>\n",
       "      <td>https://kinopoiskapiunofficial.tech/images/posters/kp_small/6580.jpg</td>\n",
       "      <td>https://kinopoiskapiunofficial.tech/images/posters/kp_small/6460.jpg</td>\n",
       "      <td>https://kinopoiskapiunofficial.tech/images/posters/kp_small/1228112.jpg</td>\n",
       "      <td>https://kinopoiskapiunofficial.tech/images/posters/kp_small/623934.jpg</td>\n",
       "      <td>https://kinopoiskapiunofficial.tech/images/posters/kp_small/1172958.jpg</td>\n",
       "    </tr>\n",
       "    <tr>\n",
       "      <th>img_name</th>\n",
       "      <td>6580.jpg</td>\n",
       "      <td>6460.jpg</td>\n",
       "      <td>1228112.jpg</td>\n",
       "      <td>623934.jpg</td>\n",
       "      <td>1172958.jpg</td>\n",
       "    </tr>\n",
       "  </tbody>\n",
       "</table>\n",
       "</div>"
      ],
      "text/plain": [
       "                                                                                       0  \\\n",
       "has_oscar_producer                                                                     0   \n",
       "has_oscar_writer                                                                       0   \n",
       "poster_url                https://kinopoiskapiunofficial.tech/images/posters/kp/6580.jpg   \n",
       "poster_url_preview  https://kinopoiskapiunofficial.tech/images/posters/kp_small/6580.jpg   \n",
       "img_name                                                                        6580.jpg   \n",
       "\n",
       "                                                                                       1  \\\n",
       "has_oscar_producer                                                                     0   \n",
       "has_oscar_writer                                                                       0   \n",
       "poster_url                https://kinopoiskapiunofficial.tech/images/posters/kp/6460.jpg   \n",
       "poster_url_preview  https://kinopoiskapiunofficial.tech/images/posters/kp_small/6460.jpg   \n",
       "img_name                                                                        6460.jpg   \n",
       "\n",
       "                                                                                          2  \\\n",
       "has_oscar_producer                                                                        0   \n",
       "has_oscar_writer                                                                          0   \n",
       "poster_url                https://kinopoiskapiunofficial.tech/images/posters/kp/1228112.jpg   \n",
       "poster_url_preview  https://kinopoiskapiunofficial.tech/images/posters/kp_small/1228112.jpg   \n",
       "img_name                                                                        1228112.jpg   \n",
       "\n",
       "                                                                                         3  \\\n",
       "has_oscar_producer                                                                       0   \n",
       "has_oscar_writer                                                                         0   \n",
       "poster_url                https://kinopoiskapiunofficial.tech/images/posters/kp/623934.jpg   \n",
       "poster_url_preview  https://kinopoiskapiunofficial.tech/images/posters/kp_small/623934.jpg   \n",
       "img_name                                                                        623934.jpg   \n",
       "\n",
       "                                                                                          4  \n",
       "has_oscar_producer                                                                        0  \n",
       "has_oscar_writer                                                                          0  \n",
       "poster_url                https://kinopoiskapiunofficial.tech/images/posters/kp/1172958.jpg  \n",
       "poster_url_preview  https://kinopoiskapiunofficial.tech/images/posters/kp_small/1172958.jpg  \n",
       "img_name                                                                        1172958.jpg  "
      ]
     },
     "execution_count": 26,
     "metadata": {},
     "output_type": "execute_result"
    }
   ],
   "source": [
    "# add names of imgs\n",
    "\n",
    "def add_img_name(data):\n",
    "  return data.split('/')[-1]\n",
    "\n",
    "df['img_name'] = df['poster_url_preview'].apply(add_img_name)\n",
    "\n",
    "df.head().T[-5:]"
   ]
  },
  {
   "attachments": {},
   "cell_type": "markdown",
   "metadata": {},
   "source": [
    "### Test/Train split"
   ]
  },
  {
   "cell_type": "code",
   "execution_count": 30,
   "metadata": {},
   "outputs": [],
   "source": [
    "train_df = df[df['release_year'] != 2022]"
   ]
  },
  {
   "cell_type": "code",
   "execution_count": 31,
   "metadata": {},
   "outputs": [
    {
     "data": {
      "text/plain": [
       "(8683, 38)"
      ]
     },
     "execution_count": 31,
     "metadata": {},
     "output_type": "execute_result"
    }
   ],
   "source": [
    "train_df.shape"
   ]
  },
  {
   "cell_type": "code",
   "execution_count": 32,
   "metadata": {},
   "outputs": [
    {
     "data": {
      "text/plain": [
       "(8683, 38)"
      ]
     },
     "execution_count": 32,
     "metadata": {},
     "output_type": "execute_result"
    }
   ],
   "source": [
    "train_df.dropna(subset=['rating'], inplace=True)\n",
    "train_df.shape"
   ]
  },
  {
   "cell_type": "code",
   "execution_count": 33,
   "metadata": {},
   "outputs": [
    {
     "data": {
      "text/plain": [
       "(101, 38)"
      ]
     },
     "execution_count": 33,
     "metadata": {},
     "output_type": "execute_result"
    }
   ],
   "source": [
    "test_df = df[df['release_year'] == 2022]\n",
    "test_df.shape"
   ]
  },
  {
   "cell_type": "code",
   "execution_count": 34,
   "metadata": {},
   "outputs": [
    {
     "data": {
      "text/plain": [
       "(101, 38)"
      ]
     },
     "execution_count": 34,
     "metadata": {},
     "output_type": "execute_result"
    }
   ],
   "source": [
    "test_df.dropna(subset=['rating'], inplace=True)\n",
    "test_df.shape"
   ]
  },
  {
   "attachments": {},
   "cell_type": "markdown",
   "metadata": {},
   "source": [
    "### Preproc"
   ]
  },
  {
   "cell_type": "code",
   "execution_count": 35,
   "metadata": {},
   "outputs": [],
   "source": [
    "train = train_df.copy(deep=True)\n",
    "test = test_df.copy(deep=True)"
   ]
  },
  {
   "cell_type": "code",
   "execution_count": 36,
   "metadata": {},
   "outputs": [],
   "source": [
    "train = train[train['release_year'] >= 2000]"
   ]
  },
  {
   "cell_type": "code",
   "execution_count": 37,
   "metadata": {},
   "outputs": [
    {
     "data": {
      "text/plain": [
       "(6672, 38)"
      ]
     },
     "execution_count": 37,
     "metadata": {},
     "output_type": "execute_result"
    }
   ],
   "source": [
    "train.shape"
   ]
  },
  {
   "cell_type": "code",
   "execution_count": 38,
   "metadata": {},
   "outputs": [],
   "source": [
    "train.drop(['director', 'average_rating', 'release_type', 'actor', 'element_id'], axis=1, inplace=True)\n",
    "\n",
    "test.drop(['director', 'average_rating', 'release_type', 'actor', 'element_id'], axis=1, inplace=True)"
   ]
  },
  {
   "cell_type": "code",
   "execution_count": 39,
   "metadata": {},
   "outputs": [],
   "source": [
    "import ast\n",
    "\n",
    "columns = ['ACTOR', 'COMPOSER', 'DESIGN', 'DIRECTOR', 'EDITOR',\n",
    "                      'OPERATOR', 'PRODUCER', 'WRITER', 'country', 'genre']\n",
    "for col in columns:\n",
    "  train[col] = train[col].apply(lambda x: ast.literal_eval(x) if not isinstance(x, float) else np.nan)\n",
    "  test[col] = test[col].apply(lambda x: ast.literal_eval(x) if not isinstance(x, float) else np.nan)"
   ]
  },
  {
   "cell_type": "code",
   "execution_count": 40,
   "metadata": {},
   "outputs": [],
   "source": [
    "mltpl_cat_features = ['ACTOR', 'COMPOSER', 'DESIGN', 'DIRECTOR', 'EDITOR',\n",
    "       'OPERATOR', 'PRODUCER', 'WRITER', 'country', 'genre']\n",
    "num_features = [ 'duration']\n",
    "cat_features = ['age_access_type']\n",
    "skewed_num_features = ['duration', 'BUDGET', 'MARKETING', 'RUS', 'WORLD']\n",
    "mltpl_cat_n_top = {'ACTOR': 10, 'country': 1, 'DIRECTOR': 1, \n",
    "                   'EDITOR': 1, 'OPERATOR': 1, 'PRODUCER': 5, 'WRITER': 2,\n",
    "                   'DESIGN': 3, 'COMPOSER': 1, 'genre': 3}"
   ]
  },
  {
   "cell_type": "code",
   "execution_count": 41,
   "metadata": {},
   "outputs": [],
   "source": [
    "from collections import Counter\n",
    "from sklearn.feature_extraction.text import TfidfVectorizer\n",
    "import numpy as np\n",
    "from sklearn.model_selection import train_test_split\n",
    "\n",
    "class Preprocesser:\n",
    "    def __init__(self, \n",
    "                mulpiple_cat_features: list,\n",
    "                skewed_num_features: list,\n",
    "                mltpl_cat_n_top: dict):\n",
    "        self.mulpiple_cat_features = mulpiple_cat_features\n",
    "        self.skewed_num_features = skewed_num_features\n",
    "        self.mltpl_cat_n_top = mltpl_cat_n_top\n",
    "        \n",
    "    def __get_top_n_mltpl_cat_features(self, df_pr, col):\n",
    "        all_cats = []\n",
    "        for element_values in df_pr[col]:\n",
    "            all_cats.extend(element_values)\n",
    "        return Counter(all_cats).most_common(self.mltpl_cat_n_top[col])\n",
    "            \n",
    "    def __preprocess_mulpiple_cat_features(self, df_pr):\n",
    "        for col in self.mulpiple_cat_features:\n",
    "            feature_number = self.mltpl_cat_n_top[col]\n",
    "            df_pr[[f'{col}_{i}' for i in range(feature_number)]] = pd.DataFrame(np.full((len(df), feature_number), np.nan))\n",
    "            for i in df_pr.index:\n",
    "                names = df_pr.loc[i, col]\n",
    "                if isinstance(names, float):\n",
    "                    names = ['Na']\n",
    "                for k, name in enumerate(names[:int(feature_number)]):\n",
    "                    df_pr.loc[i, f'{col}_{k}'] = name\n",
    "            df_pr.drop(col, axis=1, inplace=True)\n",
    "\n",
    "        return df_pr\n",
    "    \n",
    "    def __preprocess_skewed_num_features(self, df_pr):\n",
    "        for col in self.skewed_num_features:\n",
    "            df_pr[col] = df_pr[col].apply(lambda x: np.log1p(x))\n",
    "        return df_pr\n",
    "    \n",
    "    def __preprocess_text_features(self, df_pr):\n",
    "        for col in self.text_features:\n",
    "            df_pr[col] = df_pr[col].apply(lambda x: self.tokenizer(x))\n",
    "        return df_pr\n",
    "            \n",
    "    def preprocess(self,\n",
    "                   df: pd.DataFrame):\n",
    "        df_pr = df.copy()\n",
    "        df_pr = self.__preprocess_mulpiple_cat_features(df_pr)\n",
    "        df_pr = self.__preprocess_skewed_num_features(df_pr)\n",
    "        # df_pr = self.__preprocess_text_features(df_pr)\n",
    "        \n",
    "        return df_pr\n",
    "        "
   ]
  },
  {
   "cell_type": "code",
   "execution_count": 42,
   "metadata": {},
   "outputs": [],
   "source": [
    "preprocesser = Preprocesser(mltpl_cat_features,\n",
    "            skewed_num_features,\n",
    "            mltpl_cat_n_top)"
   ]
  },
  {
   "cell_type": "code",
   "execution_count": 43,
   "metadata": {},
   "outputs": [],
   "source": [
    "train_pr = preprocesser.preprocess(train)\n",
    "test_pr = preprocesser.preprocess(test)"
   ]
  },
  {
   "cell_type": "code",
   "execution_count": 44,
   "metadata": {},
   "outputs": [
    {
     "data": {
      "text/html": [
       "<div>\n",
       "<style scoped>\n",
       "    .dataframe tbody tr th:only-of-type {\n",
       "        vertical-align: middle;\n",
       "    }\n",
       "\n",
       "    .dataframe tbody tr th {\n",
       "        vertical-align: top;\n",
       "    }\n",
       "\n",
       "    .dataframe thead th {\n",
       "        text-align: right;\n",
       "    }\n",
       "</style>\n",
       "<table border=\"1\" class=\"dataframe\">\n",
       "  <thead>\n",
       "    <tr style=\"text-align: right;\">\n",
       "      <th></th>\n",
       "      <th>4</th>\n",
       "      <th>13</th>\n",
       "      <th>46</th>\n",
       "      <th>461</th>\n",
       "      <th>1020</th>\n",
       "    </tr>\n",
       "  </thead>\n",
       "  <tbody>\n",
       "    <tr>\n",
       "      <th>DESIGN_2</th>\n",
       "      <td>NaN</td>\n",
       "      <td>Ричард Чэнь</td>\n",
       "      <td>Чарло Далли</td>\n",
       "      <td>NaN</td>\n",
       "      <td>Джина Руис</td>\n",
       "    </tr>\n",
       "    <tr>\n",
       "      <th>DIRECTOR_0</th>\n",
       "      <td>Теодор Ти</td>\n",
       "      <td>Крис Бэйли</td>\n",
       "      <td>Дэниэл Грэм</td>\n",
       "      <td>Уте фон Мюнхов-Поль</td>\n",
       "      <td>Джаред Кон</td>\n",
       "    </tr>\n",
       "    <tr>\n",
       "      <th>EDITOR_0</th>\n",
       "      <td>Стефан Гарнье</td>\n",
       "      <td>Иван Биланкио</td>\n",
       "      <td>Люк Дулан</td>\n",
       "      <td>Na</td>\n",
       "      <td>Тревор Мирош</td>\n",
       "    </tr>\n",
       "    <tr>\n",
       "      <th>OPERATOR_0</th>\n",
       "      <td>Гийом Зиммер</td>\n",
       "      <td>Армен Мелконян</td>\n",
       "      <td>Бен Зирьяб</td>\n",
       "      <td>Na</td>\n",
       "      <td>Брэндон Ли Кокс</td>\n",
       "    </tr>\n",
       "    <tr>\n",
       "      <th>PRODUCER_0</th>\n",
       "      <td>Лоран Зэйтун</td>\n",
       "      <td>Джеймс Машелло</td>\n",
       "      <td>Дэвид Болл</td>\n",
       "      <td>Дирк Байнхольд</td>\n",
       "      <td>Амар Балагган</td>\n",
       "    </tr>\n",
       "    <tr>\n",
       "      <th>PRODUCER_1</th>\n",
       "      <td>Ян Зеноу</td>\n",
       "      <td>Том Ортенберг</td>\n",
       "      <td>Джон Дженкс</td>\n",
       "      <td>Имке Ферманн</td>\n",
       "      <td>Кори Лардж</td>\n",
       "    </tr>\n",
       "    <tr>\n",
       "      <th>PRODUCER_2</th>\n",
       "      <td>Франсуа-Ксавье Обаг</td>\n",
       "      <td>Мэтью Сидари</td>\n",
       "      <td>П.Дж. Паркер</td>\n",
       "      <td>Валентин Гройлих</td>\n",
       "      <td>Росс Мразек</td>\n",
       "    </tr>\n",
       "    <tr>\n",
       "      <th>PRODUCER_3</th>\n",
       "      <td>Валери д’Отей</td>\n",
       "      <td>Яр Ландау</td>\n",
       "      <td>Джо Симпсон</td>\n",
       "      <td>Себастьян Руншке</td>\n",
       "      <td>Бенжамин Раппапорт</td>\n",
       "    </tr>\n",
       "    <tr>\n",
       "      <th>PRODUCER_4</th>\n",
       "      <td>Жюльетт Фурнье</td>\n",
       "      <td>Адам Нэгл</td>\n",
       "      <td>Мэтт Хукингс</td>\n",
       "      <td>NaN</td>\n",
       "      <td>Марк Данон</td>\n",
       "    </tr>\n",
       "    <tr>\n",
       "      <th>WRITER_0</th>\n",
       "      <td>Лоран Зэйтун</td>\n",
       "      <td>Роберт Бен Гарант</td>\n",
       "      <td>Мэтт Хукингс</td>\n",
       "      <td>Катя Грюбель</td>\n",
       "      <td>Джаред Кон</td>\n",
       "    </tr>\n",
       "    <tr>\n",
       "      <th>WRITER_1</th>\n",
       "      <td>Дженника Харпер</td>\n",
       "      <td>Нэйт Хоппер</td>\n",
       "      <td>NaN</td>\n",
       "      <td>Дагмар Ребиндер</td>\n",
       "      <td>NaN</td>\n",
       "    </tr>\n",
       "    <tr>\n",
       "      <th>country_0</th>\n",
       "      <td>canada</td>\n",
       "      <td>usa</td>\n",
       "      <td>great-britain</td>\n",
       "      <td>germany</td>\n",
       "      <td>usa</td>\n",
       "    </tr>\n",
       "    <tr>\n",
       "      <th>genre_0</th>\n",
       "      <td>Comedy</td>\n",
       "      <td>Action</td>\n",
       "      <td>0ef0aa70-f86c-4141-8054-8b39af97867d</td>\n",
       "      <td>Comedy</td>\n",
       "      <td>Action</td>\n",
       "    </tr>\n",
       "    <tr>\n",
       "      <th>genre_1</th>\n",
       "      <td>Adventure</td>\n",
       "      <td>Comedy</td>\n",
       "      <td>NaN</td>\n",
       "      <td>Adventure</td>\n",
       "      <td>Thriller</td>\n",
       "    </tr>\n",
       "    <tr>\n",
       "      <th>genre_2</th>\n",
       "      <td>Family</td>\n",
       "      <td>Family</td>\n",
       "      <td>NaN</td>\n",
       "      <td>Family</td>\n",
       "      <td>NaN</td>\n",
       "    </tr>\n",
       "  </tbody>\n",
       "</table>\n",
       "</div>"
      ],
      "text/plain": [
       "                           4                  13    \\\n",
       "DESIGN_2                    NaN        Ричард Чэнь   \n",
       "DIRECTOR_0            Теодор Ти         Крис Бэйли   \n",
       "EDITOR_0          Стефан Гарнье      Иван Биланкио   \n",
       "OPERATOR_0         Гийом Зиммер     Армен Мелконян   \n",
       "PRODUCER_0         Лоран Зэйтун     Джеймс Машелло   \n",
       "PRODUCER_1             Ян Зеноу      Том Ортенберг   \n",
       "PRODUCER_2  Франсуа-Ксавье Обаг       Мэтью Сидари   \n",
       "PRODUCER_3        Валери д’Отей          Яр Ландау   \n",
       "PRODUCER_4       Жюльетт Фурнье          Адам Нэгл   \n",
       "WRITER_0           Лоран Зэйтун  Роберт Бен Гарант   \n",
       "WRITER_1        Дженника Харпер        Нэйт Хоппер   \n",
       "country_0                canada                usa   \n",
       "genre_0                  Comedy             Action   \n",
       "genre_1               Adventure             Comedy   \n",
       "genre_2                  Family             Family   \n",
       "\n",
       "                                            46                   461   \\\n",
       "DESIGN_2                             Чарло Далли                  NaN   \n",
       "DIRECTOR_0                           Дэниэл Грэм  Уте фон Мюнхов-Поль   \n",
       "EDITOR_0                               Люк Дулан                   Na   \n",
       "OPERATOR_0                            Бен Зирьяб                   Na   \n",
       "PRODUCER_0                            Дэвид Болл       Дирк Байнхольд   \n",
       "PRODUCER_1                           Джон Дженкс         Имке Ферманн   \n",
       "PRODUCER_2                          П.Дж. Паркер     Валентин Гройлих   \n",
       "PRODUCER_3                           Джо Симпсон     Себастьян Руншке   \n",
       "PRODUCER_4                          Мэтт Хукингс                  NaN   \n",
       "WRITER_0                            Мэтт Хукингс         Катя Грюбель   \n",
       "WRITER_1                                     NaN      Дагмар Ребиндер   \n",
       "country_0                          great-britain              germany   \n",
       "genre_0     0ef0aa70-f86c-4141-8054-8b39af97867d               Comedy   \n",
       "genre_1                                      NaN            Adventure   \n",
       "genre_2                                      NaN               Family   \n",
       "\n",
       "                          1020  \n",
       "DESIGN_2            Джина Руис  \n",
       "DIRECTOR_0          Джаред Кон  \n",
       "EDITOR_0          Тревор Мирош  \n",
       "OPERATOR_0     Брэндон Ли Кокс  \n",
       "PRODUCER_0       Амар Балагган  \n",
       "PRODUCER_1          Кори Лардж  \n",
       "PRODUCER_2         Росс Мразек  \n",
       "PRODUCER_3  Бенжамин Раппапорт  \n",
       "PRODUCER_4          Марк Данон  \n",
       "WRITER_0            Джаред Кон  \n",
       "WRITER_1                   NaN  \n",
       "country_0                  usa  \n",
       "genre_0                 Action  \n",
       "genre_1               Thriller  \n",
       "genre_2                    NaN  "
      ]
     },
     "execution_count": 44,
     "metadata": {},
     "output_type": "execute_result"
    }
   ],
   "source": [
    "test_pr.head().T[-15:]"
   ]
  },
  {
   "cell_type": "code",
   "execution_count": 45,
   "metadata": {},
   "outputs": [
    {
     "data": {
      "text/plain": [
       "Index(['age_access_type', 'name', 'type', 'release_year', 'duration',\n",
       "       'element_uid', 'BUDGET', 'MARKETING', 'RUS', 'USA', 'WORLD', 'rating',\n",
       "       'has_oscar_actor', 'has_oscar_composer', 'has_oscar_design',\n",
       "       'has_oscar_director', 'has_oscar_editor', 'has_oscar_operator',\n",
       "       'has_oscar_producer', 'has_oscar_writer', 'poster_url',\n",
       "       'poster_url_preview', 'img_name', 'ACTOR_0', 'ACTOR_1', 'ACTOR_2',\n",
       "       'ACTOR_3', 'ACTOR_4', 'ACTOR_5', 'ACTOR_6', 'ACTOR_7', 'ACTOR_8',\n",
       "       'ACTOR_9', 'COMPOSER_0', 'DESIGN_0', 'DESIGN_1', 'DESIGN_2',\n",
       "       'DIRECTOR_0', 'EDITOR_0', 'OPERATOR_0', 'PRODUCER_0', 'PRODUCER_1',\n",
       "       'PRODUCER_2', 'PRODUCER_3', 'PRODUCER_4', 'WRITER_0', 'WRITER_1',\n",
       "       'country_0', 'genre_0', 'genre_1', 'genre_2'],\n",
       "      dtype='object')"
      ]
     },
     "execution_count": 45,
     "metadata": {},
     "output_type": "execute_result"
    }
   ],
   "source": [
    "train_pr.columns"
   ]
  },
  {
   "cell_type": "code",
   "execution_count": 46,
   "metadata": {},
   "outputs": [],
   "source": [
    "rename_d = {'ACTOR_0': 'actor_0','ACTOR_1' : 'actor_1', 'ACTOR_2': 'actor_2', 'ACTOR_3':'actor_3',\n",
    "       'ACTOR_4': 'actor_4', 'ACTOR_5': 'actor_5', 'ACTOR_6': 'actor_6', 'ACTOR_7':'actor_7',\n",
    "              'ACTOR_8':'actor_8', 'ACTOR_9':'actor_9',\n",
    "       'COMPOSER_0': 'composer_0', 'DESIGN_0': 'design_0', 'DESIGN_1': 'design_1', 'DESIGN_2': 'design_2',\n",
    "              'DIRECTOR_0': 'director_0',\n",
    "       'EDITOR_0': 'editor_0', 'OPERATOR_0': 'operator_0', 'PRODUCER_0': 'producer_0',\n",
    "              'PRODUCER_1':  'producer_1', 'PRODUCER_2':  'producer_2',\n",
    "       'PRODUCER_3':  'producer_3', 'PRODUCER_4': 'producer_4', 'WRITER_0':'writer_0', 'WRITER_1': 'writer_1'}\n",
    "\n",
    "train_pr.rename(rename_d, axis=1, inplace=True)\n",
    "\n",
    "\n",
    "test_pr.rename(rename_d, axis=1, inplace=True)"
   ]
  },
  {
   "cell_type": "code",
   "execution_count": 47,
   "metadata": {},
   "outputs": [],
   "source": [
    "train_pr.rename({'BUDGET': 'budget','MARKETING' : 'marketing', 'RUS': 'rus', 'WORLD':'world'}, axis=1, inplace=True)\n",
    "\n",
    "test_pr.rename({'BUDGET': 'budget','MARKETING' : 'marketing', 'RUS': 'rus', 'WORLD':'world'}, axis=1, inplace=True)"
   ]
  },
  {
   "cell_type": "code",
   "execution_count": 48,
   "metadata": {},
   "outputs": [],
   "source": [
    "cat_features = ['age_access_type', 'type', 'actor_0', 'actor_1', 'actor_2', 'actor_3',\n",
    "                'actor_4', 'actor_5', 'actor_6', 'actor_7', 'actor_8', 'actor_9',\n",
    "                'country_0', 'director_0', 'editor_0', 'operator_0', 'producer_0',\n",
    "                'producer_1', 'producer_2', 'producer_3', 'producer_4', 'writer_0',\n",
    "                'writer_1', 'design_0', 'design_1', 'design_2', 'composer_0', 'genre_0',\n",
    "                'genre_1', 'genre_2']"
   ]
  },
  {
   "cell_type": "code",
   "execution_count": 49,
   "metadata": {},
   "outputs": [],
   "source": [
    "train_pr['rating'] = train_pr['rating'].astype(np.float64)\n",
    "\n",
    "test_pr['rating'] = test_pr['rating'].astype(np.float64)"
   ]
  },
  {
   "cell_type": "code",
   "execution_count": 50,
   "metadata": {},
   "outputs": [],
   "source": [
    "train_pr.drop(['release_year', 'element_uid', 'name'], axis=1, inplace=True)\n",
    "test_pr.drop(['release_year', 'element_uid', 'name'], axis=1, inplace=True)"
   ]
  },
  {
   "cell_type": "code",
   "execution_count": 53,
   "metadata": {},
   "outputs": [
    {
     "data": {
      "text/plain": [
       "7892"
      ]
     },
     "execution_count": 53,
     "metadata": {},
     "output_type": "execute_result"
    }
   ],
   "source": [
    "fls = None \n",
    "for root_dir, cur_dir, files in os.walk(r'/root/User/_DIPLOMA/data/train_covers/'):\n",
    "    fls = files\n",
    "    \n",
    "len(fls)"
   ]
  },
  {
   "cell_type": "code",
   "execution_count": 54,
   "metadata": {},
   "outputs": [
    {
     "name": "stdout",
     "output_type": "stream",
     "text": [
      "(6672, 48)\n"
     ]
    },
    {
     "data": {
      "text/plain": [
       "(6394, 48)"
      ]
     },
     "execution_count": 54,
     "metadata": {},
     "output_type": "execute_result"
    }
   ],
   "source": [
    "print(train_pr.shape)\n",
    "train_pr = train_pr[train_pr['img_name'].isin(fls)]\n",
    "train_pr.shape"
   ]
  },
  {
   "cell_type": "code",
   "execution_count": 55,
   "metadata": {},
   "outputs": [],
   "source": [
    "tst_fls = None \n",
    "for root_dir, cur_dir, files in os.walk(r'/root/User/_DIPLOMA/data/test_covers/'):\n",
    "    tst_fls = files"
   ]
  },
  {
   "cell_type": "code",
   "execution_count": 56,
   "metadata": {},
   "outputs": [
    {
     "data": {
      "text/plain": [
       "97"
      ]
     },
     "execution_count": 56,
     "metadata": {},
     "output_type": "execute_result"
    }
   ],
   "source": [
    "len(tst_fls)"
   ]
  },
  {
   "cell_type": "code",
   "execution_count": 57,
   "metadata": {},
   "outputs": [
    {
     "name": "stdout",
     "output_type": "stream",
     "text": [
      "(101, 48)\n"
     ]
    },
    {
     "data": {
      "text/plain": [
       "(61, 48)"
      ]
     },
     "execution_count": 57,
     "metadata": {},
     "output_type": "execute_result"
    }
   ],
   "source": [
    "print(test_pr.shape)\n",
    "test_pr = test_pr[test_pr['img_name'].isin(tst_fls)]\n",
    "test_pr.shape"
   ]
  },
  {
   "cell_type": "code",
   "execution_count": 66,
   "metadata": {},
   "outputs": [],
   "source": [
    "train_pr.drop(['poster_url', 'poster_url_preview'], axis=1, inplace=True)\n",
    "test_pr.drop(['poster_url', 'poster_url_preview'], axis=1, inplace=True)"
   ]
  },
  {
   "attachments": {},
   "cell_type": "markdown",
   "metadata": {},
   "source": [
    "### Encoding + normalization"
   ]
  },
  {
   "cell_type": "code",
   "execution_count": null,
   "metadata": {},
   "outputs": [],
   "source": [
    "# WORK WITH EMBEDDINGS ???"
   ]
  },
  {
   "cell_type": "code",
   "execution_count": null,
   "metadata": {},
   "outputs": [],
   "source": []
  },
  {
   "attachments": {},
   "cell_type": "markdown",
   "metadata": {},
   "source": [
    "**Save preproc dfs**"
   ]
  },
  {
   "cell_type": "code",
   "execution_count": 67,
   "metadata": {},
   "outputs": [],
   "source": [
    "import pickle\n",
    "\n",
    "with open('/root/User/_DIPLOMA/data/preproc_dfs/train_pr_oscr.pkl', 'wb') as f:\n",
    "    pickle.dump(train_pr, f)\n",
    "\n",
    "with open('/root/User/_DIPLOMA/data/preproc_dfs/test_pr_oscr.pkl', 'wb') as f:\n",
    "    pickle.dump(test_pr, f)"
   ]
  },
  {
   "cell_type": "code",
   "execution_count": null,
   "metadata": {},
   "outputs": [],
   "source": []
  },
  {
   "cell_type": "code",
   "execution_count": null,
   "metadata": {},
   "outputs": [],
   "source": []
  },
  {
   "cell_type": "code",
   "execution_count": 68,
   "metadata": {},
   "outputs": [
    {
     "data": {
      "text/html": [
       "<div>\n",
       "<style scoped>\n",
       "    .dataframe tbody tr th:only-of-type {\n",
       "        vertical-align: middle;\n",
       "    }\n",
       "\n",
       "    .dataframe tbody tr th {\n",
       "        vertical-align: top;\n",
       "    }\n",
       "\n",
       "    .dataframe thead th {\n",
       "        text-align: right;\n",
       "    }\n",
       "</style>\n",
       "<table border=\"1\" class=\"dataframe\">\n",
       "  <thead>\n",
       "    <tr style=\"text-align: right;\">\n",
       "      <th></th>\n",
       "      <th>4</th>\n",
       "      <th>13</th>\n",
       "      <th>46</th>\n",
       "      <th>1020</th>\n",
       "      <th>2190</th>\n",
       "    </tr>\n",
       "  </thead>\n",
       "  <tbody>\n",
       "    <tr>\n",
       "      <th>age_access_type</th>\n",
       "      <td>6</td>\n",
       "      <td>6</td>\n",
       "      <td>16</td>\n",
       "      <td>16</td>\n",
       "      <td>16</td>\n",
       "    </tr>\n",
       "    <tr>\n",
       "      <th>type</th>\n",
       "      <td>MOVIE</td>\n",
       "      <td>MOVIE</td>\n",
       "      <td>MOVIE</td>\n",
       "      <td>MOVIE</td>\n",
       "      <td>MOVIE</td>\n",
       "    </tr>\n",
       "    <tr>\n",
       "      <th>duration</th>\n",
       "      <td>15.523889</td>\n",
       "      <td>15.5347</td>\n",
       "      <td>15.665539</td>\n",
       "      <td>15.566448</td>\n",
       "      <td>15.479437</td>\n",
       "    </tr>\n",
       "    <tr>\n",
       "      <th>budget</th>\n",
       "      <td>NaN</td>\n",
       "      <td>NaN</td>\n",
       "      <td>15.894952</td>\n",
       "      <td>NaN</td>\n",
       "      <td>NaN</td>\n",
       "    </tr>\n",
       "    <tr>\n",
       "      <th>marketing</th>\n",
       "      <td>NaN</td>\n",
       "      <td>NaN</td>\n",
       "      <td>NaN</td>\n",
       "      <td>NaN</td>\n",
       "      <td>NaN</td>\n",
       "    </tr>\n",
       "    <tr>\n",
       "      <th>rus</th>\n",
       "      <td>14.405929</td>\n",
       "      <td>NaN</td>\n",
       "      <td>NaN</td>\n",
       "      <td>NaN</td>\n",
       "      <td>NaN</td>\n",
       "    </tr>\n",
       "    <tr>\n",
       "      <th>USA</th>\n",
       "      <td>NaN</td>\n",
       "      <td>NaN</td>\n",
       "      <td>NaN</td>\n",
       "      <td>NaN</td>\n",
       "      <td>NaN</td>\n",
       "    </tr>\n",
       "    <tr>\n",
       "      <th>world</th>\n",
       "      <td>15.542443</td>\n",
       "      <td>NaN</td>\n",
       "      <td>NaN</td>\n",
       "      <td>12.039197</td>\n",
       "      <td>11.104145</td>\n",
       "    </tr>\n",
       "    <tr>\n",
       "      <th>rating</th>\n",
       "      <td>9.282869</td>\n",
       "      <td>8.9459</td>\n",
       "      <td>8.626496</td>\n",
       "      <td>5.504337</td>\n",
       "      <td>6.411529</td>\n",
       "    </tr>\n",
       "    <tr>\n",
       "      <th>has_oscar_actor</th>\n",
       "      <td>0</td>\n",
       "      <td>0</td>\n",
       "      <td>0</td>\n",
       "      <td>0</td>\n",
       "      <td>0</td>\n",
       "    </tr>\n",
       "    <tr>\n",
       "      <th>has_oscar_composer</th>\n",
       "      <td>0</td>\n",
       "      <td>0</td>\n",
       "      <td>0</td>\n",
       "      <td>0</td>\n",
       "      <td>0</td>\n",
       "    </tr>\n",
       "    <tr>\n",
       "      <th>has_oscar_design</th>\n",
       "      <td>0</td>\n",
       "      <td>0</td>\n",
       "      <td>0</td>\n",
       "      <td>0</td>\n",
       "      <td>0</td>\n",
       "    </tr>\n",
       "    <tr>\n",
       "      <th>has_oscar_director</th>\n",
       "      <td>0</td>\n",
       "      <td>0</td>\n",
       "      <td>0</td>\n",
       "      <td>0</td>\n",
       "      <td>0</td>\n",
       "    </tr>\n",
       "    <tr>\n",
       "      <th>has_oscar_editor</th>\n",
       "      <td>0</td>\n",
       "      <td>0</td>\n",
       "      <td>0</td>\n",
       "      <td>0</td>\n",
       "      <td>0</td>\n",
       "    </tr>\n",
       "    <tr>\n",
       "      <th>has_oscar_operator</th>\n",
       "      <td>0</td>\n",
       "      <td>0</td>\n",
       "      <td>0</td>\n",
       "      <td>0</td>\n",
       "      <td>0</td>\n",
       "    </tr>\n",
       "    <tr>\n",
       "      <th>has_oscar_producer</th>\n",
       "      <td>0</td>\n",
       "      <td>0</td>\n",
       "      <td>0</td>\n",
       "      <td>0</td>\n",
       "      <td>0</td>\n",
       "    </tr>\n",
       "    <tr>\n",
       "      <th>has_oscar_writer</th>\n",
       "      <td>0</td>\n",
       "      <td>0</td>\n",
       "      <td>0</td>\n",
       "      <td>0</td>\n",
       "      <td>0</td>\n",
       "    </tr>\n",
       "    <tr>\n",
       "      <th>img_name</th>\n",
       "      <td>1172958.jpg</td>\n",
       "      <td>888154.jpg</td>\n",
       "      <td>994920.jpg</td>\n",
       "      <td>4477993.jpg</td>\n",
       "      <td>4367671.jpg</td>\n",
       "    </tr>\n",
       "    <tr>\n",
       "      <th>actor_0</th>\n",
       "      <td>Оливия Кук</td>\n",
       "      <td>Майкл Сера</td>\n",
       "      <td>Мэтт Хукингс</td>\n",
       "      <td>Клайв Стэнден</td>\n",
       "      <td>Джейсон Кларк</td>\n",
       "    </tr>\n",
       "    <tr>\n",
       "      <th>actor_1</th>\n",
       "      <td>Кеннет Брана</td>\n",
       "      <td>Сэмюэл Л. Джексон</td>\n",
       "      <td>Рэй Уинстон</td>\n",
       "      <td>Тео Росси</td>\n",
       "      <td>Мишель Монахэн</td>\n",
       "    </tr>\n",
       "    <tr>\n",
       "      <th>actor_2</th>\n",
       "      <td>Лори Холден</td>\n",
       "      <td>Рики Джервэйс</td>\n",
       "      <td>Рассел Кроу</td>\n",
       "      <td>Брюс Уиллис</td>\n",
       "      <td>Джай Кортни</td>\n",
       "    </tr>\n",
       "    <tr>\n",
       "      <th>actor_3</th>\n",
       "      <td>Уильям Шетнер</td>\n",
       "      <td>Кайли Куиока</td>\n",
       "      <td>Мартон Чокаш</td>\n",
       "      <td>Томас Джейн</td>\n",
       "      <td>Паллави Шарда</td>\n",
       "    </tr>\n",
       "    <tr>\n",
       "      <th>actor_4</th>\n",
       "      <td>Мара Жюно</td>\n",
       "      <td>Мэл Брукс</td>\n",
       "      <td>Джоди Мэй</td>\n",
       "      <td>Майк Тайсон</td>\n",
       "      <td>Феникс Раэй</td>\n",
       "    </tr>\n",
       "    <tr>\n",
       "      <th>actor_5</th>\n",
       "      <td>Уайлекс Ли</td>\n",
       "      <td>Джордж Такей</td>\n",
       "      <td>Джулиан Гловер</td>\n",
       "      <td>Лорен Бульоли</td>\n",
       "      <td>Файсаль Баззи</td>\n",
       "    </tr>\n",
       "    <tr>\n",
       "      <th>actor_6</th>\n",
       "      <td>Райан В. Гарсиа</td>\n",
       "      <td>Габриэль Иглесиас</td>\n",
       "      <td>Стивен Беркофф</td>\n",
       "      <td>Джеки Мур</td>\n",
       "      <td>Ули Латукефу</td>\n",
       "    </tr>\n",
       "    <tr>\n",
       "      <th>actor_7</th>\n",
       "      <td>Алис Поль</td>\n",
       "      <td>Аасиф Мандви</td>\n",
       "      <td>Глен Фокс</td>\n",
       "      <td>Мэдди Николс</td>\n",
       "      <td>Логан Хаффман</td>\n",
       "    </tr>\n",
       "    <tr>\n",
       "      <th>actor_8</th>\n",
       "      <td>Венсан Кассель</td>\n",
       "      <td>Джимон Хонсу</td>\n",
       "      <td>Рики Чаплин</td>\n",
       "      <td>Курт Юе</td>\n",
       "      <td>Тодд Ласанс</td>\n",
       "    </tr>\n",
       "    <tr>\n",
       "      <th>actor_9</th>\n",
       "      <td>Валери Лемерсье</td>\n",
       "      <td>Мишель Йео</td>\n",
       "      <td>Люси Мартин</td>\n",
       "      <td>Кайа Коли</td>\n",
       "      <td>Линкольн Льюис</td>\n",
       "    </tr>\n",
       "    <tr>\n",
       "      <th>composer_0</th>\n",
       "      <td>Крис Иган</td>\n",
       "      <td>Бэр Маккрири</td>\n",
       "      <td>Пол Сэундерсон</td>\n",
       "      <td>Дэвид Файндлей</td>\n",
       "      <td>Патрик Сэвадж</td>\n",
       "    </tr>\n",
       "    <tr>\n",
       "      <th>design_0</th>\n",
       "      <td>Флоран Масурель</td>\n",
       "      <td>Кевин Конран</td>\n",
       "      <td>Франсиско Родригес-Вейл</td>\n",
       "      <td>Арман Госпарини</td>\n",
       "      <td>Мэттью Путленд</td>\n",
       "    </tr>\n",
       "    <tr>\n",
       "      <th>design_1</th>\n",
       "      <td>NaN</td>\n",
       "      <td>Кевин Дарт</td>\n",
       "      <td>Анна Мулд</td>\n",
       "      <td>Эмили Мартинес</td>\n",
       "      <td>Даг Фрэнкс</td>\n",
       "    </tr>\n",
       "    <tr>\n",
       "      <th>design_2</th>\n",
       "      <td>NaN</td>\n",
       "      <td>Ричард Чэнь</td>\n",
       "      <td>Чарло Далли</td>\n",
       "      <td>Джина Руис</td>\n",
       "      <td>Анна Боргези</td>\n",
       "    </tr>\n",
       "    <tr>\n",
       "      <th>director_0</th>\n",
       "      <td>Теодор Ти</td>\n",
       "      <td>Крис Бэйли</td>\n",
       "      <td>Дэниэл Грэм</td>\n",
       "      <td>Джаред Кон</td>\n",
       "      <td>Софи Бэнкс-Колома</td>\n",
       "    </tr>\n",
       "    <tr>\n",
       "      <th>editor_0</th>\n",
       "      <td>Стефан Гарнье</td>\n",
       "      <td>Иван Биланкио</td>\n",
       "      <td>Люк Дулан</td>\n",
       "      <td>Тревор Мирош</td>\n",
       "      <td>Na</td>\n",
       "    </tr>\n",
       "    <tr>\n",
       "      <th>operator_0</th>\n",
       "      <td>Гийом Зиммер</td>\n",
       "      <td>Армен Мелконян</td>\n",
       "      <td>Бен Зирьяб</td>\n",
       "      <td>Брэндон Ли Кокс</td>\n",
       "      <td>Дональд МакЭлпайн</td>\n",
       "    </tr>\n",
       "    <tr>\n",
       "      <th>producer_0</th>\n",
       "      <td>Лоран Зэйтун</td>\n",
       "      <td>Джеймс Машелло</td>\n",
       "      <td>Дэвид Болл</td>\n",
       "      <td>Амар Балагган</td>\n",
       "      <td>Тара Моросс</td>\n",
       "    </tr>\n",
       "    <tr>\n",
       "      <th>producer_1</th>\n",
       "      <td>Ян Зеноу</td>\n",
       "      <td>Том Ортенберг</td>\n",
       "      <td>Джон Дженкс</td>\n",
       "      <td>Кори Лардж</td>\n",
       "      <td>Аластер Берлинэм</td>\n",
       "    </tr>\n",
       "    <tr>\n",
       "      <th>producer_2</th>\n",
       "      <td>Франсуа-Ксавье Обаг</td>\n",
       "      <td>Мэтью Сидари</td>\n",
       "      <td>П.Дж. Паркер</td>\n",
       "      <td>Росс Мразек</td>\n",
       "      <td>Тед Коури</td>\n",
       "    </tr>\n",
       "    <tr>\n",
       "      <th>producer_3</th>\n",
       "      <td>Валери д’Отей</td>\n",
       "      <td>Яр Ландау</td>\n",
       "      <td>Джо Симпсон</td>\n",
       "      <td>Бенжамин Раппапорт</td>\n",
       "      <td>С. Эстер Хорнштейн</td>\n",
       "    </tr>\n",
       "    <tr>\n",
       "      <th>producer_4</th>\n",
       "      <td>Жюльетт Фурнье</td>\n",
       "      <td>Адам Нэгл</td>\n",
       "      <td>Мэтт Хукингс</td>\n",
       "      <td>Марк Данон</td>\n",
       "      <td>Джейсон Кларк</td>\n",
       "    </tr>\n",
       "    <tr>\n",
       "      <th>writer_0</th>\n",
       "      <td>Лоран Зэйтун</td>\n",
       "      <td>Роберт Бен Гарант</td>\n",
       "      <td>Мэтт Хукингс</td>\n",
       "      <td>Джаред Кон</td>\n",
       "      <td>Джиндер Хо</td>\n",
       "    </tr>\n",
       "    <tr>\n",
       "      <th>writer_1</th>\n",
       "      <td>Дженника Харпер</td>\n",
       "      <td>Нэйт Хоппер</td>\n",
       "      <td>NaN</td>\n",
       "      <td>NaN</td>\n",
       "      <td>Джон Колли</td>\n",
       "    </tr>\n",
       "    <tr>\n",
       "      <th>country_0</th>\n",
       "      <td>canada</td>\n",
       "      <td>usa</td>\n",
       "      <td>great-britain</td>\n",
       "      <td>usa</td>\n",
       "      <td>usa</td>\n",
       "    </tr>\n",
       "    <tr>\n",
       "      <th>genre_0</th>\n",
       "      <td>Comedy</td>\n",
       "      <td>Action</td>\n",
       "      <td>0ef0aa70-f86c-4141-8054-8b39af97867d</td>\n",
       "      <td>Action</td>\n",
       "      <td>Action</td>\n",
       "    </tr>\n",
       "    <tr>\n",
       "      <th>genre_1</th>\n",
       "      <td>Adventure</td>\n",
       "      <td>Comedy</td>\n",
       "      <td>NaN</td>\n",
       "      <td>Thriller</td>\n",
       "      <td>Thriller</td>\n",
       "    </tr>\n",
       "    <tr>\n",
       "      <th>genre_2</th>\n",
       "      <td>Family</td>\n",
       "      <td>Family</td>\n",
       "      <td>NaN</td>\n",
       "      <td>NaN</td>\n",
       "      <td>NaN</td>\n",
       "    </tr>\n",
       "  </tbody>\n",
       "</table>\n",
       "</div>"
      ],
      "text/plain": [
       "                                   4                  13    \\\n",
       "age_access_type                       6                  6   \n",
       "type                              MOVIE              MOVIE   \n",
       "duration                      15.523889            15.5347   \n",
       "budget                              NaN                NaN   \n",
       "marketing                           NaN                NaN   \n",
       "rus                           14.405929                NaN   \n",
       "USA                                 NaN                NaN   \n",
       "world                         15.542443                NaN   \n",
       "rating                         9.282869             8.9459   \n",
       "has_oscar_actor                       0                  0   \n",
       "has_oscar_composer                    0                  0   \n",
       "has_oscar_design                      0                  0   \n",
       "has_oscar_director                    0                  0   \n",
       "has_oscar_editor                      0                  0   \n",
       "has_oscar_operator                    0                  0   \n",
       "has_oscar_producer                    0                  0   \n",
       "has_oscar_writer                      0                  0   \n",
       "img_name                    1172958.jpg         888154.jpg   \n",
       "actor_0                      Оливия Кук         Майкл Сера   \n",
       "actor_1                    Кеннет Брана  Сэмюэл Л. Джексон   \n",
       "actor_2                     Лори Холден      Рики Джервэйс   \n",
       "actor_3                   Уильям Шетнер       Кайли Куиока   \n",
       "actor_4                       Мара Жюно          Мэл Брукс   \n",
       "actor_5                      Уайлекс Ли       Джордж Такей   \n",
       "actor_6                 Райан В. Гарсиа  Габриэль Иглесиас   \n",
       "actor_7                       Алис Поль       Аасиф Мандви   \n",
       "actor_8                  Венсан Кассель       Джимон Хонсу   \n",
       "actor_9                 Валери Лемерсье         Мишель Йео   \n",
       "composer_0                    Крис Иган       Бэр Маккрири   \n",
       "design_0                Флоран Масурель       Кевин Конран   \n",
       "design_1                            NaN         Кевин Дарт   \n",
       "design_2                            NaN        Ричард Чэнь   \n",
       "director_0                    Теодор Ти         Крис Бэйли   \n",
       "editor_0                  Стефан Гарнье      Иван Биланкио   \n",
       "operator_0                 Гийом Зиммер     Армен Мелконян   \n",
       "producer_0                 Лоран Зэйтун     Джеймс Машелло   \n",
       "producer_1                     Ян Зеноу      Том Ортенберг   \n",
       "producer_2          Франсуа-Ксавье Обаг       Мэтью Сидари   \n",
       "producer_3                Валери д’Отей          Яр Ландау   \n",
       "producer_4               Жюльетт Фурнье          Адам Нэгл   \n",
       "writer_0                   Лоран Зэйтун  Роберт Бен Гарант   \n",
       "writer_1                Дженника Харпер        Нэйт Хоппер   \n",
       "country_0                        canada                usa   \n",
       "genre_0                          Comedy             Action   \n",
       "genre_1                       Adventure             Comedy   \n",
       "genre_2                          Family             Family   \n",
       "\n",
       "                                                    46                  1020  \\\n",
       "age_access_type                                       16                  16   \n",
       "type                                               MOVIE               MOVIE   \n",
       "duration                                       15.665539           15.566448   \n",
       "budget                                         15.894952                 NaN   \n",
       "marketing                                            NaN                 NaN   \n",
       "rus                                                  NaN                 NaN   \n",
       "USA                                                  NaN                 NaN   \n",
       "world                                                NaN           12.039197   \n",
       "rating                                          8.626496            5.504337   \n",
       "has_oscar_actor                                        0                   0   \n",
       "has_oscar_composer                                     0                   0   \n",
       "has_oscar_design                                       0                   0   \n",
       "has_oscar_director                                     0                   0   \n",
       "has_oscar_editor                                       0                   0   \n",
       "has_oscar_operator                                     0                   0   \n",
       "has_oscar_producer                                     0                   0   \n",
       "has_oscar_writer                                       0                   0   \n",
       "img_name                                      994920.jpg         4477993.jpg   \n",
       "actor_0                                     Мэтт Хукингс       Клайв Стэнден   \n",
       "actor_1                                      Рэй Уинстон           Тео Росси   \n",
       "actor_2                                      Рассел Кроу         Брюс Уиллис   \n",
       "actor_3                                     Мартон Чокаш         Томас Джейн   \n",
       "actor_4                                        Джоди Мэй         Майк Тайсон   \n",
       "actor_5                                   Джулиан Гловер       Лорен Бульоли   \n",
       "actor_6                                   Стивен Беркофф           Джеки Мур   \n",
       "actor_7                                        Глен Фокс        Мэдди Николс   \n",
       "actor_8                                      Рики Чаплин             Курт Юе   \n",
       "actor_9                                      Люси Мартин           Кайа Коли   \n",
       "composer_0                                Пол Сэундерсон      Дэвид Файндлей   \n",
       "design_0                         Франсиско Родригес-Вейл     Арман Госпарини   \n",
       "design_1                                       Анна Мулд      Эмили Мартинес   \n",
       "design_2                                     Чарло Далли          Джина Руис   \n",
       "director_0                                   Дэниэл Грэм          Джаред Кон   \n",
       "editor_0                                       Люк Дулан        Тревор Мирош   \n",
       "operator_0                                    Бен Зирьяб     Брэндон Ли Кокс   \n",
       "producer_0                                    Дэвид Болл       Амар Балагган   \n",
       "producer_1                                   Джон Дженкс          Кори Лардж   \n",
       "producer_2                                  П.Дж. Паркер         Росс Мразек   \n",
       "producer_3                                   Джо Симпсон  Бенжамин Раппапорт   \n",
       "producer_4                                  Мэтт Хукингс          Марк Данон   \n",
       "writer_0                                    Мэтт Хукингс          Джаред Кон   \n",
       "writer_1                                             NaN                 NaN   \n",
       "country_0                                  great-britain                 usa   \n",
       "genre_0             0ef0aa70-f86c-4141-8054-8b39af97867d              Action   \n",
       "genre_1                                              NaN            Thriller   \n",
       "genre_2                                              NaN                 NaN   \n",
       "\n",
       "                                  2190  \n",
       "age_access_type                     16  \n",
       "type                             MOVIE  \n",
       "duration                     15.479437  \n",
       "budget                             NaN  \n",
       "marketing                          NaN  \n",
       "rus                                NaN  \n",
       "USA                                NaN  \n",
       "world                        11.104145  \n",
       "rating                        6.411529  \n",
       "has_oscar_actor                      0  \n",
       "has_oscar_composer                   0  \n",
       "has_oscar_design                     0  \n",
       "has_oscar_director                   0  \n",
       "has_oscar_editor                     0  \n",
       "has_oscar_operator                   0  \n",
       "has_oscar_producer                   0  \n",
       "has_oscar_writer                     0  \n",
       "img_name                   4367671.jpg  \n",
       "actor_0                  Джейсон Кларк  \n",
       "actor_1                 Мишель Монахэн  \n",
       "actor_2                    Джай Кортни  \n",
       "actor_3                  Паллави Шарда  \n",
       "actor_4                    Феникс Раэй  \n",
       "actor_5                  Файсаль Баззи  \n",
       "actor_6                   Ули Латукефу  \n",
       "actor_7                  Логан Хаффман  \n",
       "actor_8                    Тодд Ласанс  \n",
       "actor_9                 Линкольн Льюис  \n",
       "composer_0               Патрик Сэвадж  \n",
       "design_0                Мэттью Путленд  \n",
       "design_1                    Даг Фрэнкс  \n",
       "design_2                  Анна Боргези  \n",
       "director_0           Софи Бэнкс-Колома  \n",
       "editor_0                            Na  \n",
       "operator_0           Дональд МакЭлпайн  \n",
       "producer_0                 Тара Моросс  \n",
       "producer_1            Аластер Берлинэм  \n",
       "producer_2                   Тед Коури  \n",
       "producer_3          С. Эстер Хорнштейн  \n",
       "producer_4               Джейсон Кларк  \n",
       "writer_0                    Джиндер Хо  \n",
       "writer_1                    Джон Колли  \n",
       "country_0                          usa  \n",
       "genre_0                         Action  \n",
       "genre_1                       Thriller  \n",
       "genre_2                            NaN  "
      ]
     },
     "execution_count": 68,
     "metadata": {},
     "output_type": "execute_result"
    }
   ],
   "source": [
    "test_pr.head().T"
   ]
  },
  {
   "cell_type": "code",
   "execution_count": 70,
   "metadata": {},
   "outputs": [
    {
     "data": {
      "text/plain": [
       "Index(['age_access_type', 'type', 'duration', 'budget', 'marketing', 'rus',\n",
       "       'USA', 'world', 'rating', 'has_oscar_actor', 'has_oscar_composer',\n",
       "       'has_oscar_design', 'has_oscar_director', 'has_oscar_editor',\n",
       "       'has_oscar_operator', 'has_oscar_producer', 'has_oscar_writer',\n",
       "       'img_name', 'actor_0', 'actor_1', 'actor_2', 'actor_3', 'actor_4',\n",
       "       'actor_5', 'actor_6', 'actor_7', 'actor_8', 'actor_9', 'composer_0',\n",
       "       'design_0', 'design_1', 'design_2', 'director_0', 'editor_0',\n",
       "       'operator_0', 'producer_0', 'producer_1', 'producer_2', 'producer_3',\n",
       "       'producer_4', 'writer_0', 'writer_1', 'country_0', 'genre_0', 'genre_1',\n",
       "       'genre_2'],\n",
       "      dtype='object')"
      ]
     },
     "execution_count": 70,
     "metadata": {},
     "output_type": "execute_result"
    }
   ],
   "source": [
    "test_pr.columns"
   ]
  },
  {
   "cell_type": "code",
   "execution_count": null,
   "metadata": {},
   "outputs": [],
   "source": []
  },
  {
   "cell_type": "code",
   "execution_count": null,
   "metadata": {},
   "outputs": [],
   "source": []
  },
  {
   "attachments": {},
   "cell_type": "markdown",
   "metadata": {},
   "source": [
    "# PyTorch"
   ]
  },
  {
   "cell_type": "code",
   "execution_count": 62,
   "metadata": {},
   "outputs": [
    {
     "name": "stdout",
     "output_type": "stream",
     "text": [
      "Collecting pytorch_lightning==1.5\n",
      "  Downloading pytorch_lightning-1.5.0-py3-none-any.whl (1.0 MB)\n",
      "\u001b[2K     \u001b[90m━━━━━━━━━━━━━━━━━━━━━━━━━━━━━━━━━━━━━━━━\u001b[0m \u001b[32m1.0/1.0 MB\u001b[0m \u001b[31m5.0 MB/s\u001b[0m eta \u001b[36m0:00:00\u001b[0ma \u001b[36m0:00:01\u001b[0m\n",
      "\u001b[?25hRequirement already satisfied: typing-extensions in /root/anaconda3/lib/python3.9/site-packages (from pytorch_lightning==1.5) (4.4.0)\n",
      "Requirement already satisfied: tqdm>=4.41.0 in /root/anaconda3/lib/python3.9/site-packages (from pytorch_lightning==1.5) (4.64.1)\n",
      "Requirement already satisfied: PyYAML>=5.1 in /root/anaconda3/lib/python3.9/site-packages (from pytorch_lightning==1.5) (5.4.1)\n",
      "Requirement already satisfied: torch>=1.6 in /root/anaconda3/lib/python3.9/site-packages (from pytorch_lightning==1.5) (1.13.1)\n",
      "Requirement already satisfied: fsspec[http]!=2021.06.0,>=2021.05.0 in /root/anaconda3/lib/python3.9/site-packages (from pytorch_lightning==1.5) (2022.11.0)\n",
      "Collecting tensorboard>=2.2.0\n",
      "  Downloading tensorboard-2.12.0-py3-none-any.whl (5.6 MB)\n",
      "\u001b[2K     \u001b[90m━━━━━━━━━━━━━━━━━━━━━━━━━━━━━━━━━━━━━━━━\u001b[0m \u001b[32m5.6/5.6 MB\u001b[0m \u001b[31m45.2 MB/s\u001b[0m eta \u001b[36m0:00:00\u001b[0m00:01\u001b[0m00:01\u001b[0m\n",
      "\u001b[?25hRequirement already satisfied: numpy>=1.17.2 in /root/anaconda3/lib/python3.9/site-packages (from pytorch_lightning==1.5) (1.22.3)\n",
      "Requirement already satisfied: torchmetrics>=0.4.1 in /root/anaconda3/lib/python3.9/site-packages (from pytorch_lightning==1.5) (0.11.4)\n",
      "Collecting pyDeprecate==0.3.1\n",
      "  Downloading pyDeprecate-0.3.1-py3-none-any.whl (10 kB)\n",
      "Requirement already satisfied: future>=0.17.1 in /root/anaconda3/lib/python3.9/site-packages (from pytorch_lightning==1.5) (0.18.2)\n",
      "Requirement already satisfied: packaging>=17.0 in /root/anaconda3/lib/python3.9/site-packages (from pytorch_lightning==1.5) (21.3)\n",
      "Requirement already satisfied: aiohttp!=4.0.0a0,!=4.0.0a1 in /root/anaconda3/lib/python3.9/site-packages (from fsspec[http]!=2021.06.0,>=2021.05.0->pytorch_lightning==1.5) (3.8.1)\n",
      "Requirement already satisfied: requests in /root/anaconda3/lib/python3.9/site-packages (from fsspec[http]!=2021.06.0,>=2021.05.0->pytorch_lightning==1.5) (2.27.1)\n",
      "Requirement already satisfied: pyparsing!=3.0.5,>=2.0.2 in /root/anaconda3/lib/python3.9/site-packages (from packaging>=17.0->pytorch_lightning==1.5) (3.0.7)\n",
      "Requirement already satisfied: wheel>=0.26 in /root/anaconda3/lib/python3.9/site-packages (from tensorboard>=2.2.0->pytorch_lightning==1.5) (0.37.1)\n",
      "Collecting google-auth-oauthlib<0.5,>=0.4.1\n",
      "  Using cached google_auth_oauthlib-0.4.6-py2.py3-none-any.whl (18 kB)\n",
      "Collecting protobuf>=3.19.6\n",
      "  Downloading protobuf-4.22.1-cp37-abi3-manylinux2014_x86_64.whl (302 kB)\n",
      "\u001b[2K     \u001b[90m━━━━━━━━━━━━━━━━━━━━━━━━━━━━━━━━━━━━━━\u001b[0m \u001b[32m302.4/302.4 kB\u001b[0m \u001b[31m48.8 MB/s\u001b[0m eta \u001b[36m0:00:00\u001b[0m\n",
      "\u001b[?25hRequirement already satisfied: markdown>=2.6.8 in /root/anaconda3/lib/python3.9/site-packages (from tensorboard>=2.2.0->pytorch_lightning==1.5) (3.3.4)\n",
      "Collecting grpcio>=1.48.2\n",
      "  Downloading grpcio-1.51.3-cp39-cp39-manylinux_2_17_x86_64.manylinux2014_x86_64.whl (4.8 MB)\n",
      "\u001b[2K     \u001b[90m━━━━━━━━━━━━━━━━━━━━━━━━━━━━━━━━━━━━━━━━\u001b[0m \u001b[32m4.8/4.8 MB\u001b[0m \u001b[31m69.0 MB/s\u001b[0m eta \u001b[36m0:00:00\u001b[0m00:01\u001b[0m:00:01\u001b[0m\n",
      "\u001b[?25hCollecting tensorboard-data-server<0.8.0,>=0.7.0\n",
      "  Downloading tensorboard_data_server-0.7.0-py3-none-manylinux2014_x86_64.whl (6.6 MB)\n",
      "\u001b[2K     \u001b[90m━━━━━━━━━━━━━━━━━━━━━━━━━━━━━━━━━━━━━━━━\u001b[0m \u001b[32m6.6/6.6 MB\u001b[0m \u001b[31m62.3 MB/s\u001b[0m eta \u001b[36m0:00:00\u001b[0m00:01\u001b[0m00:01\u001b[0mm\n",
      "\u001b[?25hRequirement already satisfied: absl-py>=0.4 in /root/anaconda3/lib/python3.9/site-packages (from tensorboard>=2.2.0->pytorch_lightning==1.5) (1.0.0)\n",
      "Requirement already satisfied: tensorboard-plugin-wit>=1.6.0 in /root/anaconda3/lib/python3.9/site-packages (from tensorboard>=2.2.0->pytorch_lightning==1.5) (1.8.1)\n",
      "Requirement already satisfied: werkzeug>=1.0.1 in /root/anaconda3/lib/python3.9/site-packages (from tensorboard>=2.2.0->pytorch_lightning==1.5) (2.0.2)\n",
      "Requirement already satisfied: setuptools>=41.0.0 in /root/anaconda3/lib/python3.9/site-packages (from tensorboard>=2.2.0->pytorch_lightning==1.5) (63.4.1)\n",
      "Collecting google-auth<3,>=1.6.3\n",
      "  Downloading google_auth-2.16.2-py2.py3-none-any.whl (177 kB)\n",
      "\u001b[2K     \u001b[90m━━━━━━━━━━━━━━━━━━━━━━━━━━━━━━━━━━━━━━\u001b[0m \u001b[32m177.2/177.2 kB\u001b[0m \u001b[31m28.9 MB/s\u001b[0m eta \u001b[36m0:00:00\u001b[0m\n",
      "\u001b[?25hRequirement already satisfied: nvidia-cuda-runtime-cu11==11.7.99 in /root/anaconda3/lib/python3.9/site-packages (from torch>=1.6->pytorch_lightning==1.5) (11.7.99)\n",
      "Requirement already satisfied: nvidia-cudnn-cu11==8.5.0.96 in /root/anaconda3/lib/python3.9/site-packages (from torch>=1.6->pytorch_lightning==1.5) (8.5.0.96)\n",
      "Requirement already satisfied: nvidia-cublas-cu11==11.10.3.66 in /root/anaconda3/lib/python3.9/site-packages (from torch>=1.6->pytorch_lightning==1.5) (11.10.3.66)\n",
      "Requirement already satisfied: nvidia-cuda-nvrtc-cu11==11.7.99 in /root/anaconda3/lib/python3.9/site-packages (from torch>=1.6->pytorch_lightning==1.5) (11.7.99)\n",
      "Requirement already satisfied: six in /root/anaconda3/lib/python3.9/site-packages (from absl-py>=0.4->tensorboard>=2.2.0->pytorch_lightning==1.5) (1.16.0)\n",
      "Requirement already satisfied: charset-normalizer<3.0,>=2.0 in /root/anaconda3/lib/python3.9/site-packages (from aiohttp!=4.0.0a0,!=4.0.0a1->fsspec[http]!=2021.06.0,>=2021.05.0->pytorch_lightning==1.5) (2.0.11)\n",
      "Requirement already satisfied: async-timeout<5.0,>=4.0.0a3 in /root/anaconda3/lib/python3.9/site-packages (from aiohttp!=4.0.0a0,!=4.0.0a1->fsspec[http]!=2021.06.0,>=2021.05.0->pytorch_lightning==1.5) (4.0.2)\n",
      "Requirement already satisfied: multidict<7.0,>=4.5 in /root/anaconda3/lib/python3.9/site-packages (from aiohttp!=4.0.0a0,!=4.0.0a1->fsspec[http]!=2021.06.0,>=2021.05.0->pytorch_lightning==1.5) (5.2.0)\n",
      "Requirement already satisfied: aiosignal>=1.1.2 in /root/anaconda3/lib/python3.9/site-packages (from aiohttp!=4.0.0a0,!=4.0.0a1->fsspec[http]!=2021.06.0,>=2021.05.0->pytorch_lightning==1.5) (1.3.1)\n",
      "Requirement already satisfied: attrs>=17.3.0 in /root/anaconda3/lib/python3.9/site-packages (from aiohttp!=4.0.0a0,!=4.0.0a1->fsspec[http]!=2021.06.0,>=2021.05.0->pytorch_lightning==1.5) (21.4.0)\n",
      "Requirement already satisfied: yarl<2.0,>=1.0 in /root/anaconda3/lib/python3.9/site-packages (from aiohttp!=4.0.0a0,!=4.0.0a1->fsspec[http]!=2021.06.0,>=2021.05.0->pytorch_lightning==1.5) (1.7.2)\n",
      "Requirement already satisfied: frozenlist>=1.1.1 in /root/anaconda3/lib/python3.9/site-packages (from aiohttp!=4.0.0a0,!=4.0.0a1->fsspec[http]!=2021.06.0,>=2021.05.0->pytorch_lightning==1.5) (1.3.0)\n",
      "Requirement already satisfied: rsa<5,>=3.1.4 in /root/anaconda3/lib/python3.9/site-packages (from google-auth<3,>=1.6.3->tensorboard>=2.2.0->pytorch_lightning==1.5) (4.7.2)\n",
      "Requirement already satisfied: cachetools<6.0,>=2.0.0 in /root/anaconda3/lib/python3.9/site-packages (from google-auth<3,>=1.6.3->tensorboard>=2.2.0->pytorch_lightning==1.5) (4.2.4)\n",
      "Requirement already satisfied: pyasn1-modules>=0.2.1 in /root/anaconda3/lib/python3.9/site-packages (from google-auth<3,>=1.6.3->tensorboard>=2.2.0->pytorch_lightning==1.5) (0.2.8)\n",
      "Collecting requests-oauthlib>=0.7.0\n",
      "  Using cached requests_oauthlib-1.3.1-py2.py3-none-any.whl (23 kB)\n",
      "Requirement already satisfied: urllib3<1.27,>=1.21.1 in /root/anaconda3/lib/python3.9/site-packages (from requests->fsspec[http]!=2021.06.0,>=2021.05.0->pytorch_lightning==1.5) (1.26.8)\n",
      "Requirement already satisfied: idna<4,>=2.5 in /root/anaconda3/lib/python3.9/site-packages (from requests->fsspec[http]!=2021.06.0,>=2021.05.0->pytorch_lightning==1.5) (3.3)\n",
      "Requirement already satisfied: certifi>=2017.4.17 in /root/anaconda3/lib/python3.9/site-packages (from requests->fsspec[http]!=2021.06.0,>=2021.05.0->pytorch_lightning==1.5) (2021.10.8)\n",
      "Requirement already satisfied: pyasn1<0.5.0,>=0.4.6 in /root/anaconda3/lib/python3.9/site-packages (from pyasn1-modules>=0.2.1->google-auth<3,>=1.6.3->tensorboard>=2.2.0->pytorch_lightning==1.5) (0.4.8)\n",
      "Requirement already satisfied: oauthlib>=3.0.0 in /root/anaconda3/lib/python3.9/site-packages (from requests-oauthlib>=0.7.0->google-auth-oauthlib<0.5,>=0.4.1->tensorboard>=2.2.0->pytorch_lightning==1.5) (3.2.0)\n",
      "Installing collected packages: tensorboard-data-server, pyDeprecate, protobuf, grpcio, requests-oauthlib, google-auth, google-auth-oauthlib, tensorboard, pytorch_lightning\n",
      "  Attempting uninstall: tensorboard-data-server\n",
      "    Found existing installation: tensorboard-data-server 0.6.1\n",
      "    Uninstalling tensorboard-data-server-0.6.1:\n",
      "      Successfully uninstalled tensorboard-data-server-0.6.1\n",
      "  Attempting uninstall: protobuf\n",
      "    Found existing installation: protobuf 3.19.4\n",
      "    Uninstalling protobuf-3.19.4:\n",
      "      Successfully uninstalled protobuf-3.19.4\n",
      "  Attempting uninstall: grpcio\n",
      "    Found existing installation: grpcio 1.43.0\n",
      "    Uninstalling grpcio-1.43.0:\n",
      "      Successfully uninstalled grpcio-1.43.0\n",
      "  Attempting uninstall: pytorch_lightning\n",
      "    Found existing installation: pytorch-lightning 1.9.4\n",
      "    Uninstalling pytorch-lightning-1.9.4:\n",
      "      Successfully uninstalled pytorch-lightning-1.9.4\n",
      "Successfully installed google-auth-2.16.2 google-auth-oauthlib-0.4.6 grpcio-1.51.3 protobuf-4.22.1 pyDeprecate-0.3.1 pytorch_lightning-1.5.0 requests-oauthlib-1.3.1 tensorboard-2.12.0 tensorboard-data-server-0.7.0\n",
      "\u001b[33mWARNING: Running pip as the 'root' user can result in broken permissions and conflicting behaviour with the system package manager. It is recommended to use a virtual environment instead: https://pip.pypa.io/warnings/venv\u001b[0m\u001b[33m\n",
      "\u001b[0m"
     ]
    }
   ],
   "source": [
    "!pip install pytorch_lightning==1.5"
   ]
  },
  {
   "cell_type": "code",
   "execution_count": 69,
   "metadata": {},
   "outputs": [],
   "source": [
    "import pandas as pd\n",
    "import numpy as np\n",
    "from PIL import Image\n",
    "\n",
    "import torch\n",
    "import torch.nn as nn\n",
    "from torch.utils.data import Dataset, DataLoader, random_split\n",
    "from torchvision import transforms\n",
    "\n",
    "import pytorch_lightning as pl\n",
    "from pytorch_lightning.loggers import TensorBoardLogger\n",
    "from pytorch_lightning.callbacks.early_stopping import EarlyStopping\n",
    "\n",
    "\n",
    "data_path = \"./data/\""
   ]
  },
  {
   "cell_type": "code",
   "execution_count": null,
   "metadata": {},
   "outputs": [],
   "source": [
    "class ImageDataset(Dataset):\n",
    "    \"\"\"Tabular and Image dataset.\"\"\"\n",
    "\n",
    "    def __init__(self, df, image_dir):\n",
    "        self.image_dir = image_dir\n",
    "        # self.pickle_file = pickle_file\n",
    "        self.tabular = df #pd.read_pickle(pickle_file)\n",
    "\n",
    "    def __len__(self):\n",
    "        return len(self.tabular)\n",
    "\n",
    "    def __getitem__(self, idx):\n",
    "        if torch.is_tensor(idx):\n",
    "            idx = idx.tolist()\n",
    "\n",
    "        tabular = self.tabular.iloc[idx, 0:]\n",
    "\n",
    "        y = tabular[\"rating\"]\n",
    "\n",
    "        image = Image.open(f\"{self.image_dir}/{tabular['img_name']}\")\n",
    "        image = np.array(image)\n",
    "        image = image[..., :3]\n",
    "\n",
    "        image = transforms.functional.to_tensor(image)\n",
    "\n",
    "        tabular = tabular[['age_access_type', 'type', 'duration', 'budget', 'marketing', 'rus',\n",
    "                            'USA', 'world', 'has_oscar_actor', 'has_oscar_composer',\n",
    "                            'has_oscar_design', 'has_oscar_director', 'has_oscar_editor',\n",
    "                            'has_oscar_operator', 'has_oscar_producer', 'has_oscar_writer',\n",
    "                            'actor_0', 'actor_1', 'actor_2', 'actor_3', 'actor_4',\n",
    "                            'actor_5', 'actor_6', 'actor_7', 'actor_8', 'actor_9', 'composer_0',\n",
    "                            'design_0', 'design_1', 'design_2', 'director_0', 'editor_0',\n",
    "                            'operator_0', 'producer_0', 'producer_1', 'producer_2', 'producer_3',\n",
    "                            'producer_4', 'writer_0', 'writer_1', 'country_0', 'genre_0', 'genre_1',\n",
    "                            'genre_2']]\n",
    "        tabular = tabular.tolist()\n",
    "        tabular = torch.FloatTensor(tabular)\n",
    "\n",
    "        return image, tabular, y"
   ]
  }
 ],
 "metadata": {
  "kernelspec": {
   "display_name": "base",
   "language": "python",
   "name": "python3"
  },
  "language_info": {
   "codemirror_mode": {
    "name": "ipython",
    "version": 3
   },
   "file_extension": ".py",
   "mimetype": "text/x-python",
   "name": "python",
   "nbconvert_exporter": "python",
   "pygments_lexer": "ipython3",
   "version": "3.9.13"
  },
  "orig_nbformat": 4,
  "vscode": {
   "interpreter": {
    "hash": "3dd32d9f94238ec8b0e4f79eabc9bcad10ffae3232487ad50a9b3a08094f8c66"
   }
  }
 },
 "nbformat": 4,
 "nbformat_minor": 2
}
